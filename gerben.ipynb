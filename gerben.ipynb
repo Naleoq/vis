{
 "cells": [
  {
   "cell_type": "code",
   "execution_count": 1,
   "metadata": {},
   "outputs": [
    {
     "name": "stderr",
     "output_type": "stream",
     "text": [
      "/opt/homebrew/lib/python3.12/site-packages/dash/dash.py:556: UserWarning:\n",
      "\n",
      "JupyterDash is deprecated, use Dash instead.\n",
      "See https://dash.plotly.com/dash-in-jupyter for more details.\n",
      "\n"
     ]
    },
    {
     "data": {
      "text/html": [
       "\n",
       "        <iframe\n",
       "            width=\"100%\"\n",
       "            height=\"650\"\n",
       "            src=\"http://127.0.0.1:8050/\"\n",
       "            frameborder=\"0\"\n",
       "            allowfullscreen\n",
       "            \n",
       "        ></iframe>\n",
       "        "
      ],
      "text/plain": [
       "<IPython.lib.display.IFrame at 0x11c3d8680>"
      ]
     },
     "metadata": {},
     "output_type": "display_data"
    },
    {
     "data": {
      "text/html": [
       "\n",
       "        <iframe\n",
       "            width=\"100%\"\n",
       "            height=\"650\"\n",
       "            src=\"http://127.0.0.1:8050/\"\n",
       "            frameborder=\"0\"\n",
       "            allowfullscreen\n",
       "            \n",
       "        ></iframe>\n",
       "        "
      ],
      "text/plain": [
       "<IPython.lib.display.IFrame at 0x10d3b3980>"
      ]
     },
     "metadata": {},
     "output_type": "display_data"
    }
   ],
   "source": [
    "import pandas as pd\n",
    "import plotly.express as px\n",
    "from dash import dcc, html, Input, Output\n",
    "from jupyter_dash import JupyterDash\n",
    "\n",
    "# Load your CSV file\n",
    "df = pd.read_csv('docs/owid-covid-data.csv')\n",
    "\n",
    "# Select relevant columns\n",
    "country_code_column = 'iso_code'\n",
    "gdp_per_capita_column = 'gdp_per_capita'\n",
    "vaccinations_column = 'total_vaccinations_per_hundred'\n",
    "\n",
    "# Extract relevant data\n",
    "data = df[[country_code_column, gdp_per_capita_column, vaccinations_column]].copy()\n",
    "\n",
    "# Ensure country codes are in uppercase (Plotly expects uppercase ISO codes)\n",
    "data['country_code'] = data[country_code_column].str.upper()\n",
    "\n",
    "# Drop rows where GDP per capita or vaccinations per hundred is NaN\n",
    "data.dropna(subset=[gdp_per_capita_column, vaccinations_column], inplace=True)\n",
    "\n",
    "# Define a custom color scale from light blue to deep blue\n",
    "custom_color_scale = [\n",
    "    [0, 'rgb(173, 216, 230)'],  # light blue\n",
    "    [1, 'rgb(0, 0, 139)']       # deep blue\n",
    "]\n",
    "\n",
    "# Initialize the Dash app\n",
    "app = JupyterDash(__name__)\n",
    "\n",
    "app.layout = html.Div([\n",
    "    dcc.Dropdown(\n",
    "        id='metric-dropdown',\n",
    "        options=[\n",
    "            {'label': 'GDP per Capita', 'value': gdp_per_capita_column},\n",
    "            {'label': 'Vaccinations per 100 Inhabitants', 'value': vaccinations_column}\n",
    "        ],\n",
    "        value=gdp_per_capita_column,\n",
    "        clearable=False\n",
    "    ),\n",
    "    dcc.Graph(id='choropleth-map')\n",
    "])\n",
    "\n",
    "@app.callback(\n",
    "    Output('choropleth-map', 'figure'),\n",
    "    Input('metric-dropdown', 'value')\n",
    ")\n",
    "def update_choropleth(selected_metric):\n",
    "    fig = px.choropleth(\n",
    "        data, \n",
    "        locations='country_code', \n",
    "        color=selected_metric,\n",
    "        hover_name='country_code',\n",
    "        hover_data={gdp_per_capita_column: True, vaccinations_column: True},\n",
    "        title=f'{selected_metric.replace(\"_\", \" \").title()} for 2021',\n",
    "        labels={selected_metric: selected_metric.replace(\"_\", \" \").title()},\n",
    "        color_continuous_scale=custom_color_scale,\n",
    "        range_color=(0, 60000) if selected_metric == gdp_per_capita_column else (0, 100)\n",
    "    )\n",
    "    return fig\n",
    "\n",
    "# Run the app in the notebook\n",
    "app.run_server(mode='inline')"
   ]
  }
 ],
 "metadata": {
  "kernelspec": {
   "display_name": "Python 3",
   "language": "python",
   "name": "python3"
  },
  "language_info": {
   "codemirror_mode": {
    "name": "ipython",
    "version": 3
   },
   "file_extension": ".py",
   "mimetype": "text/x-python",
   "name": "python",
   "nbconvert_exporter": "python",
   "pygments_lexer": "ipython3",
   "version": "3.12.4"
  }
 },
 "nbformat": 4,
 "nbformat_minor": 2
}
