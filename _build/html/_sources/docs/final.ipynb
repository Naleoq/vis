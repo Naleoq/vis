{
 "cells": [
  {
   "cell_type": "markdown",
   "metadata": {
    "tags": [
     "remove_input"
    ]
   },
   "source": [
    "\n",
    "## Influence of socio-economic factors on mortality rate of covid pandemic"
   ]
  },
  {
   "cell_type": "code",
   "execution_count": 53,
   "metadata": {
    "tags": [
     "remove_input"
    ]
   },
   "outputs": [
    {
     "data": {
      "text/html": [
       "<img src=\"https://www.nen.nl/media/db875ff6-3769-4f64-b75e-b2747a00bfa2_corona_covid19_GettyImages-1213090148_2.jpg\"/>"
      ],
      "text/plain": [
       "<IPython.core.display.Image object>"
      ]
     },
     "metadata": {},
     "output_type": "display_data"
    }
   ],
   "source": [
    "# Load image from link\n",
    "url = 'https://www.nen.nl/media/db875ff6-3769-4f64-b75e-b2747a00bfa2_corona_covid19_GettyImages-1213090148_2.jpg'\n",
    "\n",
    "# Display image from URL with smaller size and subtitle\n",
    "from IPython.display import Image, display\n",
    "\n",
    "\n",
    "# Create an Image instance with the URL\n",
    "image = Image(url=url)\n",
    "\n",
    "# Display the image and subtitle\n",
    "display(image)\n"
   ]
  },
  {
   "cell_type": "markdown",
   "metadata": {
    "tags": [
     "remove_input"
    ]
   },
   "source": [
    "### Introduction\n",
    "\n",
    "The COVID-19 pandemic was the most significant global health crisis of the 21st century, impacting countries worldwide. The virus not only strained healthcare systems but also disrupted economies and daily lives on a big scale. Governments were forced to implement drastic measures such as lockdowns, travel restrictions, and widespread testing to control the spread of the virus. Despite these efforts, the severity and duration of the pandemic's effects varied significantly between countries. Some countries managed to control the outbreak and recover relatively quickly, while others faced prolonged challenges and higher casualty rates. Understanding why some countries suffered less or recovered more quickly is crucial for developing effective countermeasures for future pandemics.\n",
    "\n",
    "This project aims to analyze the global impact of COVID-19 on health outcomes and how these outcomes were influenced by socioeconomic status. By examining datasets on COVID-19 case numbers, deaths, vaccination rates, and socioeconomic indicators such as GDP, we will explore how the pandemic has affected populations worldwide. Our analysis will focus on identifying patterns and correlations that can explain the diversity in casualty rates across different regions. \n",
    "\n",
    "By understanding the key factors that led to better outcomes in certain countries, strategies can be developed to ensure better preparation for future pandemics. This will be useful for building a more resilient global health system that's capable of protecting populations against future health crises. \n"
   ]
  },
  {
   "cell_type": "markdown",
   "metadata": {
    "tags": [
     "remove_input"
    ]
   },
   "source": [
    "### Dataset and Preprocessing\n",
    "\n",
    "The datasets that we use are the OWID Covid-19 dataset and the GDP per capita, PPP in US$ dataset. The Covid-19 dataset contains statistics on COVID-19 for every country, through the years 2020-2024. It has variables such as `Total_death` and `Total_cases`. The second dataset contains the GDP per capita in PPP in US$ per country per year. This means it contains the economic output in US dollars per inhabitant. PPP stands for purchasing power parity and it means the differences between countries have been normalized for differences in purchasing power, to make the comparisons more fair.\n",
    "The idea of the dataset is to give a reliable overview of the economic power of the countries per year.\n"
   ]
  },
  {
   "cell_type": "markdown",
   "metadata": {
    "tags": [
     "remove_input"
    ]
   },
   "source": [
    "### Perspective 1: \n",
    "*Countries with higher GDP and higher vaccination rates have managed the COVID-19 pandemic more effectively, resulting in lower mortality rates and better health outcomes despite high case numbers*\n",
    "\n",
    "\n",
    "#### Argument 1: \n",
    "Richer countries have better access to vaccines, higher vaccination rates lead to lower deaths to COVID\n",
    "\n",
    "Based on the plot below, you can see the relation between countries of the amount of fully vaccinated people against COVID-19 per 100 inhabitants and lower excess deaths per million inhabitants. With a correlation coefficient of ≈-0,5 (figure 1.1) this is a significant negative correlation that shows COVID vaccination correlates with lower excess deaths. \n",
    "\n",
    "On the second plot you can see the relation between the income of a country per inhabitant (in GDP per capita in US$ PPP) and again the amount of people fully vaccinated. For COVID-19, to be fully vaccinated means to have taken two vaccins. With a correlation coefficient of ≈0,6 this shows a significant correlation between the income of a country per inhabitant and more people vaccinated per 100. \n",
    "\n",
    "To measure the impact of the pandemic in terms of deaths, we have taken the excess mortality. This data compares the number of deaths during the COVID-19 pandemic compared to the deaths we would have expected had the pandemic not occurred. This is an estimated using a regression model that uses using deaths data from 2015-2019. The model accounts for seasonal variation and year-to-year trends in mortality. \n",
    "\n",
    "The advantage of using excess mortality instead of the registered COVID-19 deaths is that in addition to confirmed COVID-19 deaths it also captures the deaths that were not correctly diagnosed and reported. This means it accounts for countries with weak health systems and less robust data collection."
   ]
  },
  {
   "cell_type": "code",
   "execution_count": 116,
   "metadata": {
    "tags": [
     "remove_input"
    ]
   },
   "outputs": [
    {
     "data": {
      "application/vnd.plotly.v1+json": {
       "config": {
        "plotlyServerURL": "https://plot.ly"
       },
       "data": [
        {
         "hovertemplate": "<b>%{hovertext}</b><br><br>People fully vaccinated per hundred inhabitants=%{x}<br>Excess mortality cumulative per million inhabitants=%{y}<extra></extra>",
         "hovertext": [
          "Afghanistan",
          "Africa",
          "Albania",
          "Algeria",
          "American Samoa",
          "Andorra",
          "Angola",
          "Anguilla",
          "Antigua and Barbuda",
          "Argentina",
          "Armenia",
          "Aruba",
          "Asia",
          "Australia",
          "Austria",
          "Azerbaijan",
          "Bahamas",
          "Bahrain",
          "Bangladesh",
          "Barbados",
          "Belarus",
          "Belgium",
          "Belize",
          "Benin",
          "Bermuda",
          "Bhutan",
          "Bolivia",
          "Bonaire Sint Eustatius and Saba",
          "Bosnia and Herzegovina",
          "Botswana",
          "Brazil",
          "British Virgin Islands",
          "Brunei",
          "Bulgaria",
          "Burkina Faso",
          "Burundi",
          "Cambodia",
          "Cameroon",
          "Canada",
          "Cape Verde",
          "Cayman Islands",
          "Central African Republic",
          "Chad",
          "Chile",
          "China",
          "Colombia",
          "Comoros",
          "Congo",
          "Cook Islands",
          "Costa Rica",
          "Cote d'Ivoire",
          "Croatia",
          "Cuba",
          "Curacao",
          "Cyprus",
          "Czechia",
          "Democratic Republic of Congo",
          "Denmark",
          "Djibouti",
          "Dominica",
          "Dominican Republic",
          "Ecuador",
          "Egypt",
          "El Salvador",
          "England",
          "Equatorial Guinea",
          "Eritrea",
          "Estonia",
          "Eswatini",
          "Ethiopia",
          "Europe",
          "European Union",
          "Faeroe Islands",
          "Falkland Islands",
          "Fiji",
          "Finland",
          "France",
          "French Guiana",
          "French Polynesia",
          "Gabon",
          "Gambia",
          "Georgia",
          "Germany",
          "Ghana",
          "Gibraltar",
          "Greece",
          "Greenland",
          "Grenada",
          "Guadeloupe",
          "Guam",
          "Guatemala",
          "Guernsey",
          "Guinea",
          "Guinea-Bissau",
          "Guyana",
          "Haiti",
          "High income",
          "Honduras",
          "Hong Kong",
          "Hungary",
          "Iceland",
          "India",
          "Indonesia",
          "Iran",
          "Iraq",
          "Ireland",
          "Isle of Man",
          "Israel",
          "Italy",
          "Jamaica",
          "Japan",
          "Jersey",
          "Jordan",
          "Kazakhstan",
          "Kenya",
          "Kiribati",
          "Kosovo",
          "Kuwait",
          "Kyrgyzstan",
          "Laos",
          "Latvia",
          "Lebanon",
          "Lesotho",
          "Liberia",
          "Libya",
          "Liechtenstein",
          "Lithuania",
          "Low income",
          "Lower middle income",
          "Luxembourg",
          "Macao",
          "Madagascar",
          "Malawi",
          "Malaysia",
          "Maldives",
          "Mali",
          "Malta",
          "Marshall Islands",
          "Martinique",
          "Mauritania",
          "Mauritius",
          "Mayotte",
          "Mexico",
          "Micronesia (country)",
          "Moldova",
          "Monaco",
          "Mongolia",
          "Montenegro",
          "Montserrat",
          "Morocco",
          "Mozambique",
          "Myanmar",
          "Namibia",
          "Nauru",
          "Nepal",
          "Netherlands",
          "New Caledonia",
          "New Zealand",
          "Nicaragua",
          "Niger",
          "Nigeria",
          "Niue",
          "North America",
          "North Korea",
          "North Macedonia",
          "Northern Cyprus",
          "Northern Ireland",
          "Northern Mariana Islands",
          "Norway",
          "Oceania",
          "Oman",
          "Pakistan",
          "Palau",
          "Palestine",
          "Panama",
          "Papua New Guinea",
          "Paraguay",
          "Peru",
          "Philippines",
          "Pitcairn",
          "Poland",
          "Portugal",
          "Puerto Rico",
          "Qatar",
          "Reunion",
          "Romania",
          "Russia",
          "Rwanda",
          "Saint Barthelemy",
          "Saint Helena",
          "Saint Kitts and Nevis",
          "Saint Lucia",
          "Saint Martin (French part)",
          "Saint Pierre and Miquelon",
          "Saint Vincent and the Grenadines",
          "Samoa",
          "San Marino",
          "Sao Tome and Principe",
          "Saudi Arabia",
          "Scotland",
          "Senegal",
          "Serbia",
          "Seychelles",
          "Sierra Leone",
          "Singapore",
          "Sint Maarten (Dutch part)",
          "Slovakia",
          "Slovenia",
          "Solomon Islands",
          "Somalia",
          "South Africa",
          "South America",
          "South Korea",
          "South Sudan",
          "Spain",
          "Sri Lanka",
          "Sudan",
          "Suriname",
          "Sweden",
          "Switzerland",
          "Syria",
          "Taiwan",
          "Tajikistan",
          "Tanzania",
          "Thailand",
          "Timor",
          "Togo",
          "Tokelau",
          "Tonga",
          "Trinidad and Tobago",
          "Tunisia",
          "Turkey",
          "Turkmenistan",
          "Turks and Caicos Islands",
          "Tuvalu",
          "Uganda",
          "Ukraine",
          "United Arab Emirates",
          "United Kingdom",
          "United States",
          "United States Virgin Islands",
          "Upper middle income",
          "Uruguay",
          "Uzbekistan",
          "Vanuatu",
          "Vatican",
          "Venezuela",
          "Vietnam",
          "Wales",
          "Wallis and Futuna",
          "Western Sahara",
          "World",
          "Yemen",
          "Zambia",
          "Zimbabwe"
         ],
         "legendgroup": "",
         "marker": {
          "color": "#636efa",
          "opacity": 0.7,
          "symbol": "circle"
         },
         "mode": "markers",
         "name": "",
         "orientation": "v",
         "showlegend": false,
         "type": "scatter",
         "x": [
          26.15,
          27.47,
          44.68,
          14.43,
          null,
          66.99,
          23.19,
          65.33,
          66.53,
          76.48,
          35.45,
          78.89,
          72.11,
          82.7,
          74.73,
          46.94,
          40.4,
          83.33,
          73.41,
          55.03,
          66.42,
          78.61,
          54.59,
          20.54,
          74.22,
          86.61,
          50.4,
          null,
          26.17,
          54.22,
          81.22,
          58.28,
          99.32,
          30.59,
          14.71,
          0.22,
          87.11,
          9.78,
          82.52,
          52.05,
          88.09,
          34.68,
          20.45,
          90.27,
          89.35,
          71.09,
          47.45,
          10.96,
          86.4,
          82.82,
          41.41,
          55.84,
          89.22,
          52.29,
          72.1,
          65.69,
          6.92,
          80.09,
          26.5,
          42.14,
          54.07,
          78.97,
          36.12,
          68.56,
          75.84,
          12.78,
          null,
          64.93,
          28.47,
          29.75,
          66.02,
          72.73,
          76.99,
          null,
          68.89,
          78.44,
          78.38,
          null,
          60.75,
          10.77,
          16.79,
          34.08,
          76.23,
          27.43,
          126.89,
          73.6,
          68.17,
          31.07,
          null,
          null,
          39.38,
          83.23,
          23.77,
          17.16,
          47,
          2.05,
          74.03,
          55.19,
          90.64,
          62.28,
          77.82,
          67.12,
          62.63,
          66.08,
          17.85,
          80.88,
          79.38,
          65.18,
          81.2,
          26.3,
          83.22,
          73.86,
          40.39,
          54.72,
          20.05,
          56.3,
          46.29,
          78.32,
          20.53,
          69.36,
          70.57,
          43.98,
          40.16,
          70.36,
          18.05,
          null,
          68.36,
          21.44,
          57.62,
          null,
          91.87,
          6.84,
          15.16,
          81.14,
          73.52,
          11.83,
          88.38,
          null,
          null,
          32.46,
          83.74,
          null,
          64.19,
          null,
          32.81,
          null,
          64.02,
          45.43,
          44.23,
          62.78,
          55.96,
          50.84,
          20.49,
          67.65,
          78.75,
          66.98,
          63.5,
          79.81,
          85.36,
          20.25,
          27.39,
          83.71,
          65.41,
          null,
          40.03,
          81.78,
          71.72,
          null,
          74.61,
          61.86,
          66.62,
          55.71,
          null,
          33.85,
          71.75,
          3,
          52.06,
          83.54,
          63.97,
          100,
          56.76,
          86.7,
          null,
          105.75,
          null,
          41.28,
          54.54,
          67.32,
          null,
          null,
          56.63,
          30.56,
          null,
          null,
          30.25,
          79.88,
          70.15,
          45.72,
          66.47,
          78.41,
          7.83,
          47.71,
          76.22,
          40.03,
          90.74,
          60.32,
          45.68,
          57.66,
          35.12,
          35.94,
          35.13,
          76.72,
          85.6,
          20.25,
          85.62,
          67.57,
          17.71,
          38.49,
          71.95,
          null,
          10.06,
          86.33,
          51.95,
          44.69,
          74.6,
          58.93,
          16.45,
          116.38,
          72.06,
          46.82,
          51.74,
          62.31,
          45.41,
          66.24,
          82.24,
          27.43,
          38.17,
          103.72,
          75.19,
          69.15,
          null,
          78.5,
          84.79,
          51.14,
          40.31,
          null,
          52.88,
          87.29,
          77.97,
          58.59,
          null,
          63.25,
          2.25,
          42.74,
          29.11
         ],
         "xaxis": "x",
         "y": [
          null,
          null,
          5584.033,
          null,
          null,
          null,
          null,
          null,
          null,
          4093.7168,
          8041.9443,
          null,
          null,
          860.95984,
          2567.4922,
          3777.476,
          null,
          null,
          null,
          1115.5847,
          null,
          2334.513,
          1799.2278,
          null,
          null,
          302.12518,
          5224.8447,
          null,
          7126.2676,
          null,
          3766.5842,
          null,
          1141.643,
          10165.963,
          null,
          null,
          null,
          null,
          1425.4531,
          null,
          null,
          null,
          null,
          3062.9158,
          null,
          3685.9175,
          null,
          null,
          null,
          1557.2777,
          null,
          5691.9707,
          5055.155,
          null,
          1633.8895,
          4400.774,
          null,
          674.96173,
          null,
          null,
          732.1518,
          4453.4507,
          2995.0154,
          null,
          null,
          null,
          null,
          3296.8997,
          null,
          null,
          null,
          null,
          null,
          null,
          null,
          1876.0293,
          1838.4331,
          820.17816,
          null,
          null,
          null,
          6951.2085,
          2179.867,
          null,
          null,
          3676.6965,
          -1901.087,
          null,
          3655.2273,
          null,
          2937.703,
          null,
          null,
          null,
          null,
          null,
          null,
          null,
          2211.5774,
          4209.283,
          1134.6117,
          null,
          null,
          3064.1262,
          null,
          1475.1222,
          null,
          1355.961,
          4042.4768,
          1740.7622,
          859.76074,
          null,
          1475.2865,
          4240.0156,
          null,
          null,
          3184.0293,
          1601.9635,
          2132.5605,
          null,
          5195.8403,
          null,
          null,
          null,
          null,
          1392.4532,
          8358.042,
          null,
          null,
          -254.94089,
          955.43604,
          null,
          null,
          1283.008,
          null,
          null,
          1412.9197,
          null,
          3709.8113,
          null,
          1459.9711,
          1557.129,
          5406.936,
          null,
          5554.304,
          5897.344,
          211.21863,
          5335.188,
          null,
          null,
          null,
          null,
          null,
          null,
          null,
          2329.8594,
          1385.713,
          -83.27397,
          2574.0042,
          null,
          null,
          null,
          null,
          null,
          7957.563,
          null,
          null,
          null,
          1115.2445,
          null,
          958.5912,
          null,
          null,
          null,
          null,
          null,
          4039.5854,
          5901.3423,
          2245.341,
          null,
          4447.0317,
          2960.3176,
          2873.3135,
          519.2327,
          1163.2731,
          5864.237,
          8749.637,
          null,
          null,
          null,
          3804.4502,
          null,
          null,
          null,
          null,
          null,
          3935.8867,
          null,
          null,
          null,
          null,
          8464.412,
          -546.9737,
          null,
          972.3062,
          null,
          5343.658,
          2868.0427,
          null,
          null,
          4671.9834,
          null,
          1248.7174,
          null,
          2856.296,
          null,
          null,
          null,
          1389.8395,
          2023.9756,
          null,
          831.23376,
          1522.2466,
          null,
          2082.8452,
          null,
          null,
          null,
          null,
          null,
          2502.809,
          2693.9233,
          null,
          null,
          null,
          null,
          4533.106,
          null,
          2703.8328,
          3669.0347,
          null,
          null,
          2126.0981,
          1438.2264,
          null,
          null,
          null,
          null,
          null,
          null,
          null,
          null,
          null,
          null,
          null
         ],
         "yaxis": "y"
        },
        {
         "hovertemplate": "<b>OLS trendline</b><br>excess_mortality_cumulative_per_million = -60.9253 * people_fully_vaccinated_per_hundred + 7082.93<br>R<sup>2</sup>=0.255260<br><br>People fully vaccinated per hundred inhabitants=%{x}<br>Excess mortality cumulative per million inhabitants=%{y} <b>(trend)</b><extra></extra>",
         "legendgroup": "",
         "line": {
          "color": "darkblue"
         },
         "marker": {
          "color": "#636efa",
          "symbol": "circle"
         },
         "mode": "lines",
         "name": "",
         "showlegend": false,
         "type": "scatter",
         "x": [
          20.53,
          26.17,
          26.3,
          30.59,
          32.81,
          34.08,
          35.13,
          35.45,
          36.12,
          38.17,
          39.38,
          40.03,
          40.39,
          41.28,
          44.68,
          45.43,
          45.68,
          46.29,
          46.94,
          47.71,
          50.4,
          51.14,
          51.74,
          51.95,
          52.06,
          54.07,
          54.54,
          54.59,
          54.72,
          55.03,
          55.84,
          56.63,
          56.76,
          57.66,
          62.28,
          62.31,
          63.5,
          63.97,
          64.02,
          64.19,
          64.93,
          65.18,
          65.69,
          66.08,
          66.62,
          66.98,
          68.17,
          68.36,
          69.15,
          70.15,
          70.57,
          71.09,
          71.95,
          72.1,
          73.6,
          74.6,
          74.61,
          74.73,
          75.19,
          76.22,
          76.23,
          76.48,
          77.82,
          78.32,
          78.38,
          78.44,
          78.61,
          78.97,
          79.81,
          80.09,
          80.88,
          81.14,
          81.2,
          81.22,
          82.52,
          82.7,
          82.82,
          83.22,
          83.54,
          83.74,
          84.79,
          85.36,
          85.6,
          85.62,
          86.33,
          86.61,
          86.7,
          88.38,
          89.22,
          90.27,
          90.64,
          90.74,
          91.87,
          99.32,
          105.75
         ],
         "xaxis": "x",
         "y": [
          5832.13243485275,
          5488.514024021724,
          5480.593741502569,
          5219.224418370459,
          5083.970363043353,
          5006.595295356225,
          4942.623782701513,
          4923.127702654362,
          4882.307785055642,
          4757.411022253584,
          4683.691469575297,
          4644.090056979523,
          4622.156966926478,
          4567.933494295341,
          4360.787643794369,
          4315.0937061838595,
          4299.862393647023,
          4262.697991057143,
          4223.096578461369,
          4176.184135847912,
          4012.295212951555,
          3967.2105278425197,
          3930.6553777541126,
          3917.8610752231702,
          3911.159297706962,
          3788.699544910799,
          3760.064677341547,
          3757.018414834179,
          3749.098132315025,
          3730.211304769348,
          3680.861852149998,
          3632.7309045335955,
          3624.810622014441,
          3569.9778968818305,
          3288.5032412010964,
          3286.675483696676,
          3214.1744360213356,
          3185.5395684520836,
          3182.4933059447167,
          3172.136013419668,
          3127.051328310632,
          3111.8200157737956,
          3080.7481381986504,
          3056.9872906411856,
          3024.087655561619,
          3002.154565508575,
          2929.653517833234,
          2918.0777203052394,
          2869.946772688836,
          2809.0215225414913,
          2783.4329174796076,
          2751.7517874029872,
          2699.3560722762704,
          2690.2172847541697,
          2598.829409533152,
          2537.9041593858065,
          2537.2949068843327,
          2529.9838768666514,
          2501.9582617988726,
          2439.2052541471076,
          2438.596001645634,
          2423.3646891087974,
          2341.724853911356,
          2311.2622288376833,
          2307.6067138288427,
          2303.951198820002,
          2293.593906294953,
          2271.660816241909,
          2220.4836061181386,
          2203.424536076882,
          2155.2935884604804,
          2139.45302342217,
          2135.7975084133295,
          2134.579003410383,
          2055.376178218835,
          2044.409633192312,
          2037.0986031746315,
          2012.7285031156925,
          1993.2324230685417,
          1981.047373039074,
          1917.0758603843606,
          1882.3484678003742,
          1867.7264077650116,
          1866.507902762064,
          1823.2509751574498,
          1806.191905116193,
          1800.708632602932,
          1698.3542123553925,
          1647.1770022316232,
          1583.2054895769106,
          1560.6631470223929,
          1554.570622007659,
          1485.7250893411583,
          1031.8319757434392,
          640.0826172960105
         ],
         "yaxis": "y"
        },
        {
         "hovertemplate": "<b>%{hovertext}</b><br><br>People fully vaccinated per hundred inhabitants=%{x}<br>GDP per capita=%{y}<extra></extra>",
         "hovertext": [
          "Afghanistan",
          "Africa",
          "Albania",
          "Algeria",
          "American Samoa",
          "Andorra",
          "Angola",
          "Anguilla",
          "Antigua and Barbuda",
          "Argentina",
          "Armenia",
          "Aruba",
          "Asia",
          "Australia",
          "Austria",
          "Azerbaijan",
          "Bahamas",
          "Bahrain",
          "Bangladesh",
          "Barbados",
          "Belarus",
          "Belgium",
          "Belize",
          "Benin",
          "Bermuda",
          "Bhutan",
          "Bolivia",
          "Bonaire Sint Eustatius and Saba",
          "Bosnia and Herzegovina",
          "Botswana",
          "Brazil",
          "British Virgin Islands",
          "Brunei",
          "Bulgaria",
          "Burkina Faso",
          "Burundi",
          "Cambodia",
          "Cameroon",
          "Canada",
          "Cape Verde",
          "Cayman Islands",
          "Central African Republic",
          "Chad",
          "Chile",
          "China",
          "Colombia",
          "Comoros",
          "Congo",
          "Cook Islands",
          "Costa Rica",
          "Cote d'Ivoire",
          "Croatia",
          "Cuba",
          "Curacao",
          "Cyprus",
          "Czechia",
          "Democratic Republic of Congo",
          "Denmark",
          "Djibouti",
          "Dominica",
          "Dominican Republic",
          "Ecuador",
          "Egypt",
          "El Salvador",
          "England",
          "Equatorial Guinea",
          "Eritrea",
          "Estonia",
          "Eswatini",
          "Ethiopia",
          "Europe",
          "European Union",
          "Faeroe Islands",
          "Falkland Islands",
          "Fiji",
          "Finland",
          "France",
          "French Guiana",
          "French Polynesia",
          "Gabon",
          "Gambia",
          "Georgia",
          "Germany",
          "Ghana",
          "Gibraltar",
          "Greece",
          "Greenland",
          "Grenada",
          "Guadeloupe",
          "Guam",
          "Guatemala",
          "Guernsey",
          "Guinea",
          "Guinea-Bissau",
          "Guyana",
          "Haiti",
          "High income",
          "Honduras",
          "Hong Kong",
          "Hungary",
          "Iceland",
          "India",
          "Indonesia",
          "Iran",
          "Iraq",
          "Ireland",
          "Isle of Man",
          "Israel",
          "Italy",
          "Jamaica",
          "Japan",
          "Jersey",
          "Jordan",
          "Kazakhstan",
          "Kenya",
          "Kiribati",
          "Kosovo",
          "Kuwait",
          "Kyrgyzstan",
          "Laos",
          "Latvia",
          "Lebanon",
          "Lesotho",
          "Liberia",
          "Libya",
          "Liechtenstein",
          "Lithuania",
          "Low income",
          "Lower middle income",
          "Luxembourg",
          "Macao",
          "Madagascar",
          "Malawi",
          "Malaysia",
          "Maldives",
          "Mali",
          "Malta",
          "Marshall Islands",
          "Martinique",
          "Mauritania",
          "Mauritius",
          "Mayotte",
          "Mexico",
          "Micronesia (country)",
          "Moldova",
          "Monaco",
          "Mongolia",
          "Montenegro",
          "Montserrat",
          "Morocco",
          "Mozambique",
          "Myanmar",
          "Namibia",
          "Nauru",
          "Nepal",
          "Netherlands",
          "New Caledonia",
          "New Zealand",
          "Nicaragua",
          "Niger",
          "Nigeria",
          "Niue",
          "North America",
          "North Korea",
          "North Macedonia",
          "Northern Cyprus",
          "Northern Ireland",
          "Northern Mariana Islands",
          "Norway",
          "Oceania",
          "Oman",
          "Pakistan",
          "Palau",
          "Palestine",
          "Panama",
          "Papua New Guinea",
          "Paraguay",
          "Peru",
          "Philippines",
          "Pitcairn",
          "Poland",
          "Portugal",
          "Puerto Rico",
          "Qatar",
          "Reunion",
          "Romania",
          "Russia",
          "Rwanda",
          "Saint Barthelemy",
          "Saint Helena",
          "Saint Kitts and Nevis",
          "Saint Lucia",
          "Saint Martin (French part)",
          "Saint Pierre and Miquelon",
          "Saint Vincent and the Grenadines",
          "Samoa",
          "San Marino",
          "Sao Tome and Principe",
          "Saudi Arabia",
          "Scotland",
          "Senegal",
          "Serbia",
          "Seychelles",
          "Sierra Leone",
          "Singapore",
          "Sint Maarten (Dutch part)",
          "Slovakia",
          "Slovenia",
          "Solomon Islands",
          "Somalia",
          "South Africa",
          "South America",
          "South Korea",
          "South Sudan",
          "Spain",
          "Sri Lanka",
          "Sudan",
          "Suriname",
          "Sweden",
          "Switzerland",
          "Syria",
          "Taiwan",
          "Tajikistan",
          "Tanzania",
          "Thailand",
          "Timor",
          "Togo",
          "Tokelau",
          "Tonga",
          "Trinidad and Tobago",
          "Tunisia",
          "Turkey",
          "Turkmenistan",
          "Turks and Caicos Islands",
          "Tuvalu",
          "Uganda",
          "Ukraine",
          "United Arab Emirates",
          "United Kingdom",
          "United States",
          "United States Virgin Islands",
          "Upper middle income",
          "Uruguay",
          "Uzbekistan",
          "Vanuatu",
          "Vatican",
          "Venezuela",
          "Vietnam",
          "Wales",
          "Wallis and Futuna",
          "Western Sahara",
          "World",
          "Yemen",
          "Zambia",
          "Zimbabwe"
         ],
         "legendgroup": "",
         "marker": {
          "color": "#636efa",
          "opacity": 0.7,
          "symbol": "circle"
         },
         "mode": "markers",
         "name": "",
         "orientation": "v",
         "showlegend": false,
         "type": "scatter",
         "visible": false,
         "x": [
          26.15,
          27.47,
          44.68,
          14.43,
          null,
          66.99,
          23.19,
          65.33,
          66.53,
          76.48,
          35.45,
          78.89,
          72.11,
          82.7,
          74.73,
          46.94,
          40.4,
          83.33,
          73.41,
          55.03,
          66.42,
          78.61,
          54.59,
          20.54,
          74.22,
          86.61,
          50.4,
          null,
          26.17,
          54.22,
          81.22,
          58.28,
          99.32,
          30.59,
          14.71,
          0.22,
          87.11,
          9.78,
          82.52,
          52.05,
          88.09,
          34.68,
          20.45,
          90.27,
          89.35,
          71.09,
          47.45,
          10.96,
          86.4,
          82.82,
          41.41,
          55.84,
          89.22,
          52.29,
          72.1,
          65.69,
          6.92,
          80.09,
          26.5,
          42.14,
          54.07,
          78.97,
          36.12,
          68.56,
          75.84,
          12.78,
          null,
          64.93,
          28.47,
          29.75,
          66.02,
          72.73,
          76.99,
          null,
          68.89,
          78.44,
          78.38,
          null,
          60.75,
          10.77,
          16.79,
          34.08,
          76.23,
          27.43,
          126.89,
          73.6,
          68.17,
          31.07,
          null,
          null,
          39.38,
          83.23,
          23.77,
          17.16,
          47,
          2.05,
          74.03,
          55.19,
          90.64,
          62.28,
          77.82,
          67.12,
          62.63,
          66.08,
          17.85,
          80.88,
          79.38,
          65.18,
          81.2,
          26.3,
          83.22,
          73.86,
          40.39,
          54.72,
          20.05,
          56.3,
          46.29,
          78.32,
          20.53,
          69.36,
          70.57,
          43.98,
          40.16,
          70.36,
          18.05,
          null,
          68.36,
          21.44,
          57.62,
          null,
          91.87,
          6.84,
          15.16,
          81.14,
          73.52,
          11.83,
          88.38,
          null,
          null,
          32.46,
          83.74,
          null,
          64.19,
          null,
          32.81,
          null,
          64.02,
          45.43,
          44.23,
          62.78,
          55.96,
          50.84,
          20.49,
          67.65,
          78.75,
          66.98,
          63.5,
          79.81,
          85.36,
          20.25,
          27.39,
          83.71,
          65.41,
          null,
          40.03,
          81.78,
          71.72,
          null,
          74.61,
          61.86,
          66.62,
          55.71,
          null,
          33.85,
          71.75,
          3,
          52.06,
          83.54,
          63.97,
          100,
          56.76,
          86.7,
          null,
          105.75,
          null,
          41.28,
          54.54,
          67.32,
          null,
          null,
          56.63,
          30.56,
          null,
          null,
          30.25,
          79.88,
          70.15,
          45.72,
          66.47,
          78.41,
          7.83,
          47.71,
          76.22,
          40.03,
          90.74,
          60.32,
          45.68,
          57.66,
          35.12,
          35.94,
          35.13,
          76.72,
          85.6,
          20.25,
          85.62,
          67.57,
          17.71,
          38.49,
          71.95,
          null,
          10.06,
          86.33,
          51.95,
          44.69,
          74.6,
          58.93,
          16.45,
          116.38,
          72.06,
          46.82,
          51.74,
          62.31,
          45.41,
          66.24,
          82.24,
          27.43,
          38.17,
          103.72,
          75.19,
          69.15,
          null,
          78.5,
          84.79,
          51.14,
          40.31,
          null,
          52.88,
          87.29,
          77.97,
          58.59,
          null,
          63.25,
          2.25,
          42.74,
          29.11
         ],
         "xaxis": "x",
         "y": [
          1803.987,
          null,
          11803.431,
          13913.839,
          null,
          null,
          5819.495,
          null,
          21490.943,
          18933.907,
          8787.58,
          35973.781,
          null,
          44648.71,
          45436.686,
          15847.419,
          27717.847,
          43290.705,
          3523.984,
          16978.068,
          17167.967,
          42658.576,
          7824.362,
          2064.236,
          50669.315,
          8708.597,
          6885.829,
          null,
          11713.895,
          15807.374,
          14103.452,
          null,
          71809.251,
          18563.307,
          1703.102,
          702.225,
          3645.07,
          3364.926,
          44017.591,
          6222.554,
          49903.029,
          661.24,
          1768.153,
          22767.037,
          15308.712,
          13254.949,
          1413.89,
          4881.406,
          null,
          15524.995,
          3601.006,
          22669.797,
          null,
          null,
          32415.132,
          32605.906,
          808.133,
          46682.515,
          2705.406,
          9673.367,
          14600.861,
          10581.936,
          10550.206,
          7292.458,
          null,
          22604.873,
          1510.459,
          29481.252,
          7738.975,
          1729.927,
          null,
          null,
          null,
          null,
          8702.975,
          40585.721,
          38605.671,
          null,
          null,
          16562.413,
          1561.767,
          9745.079,
          45229.245,
          4227.63,
          null,
          24574.382,
          null,
          13593.877,
          null,
          null,
          7423.808,
          null,
          1998.926,
          1548.675,
          7435.047,
          1653.173,
          null,
          4541.795,
          56054.92,
          26777.561,
          46482.958,
          6426.674,
          11188.744,
          19082.62,
          15663.986,
          67335.293,
          null,
          33132.32,
          35220.084,
          8193.571,
          39002.223,
          null,
          8337.49,
          24055.588,
          2993.028,
          1981.132,
          9795.834,
          65530.537,
          3393.474,
          6397.36,
          25063.846,
          13367.565,
          2851.153,
          752.788,
          17881.509,
          null,
          29524.265,
          null,
          null,
          94277.965,
          104861.851,
          1416.44,
          1095.042,
          26808.164,
          15183.616,
          2014.306,
          36513.323,
          3819.202,
          null,
          3597.633,
          20292.745,
          null,
          17336.469,
          3299.464,
          5189.972,
          null,
          11840.846,
          16409.288,
          null,
          7485.013,
          1136.103,
          5591.597,
          9541.808,
          12895.635,
          2442.804,
          48472.545,
          null,
          36085.843,
          5321.444,
          926,
          5338.454,
          null,
          null,
          null,
          13111.214,
          null,
          null,
          null,
          64800.057,
          null,
          37960.709,
          5034.708,
          13240.405,
          4449.898,
          22267.037,
          3823.194,
          8827.01,
          12236.706,
          7599.188,
          null,
          27216.445,
          27936.896,
          35044.67,
          116935.6,
          null,
          23313.199,
          24765.954,
          1854.211,
          null,
          null,
          24654.385,
          12951.839,
          null,
          null,
          10727.146,
          6021.557,
          56861.47,
          3052.714,
          49045.411,
          null,
          2470.58,
          14048.881,
          26382.287,
          1390.3,
          85535.383,
          36327.232,
          30155.152,
          31400.84,
          2205.923,
          null,
          12294.876,
          null,
          35938.374,
          1569.888,
          34272.36,
          11669.077,
          4466.507,
          13767.119,
          46949.283,
          57410.166,
          null,
          null,
          2896.913,
          2683.304,
          16277.671,
          6570.102,
          1429.813,
          null,
          5425.621,
          28763.071,
          10849.297,
          25129.341,
          16389.023,
          null,
          3575.104,
          1697.707,
          7894.393,
          67293.483,
          39753.244,
          54225.446,
          null,
          null,
          20551.409,
          6253.104,
          2921.909,
          null,
          16745.022,
          6171.884,
          null,
          null,
          null,
          15469.207,
          1479.147,
          3689.251,
          1899.775
         ],
         "yaxis": "y"
        },
        {
         "hovertemplate": "<b>OLS trendline</b><br>gdp_per_capita = 482.463 * people_fully_vaccinated_per_hundred + -7137.81<br>R<sup>2</sup>=0.375337<br><br>People fully vaccinated per hundred inhabitants=%{x}<br>GDP per capita=%{y} <b>(trend)</b><extra></extra>",
         "legendgroup": "",
         "line": {
          "color": "darkblue"
         },
         "marker": {
          "color": "#636efa",
          "symbol": "circle"
         },
         "mode": "lines",
         "name": "",
         "showlegend": false,
         "type": "scatter",
         "visible": false,
         "x": [
          0.22,
          2.05,
          2.25,
          3,
          6.84,
          6.92,
          7.83,
          9.78,
          10.77,
          10.96,
          11.83,
          12.78,
          14.43,
          14.71,
          15.16,
          16.45,
          16.79,
          17.16,
          17.71,
          17.85,
          18.05,
          20.05,
          20.25,
          20.25,
          20.45,
          20.49,
          20.53,
          20.54,
          23.19,
          23.77,
          26.15,
          26.17,
          26.3,
          26.5,
          27.39,
          27.43,
          27.43,
          28.47,
          29.11,
          29.75,
          30.25,
          30.56,
          30.59,
          31.07,
          32.46,
          32.81,
          33.85,
          34.08,
          34.68,
          35.12,
          35.13,
          35.45,
          36.12,
          38.17,
          38.49,
          39.38,
          40.03,
          40.03,
          40.16,
          40.31,
          40.39,
          40.4,
          41.28,
          41.41,
          42.14,
          42.74,
          43.98,
          44.68,
          44.69,
          45.41,
          45.43,
          45.68,
          45.72,
          46.29,
          46.82,
          46.94,
          47,
          47.45,
          47.71,
          50.4,
          50.84,
          51.14,
          51.74,
          51.95,
          52.05,
          52.06,
          52.88,
          54.07,
          54.22,
          54.54,
          54.59,
          54.72,
          55.03,
          55.19,
          55.71,
          55.84,
          55.96,
          56.3,
          56.63,
          56.76,
          57.66,
          58.93,
          60.32,
          62.28,
          62.31,
          62.63,
          62.78,
          63.25,
          63.97,
          64.02,
          64.19,
          64.93,
          65.18,
          65.69,
          66.08,
          66.42,
          66.47,
          66.53,
          66.62,
          66.98,
          67.12,
          67.32,
          67.57,
          67.65,
          68.36,
          68.56,
          68.89,
          69.15,
          69.36,
          70.15,
          70.36,
          70.57,
          71.09,
          71.75,
          71.95,
          72.06,
          72.1,
          73.41,
          73.52,
          73.6,
          74.22,
          74.6,
          74.61,
          74.73,
          75.19,
          76.22,
          76.23,
          76.48,
          77.82,
          78.32,
          78.38,
          78.44,
          78.61,
          78.75,
          78.89,
          78.97,
          79.81,
          79.88,
          80.09,
          80.88,
          81.14,
          81.2,
          81.22,
          82.24,
          82.52,
          82.7,
          82.82,
          83.22,
          83.33,
          83.54,
          83.74,
          84.79,
          85.36,
          85.6,
          85.62,
          86.61,
          86.7,
          87.11,
          87.29,
          88.09,
          88.38,
          89.35,
          90.27,
          90.64,
          90.74,
          91.87,
          99.32,
          103.72,
          105.75
         ],
         "xaxis": "x",
         "y": [
          -7031.663659403674,
          -6148.757251260855,
          -6052.264747638688,
          -5690.417859055566,
          -3837.7617895099793,
          -3799.164788061113,
          -3360.1238965802577,
          -2419.32198626414,
          -1941.6840933344174,
          -1850.0162148933596,
          -1430.273824136938,
          -971.9344319316497,
          -175.87127704878003,
          -40.78177197774767,
          176.32636117212587,
          798.7030095350965,
          962.7402656927779,
          1141.2513973937857,
          1406.6057823547417,
          1474.1505348902592,
          1570.643038512424,
          2535.568074734085,
          2632.0605783562496,
          2632.0605783562496,
          2728.5530819784162,
          2747.8515827028477,
          2767.150083427283,
          2771.97470860839,
          4050.500381602091,
          4330.328642106371,
          5478.589435210146,
          5488.2386855723635,
          5550.958812926772,
          5647.451316548937,
          6076.842957667575,
          6096.141458392009,
          6096.141458392009,
          6597.902477227271,
          6906.678488818203,
          7215.454500409134,
          7456.68575946455,
          7606.249140078906,
          7620.723015622232,
          7852.30502431543,
          8522.927924489484,
          8691.789805828275,
          9193.550824663538,
          9304.517203829027,
          9593.994714695526,
          9806.27822266429,
          9811.1028478454,
          9965.490853640867,
          10288.740740775122,
          11277.788902902323,
          11432.17690869779,
          11861.56854981643,
          12175.169186588466,
          12175.169186588466,
          12237.889313942871,
          12310.258691659501,
          12348.855693108364,
          12353.680318289471,
          12778.247334227004,
          12840.96746158141,
          13193.165099802316,
          13482.642610668818,
          14080.896133126242,
          14418.619895803824,
          14423.444520984931,
          14770.81753402473,
          14780.466784386948,
          14901.082413914655,
          14920.380914639087,
          15195.38454996226,
          15451.089684561002,
          15508.9851867343,
          15537.93293782095,
          15755.041070970825,
          15880.481325679639,
          17178.30549939777,
          17390.589007366536,
          17535.32776279979,
          17824.805273666287,
          17926.122402469562,
          17974.36865428064,
          17979.193279461753,
          18374.812544312634,
          18948.942940864516,
          19021.312318581142,
          19175.70032437661,
          19199.82345028215,
          19262.543577636556,
          19412.106958250915,
          19489.30096114865,
          19740.181470566276,
          19802.90159792069,
          19860.797100093987,
          20024.834356251667,
          20184.04698722824,
          20246.767114582653,
          20680.983380882397,
          21293.71077888315,
          21964.333679057207,
          22909.960214554434,
          22924.434090097755,
          23078.82209589322,
          23151.191473609848,
          23377.94885712194,
          23725.321870161737,
          23749.444996067272,
          23831.46362414612,
          24188.485887548137,
          24309.10151707584,
          24555.15740131236,
          24743.317783375584,
          24907.35503953327,
          24931.478165438806,
          24960.425916525463,
          25003.84754315544,
          25177.534049675334,
          25245.078802210854,
          25341.571305833015,
          25462.186935360718,
          25500.78393680959,
          25843.332324668278,
          25939.824828290446,
          26099.03745926702,
          26224.477713975837,
          26325.794842779105,
          26706.940232086665,
          26808.257360889933,
          26909.57448969321,
          27160.454999110843,
          27478.88026106399,
          27575.37276468616,
          27628.44364167835,
          27647.742142402778,
          28279.768041127965,
          28332.838918120156,
          28371.43591956902,
          28670.56268079774,
          28853.898437679854,
          28858.72306286096,
          28916.618565034267,
          29138.551323365245,
          29635.4877170194,
          29640.31234220051,
          29760.92797172822,
          30407.427745996727,
          30648.65900505214,
          30677.60675613879,
          30706.55450722544,
          30788.573135304287,
          30856.1178878398,
          30923.662640375318,
          30962.25964182418,
          31367.528157037283,
          31401.30053330504,
          31502.617662108314,
          31883.763051415866,
          32009.203306124684,
          32038.151057211333,
          32047.800307573547,
          32539.912076046596,
          32675.001581117627,
          32761.84483437758,
          32819.74033655087,
          33012.72534379521,
          33065.7962207874,
          33167.113349590676,
          33263.60585321284,
          33770.191497229214,
          34045.195132552384,
          34160.98613689898,
          34170.6353872612,
          34648.27328019092,
          34691.6949068209,
          34889.504539246336,
          34976.34779250629,
          35362.31780699495,
          35502.23193724709,
          35970.220579814595,
          36414.08609647656,
          36592.59722817757,
          36640.843479988645,
          37186.02612545389,
          40780.371885379565,
          42903.20696506722,
          43882.60587683221
         ],
         "yaxis": "y"
        }
       ],
       "layout": {
        "annotations": [
         {
          "align": "center",
          "font": {
           "size": 14
          },
          "showarrow": false,
          "text": "Figure 1.1",
          "x": 1,
          "xref": "paper",
          "y": -0.2,
          "yref": "paper"
         }
        ],
        "template": {
         "data": {
          "bar": [
           {
            "error_x": {
             "color": "#2a3f5f"
            },
            "error_y": {
             "color": "#2a3f5f"
            },
            "marker": {
             "line": {
              "color": "#E5ECF6",
              "width": 0.5
             },
             "pattern": {
              "fillmode": "overlay",
              "size": 10,
              "solidity": 0.2
             }
            },
            "type": "bar"
           }
          ],
          "barpolar": [
           {
            "marker": {
             "line": {
              "color": "#E5ECF6",
              "width": 0.5
             },
             "pattern": {
              "fillmode": "overlay",
              "size": 10,
              "solidity": 0.2
             }
            },
            "type": "barpolar"
           }
          ],
          "carpet": [
           {
            "aaxis": {
             "endlinecolor": "#2a3f5f",
             "gridcolor": "white",
             "linecolor": "white",
             "minorgridcolor": "white",
             "startlinecolor": "#2a3f5f"
            },
            "baxis": {
             "endlinecolor": "#2a3f5f",
             "gridcolor": "white",
             "linecolor": "white",
             "minorgridcolor": "white",
             "startlinecolor": "#2a3f5f"
            },
            "type": "carpet"
           }
          ],
          "choropleth": [
           {
            "colorbar": {
             "outlinewidth": 0,
             "ticks": ""
            },
            "type": "choropleth"
           }
          ],
          "contour": [
           {
            "colorbar": {
             "outlinewidth": 0,
             "ticks": ""
            },
            "colorscale": [
             [
              0,
              "#0d0887"
             ],
             [
              0.1111111111111111,
              "#46039f"
             ],
             [
              0.2222222222222222,
              "#7201a8"
             ],
             [
              0.3333333333333333,
              "#9c179e"
             ],
             [
              0.4444444444444444,
              "#bd3786"
             ],
             [
              0.5555555555555556,
              "#d8576b"
             ],
             [
              0.6666666666666666,
              "#ed7953"
             ],
             [
              0.7777777777777778,
              "#fb9f3a"
             ],
             [
              0.8888888888888888,
              "#fdca26"
             ],
             [
              1,
              "#f0f921"
             ]
            ],
            "type": "contour"
           }
          ],
          "contourcarpet": [
           {
            "colorbar": {
             "outlinewidth": 0,
             "ticks": ""
            },
            "type": "contourcarpet"
           }
          ],
          "heatmap": [
           {
            "colorbar": {
             "outlinewidth": 0,
             "ticks": ""
            },
            "colorscale": [
             [
              0,
              "#0d0887"
             ],
             [
              0.1111111111111111,
              "#46039f"
             ],
             [
              0.2222222222222222,
              "#7201a8"
             ],
             [
              0.3333333333333333,
              "#9c179e"
             ],
             [
              0.4444444444444444,
              "#bd3786"
             ],
             [
              0.5555555555555556,
              "#d8576b"
             ],
             [
              0.6666666666666666,
              "#ed7953"
             ],
             [
              0.7777777777777778,
              "#fb9f3a"
             ],
             [
              0.8888888888888888,
              "#fdca26"
             ],
             [
              1,
              "#f0f921"
             ]
            ],
            "type": "heatmap"
           }
          ],
          "heatmapgl": [
           {
            "colorbar": {
             "outlinewidth": 0,
             "ticks": ""
            },
            "colorscale": [
             [
              0,
              "#0d0887"
             ],
             [
              0.1111111111111111,
              "#46039f"
             ],
             [
              0.2222222222222222,
              "#7201a8"
             ],
             [
              0.3333333333333333,
              "#9c179e"
             ],
             [
              0.4444444444444444,
              "#bd3786"
             ],
             [
              0.5555555555555556,
              "#d8576b"
             ],
             [
              0.6666666666666666,
              "#ed7953"
             ],
             [
              0.7777777777777778,
              "#fb9f3a"
             ],
             [
              0.8888888888888888,
              "#fdca26"
             ],
             [
              1,
              "#f0f921"
             ]
            ],
            "type": "heatmapgl"
           }
          ],
          "histogram": [
           {
            "marker": {
             "pattern": {
              "fillmode": "overlay",
              "size": 10,
              "solidity": 0.2
             }
            },
            "type": "histogram"
           }
          ],
          "histogram2d": [
           {
            "colorbar": {
             "outlinewidth": 0,
             "ticks": ""
            },
            "colorscale": [
             [
              0,
              "#0d0887"
             ],
             [
              0.1111111111111111,
              "#46039f"
             ],
             [
              0.2222222222222222,
              "#7201a8"
             ],
             [
              0.3333333333333333,
              "#9c179e"
             ],
             [
              0.4444444444444444,
              "#bd3786"
             ],
             [
              0.5555555555555556,
              "#d8576b"
             ],
             [
              0.6666666666666666,
              "#ed7953"
             ],
             [
              0.7777777777777778,
              "#fb9f3a"
             ],
             [
              0.8888888888888888,
              "#fdca26"
             ],
             [
              1,
              "#f0f921"
             ]
            ],
            "type": "histogram2d"
           }
          ],
          "histogram2dcontour": [
           {
            "colorbar": {
             "outlinewidth": 0,
             "ticks": ""
            },
            "colorscale": [
             [
              0,
              "#0d0887"
             ],
             [
              0.1111111111111111,
              "#46039f"
             ],
             [
              0.2222222222222222,
              "#7201a8"
             ],
             [
              0.3333333333333333,
              "#9c179e"
             ],
             [
              0.4444444444444444,
              "#bd3786"
             ],
             [
              0.5555555555555556,
              "#d8576b"
             ],
             [
              0.6666666666666666,
              "#ed7953"
             ],
             [
              0.7777777777777778,
              "#fb9f3a"
             ],
             [
              0.8888888888888888,
              "#fdca26"
             ],
             [
              1,
              "#f0f921"
             ]
            ],
            "type": "histogram2dcontour"
           }
          ],
          "mesh3d": [
           {
            "colorbar": {
             "outlinewidth": 0,
             "ticks": ""
            },
            "type": "mesh3d"
           }
          ],
          "parcoords": [
           {
            "line": {
             "colorbar": {
              "outlinewidth": 0,
              "ticks": ""
             }
            },
            "type": "parcoords"
           }
          ],
          "pie": [
           {
            "automargin": true,
            "type": "pie"
           }
          ],
          "scatter": [
           {
            "fillpattern": {
             "fillmode": "overlay",
             "size": 10,
             "solidity": 0.2
            },
            "type": "scatter"
           }
          ],
          "scatter3d": [
           {
            "line": {
             "colorbar": {
              "outlinewidth": 0,
              "ticks": ""
             }
            },
            "marker": {
             "colorbar": {
              "outlinewidth": 0,
              "ticks": ""
             }
            },
            "type": "scatter3d"
           }
          ],
          "scattercarpet": [
           {
            "marker": {
             "colorbar": {
              "outlinewidth": 0,
              "ticks": ""
             }
            },
            "type": "scattercarpet"
           }
          ],
          "scattergeo": [
           {
            "marker": {
             "colorbar": {
              "outlinewidth": 0,
              "ticks": ""
             }
            },
            "type": "scattergeo"
           }
          ],
          "scattergl": [
           {
            "marker": {
             "colorbar": {
              "outlinewidth": 0,
              "ticks": ""
             }
            },
            "type": "scattergl"
           }
          ],
          "scattermapbox": [
           {
            "marker": {
             "colorbar": {
              "outlinewidth": 0,
              "ticks": ""
             }
            },
            "type": "scattermapbox"
           }
          ],
          "scatterpolar": [
           {
            "marker": {
             "colorbar": {
              "outlinewidth": 0,
              "ticks": ""
             }
            },
            "type": "scatterpolar"
           }
          ],
          "scatterpolargl": [
           {
            "marker": {
             "colorbar": {
              "outlinewidth": 0,
              "ticks": ""
             }
            },
            "type": "scatterpolargl"
           }
          ],
          "scatterternary": [
           {
            "marker": {
             "colorbar": {
              "outlinewidth": 0,
              "ticks": ""
             }
            },
            "type": "scatterternary"
           }
          ],
          "surface": [
           {
            "colorbar": {
             "outlinewidth": 0,
             "ticks": ""
            },
            "colorscale": [
             [
              0,
              "#0d0887"
             ],
             [
              0.1111111111111111,
              "#46039f"
             ],
             [
              0.2222222222222222,
              "#7201a8"
             ],
             [
              0.3333333333333333,
              "#9c179e"
             ],
             [
              0.4444444444444444,
              "#bd3786"
             ],
             [
              0.5555555555555556,
              "#d8576b"
             ],
             [
              0.6666666666666666,
              "#ed7953"
             ],
             [
              0.7777777777777778,
              "#fb9f3a"
             ],
             [
              0.8888888888888888,
              "#fdca26"
             ],
             [
              1,
              "#f0f921"
             ]
            ],
            "type": "surface"
           }
          ],
          "table": [
           {
            "cells": {
             "fill": {
              "color": "#EBF0F8"
             },
             "line": {
              "color": "white"
             }
            },
            "header": {
             "fill": {
              "color": "#C8D4E3"
             },
             "line": {
              "color": "white"
             }
            },
            "type": "table"
           }
          ]
         },
         "layout": {
          "annotationdefaults": {
           "arrowcolor": "#2a3f5f",
           "arrowhead": 0,
           "arrowwidth": 1
          },
          "autotypenumbers": "strict",
          "coloraxis": {
           "colorbar": {
            "outlinewidth": 0,
            "ticks": ""
           }
          },
          "colorscale": {
           "diverging": [
            [
             0,
             "#8e0152"
            ],
            [
             0.1,
             "#c51b7d"
            ],
            [
             0.2,
             "#de77ae"
            ],
            [
             0.3,
             "#f1b6da"
            ],
            [
             0.4,
             "#fde0ef"
            ],
            [
             0.5,
             "#f7f7f7"
            ],
            [
             0.6,
             "#e6f5d0"
            ],
            [
             0.7,
             "#b8e186"
            ],
            [
             0.8,
             "#7fbc41"
            ],
            [
             0.9,
             "#4d9221"
            ],
            [
             1,
             "#276419"
            ]
           ],
           "sequential": [
            [
             0,
             "#0d0887"
            ],
            [
             0.1111111111111111,
             "#46039f"
            ],
            [
             0.2222222222222222,
             "#7201a8"
            ],
            [
             0.3333333333333333,
             "#9c179e"
            ],
            [
             0.4444444444444444,
             "#bd3786"
            ],
            [
             0.5555555555555556,
             "#d8576b"
            ],
            [
             0.6666666666666666,
             "#ed7953"
            ],
            [
             0.7777777777777778,
             "#fb9f3a"
            ],
            [
             0.8888888888888888,
             "#fdca26"
            ],
            [
             1,
             "#f0f921"
            ]
           ],
           "sequentialminus": [
            [
             0,
             "#0d0887"
            ],
            [
             0.1111111111111111,
             "#46039f"
            ],
            [
             0.2222222222222222,
             "#7201a8"
            ],
            [
             0.3333333333333333,
             "#9c179e"
            ],
            [
             0.4444444444444444,
             "#bd3786"
            ],
            [
             0.5555555555555556,
             "#d8576b"
            ],
            [
             0.6666666666666666,
             "#ed7953"
            ],
            [
             0.7777777777777778,
             "#fb9f3a"
            ],
            [
             0.8888888888888888,
             "#fdca26"
            ],
            [
             1,
             "#f0f921"
            ]
           ]
          },
          "colorway": [
           "#636efa",
           "#EF553B",
           "#00cc96",
           "#ab63fa",
           "#FFA15A",
           "#19d3f3",
           "#FF6692",
           "#B6E880",
           "#FF97FF",
           "#FECB52"
          ],
          "font": {
           "color": "#2a3f5f"
          },
          "geo": {
           "bgcolor": "white",
           "lakecolor": "white",
           "landcolor": "#E5ECF6",
           "showlakes": true,
           "showland": true,
           "subunitcolor": "white"
          },
          "hoverlabel": {
           "align": "left"
          },
          "hovermode": "closest",
          "mapbox": {
           "style": "light"
          },
          "paper_bgcolor": "white",
          "plot_bgcolor": "#E5ECF6",
          "polar": {
           "angularaxis": {
            "gridcolor": "white",
            "linecolor": "white",
            "ticks": ""
           },
           "bgcolor": "#E5ECF6",
           "radialaxis": {
            "gridcolor": "white",
            "linecolor": "white",
            "ticks": ""
           }
          },
          "scene": {
           "xaxis": {
            "backgroundcolor": "#E5ECF6",
            "gridcolor": "white",
            "gridwidth": 2,
            "linecolor": "white",
            "showbackground": true,
            "ticks": "",
            "zerolinecolor": "white"
           },
           "yaxis": {
            "backgroundcolor": "#E5ECF6",
            "gridcolor": "white",
            "gridwidth": 2,
            "linecolor": "white",
            "showbackground": true,
            "ticks": "",
            "zerolinecolor": "white"
           },
           "zaxis": {
            "backgroundcolor": "#E5ECF6",
            "gridcolor": "white",
            "gridwidth": 2,
            "linecolor": "white",
            "showbackground": true,
            "ticks": "",
            "zerolinecolor": "white"
           }
          },
          "shapedefaults": {
           "line": {
            "color": "#2a3f5f"
           }
          },
          "ternary": {
           "aaxis": {
            "gridcolor": "white",
            "linecolor": "white",
            "ticks": ""
           },
           "baxis": {
            "gridcolor": "white",
            "linecolor": "white",
            "ticks": ""
           },
           "bgcolor": "#E5ECF6",
           "caxis": {
            "gridcolor": "white",
            "linecolor": "white",
            "ticks": ""
           }
          },
          "title": {
           "x": 0.05
          },
          "xaxis": {
           "automargin": true,
           "gridcolor": "white",
           "linecolor": "white",
           "ticks": "",
           "title": {
            "standoff": 15
           },
           "zerolinecolor": "white",
           "zerolinewidth": 2
          },
          "yaxis": {
           "automargin": true,
           "gridcolor": "white",
           "linecolor": "white",
           "ticks": "",
           "title": {
            "standoff": 15
           },
           "zerolinecolor": "white",
           "zerolinewidth": 2
          }
         }
        },
        "title": {
         "text": "Excess mortality vs. People fully vaccinated, per country for 2022"
        },
        "updatemenus": [
         {
          "buttons": [
           {
            "args": [
             {
              "visible": [
               true,
               true,
               false,
               false
              ]
             },
             {
              "title": "Excess mortality vs. People fully vaccinated, per country for 2022",
              "xaxis": {
               "range": [
                18,
                110
               ],
               "title": "People fully vaccinated per hundred inhabitants"
              },
              "yaxis": {
               "title": "Excess mortality cumulative per million inhabitants"
              }
             }
            ],
            "label": "Excess deaths vs Vaccinations",
            "method": "update"
           },
           {
            "args": [
             {
              "visible": [
               false,
               false,
               true,
               true
              ]
             },
             {
              "title": "GDP per capita vs. People fully vaccinated, per country for 2022",
              "xaxis": {
               "range": [
                0,
                110
               ],
               "title": "People fully vaccinated per hundred inhabitants"
              },
              "yaxis": {
               "title": "GDP per capita"
              }
             }
            ],
            "label": "GDP per capita vs Vaccinations",
            "method": "update"
           }
          ],
          "direction": "left",
          "pad": {
           "r": 10,
           "t": 10
          },
          "showactive": true,
          "type": "buttons",
          "x": 0.57,
          "xanchor": "center",
          "y": 1.15,
          "yanchor": "top"
         }
        ],
        "xaxis": {
         "range": [
          18,
          110
         ],
         "title": {
          "text": "People fully vaccinated per hundred inhabitants"
         }
        },
        "yaxis": {
         "title": {
          "text": "Excess mortality cumulative per million inhabitants"
         }
        }
       }
      }
     },
     "metadata": {},
     "output_type": "display_data"
    }
   ],
   "source": [
    "import pandas as pd\n",
    "import numpy as np\n",
    "import plotly.express as px\n",
    "import plotly.graph_objects as go\n",
    "\n",
    "# Load the CSV file\n",
    "df = pd.read_csv('owid-covid-data.csv')\n",
    "\n",
    "# Convert the date column to datetime\n",
    "df['date'] = pd.to_datetime(df['date'])\n",
    "\n",
    "# Filter the data for the year 2022\n",
    "df_2022 = df[df['date'].dt.year == 2022].copy()\n",
    "\n",
    "# Function to fill NaN values with the last available non-NaN value per country\n",
    "def fill_last_available(df, col):\n",
    "    df.loc[:, col] = df.groupby('location')[col].ffill()\n",
    "    return df\n",
    "\n",
    "# Fill NaN values for the relevant columns\n",
    "df_2022 = fill_last_available(df_2022, 'excess_mortality_cumulative_per_million')\n",
    "df_2022 = fill_last_available(df_2022, 'people_fully_vaccinated_per_hundred')\n",
    "\n",
    "# Extract the last available data for each country in 2022\n",
    "df_last_2022 = df_2022.groupby('location').last().reset_index()\n",
    "\n",
    "# Create scatter plot for excess deaths vs people fully vaccinated\n",
    "fig1 = px.scatter(df_last_2022, x='people_fully_vaccinated_per_hundred', y='excess_mortality_cumulative_per_million', \n",
    "                 trendline='ols', trendline_color_override='darkblue',\n",
    "                 title='Excess mortality per million inhabitants vs. People fully vaccinated per hundred inhabitants, per country for 2022',\n",
    "                 labels={'people_fully_vaccinated_per_hundred': 'People fully vaccinated per hundred inhabitants',\n",
    "                         'excess_mortality_cumulative_per_million': 'Excess mortality cumulative per million inhabitants'},\n",
    "                 hover_name='location', opacity=0.7)\n",
    "\n",
    "# Grab the last available GDP per capita data for 2022\n",
    "df_gdp = df[df['date'].dt.year == 2022].groupby('location').last().reset_index()\n",
    "\n",
    "# Create scatter plot for GDP vs people fully vaccinated\n",
    "fig2 = px.scatter(df_gdp, x='people_fully_vaccinated_per_hundred', y='gdp_per_capita', \n",
    "                 trendline='ols', trendline_color_override='darkblue',\n",
    "                 title='GDP per capita vs. People fully vaccinated per hundred inhabitants, per country for 2022',\n",
    "                 labels={'people_fully_vaccinated_per_hundred': 'People fully vaccinated per hundred inhabitants',\n",
    "                         'gdp_per_capita': 'GDP per capita'},\n",
    "                 hover_name='location', opacity=0.7)\n",
    "\n",
    "# Create a figure with subplots\n",
    "fig = go.Figure()\n",
    "\n",
    "# Add traces for the first plot\n",
    "for trace in fig1.data:\n",
    "    fig.add_trace(trace)\n",
    "\n",
    "# Add traces for the second plot\n",
    "for trace in fig2.data:\n",
    "    fig.add_trace(trace)\n",
    "\n",
    "# Update layout for buttons to toggle between plots, set axis titles, and define x-axis ranges dynamically\n",
    "fig.update_layout(\n",
    "    title=\"Excess mortality vs. People fully vaccinated, per country for 2022\",  # Set initial title here\n",
    "    updatemenus=[\n",
    "        dict(\n",
    "            type=\"buttons\",\n",
    "            direction=\"left\",\n",
    "            buttons=list([\n",
    "                dict(\n",
    "                    args=[{\"visible\": [True] * len(fig1.data) + [False] * len(fig2.data)},\n",
    "                          {\"title\": \"Excess mortality vs. People fully vaccinated, per country for 2022\",\n",
    "                           \"xaxis\": {\"title\": \"People fully vaccinated per hundred inhabitants\", \"range\": [18, 110]},\n",
    "                           \"yaxis\": {\"title\": \"Excess mortality cumulative per million inhabitants\"}}],\n",
    "                    label=\"Excess deaths vs Vaccinations\",\n",
    "                    method=\"update\"\n",
    "                ),\n",
    "                dict(\n",
    "                    args=[{\"visible\": [False] * len(fig1.data) + [True] * len(fig2.data)},\n",
    "                          {\"title\": \"GDP per capita vs. People fully vaccinated, per country for 2022\",\n",
    "                           \"xaxis\": {\"title\": \"People fully vaccinated per hundred inhabitants\", \"range\": [0, 110]},\n",
    "                           \"yaxis\": {\"title\": \"GDP per capita\"}}],\n",
    "                    label=\"GDP per capita vs Vaccinations\",\n",
    "                    method=\"update\"\n",
    "                )\n",
    "            ]),\n",
    "            pad={\"r\": 10, \"t\": 10},\n",
    "            showactive=True,\n",
    "            x=0.57,\n",
    "            xanchor=\"center\",\n",
    "            y=1.15,\n",
    "            yanchor=\"top\"\n",
    "        ),\n",
    "    ],\n",
    "    # Set initial axis titles and range\n",
    "    xaxis={\"title\": \"People fully vaccinated per hundred inhabitants\", \"range\": [18, 110]},\n",
    "    yaxis={\"title\": \"Excess mortality cumulative per million inhabitants\"}\n",
    ")\n",
    "\n",
    "# Initially set the second plot to be not visible\n",
    "for i in range(len(fig2.data)):\n",
    "    fig.data[len(fig1.data) + i].visible = False\n",
    "\n",
    "fig.add_annotation(text=\"Figure 1.1\", xref=\"paper\", yref=\"paper\", x=1, y=-0.2, showarrow=False, align=\"center\", font=dict(size=14))\n",
    "fig.show()"
   ]
  },
  {
   "cell_type": "code",
   "execution_count": 117,
   "metadata": {
    "tags": [
     "remove_input"
    ]
   },
   "outputs": [
    {
     "data": {
      "text/html": [
       "<style type=\"text/css\">\n",
       "</style>\n",
       "<table id=\"T_6e1af\">\n",
       "  <caption><span style=\"font-size: 16px;\">Correlation between People fully vaccinated per hundred and Excess mortality cumulative per million</span></caption>\n",
       "  <thead>\n",
       "    <tr>\n",
       "      <th class=\"blank level0\" >&nbsp;</th>\n",
       "      <th id=\"T_6e1af_level0_col0\" class=\"col_heading level0 col0\" >People fully vaccinated per hundred</th>\n",
       "      <th id=\"T_6e1af_level0_col1\" class=\"col_heading level0 col1\" >Excess mortality cumulative per million</th>\n",
       "    </tr>\n",
       "  </thead>\n",
       "  <tbody>\n",
       "    <tr>\n",
       "      <th id=\"T_6e1af_level0_row0\" class=\"row_heading level0 row0\" >People fully vaccinated per hundred</th>\n",
       "      <td id=\"T_6e1af_row0_col0\" class=\"data row0 col0\" >1.000000</td>\n",
       "      <td id=\"T_6e1af_row0_col1\" class=\"data row0 col1\" >-0.505233</td>\n",
       "    </tr>\n",
       "    <tr>\n",
       "      <th id=\"T_6e1af_level0_row1\" class=\"row_heading level0 row1\" >Excess mortality cumulative per million</th>\n",
       "      <td id=\"T_6e1af_row1_col0\" class=\"data row1 col0\" >-0.505233</td>\n",
       "      <td id=\"T_6e1af_row1_col1\" class=\"data row1 col1\" >1.000000</td>\n",
       "    </tr>\n",
       "  </tbody>\n",
       "</table>\n"
      ],
      "text/plain": [
       "<pandas.io.formats.style.Styler at 0x3171bc470>"
      ]
     },
     "metadata": {},
     "output_type": "display_data"
    },
    {
     "name": "stdout",
     "output_type": "stream",
     "text": [
      "Figure 1.2\n"
     ]
    },
    {
     "data": {
      "text/html": [
       "<style type=\"text/css\">\n",
       "</style>\n",
       "<table id=\"T_e851a\">\n",
       "  <caption><span style=\"font-size: 16px;\">Correlation between People fully vaccinated per hundred and GDP per capita</span></caption>\n",
       "  <thead>\n",
       "    <tr>\n",
       "      <th class=\"blank level0\" >&nbsp;</th>\n",
       "      <th id=\"T_e851a_level0_col0\" class=\"col_heading level0 col0\" >People fully vaccinated per hundred</th>\n",
       "      <th id=\"T_e851a_level0_col1\" class=\"col_heading level0 col1\" >GDP per capita</th>\n",
       "    </tr>\n",
       "  </thead>\n",
       "  <tbody>\n",
       "    <tr>\n",
       "      <th id=\"T_e851a_level0_row0\" class=\"row_heading level0 row0\" >People fully vaccinated per hundred</th>\n",
       "      <td id=\"T_e851a_row0_col0\" class=\"data row0 col0\" >1.000000</td>\n",
       "      <td id=\"T_e851a_row0_col1\" class=\"data row0 col1\" >0.612648</td>\n",
       "    </tr>\n",
       "    <tr>\n",
       "      <th id=\"T_e851a_level0_row1\" class=\"row_heading level0 row1\" >GDP per capita</th>\n",
       "      <td id=\"T_e851a_row1_col0\" class=\"data row1 col0\" >0.612648</td>\n",
       "      <td id=\"T_e851a_row1_col1\" class=\"data row1 col1\" >1.000000</td>\n",
       "    </tr>\n",
       "  </tbody>\n",
       "</table>\n"
      ],
      "text/plain": [
       "<pandas.io.formats.style.Styler at 0x30c096bd0>"
      ]
     },
     "metadata": {},
     "output_type": "display_data"
    },
    {
     "name": "stdout",
     "output_type": "stream",
     "text": [
      "Figure 1.3\n"
     ]
    }
   ],
   "source": [
    "\n",
    "\n",
    "from IPython.display import display, HTML\n",
    "\n",
    "df_renamed = df_last_2022.rename(columns={\n",
    "    'gdp_per_capita': 'GDP per capita',\n",
    "    'people_fully_vaccinated_per_hundred': 'People fully vaccinated per hundred',\n",
    "    'excess_mortality_cumulative_per_million': 'Excess mortality cumulative per million'\n",
    "})\n",
    "\n",
    "# Calculate the first correlation matrix with corrected column names\n",
    "corr1 = df_renamed[['People fully vaccinated per hundred', 'Excess mortality cumulative per million']].corr()\n",
    "\n",
    "# Calculate the second correlation matrix with corrected column names\n",
    "corr2 = df_renamed[['People fully vaccinated per hundred', 'GDP per capita']].corr()\n",
    "\n",
    "# Display the first correlation matrix with a larger title\n",
    "display(corr1.style.set_caption('<span style=\"font-size: 16px;\">Correlation between People fully vaccinated per hundred and Excess mortality cumulative per million</span>'))\n",
    "print(\"Figure 1.2\")\n",
    "# Display the second correlation matrix with a larger title\n",
    "display(corr2.style.set_caption('<span style=\"font-size: 16px;\">Correlation between People fully vaccinated per hundred and GDP per capita</span>'))# Corrected code to rename columns and calculate correlation matrices\n",
    "print(\"Figure 1.3\")"
   ]
  },
  {
   "cell_type": "markdown",
   "metadata": {
    "tags": [
     "remove_input"
    ]
   },
   "source": [
    "#### Argument 2: \n",
    "**Countries with a lower gdp have less resources to spend on testing and recording data which makes it seem like they are performing better at handling the pandemic**\n",
    "\n",
    "To visualize how GDP impacts various factors, we can use a parallel categories plot to visualize the correlations between these categories. This type of plot will help us understand how countries with lower GDP might appear to manage the pandemic more effectively due to limited resources for testing and data recording. We have chosen to use data from the year 2021 because this is the year when the majority of people began to receive vaccinations.\n"
   ]
  },
  {
   "cell_type": "code",
   "execution_count": 56,
   "metadata": {
    "tags": [
     "remove_input"
    ]
   },
   "outputs": [
    {
     "data": {
      "application/vnd.plotly.v1+json": {
       "config": {
        "plotlyServerURL": "https://plot.ly"
       },
       "data": [
        {
         "arrangement": "freeform",
         "dimensions": [
          {
           "categoryarray": [
            "low",
            "medium",
            "high"
           ],
           "categoryorder": "array",
           "label": "GDP 2021",
           "values": [
            "low",
            "medium",
            "medium",
            "nan",
            "high",
            "low",
            "medium",
            "medium",
            "medium",
            "high",
            "high",
            "high",
            "medium",
            "high",
            "low",
            "medium",
            "high",
            "high",
            "medium",
            "low",
            "high",
            "medium",
            "medium",
            "medium",
            "medium",
            "medium",
            "nan",
            "high",
            "low",
            "low",
            "low",
            "low",
            "high",
            "high",
            "low",
            "low",
            "high",
            "medium",
            "medium",
            "low",
            "medium",
            "low",
            "high",
            "nan",
            "medium",
            "high",
            "high",
            "high",
            "low",
            "medium",
            "medium",
            "medium",
            "medium",
            "medium",
            "nan",
            "high",
            "medium",
            "low",
            "medium",
            "high",
            "high",
            "nan",
            "medium",
            "medium",
            "high",
            "low",
            "nan",
            "high",
            "high",
            "medium",
            "nan",
            "medium",
            "low",
            "low",
            "medium",
            "low",
            "low",
            "high",
            "high",
            "low",
            "medium",
            "medium",
            "high",
            "nan",
            "high",
            "high",
            "medium",
            "high",
            "medium",
            "high",
            "low",
            "low",
            "medium",
            "high",
            "high",
            "medium",
            "low",
            "low",
            "medium",
            "nan",
            "high",
            "high",
            "low",
            "low",
            "high",
            "medium",
            "low",
            "high",
            "low",
            "low",
            "medium",
            "medium",
            "medium",
            "nan",
            "medium",
            "medium",
            "low",
            "low",
            "low",
            "medium",
            "medium",
            "low",
            "high",
            "nan",
            "high",
            "low",
            "low",
            "low",
            "medium",
            "nan",
            "high",
            "high",
            "low",
            "medium",
            "high",
            "low",
            "medium",
            "medium",
            "low",
            "high",
            "high",
            "high",
            "high",
            "high",
            "low",
            "low",
            "high",
            "low",
            "high",
            "low",
            "medium",
            "medium",
            "low",
            "high",
            "high",
            "high",
            "low",
            "low",
            "medium",
            "nan",
            "high",
            "medium",
            "low",
            "medium",
            "high",
            "high",
            "low",
            "low",
            "medium",
            "low",
            "low",
            "high",
            "medium",
            "nan",
            "medium",
            "low",
            "low",
            "medium",
            "high",
            "high",
            "high",
            "high",
            "low",
            "low",
            "low",
            "low"
           ]
          },
          {
           "categoryarray": [
            "low",
            "medium",
            "high"
           ],
           "categoryorder": "array",
           "label": "Total Deaths",
           "values": [
            "low",
            "medium",
            "low",
            "nan",
            "medium",
            "low",
            "high",
            "high",
            "high",
            "high",
            "low",
            "high",
            "medium",
            "medium",
            "low",
            "medium",
            "medium",
            "medium",
            "medium",
            "low",
            "high",
            "nan",
            "medium",
            "high",
            "high",
            "high",
            "high",
            "high",
            "low",
            "low",
            "nan",
            "low",
            "medium",
            "low",
            "low",
            "low",
            "high",
            "low",
            "high",
            "low",
            "high",
            "low",
            "high",
            "medium",
            "high",
            "medium",
            "high",
            "medium",
            "low",
            "nan",
            "low",
            "high",
            "medium",
            "low",
            "low",
            "high",
            "high",
            "low",
            "medium",
            "medium",
            "high",
            "high",
            "low",
            "high",
            "medium",
            "low",
            "high",
            "high",
            "nan",
            "nan",
            "medium",
            "medium",
            "low",
            "low",
            "high",
            "low",
            "medium",
            "high",
            "low",
            "medium",
            "medium",
            "medium",
            "medium",
            "medium",
            "medium",
            "high",
            "medium",
            "low",
            "medium",
            "medium",
            "low",
            "nan",
            "high",
            "medium",
            "high",
            "high",
            "medium",
            "low",
            "medium",
            "medium",
            "high",
            "medium",
            "low",
            "low",
            "high",
            "medium",
            "low",
            "medium",
            "nan",
            "low",
            "medium",
            "high",
            "high",
            "high",
            "medium",
            "high",
            "medium",
            "low",
            "medium",
            "high",
            "nan",
            "medium",
            "medium",
            "nan",
            "low",
            "low",
            "low",
            "low",
            "high",
            "medium",
            "low",
            "medium",
            "low",
            "nan",
            "medium",
            "low",
            "high",
            "high",
            "medium",
            "high",
            "high",
            "medium",
            "low",
            "high",
            "low",
            "nan",
            "high",
            "medium",
            "low",
            "low",
            "high",
            "nan",
            "low",
            "low",
            "high",
            "high",
            "nan",
            "low",
            "high",
            "low",
            "medium",
            "medium",
            "low",
            "high",
            "medium",
            "medium",
            "low",
            "low",
            "medium",
            "low",
            "nan",
            "high",
            "high",
            "nan",
            "medium",
            "nan",
            "low",
            "high",
            "low",
            "high",
            "high",
            "high",
            "nan",
            "nan",
            "low",
            "medium"
           ]
          },
          {
           "categoryarray": [
            "low",
            "medium",
            "high"
           ],
           "categoryorder": "array",
           "label": "Total Cases",
           "values": [
            "low",
            "medium",
            "low",
            "nan",
            "high",
            "low",
            "medium",
            "high",
            "medium",
            "high",
            "medium",
            "high",
            "medium",
            "high",
            "low",
            "high",
            "medium",
            "high",
            "medium",
            "low",
            "high",
            "low",
            "medium",
            "medium",
            "high",
            "high",
            "high",
            "high",
            "low",
            "low",
            "low",
            "low",
            "medium",
            "high",
            "low",
            "low",
            "medium",
            "low",
            "high",
            "low",
            "high",
            "low",
            "high",
            "high",
            "high",
            "high",
            "high",
            "high",
            "low",
            "high",
            "medium",
            "medium",
            "low",
            "low",
            "low",
            "high",
            "medium",
            "low",
            "medium",
            "medium",
            "high",
            "high",
            "low",
            "high",
            "medium",
            "low",
            "high",
            "high",
            "medium",
            "medium",
            "medium",
            "medium",
            "low",
            "low",
            "medium",
            "low",
            "medium",
            "high",
            "medium",
            "medium",
            "medium",
            "medium",
            "high",
            "high",
            "high",
            "medium",
            "medium",
            "low",
            "high",
            "medium",
            "low",
            "nan",
            "medium",
            "medium",
            "high",
            "high",
            "low",
            "low",
            "medium",
            "high",
            "high",
            "high",
            "low",
            "low",
            "high",
            "high",
            "low",
            "medium",
            "low",
            "low",
            "high",
            "medium",
            "high",
            "high",
            "high",
            "high",
            "medium",
            "low",
            "low",
            "medium",
            "nan",
            "medium",
            "high",
            "medium",
            "low",
            "low",
            "low",
            "low",
            "medium",
            "medium",
            "medium",
            "medium",
            "low",
            "nan",
            "medium",
            "low",
            "medium",
            "medium",
            "medium",
            "high",
            "high",
            "medium",
            "medium",
            "medium",
            "low",
            "low",
            "high",
            "low",
            "low",
            "low",
            "high",
            "high",
            "low",
            "medium",
            "high",
            "high",
            "low",
            "low",
            "medium",
            "low",
            "high",
            "medium",
            "low",
            "high",
            "high",
            "high",
            "low",
            "low",
            "medium",
            "low",
            "nan",
            "medium",
            "medium",
            "nan",
            "medium",
            "nan",
            "low",
            "medium",
            "medium",
            "high",
            "high",
            "high",
            "low",
            "low",
            "low",
            "low"
           ]
          },
          {
           "categoryarray": [
            "low",
            "medium",
            "high"
           ],
           "categoryorder": "array",
           "label": "People Vaccinated",
           "values": [
            "low",
            "medium",
            "low",
            "nan",
            "high",
            "low",
            "medium",
            "high",
            "low",
            "high",
            "high",
            "high",
            "medium",
            "high",
            "medium",
            "medium",
            "medium",
            "high",
            "medium",
            "low",
            "high",
            "high",
            "medium",
            "low",
            "medium",
            "high",
            "medium",
            "low",
            "low",
            "low",
            "high",
            "low",
            "high",
            "high",
            "low",
            "low",
            "high",
            "high",
            "high",
            "medium",
            "high",
            "low",
            "medium",
            "high",
            "medium",
            "high",
            "medium",
            "high",
            "low",
            "medium",
            "medium",
            "high",
            "high",
            "low",
            "nan",
            "medium",
            "low",
            "low",
            "high",
            "high",
            "high",
            "medium",
            "low",
            "low",
            "high",
            "low",
            "high",
            "high",
            "high",
            "low",
            "nan",
            "low",
            "low",
            "low",
            "medium",
            "low",
            "medium",
            "medium",
            "high",
            "medium",
            "medium",
            "low",
            "high",
            "high",
            "medium",
            "high",
            "low",
            "high",
            "medium",
            "medium",
            "low",
            "medium",
            "medium",
            "high",
            "high",
            "medium",
            "low",
            "low",
            "low",
            "medium",
            "medium",
            "high",
            "low",
            "low",
            "high",
            "high",
            "low",
            "high",
            "nan",
            "low",
            "high",
            "medium",
            "low",
            "high",
            "medium",
            "medium",
            "medium",
            "low",
            "low",
            "low",
            "medium",
            "medium",
            "high",
            "medium",
            "high",
            "medium",
            "low",
            "low",
            "medium",
            "nan",
            "high",
            "medium",
            "medium",
            "nan",
            "high",
            "low",
            "medium",
            "high",
            "medium",
            "medium",
            "high",
            "nan",
            "high",
            "low",
            "medium",
            "medium",
            "high",
            "low",
            "medium",
            "low",
            "medium",
            "high",
            "low",
            "high",
            "medium",
            "medium",
            "low",
            "low",
            "low",
            "low",
            "high",
            "high",
            "low",
            "medium",
            "high",
            "medium",
            "low",
            "low",
            "high",
            "low",
            "medium",
            "medium",
            "medium",
            "low",
            "medium",
            "medium",
            "low",
            "low",
            "high",
            "high",
            "high",
            "high",
            "medium",
            "low",
            "low",
            "low"
           ]
          },
          {
           "categoryarray": [
            "low",
            "medium",
            "high"
           ],
           "categoryorder": "array",
           "label": "Total Tests",
           "values": [
            "nan",
            "medium",
            "nan",
            "nan",
            "high",
            "nan",
            "low",
            "medium",
            "medium",
            "nan",
            "high",
            "high",
            "nan",
            "high",
            "low",
            "nan",
            "medium",
            "high",
            "nan",
            "nan",
            "nan",
            "high",
            "low",
            "medium",
            "medium",
            "low",
            "nan",
            "medium",
            "nan",
            "nan",
            "nan",
            "nan",
            "medium",
            "nan",
            "nan",
            "nan",
            "high",
            "nan",
            "medium",
            "nan",
            "medium",
            "low",
            "medium",
            "medium",
            "nan",
            "high",
            "high",
            "high",
            "nan",
            "nan",
            "low",
            "low",
            "low",
            "nan",
            "nan",
            "high",
            "nan",
            "low",
            "medium",
            "high",
            "high",
            "nan",
            "nan",
            "high",
            "medium",
            "low",
            "nan",
            "high",
            "nan",
            "nan",
            "medium",
            "low",
            "nan",
            "nan",
            "nan",
            "nan",
            "nan",
            "medium",
            "high",
            "medium",
            "nan",
            "medium",
            "high",
            "nan",
            "high",
            "high",
            "low",
            "low",
            "medium",
            "medium",
            "low",
            "nan",
            "nan",
            "high",
            "high",
            "nan",
            "nan",
            "nan",
            "nan",
            "high",
            "high",
            "high",
            "low",
            "low",
            "high",
            "high",
            "nan",
            "high",
            "low",
            "low",
            "nan",
            "low",
            "nan",
            "nan",
            "high",
            "nan",
            "low",
            "low",
            "low",
            "medium",
            "nan",
            "low",
            "medium",
            "nan",
            "medium",
            "nan",
            "nan",
            "low",
            "medium",
            "medium",
            "high",
            "nan",
            "low",
            "nan",
            "medium",
            "nan",
            "low",
            "medium",
            "low",
            "medium",
            "high",
            "medium",
            "nan",
            "medium",
            "low",
            "nan",
            "nan",
            "nan",
            "medium",
            "low",
            "medium",
            "nan",
            "nan",
            "nan",
            "nan",
            "medium",
            "nan",
            "nan",
            "low",
            "low",
            "high",
            "medium",
            "nan",
            "low",
            "high",
            "high",
            "nan",
            "nan",
            "low",
            "low",
            "nan",
            "medium",
            "nan",
            "nan",
            "nan",
            "nan",
            "low",
            "medium",
            "high",
            "high",
            "high",
            "high",
            "nan",
            "nan",
            "low",
            "low"
           ]
          },
          {
           "categoryarray": [
            "low",
            "medium",
            "high"
           ],
           "categoryorder": "array",
           "label": "Excess Mortality",
           "values": [
            "nan",
            "high",
            "nan",
            "nan",
            "low",
            "nan",
            "low",
            "high",
            "high",
            "high",
            "low",
            "medium",
            "medium",
            "nan",
            "nan",
            "low",
            "medium",
            "low",
            "medium",
            "nan",
            "high",
            "low",
            "high",
            "high",
            "nan",
            "high",
            "nan",
            "high",
            "nan",
            "nan",
            "nan",
            "nan",
            "low",
            "nan",
            "nan",
            "nan",
            "medium",
            "nan",
            "high",
            "nan",
            "medium",
            "nan",
            "high",
            "high",
            "nan",
            "low",
            "high",
            "low",
            "nan",
            "nan",
            "low",
            "medium",
            "nan",
            "nan",
            "nan",
            "high",
            "nan",
            "nan",
            "medium",
            "low",
            "low",
            "medium",
            "nan",
            "high",
            "low",
            "nan",
            "medium",
            "medium",
            "low",
            "nan",
            "nan",
            "medium",
            "nan",
            "nan",
            "nan",
            "nan",
            "nan",
            "high",
            "low",
            "nan",
            "nan",
            "nan",
            "low",
            "nan",
            "low",
            "medium",
            "medium",
            "low",
            "medium",
            "high",
            "nan",
            "nan",
            "medium",
            "medium",
            "high",
            "medium",
            "nan",
            "nan",
            "nan",
            "low",
            "high",
            "low",
            "nan",
            "nan",
            "medium",
            "medium",
            "nan",
            "low",
            "nan",
            "nan",
            "medium",
            "high",
            "high",
            "high",
            "low",
            "high",
            "nan",
            "nan",
            "nan",
            "medium",
            "nan",
            "nan",
            "medium",
            "medium",
            "low",
            "medium",
            "nan",
            "nan",
            "high",
            "nan",
            "low",
            "low",
            "nan",
            "nan",
            "medium",
            "nan",
            "high",
            "high",
            "high",
            "high",
            "medium",
            "medium",
            "low",
            "high",
            "nan",
            "nan",
            "medium",
            "nan",
            "nan",
            "nan",
            "high",
            "low",
            "nan",
            "low",
            "nan",
            "medium",
            "nan",
            "nan",
            "high",
            "nan",
            "low",
            "nan",
            "nan",
            "high",
            "low",
            "low",
            "low",
            "nan",
            "medium",
            "nan",
            "nan",
            "nan",
            "high",
            "nan",
            "nan",
            "nan",
            "nan",
            "high",
            "low",
            "medium",
            "medium",
            "medium",
            "low",
            "nan",
            "nan",
            "nan"
           ]
          }
         ],
         "hoverinfo": "count+probability",
         "line": {
          "color": [
           0,
           1,
           1,
           3,
           2,
           0,
           1,
           1,
           1,
           2,
           2,
           2,
           1,
           2,
           0,
           1,
           2,
           2,
           1,
           0,
           2,
           1,
           1,
           1,
           1,
           1,
           3,
           2,
           0,
           0,
           0,
           0,
           2,
           2,
           0,
           0,
           2,
           1,
           1,
           0,
           1,
           0,
           2,
           3,
           1,
           2,
           2,
           2,
           0,
           1,
           1,
           1,
           1,
           1,
           3,
           2,
           1,
           0,
           1,
           2,
           2,
           3,
           1,
           1,
           2,
           0,
           3,
           2,
           2,
           1,
           3,
           1,
           0,
           0,
           1,
           0,
           0,
           2,
           2,
           0,
           1,
           1,
           2,
           3,
           2,
           2,
           1,
           2,
           1,
           2,
           0,
           0,
           1,
           2,
           2,
           1,
           0,
           0,
           1,
           3,
           2,
           2,
           0,
           0,
           2,
           1,
           0,
           2,
           0,
           0,
           1,
           1,
           1,
           3,
           1,
           1,
           0,
           0,
           0,
           1,
           1,
           0,
           2,
           3,
           2,
           0,
           0,
           0,
           1,
           3,
           2,
           2,
           0,
           1,
           2,
           0,
           1,
           1,
           0,
           2,
           2,
           2,
           2,
           2,
           0,
           0,
           2,
           0,
           2,
           0,
           1,
           1,
           0,
           2,
           2,
           2,
           0,
           0,
           1,
           3,
           2,
           1,
           0,
           1,
           2,
           2,
           0,
           0,
           1,
           0,
           0,
           2,
           1,
           3,
           1,
           0,
           0,
           1,
           2,
           2,
           2,
           2,
           0,
           0,
           0,
           0
          ],
          "colorscale": [
           [
            0,
            "#440154"
           ],
           [
            0.1111111111111111,
            "#482878"
           ],
           [
            0.2222222222222222,
            "#3e4989"
           ],
           [
            0.3333333333333333,
            "#31688e"
           ],
           [
            0.4444444444444444,
            "#26828e"
           ],
           [
            0.5555555555555556,
            "#1f9e89"
           ],
           [
            0.6666666666666666,
            "#35b779"
           ],
           [
            0.7777777777777778,
            "#6ece58"
           ],
           [
            0.8888888888888888,
            "#b5de2b"
           ],
           [
            1,
            "#fde725"
           ]
          ],
          "showscale": false
         },
         "type": "parcats"
        }
       ],
       "layout": {
        "annotations": [
         {
          "align": "center",
          "font": {
           "size": 14
          },
          "showarrow": false,
          "text": "Figure 1.4",
          "x": 1,
          "xref": "paper",
          "y": -0.2,
          "yref": "paper"
         }
        ],
        "height": 600,
        "template": {
         "data": {
          "bar": [
           {
            "error_x": {
             "color": "#2a3f5f"
            },
            "error_y": {
             "color": "#2a3f5f"
            },
            "marker": {
             "line": {
              "color": "#E5ECF6",
              "width": 0.5
             },
             "pattern": {
              "fillmode": "overlay",
              "size": 10,
              "solidity": 0.2
             }
            },
            "type": "bar"
           }
          ],
          "barpolar": [
           {
            "marker": {
             "line": {
              "color": "#E5ECF6",
              "width": 0.5
             },
             "pattern": {
              "fillmode": "overlay",
              "size": 10,
              "solidity": 0.2
             }
            },
            "type": "barpolar"
           }
          ],
          "carpet": [
           {
            "aaxis": {
             "endlinecolor": "#2a3f5f",
             "gridcolor": "white",
             "linecolor": "white",
             "minorgridcolor": "white",
             "startlinecolor": "#2a3f5f"
            },
            "baxis": {
             "endlinecolor": "#2a3f5f",
             "gridcolor": "white",
             "linecolor": "white",
             "minorgridcolor": "white",
             "startlinecolor": "#2a3f5f"
            },
            "type": "carpet"
           }
          ],
          "choropleth": [
           {
            "colorbar": {
             "outlinewidth": 0,
             "ticks": ""
            },
            "type": "choropleth"
           }
          ],
          "contour": [
           {
            "colorbar": {
             "outlinewidth": 0,
             "ticks": ""
            },
            "colorscale": [
             [
              0,
              "#0d0887"
             ],
             [
              0.1111111111111111,
              "#46039f"
             ],
             [
              0.2222222222222222,
              "#7201a8"
             ],
             [
              0.3333333333333333,
              "#9c179e"
             ],
             [
              0.4444444444444444,
              "#bd3786"
             ],
             [
              0.5555555555555556,
              "#d8576b"
             ],
             [
              0.6666666666666666,
              "#ed7953"
             ],
             [
              0.7777777777777778,
              "#fb9f3a"
             ],
             [
              0.8888888888888888,
              "#fdca26"
             ],
             [
              1,
              "#f0f921"
             ]
            ],
            "type": "contour"
           }
          ],
          "contourcarpet": [
           {
            "colorbar": {
             "outlinewidth": 0,
             "ticks": ""
            },
            "type": "contourcarpet"
           }
          ],
          "heatmap": [
           {
            "colorbar": {
             "outlinewidth": 0,
             "ticks": ""
            },
            "colorscale": [
             [
              0,
              "#0d0887"
             ],
             [
              0.1111111111111111,
              "#46039f"
             ],
             [
              0.2222222222222222,
              "#7201a8"
             ],
             [
              0.3333333333333333,
              "#9c179e"
             ],
             [
              0.4444444444444444,
              "#bd3786"
             ],
             [
              0.5555555555555556,
              "#d8576b"
             ],
             [
              0.6666666666666666,
              "#ed7953"
             ],
             [
              0.7777777777777778,
              "#fb9f3a"
             ],
             [
              0.8888888888888888,
              "#fdca26"
             ],
             [
              1,
              "#f0f921"
             ]
            ],
            "type": "heatmap"
           }
          ],
          "heatmapgl": [
           {
            "colorbar": {
             "outlinewidth": 0,
             "ticks": ""
            },
            "colorscale": [
             [
              0,
              "#0d0887"
             ],
             [
              0.1111111111111111,
              "#46039f"
             ],
             [
              0.2222222222222222,
              "#7201a8"
             ],
             [
              0.3333333333333333,
              "#9c179e"
             ],
             [
              0.4444444444444444,
              "#bd3786"
             ],
             [
              0.5555555555555556,
              "#d8576b"
             ],
             [
              0.6666666666666666,
              "#ed7953"
             ],
             [
              0.7777777777777778,
              "#fb9f3a"
             ],
             [
              0.8888888888888888,
              "#fdca26"
             ],
             [
              1,
              "#f0f921"
             ]
            ],
            "type": "heatmapgl"
           }
          ],
          "histogram": [
           {
            "marker": {
             "pattern": {
              "fillmode": "overlay",
              "size": 10,
              "solidity": 0.2
             }
            },
            "type": "histogram"
           }
          ],
          "histogram2d": [
           {
            "colorbar": {
             "outlinewidth": 0,
             "ticks": ""
            },
            "colorscale": [
             [
              0,
              "#0d0887"
             ],
             [
              0.1111111111111111,
              "#46039f"
             ],
             [
              0.2222222222222222,
              "#7201a8"
             ],
             [
              0.3333333333333333,
              "#9c179e"
             ],
             [
              0.4444444444444444,
              "#bd3786"
             ],
             [
              0.5555555555555556,
              "#d8576b"
             ],
             [
              0.6666666666666666,
              "#ed7953"
             ],
             [
              0.7777777777777778,
              "#fb9f3a"
             ],
             [
              0.8888888888888888,
              "#fdca26"
             ],
             [
              1,
              "#f0f921"
             ]
            ],
            "type": "histogram2d"
           }
          ],
          "histogram2dcontour": [
           {
            "colorbar": {
             "outlinewidth": 0,
             "ticks": ""
            },
            "colorscale": [
             [
              0,
              "#0d0887"
             ],
             [
              0.1111111111111111,
              "#46039f"
             ],
             [
              0.2222222222222222,
              "#7201a8"
             ],
             [
              0.3333333333333333,
              "#9c179e"
             ],
             [
              0.4444444444444444,
              "#bd3786"
             ],
             [
              0.5555555555555556,
              "#d8576b"
             ],
             [
              0.6666666666666666,
              "#ed7953"
             ],
             [
              0.7777777777777778,
              "#fb9f3a"
             ],
             [
              0.8888888888888888,
              "#fdca26"
             ],
             [
              1,
              "#f0f921"
             ]
            ],
            "type": "histogram2dcontour"
           }
          ],
          "mesh3d": [
           {
            "colorbar": {
             "outlinewidth": 0,
             "ticks": ""
            },
            "type": "mesh3d"
           }
          ],
          "parcoords": [
           {
            "line": {
             "colorbar": {
              "outlinewidth": 0,
              "ticks": ""
             }
            },
            "type": "parcoords"
           }
          ],
          "pie": [
           {
            "automargin": true,
            "type": "pie"
           }
          ],
          "scatter": [
           {
            "fillpattern": {
             "fillmode": "overlay",
             "size": 10,
             "solidity": 0.2
            },
            "type": "scatter"
           }
          ],
          "scatter3d": [
           {
            "line": {
             "colorbar": {
              "outlinewidth": 0,
              "ticks": ""
             }
            },
            "marker": {
             "colorbar": {
              "outlinewidth": 0,
              "ticks": ""
             }
            },
            "type": "scatter3d"
           }
          ],
          "scattercarpet": [
           {
            "marker": {
             "colorbar": {
              "outlinewidth": 0,
              "ticks": ""
             }
            },
            "type": "scattercarpet"
           }
          ],
          "scattergeo": [
           {
            "marker": {
             "colorbar": {
              "outlinewidth": 0,
              "ticks": ""
             }
            },
            "type": "scattergeo"
           }
          ],
          "scattergl": [
           {
            "marker": {
             "colorbar": {
              "outlinewidth": 0,
              "ticks": ""
             }
            },
            "type": "scattergl"
           }
          ],
          "scattermapbox": [
           {
            "marker": {
             "colorbar": {
              "outlinewidth": 0,
              "ticks": ""
             }
            },
            "type": "scattermapbox"
           }
          ],
          "scatterpolar": [
           {
            "marker": {
             "colorbar": {
              "outlinewidth": 0,
              "ticks": ""
             }
            },
            "type": "scatterpolar"
           }
          ],
          "scatterpolargl": [
           {
            "marker": {
             "colorbar": {
              "outlinewidth": 0,
              "ticks": ""
             }
            },
            "type": "scatterpolargl"
           }
          ],
          "scatterternary": [
           {
            "marker": {
             "colorbar": {
              "outlinewidth": 0,
              "ticks": ""
             }
            },
            "type": "scatterternary"
           }
          ],
          "surface": [
           {
            "colorbar": {
             "outlinewidth": 0,
             "ticks": ""
            },
            "colorscale": [
             [
              0,
              "#0d0887"
             ],
             [
              0.1111111111111111,
              "#46039f"
             ],
             [
              0.2222222222222222,
              "#7201a8"
             ],
             [
              0.3333333333333333,
              "#9c179e"
             ],
             [
              0.4444444444444444,
              "#bd3786"
             ],
             [
              0.5555555555555556,
              "#d8576b"
             ],
             [
              0.6666666666666666,
              "#ed7953"
             ],
             [
              0.7777777777777778,
              "#fb9f3a"
             ],
             [
              0.8888888888888888,
              "#fdca26"
             ],
             [
              1,
              "#f0f921"
             ]
            ],
            "type": "surface"
           }
          ],
          "table": [
           {
            "cells": {
             "fill": {
              "color": "#EBF0F8"
             },
             "line": {
              "color": "white"
             }
            },
            "header": {
             "fill": {
              "color": "#C8D4E3"
             },
             "line": {
              "color": "white"
             }
            },
            "type": "table"
           }
          ]
         },
         "layout": {
          "annotationdefaults": {
           "arrowcolor": "#2a3f5f",
           "arrowhead": 0,
           "arrowwidth": 1
          },
          "autotypenumbers": "strict",
          "coloraxis": {
           "colorbar": {
            "outlinewidth": 0,
            "ticks": ""
           }
          },
          "colorscale": {
           "diverging": [
            [
             0,
             "#8e0152"
            ],
            [
             0.1,
             "#c51b7d"
            ],
            [
             0.2,
             "#de77ae"
            ],
            [
             0.3,
             "#f1b6da"
            ],
            [
             0.4,
             "#fde0ef"
            ],
            [
             0.5,
             "#f7f7f7"
            ],
            [
             0.6,
             "#e6f5d0"
            ],
            [
             0.7,
             "#b8e186"
            ],
            [
             0.8,
             "#7fbc41"
            ],
            [
             0.9,
             "#4d9221"
            ],
            [
             1,
             "#276419"
            ]
           ],
           "sequential": [
            [
             0,
             "#0d0887"
            ],
            [
             0.1111111111111111,
             "#46039f"
            ],
            [
             0.2222222222222222,
             "#7201a8"
            ],
            [
             0.3333333333333333,
             "#9c179e"
            ],
            [
             0.4444444444444444,
             "#bd3786"
            ],
            [
             0.5555555555555556,
             "#d8576b"
            ],
            [
             0.6666666666666666,
             "#ed7953"
            ],
            [
             0.7777777777777778,
             "#fb9f3a"
            ],
            [
             0.8888888888888888,
             "#fdca26"
            ],
            [
             1,
             "#f0f921"
            ]
           ],
           "sequentialminus": [
            [
             0,
             "#0d0887"
            ],
            [
             0.1111111111111111,
             "#46039f"
            ],
            [
             0.2222222222222222,
             "#7201a8"
            ],
            [
             0.3333333333333333,
             "#9c179e"
            ],
            [
             0.4444444444444444,
             "#bd3786"
            ],
            [
             0.5555555555555556,
             "#d8576b"
            ],
            [
             0.6666666666666666,
             "#ed7953"
            ],
            [
             0.7777777777777778,
             "#fb9f3a"
            ],
            [
             0.8888888888888888,
             "#fdca26"
            ],
            [
             1,
             "#f0f921"
            ]
           ]
          },
          "colorway": [
           "#636efa",
           "#EF553B",
           "#00cc96",
           "#ab63fa",
           "#FFA15A",
           "#19d3f3",
           "#FF6692",
           "#B6E880",
           "#FF97FF",
           "#FECB52"
          ],
          "font": {
           "color": "#2a3f5f"
          },
          "geo": {
           "bgcolor": "white",
           "lakecolor": "white",
           "landcolor": "#E5ECF6",
           "showlakes": true,
           "showland": true,
           "subunitcolor": "white"
          },
          "hoverlabel": {
           "align": "left"
          },
          "hovermode": "closest",
          "mapbox": {
           "style": "light"
          },
          "paper_bgcolor": "white",
          "plot_bgcolor": "#E5ECF6",
          "polar": {
           "angularaxis": {
            "gridcolor": "white",
            "linecolor": "white",
            "ticks": ""
           },
           "bgcolor": "#E5ECF6",
           "radialaxis": {
            "gridcolor": "white",
            "linecolor": "white",
            "ticks": ""
           }
          },
          "scene": {
           "xaxis": {
            "backgroundcolor": "#E5ECF6",
            "gridcolor": "white",
            "gridwidth": 2,
            "linecolor": "white",
            "showbackground": true,
            "ticks": "",
            "zerolinecolor": "white"
           },
           "yaxis": {
            "backgroundcolor": "#E5ECF6",
            "gridcolor": "white",
            "gridwidth": 2,
            "linecolor": "white",
            "showbackground": true,
            "ticks": "",
            "zerolinecolor": "white"
           },
           "zaxis": {
            "backgroundcolor": "#E5ECF6",
            "gridcolor": "white",
            "gridwidth": 2,
            "linecolor": "white",
            "showbackground": true,
            "ticks": "",
            "zerolinecolor": "white"
           }
          },
          "shapedefaults": {
           "line": {
            "color": "#2a3f5f"
           }
          },
          "ternary": {
           "aaxis": {
            "gridcolor": "white",
            "linecolor": "white",
            "ticks": ""
           },
           "baxis": {
            "gridcolor": "white",
            "linecolor": "white",
            "ticks": ""
           },
           "bgcolor": "#E5ECF6",
           "caxis": {
            "gridcolor": "white",
            "linecolor": "white",
            "ticks": ""
           }
          },
          "title": {
           "x": 0.05
          },
          "xaxis": {
           "automargin": true,
           "gridcolor": "white",
           "linecolor": "white",
           "ticks": "",
           "title": {
            "standoff": 15
           },
           "zerolinecolor": "white",
           "zerolinewidth": 2
          },
          "yaxis": {
           "automargin": true,
           "gridcolor": "white",
           "linecolor": "white",
           "ticks": "",
           "title": {
            "standoff": 15
           },
           "zerolinecolor": "white",
           "zerolinewidth": 2
          }
         }
        },
        "title": {
         "text": "Parallel Categories Plot of COVID-19 and GDP Data"
        }
       }
      }
     },
     "metadata": {},
     "output_type": "display_data"
    }
   ],
   "source": [
    "import pandas as pd\n",
    "import plotly.graph_objs as go\n",
    "\n",
    "# Load COVID-19 and GDP data\n",
    "covid_df = pd.read_csv('owid-covid-data.csv')\n",
    "gdp_df = pd.read_csv('GDP-data.csv', skiprows=4)\n",
    "\n",
    "# Filter COVID-19 data for 2021 and 2020 and exclude certain locations\n",
    "covid_2021_df = covid_df[covid_df['date'].str.startswith('2021')]\n",
    "covid_2020_df = covid_df[covid_df['date'].str.startswith('2020')]\n",
    "exclude_locations = ['World', 'Upper middle income', 'Lower middle income', 'High income', 'Low income',\n",
    "                     'European Union', 'North America', 'South America', 'Asia', 'Oceania', 'Africa']\n",
    "covid_2021_df = covid_2021_df[~covid_2021_df['location'].isin(exclude_locations)]\n",
    "covid_2020_df = covid_2020_df[~covid_2020_df['location'].isin(exclude_locations)]\n",
    "\n",
    "# Define variables of interest\n",
    "variables = ['total_deaths_per_million', 'total_cases_per_million', 'people_vaccinated_per_hundred', \n",
    "             'total_tests_per_thousand', 'excess_mortality_cumulative_per_million']\n",
    "\n",
    "# Compute last values for each variable by location for 2021 and 2020\n",
    "last_values_2021_dfs = {}\n",
    "last_values_2020_dfs = {}\n",
    "for var in variables:\n",
    "    last_values_2021_dfs[var] = covid_2021_df.groupby('location').last()[var].reset_index()\n",
    "    last_values_2020_dfs[var] = covid_2020_df.groupby('location').last()[var].reset_index()\n",
    "\n",
    "# Merge COVID-19 variables for 2021 with GDP data\n",
    "merged_df = last_values_2021_dfs[variables[0]]\n",
    "for var in variables[1:]:\n",
    "    merged_df = pd.merge(merged_df, last_values_2021_dfs[var], on='location', how='left')\n",
    "\n",
    "# Rename columns for clarity\n",
    "for var in variables:\n",
    "    merged_df = merged_df.rename(columns={var: f'{var}_2021'})\n",
    "\n",
    "# Merge last values of 2020\n",
    "for var in variables:\n",
    "    if var != 'people_vaccinated_per_hundred':  # Skip 'people_vaccinated_per_hundred'\n",
    "        merged_df = pd.merge(merged_df, last_values_2020_dfs[var].rename(columns={var: f'{var}_2020'}), on='location', how='left')\n",
    "\n",
    "# Adjust variables by subtracting 2020 values from 2021 values, except for 'people_vaccinated_per_hundred'\n",
    "for var in variables:\n",
    "    if var != 'people_vaccinated_per_hundred':\n",
    "        merged_df[var] = merged_df[f'{var}_2021'] - merged_df[f'{var}_2020']\n",
    "    else:\n",
    "        merged_df[var] = merged_df[f'{var}_2021']\n",
    "\n",
    "# Drop unnecessary columns\n",
    "columns_to_drop = [f'{var}_2021' for var in variables if var != 'people_vaccinated_per_hundred'] + [f'{var}_2020' for var in variables if var != 'people_vaccinated_per_hundred']\n",
    "merged_df = merged_df.drop(columns=columns_to_drop)\n",
    "\n",
    "# Merge with GDP data\n",
    "gdp_df = gdp_df.rename(columns={\"Country Name\": 'location'})\n",
    "gdp_df = gdp_df[['location', \"2021\"]]\n",
    "final_merged_df = pd.merge(merged_df, gdp_df, on='location', how='inner')\n",
    "final_merged_df = final_merged_df.rename(columns={\"2021\": \"GDP_2021\"})\n",
    "\n",
    "# Categorical binning for each variable\n",
    "for var in variables + ['GDP_2021']:\n",
    "    final_merged_df[f'{var}_category'] = pd.qcut(final_merged_df[var], q=3, labels=['low', 'medium', 'high'])\n",
    "\n",
    "# Define category orders for each variable\n",
    "category_orders = {\n",
    "    'GDP_2021_category': ['low', 'medium', 'high'],\n",
    "    'total_deaths_per_million_category': ['low', 'medium', 'high'],\n",
    "    'total_cases_per_million_category': ['low', 'medium', 'high'],\n",
    "    'people_vaccinated_per_hundred_category': ['low', 'medium', 'high'],\n",
    "    'total_tests_per_thousand_category': ['low', 'medium', 'high'],\n",
    "    'excess_mortality_cumulative_per_million_category': ['low', 'medium', 'high'] \n",
    "}\n",
    "\n",
    "# Ensure all variables are treated as categorical\n",
    "for var in variables + ['GDP_2021']:\n",
    "    final_merged_df[f'{var}_category'] = final_merged_df[f'{var}_category'].astype('category').cat.add_categories('nan').fillna('nan')\n",
    "\n",
    "# Define dimensions for Plotly Parcats\n",
    "dimensions = [\n",
    "    {'label': 'GDP 2021', 'values': final_merged_df['GDP_2021_category'], 'categoryorder': 'array', 'categoryarray': category_orders['GDP_2021_category']},\n",
    "    {'label': 'Total Deaths', 'values': final_merged_df['total_deaths_per_million_category'], 'categoryorder': 'array', 'categoryarray': category_orders['total_deaths_per_million_category']},\n",
    "    {'label': 'Total Cases', 'values': final_merged_df['total_cases_per_million_category'], 'categoryorder': 'array', 'categoryarray': category_orders['total_cases_per_million_category']},\n",
    "    {'label': 'People Vaccinated', 'values': final_merged_df['people_vaccinated_per_hundred_category'], 'categoryorder': 'array', 'categoryarray': category_orders['people_vaccinated_per_hundred_category']},\n",
    "    {'label': 'Total Tests', 'values': final_merged_df['total_tests_per_thousand_category'], 'categoryorder': 'array', 'categoryarray': category_orders['total_tests_per_thousand_category']},\n",
    "    {'label': 'Excess Mortality', 'values': final_merged_df['excess_mortality_cumulative_per_million_category'], 'categoryorder': 'array', 'categoryarray': category_orders['excess_mortality_cumulative_per_million_category']}\n",
    "]\n",
    "\n",
    "# Create the Parcats figure\n",
    "fig = go.Figure(data=[\n",
    "    go.Parcats(\n",
    "        dimensions=dimensions,\n",
    "        line={'color': final_merged_df['GDP_2021_category'].cat.codes, 'colorscale': 'Viridis', 'showscale': False},\n",
    "        hoverinfo='count+probability',\n",
    "        arrangement='freeform'\n",
    "    )\n",
    "])\n",
    "\n",
    "# Update layout and display the plot\n",
    "fig.update_layout(\n",
    "    title='Parallel Categories Plot of COVID-19 and GDP Data',\n",
    "    height=600\n",
    ")\n",
    "\n",
    "\n",
    "\n",
    "fig.add_annotation(text=\"Figure 1.4\", xref=\"paper\", yref=\"paper\", x=1, y=-0.2, showarrow=False, align=\"center\", font=dict(size=14))\n",
    "\n"
   ]
  },
  {
   "cell_type": "markdown",
   "metadata": {
    "tags": [
     "remove_input"
    ]
   },
   "source": [
    "In this parallel categories plot, we excluded outliers in our location data such as continents, income groups, and global aggregates. Additionally, we categorized the values into high, medium, and low by dividing them into three bins. For the total deaths, total cases and excess mortality we used the variables per million and for people vaccinated and total tests we used the variables per hundred.\n",
    "\n",
    "The plot above shows that countries with low GDP tend to have lower values for total deaths per million and total cases per million, which creates the impression that they managed the pandemic more effectively than high GDP regions. However, these countries also tend to have lower vaccination rates compared to regions with medium and high GDP. Furthermore the plot also shows that lower GDP regions have either a low test rate or the data is unavailable. Additionally, the data on excess mortality rates per million is also often unavailable for lower GDP regions. Based on the plot, we can conclude that the lower reported total deaths and cases per million in low GDP countries may not accurately reflect their handling of the pandemic. Instead, these figures might be influenced by limited resources for testing and data recording. Additionally, the lower vaccination rates and lack of data on excess mortality rates in low GDP regions suggest that the pandemic's true impact may be underreported in these areas.\n",
    "\n",
    "For this reason, it is important to take a look at countries with a relatively higher GDP per capita in order to know whether the same trend we can see globally also occurs when countries with a higher GDP per capita get compared. Therefore, we made two maps, one for the global trend between deaths per million and gdp per capita and one for the european trend. Europe generally speaking has a higher gdp compared to the rest of the world which is why we choose them to the rest of the world."
   ]
  },
  {
   "cell_type": "code",
   "execution_count": 57,
   "metadata": {
    "tags": [
     "remove_input"
    ]
   },
   "outputs": [
    {
     "name": "stdout",
     "output_type": "stream",
     "text": [
      "Correlation between GDP and Total Deaths per Million in Europe: -0.47824773806092197\n"
     ]
    },
    {
     "data": {
      "application/vnd.plotly.v1+json": {
       "config": {
        "plotlyServerURL": "https://plot.ly"
       },
       "data": [
        {
         "hovertemplate": "<b>%{hovertext}</b><br><br>GDP=%{x}<br>Total Deaths per Million=%{y}<extra></extra>",
         "hovertext": [
          "Albania",
          "Andorra",
          "Austria",
          "Belgium",
          "Bulgaria",
          "Bosnia and Herzegovina",
          "Belarus",
          "Switzerland",
          "Cyprus",
          "Czechia",
          "Germany",
          "Denmark",
          "Spain",
          "Estonia",
          "Finland",
          "France",
          "United Kingdom",
          "Gibraltar",
          "Greece",
          "Croatia",
          "Hungary",
          "Isle of Man",
          "Ireland",
          "Iceland",
          "Italy",
          "Liechtenstein",
          "Lithuania",
          "Luxembourg",
          "Latvia",
          "Monaco",
          "Moldova",
          "North Macedonia",
          "Malta",
          "Montenegro",
          "Netherlands",
          "Norway",
          "Poland",
          "Portugal",
          "Romania",
          "San Marino",
          "Serbia",
          "Slovenia",
          "Sweden",
          "Ukraine",
          "Kosovo"
         ],
         "legendgroup": "",
         "marker": {
          "color": "#636efa",
          "symbol": "circle"
         },
         "mode": "markers",
         "name": "",
         "orientation": "v",
         "showlegend": false,
         "type": "scatter",
         "x": [
          16262.6634527606,
          58829.8500720505,
          63421.2035870778,
          62107.0699329664,
          29406.5795920851,
          18379.5525047191,
          27611.1801135156,
          81603.2073073193,
          48469.4140625,
          48418.1157871868,
          61939.6515850137,
          69878.9348117258,
          43620.6040614123,
          45047.315035037,
          57848.6141705053,
          53834.7992971017,
          52841.6345850474,
          null,
          33018.2544152866,
          36954.4345867034,
          38643.762589993,
          null,
          114120.544516392,
          61481.3794980574,
          49912.83903304,
          null,
          46410.0676392912,
          137947.34385169,
          36777.8928459839,
          null,
          15682.0703284653,
          19902.8198301911,
          53387.2378429299,
          24511.2620665873,
          67693.3264311302,
          86891.9964886406,
          40462.6887122126,
          38783.0115625218,
          37971.0545519053,
          65717.8915454458,
          22575.4210980499,
          46502.0978938704,
          63375.0446462412,
          18040.345703125,
          12362.7048078624
         ],
         "xaxis": "x",
         "y": [
          1121.268,
          1740.917,
          1855.449,
          2418.684,
          4501.357,
          4107.894,
          575.147,
          1353.245,
          710.932,
          3429.391,
          1411.686,
          543.499,
          1919.21,
          1378.516,
          331.363,
          1921.267,
          2609.418,
          3060.256,
          1974.488,
          3046.625,
          3843.266,
          792.581,
          1205.23,
          99.222,
          2312.599,
          1753.272,
          2655.217,
          980.542,
          2601.783,
          1041.353,
          3111.525,
          3989.289,
          924.445,
          3629.509,
          1193.349,
          245.661,
          2366.702,
          1838.99,
          2977.527,
          2908.875,
          1828.991,
          2872.383,
          1450.516,
          2330.704,
          1671.609
         ],
         "yaxis": "y"
        },
        {
         "hovertemplate": "<b>OLS trendline</b><br>total_deaths_per_million = -0.0209579 * 2021 + 3075.25<br>R<sup>2</sup>=0.228721<br><br>GDP=%{x}<br>Total Deaths per Million=%{y} <b>(trend)</b><extra></extra>",
         "legendgroup": "",
         "marker": {
          "color": "#636efa",
          "symbol": "circle"
         },
         "mode": "lines",
         "name": "",
         "showlegend": false,
         "type": "scatter",
         "x": [
          12362.7048078624,
          15682.0703284653,
          16262.6634527606,
          18040.345703125,
          18379.5525047191,
          19902.8198301911,
          22575.4210980499,
          24511.2620665873,
          27611.1801135156,
          29406.5795920851,
          33018.2544152866,
          36777.8928459839,
          36954.4345867034,
          37971.0545519053,
          38643.762589993,
          38783.0115625218,
          40462.6887122126,
          43620.6040614123,
          45047.315035037,
          46410.0676392912,
          46502.0978938704,
          48418.1157871868,
          48469.4140625,
          49912.83903304,
          52841.6345850474,
          53387.2378429299,
          53834.7992971017,
          57848.6141705053,
          58829.8500720505,
          61481.3794980574,
          61939.6515850137,
          62107.0699329664,
          63375.0446462412,
          63421.2035870778,
          65717.8915454458,
          67693.3264311302,
          69878.9348117258,
          81603.2073073193,
          86891.9964886406,
          114120.544516392,
          137947.34385169
         ],
         "xaxis": "x",
         "y": [
          2816.1545180145254,
          2746.587597816731,
          2734.41958700426,
          2697.163105763931,
          2690.0540446043274,
          2658.129565117726,
          2602.117463417071,
          2561.546308074889,
          2496.5785453949916,
          2458.950748313421,
          2383.2576399026284,
          2304.4635254679592,
          2300.7635818757326,
          2279.457365506455,
          2265.358819832111,
          2262.440454228983,
          2227.237953779628,
          2161.0546896209808,
          2131.1538281968856,
          2102.5933996809354,
          2100.6646390981205,
          2060.508933721727,
          2059.4338297589825,
          2029.182678111537,
          1967.8012830293985,
          1956.366586228103,
          1946.9866394362464,
          1862.865521332907,
          1842.300880519982,
          1786.730400307359,
          1777.1259811783762,
          1773.6172447107042,
          1747.0431614578335,
          1746.075767136942,
          1697.942017802219,
          1656.5410572284688,
          1610.735302227161,
          1365.0192085894803,
          1254.1773104507326,
          683.5242094314895,
          184.1646066280964
         ],
         "yaxis": "y"
        }
       ],
       "layout": {
        "annotations": [
         {
          "align": "center",
          "font": {
           "size": 14
          },
          "showarrow": false,
          "text": "Figure 1.5",
          "x": 1,
          "xref": "paper",
          "y": -0.2,
          "yref": "paper"
         }
        ],
        "legend": {
         "tracegroupgap": 0
        },
        "template": {
         "data": {
          "bar": [
           {
            "error_x": {
             "color": "#2a3f5f"
            },
            "error_y": {
             "color": "#2a3f5f"
            },
            "marker": {
             "line": {
              "color": "#E5ECF6",
              "width": 0.5
             },
             "pattern": {
              "fillmode": "overlay",
              "size": 10,
              "solidity": 0.2
             }
            },
            "type": "bar"
           }
          ],
          "barpolar": [
           {
            "marker": {
             "line": {
              "color": "#E5ECF6",
              "width": 0.5
             },
             "pattern": {
              "fillmode": "overlay",
              "size": 10,
              "solidity": 0.2
             }
            },
            "type": "barpolar"
           }
          ],
          "carpet": [
           {
            "aaxis": {
             "endlinecolor": "#2a3f5f",
             "gridcolor": "white",
             "linecolor": "white",
             "minorgridcolor": "white",
             "startlinecolor": "#2a3f5f"
            },
            "baxis": {
             "endlinecolor": "#2a3f5f",
             "gridcolor": "white",
             "linecolor": "white",
             "minorgridcolor": "white",
             "startlinecolor": "#2a3f5f"
            },
            "type": "carpet"
           }
          ],
          "choropleth": [
           {
            "colorbar": {
             "outlinewidth": 0,
             "ticks": ""
            },
            "type": "choropleth"
           }
          ],
          "contour": [
           {
            "colorbar": {
             "outlinewidth": 0,
             "ticks": ""
            },
            "colorscale": [
             [
              0,
              "#0d0887"
             ],
             [
              0.1111111111111111,
              "#46039f"
             ],
             [
              0.2222222222222222,
              "#7201a8"
             ],
             [
              0.3333333333333333,
              "#9c179e"
             ],
             [
              0.4444444444444444,
              "#bd3786"
             ],
             [
              0.5555555555555556,
              "#d8576b"
             ],
             [
              0.6666666666666666,
              "#ed7953"
             ],
             [
              0.7777777777777778,
              "#fb9f3a"
             ],
             [
              0.8888888888888888,
              "#fdca26"
             ],
             [
              1,
              "#f0f921"
             ]
            ],
            "type": "contour"
           }
          ],
          "contourcarpet": [
           {
            "colorbar": {
             "outlinewidth": 0,
             "ticks": ""
            },
            "type": "contourcarpet"
           }
          ],
          "heatmap": [
           {
            "colorbar": {
             "outlinewidth": 0,
             "ticks": ""
            },
            "colorscale": [
             [
              0,
              "#0d0887"
             ],
             [
              0.1111111111111111,
              "#46039f"
             ],
             [
              0.2222222222222222,
              "#7201a8"
             ],
             [
              0.3333333333333333,
              "#9c179e"
             ],
             [
              0.4444444444444444,
              "#bd3786"
             ],
             [
              0.5555555555555556,
              "#d8576b"
             ],
             [
              0.6666666666666666,
              "#ed7953"
             ],
             [
              0.7777777777777778,
              "#fb9f3a"
             ],
             [
              0.8888888888888888,
              "#fdca26"
             ],
             [
              1,
              "#f0f921"
             ]
            ],
            "type": "heatmap"
           }
          ],
          "heatmapgl": [
           {
            "colorbar": {
             "outlinewidth": 0,
             "ticks": ""
            },
            "colorscale": [
             [
              0,
              "#0d0887"
             ],
             [
              0.1111111111111111,
              "#46039f"
             ],
             [
              0.2222222222222222,
              "#7201a8"
             ],
             [
              0.3333333333333333,
              "#9c179e"
             ],
             [
              0.4444444444444444,
              "#bd3786"
             ],
             [
              0.5555555555555556,
              "#d8576b"
             ],
             [
              0.6666666666666666,
              "#ed7953"
             ],
             [
              0.7777777777777778,
              "#fb9f3a"
             ],
             [
              0.8888888888888888,
              "#fdca26"
             ],
             [
              1,
              "#f0f921"
             ]
            ],
            "type": "heatmapgl"
           }
          ],
          "histogram": [
           {
            "marker": {
             "pattern": {
              "fillmode": "overlay",
              "size": 10,
              "solidity": 0.2
             }
            },
            "type": "histogram"
           }
          ],
          "histogram2d": [
           {
            "colorbar": {
             "outlinewidth": 0,
             "ticks": ""
            },
            "colorscale": [
             [
              0,
              "#0d0887"
             ],
             [
              0.1111111111111111,
              "#46039f"
             ],
             [
              0.2222222222222222,
              "#7201a8"
             ],
             [
              0.3333333333333333,
              "#9c179e"
             ],
             [
              0.4444444444444444,
              "#bd3786"
             ],
             [
              0.5555555555555556,
              "#d8576b"
             ],
             [
              0.6666666666666666,
              "#ed7953"
             ],
             [
              0.7777777777777778,
              "#fb9f3a"
             ],
             [
              0.8888888888888888,
              "#fdca26"
             ],
             [
              1,
              "#f0f921"
             ]
            ],
            "type": "histogram2d"
           }
          ],
          "histogram2dcontour": [
           {
            "colorbar": {
             "outlinewidth": 0,
             "ticks": ""
            },
            "colorscale": [
             [
              0,
              "#0d0887"
             ],
             [
              0.1111111111111111,
              "#46039f"
             ],
             [
              0.2222222222222222,
              "#7201a8"
             ],
             [
              0.3333333333333333,
              "#9c179e"
             ],
             [
              0.4444444444444444,
              "#bd3786"
             ],
             [
              0.5555555555555556,
              "#d8576b"
             ],
             [
              0.6666666666666666,
              "#ed7953"
             ],
             [
              0.7777777777777778,
              "#fb9f3a"
             ],
             [
              0.8888888888888888,
              "#fdca26"
             ],
             [
              1,
              "#f0f921"
             ]
            ],
            "type": "histogram2dcontour"
           }
          ],
          "mesh3d": [
           {
            "colorbar": {
             "outlinewidth": 0,
             "ticks": ""
            },
            "type": "mesh3d"
           }
          ],
          "parcoords": [
           {
            "line": {
             "colorbar": {
              "outlinewidth": 0,
              "ticks": ""
             }
            },
            "type": "parcoords"
           }
          ],
          "pie": [
           {
            "automargin": true,
            "type": "pie"
           }
          ],
          "scatter": [
           {
            "fillpattern": {
             "fillmode": "overlay",
             "size": 10,
             "solidity": 0.2
            },
            "type": "scatter"
           }
          ],
          "scatter3d": [
           {
            "line": {
             "colorbar": {
              "outlinewidth": 0,
              "ticks": ""
             }
            },
            "marker": {
             "colorbar": {
              "outlinewidth": 0,
              "ticks": ""
             }
            },
            "type": "scatter3d"
           }
          ],
          "scattercarpet": [
           {
            "marker": {
             "colorbar": {
              "outlinewidth": 0,
              "ticks": ""
             }
            },
            "type": "scattercarpet"
           }
          ],
          "scattergeo": [
           {
            "marker": {
             "colorbar": {
              "outlinewidth": 0,
              "ticks": ""
             }
            },
            "type": "scattergeo"
           }
          ],
          "scattergl": [
           {
            "marker": {
             "colorbar": {
              "outlinewidth": 0,
              "ticks": ""
             }
            },
            "type": "scattergl"
           }
          ],
          "scattermapbox": [
           {
            "marker": {
             "colorbar": {
              "outlinewidth": 0,
              "ticks": ""
             }
            },
            "type": "scattermapbox"
           }
          ],
          "scatterpolar": [
           {
            "marker": {
             "colorbar": {
              "outlinewidth": 0,
              "ticks": ""
             }
            },
            "type": "scatterpolar"
           }
          ],
          "scatterpolargl": [
           {
            "marker": {
             "colorbar": {
              "outlinewidth": 0,
              "ticks": ""
             }
            },
            "type": "scatterpolargl"
           }
          ],
          "scatterternary": [
           {
            "marker": {
             "colorbar": {
              "outlinewidth": 0,
              "ticks": ""
             }
            },
            "type": "scatterternary"
           }
          ],
          "surface": [
           {
            "colorbar": {
             "outlinewidth": 0,
             "ticks": ""
            },
            "colorscale": [
             [
              0,
              "#0d0887"
             ],
             [
              0.1111111111111111,
              "#46039f"
             ],
             [
              0.2222222222222222,
              "#7201a8"
             ],
             [
              0.3333333333333333,
              "#9c179e"
             ],
             [
              0.4444444444444444,
              "#bd3786"
             ],
             [
              0.5555555555555556,
              "#d8576b"
             ],
             [
              0.6666666666666666,
              "#ed7953"
             ],
             [
              0.7777777777777778,
              "#fb9f3a"
             ],
             [
              0.8888888888888888,
              "#fdca26"
             ],
             [
              1,
              "#f0f921"
             ]
            ],
            "type": "surface"
           }
          ],
          "table": [
           {
            "cells": {
             "fill": {
              "color": "#EBF0F8"
             },
             "line": {
              "color": "white"
             }
            },
            "header": {
             "fill": {
              "color": "#C8D4E3"
             },
             "line": {
              "color": "white"
             }
            },
            "type": "table"
           }
          ]
         },
         "layout": {
          "annotationdefaults": {
           "arrowcolor": "#2a3f5f",
           "arrowhead": 0,
           "arrowwidth": 1
          },
          "autotypenumbers": "strict",
          "coloraxis": {
           "colorbar": {
            "outlinewidth": 0,
            "ticks": ""
           }
          },
          "colorscale": {
           "diverging": [
            [
             0,
             "#8e0152"
            ],
            [
             0.1,
             "#c51b7d"
            ],
            [
             0.2,
             "#de77ae"
            ],
            [
             0.3,
             "#f1b6da"
            ],
            [
             0.4,
             "#fde0ef"
            ],
            [
             0.5,
             "#f7f7f7"
            ],
            [
             0.6,
             "#e6f5d0"
            ],
            [
             0.7,
             "#b8e186"
            ],
            [
             0.8,
             "#7fbc41"
            ],
            [
             0.9,
             "#4d9221"
            ],
            [
             1,
             "#276419"
            ]
           ],
           "sequential": [
            [
             0,
             "#0d0887"
            ],
            [
             0.1111111111111111,
             "#46039f"
            ],
            [
             0.2222222222222222,
             "#7201a8"
            ],
            [
             0.3333333333333333,
             "#9c179e"
            ],
            [
             0.4444444444444444,
             "#bd3786"
            ],
            [
             0.5555555555555556,
             "#d8576b"
            ],
            [
             0.6666666666666666,
             "#ed7953"
            ],
            [
             0.7777777777777778,
             "#fb9f3a"
            ],
            [
             0.8888888888888888,
             "#fdca26"
            ],
            [
             1,
             "#f0f921"
            ]
           ],
           "sequentialminus": [
            [
             0,
             "#0d0887"
            ],
            [
             0.1111111111111111,
             "#46039f"
            ],
            [
             0.2222222222222222,
             "#7201a8"
            ],
            [
             0.3333333333333333,
             "#9c179e"
            ],
            [
             0.4444444444444444,
             "#bd3786"
            ],
            [
             0.5555555555555556,
             "#d8576b"
            ],
            [
             0.6666666666666666,
             "#ed7953"
            ],
            [
             0.7777777777777778,
             "#fb9f3a"
            ],
            [
             0.8888888888888888,
             "#fdca26"
            ],
            [
             1,
             "#f0f921"
            ]
           ]
          },
          "colorway": [
           "#636efa",
           "#EF553B",
           "#00cc96",
           "#ab63fa",
           "#FFA15A",
           "#19d3f3",
           "#FF6692",
           "#B6E880",
           "#FF97FF",
           "#FECB52"
          ],
          "font": {
           "color": "#2a3f5f"
          },
          "geo": {
           "bgcolor": "white",
           "lakecolor": "white",
           "landcolor": "#E5ECF6",
           "showlakes": true,
           "showland": true,
           "subunitcolor": "white"
          },
          "hoverlabel": {
           "align": "left"
          },
          "hovermode": "closest",
          "mapbox": {
           "style": "light"
          },
          "paper_bgcolor": "white",
          "plot_bgcolor": "#E5ECF6",
          "polar": {
           "angularaxis": {
            "gridcolor": "white",
            "linecolor": "white",
            "ticks": ""
           },
           "bgcolor": "#E5ECF6",
           "radialaxis": {
            "gridcolor": "white",
            "linecolor": "white",
            "ticks": ""
           }
          },
          "scene": {
           "xaxis": {
            "backgroundcolor": "#E5ECF6",
            "gridcolor": "white",
            "gridwidth": 2,
            "linecolor": "white",
            "showbackground": true,
            "ticks": "",
            "zerolinecolor": "white"
           },
           "yaxis": {
            "backgroundcolor": "#E5ECF6",
            "gridcolor": "white",
            "gridwidth": 2,
            "linecolor": "white",
            "showbackground": true,
            "ticks": "",
            "zerolinecolor": "white"
           },
           "zaxis": {
            "backgroundcolor": "#E5ECF6",
            "gridcolor": "white",
            "gridwidth": 2,
            "linecolor": "white",
            "showbackground": true,
            "ticks": "",
            "zerolinecolor": "white"
           }
          },
          "shapedefaults": {
           "line": {
            "color": "#2a3f5f"
           }
          },
          "ternary": {
           "aaxis": {
            "gridcolor": "white",
            "linecolor": "white",
            "ticks": ""
           },
           "baxis": {
            "gridcolor": "white",
            "linecolor": "white",
            "ticks": ""
           },
           "bgcolor": "#E5ECF6",
           "caxis": {
            "gridcolor": "white",
            "linecolor": "white",
            "ticks": ""
           }
          },
          "title": {
           "x": 0.05
          },
          "xaxis": {
           "automargin": true,
           "gridcolor": "white",
           "linecolor": "white",
           "ticks": "",
           "title": {
            "standoff": 15
           },
           "zerolinecolor": "white",
           "zerolinewidth": 2
          },
          "yaxis": {
           "automargin": true,
           "gridcolor": "white",
           "linecolor": "white",
           "ticks": "",
           "title": {
            "standoff": 15
           },
           "zerolinecolor": "white",
           "zerolinewidth": 2
          }
         }
        },
        "title": {
         "text": "Comparison of GDP and Deaths per Million by Country (Europe)"
        },
        "xaxis": {
         "anchor": "y",
         "domain": [
          0,
          1
         ],
         "title": {
          "text": "GDP"
         }
        },
        "yaxis": {
         "anchor": "x",
         "domain": [
          0,
          1
         ],
         "title": {
          "text": "Total Deaths per Million"
         }
        }
       }
      }
     },
     "metadata": {},
     "output_type": "display_data"
    }
   ],
   "source": [
    "import pandas as pd\n",
    "import plotly.express as px\n",
    "\n",
    "# Read the datasets\n",
    "CovidData = pd.read_csv('owid-covid-data.csv')\n",
    "GDPdata = pd.read_csv('GDP-data.csv', skiprows=4)\n",
    "\n",
    "# Filter COVID data for 2021 and get the last available data for each location\n",
    "Covid_2021 = CovidData[CovidData['date'].str.startswith('2021')]\n",
    "Covid_deaths_2021 = Covid_2021.groupby('location').last().reset_index()\n",
    "\n",
    "# Preprocess GDP data\n",
    "GDPdata = GDPdata.rename(columns={'Country Name': 'location'})\n",
    "\n",
    "# Merge GDP data with COVID data\n",
    "df = pd.merge(GDPdata, Covid_deaths_2021, on='location', how='inner')\n",
    "\n",
    "# Filter out non-country entries\n",
    "non_countries = ['World', 'Upper middle income', 'Lower middle income', 'High income', 'Low income', \n",
    "                 'European Union', 'North America', 'South America', 'Asia', 'Oceania', 'Africa']\n",
    "df = df[~df['location'].isin(non_countries)]\n",
    "\n",
    "# Filter for European countries only\n",
    "df = df[df['continent'] == 'Europe']\n",
    "\n",
    "# Calculate correlation\n",
    "correlation = df['total_deaths_per_million'].corr(df['2021'])\n",
    "print(f\"Correlation between GDP and Total Deaths per Million in Europe: {correlation}\")\n",
    "\n",
    "# Create the scatter plot\n",
    "fig = px.scatter(\n",
    "    df,\n",
    "    x=\"2021\",\n",
    "    y=\"total_deaths_per_million\",\n",
    "    hover_name=\"location\",\n",
    "    trendline=\"ols\",\n",
    "    title=\"Comparison of GDP and Deaths per Million by Country (Europe)\",\n",
    "    labels={\n",
    "        \"2021\": \"GDP\",\n",
    "        \"total_deaths_per_million\": \"Total Deaths per Million\"\n",
    "    }\n",
    ")\n",
    "\n",
    "# Show the figure\n",
    "fig.add_annotation(text=\"Figure 1.5\", xref=\"paper\", yref=\"paper\", x=1, y=-0.2, showarrow=False, align=\"center\", font=dict(size=14))"
   ]
  },
  {
   "cell_type": "markdown",
   "metadata": {
    "tags": [
     "remove_input"
    ]
   },
   "source": [
    "As you can see in the European graph, the general trend is clearly going down. There is a negative correlation between the total deaths per million and the GDP per capita."
   ]
  },
  {
   "cell_type": "markdown",
   "metadata": {
    "tags": [
     "remove_input"
    ]
   },
   "source": [
    "### Perspective 2: \n",
    "**Countries with a lower gdp have not necessarily managed the covid pandemic worse.**\n",
    "\n",
    "Although there might be some truth to the statement that money and resources helped lighten the burden of the covid-19 pandemic, there also might be some other factors at play. These factors may also occur in countries with a lower GDP per capita. For this reason it is important that we explore other possible explainations for having a lower mortality rate. \n",
    "\n",
    "#### Argument 1: \n",
    "**Countries with a lower gdp per capita do not have more cases and deaths than Countries with a high gdp per capita**\n",
    "\n",
    "Different regions of the world generally have wildly different socio-economic circumstances. Mapping the countries against their respective mortality rate should provide us an insight into the possible causations for higher and lower mortality rates. We have chosen to try to map the mortality rate across different years aswell because we were interested to see whether the general contrast between high and low mortality rate stayed the same across all years or whether there were changes throughout the years."
   ]
  },
  {
   "cell_type": "code",
   "execution_count": 58,
   "metadata": {
    "tags": [
     "remove_input"
    ]
   },
   "outputs": [
    {
     "data": {
      "application/vnd.plotly.v1+json": {
       "config": {
        "plotlyServerURL": "https://plot.ly"
       },
       "data": [
        {
         "coloraxis": "coloraxis",
         "geo": "geo",
         "hovertemplate": "<b>%{hovertext}</b><br><br>Country Code=%{location}<br>total_deaths_per_million=%{z}<extra></extra>",
         "hovertext": [
          "Aruba",
          "Afghanistan",
          "Angola",
          "Albania",
          "Andorra",
          "United Arab Emirates",
          "Argentina",
          "Armenia",
          "American Samoa",
          "Antigua and Barbuda",
          "Australia",
          "Austria",
          "Azerbaijan",
          "Burundi",
          "Belgium",
          "Benin",
          "Burkina Faso",
          "Bangladesh",
          "Bulgaria",
          "Bahrain",
          "Bosnia and Herzegovina",
          "Belarus",
          "Belize",
          "Bermuda",
          "Bolivia",
          "Brazil",
          "Barbados",
          "Bhutan",
          "Botswana",
          "Central African Republic",
          "Canada",
          "Switzerland",
          "Chile",
          "China",
          "Cote d'Ivoire",
          "Cameroon",
          "Colombia",
          "Comoros",
          "Costa Rica",
          "Cuba",
          "Curacao",
          "Cayman Islands",
          "Cyprus",
          "Czechia",
          "Germany",
          "Djibouti",
          "Dominica",
          "Denmark",
          "Dominican Republic",
          "Algeria",
          "Ecuador",
          "Eritrea",
          "Spain",
          "Estonia",
          "Ethiopia",
          "Finland",
          "Fiji",
          "France",
          "Gabon",
          "United Kingdom",
          "Georgia",
          "Ghana",
          "Gibraltar",
          "Guinea",
          "Guinea-Bissau",
          "Equatorial Guinea",
          "Greece",
          "Grenada",
          "Greenland",
          "Guatemala",
          "Guam",
          "Guyana",
          "Honduras",
          "Croatia",
          "Haiti",
          "Hungary",
          "Indonesia",
          "Isle of Man",
          "India",
          "Ireland",
          "Iraq",
          "Iceland",
          "Israel",
          "Italy",
          "Jamaica",
          "Jordan",
          "Japan",
          "Kazakhstan",
          "Kenya",
          "Cambodia",
          "Kiribati",
          "Kuwait",
          "Lebanon",
          "Liberia",
          "Libya",
          "Liechtenstein",
          "Sri Lanka",
          "Lesotho",
          "Lithuania",
          "Luxembourg",
          "Latvia",
          "Morocco",
          "Monaco",
          "Moldova",
          "Madagascar",
          "Maldives",
          "Mexico",
          "Marshall Islands",
          "North Macedonia",
          "Mali",
          "Malta",
          "Myanmar",
          "Montenegro",
          "Mongolia",
          "Northern Mariana Islands",
          "Mozambique",
          "Mauritania",
          "Mauritius",
          "Malawi",
          "Malaysia",
          "Namibia",
          "New Caledonia",
          "Niger",
          "Nigeria",
          "Nicaragua",
          "Netherlands",
          "Norway",
          "Nepal",
          "Nauru",
          "New Zealand",
          "Oman",
          "Pakistan",
          "Panama",
          "Philippines",
          "Palau",
          "Papua New Guinea",
          "Poland",
          "Puerto Rico",
          "Portugal",
          "Paraguay",
          "French Polynesia",
          "Qatar",
          "Romania",
          "Rwanda",
          "Saudi Arabia",
          "Sudan",
          "Senegal",
          "Singapore",
          "Solomon Islands",
          "Sierra Leone",
          "El Salvador",
          "San Marino",
          "Somalia",
          "Serbia",
          "South Sudan",
          "Sao Tome and Principe",
          "Suriname",
          "Slovenia",
          "Sweden",
          "Eswatini",
          "Sint Maarten (Dutch part)",
          "Seychelles",
          "Turks and Caicos Islands",
          "Chad",
          "Togo",
          "Thailand",
          "Tajikistan",
          "Turkmenistan",
          "Tonga",
          "Trinidad and Tobago",
          "Tunisia",
          "Tuvalu",
          "Tanzania",
          "Uganda",
          "Ukraine",
          "Uruguay",
          "United States",
          "Uzbekistan",
          "British Virgin Islands",
          "Vanuatu",
          "Samoa",
          "Kosovo",
          "South Africa",
          "Zambia",
          "Zimbabwe"
         ],
         "locations": [
          "ABW",
          "AFG",
          "AGO",
          "ALB",
          "AND",
          "ARE",
          "ARG",
          "ARM",
          "ASM",
          "ATG",
          "AUS",
          "AUT",
          "AZE",
          "BDI",
          "BEL",
          "BEN",
          "BFA",
          "BGD",
          "BGR",
          "BHR",
          "BIH",
          "BLR",
          "BLZ",
          "BMU",
          "BOL",
          "BRA",
          "BRB",
          "BTN",
          "BWA",
          "CAF",
          "CAN",
          "CHE",
          "CHL",
          "CHN",
          "CIV",
          "CMR",
          "COL",
          "COM",
          "CRI",
          "CUB",
          "CUW",
          "CYM",
          "CYP",
          "CZE",
          "DEU",
          "DJI",
          "DMA",
          "DNK",
          "DOM",
          "DZA",
          "ECU",
          "ERI",
          "ESP",
          "EST",
          "ETH",
          "FIN",
          "FJI",
          "FRA",
          "GAB",
          "GBR",
          "GEO",
          "GHA",
          "GIB",
          "GIN",
          "GNB",
          "GNQ",
          "GRC",
          "GRD",
          "GRL",
          "GTM",
          "GUM",
          "GUY",
          "HND",
          "HRV",
          "HTI",
          "HUN",
          "IDN",
          "IMN",
          "IND",
          "IRL",
          "IRQ",
          "ISL",
          "ISR",
          "ITA",
          "JAM",
          "JOR",
          "JPN",
          "KAZ",
          "KEN",
          "KHM",
          "KIR",
          "KWT",
          "LBN",
          "LBR",
          "LBY",
          "LIE",
          "LKA",
          "LSO",
          "LTU",
          "LUX",
          "LVA",
          "MAR",
          "MCO",
          "MDA",
          "MDG",
          "MDV",
          "MEX",
          "MHL",
          "MKD",
          "MLI",
          "MLT",
          "MMR",
          "MNE",
          "MNG",
          "MNP",
          "MOZ",
          "MRT",
          "MUS",
          "MWI",
          "MYS",
          "NAM",
          "NCL",
          "NER",
          "NGA",
          "NIC",
          "NLD",
          "NOR",
          "NPL",
          "NRU",
          "NZL",
          "OMN",
          "PAK",
          "PAN",
          "PHL",
          "PLW",
          "PNG",
          "POL",
          "PRI",
          "PRT",
          "PRY",
          "PYF",
          "QAT",
          "ROU",
          "RWA",
          "SAU",
          "SDN",
          "SEN",
          "SGP",
          "SLB",
          "SLE",
          "SLV",
          "SMR",
          "SOM",
          "SRB",
          "SSD",
          "STP",
          "SUR",
          "SVN",
          "SWE",
          "SWZ",
          "SXM",
          "SYC",
          "TCA",
          "TCD",
          "TGO",
          "THA",
          "TJK",
          "TKM",
          "TON",
          "TTO",
          "TUN",
          "TUV",
          "TZA",
          "UGA",
          "UKR",
          "URY",
          "USA",
          "UZB",
          "VGB",
          "VUT",
          "WSM",
          "XKX",
          "ZAF",
          "ZMB",
          "ZWE"
         ],
         "name": "",
         "type": "choropleth",
         "z": [
          441.485,
          52.469,
          11.239,
          398.97,
          1039.54,
          69.377,
          1043.873,
          995.514,
          null,
          53.321,
          35.145,
          788.513,
          233.248,
          0.155,
          1662.159,
          3.295,
          3.44,
          43.532,
          1050.287,
          238.413,
          1213.225,
          144.311,
          562.567,
          140.172,
          743.04,
          884.701,
          24.854,
          null,
          14.827,
          11.292,
          383.156,
          821.695,
          836.779,
          3.35,
          4.758,
          16.049,
          803.678,
          8.365,
          405.919,
          12.576,
          62.77,
          29.103,
          127.231,
          1083.191,
          563.861,
          54.423,
          null,
          197.033,
          214.092,
          60.619,
          777.179,
          0.271,
          1134.684,
          214.168,
          15.408,
          111.537,
          2.151,
          983.093,
          26.789,
          1340.193,
          634.817,
          10.007,
          183.615,
          5.772,
          21.372,
          51.346,
          450.844,
          null,
          null,
          266.926,
          704.377,
          200.315,
          293.4,
          896.446,
          20.285,
          907.668,
          77.085,
          414.035,
          104.167,
          443.948,
          286.924,
          75.087,
          343.105,
          1213.246,
          103.983,
          330.413,
          25.921,
          137.592,
          30.633,
          null,
          null,
          217.621,
          251.196,
          16.784,
          207.711,
          990.98,
          8.749,
          27.756,
          587.988,
          440.086,
          341.501,
          192.322,
          82.212,
          904.371,
          8.814,
          91.638,
          1128.513,
          null,
          1383.259,
          11.065,
          425.657,
          48.007,
          865.915,
          0.294,
          40.344,
          4.823,
          71.155,
          7.695,
          9.213,
          13.289,
          75.963,
          null,
          3.854,
          5.706,
          23.603,
          656.968,
          77.471,
          89.041,
          null,
          4.821,
          325.809,
          41.624,
          851.975,
          78.462,
          null,
          0.887,
          682.613,
          501.167,
          651.844,
          317.664,
          352.605,
          90.534,
          768.492,
          5.299,
          169.629,
          32.427,
          22.349,
          5.145,
          null,
          8.831,
          204.691,
          1691.897,
          7.217,
          434.109,
          5.773,
          74.76,
          192.542,
          1359.063,
          883.751,
          135.643,
          588.342,
          null,
          131.216,
          5.868,
          7.685,
          0.837,
          9.043,
          null,
          null,
          81.644,
          358.203,
          null,
          0.321,
          6.307,
          384.819,
          41.779,
          1013.687,
          null,
          31.916,
          null,
          null,
          726.665,
          442.8,
          19.083,
          20.894
         ]
        },
        {
         "coloraxis": "coloraxis",
         "geo": "geo",
         "hovertemplate": "<b>%{hovertext}</b><br><br>Country Code=%{location}<br>total_deaths_per_million=%{z}<extra></extra>",
         "hovertext": [
          "Aruba",
          "Afghanistan",
          "Angola",
          "Albania",
          "Andorra",
          "United Arab Emirates",
          "Argentina",
          "Armenia",
          "American Samoa",
          "Antigua and Barbuda",
          "Australia",
          "Austria",
          "Azerbaijan",
          "Burundi",
          "Belgium",
          "Benin",
          "Burkina Faso",
          "Bangladesh",
          "Bulgaria",
          "Bahrain",
          "Bosnia and Herzegovina",
          "Belarus",
          "Belize",
          "Bermuda",
          "Bolivia",
          "Brazil",
          "Barbados",
          "Bhutan",
          "Botswana",
          "Central African Republic",
          "Canada",
          "Switzerland",
          "Chile",
          "China",
          "Cote d'Ivoire",
          "Cameroon",
          "Colombia",
          "Comoros",
          "Costa Rica",
          "Cuba",
          "Curacao",
          "Cayman Islands",
          "Cyprus",
          "Czechia",
          "Germany",
          "Djibouti",
          "Dominica",
          "Denmark",
          "Dominican Republic",
          "Algeria",
          "Ecuador",
          "Eritrea",
          "Spain",
          "Estonia",
          "Ethiopia",
          "Finland",
          "Fiji",
          "France",
          "Gabon",
          "United Kingdom",
          "Georgia",
          "Ghana",
          "Gibraltar",
          "Guinea",
          "Guinea-Bissau",
          "Equatorial Guinea",
          "Greece",
          "Grenada",
          "Greenland",
          "Guatemala",
          "Guam",
          "Guyana",
          "Honduras",
          "Croatia",
          "Haiti",
          "Hungary",
          "Indonesia",
          "Isle of Man",
          "India",
          "Ireland",
          "Iraq",
          "Iceland",
          "Israel",
          "Italy",
          "Jamaica",
          "Jordan",
          "Japan",
          "Kazakhstan",
          "Kenya",
          "Cambodia",
          "Kiribati",
          "Kuwait",
          "Lebanon",
          "Liberia",
          "Libya",
          "Liechtenstein",
          "Sri Lanka",
          "Lesotho",
          "Lithuania",
          "Luxembourg",
          "Latvia",
          "Morocco",
          "Monaco",
          "Moldova",
          "Madagascar",
          "Maldives",
          "Mexico",
          "Marshall Islands",
          "North Macedonia",
          "Mali",
          "Malta",
          "Myanmar",
          "Montenegro",
          "Mongolia",
          "Northern Mariana Islands",
          "Mozambique",
          "Mauritania",
          "Mauritius",
          "Malawi",
          "Malaysia",
          "Namibia",
          "New Caledonia",
          "Niger",
          "Nigeria",
          "Nicaragua",
          "Netherlands",
          "Norway",
          "Nepal",
          "Nauru",
          "New Zealand",
          "Oman",
          "Pakistan",
          "Panama",
          "Philippines",
          "Palau",
          "Papua New Guinea",
          "Poland",
          "Puerto Rico",
          "Portugal",
          "Paraguay",
          "French Polynesia",
          "Qatar",
          "Romania",
          "Rwanda",
          "Saudi Arabia",
          "Sudan",
          "Senegal",
          "Singapore",
          "Solomon Islands",
          "Sierra Leone",
          "El Salvador",
          "San Marino",
          "Somalia",
          "Serbia",
          "South Sudan",
          "Sao Tome and Principe",
          "Suriname",
          "Slovenia",
          "Sweden",
          "Eswatini",
          "Sint Maarten (Dutch part)",
          "Seychelles",
          "Turks and Caicos Islands",
          "Chad",
          "Togo",
          "Thailand",
          "Tajikistan",
          "Turkmenistan",
          "Tonga",
          "Trinidad and Tobago",
          "Tunisia",
          "Tuvalu",
          "Tanzania",
          "Uganda",
          "Ukraine",
          "Uruguay",
          "United States",
          "Uzbekistan",
          "British Virgin Islands",
          "Vanuatu",
          "Samoa",
          "Kosovo",
          "South Africa",
          "Zambia",
          "Zimbabwe"
         ],
         "locations": [
          "ABW",
          "AFG",
          "AGO",
          "ALB",
          "AND",
          "ARE",
          "ARG",
          "ARM",
          "ASM",
          "ATG",
          "AUS",
          "AUT",
          "AZE",
          "BDI",
          "BEL",
          "BEN",
          "BFA",
          "BGD",
          "BGR",
          "BHR",
          "BIH",
          "BLR",
          "BLZ",
          "BMU",
          "BOL",
          "BRA",
          "BRB",
          "BTN",
          "BWA",
          "CAF",
          "CAN",
          "CHE",
          "CHL",
          "CHN",
          "CIV",
          "CMR",
          "COL",
          "COM",
          "CRI",
          "CUB",
          "CUW",
          "CYM",
          "CYP",
          "CZE",
          "DEU",
          "DJI",
          "DMA",
          "DNK",
          "DOM",
          "DZA",
          "ECU",
          "ERI",
          "ESP",
          "EST",
          "ETH",
          "FIN",
          "FJI",
          "FRA",
          "GAB",
          "GBR",
          "GEO",
          "GHA",
          "GIB",
          "GIN",
          "GNB",
          "GNQ",
          "GRC",
          "GRD",
          "GRL",
          "GTM",
          "GUM",
          "GUY",
          "HND",
          "HRV",
          "HTI",
          "HUN",
          "IDN",
          "IMN",
          "IND",
          "IRL",
          "IRQ",
          "ISL",
          "ISR",
          "ITA",
          "JAM",
          "JOR",
          "JPN",
          "KAZ",
          "KEN",
          "KHM",
          "KIR",
          "KWT",
          "LBN",
          "LBR",
          "LBY",
          "LIE",
          "LKA",
          "LSO",
          "LTU",
          "LUX",
          "LVA",
          "MAR",
          "MCO",
          "MDA",
          "MDG",
          "MDV",
          "MEX",
          "MHL",
          "MKD",
          "MLI",
          "MLT",
          "MMR",
          "MNE",
          "MNG",
          "MNP",
          "MOZ",
          "MRT",
          "MUS",
          "MWI",
          "MYS",
          "NAM",
          "NCL",
          "NER",
          "NGA",
          "NIC",
          "NLD",
          "NOR",
          "NPL",
          "NRU",
          "NZL",
          "OMN",
          "PAK",
          "PAN",
          "PHL",
          "PLW",
          "PNG",
          "POL",
          "PRI",
          "PRT",
          "PRY",
          "PYF",
          "QAT",
          "ROU",
          "RWA",
          "SAU",
          "SDN",
          "SEN",
          "SGP",
          "SLB",
          "SLE",
          "SLV",
          "SMR",
          "SOM",
          "SRB",
          "SSD",
          "STP",
          "SUR",
          "SVN",
          "SWE",
          "SWZ",
          "SXM",
          "SYC",
          "TCA",
          "TCD",
          "TGO",
          "THA",
          "TJK",
          "TKM",
          "TON",
          "TTO",
          "TUN",
          "TUV",
          "TZA",
          "UGA",
          "UKR",
          "URY",
          "USA",
          "UZB",
          "VGB",
          "VUT",
          "WSM",
          "XKX",
          "ZAF",
          "ZMB",
          "ZWE"
         ],
         "name": "",
         "type": "choropleth",
         "z": [
          1700.185,
          178.756,
          49.06,
          1121.268,
          1740.917,
          228.362,
          2589.083,
          2856.709,
          null,
          1258.371,
          90.803,
          1855.449,
          799.762,
          1.086,
          2418.684,
          12.057,
          13.981,
          163.915,
          4501.357,
          946.858,
          4107.894,
          575.147,
          1460.7,
          1650.91,
          1597.662,
          2872.054,
          923.145,
          3.834,
          927.271,
          18.103,
          776.272,
          1353.245,
          1990.08,
          3.997,
          25.106,
          66.31,
          2500.018,
          182.843,
          1418.497,
          742.049,
          972.941,
          160.065,
          710.932,
          3429.391,
          1411.686,
          168.622,
          618.489,
          543.499,
          377.333,
          138.721,
          1869.174,
          19.544,
          1919.21,
          1378.516,
          55.876,
          331.363,
          749.649,
          1921.267,
          120.134,
          2609.418,
          3608.603,
          38.446,
          3060.256,
          28.068,
          70.764,
          104.483,
          1974.488,
          1594.146,
          17.701,
          901.988,
          1571.75,
          1288.445,
          999.63,
          3046.625,
          66.12,
          3843.266,
          522.883,
          792.581,
          338.478,
          1205.23,
          542.115,
          99.222,
          873.214,
          2312.599,
          870.77,
          1102.617,
          148.34,
          937.468,
          99.19,
          179.391,
          null,
          578.137,
          1644.339,
          54.123,
          828.056,
          1753.272,
          681.747,
          288.4,
          2655.217,
          980.542,
          2601.783,
          395.83,
          1041.353,
          3111.525,
          34.682,
          498.284,
          2378.394,
          null,
          3989.289,
          28.902,
          924.445,
          355.375,
          3629.509,
          582.926,
          221.891,
          59.449,
          182.005,
          586.389,
          114.088,
          923.266,
          1406.687,
          965.654,
          10.455,
          13.791,
          31.086,
          1193.349,
          245.661,
          379.244,
          null,
          9.643,
          978.957,
          122.57,
          1680.586,
          443.064,
          null,
          58.17,
          2366.702,
          1014.939,
          1838.99,
          2447.814,
          2076.45,
          227.818,
          2977.527,
          97.701,
          243.622,
          70.359,
          109.145,
          145.822,
          null,
          14.293,
          602.551,
          2908.875,
          75.749,
          1828.991,
          12.37,
          250.667,
          1918.951,
          2872.383,
          1450.516,
          1058.518,
          1697.14,
          1176.086,
          568.604,
          10.213,
          27.801,
          300.989,
          12.559,
          null,
          null,
          1775.26,
          2065.617,
          null,
          11.252,
          69.419,
          2330.704,
          1800.283,
          2402.044,
          24.836,
          1244.734,
          null,
          null,
          1671.609,
          1515.564,
          184.687,
          299.316
         ]
        },
        {
         "coloraxis": "coloraxis",
         "geo": "geo",
         "hovertemplate": "<b>%{hovertext}</b><br><br>Country Code=%{location}<br>total_deaths_per_million=%{z}<extra></extra>",
         "hovertext": [
          "Aruba",
          "Afghanistan",
          "Angola",
          "Albania",
          "Andorra",
          "United Arab Emirates",
          "Argentina",
          "Armenia",
          "American Samoa",
          "Antigua and Barbuda",
          "Australia",
          "Austria",
          "Azerbaijan",
          "Burundi",
          "Belgium",
          "Benin",
          "Burkina Faso",
          "Bangladesh",
          "Bulgaria",
          "Bahrain",
          "Bosnia and Herzegovina",
          "Belarus",
          "Belize",
          "Bermuda",
          "Bolivia",
          "Brazil",
          "Barbados",
          "Bhutan",
          "Botswana",
          "Central African Republic",
          "Canada",
          "Switzerland",
          "Chile",
          "China",
          "Cote d'Ivoire",
          "Cameroon",
          "Colombia",
          "Comoros",
          "Costa Rica",
          "Cuba",
          "Curacao",
          "Cayman Islands",
          "Cyprus",
          "Czechia",
          "Germany",
          "Djibouti",
          "Dominica",
          "Denmark",
          "Dominican Republic",
          "Algeria",
          "Ecuador",
          "Eritrea",
          "Spain",
          "Estonia",
          "Ethiopia",
          "Finland",
          "Fiji",
          "France",
          "Gabon",
          "United Kingdom",
          "Georgia",
          "Ghana",
          "Gibraltar",
          "Guinea",
          "Guinea-Bissau",
          "Equatorial Guinea",
          "Greece",
          "Grenada",
          "Greenland",
          "Guatemala",
          "Guam",
          "Guyana",
          "Honduras",
          "Croatia",
          "Haiti",
          "Hungary",
          "Indonesia",
          "Isle of Man",
          "India",
          "Ireland",
          "Iraq",
          "Iceland",
          "Israel",
          "Italy",
          "Jamaica",
          "Jordan",
          "Japan",
          "Kazakhstan",
          "Kenya",
          "Cambodia",
          "Kiribati",
          "Kuwait",
          "Lebanon",
          "Liberia",
          "Libya",
          "Liechtenstein",
          "Sri Lanka",
          "Lesotho",
          "Lithuania",
          "Luxembourg",
          "Latvia",
          "Morocco",
          "Monaco",
          "Moldova",
          "Madagascar",
          "Maldives",
          "Mexico",
          "Marshall Islands",
          "North Macedonia",
          "Mali",
          "Malta",
          "Myanmar",
          "Montenegro",
          "Mongolia",
          "Northern Mariana Islands",
          "Mozambique",
          "Mauritania",
          "Mauritius",
          "Malawi",
          "Malaysia",
          "Namibia",
          "New Caledonia",
          "Niger",
          "Nigeria",
          "Nicaragua",
          "Netherlands",
          "Norway",
          "Nepal",
          "Nauru",
          "New Zealand",
          "Oman",
          "Pakistan",
          "Panama",
          "Philippines",
          "Palau",
          "Papua New Guinea",
          "Poland",
          "Puerto Rico",
          "Portugal",
          "Paraguay",
          "French Polynesia",
          "Qatar",
          "Romania",
          "Rwanda",
          "Saudi Arabia",
          "Sudan",
          "Senegal",
          "Singapore",
          "Solomon Islands",
          "Sierra Leone",
          "El Salvador",
          "San Marino",
          "Somalia",
          "Serbia",
          "South Sudan",
          "Sao Tome and Principe",
          "Suriname",
          "Slovenia",
          "Sweden",
          "Eswatini",
          "Sint Maarten (Dutch part)",
          "Seychelles",
          "Turks and Caicos Islands",
          "Chad",
          "Togo",
          "Thailand",
          "Tajikistan",
          "Turkmenistan",
          "Tonga",
          "Trinidad and Tobago",
          "Tunisia",
          "Tuvalu",
          "Tanzania",
          "Uganda",
          "Ukraine",
          "Uruguay",
          "United States",
          "Uzbekistan",
          "British Virgin Islands",
          "Vanuatu",
          "Samoa",
          "Kosovo",
          "South Africa",
          "Zambia",
          "Zimbabwe"
         ],
         "locations": [
          "ABW",
          "AFG",
          "AGO",
          "ALB",
          "AND",
          "ARE",
          "ARG",
          "ARM",
          "ASM",
          "ATG",
          "AUS",
          "AUT",
          "AZE",
          "BDI",
          "BEL",
          "BEN",
          "BFA",
          "BGD",
          "BGR",
          "BHR",
          "BIH",
          "BLR",
          "BLZ",
          "BMU",
          "BOL",
          "BRA",
          "BRB",
          "BTN",
          "BWA",
          "CAF",
          "CAN",
          "CHE",
          "CHL",
          "CHN",
          "CIV",
          "CMR",
          "COL",
          "COM",
          "CRI",
          "CUB",
          "CUW",
          "CYM",
          "CYP",
          "CZE",
          "DEU",
          "DJI",
          "DMA",
          "DNK",
          "DOM",
          "DZA",
          "ECU",
          "ERI",
          "ESP",
          "EST",
          "ETH",
          "FIN",
          "FJI",
          "FRA",
          "GAB",
          "GBR",
          "GEO",
          "GHA",
          "GIB",
          "GIN",
          "GNB",
          "GNQ",
          "GRC",
          "GRD",
          "GRL",
          "GTM",
          "GUM",
          "GUY",
          "HND",
          "HRV",
          "HTI",
          "HUN",
          "IDN",
          "IMN",
          "IND",
          "IRL",
          "IRQ",
          "ISL",
          "ISR",
          "ITA",
          "JAM",
          "JOR",
          "JPN",
          "KAZ",
          "KEN",
          "KHM",
          "KIR",
          "KWT",
          "LBN",
          "LBR",
          "LBY",
          "LIE",
          "LKA",
          "LSO",
          "LTU",
          "LUX",
          "LVA",
          "MAR",
          "MCO",
          "MDA",
          "MDG",
          "MDV",
          "MEX",
          "MHL",
          "MKD",
          "MLI",
          "MLT",
          "MMR",
          "MNE",
          "MNG",
          "MNP",
          "MOZ",
          "MRT",
          "MUS",
          "MWI",
          "MYS",
          "NAM",
          "NCL",
          "NER",
          "NGA",
          "NIC",
          "NLD",
          "NOR",
          "NPL",
          "NRU",
          "NZL",
          "OMN",
          "PAK",
          "PAN",
          "PHL",
          "PLW",
          "PNG",
          "POL",
          "PRI",
          "PRT",
          "PRY",
          "PYF",
          "QAT",
          "ROU",
          "RWA",
          "SAU",
          "SDN",
          "SEN",
          "SGP",
          "SLB",
          "SLE",
          "SLV",
          "SMR",
          "SOM",
          "SRB",
          "SSD",
          "STP",
          "SUR",
          "SVN",
          "SWE",
          "SWZ",
          "SXM",
          "SYC",
          "TCA",
          "TCD",
          "TGO",
          "THA",
          "TJK",
          "TKM",
          "TON",
          "TTO",
          "TUN",
          "TUV",
          "TZA",
          "UGA",
          "UKR",
          "URY",
          "USA",
          "UZB",
          "VGB",
          "VUT",
          "WSM",
          "XKX",
          "ZAF",
          "ZMB",
          "ZWE"
         ],
         "name": "",
         "type": "choropleth",
         "z": [
          2630.121,
          190.742,
          54.202,
          1265.165,
          1978.884,
          248.699,
          2859.219,
          3131.842,
          767.581,
          1556.968,
          680.587,
          2412.967,
          966.009,
          1.164,
          2851.769,
          12.207,
          17.421,
          171.97,
          5608.412,
          1043.31,
          5016.808,
          746.516,
          1697.571,
          2367.343,
          1822.627,
          3217.369,
          2016.716,
          26.839,
          1059.195,
          20.254,
          1259.182,
          1586.299,
          3214.285,
          27.348,
          29.474,
          70.393,
          2738.866,
          191.208,
          1751.069,
          760.779,
          1564.028,
          538.401,
          1400.659,
          4011.725,
          1987.985,
          168.622,
          1017.07,
          1311.061,
          390.424,
          153.241,
          1996.222,
          27.958,
          2500.976,
          2056.462,
          61.371,
          1569.825,
          947.547,
          2501.554,
          128.087,
          3189.874,
          4512.891,
          43.643,
          3366.282,
          33.624,
          83.587,
          109.259,
          3367.944,
          1897.034,
          371.721,
          1120.27,
          2392.553,
          1590.153,
          1060.4,
          4345.765,
          74.234,
          4859.79,
          582.709,
          1372.229,
          374.473,
          1679.637,
          570.252,
          498.789,
          1272.727,
          3119.51,
          1224.808,
          1251.299,
          450.28,
          982.421,
          105.28,
          182.254,
          99.057,
          602.031,
          1957.104,
          55.444,
          944.902,
          2210.647,
          770.194,
          306.181,
          3443.2,
          1474.673,
          3788.39,
          434.994,
          1781.261,
          3644.676,
          47.819,
          593.74,
          2598.52,
          408.723,
          4717.22,
          32.885,
          1563.868,
          359.731,
          4171.703,
          628.536,
          827.046,
          67.638,
          210.509,
          799.552,
          131.583,
          1085.355,
          1590.168,
          1082.912,
          11.981,
          14.437,
          35.26,
          1308.129,
          873.154,
          393.452,
          78.796,
          441.248,
          1011.297,
          129.906,
          1943.255,
          564.75,
          497.678,
          65.959,
          2972.491,
          1703.659,
          2509.333,
          2900.271,
          2118.893,
          254.162,
          3425.407,
          106.484,
          261.145,
          106.54,
          113.649,
          303.529,
          211.247,
          14.525,
          667.572,
          3591.57,
          77.34,
          2546.006,
          12.645,
          338.621,
          2253.878,
          4151.723,
          2085.721,
          1183.343,
          2013.939,
          1605.451,
          787.298,
          10.946,
          32.773,
          468.555,
          12.559,
          null,
          112.289,
          2793.52,
          2369.596,
          null,
          12.901,
          76.826,
          2726.555,
          2209.305,
          3192.458,
          29.341,
          2042.64,
          42.847,
          130.402,
          1791.13,
          1712.495,
          200.922,
          345.27
         ]
        }
       ],
       "layout": {
        "annotations": [
         {
          "align": "center",
          "font": {
           "size": 14
          },
          "showarrow": false,
          "text": "Figure 2.1",
          "x": 1,
          "xref": "paper",
          "y": -0.2,
          "yref": "paper"
         }
        ],
        "geo": {
         "projection": {
          "type": "equirectangular"
         },
         "showcoastlines": false,
         "showframe": false
        },
        "height": 600,
        "template": {
         "data": {
          "bar": [
           {
            "error_x": {
             "color": "#2a3f5f"
            },
            "error_y": {
             "color": "#2a3f5f"
            },
            "marker": {
             "line": {
              "color": "#E5ECF6",
              "width": 0.5
             },
             "pattern": {
              "fillmode": "overlay",
              "size": 10,
              "solidity": 0.2
             }
            },
            "type": "bar"
           }
          ],
          "barpolar": [
           {
            "marker": {
             "line": {
              "color": "#E5ECF6",
              "width": 0.5
             },
             "pattern": {
              "fillmode": "overlay",
              "size": 10,
              "solidity": 0.2
             }
            },
            "type": "barpolar"
           }
          ],
          "carpet": [
           {
            "aaxis": {
             "endlinecolor": "#2a3f5f",
             "gridcolor": "white",
             "linecolor": "white",
             "minorgridcolor": "white",
             "startlinecolor": "#2a3f5f"
            },
            "baxis": {
             "endlinecolor": "#2a3f5f",
             "gridcolor": "white",
             "linecolor": "white",
             "minorgridcolor": "white",
             "startlinecolor": "#2a3f5f"
            },
            "type": "carpet"
           }
          ],
          "choropleth": [
           {
            "colorbar": {
             "outlinewidth": 0,
             "ticks": ""
            },
            "type": "choropleth"
           }
          ],
          "contour": [
           {
            "colorbar": {
             "outlinewidth": 0,
             "ticks": ""
            },
            "colorscale": [
             [
              0,
              "#0d0887"
             ],
             [
              0.1111111111111111,
              "#46039f"
             ],
             [
              0.2222222222222222,
              "#7201a8"
             ],
             [
              0.3333333333333333,
              "#9c179e"
             ],
             [
              0.4444444444444444,
              "#bd3786"
             ],
             [
              0.5555555555555556,
              "#d8576b"
             ],
             [
              0.6666666666666666,
              "#ed7953"
             ],
             [
              0.7777777777777778,
              "#fb9f3a"
             ],
             [
              0.8888888888888888,
              "#fdca26"
             ],
             [
              1,
              "#f0f921"
             ]
            ],
            "type": "contour"
           }
          ],
          "contourcarpet": [
           {
            "colorbar": {
             "outlinewidth": 0,
             "ticks": ""
            },
            "type": "contourcarpet"
           }
          ],
          "heatmap": [
           {
            "colorbar": {
             "outlinewidth": 0,
             "ticks": ""
            },
            "colorscale": [
             [
              0,
              "#0d0887"
             ],
             [
              0.1111111111111111,
              "#46039f"
             ],
             [
              0.2222222222222222,
              "#7201a8"
             ],
             [
              0.3333333333333333,
              "#9c179e"
             ],
             [
              0.4444444444444444,
              "#bd3786"
             ],
             [
              0.5555555555555556,
              "#d8576b"
             ],
             [
              0.6666666666666666,
              "#ed7953"
             ],
             [
              0.7777777777777778,
              "#fb9f3a"
             ],
             [
              0.8888888888888888,
              "#fdca26"
             ],
             [
              1,
              "#f0f921"
             ]
            ],
            "type": "heatmap"
           }
          ],
          "heatmapgl": [
           {
            "colorbar": {
             "outlinewidth": 0,
             "ticks": ""
            },
            "colorscale": [
             [
              0,
              "#0d0887"
             ],
             [
              0.1111111111111111,
              "#46039f"
             ],
             [
              0.2222222222222222,
              "#7201a8"
             ],
             [
              0.3333333333333333,
              "#9c179e"
             ],
             [
              0.4444444444444444,
              "#bd3786"
             ],
             [
              0.5555555555555556,
              "#d8576b"
             ],
             [
              0.6666666666666666,
              "#ed7953"
             ],
             [
              0.7777777777777778,
              "#fb9f3a"
             ],
             [
              0.8888888888888888,
              "#fdca26"
             ],
             [
              1,
              "#f0f921"
             ]
            ],
            "type": "heatmapgl"
           }
          ],
          "histogram": [
           {
            "marker": {
             "pattern": {
              "fillmode": "overlay",
              "size": 10,
              "solidity": 0.2
             }
            },
            "type": "histogram"
           }
          ],
          "histogram2d": [
           {
            "colorbar": {
             "outlinewidth": 0,
             "ticks": ""
            },
            "colorscale": [
             [
              0,
              "#0d0887"
             ],
             [
              0.1111111111111111,
              "#46039f"
             ],
             [
              0.2222222222222222,
              "#7201a8"
             ],
             [
              0.3333333333333333,
              "#9c179e"
             ],
             [
              0.4444444444444444,
              "#bd3786"
             ],
             [
              0.5555555555555556,
              "#d8576b"
             ],
             [
              0.6666666666666666,
              "#ed7953"
             ],
             [
              0.7777777777777778,
              "#fb9f3a"
             ],
             [
              0.8888888888888888,
              "#fdca26"
             ],
             [
              1,
              "#f0f921"
             ]
            ],
            "type": "histogram2d"
           }
          ],
          "histogram2dcontour": [
           {
            "colorbar": {
             "outlinewidth": 0,
             "ticks": ""
            },
            "colorscale": [
             [
              0,
              "#0d0887"
             ],
             [
              0.1111111111111111,
              "#46039f"
             ],
             [
              0.2222222222222222,
              "#7201a8"
             ],
             [
              0.3333333333333333,
              "#9c179e"
             ],
             [
              0.4444444444444444,
              "#bd3786"
             ],
             [
              0.5555555555555556,
              "#d8576b"
             ],
             [
              0.6666666666666666,
              "#ed7953"
             ],
             [
              0.7777777777777778,
              "#fb9f3a"
             ],
             [
              0.8888888888888888,
              "#fdca26"
             ],
             [
              1,
              "#f0f921"
             ]
            ],
            "type": "histogram2dcontour"
           }
          ],
          "mesh3d": [
           {
            "colorbar": {
             "outlinewidth": 0,
             "ticks": ""
            },
            "type": "mesh3d"
           }
          ],
          "parcoords": [
           {
            "line": {
             "colorbar": {
              "outlinewidth": 0,
              "ticks": ""
             }
            },
            "type": "parcoords"
           }
          ],
          "pie": [
           {
            "automargin": true,
            "type": "pie"
           }
          ],
          "scatter": [
           {
            "fillpattern": {
             "fillmode": "overlay",
             "size": 10,
             "solidity": 0.2
            },
            "type": "scatter"
           }
          ],
          "scatter3d": [
           {
            "line": {
             "colorbar": {
              "outlinewidth": 0,
              "ticks": ""
             }
            },
            "marker": {
             "colorbar": {
              "outlinewidth": 0,
              "ticks": ""
             }
            },
            "type": "scatter3d"
           }
          ],
          "scattercarpet": [
           {
            "marker": {
             "colorbar": {
              "outlinewidth": 0,
              "ticks": ""
             }
            },
            "type": "scattercarpet"
           }
          ],
          "scattergeo": [
           {
            "marker": {
             "colorbar": {
              "outlinewidth": 0,
              "ticks": ""
             }
            },
            "type": "scattergeo"
           }
          ],
          "scattergl": [
           {
            "marker": {
             "colorbar": {
              "outlinewidth": 0,
              "ticks": ""
             }
            },
            "type": "scattergl"
           }
          ],
          "scattermapbox": [
           {
            "marker": {
             "colorbar": {
              "outlinewidth": 0,
              "ticks": ""
             }
            },
            "type": "scattermapbox"
           }
          ],
          "scatterpolar": [
           {
            "marker": {
             "colorbar": {
              "outlinewidth": 0,
              "ticks": ""
             }
            },
            "type": "scatterpolar"
           }
          ],
          "scatterpolargl": [
           {
            "marker": {
             "colorbar": {
              "outlinewidth": 0,
              "ticks": ""
             }
            },
            "type": "scatterpolargl"
           }
          ],
          "scatterternary": [
           {
            "marker": {
             "colorbar": {
              "outlinewidth": 0,
              "ticks": ""
             }
            },
            "type": "scatterternary"
           }
          ],
          "surface": [
           {
            "colorbar": {
             "outlinewidth": 0,
             "ticks": ""
            },
            "colorscale": [
             [
              0,
              "#0d0887"
             ],
             [
              0.1111111111111111,
              "#46039f"
             ],
             [
              0.2222222222222222,
              "#7201a8"
             ],
             [
              0.3333333333333333,
              "#9c179e"
             ],
             [
              0.4444444444444444,
              "#bd3786"
             ],
             [
              0.5555555555555556,
              "#d8576b"
             ],
             [
              0.6666666666666666,
              "#ed7953"
             ],
             [
              0.7777777777777778,
              "#fb9f3a"
             ],
             [
              0.8888888888888888,
              "#fdca26"
             ],
             [
              1,
              "#f0f921"
             ]
            ],
            "type": "surface"
           }
          ],
          "table": [
           {
            "cells": {
             "fill": {
              "color": "#EBF0F8"
             },
             "line": {
              "color": "white"
             }
            },
            "header": {
             "fill": {
              "color": "#C8D4E3"
             },
             "line": {
              "color": "white"
             }
            },
            "type": "table"
           }
          ]
         },
         "layout": {
          "annotationdefaults": {
           "arrowcolor": "#2a3f5f",
           "arrowhead": 0,
           "arrowwidth": 1
          },
          "autotypenumbers": "strict",
          "coloraxis": {
           "colorbar": {
            "outlinewidth": 0,
            "ticks": ""
           }
          },
          "colorscale": {
           "diverging": [
            [
             0,
             "#8e0152"
            ],
            [
             0.1,
             "#c51b7d"
            ],
            [
             0.2,
             "#de77ae"
            ],
            [
             0.3,
             "#f1b6da"
            ],
            [
             0.4,
             "#fde0ef"
            ],
            [
             0.5,
             "#f7f7f7"
            ],
            [
             0.6,
             "#e6f5d0"
            ],
            [
             0.7,
             "#b8e186"
            ],
            [
             0.8,
             "#7fbc41"
            ],
            [
             0.9,
             "#4d9221"
            ],
            [
             1,
             "#276419"
            ]
           ],
           "sequential": [
            [
             0,
             "#0d0887"
            ],
            [
             0.1111111111111111,
             "#46039f"
            ],
            [
             0.2222222222222222,
             "#7201a8"
            ],
            [
             0.3333333333333333,
             "#9c179e"
            ],
            [
             0.4444444444444444,
             "#bd3786"
            ],
            [
             0.5555555555555556,
             "#d8576b"
            ],
            [
             0.6666666666666666,
             "#ed7953"
            ],
            [
             0.7777777777777778,
             "#fb9f3a"
            ],
            [
             0.8888888888888888,
             "#fdca26"
            ],
            [
             1,
             "#f0f921"
            ]
           ],
           "sequentialminus": [
            [
             0,
             "#0d0887"
            ],
            [
             0.1111111111111111,
             "#46039f"
            ],
            [
             0.2222222222222222,
             "#7201a8"
            ],
            [
             0.3333333333333333,
             "#9c179e"
            ],
            [
             0.4444444444444444,
             "#bd3786"
            ],
            [
             0.5555555555555556,
             "#d8576b"
            ],
            [
             0.6666666666666666,
             "#ed7953"
            ],
            [
             0.7777777777777778,
             "#fb9f3a"
            ],
            [
             0.8888888888888888,
             "#fdca26"
            ],
            [
             1,
             "#f0f921"
            ]
           ]
          },
          "colorway": [
           "#636efa",
           "#EF553B",
           "#00cc96",
           "#ab63fa",
           "#FFA15A",
           "#19d3f3",
           "#FF6692",
           "#B6E880",
           "#FF97FF",
           "#FECB52"
          ],
          "font": {
           "color": "#2a3f5f"
          },
          "geo": {
           "bgcolor": "white",
           "lakecolor": "white",
           "landcolor": "#E5ECF6",
           "showlakes": true,
           "showland": true,
           "subunitcolor": "white"
          },
          "hoverlabel": {
           "align": "left"
          },
          "hovermode": "closest",
          "mapbox": {
           "style": "light"
          },
          "paper_bgcolor": "white",
          "plot_bgcolor": "#E5ECF6",
          "polar": {
           "angularaxis": {
            "gridcolor": "white",
            "linecolor": "white",
            "ticks": ""
           },
           "bgcolor": "#E5ECF6",
           "radialaxis": {
            "gridcolor": "white",
            "linecolor": "white",
            "ticks": ""
           }
          },
          "scene": {
           "xaxis": {
            "backgroundcolor": "#E5ECF6",
            "gridcolor": "white",
            "gridwidth": 2,
            "linecolor": "white",
            "showbackground": true,
            "ticks": "",
            "zerolinecolor": "white"
           },
           "yaxis": {
            "backgroundcolor": "#E5ECF6",
            "gridcolor": "white",
            "gridwidth": 2,
            "linecolor": "white",
            "showbackground": true,
            "ticks": "",
            "zerolinecolor": "white"
           },
           "zaxis": {
            "backgroundcolor": "#E5ECF6",
            "gridcolor": "white",
            "gridwidth": 2,
            "linecolor": "white",
            "showbackground": true,
            "ticks": "",
            "zerolinecolor": "white"
           }
          },
          "shapedefaults": {
           "line": {
            "color": "#2a3f5f"
           }
          },
          "ternary": {
           "aaxis": {
            "gridcolor": "white",
            "linecolor": "white",
            "ticks": ""
           },
           "baxis": {
            "gridcolor": "white",
            "linecolor": "white",
            "ticks": ""
           },
           "bgcolor": "#E5ECF6",
           "caxis": {
            "gridcolor": "white",
            "linecolor": "white",
            "ticks": ""
           }
          },
          "title": {
           "x": 0.05
          },
          "xaxis": {
           "automargin": true,
           "gridcolor": "white",
           "linecolor": "white",
           "ticks": "",
           "title": {
            "standoff": 15
           },
           "zerolinecolor": "white",
           "zerolinewidth": 2
          },
          "yaxis": {
           "automargin": true,
           "gridcolor": "white",
           "linecolor": "white",
           "ticks": "",
           "title": {
            "standoff": 15
           },
           "zerolinecolor": "white",
           "zerolinewidth": 2
          }
         }
        },
        "updatemenus": [
         {
          "buttons": [
           {
            "args": [
             {
              "visible": [
               true,
               false,
               false
              ]
             }
            ],
            "label": "2020",
            "method": "update"
           },
           {
            "args": [
             {
              "visible": [
               false,
               true,
               false
              ]
             }
            ],
            "label": "2021",
            "method": "update"
           },
           {
            "args": [
             {
              "visible": [
               false,
               false,
               true
              ]
             }
            ],
            "label": "2022",
            "method": "update"
           }
          ],
          "direction": "down",
          "showactive": true
         }
        ]
       }
      }
     },
     "metadata": {},
     "output_type": "display_data"
    }
   ],
   "source": [
    "import plotly.express as px\n",
    "import plotly.graph_objects as go\n",
    "\n",
    "CovidData = pd.read_csv('owid-covid-data.csv')\n",
    "GDPdata = pd.read_csv('GDP-data.csv', skiprows=4)\n",
    "\n",
    "# Filter the data for the years 2020, 2021, and 2022\n",
    "years = ['2020', '2021', '2022']\n",
    "CovidData['year'] = CovidData['date'].str[:4]\n",
    "CovidData = CovidData[CovidData['year'].isin(years)]\n",
    "\n",
    "# Preprocess GDP data\n",
    "GDPdata = GDPdata.rename(columns={'Country Name': 'location'})\n",
    "\n",
    "# Preprocess Covid data for each year\n",
    "def preprocess_covid_data(year):\n",
    "    Covid_year = CovidData[CovidData['year'] == year]\n",
    "    Covid_deaths_year = Covid_year.groupby('location').last()['total_deaths_per_million'].reset_index()\n",
    "    df_year = pd.merge(GDPdata, Covid_deaths_year, on='location', how='inner')\n",
    "    df_year = df_year[~df_year['location'].isin([\n",
    "        'World', 'Upper middle income', 'Lower middle income', 'High income', \n",
    "        'Low income', 'European Union', 'North America', 'South America', \n",
    "        'Asia', 'Oceania', 'Africa', 'Peru'\n",
    "    ])]\n",
    "    return df_year\n",
    "\n",
    "df_2020 = preprocess_covid_data('2020')\n",
    "df_2021 = preprocess_covid_data('2021')\n",
    "df_2022 = preprocess_covid_data('2022')\n",
    "\n",
    "# Create a function to generate the choropleth map for a specific year\n",
    "def create_choropleth(df, year):\n",
    "    fig = px.choropleth(\n",
    "        df, \n",
    "        locations=\"Country Code\",\n",
    "        color=\"total_deaths_per_million\",\n",
    "        hover_name=\"location\",\n",
    "        color_continuous_scale=px.colors.sequential.Blues_r,\n",
    "        title=f\"Deaths per million by Country ({year})\"\n",
    "    )\n",
    "    fig.update_layout(\n",
    "        geo=dict(\n",
    "            showframe=False,\n",
    "            showcoastlines=False,\n",
    "            projection_type='equirectangular'\n",
    "        ),\n",
    "        height=600\n",
    "    )\n",
    "    return fig\n",
    "\n",
    "# Generate choropleth maps for each year\n",
    "fig_2020 = create_choropleth(df_2020, '2020')\n",
    "fig_2021 = create_choropleth(df_2021, '2021')\n",
    "fig_2022 = create_choropleth(df_2022, '2022')\n",
    "\n",
    "# Create a figure with all traces\n",
    "fig = go.Figure(data=fig_2020.data + fig_2021.data + fig_2022.data)\n",
    "\n",
    "# Update the layout to include dropdown buttons\n",
    "fig.update_layout(\n",
    "    updatemenus=[\n",
    "        {\n",
    "            'buttons': [\n",
    "                {\n",
    "                    'label': '2020',\n",
    "                    'method': 'update',\n",
    "                    'args': [{'visible': [True, False, False]}]\n",
    "                },\n",
    "                {\n",
    "                    'label': '2021',\n",
    "                    'method': 'update',\n",
    "                    'args': [{'visible': [False, True, False]}]\n",
    "                },\n",
    "                {\n",
    "                    'label': '2022',\n",
    "                    'method': 'update',\n",
    "                    'args': [{'visible': [False, False, True]}]\n",
    "                }\n",
    "            ],\n",
    "            'direction': 'down',\n",
    "            'showactive': True,\n",
    "        }\n",
    "    ],\n",
    "    geo=dict(\n",
    "        showframe=False,\n",
    "        showcoastlines=False,\n",
    "        projection_type='equirectangular',\n",
    "    ),\n",
    "    height=600\n",
    ")\n",
    "\n",
    "# Show the figure\n",
    "fig.add_annotation(text=\"Figure 2.1\", xref=\"paper\", yref=\"paper\", x=1, y=-0.2, showarrow=False, align=\"center\", font=dict(size=14))"
   ]
  },
  {
   "cell_type": "markdown",
   "metadata": {
    "tags": [
     "remove_input"
    ]
   },
   "source": [
    "In the graph above Peru has been filtered out as its mortality rate was exceptionaly high which skewed the contrast between high and low mortality rates.\n",
    "\n",
    "The graph above shows the mortality rate per million in countries across the world. As you can see there are more casualties per million in the Americas and Europe compared to Africa and Asia. This is highlighted by the fact that Peru has been filtered out as to make the contrast clearer between the comparatively high and low mortality rates. This is true for every recorded year of the pandemic. This means that across those three years something that did not change through that period of time, caused some countries to have lower and others to have higher mortality rates. Another notable statistic is that the amount of "
   ]
  },
  {
   "cell_type": "markdown",
   "metadata": {
    "tags": [
     "remove_input"
    ]
   },
   "source": [
    "#### Argument 2: \n",
    "**Lower income countries have a lower median age, which results in a lower mortality rate.**\n",
    "\n",
    "Demographic factors like age could play a significant role in COVID-19 mortality rates. One notable factor is the median age of the population in different countries. Lower-income countries often have a younger population compared to higher-income countries, and this difference could impact COVID-19 mortality rates."
   ]
  },
  {
   "cell_type": "code",
   "execution_count": 67,
   "metadata": {
    "tags": [
     "remove_input"
    ]
   },
   "outputs": [
    {
     "data": {
      "application/vnd.plotly.v1+json": {
       "config": {
        "plotlyServerURL": "https://plot.ly"
       },
       "data": [
        {
         "hovertemplate": "<b>%{hovertext}</b><br><br>continent=North America<br>Median Age=%{x}<br>GDP per Capita 2021=%{y}<br>Total Deaths per Million (2021)=%{marker.size}<extra></extra>",
         "hovertext": [
          "Aruba",
          "Antigua and Barbuda",
          "Belize",
          "Bermuda",
          "Barbados",
          "Canada",
          "Costa Rica",
          "Curacao",
          "Cayman Islands",
          "Dominican Republic",
          "Guatemala",
          "Honduras",
          "Haiti",
          "Jamaica",
          "Mexico",
          "Nicaragua",
          "Panama",
          "Puerto Rico",
          "El Salvador",
          "Sint Maarten (Dutch part)",
          "Turks and Caicos Islands",
          "Trinidad and Tobago",
          "United States"
         ],
         "legendgroup": "North America",
         "marker": {
          "color": "#636efa",
          "size": [
           1258.6999999999998,
           1205.0500000000002,
           898.133,
           1510.738,
           898.2909999999999,
           393.11600000000004,
           1012.5780000000001,
           910.171,
           130.962,
           163.241,
           635.0620000000001,
           706.23,
           45.83500000000001,
           766.787,
           1249.8809999999999,
           7.482999999999997,
           828.611,
           513.7719999999999,
           397.86,
           1108.7980000000002,
           437.38800000000003,
           1693.616,
           1388.357
          ],
          "sizemode": "area",
          "sizeref": 0.9586305555555554,
          "symbol": "circle"
         },
         "mode": "markers",
         "name": "North America",
         "orientation": "v",
         "showlegend": true,
         "type": "scatter",
         "x": [
          41.2,
          32.1,
          25,
          null,
          39.8,
          41.4,
          33.6,
          41.7,
          null,
          27.6,
          22.9,
          24.9,
          24.3,
          31.4,
          29.3,
          27.3,
          29.7,
          38.2,
          27.6,
          null,
          null,
          36.2,
          38.3
         ],
         "xaxis": "x",
         "y": [
          38226.146156979,
          25493.1295548691,
          11559.8905984688,
          91508.8303752301,
          14686.2199296539,
          55634.8275796301,
          23700.2961314063,
          25163.8669323866,
          75898.4231569682,
          21923.3019358073,
          12106.4225430833,
          6285.9287396567,
          3114.96354203089,
          9610.98933709822,
          21123.6718346798,
          6874.61550569295,
          30895.8322499594,
          40537.7088223526,
          10860.247882807,
          39465.6250774608,
          21232.6835191491,
          27631.6778146419,
          70219.472454115
         ],
         "yaxis": "y"
        },
        {
         "hovertemplate": "<b>%{hovertext}</b><br><br>continent=Asia<br>Median Age=%{x}<br>GDP per Capita 2021=%{y}<br>Total Deaths per Million (2021)=%{marker.size}<extra></extra>",
         "hovertext": [
          "Afghanistan",
          "United Arab Emirates",
          "Armenia",
          "Azerbaijan",
          "Bangladesh",
          "Bahrain",
          "China",
          "Georgia",
          "Indonesia",
          "India",
          "Iraq",
          "Israel",
          "Jordan",
          "Japan",
          "Kazakhstan",
          "Kuwait",
          "Lebanon",
          "Sri Lanka",
          "Maldives",
          "Myanmar",
          "Mongolia",
          "Malaysia",
          "Nepal",
          "Oman",
          "Pakistan",
          "Philippines",
          "Qatar",
          "Saudi Arabia",
          "Singapore",
          "Thailand",
          "Tajikistan"
         ],
         "legendgroup": "Asia",
         "marker": {
          "color": "#EF553B",
          "size": [
           126.287,
           158.985,
           1861.1949999999997,
           566.5139999999999,
           120.383,
           708.4449999999999,
           0.6469999999999998,
           2973.786,
           445.79800000000006,
           234.311,
           255.19100000000003,
           530.109,
           772.204,
           122.41900000000001,
           799.876,
           360.51599999999996,
           1393.143,
           672.9979999999999,
           406.64599999999996,
           307.368,
           582.6320000000001,
           909.977,
           290.20300000000003,
           653.1479999999999,
           80.946,
           364.60200000000003,
           137.284,
           73.99300000000002,
           140.677,
           300.152,
           3.516
          ],
          "sizemode": "area",
          "sizeref": 0.9586305555555554,
          "symbol": "circle"
         },
         "mode": "markers",
         "name": "Asia",
         "orientation": "v",
         "showlegend": true,
         "type": "scatter",
         "x": [
          18.6,
          34,
          35.7,
          32.4,
          27.5,
          32.4,
          38.7,
          38.7,
          29.3,
          28.2,
          20,
          30.6,
          23.2,
          48.2,
          30.6,
          33.7,
          31.1,
          34.1,
          30.6,
          29.1,
          28.6,
          29.9,
          25,
          30.7,
          23.5,
          25.2,
          31.9,
          31.9,
          42.4,
          40.1,
          23.3
         ],
         "xaxis": "x",
         "y": [
          2138.87024713086,
          68912.5455473732,
          16899.0709181678,
          20111.3756952109,
          7366.48997079065,
          54351.8360757233,
          20406.7296584605,
          18691.1612210787,
          12897.0571071313,
          8044.67480751057,
          12476.3625169213,
          46126.6423137421,
          9115.01951145213,
          44291.9852770528,
          34233.4732249708,
          48129.9882968208,
          11860.0586252712,
          14306.2352220864,
          18865.7192956579,
          5138.88724952007,
          14951.1365679904,
          30456.0928951741,
          4461.46878467812,
          38930.9938379577,
          5554.58570149625,
          8797.16871175312,
          108865.13777489,
          47754.4377844143,
          128731.011187586,
          20253.3547905679,
          4074.56022293416
         ],
         "yaxis": "y"
        },
        {
         "hovertemplate": "<b>%{hovertext}</b><br><br>continent=Africa<br>Median Age=%{x}<br>GDP per Capita 2021=%{y}<br>Total Deaths per Million (2021)=%{marker.size}<extra></extra>",
         "hovertext": [
          "Angola",
          "Burundi",
          "Benin",
          "Burkina Faso",
          "Botswana",
          "Central African Republic",
          "Cote d'Ivoire",
          "Cameroon",
          "Comoros",
          "Djibouti",
          "Algeria",
          "Ethiopia",
          "Gabon",
          "Ghana",
          "Guinea",
          "Guinea-Bissau",
          "Equatorial Guinea",
          "Kenya",
          "Liberia",
          "Libya",
          "Lesotho",
          "Morocco",
          "Madagascar",
          "Mali",
          "Mozambique",
          "Mauritania",
          "Mauritius",
          "Malawi",
          "Namibia",
          "Niger",
          "Nigeria",
          "Rwanda",
          "Sudan",
          "Senegal",
          "Sierra Leone",
          "Somalia",
          "Sao Tome and Principe",
          "Eswatini",
          "Chad",
          "Togo",
          "Tunisia",
          "Tanzania",
          "Uganda",
          "South Africa",
          "Zambia",
          "Zimbabwe"
         ],
         "legendgroup": "Africa",
         "marker": {
          "color": "#00cc96",
          "size": [
           37.821,
           0.931,
           8.762,
           10.541,
           912.444,
           6.811000000000002,
           20.348000000000003,
           50.261,
           174.47799999999998,
           114.19900000000001,
           78.102,
           40.467999999999996,
           93.345,
           28.439,
           22.296,
           49.391999999999996,
           53.13700000000001,
           68.557,
           37.339,
           620.345,
           260.644,
           203.50799999999998,
           25.868000000000002,
           17.837000000000003,
           54.626,
           110.85,
           578.694,
           104.875,
           1330.724,
           6.601,
           8.085,
           92.40199999999999,
           37.931999999999995,
           86.79599999999999,
           5.462,
           68.532,
           175.90699999999998,
           922.875,
           4.344999999999999,
           20.116,
           1707.4140000000002,
           10.931000000000001,
           63.111999999999995,
           1072.7640000000001,
           165.604,
           278.42199999999997
          ],
          "sizemode": "area",
          "sizeref": 0.9586305555555554,
          "symbol": "circle"
         },
         "mode": "markers",
         "name": "Africa",
         "orientation": "v",
         "showlegend": true,
         "type": "scatter",
         "x": [
          16.8,
          17.5,
          18.8,
          17.6,
          25.8,
          18.3,
          18.7,
          18.8,
          20.4,
          25.4,
          29.1,
          19.8,
          23.1,
          21.1,
          19,
          19.4,
          22.4,
          20,
          19.2,
          29,
          22.2,
          29.6,
          19.6,
          16.4,
          17.7,
          20.3,
          37.4,
          18.1,
          22,
          15.1,
          18.1,
          20.3,
          19.7,
          18.7,
          19.1,
          16.8,
          18.7,
          21.5,
          16.7,
          19.4,
          32.7,
          17.7,
          16.4,
          27.3,
          17.7,
          19.6
         ],
         "xaxis": "x",
         "y": [
          7414.27895783202,
          864.280732753101,
          3575.31148668734,
          2467.67804044213,
          16651.5337042653,
          1057.19439503026,
          6432.62666292098,
          4741.76177028658,
          3426.75773437156,
          6032.27795593735,
          12893.2100025293,
          2628.34346412648,
          19552.3625335025,
          6544.2381999688,
          3735.0898272933,
          2164.37287781941,
          17936.6113034777,
          5360.36190289931,
          1556.94547466638,
          15133.8474122324,
          2456.31221508897,
          8581.330078125,
          1642.30416221094,
          2399.46153474407,
          1440.45976271877,
          5988.20355101133,
          22737.5729410543,
          1731.76777467309,
          10823.175558195,
          1538.47074692859,
          5623.66407810605,
          2705.84426715937,
          3420.45190429688,
          4266.26875168597,
          1623.97562392431,
          1461.96879165973,
          5703.24824295017,
          10202.5096730796,
          1764.34807562549,
          2678.83160754709,
          12126.587729035,
          3451.4482421875,
          2688.26683541397,
          14172.5442513912,
          3526.50741832512,
          3276.26775280153
         ],
         "yaxis": "y"
        },
        {
         "hovertemplate": "<b>%{hovertext}</b><br><br>continent=Europe<br>Median Age=%{x}<br>GDP per Capita 2021=%{y}<br>Total Deaths per Million (2021)=%{marker.size}<extra></extra>",
         "hovertext": [
          "Albania",
          "Andorra",
          "Austria",
          "Belgium",
          "Bulgaria",
          "Bosnia and Herzegovina",
          "Belarus",
          "Switzerland",
          "Cyprus",
          "Czechia",
          "Germany",
          "Denmark",
          "Spain",
          "Estonia",
          "Finland",
          "France",
          "United Kingdom",
          "Greece",
          "Croatia",
          "Hungary",
          "Ireland",
          "Iceland",
          "Italy",
          "Lithuania",
          "Luxembourg",
          "Latvia",
          "Moldova",
          "North Macedonia",
          "Malta",
          "Montenegro",
          "Netherlands",
          "Norway",
          "Poland",
          "Portugal",
          "Romania",
          "San Marino",
          "Serbia",
          "Slovenia",
          "Sweden",
          "Ukraine",
          "Kosovo"
         ],
         "legendgroup": "Europe",
         "marker": {
          "color": "#ab63fa",
          "size": [
           722.298,
           701.377,
           1066.9360000000001,
           756.5250000000001,
           3451.0699999999997,
           2894.6690000000003,
           430.836,
           531.5499999999998,
           583.701,
           2346.2,
           847.8249999999999,
           346.466,
           784.5260000000001,
           1164.348,
           219.826,
           938.1740000000001,
           1269.2250000000001,
           1523.644,
           2150.179,
           2935.598,
           761.282,
           24.13499999999999,
           1099.353,
           2067.2290000000003,
           540.456,
           2260.282,
           2207.154,
           2606.03,
           498.78800000000007,
           2763.594,
           536.381,
           168.19,
           1684.0890000000002,
           1187.146,
           2209.035,
           1216.978,
           1394.882,
           1513.3199999999997,
           566.7650000000001,
           1945.8850000000002,
           944.944
          ],
          "sizemode": "area",
          "sizeref": 0.9586305555555554,
          "symbol": "circle"
         },
         "mode": "markers",
         "name": "Europe",
         "orientation": "v",
         "showlegend": true,
         "type": "scatter",
         "x": [
          38,
          null,
          44.4,
          41.8,
          44.7,
          42.5,
          40.3,
          43.1,
          37.3,
          43.3,
          46.6,
          42.3,
          45.5,
          42.7,
          42.8,
          42,
          40.8,
          45.3,
          44,
          43.4,
          38.7,
          37.3,
          47.9,
          43.5,
          39.7,
          43.9,
          37.6,
          39.1,
          42.4,
          39.1,
          43.2,
          39.7,
          41.8,
          46.2,
          43,
          null,
          41.2,
          44.5,
          41,
          41.4,
          null
         ],
         "xaxis": "x",
         "y": [
          16262.6634527606,
          58829.8500720505,
          63421.2035870778,
          62107.0699329664,
          29406.5795920851,
          18379.5525047191,
          27611.1801135156,
          81603.2073073193,
          48469.4140625,
          48418.1157871868,
          61939.6515850137,
          69878.9348117258,
          43620.6040614123,
          45047.315035037,
          57848.6141705053,
          53834.7992971017,
          52841.6345850474,
          33018.2544152866,
          36954.4345867034,
          38643.762589993,
          114120.544516392,
          61481.3794980574,
          49912.83903304,
          46410.0676392912,
          137947.34385169,
          36777.8928459839,
          15682.0703284653,
          19902.8198301911,
          53387.2378429299,
          24511.2620665873,
          67693.3264311302,
          86891.9964886406,
          40462.6887122126,
          38783.0115625218,
          37971.0545519053,
          65717.8915454458,
          22575.4210980499,
          46502.0978938704,
          63375.0446462412,
          18040.345703125,
          12362.7048078624
         ],
         "yaxis": "y"
        },
        {
         "hovertemplate": "<b>%{hovertext}</b><br><br>continent=South America<br>Median Age=%{x}<br>GDP per Capita 2021=%{y}<br>Total Deaths per Million (2021)=%{marker.size}<extra></extra>",
         "hovertext": [
          "Argentina",
          "Bolivia",
          "Brazil",
          "Chile",
          "Colombia",
          "Ecuador",
          "Guyana",
          "Peru",
          "Paraguay",
          "Suriname",
          "Uruguay"
         ],
         "legendgroup": "South America",
         "marker": {
          "color": "#FFA15A",
          "size": [
           1545.21,
           854.6220000000001,
           1987.353,
           1153.301,
           1696.3400000000001,
           1091.995,
           1088.1299999999999,
           3228.556,
           2130.1499999999996,
           1726.409,
           1758.504
          ],
          "sizemode": "area",
          "sizeref": 0.9586305555555554,
          "symbol": "circle"
         },
         "mode": "markers",
         "name": "South America",
         "orientation": "v",
         "showlegend": true,
         "type": "scatter",
         "x": [
          31.9,
          25.4,
          33.5,
          35.4,
          32.2,
          28.1,
          26.3,
          29.1,
          26.5,
          29.6,
          35.6
         ],
         "xaxis": "x",
         "y": [
          26086.8023552274,
          9342.97184473106,
          17450.5086501913,
          29148.2424509188,
          17586.5239590949,
          13293.0871517821,
          23176.1332006217,
          14853.5805797423,
          15361.0847494949,
          18447.3399360527,
          29500.3726206454
         ],
         "yaxis": "y"
        },
        {
         "hovertemplate": "<b>%{hovertext}</b><br><br>continent=Oceania<br>Median Age=%{x}<br>GDP per Capita 2021=%{y}<br>Total Deaths per Million (2021)=%{marker.size}<extra></extra>",
         "hovertext": [
          "Australia",
          "Fiji",
          "New Zealand",
          "Papua New Guinea"
         ],
         "legendgroup": "Oceania",
         "marker": {
          "color": "#19d3f3",
          "size": [
           55.657999999999994,
           747.498,
           4.822000000000001,
           57.283
          ],
          "sizemode": "area",
          "sizeref": 0.9586305555555554,
          "symbol": "circle"
         },
         "mode": "markers",
         "name": "Oceania",
         "orientation": "v",
         "showlegend": true,
         "type": "scatter",
         "x": [
          37.9,
          28.6,
          37.9,
          22.6
         ],
         "xaxis": "x",
         "y": [
          57406.1787604549,
          10593.9126867971,
          48555.5523439365,
          4014.2854655247
         ],
         "yaxis": "y"
        }
       ],
       "layout": {
        "annotations": [
         {
          "align": "center",
          "font": {
           "size": 14
          },
          "showarrow": false,
          "text": "Figure 2.2",
          "x": 1,
          "xref": "paper",
          "y": -0.1,
          "yref": "paper"
         }
        ],
        "height": 800,
        "legend": {
         "itemsizing": "constant",
         "title": {
          "text": "continent"
         },
         "tracegroupgap": 0
        },
        "template": {
         "data": {
          "bar": [
           {
            "error_x": {
             "color": "#2a3f5f"
            },
            "error_y": {
             "color": "#2a3f5f"
            },
            "marker": {
             "line": {
              "color": "#E5ECF6",
              "width": 0.5
             },
             "pattern": {
              "fillmode": "overlay",
              "size": 10,
              "solidity": 0.2
             }
            },
            "type": "bar"
           }
          ],
          "barpolar": [
           {
            "marker": {
             "line": {
              "color": "#E5ECF6",
              "width": 0.5
             },
             "pattern": {
              "fillmode": "overlay",
              "size": 10,
              "solidity": 0.2
             }
            },
            "type": "barpolar"
           }
          ],
          "carpet": [
           {
            "aaxis": {
             "endlinecolor": "#2a3f5f",
             "gridcolor": "white",
             "linecolor": "white",
             "minorgridcolor": "white",
             "startlinecolor": "#2a3f5f"
            },
            "baxis": {
             "endlinecolor": "#2a3f5f",
             "gridcolor": "white",
             "linecolor": "white",
             "minorgridcolor": "white",
             "startlinecolor": "#2a3f5f"
            },
            "type": "carpet"
           }
          ],
          "choropleth": [
           {
            "colorbar": {
             "outlinewidth": 0,
             "ticks": ""
            },
            "type": "choropleth"
           }
          ],
          "contour": [
           {
            "colorbar": {
             "outlinewidth": 0,
             "ticks": ""
            },
            "colorscale": [
             [
              0,
              "#0d0887"
             ],
             [
              0.1111111111111111,
              "#46039f"
             ],
             [
              0.2222222222222222,
              "#7201a8"
             ],
             [
              0.3333333333333333,
              "#9c179e"
             ],
             [
              0.4444444444444444,
              "#bd3786"
             ],
             [
              0.5555555555555556,
              "#d8576b"
             ],
             [
              0.6666666666666666,
              "#ed7953"
             ],
             [
              0.7777777777777778,
              "#fb9f3a"
             ],
             [
              0.8888888888888888,
              "#fdca26"
             ],
             [
              1,
              "#f0f921"
             ]
            ],
            "type": "contour"
           }
          ],
          "contourcarpet": [
           {
            "colorbar": {
             "outlinewidth": 0,
             "ticks": ""
            },
            "type": "contourcarpet"
           }
          ],
          "heatmap": [
           {
            "colorbar": {
             "outlinewidth": 0,
             "ticks": ""
            },
            "colorscale": [
             [
              0,
              "#0d0887"
             ],
             [
              0.1111111111111111,
              "#46039f"
             ],
             [
              0.2222222222222222,
              "#7201a8"
             ],
             [
              0.3333333333333333,
              "#9c179e"
             ],
             [
              0.4444444444444444,
              "#bd3786"
             ],
             [
              0.5555555555555556,
              "#d8576b"
             ],
             [
              0.6666666666666666,
              "#ed7953"
             ],
             [
              0.7777777777777778,
              "#fb9f3a"
             ],
             [
              0.8888888888888888,
              "#fdca26"
             ],
             [
              1,
              "#f0f921"
             ]
            ],
            "type": "heatmap"
           }
          ],
          "heatmapgl": [
           {
            "colorbar": {
             "outlinewidth": 0,
             "ticks": ""
            },
            "colorscale": [
             [
              0,
              "#0d0887"
             ],
             [
              0.1111111111111111,
              "#46039f"
             ],
             [
              0.2222222222222222,
              "#7201a8"
             ],
             [
              0.3333333333333333,
              "#9c179e"
             ],
             [
              0.4444444444444444,
              "#bd3786"
             ],
             [
              0.5555555555555556,
              "#d8576b"
             ],
             [
              0.6666666666666666,
              "#ed7953"
             ],
             [
              0.7777777777777778,
              "#fb9f3a"
             ],
             [
              0.8888888888888888,
              "#fdca26"
             ],
             [
              1,
              "#f0f921"
             ]
            ],
            "type": "heatmapgl"
           }
          ],
          "histogram": [
           {
            "marker": {
             "pattern": {
              "fillmode": "overlay",
              "size": 10,
              "solidity": 0.2
             }
            },
            "type": "histogram"
           }
          ],
          "histogram2d": [
           {
            "colorbar": {
             "outlinewidth": 0,
             "ticks": ""
            },
            "colorscale": [
             [
              0,
              "#0d0887"
             ],
             [
              0.1111111111111111,
              "#46039f"
             ],
             [
              0.2222222222222222,
              "#7201a8"
             ],
             [
              0.3333333333333333,
              "#9c179e"
             ],
             [
              0.4444444444444444,
              "#bd3786"
             ],
             [
              0.5555555555555556,
              "#d8576b"
             ],
             [
              0.6666666666666666,
              "#ed7953"
             ],
             [
              0.7777777777777778,
              "#fb9f3a"
             ],
             [
              0.8888888888888888,
              "#fdca26"
             ],
             [
              1,
              "#f0f921"
             ]
            ],
            "type": "histogram2d"
           }
          ],
          "histogram2dcontour": [
           {
            "colorbar": {
             "outlinewidth": 0,
             "ticks": ""
            },
            "colorscale": [
             [
              0,
              "#0d0887"
             ],
             [
              0.1111111111111111,
              "#46039f"
             ],
             [
              0.2222222222222222,
              "#7201a8"
             ],
             [
              0.3333333333333333,
              "#9c179e"
             ],
             [
              0.4444444444444444,
              "#bd3786"
             ],
             [
              0.5555555555555556,
              "#d8576b"
             ],
             [
              0.6666666666666666,
              "#ed7953"
             ],
             [
              0.7777777777777778,
              "#fb9f3a"
             ],
             [
              0.8888888888888888,
              "#fdca26"
             ],
             [
              1,
              "#f0f921"
             ]
            ],
            "type": "histogram2dcontour"
           }
          ],
          "mesh3d": [
           {
            "colorbar": {
             "outlinewidth": 0,
             "ticks": ""
            },
            "type": "mesh3d"
           }
          ],
          "parcoords": [
           {
            "line": {
             "colorbar": {
              "outlinewidth": 0,
              "ticks": ""
             }
            },
            "type": "parcoords"
           }
          ],
          "pie": [
           {
            "automargin": true,
            "type": "pie"
           }
          ],
          "scatter": [
           {
            "fillpattern": {
             "fillmode": "overlay",
             "size": 10,
             "solidity": 0.2
            },
            "type": "scatter"
           }
          ],
          "scatter3d": [
           {
            "line": {
             "colorbar": {
              "outlinewidth": 0,
              "ticks": ""
             }
            },
            "marker": {
             "colorbar": {
              "outlinewidth": 0,
              "ticks": ""
             }
            },
            "type": "scatter3d"
           }
          ],
          "scattercarpet": [
           {
            "marker": {
             "colorbar": {
              "outlinewidth": 0,
              "ticks": ""
             }
            },
            "type": "scattercarpet"
           }
          ],
          "scattergeo": [
           {
            "marker": {
             "colorbar": {
              "outlinewidth": 0,
              "ticks": ""
             }
            },
            "type": "scattergeo"
           }
          ],
          "scattergl": [
           {
            "marker": {
             "colorbar": {
              "outlinewidth": 0,
              "ticks": ""
             }
            },
            "type": "scattergl"
           }
          ],
          "scattermapbox": [
           {
            "marker": {
             "colorbar": {
              "outlinewidth": 0,
              "ticks": ""
             }
            },
            "type": "scattermapbox"
           }
          ],
          "scatterpolar": [
           {
            "marker": {
             "colorbar": {
              "outlinewidth": 0,
              "ticks": ""
             }
            },
            "type": "scatterpolar"
           }
          ],
          "scatterpolargl": [
           {
            "marker": {
             "colorbar": {
              "outlinewidth": 0,
              "ticks": ""
             }
            },
            "type": "scatterpolargl"
           }
          ],
          "scatterternary": [
           {
            "marker": {
             "colorbar": {
              "outlinewidth": 0,
              "ticks": ""
             }
            },
            "type": "scatterternary"
           }
          ],
          "surface": [
           {
            "colorbar": {
             "outlinewidth": 0,
             "ticks": ""
            },
            "colorscale": [
             [
              0,
              "#0d0887"
             ],
             [
              0.1111111111111111,
              "#46039f"
             ],
             [
              0.2222222222222222,
              "#7201a8"
             ],
             [
              0.3333333333333333,
              "#9c179e"
             ],
             [
              0.4444444444444444,
              "#bd3786"
             ],
             [
              0.5555555555555556,
              "#d8576b"
             ],
             [
              0.6666666666666666,
              "#ed7953"
             ],
             [
              0.7777777777777778,
              "#fb9f3a"
             ],
             [
              0.8888888888888888,
              "#fdca26"
             ],
             [
              1,
              "#f0f921"
             ]
            ],
            "type": "surface"
           }
          ],
          "table": [
           {
            "cells": {
             "fill": {
              "color": "#EBF0F8"
             },
             "line": {
              "color": "white"
             }
            },
            "header": {
             "fill": {
              "color": "#C8D4E3"
             },
             "line": {
              "color": "white"
             }
            },
            "type": "table"
           }
          ]
         },
         "layout": {
          "annotationdefaults": {
           "arrowcolor": "#2a3f5f",
           "arrowhead": 0,
           "arrowwidth": 1
          },
          "autotypenumbers": "strict",
          "coloraxis": {
           "colorbar": {
            "outlinewidth": 0,
            "ticks": ""
           }
          },
          "colorscale": {
           "diverging": [
            [
             0,
             "#8e0152"
            ],
            [
             0.1,
             "#c51b7d"
            ],
            [
             0.2,
             "#de77ae"
            ],
            [
             0.3,
             "#f1b6da"
            ],
            [
             0.4,
             "#fde0ef"
            ],
            [
             0.5,
             "#f7f7f7"
            ],
            [
             0.6,
             "#e6f5d0"
            ],
            [
             0.7,
             "#b8e186"
            ],
            [
             0.8,
             "#7fbc41"
            ],
            [
             0.9,
             "#4d9221"
            ],
            [
             1,
             "#276419"
            ]
           ],
           "sequential": [
            [
             0,
             "#0d0887"
            ],
            [
             0.1111111111111111,
             "#46039f"
            ],
            [
             0.2222222222222222,
             "#7201a8"
            ],
            [
             0.3333333333333333,
             "#9c179e"
            ],
            [
             0.4444444444444444,
             "#bd3786"
            ],
            [
             0.5555555555555556,
             "#d8576b"
            ],
            [
             0.6666666666666666,
             "#ed7953"
            ],
            [
             0.7777777777777778,
             "#fb9f3a"
            ],
            [
             0.8888888888888888,
             "#fdca26"
            ],
            [
             1,
             "#f0f921"
            ]
           ],
           "sequentialminus": [
            [
             0,
             "#0d0887"
            ],
            [
             0.1111111111111111,
             "#46039f"
            ],
            [
             0.2222222222222222,
             "#7201a8"
            ],
            [
             0.3333333333333333,
             "#9c179e"
            ],
            [
             0.4444444444444444,
             "#bd3786"
            ],
            [
             0.5555555555555556,
             "#d8576b"
            ],
            [
             0.6666666666666666,
             "#ed7953"
            ],
            [
             0.7777777777777778,
             "#fb9f3a"
            ],
            [
             0.8888888888888888,
             "#fdca26"
            ],
            [
             1,
             "#f0f921"
            ]
           ]
          },
          "colorway": [
           "#636efa",
           "#EF553B",
           "#00cc96",
           "#ab63fa",
           "#FFA15A",
           "#19d3f3",
           "#FF6692",
           "#B6E880",
           "#FF97FF",
           "#FECB52"
          ],
          "font": {
           "color": "#2a3f5f"
          },
          "geo": {
           "bgcolor": "white",
           "lakecolor": "white",
           "landcolor": "#E5ECF6",
           "showlakes": true,
           "showland": true,
           "subunitcolor": "white"
          },
          "hoverlabel": {
           "align": "left"
          },
          "hovermode": "closest",
          "mapbox": {
           "style": "light"
          },
          "paper_bgcolor": "white",
          "plot_bgcolor": "#E5ECF6",
          "polar": {
           "angularaxis": {
            "gridcolor": "white",
            "linecolor": "white",
            "ticks": ""
           },
           "bgcolor": "#E5ECF6",
           "radialaxis": {
            "gridcolor": "white",
            "linecolor": "white",
            "ticks": ""
           }
          },
          "scene": {
           "xaxis": {
            "backgroundcolor": "#E5ECF6",
            "gridcolor": "white",
            "gridwidth": 2,
            "linecolor": "white",
            "showbackground": true,
            "ticks": "",
            "zerolinecolor": "white"
           },
           "yaxis": {
            "backgroundcolor": "#E5ECF6",
            "gridcolor": "white",
            "gridwidth": 2,
            "linecolor": "white",
            "showbackground": true,
            "ticks": "",
            "zerolinecolor": "white"
           },
           "zaxis": {
            "backgroundcolor": "#E5ECF6",
            "gridcolor": "white",
            "gridwidth": 2,
            "linecolor": "white",
            "showbackground": true,
            "ticks": "",
            "zerolinecolor": "white"
           }
          },
          "shapedefaults": {
           "line": {
            "color": "#2a3f5f"
           }
          },
          "ternary": {
           "aaxis": {
            "gridcolor": "white",
            "linecolor": "white",
            "ticks": ""
           },
           "baxis": {
            "gridcolor": "white",
            "linecolor": "white",
            "ticks": ""
           },
           "bgcolor": "#E5ECF6",
           "caxis": {
            "gridcolor": "white",
            "linecolor": "white",
            "ticks": ""
           }
          },
          "title": {
           "x": 0.05
          },
          "xaxis": {
           "automargin": true,
           "gridcolor": "white",
           "linecolor": "white",
           "ticks": "",
           "title": {
            "standoff": 15
           },
           "zerolinecolor": "white",
           "zerolinewidth": 2
          },
          "yaxis": {
           "automargin": true,
           "gridcolor": "white",
           "linecolor": "white",
           "ticks": "",
           "title": {
            "standoff": 15
           },
           "zerolinecolor": "white",
           "zerolinewidth": 2
          }
         }
        },
        "title": {
         "text": "Comparison of Deaths per Million, Median Age, and GDP per Capita by Country"
        },
        "xaxis": {
         "anchor": "y",
         "domain": [
          0,
          1
         ],
         "title": {
          "text": "Median Age"
         }
        },
        "yaxis": {
         "anchor": "x",
         "domain": [
          0,
          1
         ],
         "title": {
          "text": "GDP per Capita 2021"
         }
        }
       }
      }
     },
     "metadata": {},
     "output_type": "display_data"
    }
   ],
   "source": [
    "import pandas as pd\n",
    "import plotly.express as px\n",
    "\n",
    "# Read the datasets\n",
    "covid_df = pd.read_csv('owid-covid-data.csv')\n",
    "gdp_df = pd.read_csv('GDP-data.csv', skiprows=4)\n",
    "\n",
    "# Convert 'date' column to datetime\n",
    "covid_df['date'] = pd.to_datetime(covid_df['date'])\n",
    "\n",
    "# Extract data for 2021 and 2020\n",
    "covid_2021_df = covid_df[covid_df['date'].dt.year == 2021]\n",
    "covid_2020_df = covid_df[covid_df['date'].dt.year == 2020]\n",
    "\n",
    "# Find the last available date for each location in 2021 and 2020\n",
    "last_dates_2021 = covid_2021_df.groupby('location')['date'].idxmax()\n",
    "last_dates_2020 = covid_2020_df.groupby('location')['date'].idxmax()\n",
    "\n",
    "# Filter the dataframe to only include rows with the last available date for each location\n",
    "covid_last_2021 = covid_2021_df.loc[last_dates_2021]\n",
    "covid_last_2020 = covid_2020_df.loc[last_dates_2020]\n",
    "\n",
    "# Select required columns\n",
    "covid_deaths_2021 = covid_last_2021[['location', 'total_deaths_per_million']]\n",
    "covid_deaths_2020 = covid_last_2020[['location', 'total_deaths_per_million']]\n",
    "\n",
    "# Merge 2020 and 2021 data on location\n",
    "covid_deaths = pd.merge(covid_deaths_2021, covid_deaths_2020, on='location', suffixes=('_2021', '_2020'))\n",
    "\n",
    "# Calculate the difference in total deaths per million between 2021 and 2020\n",
    "covid_deaths['total_deaths_per_million_2021'] = covid_deaths['total_deaths_per_million_2021'] - covid_deaths['total_deaths_per_million_2020']\n",
    "\n",
    "# Preprocess GDP data\n",
    "gdp_df = gdp_df.rename(columns={'Country Name': 'location'})\n",
    "\n",
    "# Merge GDP data with COVID data\n",
    "df = pd.merge(gdp_df, covid_deaths, on='location', how='inner')\n",
    "\n",
    "# Add other required columns from the covid_last_2021 data\n",
    "other_columns = covid_last_2021[['location', 'continent', 'median_age', 'people_vaccinated_per_hundred', 'total_tests_per_thousand']]\n",
    "df = pd.merge(df, other_columns, on='location', how='inner')\n",
    "\n",
    "# Handle NaN values in the '2021' (GDP per capita) column\n",
    "df['2021'] = df['2021'].replace('..', float('nan')).astype(float)\n",
    "df = df.dropna(subset=['2021', 'total_deaths_per_million_2021'])\n",
    "\n",
    "# Create the scatter plot\n",
    "fig = px.scatter(\n",
    "    df,\n",
    "    x=\"median_age\",\n",
    "    y=\"2021\", \n",
    "    size=\"total_deaths_per_million_2021\",\n",
    "    hover_name=\"location\",\n",
    "    color='continent',\n",
    "    title=\"Comparison of Deaths per Million, Median Age, and GDP per Capita by Country\",\n",
    "    labels={\n",
    "        \"median_age\": \"Median Age\",\n",
    "        \"total_deaths_per_million_2021\": \"Total Deaths per Million (2021)\",\n",
    "        \"2021\": \"GDP per Capita 2021\"\n",
    "    },\n",
    "    size_max=60,  # Maximum size of the bubbles\n",
    "    color_continuous_scale=px.colors.sequential.Blues,\n",
    "    height=800  # Adjust the height of the figure\n",
    ")\n",
    "\n",
    "fig.add_annotation(\n",
    "    text=\"Figure 2.2\", \n",
    "    xref=\"paper\", \n",
    "    yref=\"paper\", \n",
    "    x=1,  # Adjust x position\n",
    "    y=-0.1,  # Adjust y position\n",
    "    showarrow=False, \n",
    "    align=\"center\", \n",
    "    font=dict(size=14)\n",
    ")\n",
    "\n",
    "# Show the figure\n",
    "fig.show()"
   ]
  },
  {
   "cell_type": "markdown",
   "metadata": {
    "tags": [
     "remove_input"
    ]
   },
   "source": [
    "The bubble chart takes 3 variables, the median age, GDP per capita and deaths per million. The X axis  shows the median age the Y axis GDP and the size total deaths per million. European countries generally have high GDP and median ages above 35, with varied death tolls. African nations, with lower GDPs and median ages around 25-30, usually report low death tolls. North America shows a wide range of GDPs and median ages, with death tolls not fitting a clear pattern. South America, despite diverse GDPs and median ages, has relatively high death tolls. Oceania's countries have significant differences in GDP and median age but low death tolls, which could be because of geographic isolation. Asia shows economic and median age diversity with generally low death tolls, suggesting other influences besides median age. Overall, the graph shows a slight correlation between GDP per capita and median age, and also a slight correlation between median age and deaths per million."
   ]
  },
  {
   "cell_type": "markdown",
   "metadata": {
    "tags": [
     "remove_input"
    ]
   },
   "source": [
    "#### Argument 3: "
   ]
  },
  {
   "cell_type": "code",
   "execution_count": 60,
   "metadata": {
    "tags": [
     "remove_input"
    ]
   },
   "outputs": [
    {
     "data": {
      "application/vnd.plotly.v1+json": {
       "config": {
        "plotlyServerURL": "https://plot.ly"
       },
       "data": [
        {
         "hovertemplate": "<b>%{hovertext}</b><br><br>Human Development Index=%{x}<br>GDP per capita (2021)=%{y}<br>total_deaths_per_million_2021=%{marker.size}<extra></extra>",
         "hovertext": [
          "Aruba",
          "Afghanistan",
          "Angola",
          "Albania",
          "Andorra",
          "United Arab Emirates",
          "Argentina",
          "Armenia",
          "Antigua and Barbuda",
          "Australia",
          "Austria",
          "Azerbaijan",
          "Burundi",
          "Belgium",
          "Benin",
          "Burkina Faso",
          "Bangladesh",
          "Bulgaria",
          "Bahrain",
          "Bosnia and Herzegovina",
          "Belarus",
          "Belize",
          "Bermuda",
          "Bolivia",
          "Brazil",
          "Barbados",
          "Botswana",
          "Central African Republic",
          "Canada",
          "Switzerland",
          "Chile",
          "China",
          "Cote d'Ivoire",
          "Cameroon",
          "Colombia",
          "Comoros",
          "Costa Rica",
          "Curacao",
          "Cayman Islands",
          "Cyprus",
          "Czechia",
          "Germany",
          "Djibouti",
          "Denmark",
          "Dominican Republic",
          "Algeria",
          "Ecuador",
          "Spain",
          "Estonia",
          "Ethiopia",
          "European Union",
          "Finland",
          "Fiji",
          "France",
          "Gabon",
          "United Kingdom",
          "Georgia",
          "Ghana",
          "Guinea",
          "Guinea-Bissau",
          "Equatorial Guinea",
          "Greece",
          "Guatemala",
          "Guyana",
          "High income",
          "Honduras",
          "Croatia",
          "Haiti",
          "Hungary",
          "Indonesia",
          "India",
          "Ireland",
          "Iraq",
          "Iceland",
          "Israel",
          "Italy",
          "Jamaica",
          "Jordan",
          "Japan",
          "Kazakhstan",
          "Kenya",
          "Kuwait",
          "Lebanon",
          "Liberia",
          "Libya",
          "Low income",
          "Sri Lanka",
          "Lower middle income",
          "Lesotho",
          "Lithuania",
          "Luxembourg",
          "Latvia",
          "Morocco",
          "Moldova",
          "Madagascar",
          "Maldives",
          "Mexico",
          "North Macedonia",
          "Mali",
          "Malta",
          "Myanmar",
          "Montenegro",
          "Mongolia",
          "Mozambique",
          "Mauritania",
          "Mauritius",
          "Malawi",
          "Malaysia",
          "North America",
          "Namibia",
          "Niger",
          "Nigeria",
          "Nicaragua",
          "Netherlands",
          "Norway",
          "Nepal",
          "New Zealand",
          "Oman",
          "Pakistan",
          "Panama",
          "Peru",
          "Philippines",
          "Papua New Guinea",
          "Poland",
          "Puerto Rico",
          "Portugal",
          "Paraguay",
          "Qatar",
          "Romania",
          "Rwanda",
          "Saudi Arabia",
          "Sudan",
          "Senegal",
          "Singapore",
          "Sierra Leone",
          "El Salvador",
          "San Marino",
          "Somalia",
          "Serbia",
          "Sao Tome and Principe",
          "Suriname",
          "Slovenia",
          "Sweden",
          "Eswatini",
          "Sint Maarten (Dutch part)",
          "Turks and Caicos Islands",
          "Chad",
          "Togo",
          "Thailand",
          "Tajikistan",
          "Trinidad and Tobago",
          "Tunisia",
          "Tanzania",
          "Uganda",
          "Ukraine",
          "Upper middle income",
          "Uruguay",
          "United States",
          "World",
          "Kosovo",
          "South Africa",
          "Zambia",
          "Zimbabwe"
         ],
         "legendgroup": "",
         "marker": {
          "color": "#636efa",
          "size": [
           1258.6999999999998,
           126.287,
           37.821,
           722.298,
           701.377,
           158.985,
           1545.21,
           1861.1949999999997,
           1205.0500000000002,
           55.657999999999994,
           1066.9360000000001,
           566.5139999999999,
           0.931,
           756.5250000000001,
           8.762,
           10.541,
           120.383,
           3451.0699999999997,
           708.4449999999999,
           2894.6690000000003,
           430.836,
           898.133,
           1510.738,
           854.6220000000001,
           1987.353,
           898.2909999999999,
           912.444,
           6.811000000000002,
           393.11600000000004,
           531.5499999999998,
           1153.301,
           0.6469999999999998,
           20.348000000000003,
           50.261,
           1696.3400000000001,
           174.47799999999998,
           1012.5780000000001,
           910.171,
           130.962,
           583.701,
           2346.2,
           847.8249999999999,
           114.19900000000001,
           346.466,
           163.241,
           78.102,
           1091.995,
           784.5260000000001,
           1164.348,
           40.467999999999996,
           1175.7649999999999,
           219.826,
           747.498,
           938.1740000000001,
           93.345,
           1269.2250000000001,
           2973.786,
           28.439,
           22.296,
           49.391999999999996,
           53.13700000000001,
           1523.644,
           635.0620000000001,
           1088.1299999999999,
           926.4449999999999,
           706.23,
           2150.179,
           45.83500000000001,
           2935.598,
           445.79800000000006,
           234.311,
           761.282,
           255.19100000000003,
           24.13499999999999,
           530.109,
           1099.353,
           766.787,
           772.204,
           122.41900000000001,
           799.876,
           68.557,
           360.51599999999996,
           1393.143,
           37.339,
           620.345,
           43.101,
           672.9979999999999,
           252.933,
           260.644,
           2067.2290000000003,
           540.456,
           2260.282,
           203.50799999999998,
           2207.154,
           25.868000000000002,
           406.64599999999996,
           1249.8809999999999,
           2606.03,
           17.837000000000003,
           498.78800000000007,
           307.368,
           2763.594,
           582.6320000000001,
           54.626,
           110.85,
           578.694,
           104.875,
           909.977,
           1158.143,
           1330.724,
           6.601,
           8.085,
           7.482999999999997,
           536.381,
           168.19,
           290.20300000000003,
           4.822000000000001,
           653.1479999999999,
           80.946,
           828.611,
           3228.556,
           364.60200000000003,
           57.283,
           1684.0890000000002,
           513.7719999999999,
           1187.146,
           2130.1499999999996,
           137.284,
           2209.035,
           92.40199999999999,
           73.99300000000002,
           37.931999999999995,
           86.79599999999999,
           140.677,
           5.462,
           397.86,
           1216.978,
           68.532,
           1394.882,
           175.90699999999998,
           1726.409,
           1513.3199999999997,
           566.7650000000001,
           922.875,
           1108.7980000000002,
           437.38800000000003,
           4.344999999999999,
           20.116,
           300.152,
           3.516,
           1693.616,
           1707.4140000000002,
           10.931000000000001,
           63.111999999999995,
           1945.8850000000002,
           589.365,
           1758.504,
           1388.357,
           445.05499999999995,
           944.944,
           1072.7640000000001,
           165.604,
           278.42199999999997
          ],
          "sizemode": "area",
          "sizeref": 8.627675,
          "symbol": "circle"
         },
         "mode": "markers",
         "name": "",
         "orientation": "v",
         "showlegend": false,
         "type": "scatter",
         "x": [
          null,
          0.511,
          0.581,
          0.795,
          0.868,
          0.89,
          0.845,
          0.776,
          0.778,
          0.944,
          0.922,
          0.756,
          0.433,
          0.931,
          0.545,
          0.452,
          0.632,
          0.816,
          0.852,
          0.78,
          0.823,
          0.716,
          null,
          0.718,
          0.765,
          0.814,
          0.735,
          0.397,
          0.929,
          0.955,
          0.851,
          0.761,
          0.538,
          0.563,
          0.767,
          0.554,
          0.81,
          null,
          null,
          0.887,
          0.9,
          0.947,
          0.524,
          0.94,
          0.756,
          0.748,
          0.759,
          0.904,
          0.892,
          0.485,
          null,
          0.938,
          0.743,
          0.901,
          0.703,
          0.932,
          0.812,
          0.611,
          0.477,
          0.48,
          0.592,
          0.888,
          0.663,
          0.682,
          null,
          0.634,
          0.851,
          0.51,
          0.854,
          0.718,
          0.645,
          0.955,
          0.674,
          0.949,
          0.919,
          0.892,
          0.734,
          0.729,
          0.919,
          0.825,
          0.601,
          0.806,
          0.744,
          0.48,
          0.724,
          null,
          0.782,
          null,
          0.527,
          0.882,
          0.916,
          0.866,
          0.686,
          0.75,
          0.528,
          0.74,
          0.779,
          0.774,
          0.434,
          0.895,
          0.583,
          0.829,
          0.737,
          0.456,
          0.546,
          0.804,
          0.483,
          0.81,
          null,
          0.646,
          0.394,
          0.539,
          0.66,
          0.944,
          0.957,
          0.602,
          0.931,
          0.813,
          0.557,
          0.815,
          0.777,
          0.718,
          0.555,
          0.88,
          null,
          0.864,
          0.728,
          0.848,
          0.828,
          0.543,
          0.854,
          0.51,
          0.512,
          0.938,
          0.452,
          0.673,
          null,
          null,
          0.806,
          0.625,
          0.738,
          0.917,
          0.945,
          0.611,
          null,
          null,
          0.398,
          0.515,
          0.777,
          0.668,
          0.796,
          0.74,
          0.529,
          0.544,
          0.779,
          null,
          0.817,
          0.926,
          0.737,
          null,
          0.709,
          0.584,
          0.571
         ],
         "xaxis": "x",
         "y": [
          38226.146156979,
          2138.87024713086,
          7414.27895783202,
          16262.6634527606,
          58829.8500720505,
          68912.5455473732,
          26086.8023552274,
          16899.0709181678,
          25493.1295548691,
          57406.1787604549,
          63421.2035870778,
          20111.3756952109,
          864.280732753101,
          62107.0699329664,
          3575.31148668734,
          2467.67804044213,
          7366.48997079065,
          29406.5795920851,
          54351.8360757233,
          18379.5525047191,
          27611.1801135156,
          11559.8905984688,
          91508.8303752301,
          9342.97184473106,
          17450.5086501913,
          14686.2199296539,
          16651.5337042653,
          1057.19439503026,
          55634.8275796301,
          81603.2073073193,
          29148.2424509188,
          20406.7296584605,
          6432.62666292098,
          4741.76177028658,
          17586.5239590949,
          3426.75773437156,
          23700.2961314063,
          25163.8669323866,
          75898.4231569682,
          48469.4140625,
          48418.1157871868,
          61939.6515850137,
          6032.27795593735,
          69878.9348117258,
          21923.3019358073,
          12893.2100025293,
          13293.0871517821,
          43620.6040614123,
          45047.315035037,
          2628.34346412648,
          51917.3510593707,
          57848.6141705053,
          10593.9126867971,
          53834.7992971017,
          19552.3625335025,
          52841.6345850474,
          18691.1612210787,
          6544.2381999688,
          3735.0898272933,
          2164.37287781941,
          17936.6113034777,
          33018.2544152866,
          12106.4225430833,
          23176.1332006217,
          56775.3863840879,
          6285.9287396567,
          36954.4345867034,
          3114.96354203089,
          38643.762589993,
          12897.0571071313,
          8044.67480751057,
          114120.544516392,
          12476.3625169213,
          61481.3794980574,
          46126.6423137421,
          49912.83903304,
          9610.98933709822,
          9115.01951145213,
          44291.9852770528,
          34233.4732249708,
          5360.36190289931,
          48129.9882968208,
          11860.0586252712,
          1556.94547466638,
          15133.8474122324,
          2127.32074037264,
          14306.2352220864,
          8082.53806034203,
          2456.31221508897,
          46410.0676392912,
          137947.34385169,
          36777.8928459839,
          8581.330078125,
          15682.0703284653,
          1642.30416221094,
          18865.7192956579,
          21123.6718346798,
          19902.8198301911,
          2399.46153474407,
          53387.2378429299,
          5138.88724952007,
          24511.2620665873,
          14951.1365679904,
          1440.45976271877,
          5988.20355101133,
          22737.5729410543,
          1731.76777467309,
          30456.0928951741,
          68717.637078835,
          10823.175558195,
          1538.47074692859,
          5623.66407810605,
          6874.61550569295,
          67693.3264311302,
          86891.9964886406,
          4461.46878467812,
          48555.5523439365,
          38930.9938379577,
          5554.58570149625,
          30895.8322499594,
          14853.5805797423,
          8797.16871175312,
          4014.2854655247,
          40462.6887122126,
          40537.7088223526,
          38783.0115625218,
          15361.0847494949,
          108865.13777489,
          37971.0545519053,
          2705.84426715937,
          47754.4377844143,
          3420.45190429688,
          4266.26875168597,
          128731.011187586,
          1623.97562392431,
          10860.247882807,
          65717.8915454458,
          1461.96879165973,
          22575.4210980499,
          5703.24824295017,
          18447.3399360527,
          46502.0978938704,
          63375.0446462412,
          10202.5096730796,
          39465.6250774608,
          21232.6835191491,
          1764.34807562549,
          2678.83160754709,
          20253.3547905679,
          4074.56022293416,
          27631.6778146419,
          12126.587729035,
          3451.4482421875,
          2688.26683541397,
          18040.345703125,
          20572.1469687869,
          29500.3726206454,
          70219.472454115,
          19645.4913851903,
          12362.7048078624,
          14172.5442513912,
          3526.50741832512,
          3276.26775280153
         ],
         "yaxis": "y"
        },
        {
         "hovertemplate": "<b>OLS trendline</b><br>2021 = 133369 * human_development_index + -71410.8<br>R<sup>2</sup>=0.622125<br><br>Human Development Index=%{x}<br>GDP per capita (2021)=%{y} <b>(trend)</b><extra></extra>",
         "legendgroup": "",
         "marker": {
          "color": "#636efa",
          "symbol": "circle"
         },
         "mode": "lines",
         "name": "",
         "showlegend": false,
         "type": "scatter",
         "x": [
          0.394,
          0.397,
          0.398,
          0.433,
          0.434,
          0.452,
          0.452,
          0.456,
          0.477,
          0.48,
          0.48,
          0.483,
          0.485,
          0.51,
          0.51,
          0.511,
          0.512,
          0.515,
          0.524,
          0.527,
          0.528,
          0.529,
          0.538,
          0.539,
          0.543,
          0.544,
          0.545,
          0.546,
          0.554,
          0.555,
          0.557,
          0.563,
          0.571,
          0.581,
          0.583,
          0.584,
          0.592,
          0.601,
          0.602,
          0.611,
          0.611,
          0.625,
          0.632,
          0.634,
          0.645,
          0.646,
          0.66,
          0.663,
          0.668,
          0.673,
          0.674,
          0.682,
          0.686,
          0.703,
          0.709,
          0.716,
          0.718,
          0.718,
          0.718,
          0.724,
          0.728,
          0.729,
          0.734,
          0.735,
          0.737,
          0.737,
          0.738,
          0.74,
          0.74,
          0.743,
          0.744,
          0.748,
          0.75,
          0.756,
          0.756,
          0.759,
          0.761,
          0.765,
          0.767,
          0.774,
          0.776,
          0.777,
          0.777,
          0.778,
          0.779,
          0.779,
          0.78,
          0.782,
          0.795,
          0.796,
          0.804,
          0.806,
          0.806,
          0.81,
          0.81,
          0.812,
          0.813,
          0.814,
          0.815,
          0.816,
          0.817,
          0.823,
          0.825,
          0.828,
          0.829,
          0.845,
          0.848,
          0.851,
          0.851,
          0.852,
          0.854,
          0.854,
          0.864,
          0.866,
          0.868,
          0.88,
          0.882,
          0.887,
          0.888,
          0.89,
          0.892,
          0.892,
          0.895,
          0.9,
          0.901,
          0.904,
          0.916,
          0.917,
          0.919,
          0.919,
          0.922,
          0.926,
          0.929,
          0.931,
          0.931,
          0.932,
          0.938,
          0.938,
          0.94,
          0.944,
          0.944,
          0.945,
          0.947,
          0.949,
          0.955,
          0.955,
          0.957
         ],
         "xaxis": "x",
         "y": [
          -18863.470678094687,
          -18463.364443246966,
          -18329.99569829773,
          -13662.089625074332,
          -13528.720880125096,
          -11128.083471038772,
          -11128.083471038772,
          -10594.608491241808,
          -7793.864847307777,
          -7393.758612460057,
          -7393.758612460057,
          -6993.652377612336,
          -6726.914887713858,
          -3392.696263982856,
          -3392.696263982856,
          -3259.3275190336135,
          -3125.958774084371,
          -2725.8525392366573,
          -1525.5338346934877,
          -1125.4275998457742,
          -992.0588548965316,
          -858.6901099472889,
          341.62859459586616,
          474.99733954510884,
          1008.472319342065,
          1141.8410642913077,
          1275.2098092405504,
          1408.578554189793,
          2475.5285137837054,
          2608.897258732948,
          2875.6347486314335,
          3675.8472183268605,
          4742.797177920773,
          6076.484627413185,
          6343.222117311656,
          6476.590862260899,
          7543.5408218548255,
          8743.85952639798,
          8877.228271347223,
          10077.546975890378,
          10077.546975890378,
          11944.709405179747,
          12878.29061982443,
          13145.028109722902,
          14612.084304164542,
          14745.453049113785,
          16612.615478403153,
          17012.721713250867,
          17679.565437997066,
          18346.409162743264,
          18479.777907692507,
          19546.727867286434,
          20080.20284708339,
          22347.471511220458,
          23147.6839809159,
          24081.265195560583,
          24348.002685459054,
          24348.002685459054,
          24348.002685459054,
          25148.215155154496,
          25681.690134951452,
          25815.058879900695,
          26481.902604646893,
          26615.271349596136,
          26882.00883949462,
          26882.00883949462,
          27015.377584443864,
          27282.115074342335,
          27282.115074342335,
          27682.221309190063,
          27815.590054139306,
          28349.065033936262,
          28615.802523834733,
          29416.014993530174,
          29416.014993530174,
          29816.121228377902,
          30082.858718276388,
          30616.333698073344,
          30883.071187971815,
          31816.6524026165,
          32083.389892514984,
          32216.758637464227,
          32216.758637464227,
          32350.12738241347,
          32483.496127362698,
          32483.496127362698,
          32616.86487231194,
          32883.602362210426,
          34617.39604655054,
          34750.76479149978,
          35817.71475109371,
          36084.45224099219,
          36084.45224099219,
          36617.92722078915,
          36617.92722078915,
          36884.66471068762,
          37018.03345563685,
          37151.40220058609,
          37284.77094553533,
          37418.139690484575,
          37551.50843543382,
          38351.720905129245,
          38618.45839502773,
          39018.56462987546,
          39151.933374824686,
          41285.83329401254,
          41685.93952886025,
          42086.04576370798,
          42086.04576370798,
          42219.41450865721,
          42486.151998555695,
          42486.151998555695,
          43819.83944804809,
          44086.57693794658,
          44353.31442784505,
          45953.73936723593,
          46220.47685713442,
          46887.32058188062,
          47020.68932682986,
          47287.426816728344,
          47554.164306626815,
          47554.164306626815,
          47954.27054147454,
          48621.11426622074,
          48754.483011169985,
          49154.5892460177,
          50755.01418540858,
          50888.382930357824,
          51155.120420256295,
          51155.120420256295,
          51555.22665510402,
          52088.70163490098,
          52488.80786974871,
          52755.54535964718,
          52755.54535964718,
          52888.91410459642,
          53689.12657429185,
          53689.12657429185,
          53955.86406419033,
          54489.33904398729,
          54489.33904398729,
          54622.70778893653,
          54889.445278835,
          55156.18276873349,
          55956.39523842893,
          55956.39523842893,
          56223.132728327415
         ],
         "yaxis": "y"
        }
       ],
       "layout": {
        "annotations": [
         {
          "align": "center",
          "font": {
           "size": 14
          },
          "showarrow": false,
          "text": "Figure 2.3",
          "x": 1,
          "xref": "paper",
          "y": -0.2,
          "yref": "paper"
         }
        ],
        "height": 600,
        "legend": {
         "itemsizing": "constant",
         "tracegroupgap": 0
        },
        "template": {
         "data": {
          "bar": [
           {
            "error_x": {
             "color": "#2a3f5f"
            },
            "error_y": {
             "color": "#2a3f5f"
            },
            "marker": {
             "line": {
              "color": "#E5ECF6",
              "width": 0.5
             },
             "pattern": {
              "fillmode": "overlay",
              "size": 10,
              "solidity": 0.2
             }
            },
            "type": "bar"
           }
          ],
          "barpolar": [
           {
            "marker": {
             "line": {
              "color": "#E5ECF6",
              "width": 0.5
             },
             "pattern": {
              "fillmode": "overlay",
              "size": 10,
              "solidity": 0.2
             }
            },
            "type": "barpolar"
           }
          ],
          "carpet": [
           {
            "aaxis": {
             "endlinecolor": "#2a3f5f",
             "gridcolor": "white",
             "linecolor": "white",
             "minorgridcolor": "white",
             "startlinecolor": "#2a3f5f"
            },
            "baxis": {
             "endlinecolor": "#2a3f5f",
             "gridcolor": "white",
             "linecolor": "white",
             "minorgridcolor": "white",
             "startlinecolor": "#2a3f5f"
            },
            "type": "carpet"
           }
          ],
          "choropleth": [
           {
            "colorbar": {
             "outlinewidth": 0,
             "ticks": ""
            },
            "type": "choropleth"
           }
          ],
          "contour": [
           {
            "colorbar": {
             "outlinewidth": 0,
             "ticks": ""
            },
            "colorscale": [
             [
              0,
              "#0d0887"
             ],
             [
              0.1111111111111111,
              "#46039f"
             ],
             [
              0.2222222222222222,
              "#7201a8"
             ],
             [
              0.3333333333333333,
              "#9c179e"
             ],
             [
              0.4444444444444444,
              "#bd3786"
             ],
             [
              0.5555555555555556,
              "#d8576b"
             ],
             [
              0.6666666666666666,
              "#ed7953"
             ],
             [
              0.7777777777777778,
              "#fb9f3a"
             ],
             [
              0.8888888888888888,
              "#fdca26"
             ],
             [
              1,
              "#f0f921"
             ]
            ],
            "type": "contour"
           }
          ],
          "contourcarpet": [
           {
            "colorbar": {
             "outlinewidth": 0,
             "ticks": ""
            },
            "type": "contourcarpet"
           }
          ],
          "heatmap": [
           {
            "colorbar": {
             "outlinewidth": 0,
             "ticks": ""
            },
            "colorscale": [
             [
              0,
              "#0d0887"
             ],
             [
              0.1111111111111111,
              "#46039f"
             ],
             [
              0.2222222222222222,
              "#7201a8"
             ],
             [
              0.3333333333333333,
              "#9c179e"
             ],
             [
              0.4444444444444444,
              "#bd3786"
             ],
             [
              0.5555555555555556,
              "#d8576b"
             ],
             [
              0.6666666666666666,
              "#ed7953"
             ],
             [
              0.7777777777777778,
              "#fb9f3a"
             ],
             [
              0.8888888888888888,
              "#fdca26"
             ],
             [
              1,
              "#f0f921"
             ]
            ],
            "type": "heatmap"
           }
          ],
          "heatmapgl": [
           {
            "colorbar": {
             "outlinewidth": 0,
             "ticks": ""
            },
            "colorscale": [
             [
              0,
              "#0d0887"
             ],
             [
              0.1111111111111111,
              "#46039f"
             ],
             [
              0.2222222222222222,
              "#7201a8"
             ],
             [
              0.3333333333333333,
              "#9c179e"
             ],
             [
              0.4444444444444444,
              "#bd3786"
             ],
             [
              0.5555555555555556,
              "#d8576b"
             ],
             [
              0.6666666666666666,
              "#ed7953"
             ],
             [
              0.7777777777777778,
              "#fb9f3a"
             ],
             [
              0.8888888888888888,
              "#fdca26"
             ],
             [
              1,
              "#f0f921"
             ]
            ],
            "type": "heatmapgl"
           }
          ],
          "histogram": [
           {
            "marker": {
             "pattern": {
              "fillmode": "overlay",
              "size": 10,
              "solidity": 0.2
             }
            },
            "type": "histogram"
           }
          ],
          "histogram2d": [
           {
            "colorbar": {
             "outlinewidth": 0,
             "ticks": ""
            },
            "colorscale": [
             [
              0,
              "#0d0887"
             ],
             [
              0.1111111111111111,
              "#46039f"
             ],
             [
              0.2222222222222222,
              "#7201a8"
             ],
             [
              0.3333333333333333,
              "#9c179e"
             ],
             [
              0.4444444444444444,
              "#bd3786"
             ],
             [
              0.5555555555555556,
              "#d8576b"
             ],
             [
              0.6666666666666666,
              "#ed7953"
             ],
             [
              0.7777777777777778,
              "#fb9f3a"
             ],
             [
              0.8888888888888888,
              "#fdca26"
             ],
             [
              1,
              "#f0f921"
             ]
            ],
            "type": "histogram2d"
           }
          ],
          "histogram2dcontour": [
           {
            "colorbar": {
             "outlinewidth": 0,
             "ticks": ""
            },
            "colorscale": [
             [
              0,
              "#0d0887"
             ],
             [
              0.1111111111111111,
              "#46039f"
             ],
             [
              0.2222222222222222,
              "#7201a8"
             ],
             [
              0.3333333333333333,
              "#9c179e"
             ],
             [
              0.4444444444444444,
              "#bd3786"
             ],
             [
              0.5555555555555556,
              "#d8576b"
             ],
             [
              0.6666666666666666,
              "#ed7953"
             ],
             [
              0.7777777777777778,
              "#fb9f3a"
             ],
             [
              0.8888888888888888,
              "#fdca26"
             ],
             [
              1,
              "#f0f921"
             ]
            ],
            "type": "histogram2dcontour"
           }
          ],
          "mesh3d": [
           {
            "colorbar": {
             "outlinewidth": 0,
             "ticks": ""
            },
            "type": "mesh3d"
           }
          ],
          "parcoords": [
           {
            "line": {
             "colorbar": {
              "outlinewidth": 0,
              "ticks": ""
             }
            },
            "type": "parcoords"
           }
          ],
          "pie": [
           {
            "automargin": true,
            "type": "pie"
           }
          ],
          "scatter": [
           {
            "fillpattern": {
             "fillmode": "overlay",
             "size": 10,
             "solidity": 0.2
            },
            "type": "scatter"
           }
          ],
          "scatter3d": [
           {
            "line": {
             "colorbar": {
              "outlinewidth": 0,
              "ticks": ""
             }
            },
            "marker": {
             "colorbar": {
              "outlinewidth": 0,
              "ticks": ""
             }
            },
            "type": "scatter3d"
           }
          ],
          "scattercarpet": [
           {
            "marker": {
             "colorbar": {
              "outlinewidth": 0,
              "ticks": ""
             }
            },
            "type": "scattercarpet"
           }
          ],
          "scattergeo": [
           {
            "marker": {
             "colorbar": {
              "outlinewidth": 0,
              "ticks": ""
             }
            },
            "type": "scattergeo"
           }
          ],
          "scattergl": [
           {
            "marker": {
             "colorbar": {
              "outlinewidth": 0,
              "ticks": ""
             }
            },
            "type": "scattergl"
           }
          ],
          "scattermapbox": [
           {
            "marker": {
             "colorbar": {
              "outlinewidth": 0,
              "ticks": ""
             }
            },
            "type": "scattermapbox"
           }
          ],
          "scatterpolar": [
           {
            "marker": {
             "colorbar": {
              "outlinewidth": 0,
              "ticks": ""
             }
            },
            "type": "scatterpolar"
           }
          ],
          "scatterpolargl": [
           {
            "marker": {
             "colorbar": {
              "outlinewidth": 0,
              "ticks": ""
             }
            },
            "type": "scatterpolargl"
           }
          ],
          "scatterternary": [
           {
            "marker": {
             "colorbar": {
              "outlinewidth": 0,
              "ticks": ""
             }
            },
            "type": "scatterternary"
           }
          ],
          "surface": [
           {
            "colorbar": {
             "outlinewidth": 0,
             "ticks": ""
            },
            "colorscale": [
             [
              0,
              "#0d0887"
             ],
             [
              0.1111111111111111,
              "#46039f"
             ],
             [
              0.2222222222222222,
              "#7201a8"
             ],
             [
              0.3333333333333333,
              "#9c179e"
             ],
             [
              0.4444444444444444,
              "#bd3786"
             ],
             [
              0.5555555555555556,
              "#d8576b"
             ],
             [
              0.6666666666666666,
              "#ed7953"
             ],
             [
              0.7777777777777778,
              "#fb9f3a"
             ],
             [
              0.8888888888888888,
              "#fdca26"
             ],
             [
              1,
              "#f0f921"
             ]
            ],
            "type": "surface"
           }
          ],
          "table": [
           {
            "cells": {
             "fill": {
              "color": "#EBF0F8"
             },
             "line": {
              "color": "white"
             }
            },
            "header": {
             "fill": {
              "color": "#C8D4E3"
             },
             "line": {
              "color": "white"
             }
            },
            "type": "table"
           }
          ]
         },
         "layout": {
          "annotationdefaults": {
           "arrowcolor": "#2a3f5f",
           "arrowhead": 0,
           "arrowwidth": 1
          },
          "autotypenumbers": "strict",
          "coloraxis": {
           "colorbar": {
            "outlinewidth": 0,
            "ticks": ""
           }
          },
          "colorscale": {
           "diverging": [
            [
             0,
             "#8e0152"
            ],
            [
             0.1,
             "#c51b7d"
            ],
            [
             0.2,
             "#de77ae"
            ],
            [
             0.3,
             "#f1b6da"
            ],
            [
             0.4,
             "#fde0ef"
            ],
            [
             0.5,
             "#f7f7f7"
            ],
            [
             0.6,
             "#e6f5d0"
            ],
            [
             0.7,
             "#b8e186"
            ],
            [
             0.8,
             "#7fbc41"
            ],
            [
             0.9,
             "#4d9221"
            ],
            [
             1,
             "#276419"
            ]
           ],
           "sequential": [
            [
             0,
             "#0d0887"
            ],
            [
             0.1111111111111111,
             "#46039f"
            ],
            [
             0.2222222222222222,
             "#7201a8"
            ],
            [
             0.3333333333333333,
             "#9c179e"
            ],
            [
             0.4444444444444444,
             "#bd3786"
            ],
            [
             0.5555555555555556,
             "#d8576b"
            ],
            [
             0.6666666666666666,
             "#ed7953"
            ],
            [
             0.7777777777777778,
             "#fb9f3a"
            ],
            [
             0.8888888888888888,
             "#fdca26"
            ],
            [
             1,
             "#f0f921"
            ]
           ],
           "sequentialminus": [
            [
             0,
             "#0d0887"
            ],
            [
             0.1111111111111111,
             "#46039f"
            ],
            [
             0.2222222222222222,
             "#7201a8"
            ],
            [
             0.3333333333333333,
             "#9c179e"
            ],
            [
             0.4444444444444444,
             "#bd3786"
            ],
            [
             0.5555555555555556,
             "#d8576b"
            ],
            [
             0.6666666666666666,
             "#ed7953"
            ],
            [
             0.7777777777777778,
             "#fb9f3a"
            ],
            [
             0.8888888888888888,
             "#fdca26"
            ],
            [
             1,
             "#f0f921"
            ]
           ]
          },
          "colorway": [
           "#636efa",
           "#EF553B",
           "#00cc96",
           "#ab63fa",
           "#FFA15A",
           "#19d3f3",
           "#FF6692",
           "#B6E880",
           "#FF97FF",
           "#FECB52"
          ],
          "font": {
           "color": "#2a3f5f"
          },
          "geo": {
           "bgcolor": "white",
           "lakecolor": "white",
           "landcolor": "#E5ECF6",
           "showlakes": true,
           "showland": true,
           "subunitcolor": "white"
          },
          "hoverlabel": {
           "align": "left"
          },
          "hovermode": "closest",
          "mapbox": {
           "style": "light"
          },
          "paper_bgcolor": "white",
          "plot_bgcolor": "#E5ECF6",
          "polar": {
           "angularaxis": {
            "gridcolor": "white",
            "linecolor": "white",
            "ticks": ""
           },
           "bgcolor": "#E5ECF6",
           "radialaxis": {
            "gridcolor": "white",
            "linecolor": "white",
            "ticks": ""
           }
          },
          "scene": {
           "xaxis": {
            "backgroundcolor": "#E5ECF6",
            "gridcolor": "white",
            "gridwidth": 2,
            "linecolor": "white",
            "showbackground": true,
            "ticks": "",
            "zerolinecolor": "white"
           },
           "yaxis": {
            "backgroundcolor": "#E5ECF6",
            "gridcolor": "white",
            "gridwidth": 2,
            "linecolor": "white",
            "showbackground": true,
            "ticks": "",
            "zerolinecolor": "white"
           },
           "zaxis": {
            "backgroundcolor": "#E5ECF6",
            "gridcolor": "white",
            "gridwidth": 2,
            "linecolor": "white",
            "showbackground": true,
            "ticks": "",
            "zerolinecolor": "white"
           }
          },
          "shapedefaults": {
           "line": {
            "color": "#2a3f5f"
           }
          },
          "ternary": {
           "aaxis": {
            "gridcolor": "white",
            "linecolor": "white",
            "ticks": ""
           },
           "baxis": {
            "gridcolor": "white",
            "linecolor": "white",
            "ticks": ""
           },
           "bgcolor": "#E5ECF6",
           "caxis": {
            "gridcolor": "white",
            "linecolor": "white",
            "ticks": ""
           }
          },
          "title": {
           "x": 0.05
          },
          "xaxis": {
           "automargin": true,
           "gridcolor": "white",
           "linecolor": "white",
           "ticks": "",
           "title": {
            "standoff": 15
           },
           "zerolinecolor": "white",
           "zerolinewidth": 2
          },
          "yaxis": {
           "automargin": true,
           "gridcolor": "white",
           "linecolor": "white",
           "ticks": "",
           "title": {
            "standoff": 15
           },
           "zerolinecolor": "white",
           "zerolinewidth": 2
          }
         }
        },
        "title": {
         "text": "Human Development Index vs Total Deaths per Million (2021)"
        },
        "xaxis": {
         "anchor": "y",
         "domain": [
          0,
          1
         ],
         "title": {
          "text": "Human Development Index"
         }
        },
        "yaxis": {
         "anchor": "x",
         "domain": [
          0,
          1
         ],
         "title": {
          "text": "GDP per capita (2021)"
         }
        }
       }
      }
     },
     "metadata": {},
     "output_type": "display_data"
    }
   ],
   "source": [
    "import pandas as pd\n",
    "import plotly.express as px\n",
    "\n",
    "# Read the datasets\n",
    "covid_df = pd.read_csv('owid-covid-data.csv')\n",
    "gdp_df = pd.read_csv('GDP-data.csv', skiprows=4)\n",
    "\n",
    "# Convert 'date' column to datetime\n",
    "covid_df['date'] = pd.to_datetime(covid_df['date'])\n",
    "\n",
    "# Extract data for 2021 and 2020\n",
    "covid_2021_df = covid_df[covid_df['date'].dt.year == 2021]\n",
    "covid_2020_df = covid_df[covid_df['date'].dt.year == 2020]\n",
    "\n",
    "# Find the last available date for each location in 2021 and 2020\n",
    "last_dates_2021 = covid_2021_df.groupby('location')['date'].idxmax()\n",
    "last_dates_2020 = covid_2020_df.groupby('location')['date'].idxmax()\n",
    "\n",
    "# Filter the dataframe to only include rows with the last available date for each location\n",
    "covid_last_2021 = covid_2021_df.loc[last_dates_2021]\n",
    "covid_last_2020 = covid_2020_df.loc[last_dates_2020]\n",
    "\n",
    "# Select required columns\n",
    "covid_deaths_2021 = covid_last_2021[['location', 'total_deaths_per_million']]\n",
    "covid_deaths_2020 = covid_last_2020[['location', 'total_deaths_per_million']]\n",
    "\n",
    "# Merge 2020 and 2021 data on location\n",
    "covid_deaths = pd.merge(covid_deaths_2021, covid_deaths_2020, on='location', suffixes=('_2021', '_2020'))\n",
    "\n",
    "# Calculate the difference in total deaths per million between 2021 and 2020\n",
    "covid_deaths['total_deaths_per_million_2021'] = covid_deaths['total_deaths_per_million_2021'] - covid_deaths['total_deaths_per_million_2020']\n",
    "\n",
    "# Preprocess GDP data\n",
    "gdp_df = gdp_df.rename(columns={'Country Name': 'location'})\n",
    "\n",
    "# Merge GDP data with COVID data\n",
    "df = pd.merge(gdp_df, covid_deaths, on='location', how='inner')\n",
    "\n",
    "# Add other required columns from the covid_last_2021 data\n",
    "other_columns = covid_last_2021[['location', 'continent', 'median_age', 'people_vaccinated_per_hundred', 'total_tests_per_thousand', 'human_development_index', 'population_density', 'icu_patients_per_million']]\n",
    "df = pd.merge(df, other_columns, on='location', how='inner')\n",
    "\n",
    "# Handle NaN values in the '2021' (GDP per capita) column\n",
    "df['2021'] = df['2021'].replace('..', float('nan')).astype(float)\n",
    "df = df.dropna(subset=['2021', 'total_deaths_per_million_2021'])\n",
    "\n",
    "fig4 = px.scatter(\n",
    "    df,\n",
    "    x=\"human_development_index\",\n",
    "    y=\"2021\",\n",
    "    size=\"total_deaths_per_million_2021\",\n",
    "    hover_name=\"location\",\n",
    "    trendline='ols',\n",
    "    title=\"Human Development Index vs Total Deaths per Million (2021)\",\n",
    "    labels={\n",
    "        \"human_development_index\": \"Human Development Index\",\n",
    "        \"2021\": \"GDP per capita (2021)\"\n",
    "    },\n",
    "    height=600\n",
    ")\n",
    "fig4.add_annotation(text=\"Figure 2.3\", xref=\"paper\", yref=\"paper\", x=1, y=-0.2, showarrow=False, align=\"center\", font=dict(size=14))"
   ]
  },
  {
   "cell_type": "markdown",
   "metadata": {
    "tags": [
     "remove_input"
    ]
   },
   "source": [
    "### Summary\n",
    "\n",
    "In summary, eventhough there are reasons suggesting that countries with a higher GDP per capita should have performed better at keeping excessive mortality rates low, the data does not always reflect that. Countries with a higher GDP should have more access to vaccines and the vaccines have been proven to lower excessive mortality rates in countries, but for some reason countries with a higher GDP per capita do not consistently outperform countries with a lower GDP per capita. This could be due to an inconsistency in recording the data, due to a lack of resources, which occurs more often in countries with a lower GDP per capita. On the other hand, there could be legitimate reason to why sometimes countries with a lower GDP per capita have performed better. For example: countries with a lower GDP per capita have a lower median age, which leads to a lower mortality rate.\n",
    "\n"
   ]
  },
  {
   "cell_type": "markdown",
   "metadata": {
    "tags": [
     "remove_input"
    ]
   },
   "source": [
    "### Reflection\n",
    "\n",
    "The feedback from our TAs was important for improving our data story. They helped us correct our visualizations, especially by suggesting we change a 3D scatter plot that was difficult to interpret, to a clearer bubble chart. This change helped us to have a clearer graph, which was much easier to interpret and improved the readability. The TA also gave us feedback about the variation in our visualizations. According to him we initially used too many scatter plots. This advice led us to diversify our types of plots which enhanced the overall clarity of our data story.\n",
    "\n",
    "Additionally, our TA also pointed out that our second perspective was too similar to the first. This feedback made us change the second perspective, to create a more contrasting other perspective. This allowed us to present a broader range of views and a more comprehensive analysis. During the peer feedback we also received the same feedback that the TA gave us, about the overuse of scatter plots. They also adviced us to create a bigger variety of data visualizations since they saw we had too many scatter plots. \n",
    "\n",
    "By incorporating the design guidelines discussed in the lectures, we critically inspected each visualization using the given criteria. We ensured that each visualization used the most suitable chart type to convey the data effectively, we highlighted key data points and trends, provided necessary context and used scales that accurately represented the data. We also made sure to choose the right colors and shapes to create a contrast, which makes it easier to read. On top of that we repeated similar elements such as the color blue, to add consistency throughout the page. By using these design guidelines we ensured our visualizations were not only aesthetically pleasing but also functionally effective and easy to interpret \n",
    "\n",
    "Overall, all the feedback we received helped us a lot by diversifying our data visualizations and elevating our data analysis. This helped us to make a more comprehensive data story from multiple viewpoints.\n",
    "\n",
    "\n",
    "\n",
    "### Work Distribution\n",
    "We all worked together on most aspects of the project, as we met up on campus to collaborate on the assignment. We brainstormed ideas and eventually chose the different perspectives and arguments together. Each team member then took responsibility for writing out one of the arguments to explain it in the data story. We also collaborated on writing parts of the introduction together in google docs, ensuring that it reflected all of our perspectives and understanding to make sure we are on the same page. We also worked together to reflect on and incorporate the feedback we received from the TAs and our peers, ensuring that all perspectives and suggestions were integrated into our final project. This teamwork helped us with making sure we have a unified and well rounded data story."
   ]
  },
  {
   "cell_type": "markdown",
   "metadata": {
    "tags": [
     "remove_input"
    ]
   },
   "source": [
    "### References\n",
    "\n",
    "The links for these datasets are: \n",
    "OWID Covid-19: https://ourworldindata.org/coronavirus#deaths-and-cases-our-data-source\n",
    "GDP per capita: https://data.worldbank.org/indicator/NY.GDP.PCAP.PP.CD \n",
    "GDP per capita, PPP (current international $) | Data\n"
   ]
  }
 ],
 "metadata": {
  "kernelspec": {
   "display_name": "base",
   "language": "python",
   "name": "python3"
  },
  "language_info": {
   "codemirror_mode": {
    "name": "ipython",
    "version": 3
   },
   "file_extension": ".py",
   "mimetype": "text/x-python",
   "name": "python",
   "nbconvert_exporter": "python",
   "pygments_lexer": "ipython3",
   "version": "3.11.7"
  }
 },
 "nbformat": 4,
 "nbformat_minor": 2
}
