{
 "cells": [
  {
   "cell_type": "code",
   "execution_count": 1,
   "metadata": {},
   "outputs": [
    {
     "ename": "ModuleNotFoundError",
     "evalue": "No module named 'dash'",
     "output_type": "error",
     "traceback": [
      "\u001b[0;31m---------------------------------------------------------------------------\u001b[0m",
      "\u001b[0;31mModuleNotFoundError\u001b[0m                       Traceback (most recent call last)",
      "\u001b[0;32m/tmp/ipykernel_68927/3469966857.py\u001b[0m in \u001b[0;36m<module>\u001b[0;34m\u001b[0m\n\u001b[1;32m      1\u001b[0m \u001b[0;32mimport\u001b[0m \u001b[0mpandas\u001b[0m \u001b[0;32mas\u001b[0m \u001b[0mpd\u001b[0m\u001b[0;34m\u001b[0m\u001b[0;34m\u001b[0m\u001b[0m\n\u001b[1;32m      2\u001b[0m \u001b[0;32mimport\u001b[0m \u001b[0mplotly\u001b[0m\u001b[0;34m.\u001b[0m\u001b[0mexpress\u001b[0m \u001b[0;32mas\u001b[0m \u001b[0mpx\u001b[0m\u001b[0;34m\u001b[0m\u001b[0;34m\u001b[0m\u001b[0m\n\u001b[0;32m----> 3\u001b[0;31m \u001b[0;32mfrom\u001b[0m \u001b[0mdash\u001b[0m \u001b[0;32mimport\u001b[0m \u001b[0mdcc\u001b[0m\u001b[0;34m,\u001b[0m \u001b[0mhtml\u001b[0m\u001b[0;34m,\u001b[0m \u001b[0mInput\u001b[0m\u001b[0;34m,\u001b[0m \u001b[0mOutput\u001b[0m\u001b[0;34m\u001b[0m\u001b[0;34m\u001b[0m\u001b[0m\n\u001b[0m\u001b[1;32m      4\u001b[0m \u001b[0;32mfrom\u001b[0m \u001b[0mjupyter_dash\u001b[0m \u001b[0;32mimport\u001b[0m \u001b[0mJupyterDash\u001b[0m\u001b[0;34m\u001b[0m\u001b[0;34m\u001b[0m\u001b[0m\n\u001b[1;32m      5\u001b[0m \u001b[0;34m\u001b[0m\u001b[0m\n",
      "\u001b[0;31mModuleNotFoundError\u001b[0m: No module named 'dash'"
     ]
    }
   ],
   "source": [
    "import pandas as pd\n",
    "import plotly.express as px\n",
    "from dash import dcc, html, Input, Output\n",
    "from jupyter_dash import JupyterDash\n",
    "\n",
    "# Load your CSV file\n",
    "df = pd.read_csv('docs/owid-covid-data.csv')\n",
    "\n",
    "# Select relevant columns\n",
    "country_code_column = 'iso_code'\n",
    "gdp_per_capita_column = 'gdp_per_capita'\n",
    "vaccinations_column = 'total_vaccinations_per_hundred'\n",
    "\n",
    "# Extract relevant data\n",
    "data = df[[country_code_column, gdp_per_capita_column, vaccinations_column]].copy()\n",
    "\n",
    "# Ensure country codes are in uppercase (Plotly expects uppercase ISO codes)\n",
    "data['country_code'] = data[country_code_column].str.upper()\n",
    "\n",
    "# Drop rows where GDP per capita or vaccinations per hundred is NaN\n",
    "data.dropna(subset=[gdp_per_capita_column, vaccinations_column], inplace=True)\n",
    "\n",
    "# Define a custom color scale from light blue to deep blue\n",
    "custom_color_scale = [\n",
    "    [0, 'rgb(173, 216, 230)'],  # light blue\n",
    "    [1, 'rgb(0, 0, 139)']       # deep blue\n",
    "]\n",
    "\n",
    "# Initialize the Dash app\n",
    "app = JupyterDash(__name__)\n",
    "\n",
    "app.layout = html.Div([\n",
    "    dcc.Dropdown(\n",
    "        id='metric-dropdown',\n",
    "        options=[\n",
    "            {'label': 'GDP per Capita', 'value': gdp_per_capita_column},\n",
    "            {'label': 'Vaccinations per 100 Inhabitants', 'value': vaccinations_column}\n",
    "        ],\n",
    "        value=gdp_per_capita_column,\n",
    "        clearable=False\n",
    "    ),\n",
    "    dcc.Graph(id='choropleth-map')\n",
    "])\n",
    "\n",
    "@app.callback(\n",
    "    Output('choropleth-map', 'figure'),\n",
    "    Input('metric-dropdown', 'value')\n",
    ")\n",
    "def update_choropleth(selected_metric):\n",
    "    fig = px.choropleth(\n",
    "        data, \n",
    "        locations='country_code', \n",
    "        color=selected_metric,\n",
    "        hover_name='country_code',\n",
    "        hover_data={gdp_per_capita_column: True, vaccinations_column: True},\n",
    "        title=f'{selected_metric.replace(\"_\", \" \").title()} for 2021',\n",
    "        labels={selected_metric: selected_metric.replace(\"_\", \" \").title()},\n",
    "        color_continuous_scale=custom_color_scale,\n",
    "        range_color=(0, 60000) if selected_metric == gdp_per_capita_column else (0, 100)\n",
    "    )\n",
    "    return fig\n",
    "\n",
    "# Run the app in the notebook\n",
    "app.run_server(mode='inline')"
   ]
  }
 ],
 "metadata": {
  "kernelspec": {
   "display_name": "Python 3",
   "language": "python",
   "name": "python3"
  },
  "language_info": {
   "codemirror_mode": {
    "name": "ipython",
    "version": 3
   },
   "file_extension": ".py",
   "mimetype": "text/x-python",
   "name": "python",
   "nbconvert_exporter": "python",
   "pygments_lexer": "ipython3",
   "version": "3.10.12"
  }
 },
 "nbformat": 4,
 "nbformat_minor": 2
}