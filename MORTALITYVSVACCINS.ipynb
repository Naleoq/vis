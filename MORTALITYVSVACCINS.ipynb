{
 "cells": [
  {
   "cell_type": "code",
   "execution_count": 1,
   "metadata": {},
   "outputs": [
    {
     "name": "stderr",
     "output_type": "stream",
     "text": [
      "/var/folders/41/czx2hrt53jn1h0w1lqcg4f2m0000gp/T/ipykernel_23504/1206186691.py:15: FutureWarning: SeriesGroupBy.fillna is deprecated and will be removed in a future version. Use obj.ffill() or obj.bfill() for forward or backward filling instead. If you want to fill with a single value, use Series.fillna instead\n",
      "  return df.groupby('location')[col].fillna(method='ffill')\n",
      "/var/folders/41/czx2hrt53jn1h0w1lqcg4f2m0000gp/T/ipykernel_23504/1206186691.py:15: FutureWarning: Series.fillna with 'method' is deprecated and will raise in a future version. Use obj.ffill() or obj.bfill() instead.\n",
      "  return df.groupby('location')[col].fillna(method='ffill')\n",
      "/var/folders/41/czx2hrt53jn1h0w1lqcg4f2m0000gp/T/ipykernel_23504/1206186691.py:18: SettingWithCopyWarning: \n",
      "A value is trying to be set on a copy of a slice from a DataFrame.\n",
      "Try using .loc[row_indexer,col_indexer] = value instead\n",
      "\n",
      "See the caveats in the documentation: https://pandas.pydata.org/pandas-docs/stable/user_guide/indexing.html#returning-a-view-versus-a-copy\n",
      "  df_2021['excess_mortality_cumulative_per_million'] = fill_last_available(df_2021, 'excess_mortality_cumulative_per_million')\n",
      "/var/folders/41/czx2hrt53jn1h0w1lqcg4f2m0000gp/T/ipykernel_23504/1206186691.py:15: FutureWarning: SeriesGroupBy.fillna is deprecated and will be removed in a future version. Use obj.ffill() or obj.bfill() for forward or backward filling instead. If you want to fill with a single value, use Series.fillna instead\n",
      "  return df.groupby('location')[col].fillna(method='ffill')\n",
      "/var/folders/41/czx2hrt53jn1h0w1lqcg4f2m0000gp/T/ipykernel_23504/1206186691.py:15: FutureWarning: Series.fillna with 'method' is deprecated and will raise in a future version. Use obj.ffill() or obj.bfill() instead.\n",
      "  return df.groupby('location')[col].fillna(method='ffill')\n",
      "/var/folders/41/czx2hrt53jn1h0w1lqcg4f2m0000gp/T/ipykernel_23504/1206186691.py:19: SettingWithCopyWarning: \n",
      "A value is trying to be set on a copy of a slice from a DataFrame.\n",
      "Try using .loc[row_indexer,col_indexer] = value instead\n",
      "\n",
      "See the caveats in the documentation: https://pandas.pydata.org/pandas-docs/stable/user_guide/indexing.html#returning-a-view-versus-a-copy\n",
      "  df_2021['total_vaccinations_per_hundred'] = fill_last_available(df_2021, 'total_vaccinations_per_hundred')\n"
     ]
    },
    {
     "data": {
      "application/vnd.plotly.v1+json": {
       "config": {
        "plotlyServerURL": "https://plot.ly"
       },
       "data": [
        {
         "hovertemplate": "<b>%{hovertext}</b><br><br>Total vaccinations per hundred inhabitants=%{x}<br>Excess mortality cumulative per million inhabitants=%{y}<extra></extra>",
         "hovertext": [
          "Afghanistan",
          "Africa",
          "Albania",
          "Algeria",
          "American Samoa",
          "Andorra",
          "Angola",
          "Anguilla",
          "Antigua and Barbuda",
          "Argentina",
          "Armenia",
          "Aruba",
          "Asia",
          "Australia",
          "Austria",
          "Azerbaijan",
          "Bahamas",
          "Bahrain",
          "Bangladesh",
          "Barbados",
          "Belarus",
          "Belgium",
          "Belize",
          "Benin",
          "Bermuda",
          "Bhutan",
          "Bolivia",
          "Bonaire Sint Eustatius and Saba",
          "Bosnia and Herzegovina",
          "Botswana",
          "Brazil",
          "British Virgin Islands",
          "Brunei",
          "Bulgaria",
          "Burkina Faso",
          "Burundi",
          "Cambodia",
          "Cameroon",
          "Canada",
          "Cape Verde",
          "Cayman Islands",
          "Central African Republic",
          "Chad",
          "Chile",
          "China",
          "Colombia",
          "Comoros",
          "Congo",
          "Cook Islands",
          "Costa Rica",
          "Cote d'Ivoire",
          "Croatia",
          "Cuba",
          "Curacao",
          "Cyprus",
          "Czechia",
          "Democratic Republic of Congo",
          "Denmark",
          "Djibouti",
          "Dominica",
          "Dominican Republic",
          "Ecuador",
          "Egypt",
          "El Salvador",
          "England",
          "Equatorial Guinea",
          "Eritrea",
          "Estonia",
          "Eswatini",
          "Ethiopia",
          "Europe",
          "European Union",
          "Faeroe Islands",
          "Falkland Islands",
          "Fiji",
          "Finland",
          "France",
          "French Guiana",
          "French Polynesia",
          "Gabon",
          "Gambia",
          "Georgia",
          "Germany",
          "Ghana",
          "Gibraltar",
          "Greece",
          "Greenland",
          "Grenada",
          "Guadeloupe",
          "Guam",
          "Guatemala",
          "Guernsey",
          "Guinea",
          "Guinea-Bissau",
          "Guyana",
          "Haiti",
          "High income",
          "Honduras",
          "Hong Kong",
          "Hungary",
          "Iceland",
          "India",
          "Indonesia",
          "Iran",
          "Iraq",
          "Ireland",
          "Isle of Man",
          "Israel",
          "Italy",
          "Jamaica",
          "Japan",
          "Jersey",
          "Jordan",
          "Kazakhstan",
          "Kenya",
          "Kiribati",
          "Kosovo",
          "Kuwait",
          "Kyrgyzstan",
          "Laos",
          "Latvia",
          "Lebanon",
          "Lesotho",
          "Liberia",
          "Libya",
          "Liechtenstein",
          "Lithuania",
          "Low income",
          "Lower middle income",
          "Luxembourg",
          "Macao",
          "Madagascar",
          "Malawi",
          "Malaysia",
          "Maldives",
          "Mali",
          "Malta",
          "Marshall Islands",
          "Martinique",
          "Mauritania",
          "Mauritius",
          "Mayotte",
          "Mexico",
          "Micronesia (country)",
          "Moldova",
          "Monaco",
          "Mongolia",
          "Montenegro",
          "Montserrat",
          "Morocco",
          "Mozambique",
          "Myanmar",
          "Namibia",
          "Nauru",
          "Nepal",
          "Netherlands",
          "New Caledonia",
          "New Zealand",
          "Nicaragua",
          "Niger",
          "Nigeria",
          "Niue",
          "North America",
          "North Korea",
          "North Macedonia",
          "Northern Cyprus",
          "Northern Ireland",
          "Northern Mariana Islands",
          "Norway",
          "Oceania",
          "Oman",
          "Pakistan",
          "Palau",
          "Palestine",
          "Panama",
          "Papua New Guinea",
          "Paraguay",
          "Peru",
          "Philippines",
          "Pitcairn",
          "Poland",
          "Portugal",
          "Puerto Rico",
          "Qatar",
          "Reunion",
          "Romania",
          "Russia",
          "Rwanda",
          "Saint Barthelemy",
          "Saint Helena",
          "Saint Kitts and Nevis",
          "Saint Lucia",
          "Saint Martin (French part)",
          "Saint Pierre and Miquelon",
          "Saint Vincent and the Grenadines",
          "Samoa",
          "San Marino",
          "Sao Tome and Principe",
          "Saudi Arabia",
          "Scotland",
          "Senegal",
          "Serbia",
          "Seychelles",
          "Sierra Leone",
          "Singapore",
          "Sint Maarten (Dutch part)",
          "Slovakia",
          "Slovenia",
          "Solomon Islands",
          "Somalia",
          "South Africa",
          "South America",
          "South Korea",
          "South Sudan",
          "Spain",
          "Sri Lanka",
          "Sudan",
          "Suriname",
          "Sweden",
          "Switzerland",
          "Syria",
          "Taiwan",
          "Tajikistan",
          "Tanzania",
          "Thailand",
          "Timor",
          "Togo",
          "Tokelau",
          "Tonga",
          "Trinidad and Tobago",
          "Tunisia",
          "Turkey",
          "Turkmenistan",
          "Turks and Caicos Islands",
          "Tuvalu",
          "Uganda",
          "Ukraine",
          "United Arab Emirates",
          "United Kingdom",
          "United States",
          "United States Virgin Islands",
          "Upper middle income",
          "Uruguay",
          "Uzbekistan",
          "Vanuatu",
          "Vatican",
          "Venezuela",
          "Vietnam",
          "Wales",
          "Wallis and Futuna",
          "World",
          "Yemen",
          "Zambia",
          "Zimbabwe"
         ],
         "legendgroup": "",
         "line": {
          "color": "darkblue",
          "width": 2
         },
         "marker": {
          "color": "#636efa",
          "opacity": 0.7,
          "symbol": "circle"
         },
         "mode": "markers",
         "name": "",
         "orientation": "v",
         "showlegend": false,
         "type": "scatter",
         "x": [
          11.37,
          21.27,
          81.5,
          27.94,
          null,
          146.85,
          32.64,
          127.76,
          129.19,
          172.06,
          58.51,
          153.82,
          131.73,
          162.66,
          186.56,
          109.54,
          73.22,
          219.14,
          62.26,
          106.38,
          80.84,
          186.43,
          104.77,
          13.28,
          175.52,
          147.59,
          80.11,
          132.5,
          48.06,
          42.89,
          153.86,
          114.26,
          200.09,
          54.57,
          4.65,
          0.06,
          181.64,
          3.65,
          179.01,
          96.29,
          190.05,
          7.83,
          1.61,
          226.05,
          198.85,
          124.71,
          69.5,
          12.71,
          148.77,
          149.71,
          25.26,
          117.35,
          275.36,
          113.56,
          172,
          147.7,
          0.34,
          202.01,
          5.77,
          78.4,
          125.45,
          153.14,
          47.59,
          151.83,
          197.91,
          27.03,
          null,
          136.41,
          33.25,
          8.85,
          148.62,
          166.13,
          181.18,
          115.94,
          136.28,
          173.57,
          183.22,
          null,
          107.44,
          16.45,
          10.89,
          67.11,
          184.68,
          23.17,
          331.5,
          168.22,
          138.95,
          62.55,
          null,
          null,
          63.39,
          167.55,
          21.3,
          19.66,
          88.5,
          1.7,
          166.51,
          91.91,
          132.54,
          151.24,
          192.26,
          102.24,
          99.73,
          131.24,
          31.78,
          196.29,
          210.35,
          177.65,
          188.69,
          42.75,
          162.94,
          189.48,
          73.24,
          90.22,
          18.51,
          62.61,
          93.91,
          162.63,
          34.01,
          77.43,
          138.09,
          79.78,
          37.21,
          16.6,
          39.34,
          160.12,
          150.25,
          10.34,
          82.03,
          166.23,
          139.91,
          2.51,
          8.83,
          170.45,
          150.85,
          4.68,
          201.07,
          null,
          null,
          40.9,
          156.75,
          null,
          116.71,
          null,
          54.28,
          178.51,
          157.15,
          101.19,
          68.43,
          134.19,
          44.64,
          58.8,
          24.55,
          117.11,
          71.98,
          159.45,
          122.68,
          157.86,
          112.04,
          3.71,
          6.79,
          134.63,
          140.24,
          null,
          83.83,
          161.27,
          185.67,
          null,
          180.14,
          120.24,
          133.69,
          66.41,
          null,
          64.44,
          140.49,
          4.97,
          100.78,
          150.06,
          93.92,
          200,
          117.89,
          195.15,
          null,
          193.15,
          null,
          80.5,
          101.14,
          91.38,
          null,
          146.12,
          115.07,
          58.37,
          null,
          null,
          58.87,
          118.35,
          160.11,
          60.52,
          139.79,
          208.43,
          10.99,
          119.91,
          171.25,
          10.09,
          209.25,
          118.36,
          88.61,
          130.29,
          32.57,
          8.55,
          46.59,
          149.29,
          200.63,
          2.46,
          175.64,
          155.01,
          6.99,
          79.25,
          167,
          158.42,
          7.93,
          145.95,
          66.37,
          3.71,
          146.67,
          89.17,
          27.28,
          102.27,
          121.87,
          91.99,
          98.39,
          154.26,
          0.8,
          123.22,
          106.87,
          20.66,
          71.68,
          237.33,
          197.47,
          157.16,
          null,
          166.45,
          204.17,
          112.73,
          46.74,
          null,
          106.18,
          153.72,
          204.51,
          102.96,
          115.09,
          1.62,
          8.64,
          44.51
         ],
         "xaxis": "x",
         "y": [
          null,
          null,
          5133.621,
          null,
          null,
          1773.4042,
          null,
          null,
          -654.30286,
          2887.6165,
          7123.4707,
          3305.7078,
          null,
          25.361595,
          1624.463,
          3567.9844,
          2630.418,
          null,
          null,
          -345.65652,
          3259.745,
          1740.7869,
          1351.3751,
          null,
          2743.993,
          -184.9518,
          4841.585,
          null,
          5846.379,
          null,
          3109.5383,
          null,
          89.361496,
          8238.763,
          null,
          null,
          null,
          null,
          647.67896,
          969.1532,
          null,
          null,
          null,
          1948.0808,
          null,
          3181.784,
          null,
          null,
          null,
          1156.1598,
          null,
          4073.8508,
          4765.7983,
          null,
          973.48236,
          3913.8223,
          null,
          136.87498,
          null,
          null,
          709.27246,
          3903.8044,
          2615.2344,
          null,
          null,
          null,
          null,
          2224.8745,
          null,
          null,
          null,
          null,
          null,
          null,
          2112.3389,
          513.8926,
          1214.0934,
          723.45374,
          1796.4862,
          null,
          null,
          5456.1704,
          1059.7295,
          null,
          599.4251,
          2277.9568,
          -1030.8179,
          null,
          2892.008,
          null,
          2470.815,
          null,
          null,
          null,
          null,
          null,
          null,
          null,
          427.77582,
          3645.2202,
          131.77153,
          null,
          null,
          2862.206,
          null,
          887.37134,
          null,
          808.1858,
          2820.8127,
          1801.8877,
          -105.506226,
          null,
          1349.3013,
          4203.1904,
          null,
          null,
          3848.5652,
          1548.0538,
          2226.1907,
          null,
          3835.3708,
          2354.636,
          null,
          null,
          null,
          1269.9062,
          5940.0317,
          null,
          null,
          57.091022,
          -6.9908032,
          null,
          null,
          782.71576,
          1109.1741,
          null,
          981.67834,
          null,
          2570.7769,
          null,
          845.0085,
          1294.8468,
          5099.9043,
          null,
          5128.843,
          4385.368,
          216.20276,
          4750.929,
          null,
          null,
          null,
          null,
          1225.8562,
          null,
          null,
          1624.4943,
          713.6677,
          -534.6675,
          2620.1414,
          null,
          null,
          null,
          null,
          null,
          6749.3965,
          null,
          null,
          null,
          217.26732,
          null,
          990.4271,
          null,
          null,
          922.9374,
          1724.4183,
          null,
          3308.9583,
          5476.6445,
          2023.2168,
          null,
          4015.026,
          2022.1362,
          1430.0541,
          342.45465,
          292.40308,
          5501.802,
          7421.1763,
          null,
          null,
          null,
          2204.4468,
          null,
          null,
          null,
          1232.5092,
          null,
          3961.862,
          null,
          null,
          null,
          null,
          6954.501,
          -1034.8779,
          null,
          309.37225,
          null,
          4486.1597,
          2374.3423,
          null,
          null,
          4027.1887,
          null,
          146.87982,
          null,
          2034.0842,
          null,
          null,
          2585.3645,
          935.4553,
          1327.0807,
          null,
          -143.52113,
          1681.3813,
          null,
          881.55066,
          null,
          null,
          null,
          null,
          null,
          2436.4612,
          2144.7422,
          null,
          null,
          null,
          null,
          4109.5923,
          386.49686,
          2028.0187,
          2833.2693,
          null,
          null,
          1048.4886,
          1048.3533,
          null,
          null,
          null,
          null,
          null,
          null,
          null,
          null,
          null,
          null
         ],
         "yaxis": "y"
        },
        {
         "hovertemplate": "<b>OLS trendline</b><br>excess_mortality_cumulative_per_million = -15.7125 * total_vaccinations_per_hundred + 4410.78<br>R<sup>2</sup>=0.174551<br><br>Total vaccinations per hundred inhabitants=%{x}<br>Excess mortality cumulative per million inhabitants=%{y} <b>(trend)</b><extra></extra>",
         "legendgroup": "",
         "line": {
          "color": "darkblue",
          "width": 2
         },
         "marker": {
          "color": "#636efa",
          "symbol": "circle"
         },
         "mode": "lines",
         "name": "",
         "showlegend": false,
         "type": "scatter",
         "x": [
          24.55,
          34.01,
          42.75,
          46.59,
          47.59,
          48.06,
          54.28,
          54.57,
          58.51,
          58.87,
          63.39,
          64.44,
          66.37,
          67.11,
          71.68,
          73.22,
          73.24,
          79.25,
          79.78,
          80.11,
          80.5,
          80.84,
          81.5,
          83.83,
          88.61,
          90.22,
          93.91,
          93.92,
          96.29,
          98.39,
          100.78,
          101.14,
          101.19,
          104.77,
          106.38,
          107.44,
          109.54,
          112.04,
          112.73,
          115.07,
          116.71,
          117.35,
          117.89,
          119.91,
          122.68,
          124.71,
          125.45,
          129.19,
          130.29,
          131.24,
          132.54,
          133.69,
          136.28,
          136.41,
          138.09,
          138.95,
          139.91,
          140.49,
          145.95,
          146.67,
          146.85,
          147.59,
          147.7,
          149.71,
          150.06,
          150.25,
          150.85,
          151.24,
          153.14,
          153.82,
          153.86,
          154.26,
          156.75,
          157.15,
          157.16,
          157.86,
          158.42,
          159.45,
          160.11,
          160.12,
          162.63,
          162.66,
          162.94,
          166.23,
          167,
          168.22,
          170.45,
          171.25,
          172,
          172.06,
          173.57,
          175.52,
          175.64,
          177.65,
          178.51,
          179.01,
          180.14,
          183.22,
          184.68,
          186.43,
          186.56,
          188.69,
          192.26,
          193.15,
          195.15,
          196.29,
          197.47,
          200.09,
          200.63,
          201.07,
          202.01,
          204.17,
          209.25,
          226.05,
          237.33,
          275.36,
          331.5
         ],
         "xaxis": "x",
         "y": [
          4025.040874839183,
          3876.4007808373976,
          3739.073674962598,
          3678.7377382853406,
          3663.025254775638,
          3655.640387526078,
          3557.9087400957287,
          3553.352119877915,
          3491.4449348496873,
          3485.7884407861943,
          3414.768015322339,
          3398.269907637152,
          3367.944814463426,
          3356.317576666246,
          3284.511527026906,
          3260.3143024219644,
          3260.0000527517705,
          3165.5680268584583,
          3157.240410598316,
          3152.0552910401143,
          3145.9274224713304,
          3140.5851780780313,
          3130.214938961628,
          3093.604852384021,
          3018.4991812076432,
          2993.2020827570223,
          2935.2230186062206,
          2935.0658937711232,
          2897.8273078531283,
          2864.8310924827533,
          2827.2782568945645,
          2821.6217628310715,
          2820.8361386555866,
          2764.5854476908517,
          2739.2883492402307,
          2722.633116719946,
          2689.636901349571,
          2650.3556925753146,
          2639.51407895362,
          2602.7468675409164,
          2576.9783945850045,
          2566.9224051387946,
          2558.4376640435557,
          2526.698447353957,
          2483.1748680320807,
          2451.278526507385,
          2439.651288710205,
          2380.8866003839175,
          2363.602868523245,
          2348.676009189028,
          2328.2497806264146,
          2310.1804245902567,
          2269.4850923001272,
          2267.4424694438662,
          2241.045497147566,
          2227.532761329222,
          2212.4487771599074,
          2203.33553672428,
          2117.545376761305,
          2106.2323886343192,
          2103.4041416025725,
          2091.7769038053925,
          2090.0485306193254,
          2058.466438764823,
          2052.9670695364275,
          2049.9816976695843,
          2040.5542075637627,
          2034.4263389949783,
          2004.572620326544,
          1993.8881315399462,
          1993.259632199558,
          1986.9746387956775,
          1947.850554856518,
          1941.5655614526372,
          1941.4084366175402,
          1930.4096981607481,
          1921.6107073953153,
          1905.4268493803215,
          1895.0566102639177,
          1894.8994854288208,
          1855.461151819468,
          1854.9897773141765,
          1850.5902819314601,
          1798.896211184539,
          1786.797598882068,
          1767.628369000231,
          1732.5895307735946,
          1720.0195439658323,
          1708.2351813335558,
          1707.2924323229736,
          1683.5665822233227,
          1652.927239379403,
          1651.041741358239,
          1619.4596495037367,
          1605.9469136853927,
          1598.0906719305417,
          1580.3355655645778,
          1531.9411163546943,
          1509.0008904305282,
          1481.5040442885493,
          1479.4614214322878,
          1445.993831556622,
          1389.9002654269839,
          1375.9161551033485,
          1344.4911880839436,
          1326.5789568828832,
          1308.038226341434,
          1266.8715195460136,
          1258.3867784507743,
          1251.4732857065055,
          1236.7035512073853,
          1202.764586826428,
          1122.9451705971392,
          858.9754476341377,
          681.7386336446939,
          84.19288577070984,
          -797.9059384639859
         ],
         "yaxis": "y"
        }
       ],
       "layout": {
        "legend": {
         "tracegroupgap": 0
        },
        "template": {
         "data": {
          "bar": [
           {
            "error_x": {
             "color": "#2a3f5f"
            },
            "error_y": {
             "color": "#2a3f5f"
            },
            "marker": {
             "line": {
              "color": "#E5ECF6",
              "width": 0.5
             },
             "pattern": {
              "fillmode": "overlay",
              "size": 10,
              "solidity": 0.2
             }
            },
            "type": "bar"
           }
          ],
          "barpolar": [
           {
            "marker": {
             "line": {
              "color": "#E5ECF6",
              "width": 0.5
             },
             "pattern": {
              "fillmode": "overlay",
              "size": 10,
              "solidity": 0.2
             }
            },
            "type": "barpolar"
           }
          ],
          "carpet": [
           {
            "aaxis": {
             "endlinecolor": "#2a3f5f",
             "gridcolor": "white",
             "linecolor": "white",
             "minorgridcolor": "white",
             "startlinecolor": "#2a3f5f"
            },
            "baxis": {
             "endlinecolor": "#2a3f5f",
             "gridcolor": "white",
             "linecolor": "white",
             "minorgridcolor": "white",
             "startlinecolor": "#2a3f5f"
            },
            "type": "carpet"
           }
          ],
          "choropleth": [
           {
            "colorbar": {
             "outlinewidth": 0,
             "ticks": ""
            },
            "type": "choropleth"
           }
          ],
          "contour": [
           {
            "colorbar": {
             "outlinewidth": 0,
             "ticks": ""
            },
            "colorscale": [
             [
              0,
              "#0d0887"
             ],
             [
              0.1111111111111111,
              "#46039f"
             ],
             [
              0.2222222222222222,
              "#7201a8"
             ],
             [
              0.3333333333333333,
              "#9c179e"
             ],
             [
              0.4444444444444444,
              "#bd3786"
             ],
             [
              0.5555555555555556,
              "#d8576b"
             ],
             [
              0.6666666666666666,
              "#ed7953"
             ],
             [
              0.7777777777777778,
              "#fb9f3a"
             ],
             [
              0.8888888888888888,
              "#fdca26"
             ],
             [
              1,
              "#f0f921"
             ]
            ],
            "type": "contour"
           }
          ],
          "contourcarpet": [
           {
            "colorbar": {
             "outlinewidth": 0,
             "ticks": ""
            },
            "type": "contourcarpet"
           }
          ],
          "heatmap": [
           {
            "colorbar": {
             "outlinewidth": 0,
             "ticks": ""
            },
            "colorscale": [
             [
              0,
              "#0d0887"
             ],
             [
              0.1111111111111111,
              "#46039f"
             ],
             [
              0.2222222222222222,
              "#7201a8"
             ],
             [
              0.3333333333333333,
              "#9c179e"
             ],
             [
              0.4444444444444444,
              "#bd3786"
             ],
             [
              0.5555555555555556,
              "#d8576b"
             ],
             [
              0.6666666666666666,
              "#ed7953"
             ],
             [
              0.7777777777777778,
              "#fb9f3a"
             ],
             [
              0.8888888888888888,
              "#fdca26"
             ],
             [
              1,
              "#f0f921"
             ]
            ],
            "type": "heatmap"
           }
          ],
          "heatmapgl": [
           {
            "colorbar": {
             "outlinewidth": 0,
             "ticks": ""
            },
            "colorscale": [
             [
              0,
              "#0d0887"
             ],
             [
              0.1111111111111111,
              "#46039f"
             ],
             [
              0.2222222222222222,
              "#7201a8"
             ],
             [
              0.3333333333333333,
              "#9c179e"
             ],
             [
              0.4444444444444444,
              "#bd3786"
             ],
             [
              0.5555555555555556,
              "#d8576b"
             ],
             [
              0.6666666666666666,
              "#ed7953"
             ],
             [
              0.7777777777777778,
              "#fb9f3a"
             ],
             [
              0.8888888888888888,
              "#fdca26"
             ],
             [
              1,
              "#f0f921"
             ]
            ],
            "type": "heatmapgl"
           }
          ],
          "histogram": [
           {
            "marker": {
             "pattern": {
              "fillmode": "overlay",
              "size": 10,
              "solidity": 0.2
             }
            },
            "type": "histogram"
           }
          ],
          "histogram2d": [
           {
            "colorbar": {
             "outlinewidth": 0,
             "ticks": ""
            },
            "colorscale": [
             [
              0,
              "#0d0887"
             ],
             [
              0.1111111111111111,
              "#46039f"
             ],
             [
              0.2222222222222222,
              "#7201a8"
             ],
             [
              0.3333333333333333,
              "#9c179e"
             ],
             [
              0.4444444444444444,
              "#bd3786"
             ],
             [
              0.5555555555555556,
              "#d8576b"
             ],
             [
              0.6666666666666666,
              "#ed7953"
             ],
             [
              0.7777777777777778,
              "#fb9f3a"
             ],
             [
              0.8888888888888888,
              "#fdca26"
             ],
             [
              1,
              "#f0f921"
             ]
            ],
            "type": "histogram2d"
           }
          ],
          "histogram2dcontour": [
           {
            "colorbar": {
             "outlinewidth": 0,
             "ticks": ""
            },
            "colorscale": [
             [
              0,
              "#0d0887"
             ],
             [
              0.1111111111111111,
              "#46039f"
             ],
             [
              0.2222222222222222,
              "#7201a8"
             ],
             [
              0.3333333333333333,
              "#9c179e"
             ],
             [
              0.4444444444444444,
              "#bd3786"
             ],
             [
              0.5555555555555556,
              "#d8576b"
             ],
             [
              0.6666666666666666,
              "#ed7953"
             ],
             [
              0.7777777777777778,
              "#fb9f3a"
             ],
             [
              0.8888888888888888,
              "#fdca26"
             ],
             [
              1,
              "#f0f921"
             ]
            ],
            "type": "histogram2dcontour"
           }
          ],
          "mesh3d": [
           {
            "colorbar": {
             "outlinewidth": 0,
             "ticks": ""
            },
            "type": "mesh3d"
           }
          ],
          "parcoords": [
           {
            "line": {
             "colorbar": {
              "outlinewidth": 0,
              "ticks": ""
             }
            },
            "type": "parcoords"
           }
          ],
          "pie": [
           {
            "automargin": true,
            "type": "pie"
           }
          ],
          "scatter": [
           {
            "fillpattern": {
             "fillmode": "overlay",
             "size": 10,
             "solidity": 0.2
            },
            "type": "scatter"
           }
          ],
          "scatter3d": [
           {
            "line": {
             "colorbar": {
              "outlinewidth": 0,
              "ticks": ""
             }
            },
            "marker": {
             "colorbar": {
              "outlinewidth": 0,
              "ticks": ""
             }
            },
            "type": "scatter3d"
           }
          ],
          "scattercarpet": [
           {
            "marker": {
             "colorbar": {
              "outlinewidth": 0,
              "ticks": ""
             }
            },
            "type": "scattercarpet"
           }
          ],
          "scattergeo": [
           {
            "marker": {
             "colorbar": {
              "outlinewidth": 0,
              "ticks": ""
             }
            },
            "type": "scattergeo"
           }
          ],
          "scattergl": [
           {
            "marker": {
             "colorbar": {
              "outlinewidth": 0,
              "ticks": ""
             }
            },
            "type": "scattergl"
           }
          ],
          "scattermapbox": [
           {
            "marker": {
             "colorbar": {
              "outlinewidth": 0,
              "ticks": ""
             }
            },
            "type": "scattermapbox"
           }
          ],
          "scatterpolar": [
           {
            "marker": {
             "colorbar": {
              "outlinewidth": 0,
              "ticks": ""
             }
            },
            "type": "scatterpolar"
           }
          ],
          "scatterpolargl": [
           {
            "marker": {
             "colorbar": {
              "outlinewidth": 0,
              "ticks": ""
             }
            },
            "type": "scatterpolargl"
           }
          ],
          "scatterternary": [
           {
            "marker": {
             "colorbar": {
              "outlinewidth": 0,
              "ticks": ""
             }
            },
            "type": "scatterternary"
           }
          ],
          "surface": [
           {
            "colorbar": {
             "outlinewidth": 0,
             "ticks": ""
            },
            "colorscale": [
             [
              0,
              "#0d0887"
             ],
             [
              0.1111111111111111,
              "#46039f"
             ],
             [
              0.2222222222222222,
              "#7201a8"
             ],
             [
              0.3333333333333333,
              "#9c179e"
             ],
             [
              0.4444444444444444,
              "#bd3786"
             ],
             [
              0.5555555555555556,
              "#d8576b"
             ],
             [
              0.6666666666666666,
              "#ed7953"
             ],
             [
              0.7777777777777778,
              "#fb9f3a"
             ],
             [
              0.8888888888888888,
              "#fdca26"
             ],
             [
              1,
              "#f0f921"
             ]
            ],
            "type": "surface"
           }
          ],
          "table": [
           {
            "cells": {
             "fill": {
              "color": "#EBF0F8"
             },
             "line": {
              "color": "white"
             }
            },
            "header": {
             "fill": {
              "color": "#C8D4E3"
             },
             "line": {
              "color": "white"
             }
            },
            "type": "table"
           }
          ]
         },
         "layout": {
          "annotationdefaults": {
           "arrowcolor": "#2a3f5f",
           "arrowhead": 0,
           "arrowwidth": 1
          },
          "autotypenumbers": "strict",
          "coloraxis": {
           "colorbar": {
            "outlinewidth": 0,
            "ticks": ""
           }
          },
          "colorscale": {
           "diverging": [
            [
             0,
             "#8e0152"
            ],
            [
             0.1,
             "#c51b7d"
            ],
            [
             0.2,
             "#de77ae"
            ],
            [
             0.3,
             "#f1b6da"
            ],
            [
             0.4,
             "#fde0ef"
            ],
            [
             0.5,
             "#f7f7f7"
            ],
            [
             0.6,
             "#e6f5d0"
            ],
            [
             0.7,
             "#b8e186"
            ],
            [
             0.8,
             "#7fbc41"
            ],
            [
             0.9,
             "#4d9221"
            ],
            [
             1,
             "#276419"
            ]
           ],
           "sequential": [
            [
             0,
             "#0d0887"
            ],
            [
             0.1111111111111111,
             "#46039f"
            ],
            [
             0.2222222222222222,
             "#7201a8"
            ],
            [
             0.3333333333333333,
             "#9c179e"
            ],
            [
             0.4444444444444444,
             "#bd3786"
            ],
            [
             0.5555555555555556,
             "#d8576b"
            ],
            [
             0.6666666666666666,
             "#ed7953"
            ],
            [
             0.7777777777777778,
             "#fb9f3a"
            ],
            [
             0.8888888888888888,
             "#fdca26"
            ],
            [
             1,
             "#f0f921"
            ]
           ],
           "sequentialminus": [
            [
             0,
             "#0d0887"
            ],
            [
             0.1111111111111111,
             "#46039f"
            ],
            [
             0.2222222222222222,
             "#7201a8"
            ],
            [
             0.3333333333333333,
             "#9c179e"
            ],
            [
             0.4444444444444444,
             "#bd3786"
            ],
            [
             0.5555555555555556,
             "#d8576b"
            ],
            [
             0.6666666666666666,
             "#ed7953"
            ],
            [
             0.7777777777777778,
             "#fb9f3a"
            ],
            [
             0.8888888888888888,
             "#fdca26"
            ],
            [
             1,
             "#f0f921"
            ]
           ]
          },
          "colorway": [
           "#636efa",
           "#EF553B",
           "#00cc96",
           "#ab63fa",
           "#FFA15A",
           "#19d3f3",
           "#FF6692",
           "#B6E880",
           "#FF97FF",
           "#FECB52"
          ],
          "font": {
           "color": "#2a3f5f"
          },
          "geo": {
           "bgcolor": "white",
           "lakecolor": "white",
           "landcolor": "#E5ECF6",
           "showlakes": true,
           "showland": true,
           "subunitcolor": "white"
          },
          "hoverlabel": {
           "align": "left"
          },
          "hovermode": "closest",
          "mapbox": {
           "style": "light"
          },
          "paper_bgcolor": "white",
          "plot_bgcolor": "#E5ECF6",
          "polar": {
           "angularaxis": {
            "gridcolor": "white",
            "linecolor": "white",
            "ticks": ""
           },
           "bgcolor": "#E5ECF6",
           "radialaxis": {
            "gridcolor": "white",
            "linecolor": "white",
            "ticks": ""
           }
          },
          "scene": {
           "xaxis": {
            "backgroundcolor": "#E5ECF6",
            "gridcolor": "white",
            "gridwidth": 2,
            "linecolor": "white",
            "showbackground": true,
            "ticks": "",
            "zerolinecolor": "white"
           },
           "yaxis": {
            "backgroundcolor": "#E5ECF6",
            "gridcolor": "white",
            "gridwidth": 2,
            "linecolor": "white",
            "showbackground": true,
            "ticks": "",
            "zerolinecolor": "white"
           },
           "zaxis": {
            "backgroundcolor": "#E5ECF6",
            "gridcolor": "white",
            "gridwidth": 2,
            "linecolor": "white",
            "showbackground": true,
            "ticks": "",
            "zerolinecolor": "white"
           }
          },
          "shapedefaults": {
           "line": {
            "color": "#2a3f5f"
           }
          },
          "ternary": {
           "aaxis": {
            "gridcolor": "white",
            "linecolor": "white",
            "ticks": ""
           },
           "baxis": {
            "gridcolor": "white",
            "linecolor": "white",
            "ticks": ""
           },
           "bgcolor": "#E5ECF6",
           "caxis": {
            "gridcolor": "white",
            "linecolor": "white",
            "ticks": ""
           }
          },
          "title": {
           "x": 0.05
          },
          "xaxis": {
           "automargin": true,
           "gridcolor": "white",
           "linecolor": "white",
           "ticks": "",
           "title": {
            "standoff": 15
           },
           "zerolinecolor": "white",
           "zerolinewidth": 2
          },
          "yaxis": {
           "automargin": true,
           "gridcolor": "white",
           "linecolor": "white",
           "ticks": "",
           "title": {
            "standoff": 15
           },
           "zerolinecolor": "white",
           "zerolinewidth": 2
          }
         }
        },
        "title": {
         "text": "Excess mortality per million inhabitants vs. Total vaccinations per hundred inhabitants, per country for 2021"
        },
        "xaxis": {
         "anchor": "y",
         "domain": [
          0,
          1
         ],
         "title": {
          "text": "Total vaccinations per hundred inhabitants"
         }
        },
        "yaxis": {
         "anchor": "x",
         "domain": [
          0,
          1
         ],
         "title": {
          "text": "Excess mortality cumulative per million inhabitants"
         }
        }
       }
      }
     },
     "metadata": {},
     "output_type": "display_data"
    }
   ],
   "source": [
    "import pandas as pd\n",
    "import plotly.express as px\n",
    "\n",
    "# Load the CSV file\n",
    "df = pd.read_csv('docs/owid-covid-data.csv')\n",
    "\n",
    "# Convert the date column to datetime\n",
    "df['date'] = pd.to_datetime(df['date'])\n",
    "\n",
    "# Filter the data for the year 2021\n",
    "df_2021 = df[df['date'].dt.year == 2021]\n",
    "\n",
    "# Function to fill NaN values with the last available non-NaN value per country\n",
    "def fill_last_available(df, col):\n",
    "    return df.groupby('location')[col].fillna(method='ffill')\n",
    "\n",
    "# Fill NaN values for the relevant columns\n",
    "df_2021['excess_mortality_cumulative_per_million'] = fill_last_available(df_2021, 'excess_mortality_cumulative_per_million')\n",
    "df_2021['total_vaccinations_per_hundred'] = fill_last_available(df_2021, 'total_vaccinations_per_hundred')\n",
    "\n",
    "# Extract the last available data for each country\n",
    "df_last_2021 = df_2021.groupby('location').last().reset_index()\n",
    "\n",
    "# Plotting with Plotly\n",
    "fig = px.scatter(df_last_2021, x='total_vaccinations_per_hundred', y='excess_mortality_cumulative_per_million', \n",
    "                 trendline='ols', trendline_color_override='darkblue',\n",
    "                 title='Excess mortality per million inhabitants vs. Total vaccinations per hundred inhabitants, per country for 2021',\n",
    "                 labels={'total_vaccinations_per_hundred': 'Total vaccinations per hundred inhabitants',\n",
    "                         'excess_mortality_cumulative_per_million': 'Excess mortality cumulative per million inhabitants'},\n",
    "                 hover_name='location', opacity=0.7)\n",
    "\n",
    "# Customize trendline appearance\n",
    "fig.update_traces(\n",
    "    line=dict(width=2, color='darkblue')  # Set line width and color for trendline\n",
    ")\n",
    "\n",
    "fig.show()\n"
   ]
  }
 ],
 "metadata": {
  "kernelspec": {
   "display_name": "Python 3",
   "language": "python",
   "name": "python3"
  },
  "language_info": {
   "codemirror_mode": {
    "name": "ipython",
    "version": 3
   },
   "file_extension": ".py",
   "mimetype": "text/x-python",
   "name": "python",
   "nbconvert_exporter": "python",
   "pygments_lexer": "ipython3",
   "version": "3.12.4"
  }
 },
 "nbformat": 4,
 "nbformat_minor": 2
}
