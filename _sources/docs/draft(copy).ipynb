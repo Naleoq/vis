{
 "cells": [
  {
   "cell_type": "markdown",
   "metadata": {},
   "source": [
    "## Introduction\n",
    "\n",
    "This project aims to analyze the global impact of the COVID-19 pandemic on health outcomes and socioeconomic status. By examining datasets related to COVID-19 case numbers, deaths, vaccination rates, and socioeconomic indicators such as GDP, we will explore how the pandemic has affected different population groups worldwide. The goal is to identify patterns and provide insights that could inform public health policies and economic recovery efforts.\n",
    "\n",
    "### First perspective:\n",
    "\n",
    "Countries with higher GDP and higher vaccination rates have managed the COVID-19 pandemic more effectively, resulting in lower mortality rates and better health outcomes despite high case numbers.\n",
    "\n",
    "#### Arguments:\n",
    "\n",
    "1. **Higher GDP Allows for Better Healthcare Infrastructure and Access to Medical Supplies::**\n",
    "   - Visualization 1: Cases per million by country\n",
    "   - Visualization 2: Death per million by country\n",
    "   - Visualization 3: Comparison of Total Cases and Deaths per Million by Country\n",
    "   - Visualization 4: total cases and deaths per million by Country\n",
    "   - Visualization 6: Comparison of GDP and Deaths per Million by Country\n",
    "   - Visualization 7: Total Cases per Million by Income Category\n",
    "   - Visualization 8: Tests per Thousand vs GDP per Capita (2021)\n",
    "\n",
    "2. **Higher vaccination rates mitigate severe cases and reduce mortality:**\n",
    "   - Visualization 5: Excess mortality per million inhabitants vs. Total vaccinations per hundred inhabitants, per country for 2021\n",
    "\n",
    "### Second perspective: \n",
    "\n",
    "Lower-income countries faced greater difficulties in managing the COVID-19 pandemic due to limited healthcare resources and slower vaccine distribution, leading to higher mortality rates.\n",
    "\n",
    "#### Arguments:\n",
    "\n",
    "1. **Limited healthcare infrastructure and economic instability:**\n",
    "   - Visualization 2: Death per million by country\n",
    "   - Visualization 3: Comparison of Total Cases and Deaths per Million by Country\n",
    "   - Visualization 4: total cases and deaths per million by Country\n",
    "   - Visualization 6: Comparison of GDP and Deaths per Million by Country\n",
    "   - Visualization 7: Total Cases per Million by Income Category\n",
    "   - Visualization 8: Tests per Thousand vs GDP per Capita (2021)\n",
    "   - Visualization 9: Tests per Thousand vs Total Cases (2021)\n",
    "\n",
    "2. **Slower vaccine distribution:**\n",
    "   - Visualization 5: Excess mortality per million inhabitants vs. Total vaccinations per hundred inhabitants, per country for 2021\n",
    "\n",
    "### Dataset and preprocessing\n",
    "\n",
    "The datasets that we use are the OWID Covid-19 dataset and the GDP per capita, PPP in US$ dataset. The Covid-19 dataset contains statistics on COVID-19 for every country, through the years 2020-2024. It has variables such as “Total_death” and “Total_cases”. The second dataset contains the GDP per capita in PPP in US$ per country per year. This means it contains the economic output in US dollars per inhabitant. PPP stands for purchasing power parity and it means the differences between countries have been normalized for differences in purchasing power, to make the comparisons more fair.\n",
    "The idea of the dataset is to give a reliable overview of the economic power of the countries per year.\n",
    "\n",
    "- **OWID Covid-19 Dataset**: \n",
    "  - Dataset Link: [OWID Covid-19 Dataset](https://ourworldindata.org/coronavirus#deaths-and-cases-our-data-source)\n",
    "\n",
    "- **GDP per Capita, PPP in US$ Dataset**: \n",
    "  - Dataset Link: [GDP per capita, PPP in US$ Dataset](https://data.worldbank.org/indicator/NY.GDP.PCAP.PP.CD)\n",
    "\n",
    "**Preprocessing:**\n",
    "\n",
    "We preprocessed these databases by filtering it for the year 2021. Then for specific variable numbers we take the last value per country for 2021. For a few graphs we also filtered out some values in the location variable, we took out continents, the whole world and income categories. Because these values would make outliers in the graphs.\n"
   ]
  },
  {
   "cell_type": "code",
   "execution_count": 1,
   "metadata": {},
   "outputs": [
    {
     "data": {
      "application/vnd.plotly.v1+json": {
       "config": {
        "plotlyServerURL": "https://plot.ly"
       },
       "data": [
        {
         "coloraxis": "coloraxis",
         "geo": "geo",
         "hovertemplate": "<b>%{hovertext}</b><br><br>iso_code=%{location}<br>total_cases_per_million=%{z}<extra></extra>",
         "hovertext": [
          "Aruba",
          "Afghanistan",
          "Angola",
          "Albania",
          "Andorra",
          "United Arab Emirates",
          "Argentina",
          "Armenia",
          "American Samoa",
          "Antigua and Barbuda",
          "Australia",
          "Austria",
          "Azerbaijan",
          "Burundi",
          "Belgium",
          "Benin",
          "Burkina Faso",
          "Bangladesh",
          "Bulgaria",
          "Bahrain",
          "Bahamas, The",
          "Bosnia and Herzegovina",
          "Belarus",
          "Belize",
          "Bermuda",
          "Bolivia",
          "Brazil",
          "Barbados",
          "Brunei Darussalam",
          "Bhutan",
          "Botswana",
          "Central African Republic",
          "Canada",
          "Switzerland",
          "Chile",
          "China",
          "Cote d'Ivoire",
          "Cameroon",
          "Congo, Dem. Rep.",
          "Congo, Rep.",
          "Colombia",
          "Comoros",
          "Cabo Verde",
          "Costa Rica",
          "Cuba",
          "Curacao",
          "Cayman Islands",
          "Cyprus",
          "Czechia",
          "Germany",
          "Djibouti",
          "Dominica",
          "Denmark",
          "Dominican Republic",
          "Algeria",
          "Ecuador",
          "Egypt, Arab Rep.",
          "Eritrea",
          "Spain",
          "Estonia",
          "Ethiopia",
          "Finland",
          "Fiji",
          "France",
          "Faroe Islands",
          "Micronesia, Fed. Sts.",
          "Gabon",
          "United Kingdom",
          "Georgia",
          "Ghana",
          "Gibraltar",
          "Guinea",
          "Gambia, The",
          "Guinea-Bissau",
          "Equatorial Guinea",
          "Greece",
          "Grenada",
          "Greenland",
          "Guatemala",
          "Guam",
          "Guyana",
          "Hong Kong SAR, China",
          "Honduras",
          "Croatia",
          "Haiti",
          "Hungary",
          "Indonesia",
          "Isle of Man",
          "India",
          "Ireland",
          "Iran, Islamic Rep.",
          "Iraq",
          "Iceland",
          "Israel",
          "Italy",
          "Jamaica",
          "Jordan",
          "Japan",
          "Kazakhstan",
          "Kenya",
          "Kyrgyz Republic",
          "Cambodia",
          "Kiribati",
          "St. Kitts and Nevis",
          "Korea, Rep.",
          "Kuwait",
          "Lao PDR",
          "Lebanon",
          "Liberia",
          "Libya",
          "St. Lucia",
          "Liechtenstein",
          "Sri Lanka",
          "Lesotho",
          "Lithuania",
          "Luxembourg",
          "Latvia",
          "St. Martin (French part)",
          "Morocco",
          "Monaco",
          "Moldova",
          "Madagascar",
          "Maldives",
          "Mexico",
          "Marshall Islands",
          "North Macedonia",
          "Mali",
          "Malta",
          "Myanmar",
          "Montenegro",
          "Mongolia",
          "Northern Mariana Islands",
          "Mozambique",
          "Mauritania",
          "Mauritius",
          "Malawi",
          "Malaysia",
          "Namibia",
          "New Caledonia",
          "Niger",
          "Nigeria",
          "Nicaragua",
          "Netherlands",
          "Norway",
          "Nepal",
          "Nauru",
          "New Zealand",
          "Oman",
          "Pakistan",
          "Panama",
          "Peru",
          "Philippines",
          "Palau",
          "Papua New Guinea",
          "Poland",
          "Puerto Rico",
          "Korea, Dem. People's Rep.",
          "Portugal",
          "Paraguay",
          "West Bank and Gaza",
          "French Polynesia",
          "Qatar",
          "Romania",
          "Russian Federation",
          "Rwanda",
          "Saudi Arabia",
          "Sudan",
          "Senegal",
          "Singapore",
          "Solomon Islands",
          "Sierra Leone",
          "El Salvador",
          "San Marino",
          "Somalia",
          "Serbia",
          "South Sudan",
          "Sao Tome and Principe",
          "Suriname",
          "Slovak Republic",
          "Slovenia",
          "Sweden",
          "Eswatini",
          "Sint Maarten (Dutch part)",
          "Seychelles",
          "Syrian Arab Republic",
          "Turks and Caicos Islands",
          "Chad",
          "Togo",
          "Thailand",
          "Tajikistan",
          "Turkmenistan",
          "Timor-Leste",
          "Tonga",
          "Trinidad and Tobago",
          "Tunisia",
          "Turkiye",
          "Tuvalu",
          "Tanzania",
          "Uganda",
          "Ukraine",
          "Uruguay",
          "United States",
          "Uzbekistan",
          "St. Vincent and the Grenadines",
          "Venezuela, RB",
          "British Virgin Islands",
          "Virgin Islands (U.S.)",
          "Viet Nam",
          "Vanuatu",
          "Samoa",
          "Yemen, Rep.",
          "South Africa",
          "Zambia",
          "Zimbabwe"
         ],
         "locations": [
          "ABW",
          "AFG",
          "AGO",
          "ALB",
          "AND",
          "ARE",
          "ARG",
          "ARM",
          "ASM",
          "ATG",
          "AUS",
          "AUT",
          "AZE",
          "BDI",
          "BEL",
          "BEN",
          "BFA",
          "BGD",
          "BGR",
          "BHR",
          "BHS",
          "BIH",
          "BLR",
          "BLZ",
          "BMU",
          "BOL",
          "BRA",
          "BRB",
          "BRN",
          "BTN",
          "BWA",
          "CAF",
          "CAN",
          "CHE",
          "CHL",
          "CHN",
          "CIV",
          "CMR",
          "COD",
          "COG",
          "COL",
          "COM",
          "CPV",
          "CRI",
          "CUB",
          "CUW",
          "CYM",
          "CYP",
          "CZE",
          "DEU",
          "DJI",
          "DMA",
          "DNK",
          "DOM",
          "DZA",
          "ECU",
          "EGY",
          "ERI",
          "ESP",
          "EST",
          "ETH",
          "FIN",
          "FJI",
          "FRA",
          "FRO",
          "FSM",
          "GAB",
          "GBR",
          "GEO",
          "GHA",
          "GIB",
          "GIN",
          "GMB",
          "GNB",
          "GNQ",
          "GRC",
          "GRD",
          "GRL",
          "GTM",
          "GUM",
          "GUY",
          "HKG",
          "HND",
          "HRV",
          "HTI",
          "HUN",
          "IDN",
          "IMN",
          "IND",
          "IRL",
          "IRN",
          "IRQ",
          "ISL",
          "ISR",
          "ITA",
          "JAM",
          "JOR",
          "JPN",
          "KAZ",
          "KEN",
          "KGZ",
          "KHM",
          "KIR",
          "KNA",
          "KOR",
          "KWT",
          "LAO",
          "LBN",
          "LBR",
          "LBY",
          "LCA",
          "LIE",
          "LKA",
          "LSO",
          "LTU",
          "LUX",
          "LVA",
          "MAF",
          "MAR",
          "MCO",
          "MDA",
          "MDG",
          "MDV",
          "MEX",
          "MHL",
          "MKD",
          "MLI",
          "MLT",
          "MMR",
          "MNE",
          "MNG",
          "MNP",
          "MOZ",
          "MRT",
          "MUS",
          "MWI",
          "MYS",
          "NAM",
          "NCL",
          "NER",
          "NGA",
          "NIC",
          "NLD",
          "NOR",
          "NPL",
          "NRU",
          "NZL",
          "OMN",
          "PAK",
          "PAN",
          "PER",
          "PHL",
          "PLW",
          "PNG",
          "POL",
          "PRI",
          "PRK",
          "PRT",
          "PRY",
          "PSE",
          "PYF",
          "QAT",
          "ROU",
          "RUS",
          "RWA",
          "SAU",
          "SDN",
          "SEN",
          "SGP",
          "SLB",
          "SLE",
          "SLV",
          "SMR",
          "SOM",
          "SRB",
          "SSD",
          "STP",
          "SUR",
          "SVK",
          "SVN",
          "SWE",
          "SWZ",
          "SXM",
          "SYC",
          "SYR",
          "TCA",
          "TCD",
          "TGO",
          "THA",
          "TJK",
          "TKM",
          "TLS",
          "TON",
          "TTO",
          "TUN",
          "TUR",
          "TUV",
          "TZA",
          "UGA",
          "UKR",
          "URY",
          "USA",
          "UZB",
          "VCT",
          "VEN",
          "VGB",
          "VIR",
          "VNM",
          "VUT",
          "WSM",
          "YEM",
          "ZAF",
          "ZMB",
          "ZWE"
         ],
         "name": "",
         "type": "choropleth",
         "z": [
          49108.107,
          1260.626,
          481.862,
          19484.097,
          97766.867,
          21278.367,
          35814.028,
          56765.182,
          null,
          1652.945,
          1080.932,
          38562.278,
          20444.333,
          62.764,
          54801.323,
          240.023,
          279.795,
          2974.232,
          29104.292,
          62162.546,
          18995.632,
          33811.345,
          19394.112,
          25883.021,
          8737.365,
          12564.51,
          34594.022,
          1232.043,
          338.529,
          762.981,
          5280.766,
          1042.095,
          14022.895,
          49804.982,
          30524.488,
          67.554,
          784.111,
          941.337,
          170.053,
          1070.107,
          30356.366,
          789.93,
          19721.425,
          31667.09,
          984.464,
          21190.231,
          4627.339,
          21642.688,
          64328.439,
          19913.412,
          5179.101,
          1319.443,
          25698.8,
          14778.043,
          2179.287,
          11625.686,
          1183.124,
          270.627,
          40361.737,
          23400.831,
          992.163,
          6867.669,
          49.475,
          36181.033,
          10806.333,
          null,
          3975.308,
          34727.743,
          59183.284,
          1633.445,
          46699.513,
          986.626,
          1401.333,
          1162.15,
          3126.127,
          13451.36,
          924.605,
          460.226,
          7575.188,
          41296.287,
          7776.419,
          null,
          11373.585,
          50693.226,
          849.892,
          31709.678,
          2589.334,
          4459.744,
          7188.854,
          16956.832,
          13494.696,
          13277.089,
          15400.788,
          42237.803,
          34540.469,
          4486.129,
          25372.955,
          1753.199,
          10163.008,
          1773.967,
          null,
          21.708,
          null,
          629.181,
          1097.252,
          35008.899,
          5.445,
          30870.656,
          343.411,
          14334.714,
          1695.65,
          53055.52,
          1880.438,
          1117.604,
          48805.88,
          59269.519,
          19630.898,
          30990.697,
          11494.535,
          17675.591,
          43078.613,
          598.209,
          26048.209,
          11398.957,
          96.17,
          39069.433,
          290.967,
          23656.789,
          2249.678,
          56148.957,
          329.864,
          2460.967,
          550.872,
          2853.797,
          405.547,
          310.85,
          3061.446,
          8540.24,
          131.053,
          118.628,
          382.427,
          689.368,
          44021.699,
          8693.63,
          8451.764,
          null,
          345.015,
          28033.564,
          1990.808,
          51413.357,
          29531.811,
          4058.559,
          null,
          76.903,
          31610.97,
          25305.22,
          null,
          36751.948,
          15321.03,
          28292.924,
          54033.406,
          53022.655,
          31219.877,
          21077.867,
          567.407,
          9944.457,
          526.814,
          1069.676,
          10381.191,
          23.472,
          296.198,
          7041.703,
          68061.739,
          266.515,
          47058.836,
          321.172,
          4459.24,
          9513.855,
          29684.475,
          54443.183,
          39635.526,
          6961.088,
          31001.086,
          1969.478,
          494.096,
          18457.77,
          112.056,
          401.754,
          85.652,
          1361.93,
          null,
          30.567,
          null,
          4635.402,
          10539.72,
          24998.146,
          null,
          7.771,
          715.668,
          24888.277,
          4630.133,
          55841.006,
          0.26,
          1038.871,
          3943.332,
          2968.211,
          19893.646,
          14.666,
          3.06,
          4.497,
          62.202,
          16611.229,
          982.682,
          794.275
         ]
        }
       ],
       "layout": {
        "coloraxis": {
         "colorbar": {
          "title": {
           "text": "total_cases_per_million"
          }
         },
         "colorscale": [
          [
           0,
           "#0d0887"
          ],
          [
           0.1111111111111111,
           "#46039f"
          ],
          [
           0.2222222222222222,
           "#7201a8"
          ],
          [
           0.3333333333333333,
           "#9c179e"
          ],
          [
           0.4444444444444444,
           "#bd3786"
          ],
          [
           0.5555555555555556,
           "#d8576b"
          ],
          [
           0.6666666666666666,
           "#ed7953"
          ],
          [
           0.7777777777777778,
           "#fb9f3a"
          ],
          [
           0.8888888888888888,
           "#fdca26"
          ],
          [
           1,
           "#f0f921"
          ]
         ]
        },
        "geo": {
         "center": {},
         "domain": {
          "x": [
           0,
           1
          ],
          "y": [
           0,
           1
          ]
         },
         "projection": {
          "type": "equirectangular"
         },
         "showcoastlines": false,
         "showframe": false
        },
        "height": 600,
        "legend": {
         "tracegroupgap": 0
        },
        "template": {
         "data": {
          "bar": [
           {
            "error_x": {
             "color": "#2a3f5f"
            },
            "error_y": {
             "color": "#2a3f5f"
            },
            "marker": {
             "line": {
              "color": "#E5ECF6",
              "width": 0.5
             },
             "pattern": {
              "fillmode": "overlay",
              "size": 10,
              "solidity": 0.2
             }
            },
            "type": "bar"
           }
          ],
          "barpolar": [
           {
            "marker": {
             "line": {
              "color": "#E5ECF6",
              "width": 0.5
             },
             "pattern": {
              "fillmode": "overlay",
              "size": 10,
              "solidity": 0.2
             }
            },
            "type": "barpolar"
           }
          ],
          "carpet": [
           {
            "aaxis": {
             "endlinecolor": "#2a3f5f",
             "gridcolor": "white",
             "linecolor": "white",
             "minorgridcolor": "white",
             "startlinecolor": "#2a3f5f"
            },
            "baxis": {
             "endlinecolor": "#2a3f5f",
             "gridcolor": "white",
             "linecolor": "white",
             "minorgridcolor": "white",
             "startlinecolor": "#2a3f5f"
            },
            "type": "carpet"
           }
          ],
          "choropleth": [
           {
            "colorbar": {
             "outlinewidth": 0,
             "ticks": ""
            },
            "type": "choropleth"
           }
          ],
          "contour": [
           {
            "colorbar": {
             "outlinewidth": 0,
             "ticks": ""
            },
            "colorscale": [
             [
              0,
              "#0d0887"
             ],
             [
              0.1111111111111111,
              "#46039f"
             ],
             [
              0.2222222222222222,
              "#7201a8"
             ],
             [
              0.3333333333333333,
              "#9c179e"
             ],
             [
              0.4444444444444444,
              "#bd3786"
             ],
             [
              0.5555555555555556,
              "#d8576b"
             ],
             [
              0.6666666666666666,
              "#ed7953"
             ],
             [
              0.7777777777777778,
              "#fb9f3a"
             ],
             [
              0.8888888888888888,
              "#fdca26"
             ],
             [
              1,
              "#f0f921"
             ]
            ],
            "type": "contour"
           }
          ],
          "contourcarpet": [
           {
            "colorbar": {
             "outlinewidth": 0,
             "ticks": ""
            },
            "type": "contourcarpet"
           }
          ],
          "heatmap": [
           {
            "colorbar": {
             "outlinewidth": 0,
             "ticks": ""
            },
            "colorscale": [
             [
              0,
              "#0d0887"
             ],
             [
              0.1111111111111111,
              "#46039f"
             ],
             [
              0.2222222222222222,
              "#7201a8"
             ],
             [
              0.3333333333333333,
              "#9c179e"
             ],
             [
              0.4444444444444444,
              "#bd3786"
             ],
             [
              0.5555555555555556,
              "#d8576b"
             ],
             [
              0.6666666666666666,
              "#ed7953"
             ],
             [
              0.7777777777777778,
              "#fb9f3a"
             ],
             [
              0.8888888888888888,
              "#fdca26"
             ],
             [
              1,
              "#f0f921"
             ]
            ],
            "type": "heatmap"
           }
          ],
          "heatmapgl": [
           {
            "colorbar": {
             "outlinewidth": 0,
             "ticks": ""
            },
            "colorscale": [
             [
              0,
              "#0d0887"
             ],
             [
              0.1111111111111111,
              "#46039f"
             ],
             [
              0.2222222222222222,
              "#7201a8"
             ],
             [
              0.3333333333333333,
              "#9c179e"
             ],
             [
              0.4444444444444444,
              "#bd3786"
             ],
             [
              0.5555555555555556,
              "#d8576b"
             ],
             [
              0.6666666666666666,
              "#ed7953"
             ],
             [
              0.7777777777777778,
              "#fb9f3a"
             ],
             [
              0.8888888888888888,
              "#fdca26"
             ],
             [
              1,
              "#f0f921"
             ]
            ],
            "type": "heatmapgl"
           }
          ],
          "histogram": [
           {
            "marker": {
             "pattern": {
              "fillmode": "overlay",
              "size": 10,
              "solidity": 0.2
             }
            },
            "type": "histogram"
           }
          ],
          "histogram2d": [
           {
            "colorbar": {
             "outlinewidth": 0,
             "ticks": ""
            },
            "colorscale": [
             [
              0,
              "#0d0887"
             ],
             [
              0.1111111111111111,
              "#46039f"
             ],
             [
              0.2222222222222222,
              "#7201a8"
             ],
             [
              0.3333333333333333,
              "#9c179e"
             ],
             [
              0.4444444444444444,
              "#bd3786"
             ],
             [
              0.5555555555555556,
              "#d8576b"
             ],
             [
              0.6666666666666666,
              "#ed7953"
             ],
             [
              0.7777777777777778,
              "#fb9f3a"
             ],
             [
              0.8888888888888888,
              "#fdca26"
             ],
             [
              1,
              "#f0f921"
             ]
            ],
            "type": "histogram2d"
           }
          ],
          "histogram2dcontour": [
           {
            "colorbar": {
             "outlinewidth": 0,
             "ticks": ""
            },
            "colorscale": [
             [
              0,
              "#0d0887"
             ],
             [
              0.1111111111111111,
              "#46039f"
             ],
             [
              0.2222222222222222,
              "#7201a8"
             ],
             [
              0.3333333333333333,
              "#9c179e"
             ],
             [
              0.4444444444444444,
              "#bd3786"
             ],
             [
              0.5555555555555556,
              "#d8576b"
             ],
             [
              0.6666666666666666,
              "#ed7953"
             ],
             [
              0.7777777777777778,
              "#fb9f3a"
             ],
             [
              0.8888888888888888,
              "#fdca26"
             ],
             [
              1,
              "#f0f921"
             ]
            ],
            "type": "histogram2dcontour"
           }
          ],
          "mesh3d": [
           {
            "colorbar": {
             "outlinewidth": 0,
             "ticks": ""
            },
            "type": "mesh3d"
           }
          ],
          "parcoords": [
           {
            "line": {
             "colorbar": {
              "outlinewidth": 0,
              "ticks": ""
             }
            },
            "type": "parcoords"
           }
          ],
          "pie": [
           {
            "automargin": true,
            "type": "pie"
           }
          ],
          "scatter": [
           {
            "fillpattern": {
             "fillmode": "overlay",
             "size": 10,
             "solidity": 0.2
            },
            "type": "scatter"
           }
          ],
          "scatter3d": [
           {
            "line": {
             "colorbar": {
              "outlinewidth": 0,
              "ticks": ""
             }
            },
            "marker": {
             "colorbar": {
              "outlinewidth": 0,
              "ticks": ""
             }
            },
            "type": "scatter3d"
           }
          ],
          "scattercarpet": [
           {
            "marker": {
             "colorbar": {
              "outlinewidth": 0,
              "ticks": ""
             }
            },
            "type": "scattercarpet"
           }
          ],
          "scattergeo": [
           {
            "marker": {
             "colorbar": {
              "outlinewidth": 0,
              "ticks": ""
             }
            },
            "type": "scattergeo"
           }
          ],
          "scattergl": [
           {
            "marker": {
             "colorbar": {
              "outlinewidth": 0,
              "ticks": ""
             }
            },
            "type": "scattergl"
           }
          ],
          "scattermapbox": [
           {
            "marker": {
             "colorbar": {
              "outlinewidth": 0,
              "ticks": ""
             }
            },
            "type": "scattermapbox"
           }
          ],
          "scatterpolar": [
           {
            "marker": {
             "colorbar": {
              "outlinewidth": 0,
              "ticks": ""
             }
            },
            "type": "scatterpolar"
           }
          ],
          "scatterpolargl": [
           {
            "marker": {
             "colorbar": {
              "outlinewidth": 0,
              "ticks": ""
             }
            },
            "type": "scatterpolargl"
           }
          ],
          "scatterternary": [
           {
            "marker": {
             "colorbar": {
              "outlinewidth": 0,
              "ticks": ""
             }
            },
            "type": "scatterternary"
           }
          ],
          "surface": [
           {
            "colorbar": {
             "outlinewidth": 0,
             "ticks": ""
            },
            "colorscale": [
             [
              0,
              "#0d0887"
             ],
             [
              0.1111111111111111,
              "#46039f"
             ],
             [
              0.2222222222222222,
              "#7201a8"
             ],
             [
              0.3333333333333333,
              "#9c179e"
             ],
             [
              0.4444444444444444,
              "#bd3786"
             ],
             [
              0.5555555555555556,
              "#d8576b"
             ],
             [
              0.6666666666666666,
              "#ed7953"
             ],
             [
              0.7777777777777778,
              "#fb9f3a"
             ],
             [
              0.8888888888888888,
              "#fdca26"
             ],
             [
              1,
              "#f0f921"
             ]
            ],
            "type": "surface"
           }
          ],
          "table": [
           {
            "cells": {
             "fill": {
              "color": "#EBF0F8"
             },
             "line": {
              "color": "white"
             }
            },
            "header": {
             "fill": {
              "color": "#C8D4E3"
             },
             "line": {
              "color": "white"
             }
            },
            "type": "table"
           }
          ]
         },
         "layout": {
          "annotationdefaults": {
           "arrowcolor": "#2a3f5f",
           "arrowhead": 0,
           "arrowwidth": 1
          },
          "autotypenumbers": "strict",
          "coloraxis": {
           "colorbar": {
            "outlinewidth": 0,
            "ticks": ""
           }
          },
          "colorscale": {
           "diverging": [
            [
             0,
             "#8e0152"
            ],
            [
             0.1,
             "#c51b7d"
            ],
            [
             0.2,
             "#de77ae"
            ],
            [
             0.3,
             "#f1b6da"
            ],
            [
             0.4,
             "#fde0ef"
            ],
            [
             0.5,
             "#f7f7f7"
            ],
            [
             0.6,
             "#e6f5d0"
            ],
            [
             0.7,
             "#b8e186"
            ],
            [
             0.8,
             "#7fbc41"
            ],
            [
             0.9,
             "#4d9221"
            ],
            [
             1,
             "#276419"
            ]
           ],
           "sequential": [
            [
             0,
             "#0d0887"
            ],
            [
             0.1111111111111111,
             "#46039f"
            ],
            [
             0.2222222222222222,
             "#7201a8"
            ],
            [
             0.3333333333333333,
             "#9c179e"
            ],
            [
             0.4444444444444444,
             "#bd3786"
            ],
            [
             0.5555555555555556,
             "#d8576b"
            ],
            [
             0.6666666666666666,
             "#ed7953"
            ],
            [
             0.7777777777777778,
             "#fb9f3a"
            ],
            [
             0.8888888888888888,
             "#fdca26"
            ],
            [
             1,
             "#f0f921"
            ]
           ],
           "sequentialminus": [
            [
             0,
             "#0d0887"
            ],
            [
             0.1111111111111111,
             "#46039f"
            ],
            [
             0.2222222222222222,
             "#7201a8"
            ],
            [
             0.3333333333333333,
             "#9c179e"
            ],
            [
             0.4444444444444444,
             "#bd3786"
            ],
            [
             0.5555555555555556,
             "#d8576b"
            ],
            [
             0.6666666666666666,
             "#ed7953"
            ],
            [
             0.7777777777777778,
             "#fb9f3a"
            ],
            [
             0.8888888888888888,
             "#fdca26"
            ],
            [
             1,
             "#f0f921"
            ]
           ]
          },
          "colorway": [
           "#636efa",
           "#EF553B",
           "#00cc96",
           "#ab63fa",
           "#FFA15A",
           "#19d3f3",
           "#FF6692",
           "#B6E880",
           "#FF97FF",
           "#FECB52"
          ],
          "font": {
           "color": "#2a3f5f"
          },
          "geo": {
           "bgcolor": "white",
           "lakecolor": "white",
           "landcolor": "#E5ECF6",
           "showlakes": true,
           "showland": true,
           "subunitcolor": "white"
          },
          "hoverlabel": {
           "align": "left"
          },
          "hovermode": "closest",
          "mapbox": {
           "style": "light"
          },
          "paper_bgcolor": "white",
          "plot_bgcolor": "#E5ECF6",
          "polar": {
           "angularaxis": {
            "gridcolor": "white",
            "linecolor": "white",
            "ticks": ""
           },
           "bgcolor": "#E5ECF6",
           "radialaxis": {
            "gridcolor": "white",
            "linecolor": "white",
            "ticks": ""
           }
          },
          "scene": {
           "xaxis": {
            "backgroundcolor": "#E5ECF6",
            "gridcolor": "white",
            "gridwidth": 2,
            "linecolor": "white",
            "showbackground": true,
            "ticks": "",
            "zerolinecolor": "white"
           },
           "yaxis": {
            "backgroundcolor": "#E5ECF6",
            "gridcolor": "white",
            "gridwidth": 2,
            "linecolor": "white",
            "showbackground": true,
            "ticks": "",
            "zerolinecolor": "white"
           },
           "zaxis": {
            "backgroundcolor": "#E5ECF6",
            "gridcolor": "white",
            "gridwidth": 2,
            "linecolor": "white",
            "showbackground": true,
            "ticks": "",
            "zerolinecolor": "white"
           }
          },
          "shapedefaults": {
           "line": {
            "color": "#2a3f5f"
           }
          },
          "ternary": {
           "aaxis": {
            "gridcolor": "white",
            "linecolor": "white",
            "ticks": ""
           },
           "baxis": {
            "gridcolor": "white",
            "linecolor": "white",
            "ticks": ""
           },
           "bgcolor": "#E5ECF6",
           "caxis": {
            "gridcolor": "white",
            "linecolor": "white",
            "ticks": ""
           }
          },
          "title": {
           "x": 0.05
          },
          "xaxis": {
           "automargin": true,
           "gridcolor": "white",
           "linecolor": "white",
           "ticks": "",
           "title": {
            "standoff": 15
           },
           "zerolinecolor": "white",
           "zerolinewidth": 2
          },
          "yaxis": {
           "automargin": true,
           "gridcolor": "white",
           "linecolor": "white",
           "ticks": "",
           "title": {
            "standoff": 15
           },
           "zerolinecolor": "white",
           "zerolinewidth": 2
          }
         }
        },
        "title": {
         "text": "Cases per million by Country"
        }
       }
      }
     },
     "metadata": {},
     "output_type": "display_data"
    },
    {
     "data": {
      "application/vnd.plotly.v1+json": {
       "config": {
        "plotlyServerURL": "https://plot.ly"
       },
       "data": [
        {
         "coloraxis": "coloraxis",
         "geo": "geo",
         "hovertemplate": "<b>%{hovertext}</b><br><br>iso_code=%{location}<br>total_deaths_per_million=%{z}<extra></extra>",
         "hovertext": [
          "Aruba",
          "Afghanistan",
          "Angola",
          "Albania",
          "Andorra",
          "United Arab Emirates",
          "Argentina",
          "Armenia",
          "American Samoa",
          "Antigua and Barbuda",
          "Australia",
          "Austria",
          "Azerbaijan",
          "Burundi",
          "Belgium",
          "Benin",
          "Burkina Faso",
          "Bangladesh",
          "Bulgaria",
          "Bahrain",
          "Bahamas, The",
          "Bosnia and Herzegovina",
          "Belarus",
          "Belize",
          "Bermuda",
          "Bolivia",
          "Brazil",
          "Barbados",
          "Brunei Darussalam",
          "Bhutan",
          "Botswana",
          "Central African Republic",
          "Canada",
          "Switzerland",
          "Chile",
          "China",
          "Cote d'Ivoire",
          "Cameroon",
          "Congo, Dem. Rep.",
          "Congo, Rep.",
          "Colombia",
          "Comoros",
          "Cabo Verde",
          "Costa Rica",
          "Cuba",
          "Curacao",
          "Cayman Islands",
          "Cyprus",
          "Czechia",
          "Germany",
          "Djibouti",
          "Dominica",
          "Denmark",
          "Dominican Republic",
          "Algeria",
          "Ecuador",
          "Egypt, Arab Rep.",
          "Eritrea",
          "Spain",
          "Estonia",
          "Ethiopia",
          "Finland",
          "Fiji",
          "France",
          "Faroe Islands",
          "Micronesia, Fed. Sts.",
          "Gabon",
          "United Kingdom",
          "Georgia",
          "Ghana",
          "Gibraltar",
          "Guinea",
          "Gambia, The",
          "Guinea-Bissau",
          "Equatorial Guinea",
          "Greece",
          "Grenada",
          "Greenland",
          "Guatemala",
          "Guam",
          "Guyana",
          "Hong Kong SAR, China",
          "Honduras",
          "Croatia",
          "Haiti",
          "Hungary",
          "Indonesia",
          "Isle of Man",
          "India",
          "Ireland",
          "Iran, Islamic Rep.",
          "Iraq",
          "Iceland",
          "Israel",
          "Italy",
          "Jamaica",
          "Jordan",
          "Japan",
          "Kazakhstan",
          "Kenya",
          "Kyrgyz Republic",
          "Cambodia",
          "Kiribati",
          "St. Kitts and Nevis",
          "Korea, Rep.",
          "Kuwait",
          "Lao PDR",
          "Lebanon",
          "Liberia",
          "Libya",
          "St. Lucia",
          "Liechtenstein",
          "Sri Lanka",
          "Lesotho",
          "Lithuania",
          "Luxembourg",
          "Latvia",
          "St. Martin (French part)",
          "Morocco",
          "Monaco",
          "Moldova",
          "Madagascar",
          "Maldives",
          "Mexico",
          "Marshall Islands",
          "North Macedonia",
          "Mali",
          "Malta",
          "Myanmar",
          "Montenegro",
          "Mongolia",
          "Northern Mariana Islands",
          "Mozambique",
          "Mauritania",
          "Mauritius",
          "Malawi",
          "Malaysia",
          "Namibia",
          "New Caledonia",
          "Niger",
          "Nigeria",
          "Nicaragua",
          "Netherlands",
          "Norway",
          "Nepal",
          "Nauru",
          "New Zealand",
          "Oman",
          "Pakistan",
          "Panama",
          "Peru",
          "Philippines",
          "Palau",
          "Papua New Guinea",
          "Poland",
          "Puerto Rico",
          "Korea, Dem. People's Rep.",
          "Portugal",
          "Paraguay",
          "West Bank and Gaza",
          "French Polynesia",
          "Qatar",
          "Romania",
          "Russian Federation",
          "Rwanda",
          "Saudi Arabia",
          "Sudan",
          "Senegal",
          "Singapore",
          "Solomon Islands",
          "Sierra Leone",
          "El Salvador",
          "San Marino",
          "Somalia",
          "Serbia",
          "South Sudan",
          "Sao Tome and Principe",
          "Suriname",
          "Slovak Republic",
          "Slovenia",
          "Sweden",
          "Eswatini",
          "Sint Maarten (Dutch part)",
          "Seychelles",
          "Syrian Arab Republic",
          "Turks and Caicos Islands",
          "Chad",
          "Togo",
          "Thailand",
          "Tajikistan",
          "Turkmenistan",
          "Timor-Leste",
          "Tonga",
          "Trinidad and Tobago",
          "Tunisia",
          "Turkiye",
          "Tuvalu",
          "Tanzania",
          "Uganda",
          "Ukraine",
          "Uruguay",
          "United States",
          "Uzbekistan",
          "St. Vincent and the Grenadines",
          "Venezuela, RB",
          "British Virgin Islands",
          "Virgin Islands (U.S.)",
          "Viet Nam",
          "Vanuatu",
          "Samoa",
          "Yemen, Rep.",
          "South Africa",
          "Zambia",
          "Zimbabwe"
         ],
         "locations": [
          "ABW",
          "AFG",
          "AGO",
          "ALB",
          "AND",
          "ARE",
          "ARG",
          "ARM",
          "ASM",
          "ATG",
          "AUS",
          "AUT",
          "AZE",
          "BDI",
          "BEL",
          "BEN",
          "BFA",
          "BGD",
          "BGR",
          "BHR",
          "BHS",
          "BIH",
          "BLR",
          "BLZ",
          "BMU",
          "BOL",
          "BRA",
          "BRB",
          "BRN",
          "BTN",
          "BWA",
          "CAF",
          "CAN",
          "CHE",
          "CHL",
          "CHN",
          "CIV",
          "CMR",
          "COD",
          "COG",
          "COL",
          "COM",
          "CPV",
          "CRI",
          "CUB",
          "CUW",
          "CYM",
          "CYP",
          "CZE",
          "DEU",
          "DJI",
          "DMA",
          "DNK",
          "DOM",
          "DZA",
          "ECU",
          "EGY",
          "ERI",
          "ESP",
          "EST",
          "ETH",
          "FIN",
          "FJI",
          "FRA",
          "FRO",
          "FSM",
          "GAB",
          "GBR",
          "GEO",
          "GHA",
          "GIB",
          "GIN",
          "GMB",
          "GNB",
          "GNQ",
          "GRC",
          "GRD",
          "GRL",
          "GTM",
          "GUM",
          "GUY",
          "HKG",
          "HND",
          "HRV",
          "HTI",
          "HUN",
          "IDN",
          "IMN",
          "IND",
          "IRL",
          "IRN",
          "IRQ",
          "ISL",
          "ISR",
          "ITA",
          "JAM",
          "JOR",
          "JPN",
          "KAZ",
          "KEN",
          "KGZ",
          "KHM",
          "KIR",
          "KNA",
          "KOR",
          "KWT",
          "LAO",
          "LBN",
          "LBR",
          "LBY",
          "LCA",
          "LIE",
          "LKA",
          "LSO",
          "LTU",
          "LUX",
          "LVA",
          "MAF",
          "MAR",
          "MCO",
          "MDA",
          "MDG",
          "MDV",
          "MEX",
          "MHL",
          "MKD",
          "MLI",
          "MLT",
          "MMR",
          "MNE",
          "MNG",
          "MNP",
          "MOZ",
          "MRT",
          "MUS",
          "MWI",
          "MYS",
          "NAM",
          "NCL",
          "NER",
          "NGA",
          "NIC",
          "NLD",
          "NOR",
          "NPL",
          "NRU",
          "NZL",
          "OMN",
          "PAK",
          "PAN",
          "PER",
          "PHL",
          "PLW",
          "PNG",
          "POL",
          "PRI",
          "PRK",
          "PRT",
          "PRY",
          "PSE",
          "PYF",
          "QAT",
          "ROU",
          "RUS",
          "RWA",
          "SAU",
          "SDN",
          "SEN",
          "SGP",
          "SLB",
          "SLE",
          "SLV",
          "SMR",
          "SOM",
          "SRB",
          "SSD",
          "STP",
          "SUR",
          "SVK",
          "SVN",
          "SWE",
          "SWZ",
          "SXM",
          "SYC",
          "SYR",
          "TCA",
          "TCD",
          "TGO",
          "THA",
          "TJK",
          "TKM",
          "TLS",
          "TON",
          "TTO",
          "TUN",
          "TUR",
          "TUV",
          "TZA",
          "UGA",
          "UKR",
          "URY",
          "USA",
          "UZB",
          "VCT",
          "VEN",
          "VGB",
          "VIR",
          "VNM",
          "VUT",
          "WSM",
          "YEM",
          "ZAF",
          "ZMB",
          "ZWE"
         ],
         "name": "",
         "type": "choropleth",
         "z": [
          441.485,
          52.469,
          11.239,
          398.97,
          1039.54,
          69.377,
          1043.873,
          995.514,
          null,
          53.321,
          35.145,
          788.513,
          233.248,
          0.155,
          1662.159,
          3.295,
          3.44,
          43.532,
          1050.287,
          238.413,
          412.206,
          1213.225,
          144.311,
          562.567,
          140.172,
          743.04,
          884.701,
          24.854,
          6.681,
          null,
          14.827,
          11.292,
          383.156,
          821.695,
          836.779,
          3.35,
          4.758,
          16.049,
          5.848,
          16.749,
          803.678,
          8.365,
          188.819,
          405.919,
          12.576,
          62.77,
          29.103,
          127.231,
          1083.191,
          563.861,
          54.423,
          null,
          197.033,
          214.092,
          60.619,
          777.179,
          66.24,
          0.271,
          1134.684,
          214.168,
          15.408,
          111.537,
          2.151,
          983.093,
          null,
          null,
          26.789,
          1340.193,
          634.817,
          10.007,
          183.615,
          5.772,
          45.455,
          21.372,
          51.346,
          450.844,
          null,
          null,
          266.926,
          704.377,
          200.315,
          null,
          293.4,
          896.446,
          20.285,
          907.668,
          77.085,
          414.035,
          104.167,
          443.948,
          616.303,
          286.924,
          75.087,
          343.105,
          1213.246,
          103.983,
          330.413,
          25.921,
          137.592,
          30.633,
          null,
          null,
          null,
          null,
          15.594,
          217.621,
          null,
          251.196,
          16.784,
          207.711,
          27.798,
          990.98,
          8.749,
          27.756,
          587.988,
          440.086,
          341.501,
          377.169,
          192.322,
          82.212,
          904.371,
          8.814,
          91.638,
          1128.513,
          null,
          1383.259,
          11.065,
          425.657,
          48.007,
          865.915,
          0.294,
          40.344,
          4.823,
          71.155,
          7.695,
          9.213,
          13.289,
          75.963,
          null,
          3.854,
          5.706,
          23.603,
          656.968,
          77.471,
          89.041,
          null,
          4.821,
          325.809,
          41.624,
          851.975,
          2717.302,
          78.462,
          null,
          0.887,
          682.613,
          501.167,
          null,
          651.844,
          317.664,
          267.806,
          352.605,
          90.534,
          768.492,
          378.528,
          5.299,
          169.629,
          32.427,
          22.349,
          5.145,
          null,
          8.831,
          204.691,
          1691.897,
          7.217,
          434.109,
          5.773,
          74.76,
          192.542,
          314.169,
          1359.063,
          883.751,
          135.643,
          588.342,
          null,
          30.237,
          131.216,
          5.868,
          7.685,
          0.837,
          9.043,
          null,
          null,
          null,
          81.644,
          358.203,
          229.947,
          null,
          0.321,
          6.307,
          384.819,
          41.779,
          1013.687,
          null,
          null,
          35.687,
          31.916,
          231.205,
          0.356,
          null,
          null,
          18.014,
          442.8,
          19.083,
          20.894
         ]
        }
       ],
       "layout": {
        "coloraxis": {
         "colorbar": {
          "title": {
           "text": "total_deaths_per_million"
          }
         },
         "colorscale": [
          [
           0,
           "#0d0887"
          ],
          [
           0.1111111111111111,
           "#46039f"
          ],
          [
           0.2222222222222222,
           "#7201a8"
          ],
          [
           0.3333333333333333,
           "#9c179e"
          ],
          [
           0.4444444444444444,
           "#bd3786"
          ],
          [
           0.5555555555555556,
           "#d8576b"
          ],
          [
           0.6666666666666666,
           "#ed7953"
          ],
          [
           0.7777777777777778,
           "#fb9f3a"
          ],
          [
           0.8888888888888888,
           "#fdca26"
          ],
          [
           1,
           "#f0f921"
          ]
         ]
        },
        "geo": {
         "center": {},
         "domain": {
          "x": [
           0,
           1
          ],
          "y": [
           0,
           1
          ]
         },
         "projection": {
          "type": "equirectangular"
         },
         "showcoastlines": false,
         "showframe": false
        },
        "height": 600,
        "legend": {
         "tracegroupgap": 0
        },
        "template": {
         "data": {
          "bar": [
           {
            "error_x": {
             "color": "#2a3f5f"
            },
            "error_y": {
             "color": "#2a3f5f"
            },
            "marker": {
             "line": {
              "color": "#E5ECF6",
              "width": 0.5
             },
             "pattern": {
              "fillmode": "overlay",
              "size": 10,
              "solidity": 0.2
             }
            },
            "type": "bar"
           }
          ],
          "barpolar": [
           {
            "marker": {
             "line": {
              "color": "#E5ECF6",
              "width": 0.5
             },
             "pattern": {
              "fillmode": "overlay",
              "size": 10,
              "solidity": 0.2
             }
            },
            "type": "barpolar"
           }
          ],
          "carpet": [
           {
            "aaxis": {
             "endlinecolor": "#2a3f5f",
             "gridcolor": "white",
             "linecolor": "white",
             "minorgridcolor": "white",
             "startlinecolor": "#2a3f5f"
            },
            "baxis": {
             "endlinecolor": "#2a3f5f",
             "gridcolor": "white",
             "linecolor": "white",
             "minorgridcolor": "white",
             "startlinecolor": "#2a3f5f"
            },
            "type": "carpet"
           }
          ],
          "choropleth": [
           {
            "colorbar": {
             "outlinewidth": 0,
             "ticks": ""
            },
            "type": "choropleth"
           }
          ],
          "contour": [
           {
            "colorbar": {
             "outlinewidth": 0,
             "ticks": ""
            },
            "colorscale": [
             [
              0,
              "#0d0887"
             ],
             [
              0.1111111111111111,
              "#46039f"
             ],
             [
              0.2222222222222222,
              "#7201a8"
             ],
             [
              0.3333333333333333,
              "#9c179e"
             ],
             [
              0.4444444444444444,
              "#bd3786"
             ],
             [
              0.5555555555555556,
              "#d8576b"
             ],
             [
              0.6666666666666666,
              "#ed7953"
             ],
             [
              0.7777777777777778,
              "#fb9f3a"
             ],
             [
              0.8888888888888888,
              "#fdca26"
             ],
             [
              1,
              "#f0f921"
             ]
            ],
            "type": "contour"
           }
          ],
          "contourcarpet": [
           {
            "colorbar": {
             "outlinewidth": 0,
             "ticks": ""
            },
            "type": "contourcarpet"
           }
          ],
          "heatmap": [
           {
            "colorbar": {
             "outlinewidth": 0,
             "ticks": ""
            },
            "colorscale": [
             [
              0,
              "#0d0887"
             ],
             [
              0.1111111111111111,
              "#46039f"
             ],
             [
              0.2222222222222222,
              "#7201a8"
             ],
             [
              0.3333333333333333,
              "#9c179e"
             ],
             [
              0.4444444444444444,
              "#bd3786"
             ],
             [
              0.5555555555555556,
              "#d8576b"
             ],
             [
              0.6666666666666666,
              "#ed7953"
             ],
             [
              0.7777777777777778,
              "#fb9f3a"
             ],
             [
              0.8888888888888888,
              "#fdca26"
             ],
             [
              1,
              "#f0f921"
             ]
            ],
            "type": "heatmap"
           }
          ],
          "heatmapgl": [
           {
            "colorbar": {
             "outlinewidth": 0,
             "ticks": ""
            },
            "colorscale": [
             [
              0,
              "#0d0887"
             ],
             [
              0.1111111111111111,
              "#46039f"
             ],
             [
              0.2222222222222222,
              "#7201a8"
             ],
             [
              0.3333333333333333,
              "#9c179e"
             ],
             [
              0.4444444444444444,
              "#bd3786"
             ],
             [
              0.5555555555555556,
              "#d8576b"
             ],
             [
              0.6666666666666666,
              "#ed7953"
             ],
             [
              0.7777777777777778,
              "#fb9f3a"
             ],
             [
              0.8888888888888888,
              "#fdca26"
             ],
             [
              1,
              "#f0f921"
             ]
            ],
            "type": "heatmapgl"
           }
          ],
          "histogram": [
           {
            "marker": {
             "pattern": {
              "fillmode": "overlay",
              "size": 10,
              "solidity": 0.2
             }
            },
            "type": "histogram"
           }
          ],
          "histogram2d": [
           {
            "colorbar": {
             "outlinewidth": 0,
             "ticks": ""
            },
            "colorscale": [
             [
              0,
              "#0d0887"
             ],
             [
              0.1111111111111111,
              "#46039f"
             ],
             [
              0.2222222222222222,
              "#7201a8"
             ],
             [
              0.3333333333333333,
              "#9c179e"
             ],
             [
              0.4444444444444444,
              "#bd3786"
             ],
             [
              0.5555555555555556,
              "#d8576b"
             ],
             [
              0.6666666666666666,
              "#ed7953"
             ],
             [
              0.7777777777777778,
              "#fb9f3a"
             ],
             [
              0.8888888888888888,
              "#fdca26"
             ],
             [
              1,
              "#f0f921"
             ]
            ],
            "type": "histogram2d"
           }
          ],
          "histogram2dcontour": [
           {
            "colorbar": {
             "outlinewidth": 0,
             "ticks": ""
            },
            "colorscale": [
             [
              0,
              "#0d0887"
             ],
             [
              0.1111111111111111,
              "#46039f"
             ],
             [
              0.2222222222222222,
              "#7201a8"
             ],
             [
              0.3333333333333333,
              "#9c179e"
             ],
             [
              0.4444444444444444,
              "#bd3786"
             ],
             [
              0.5555555555555556,
              "#d8576b"
             ],
             [
              0.6666666666666666,
              "#ed7953"
             ],
             [
              0.7777777777777778,
              "#fb9f3a"
             ],
             [
              0.8888888888888888,
              "#fdca26"
             ],
             [
              1,
              "#f0f921"
             ]
            ],
            "type": "histogram2dcontour"
           }
          ],
          "mesh3d": [
           {
            "colorbar": {
             "outlinewidth": 0,
             "ticks": ""
            },
            "type": "mesh3d"
           }
          ],
          "parcoords": [
           {
            "line": {
             "colorbar": {
              "outlinewidth": 0,
              "ticks": ""
             }
            },
            "type": "parcoords"
           }
          ],
          "pie": [
           {
            "automargin": true,
            "type": "pie"
           }
          ],
          "scatter": [
           {
            "fillpattern": {
             "fillmode": "overlay",
             "size": 10,
             "solidity": 0.2
            },
            "type": "scatter"
           }
          ],
          "scatter3d": [
           {
            "line": {
             "colorbar": {
              "outlinewidth": 0,
              "ticks": ""
             }
            },
            "marker": {
             "colorbar": {
              "outlinewidth": 0,
              "ticks": ""
             }
            },
            "type": "scatter3d"
           }
          ],
          "scattercarpet": [
           {
            "marker": {
             "colorbar": {
              "outlinewidth": 0,
              "ticks": ""
             }
            },
            "type": "scattercarpet"
           }
          ],
          "scattergeo": [
           {
            "marker": {
             "colorbar": {
              "outlinewidth": 0,
              "ticks": ""
             }
            },
            "type": "scattergeo"
           }
          ],
          "scattergl": [
           {
            "marker": {
             "colorbar": {
              "outlinewidth": 0,
              "ticks": ""
             }
            },
            "type": "scattergl"
           }
          ],
          "scattermapbox": [
           {
            "marker": {
             "colorbar": {
              "outlinewidth": 0,
              "ticks": ""
             }
            },
            "type": "scattermapbox"
           }
          ],
          "scatterpolar": [
           {
            "marker": {
             "colorbar": {
              "outlinewidth": 0,
              "ticks": ""
             }
            },
            "type": "scatterpolar"
           }
          ],
          "scatterpolargl": [
           {
            "marker": {
             "colorbar": {
              "outlinewidth": 0,
              "ticks": ""
             }
            },
            "type": "scatterpolargl"
           }
          ],
          "scatterternary": [
           {
            "marker": {
             "colorbar": {
              "outlinewidth": 0,
              "ticks": ""
             }
            },
            "type": "scatterternary"
           }
          ],
          "surface": [
           {
            "colorbar": {
             "outlinewidth": 0,
             "ticks": ""
            },
            "colorscale": [
             [
              0,
              "#0d0887"
             ],
             [
              0.1111111111111111,
              "#46039f"
             ],
             [
              0.2222222222222222,
              "#7201a8"
             ],
             [
              0.3333333333333333,
              "#9c179e"
             ],
             [
              0.4444444444444444,
              "#bd3786"
             ],
             [
              0.5555555555555556,
              "#d8576b"
             ],
             [
              0.6666666666666666,
              "#ed7953"
             ],
             [
              0.7777777777777778,
              "#fb9f3a"
             ],
             [
              0.8888888888888888,
              "#fdca26"
             ],
             [
              1,
              "#f0f921"
             ]
            ],
            "type": "surface"
           }
          ],
          "table": [
           {
            "cells": {
             "fill": {
              "color": "#EBF0F8"
             },
             "line": {
              "color": "white"
             }
            },
            "header": {
             "fill": {
              "color": "#C8D4E3"
             },
             "line": {
              "color": "white"
             }
            },
            "type": "table"
           }
          ]
         },
         "layout": {
          "annotationdefaults": {
           "arrowcolor": "#2a3f5f",
           "arrowhead": 0,
           "arrowwidth": 1
          },
          "autotypenumbers": "strict",
          "coloraxis": {
           "colorbar": {
            "outlinewidth": 0,
            "ticks": ""
           }
          },
          "colorscale": {
           "diverging": [
            [
             0,
             "#8e0152"
            ],
            [
             0.1,
             "#c51b7d"
            ],
            [
             0.2,
             "#de77ae"
            ],
            [
             0.3,
             "#f1b6da"
            ],
            [
             0.4,
             "#fde0ef"
            ],
            [
             0.5,
             "#f7f7f7"
            ],
            [
             0.6,
             "#e6f5d0"
            ],
            [
             0.7,
             "#b8e186"
            ],
            [
             0.8,
             "#7fbc41"
            ],
            [
             0.9,
             "#4d9221"
            ],
            [
             1,
             "#276419"
            ]
           ],
           "sequential": [
            [
             0,
             "#0d0887"
            ],
            [
             0.1111111111111111,
             "#46039f"
            ],
            [
             0.2222222222222222,
             "#7201a8"
            ],
            [
             0.3333333333333333,
             "#9c179e"
            ],
            [
             0.4444444444444444,
             "#bd3786"
            ],
            [
             0.5555555555555556,
             "#d8576b"
            ],
            [
             0.6666666666666666,
             "#ed7953"
            ],
            [
             0.7777777777777778,
             "#fb9f3a"
            ],
            [
             0.8888888888888888,
             "#fdca26"
            ],
            [
             1,
             "#f0f921"
            ]
           ],
           "sequentialminus": [
            [
             0,
             "#0d0887"
            ],
            [
             0.1111111111111111,
             "#46039f"
            ],
            [
             0.2222222222222222,
             "#7201a8"
            ],
            [
             0.3333333333333333,
             "#9c179e"
            ],
            [
             0.4444444444444444,
             "#bd3786"
            ],
            [
             0.5555555555555556,
             "#d8576b"
            ],
            [
             0.6666666666666666,
             "#ed7953"
            ],
            [
             0.7777777777777778,
             "#fb9f3a"
            ],
            [
             0.8888888888888888,
             "#fdca26"
            ],
            [
             1,
             "#f0f921"
            ]
           ]
          },
          "colorway": [
           "#636efa",
           "#EF553B",
           "#00cc96",
           "#ab63fa",
           "#FFA15A",
           "#19d3f3",
           "#FF6692",
           "#B6E880",
           "#FF97FF",
           "#FECB52"
          ],
          "font": {
           "color": "#2a3f5f"
          },
          "geo": {
           "bgcolor": "white",
           "lakecolor": "white",
           "landcolor": "#E5ECF6",
           "showlakes": true,
           "showland": true,
           "subunitcolor": "white"
          },
          "hoverlabel": {
           "align": "left"
          },
          "hovermode": "closest",
          "mapbox": {
           "style": "light"
          },
          "paper_bgcolor": "white",
          "plot_bgcolor": "#E5ECF6",
          "polar": {
           "angularaxis": {
            "gridcolor": "white",
            "linecolor": "white",
            "ticks": ""
           },
           "bgcolor": "#E5ECF6",
           "radialaxis": {
            "gridcolor": "white",
            "linecolor": "white",
            "ticks": ""
           }
          },
          "scene": {
           "xaxis": {
            "backgroundcolor": "#E5ECF6",
            "gridcolor": "white",
            "gridwidth": 2,
            "linecolor": "white",
            "showbackground": true,
            "ticks": "",
            "zerolinecolor": "white"
           },
           "yaxis": {
            "backgroundcolor": "#E5ECF6",
            "gridcolor": "white",
            "gridwidth": 2,
            "linecolor": "white",
            "showbackground": true,
            "ticks": "",
            "zerolinecolor": "white"
           },
           "zaxis": {
            "backgroundcolor": "#E5ECF6",
            "gridcolor": "white",
            "gridwidth": 2,
            "linecolor": "white",
            "showbackground": true,
            "ticks": "",
            "zerolinecolor": "white"
           }
          },
          "shapedefaults": {
           "line": {
            "color": "#2a3f5f"
           }
          },
          "ternary": {
           "aaxis": {
            "gridcolor": "white",
            "linecolor": "white",
            "ticks": ""
           },
           "baxis": {
            "gridcolor": "white",
            "linecolor": "white",
            "ticks": ""
           },
           "bgcolor": "#E5ECF6",
           "caxis": {
            "gridcolor": "white",
            "linecolor": "white",
            "ticks": ""
           }
          },
          "title": {
           "x": 0.05
          },
          "xaxis": {
           "automargin": true,
           "gridcolor": "white",
           "linecolor": "white",
           "ticks": "",
           "title": {
            "standoff": 15
           },
           "zerolinecolor": "white",
           "zerolinewidth": 2
          },
          "yaxis": {
           "automargin": true,
           "gridcolor": "white",
           "linecolor": "white",
           "ticks": "",
           "title": {
            "standoff": 15
           },
           "zerolinecolor": "white",
           "zerolinewidth": 2
          }
         }
        },
        "title": {
         "text": "Deaths per million by Country"
        }
       }
      }
     },
     "metadata": {},
     "output_type": "display_data"
    }
   ],
   "source": [
    "import plotly.express as px\n",
    "import pandas as pd\n",
    "import seaborn as sns\n",
    "\n",
    "file_path = 'GDP-data.csv'\n",
    "GDPdata = pd.read_csv(file_path, skiprows=4)\n",
    "file_path = 'owid-covid-data.csv'\n",
    "CovidData = pd.read_csv(file_path)\n",
    "\n",
    "GDPdata = GDPdata.rename(columns={'Country Code': 'iso_code'})\n",
    "\n",
    "\n",
    "CovidData['date'] = pd.to_datetime(CovidData['date'])\n",
    "CovidData = CovidData[CovidData['date'] == '2020-12-31']\n",
    "\n",
    "# Join de dataframes op de Date kolom\n",
    "df = pd.merge(GDPdata, CovidData, on='iso_code', how='inner')\n",
    "\n",
    "fig1 = px.choropleth(\n",
    "    df, \n",
    "    locations=\"iso_code\",\n",
    "    color=\"total_cases_per_million\",\n",
    "    hover_name=\"Country Name\",\n",
    "    color_continuous_scale=px.colors.sequential.Plasma,\n",
    "    title=\"Cases per million by Country\"\n",
    ")\n",
    "\n",
    "fig1.update_layout(\n",
    "    geo=dict(\n",
    "        showframe=False,\n",
    "        showcoastlines=False,\n",
    "        projection_type='equirectangular'\n",
    "    ),\n",
    "    height=600\n",
    ")\n",
    "\n",
    "fig1.show()\n",
    "\n",
    "fig2 = px.choropleth(\n",
    "    df, \n",
    "    locations=\"iso_code\",\n",
    "    color=\"total_deaths_per_million\",\n",
    "    hover_name=\"Country Name\",\n",
    "    color_continuous_scale=px.colors.sequential.Plasma,\n",
    "    title=\"Deaths per million by Country\"\n",
    ")\n",
    "\n",
    "fig2.update_layout(\n",
    "    geo=dict(\n",
    "        showframe=False,\n",
    "        showcoastlines=False,\n",
    "        projection_type='equirectangular'\n",
    "    ),\n",
    "    height=600\n",
    ")\n",
    "\n",
    "fig2.show()"
   ]
  },
  {
   "cell_type": "code",
   "execution_count": 2,
   "metadata": {},
   "outputs": [
    {
     "name": "stdout",
     "output_type": "stream",
     "text": [
      "0.777385518505325\n"
     ]
    },
    {
     "data": {
      "application/vnd.plotly.v1+json": {
       "config": {
        "plotlyServerURL": "https://plot.ly"
       },
       "data": [
        {
         "hovertemplate": "<b>%{hovertext}</b><br><br>Total Cases per Million=%{x}<br>Total Deaths per Million=%{y}<extra></extra>",
         "hovertext": [
          "Aruba",
          "Afghanistan",
          "Angola",
          "Albania",
          "Andorra",
          "United Arab Emirates",
          "Argentina",
          "Armenia",
          "Antigua and Barbuda",
          "Australia",
          "Austria",
          "Azerbaijan",
          "Burundi",
          "Belgium",
          "Benin",
          "Burkina Faso",
          "Bangladesh",
          "Bulgaria",
          "Bahrain",
          "Bahamas, The",
          "Bosnia and Herzegovina",
          "Belarus",
          "Belize",
          "Bermuda",
          "Bolivia",
          "Brazil",
          "Barbados",
          "Brunei Darussalam",
          "Botswana",
          "Central African Republic",
          "Canada",
          "Switzerland",
          "Chile",
          "China",
          "Cote d'Ivoire",
          "Cameroon",
          "Congo, Dem. Rep.",
          "Congo, Rep.",
          "Colombia",
          "Comoros",
          "Cabo Verde",
          "Costa Rica",
          "Cuba",
          "Curacao",
          "Cayman Islands",
          "Cyprus",
          "Czechia",
          "Germany",
          "Djibouti",
          "Denmark",
          "Dominican Republic",
          "Algeria",
          "Ecuador",
          "Egypt, Arab Rep.",
          "Eritrea",
          "Spain",
          "Estonia",
          "Ethiopia",
          "Finland",
          "Fiji",
          "France",
          "Gabon",
          "United Kingdom",
          "Georgia",
          "Ghana",
          "Gibraltar",
          "Guinea",
          "Gambia, The",
          "Guinea-Bissau",
          "Equatorial Guinea",
          "Greece",
          "Guatemala",
          "Guam",
          "Guyana",
          "Honduras",
          "Croatia",
          "Haiti",
          "Hungary",
          "Indonesia",
          "Isle of Man",
          "India",
          "Ireland",
          "Iran, Islamic Rep.",
          "Iraq",
          "Iceland",
          "Israel",
          "Italy",
          "Jamaica",
          "Jordan",
          "Japan",
          "Kazakhstan",
          "Kenya",
          "Korea, Rep.",
          "Kuwait",
          "Lebanon",
          "Liberia",
          "Libya",
          "St. Lucia",
          "Liechtenstein",
          "Sri Lanka",
          "Lesotho",
          "Lithuania",
          "Luxembourg",
          "Latvia",
          "St. Martin (French part)",
          "Morocco",
          "Monaco",
          "Moldova",
          "Madagascar",
          "Maldives",
          "Mexico",
          "North Macedonia",
          "Mali",
          "Malta",
          "Myanmar",
          "Montenegro",
          "Mongolia",
          "Northern Mariana Islands",
          "Mozambique",
          "Mauritania",
          "Mauritius",
          "Malawi",
          "Malaysia",
          "Namibia",
          "Niger",
          "Nigeria",
          "Nicaragua",
          "Netherlands",
          "Norway",
          "Nepal",
          "New Zealand",
          "Oman",
          "Pakistan",
          "Panama",
          "Philippines",
          "Papua New Guinea",
          "Poland",
          "Puerto Rico",
          "Portugal",
          "Paraguay",
          "West Bank and Gaza",
          "French Polynesia",
          "Qatar",
          "Romania",
          "Russian Federation",
          "Rwanda",
          "Saudi Arabia",
          "Sudan",
          "Senegal",
          "Singapore",
          "Sierra Leone",
          "El Salvador",
          "San Marino",
          "Somalia",
          "Serbia",
          "South Sudan",
          "Sao Tome and Principe",
          "Suriname",
          "Slovak Republic",
          "Slovenia",
          "Sweden",
          "Eswatini",
          "Sint Maarten (Dutch part)",
          "Syrian Arab Republic",
          "Turks and Caicos Islands",
          "Chad",
          "Togo",
          "Thailand",
          "Tajikistan",
          "Trinidad and Tobago",
          "Tunisia",
          "Turkiye",
          "Tanzania",
          "Uganda",
          "Ukraine",
          "Uruguay",
          "United States",
          "Venezuela, RB",
          "British Virgin Islands",
          "Virgin Islands (U.S.)",
          "Viet Nam",
          "Yemen, Rep.",
          "South Africa",
          "Zambia",
          "Zimbabwe"
         ],
         "legendgroup": "",
         "marker": {
          "color": "#636efa",
          "symbol": "circle"
         },
         "mode": "markers",
         "name": "",
         "orientation": "v",
         "showlegend": false,
         "textposition": "top center",
         "type": "scatter",
         "x": [
          49108.107,
          1260.626,
          481.862,
          19484.097,
          97766.867,
          21278.367,
          35814.028,
          56765.182,
          1652.945,
          1080.932,
          38562.278,
          20444.333,
          62.764,
          54801.323,
          240.023,
          279.795,
          2974.232,
          29104.292,
          62162.546,
          18995.632,
          33811.345,
          19394.112,
          25883.021,
          8737.365,
          12564.51,
          34594.022,
          1232.043,
          338.529,
          5280.766,
          1042.095,
          14022.895,
          49804.982,
          30524.488,
          67.554,
          784.111,
          941.337,
          170.053,
          1070.107,
          30356.366,
          789.93,
          19721.425,
          31667.09,
          984.464,
          21190.231,
          4627.339,
          21642.688,
          64328.439,
          19913.412,
          5179.101,
          25698.8,
          14778.043,
          2179.287,
          11625.686,
          1183.124,
          270.627,
          40361.737,
          23400.831,
          992.163,
          6867.669,
          49.475,
          36181.033,
          3975.308,
          34727.743,
          59183.284,
          1633.445,
          46699.513,
          986.626,
          1401.333,
          1162.15,
          3126.127,
          13451.36,
          7575.188,
          41296.287,
          7776.419,
          11373.585,
          50693.226,
          849.892,
          31709.678,
          2589.334,
          4459.744,
          7188.854,
          16956.832,
          13494.696,
          13277.089,
          15400.788,
          42237.803,
          34540.469,
          4486.129,
          25372.955,
          1753.199,
          10163.008,
          1773.967,
          1097.252,
          35008.899,
          30870.656,
          343.411,
          14334.714,
          1695.65,
          53055.52,
          1880.438,
          1117.604,
          48805.88,
          59269.519,
          19630.898,
          30990.697,
          11494.535,
          17675.591,
          43078.613,
          598.209,
          26048.209,
          11398.957,
          39069.433,
          290.967,
          23656.789,
          2249.678,
          56148.957,
          329.864,
          2460.967,
          550.872,
          2853.797,
          405.547,
          310.85,
          3061.446,
          8540.24,
          118.628,
          382.427,
          689.368,
          44021.699,
          8693.63,
          8451.764,
          345.015,
          28033.564,
          1990.808,
          51413.357,
          4058.559,
          76.903,
          31610.97,
          25305.22,
          36751.948,
          15321.03,
          28292.924,
          54033.406,
          53022.655,
          31219.877,
          21077.867,
          567.407,
          9944.457,
          526.814,
          1069.676,
          10381.191,
          296.198,
          7041.703,
          68061.739,
          266.515,
          47058.836,
          321.172,
          4459.24,
          9513.855,
          29684.475,
          54443.183,
          39635.526,
          6961.088,
          31001.086,
          494.096,
          18457.77,
          112.056,
          401.754,
          85.652,
          1361.93,
          4635.402,
          10539.72,
          24998.146,
          7.771,
          715.668,
          24888.277,
          4630.133,
          55841.006,
          3943.332,
          2968.211,
          19893.646,
          14.666,
          62.202,
          16611.229,
          982.682,
          794.275
         ],
         "xaxis": "x",
         "y": [
          441.485,
          52.469,
          11.239,
          398.97,
          1039.54,
          69.377,
          1043.873,
          995.514,
          53.321,
          35.145,
          788.513,
          233.248,
          0.155,
          1662.159,
          3.295,
          3.44,
          43.532,
          1050.287,
          238.413,
          412.206,
          1213.225,
          144.311,
          562.567,
          140.172,
          743.04,
          884.701,
          24.854,
          6.681,
          14.827,
          11.292,
          383.156,
          821.695,
          836.779,
          3.35,
          4.758,
          16.049,
          5.848,
          16.749,
          803.678,
          8.365,
          188.819,
          405.919,
          12.576,
          62.77,
          29.103,
          127.231,
          1083.191,
          563.861,
          54.423,
          197.033,
          214.092,
          60.619,
          777.179,
          66.24,
          0.271,
          1134.684,
          214.168,
          15.408,
          111.537,
          2.151,
          983.093,
          26.789,
          1340.193,
          634.817,
          10.007,
          183.615,
          5.772,
          45.455,
          21.372,
          51.346,
          450.844,
          266.926,
          704.377,
          200.315,
          293.4,
          896.446,
          20.285,
          907.668,
          77.085,
          414.035,
          104.167,
          443.948,
          616.303,
          286.924,
          75.087,
          343.105,
          1213.246,
          103.983,
          330.413,
          25.921,
          137.592,
          30.633,
          15.594,
          217.621,
          251.196,
          16.784,
          207.711,
          27.798,
          990.98,
          8.749,
          27.756,
          587.988,
          440.086,
          341.501,
          377.169,
          192.322,
          82.212,
          904.371,
          8.814,
          91.638,
          1128.513,
          1383.259,
          11.065,
          425.657,
          48.007,
          865.915,
          0.294,
          40.344,
          4.823,
          71.155,
          7.695,
          9.213,
          13.289,
          75.963,
          3.854,
          5.706,
          23.603,
          656.968,
          77.471,
          89.041,
          4.821,
          325.809,
          41.624,
          851.975,
          78.462,
          0.887,
          682.613,
          501.167,
          651.844,
          317.664,
          267.806,
          352.605,
          90.534,
          768.492,
          378.528,
          5.299,
          169.629,
          32.427,
          22.349,
          5.145,
          8.831,
          204.691,
          1691.897,
          7.217,
          434.109,
          5.773,
          74.76,
          192.542,
          314.169,
          1359.063,
          883.751,
          135.643,
          588.342,
          30.237,
          131.216,
          5.868,
          7.685,
          0.837,
          9.043,
          81.644,
          358.203,
          229.947,
          0.321,
          6.307,
          384.819,
          41.779,
          1013.687,
          35.687,
          31.916,
          231.205,
          0.356,
          18.014,
          442.8,
          19.083,
          20.894
         ],
         "yaxis": "y"
        },
        {
         "hovertemplate": "<b>OLS trendline</b><br>total_deaths_per_million = 0.0155746 * total_cases_per_million + 37.5034<br>R<sup>2</sup>=0.604328<br><br>Total Cases per Million=%{x}<br>Total Deaths per Million=%{y} <b>(trend)</b><extra></extra>",
         "legendgroup": "",
         "marker": {
          "color": "#636efa",
          "symbol": "circle"
         },
         "mode": "lines",
         "name": "",
         "showlegend": false,
         "textposition": "top center",
         "type": "scatter",
         "x": [
          7.771,
          14.666,
          49.475,
          62.202,
          62.764,
          67.554,
          76.903,
          85.652,
          112.056,
          118.628,
          170.053,
          240.023,
          266.515,
          270.627,
          279.795,
          290.967,
          296.198,
          310.85,
          321.172,
          329.864,
          338.529,
          343.411,
          345.015,
          382.427,
          401.754,
          405.547,
          481.862,
          494.096,
          526.814,
          550.872,
          567.407,
          598.209,
          689.368,
          715.668,
          784.111,
          789.93,
          794.275,
          849.892,
          941.337,
          982.682,
          984.464,
          986.626,
          992.163,
          1042.095,
          1069.676,
          1070.107,
          1080.932,
          1097.252,
          1117.604,
          1162.15,
          1183.124,
          1232.043,
          1260.626,
          1361.93,
          1401.333,
          1633.445,
          1652.945,
          1695.65,
          1753.199,
          1773.967,
          1880.438,
          1990.808,
          2179.287,
          2249.678,
          2460.967,
          2589.334,
          2853.797,
          2968.211,
          2974.232,
          3061.446,
          3126.127,
          3943.332,
          3975.308,
          4058.559,
          4459.24,
          4459.744,
          4486.129,
          4627.339,
          4630.133,
          4635.402,
          5179.101,
          5280.766,
          6867.669,
          6961.088,
          7041.703,
          7188.854,
          7575.188,
          7776.419,
          8451.764,
          8540.24,
          8693.63,
          8737.365,
          9513.855,
          9944.457,
          10163.008,
          10381.191,
          10539.72,
          11373.585,
          11398.957,
          11494.535,
          11625.686,
          12564.51,
          13277.089,
          13451.36,
          13494.696,
          14022.895,
          14334.714,
          14778.043,
          15321.03,
          15400.788,
          16611.229,
          16956.832,
          17675.591,
          18457.77,
          18995.632,
          19394.112,
          19484.097,
          19630.898,
          19721.425,
          19893.646,
          19913.412,
          20444.333,
          21077.867,
          21190.231,
          21278.367,
          21642.688,
          23400.831,
          23656.789,
          24888.277,
          24998.146,
          25305.22,
          25372.955,
          25698.8,
          25883.021,
          26048.209,
          28033.564,
          28292.924,
          29104.292,
          29684.475,
          30356.366,
          30524.488,
          30870.656,
          30990.697,
          31001.086,
          31219.877,
          31610.97,
          31667.09,
          31709.678,
          33811.345,
          34540.469,
          34594.022,
          34727.743,
          35008.899,
          35814.028,
          36181.033,
          36751.948,
          38562.278,
          39069.433,
          39635.526,
          40361.737,
          41296.287,
          42237.803,
          43078.613,
          44021.699,
          46699.513,
          47058.836,
          48805.88,
          49108.107,
          49804.982,
          50693.226,
          51413.357,
          53022.655,
          53055.52,
          54033.406,
          54443.183,
          54801.323,
          55841.006,
          56148.957,
          56765.182,
          59183.284,
          59269.519,
          62162.546,
          64328.439,
          68061.739,
          97766.867
         ],
         "xaxis": "x",
         "y": [
          37.62443092141615,
          37.731817789033975,
          38.27395404355303,
          38.47217197889344,
          38.4809249041438,
          38.555527238573006,
          38.701134174810726,
          38.83739635099467,
          39.24862809176061,
          39.35098436354949,
          40.15190817315743,
          41.241662941427094,
          41.65426524700091,
          41.718308002569366,
          41.861095936190864,
          42.035095368391936,
          42.116566101460656,
          42.344765141973554,
          42.505526164098455,
          42.6409005880773,
          42.77585449785373,
          42.85188969549118,
          42.876871354034904,
          43.45954829258721,
          43.760558588519004,
          43.81963304665888,
          45.00820865249709,
          45.19874830999331,
          45.70831807572501,
          46.08301180468073,
          46.34053781716235,
          46.82026664912236,
          48.240031618690665,
          48.64964360104728,
          49.715615954980116,
          49.80624455290153,
          49.87391619029086,
          50.74012872347443,
          52.16434802866836,
          52.80827986937308,
          52.83603380673276,
          52.86970609212648,
          52.95594265282262,
          53.73361358449678,
          54.16317662956818,
          54.169889282206796,
          54.338484328176776,
          54.592661801639125,
          54.90963606266277,
          55.603422198254314,
          55.930083860533685,
          56.69197772231708,
          57.13714651667826,
          58.71491580415561,
          59.32860177148632,
          62.94365334748471,
          63.24735804923201,
          63.912471346058595,
          64.80877400661528,
          65.1322273012762,
          66.79047054741653,
          68.50943915930624,
          71.4449242095949,
          72.5412358845023,
          75.83197756283485,
          77.83124225253718,
          81.9501477160344,
          83.73210001068645,
          83.82587467782598,
          85.18419785004079,
          86.19157855843653,
          98.91921962466222,
          99.41723303712743,
          100.71383406918713,
          106.95428040769016,
          106.96213000613533,
          107.37306582949955,
          109.57235510815268,
          109.61587054080303,
          109.69793310867517,
          118.16582760279333,
          119.74921932090302,
          144.4645989268975,
          145.91956249266832,
          147.17510887889185,
          149.46692685667733,
          155.4839244076948,
          158.6180167583261,
          169.1362450558404,
          170.51422337336828,
          172.9032112811128,
          173.58436641603168,
          185.67788763960908,
          192.3843415873932,
          195.78818601157647,
          199.1862989829268,
          201.65532476053176,
          214.64243866425025,
          215.03759741772373,
          216.526186545088,
          218.56881092143976,
          233.19061927596314,
          244.28875223321378,
          247.00295336542936,
          247.6778942349125,
          255.90438242764176,
          260.76083865298233,
          267.6655105361068,
          276.1223159149612,
          277.3645148689079,
          296.2166493759695,
          301.59927789073726,
          312.7936618765417,
          324.9757870000289,
          333.352772553424,
          339.55893919712986,
          340.960419586193,
          343.24678645394704,
          344.6567082762587,
          347.3389814782906,
          347.6468290236617,
          355.9157112778349,
          365.7827499710027,
          367.5327743354711,
          368.90545728896853,
          374.57961116821355,
          401.961985293552,
          405.94842878328717,
          425.1283618984346,
          426.8395276356795,
          431.6220823835949,
          432.6770279206643,
          437.75193348686156,
          440.6211018899687,
          443.1938389295704,
          474.11494909046814,
          478.15437736970813,
          490.79110949521083,
          499.8272276989981,
          510.29166132780296,
          512.9100942440675,
          518.3015224078858,
          520.1711129772423,
          520.3329174975731,
          523.7404998257779,
          529.8316168986219,
          530.7056634556504,
          531.3689545242664,
          564.1015775707865,
          575.4573922865196,
          576.2914588451182,
          578.3741099437003,
          582.7530022064933,
          595.2925644020369,
          601.0085205079224,
          609.9002933180792,
          638.0954590982939,
          645.9941954067375,
          654.8108674952623,
          666.1213134009346,
          680.6765559146749,
          695.3402910926395,
          708.4355705939803,
          723.1237578940855,
          764.8296400584311,
          770.4259520864283,
          797.6354637253721,
          802.3425283866534,
          813.1960778240968,
          827.030122906088,
          838.2458752432153,
          863.3100480182164,
          863.8219072501613,
          879.0520906333849,
          885.4342035343029,
          891.012090810394,
          907.2047377553549,
          912.0009514275489,
          921.5984093677657,
          959.2593809936399,
          960.602456632367,
          1005.6601952057968,
          1039.3931125176716,
          1097.537767032194,
          1560.183256242723
         ],
         "yaxis": "y"
        }
       ],
       "layout": {
        "height": 600,
        "legend": {
         "tracegroupgap": 0
        },
        "template": {
         "data": {
          "bar": [
           {
            "error_x": {
             "color": "#2a3f5f"
            },
            "error_y": {
             "color": "#2a3f5f"
            },
            "marker": {
             "line": {
              "color": "#E5ECF6",
              "width": 0.5
             },
             "pattern": {
              "fillmode": "overlay",
              "size": 10,
              "solidity": 0.2
             }
            },
            "type": "bar"
           }
          ],
          "barpolar": [
           {
            "marker": {
             "line": {
              "color": "#E5ECF6",
              "width": 0.5
             },
             "pattern": {
              "fillmode": "overlay",
              "size": 10,
              "solidity": 0.2
             }
            },
            "type": "barpolar"
           }
          ],
          "carpet": [
           {
            "aaxis": {
             "endlinecolor": "#2a3f5f",
             "gridcolor": "white",
             "linecolor": "white",
             "minorgridcolor": "white",
             "startlinecolor": "#2a3f5f"
            },
            "baxis": {
             "endlinecolor": "#2a3f5f",
             "gridcolor": "white",
             "linecolor": "white",
             "minorgridcolor": "white",
             "startlinecolor": "#2a3f5f"
            },
            "type": "carpet"
           }
          ],
          "choropleth": [
           {
            "colorbar": {
             "outlinewidth": 0,
             "ticks": ""
            },
            "type": "choropleth"
           }
          ],
          "contour": [
           {
            "colorbar": {
             "outlinewidth": 0,
             "ticks": ""
            },
            "colorscale": [
             [
              0,
              "#0d0887"
             ],
             [
              0.1111111111111111,
              "#46039f"
             ],
             [
              0.2222222222222222,
              "#7201a8"
             ],
             [
              0.3333333333333333,
              "#9c179e"
             ],
             [
              0.4444444444444444,
              "#bd3786"
             ],
             [
              0.5555555555555556,
              "#d8576b"
             ],
             [
              0.6666666666666666,
              "#ed7953"
             ],
             [
              0.7777777777777778,
              "#fb9f3a"
             ],
             [
              0.8888888888888888,
              "#fdca26"
             ],
             [
              1,
              "#f0f921"
             ]
            ],
            "type": "contour"
           }
          ],
          "contourcarpet": [
           {
            "colorbar": {
             "outlinewidth": 0,
             "ticks": ""
            },
            "type": "contourcarpet"
           }
          ],
          "heatmap": [
           {
            "colorbar": {
             "outlinewidth": 0,
             "ticks": ""
            },
            "colorscale": [
             [
              0,
              "#0d0887"
             ],
             [
              0.1111111111111111,
              "#46039f"
             ],
             [
              0.2222222222222222,
              "#7201a8"
             ],
             [
              0.3333333333333333,
              "#9c179e"
             ],
             [
              0.4444444444444444,
              "#bd3786"
             ],
             [
              0.5555555555555556,
              "#d8576b"
             ],
             [
              0.6666666666666666,
              "#ed7953"
             ],
             [
              0.7777777777777778,
              "#fb9f3a"
             ],
             [
              0.8888888888888888,
              "#fdca26"
             ],
             [
              1,
              "#f0f921"
             ]
            ],
            "type": "heatmap"
           }
          ],
          "heatmapgl": [
           {
            "colorbar": {
             "outlinewidth": 0,
             "ticks": ""
            },
            "colorscale": [
             [
              0,
              "#0d0887"
             ],
             [
              0.1111111111111111,
              "#46039f"
             ],
             [
              0.2222222222222222,
              "#7201a8"
             ],
             [
              0.3333333333333333,
              "#9c179e"
             ],
             [
              0.4444444444444444,
              "#bd3786"
             ],
             [
              0.5555555555555556,
              "#d8576b"
             ],
             [
              0.6666666666666666,
              "#ed7953"
             ],
             [
              0.7777777777777778,
              "#fb9f3a"
             ],
             [
              0.8888888888888888,
              "#fdca26"
             ],
             [
              1,
              "#f0f921"
             ]
            ],
            "type": "heatmapgl"
           }
          ],
          "histogram": [
           {
            "marker": {
             "pattern": {
              "fillmode": "overlay",
              "size": 10,
              "solidity": 0.2
             }
            },
            "type": "histogram"
           }
          ],
          "histogram2d": [
           {
            "colorbar": {
             "outlinewidth": 0,
             "ticks": ""
            },
            "colorscale": [
             [
              0,
              "#0d0887"
             ],
             [
              0.1111111111111111,
              "#46039f"
             ],
             [
              0.2222222222222222,
              "#7201a8"
             ],
             [
              0.3333333333333333,
              "#9c179e"
             ],
             [
              0.4444444444444444,
              "#bd3786"
             ],
             [
              0.5555555555555556,
              "#d8576b"
             ],
             [
              0.6666666666666666,
              "#ed7953"
             ],
             [
              0.7777777777777778,
              "#fb9f3a"
             ],
             [
              0.8888888888888888,
              "#fdca26"
             ],
             [
              1,
              "#f0f921"
             ]
            ],
            "type": "histogram2d"
           }
          ],
          "histogram2dcontour": [
           {
            "colorbar": {
             "outlinewidth": 0,
             "ticks": ""
            },
            "colorscale": [
             [
              0,
              "#0d0887"
             ],
             [
              0.1111111111111111,
              "#46039f"
             ],
             [
              0.2222222222222222,
              "#7201a8"
             ],
             [
              0.3333333333333333,
              "#9c179e"
             ],
             [
              0.4444444444444444,
              "#bd3786"
             ],
             [
              0.5555555555555556,
              "#d8576b"
             ],
             [
              0.6666666666666666,
              "#ed7953"
             ],
             [
              0.7777777777777778,
              "#fb9f3a"
             ],
             [
              0.8888888888888888,
              "#fdca26"
             ],
             [
              1,
              "#f0f921"
             ]
            ],
            "type": "histogram2dcontour"
           }
          ],
          "mesh3d": [
           {
            "colorbar": {
             "outlinewidth": 0,
             "ticks": ""
            },
            "type": "mesh3d"
           }
          ],
          "parcoords": [
           {
            "line": {
             "colorbar": {
              "outlinewidth": 0,
              "ticks": ""
             }
            },
            "type": "parcoords"
           }
          ],
          "pie": [
           {
            "automargin": true,
            "type": "pie"
           }
          ],
          "scatter": [
           {
            "fillpattern": {
             "fillmode": "overlay",
             "size": 10,
             "solidity": 0.2
            },
            "type": "scatter"
           }
          ],
          "scatter3d": [
           {
            "line": {
             "colorbar": {
              "outlinewidth": 0,
              "ticks": ""
             }
            },
            "marker": {
             "colorbar": {
              "outlinewidth": 0,
              "ticks": ""
             }
            },
            "type": "scatter3d"
           }
          ],
          "scattercarpet": [
           {
            "marker": {
             "colorbar": {
              "outlinewidth": 0,
              "ticks": ""
             }
            },
            "type": "scattercarpet"
           }
          ],
          "scattergeo": [
           {
            "marker": {
             "colorbar": {
              "outlinewidth": 0,
              "ticks": ""
             }
            },
            "type": "scattergeo"
           }
          ],
          "scattergl": [
           {
            "marker": {
             "colorbar": {
              "outlinewidth": 0,
              "ticks": ""
             }
            },
            "type": "scattergl"
           }
          ],
          "scattermapbox": [
           {
            "marker": {
             "colorbar": {
              "outlinewidth": 0,
              "ticks": ""
             }
            },
            "type": "scattermapbox"
           }
          ],
          "scatterpolar": [
           {
            "marker": {
             "colorbar": {
              "outlinewidth": 0,
              "ticks": ""
             }
            },
            "type": "scatterpolar"
           }
          ],
          "scatterpolargl": [
           {
            "marker": {
             "colorbar": {
              "outlinewidth": 0,
              "ticks": ""
             }
            },
            "type": "scatterpolargl"
           }
          ],
          "scatterternary": [
           {
            "marker": {
             "colorbar": {
              "outlinewidth": 0,
              "ticks": ""
             }
            },
            "type": "scatterternary"
           }
          ],
          "surface": [
           {
            "colorbar": {
             "outlinewidth": 0,
             "ticks": ""
            },
            "colorscale": [
             [
              0,
              "#0d0887"
             ],
             [
              0.1111111111111111,
              "#46039f"
             ],
             [
              0.2222222222222222,
              "#7201a8"
             ],
             [
              0.3333333333333333,
              "#9c179e"
             ],
             [
              0.4444444444444444,
              "#bd3786"
             ],
             [
              0.5555555555555556,
              "#d8576b"
             ],
             [
              0.6666666666666666,
              "#ed7953"
             ],
             [
              0.7777777777777778,
              "#fb9f3a"
             ],
             [
              0.8888888888888888,
              "#fdca26"
             ],
             [
              1,
              "#f0f921"
             ]
            ],
            "type": "surface"
           }
          ],
          "table": [
           {
            "cells": {
             "fill": {
              "color": "#EBF0F8"
             },
             "line": {
              "color": "white"
             }
            },
            "header": {
             "fill": {
              "color": "#C8D4E3"
             },
             "line": {
              "color": "white"
             }
            },
            "type": "table"
           }
          ]
         },
         "layout": {
          "annotationdefaults": {
           "arrowcolor": "#2a3f5f",
           "arrowhead": 0,
           "arrowwidth": 1
          },
          "autotypenumbers": "strict",
          "coloraxis": {
           "colorbar": {
            "outlinewidth": 0,
            "ticks": ""
           }
          },
          "colorscale": {
           "diverging": [
            [
             0,
             "#8e0152"
            ],
            [
             0.1,
             "#c51b7d"
            ],
            [
             0.2,
             "#de77ae"
            ],
            [
             0.3,
             "#f1b6da"
            ],
            [
             0.4,
             "#fde0ef"
            ],
            [
             0.5,
             "#f7f7f7"
            ],
            [
             0.6,
             "#e6f5d0"
            ],
            [
             0.7,
             "#b8e186"
            ],
            [
             0.8,
             "#7fbc41"
            ],
            [
             0.9,
             "#4d9221"
            ],
            [
             1,
             "#276419"
            ]
           ],
           "sequential": [
            [
             0,
             "#0d0887"
            ],
            [
             0.1111111111111111,
             "#46039f"
            ],
            [
             0.2222222222222222,
             "#7201a8"
            ],
            [
             0.3333333333333333,
             "#9c179e"
            ],
            [
             0.4444444444444444,
             "#bd3786"
            ],
            [
             0.5555555555555556,
             "#d8576b"
            ],
            [
             0.6666666666666666,
             "#ed7953"
            ],
            [
             0.7777777777777778,
             "#fb9f3a"
            ],
            [
             0.8888888888888888,
             "#fdca26"
            ],
            [
             1,
             "#f0f921"
            ]
           ],
           "sequentialminus": [
            [
             0,
             "#0d0887"
            ],
            [
             0.1111111111111111,
             "#46039f"
            ],
            [
             0.2222222222222222,
             "#7201a8"
            ],
            [
             0.3333333333333333,
             "#9c179e"
            ],
            [
             0.4444444444444444,
             "#bd3786"
            ],
            [
             0.5555555555555556,
             "#d8576b"
            ],
            [
             0.6666666666666666,
             "#ed7953"
            ],
            [
             0.7777777777777778,
             "#fb9f3a"
            ],
            [
             0.8888888888888888,
             "#fdca26"
            ],
            [
             1,
             "#f0f921"
            ]
           ]
          },
          "colorway": [
           "#636efa",
           "#EF553B",
           "#00cc96",
           "#ab63fa",
           "#FFA15A",
           "#19d3f3",
           "#FF6692",
           "#B6E880",
           "#FF97FF",
           "#FECB52"
          ],
          "font": {
           "color": "#2a3f5f"
          },
          "geo": {
           "bgcolor": "white",
           "lakecolor": "white",
           "landcolor": "#E5ECF6",
           "showlakes": true,
           "showland": true,
           "subunitcolor": "white"
          },
          "hoverlabel": {
           "align": "left"
          },
          "hovermode": "closest",
          "mapbox": {
           "style": "light"
          },
          "paper_bgcolor": "white",
          "plot_bgcolor": "#E5ECF6",
          "polar": {
           "angularaxis": {
            "gridcolor": "white",
            "linecolor": "white",
            "ticks": ""
           },
           "bgcolor": "#E5ECF6",
           "radialaxis": {
            "gridcolor": "white",
            "linecolor": "white",
            "ticks": ""
           }
          },
          "scene": {
           "xaxis": {
            "backgroundcolor": "#E5ECF6",
            "gridcolor": "white",
            "gridwidth": 2,
            "linecolor": "white",
            "showbackground": true,
            "ticks": "",
            "zerolinecolor": "white"
           },
           "yaxis": {
            "backgroundcolor": "#E5ECF6",
            "gridcolor": "white",
            "gridwidth": 2,
            "linecolor": "white",
            "showbackground": true,
            "ticks": "",
            "zerolinecolor": "white"
           },
           "zaxis": {
            "backgroundcolor": "#E5ECF6",
            "gridcolor": "white",
            "gridwidth": 2,
            "linecolor": "white",
            "showbackground": true,
            "ticks": "",
            "zerolinecolor": "white"
           }
          },
          "shapedefaults": {
           "line": {
            "color": "#2a3f5f"
           }
          },
          "ternary": {
           "aaxis": {
            "gridcolor": "white",
            "linecolor": "white",
            "ticks": ""
           },
           "baxis": {
            "gridcolor": "white",
            "linecolor": "white",
            "ticks": ""
           },
           "bgcolor": "#E5ECF6",
           "caxis": {
            "gridcolor": "white",
            "linecolor": "white",
            "ticks": ""
           }
          },
          "title": {
           "x": 0.05
          },
          "xaxis": {
           "automargin": true,
           "gridcolor": "white",
           "linecolor": "white",
           "ticks": "",
           "title": {
            "standoff": 15
           },
           "zerolinecolor": "white",
           "zerolinewidth": 2
          },
          "yaxis": {
           "automargin": true,
           "gridcolor": "white",
           "linecolor": "white",
           "ticks": "",
           "title": {
            "standoff": 15
           },
           "zerolinecolor": "white",
           "zerolinewidth": 2
          }
         }
        },
        "title": {
         "text": "Comparison of Total Cases and Deaths per Million by Country"
        },
        "xaxis": {
         "anchor": "y",
         "domain": [
          0,
          1
         ],
         "title": {
          "text": "Total Cases per Million"
         }
        },
        "yaxis": {
         "anchor": "x",
         "domain": [
          0,
          1
         ],
         "title": {
          "text": "Total Deaths per Million"
         }
        }
       }
      }
     },
     "metadata": {},
     "output_type": "display_data"
    },
    {
     "data": {
      "application/vnd.plotly.v1+json": {
       "config": {
        "plotlyServerURL": "https://plot.ly"
       },
       "data": [
        {
         "geo": "geo",
         "hovertemplate": "<b>%{hovertext}</b><br><br>total_cases_per_million=%{marker.size}<br>iso_code=%{location}<br>total_deaths_per_million=%{marker.color}<extra></extra>",
         "hovertext": [
          "Aruba",
          "Afghanistan",
          "Angola",
          "Albania",
          "Andorra",
          "United Arab Emirates",
          "Argentina",
          "Armenia",
          "Antigua and Barbuda",
          "Australia",
          "Austria",
          "Azerbaijan",
          "Burundi",
          "Belgium",
          "Benin",
          "Burkina Faso",
          "Bangladesh",
          "Bulgaria",
          "Bahrain",
          "Bahamas, The",
          "Bosnia and Herzegovina",
          "Belarus",
          "Belize",
          "Bermuda",
          "Bolivia",
          "Brazil",
          "Barbados",
          "Brunei Darussalam",
          "Botswana",
          "Central African Republic",
          "Canada",
          "Switzerland",
          "Chile",
          "China",
          "Cote d'Ivoire",
          "Cameroon",
          "Congo, Dem. Rep.",
          "Congo, Rep.",
          "Colombia",
          "Comoros",
          "Cabo Verde",
          "Costa Rica",
          "Cuba",
          "Curacao",
          "Cayman Islands",
          "Cyprus",
          "Czechia",
          "Germany",
          "Djibouti",
          "Denmark",
          "Dominican Republic",
          "Algeria",
          "Ecuador",
          "Egypt, Arab Rep.",
          "Eritrea",
          "Spain",
          "Estonia",
          "Ethiopia",
          "Finland",
          "Fiji",
          "France",
          "Gabon",
          "United Kingdom",
          "Georgia",
          "Ghana",
          "Gibraltar",
          "Guinea",
          "Gambia, The",
          "Guinea-Bissau",
          "Equatorial Guinea",
          "Greece",
          "Guatemala",
          "Guam",
          "Guyana",
          "Honduras",
          "Croatia",
          "Haiti",
          "Hungary",
          "Indonesia",
          "Isle of Man",
          "India",
          "Ireland",
          "Iran, Islamic Rep.",
          "Iraq",
          "Iceland",
          "Israel",
          "Italy",
          "Jamaica",
          "Jordan",
          "Japan",
          "Kazakhstan",
          "Kenya",
          "Korea, Rep.",
          "Kuwait",
          "Lebanon",
          "Liberia",
          "Libya",
          "St. Lucia",
          "Liechtenstein",
          "Sri Lanka",
          "Lesotho",
          "Lithuania",
          "Luxembourg",
          "Latvia",
          "St. Martin (French part)",
          "Morocco",
          "Monaco",
          "Moldova",
          "Madagascar",
          "Maldives",
          "Mexico",
          "North Macedonia",
          "Mali",
          "Malta",
          "Myanmar",
          "Montenegro",
          "Mongolia",
          "Northern Mariana Islands",
          "Mozambique",
          "Mauritania",
          "Mauritius",
          "Malawi",
          "Malaysia",
          "Namibia",
          "Niger",
          "Nigeria",
          "Nicaragua",
          "Netherlands",
          "Norway",
          "Nepal",
          "New Zealand",
          "Oman",
          "Pakistan",
          "Panama",
          "Philippines",
          "Papua New Guinea",
          "Poland",
          "Puerto Rico",
          "Portugal",
          "Paraguay",
          "West Bank and Gaza",
          "French Polynesia",
          "Qatar",
          "Romania",
          "Russian Federation",
          "Rwanda",
          "Saudi Arabia",
          "Sudan",
          "Senegal",
          "Singapore",
          "Sierra Leone",
          "El Salvador",
          "San Marino",
          "Somalia",
          "Serbia",
          "South Sudan",
          "Sao Tome and Principe",
          "Suriname",
          "Slovak Republic",
          "Slovenia",
          "Sweden",
          "Eswatini",
          "Sint Maarten (Dutch part)",
          "Syrian Arab Republic",
          "Turks and Caicos Islands",
          "Chad",
          "Togo",
          "Thailand",
          "Tajikistan",
          "Trinidad and Tobago",
          "Tunisia",
          "Turkiye",
          "Tanzania",
          "Uganda",
          "Ukraine",
          "Uruguay",
          "United States",
          "Venezuela, RB",
          "British Virgin Islands",
          "Virgin Islands (U.S.)",
          "Viet Nam",
          "Yemen, Rep.",
          "South Africa",
          "Zambia",
          "Zimbabwe"
         ],
         "legendgroup": "",
         "locations": [
          "ABW",
          "AFG",
          "AGO",
          "ALB",
          "AND",
          "ARE",
          "ARG",
          "ARM",
          "ATG",
          "AUS",
          "AUT",
          "AZE",
          "BDI",
          "BEL",
          "BEN",
          "BFA",
          "BGD",
          "BGR",
          "BHR",
          "BHS",
          "BIH",
          "BLR",
          "BLZ",
          "BMU",
          "BOL",
          "BRA",
          "BRB",
          "BRN",
          "BWA",
          "CAF",
          "CAN",
          "CHE",
          "CHL",
          "CHN",
          "CIV",
          "CMR",
          "COD",
          "COG",
          "COL",
          "COM",
          "CPV",
          "CRI",
          "CUB",
          "CUW",
          "CYM",
          "CYP",
          "CZE",
          "DEU",
          "DJI",
          "DNK",
          "DOM",
          "DZA",
          "ECU",
          "EGY",
          "ERI",
          "ESP",
          "EST",
          "ETH",
          "FIN",
          "FJI",
          "FRA",
          "GAB",
          "GBR",
          "GEO",
          "GHA",
          "GIB",
          "GIN",
          "GMB",
          "GNB",
          "GNQ",
          "GRC",
          "GTM",
          "GUM",
          "GUY",
          "HND",
          "HRV",
          "HTI",
          "HUN",
          "IDN",
          "IMN",
          "IND",
          "IRL",
          "IRN",
          "IRQ",
          "ISL",
          "ISR",
          "ITA",
          "JAM",
          "JOR",
          "JPN",
          "KAZ",
          "KEN",
          "KOR",
          "KWT",
          "LBN",
          "LBR",
          "LBY",
          "LCA",
          "LIE",
          "LKA",
          "LSO",
          "LTU",
          "LUX",
          "LVA",
          "MAF",
          "MAR",
          "MCO",
          "MDA",
          "MDG",
          "MDV",
          "MEX",
          "MKD",
          "MLI",
          "MLT",
          "MMR",
          "MNE",
          "MNG",
          "MNP",
          "MOZ",
          "MRT",
          "MUS",
          "MWI",
          "MYS",
          "NAM",
          "NER",
          "NGA",
          "NIC",
          "NLD",
          "NOR",
          "NPL",
          "NZL",
          "OMN",
          "PAK",
          "PAN",
          "PHL",
          "PNG",
          "POL",
          "PRI",
          "PRT",
          "PRY",
          "PSE",
          "PYF",
          "QAT",
          "ROU",
          "RUS",
          "RWA",
          "SAU",
          "SDN",
          "SEN",
          "SGP",
          "SLE",
          "SLV",
          "SMR",
          "SOM",
          "SRB",
          "SSD",
          "STP",
          "SUR",
          "SVK",
          "SVN",
          "SWE",
          "SWZ",
          "SXM",
          "SYR",
          "TCA",
          "TCD",
          "TGO",
          "THA",
          "TJK",
          "TTO",
          "TUN",
          "TUR",
          "TZA",
          "UGA",
          "UKR",
          "URY",
          "USA",
          "VEN",
          "VGB",
          "VIR",
          "VNM",
          "YEM",
          "ZAF",
          "ZMB",
          "ZWE"
         ],
         "marker": {
          "color": [
           441.485,
           52.469,
           11.239,
           398.97,
           1039.54,
           69.377,
           1043.873,
           995.514,
           53.321,
           35.145,
           788.513,
           233.248,
           0.155,
           1662.159,
           3.295,
           3.44,
           43.532,
           1050.287,
           238.413,
           412.206,
           1213.225,
           144.311,
           562.567,
           140.172,
           743.04,
           884.701,
           24.854,
           6.681,
           14.827,
           11.292,
           383.156,
           821.695,
           836.779,
           3.35,
           4.758,
           16.049,
           5.848,
           16.749,
           803.678,
           8.365,
           188.819,
           405.919,
           12.576,
           62.77,
           29.103,
           127.231,
           1083.191,
           563.861,
           54.423,
           197.033,
           214.092,
           60.619,
           777.179,
           66.24,
           0.271,
           1134.684,
           214.168,
           15.408,
           111.537,
           2.151,
           983.093,
           26.789,
           1340.193,
           634.817,
           10.007,
           183.615,
           5.772,
           45.455,
           21.372,
           51.346,
           450.844,
           266.926,
           704.377,
           200.315,
           293.4,
           896.446,
           20.285,
           907.668,
           77.085,
           414.035,
           104.167,
           443.948,
           616.303,
           286.924,
           75.087,
           343.105,
           1213.246,
           103.983,
           330.413,
           25.921,
           137.592,
           30.633,
           15.594,
           217.621,
           251.196,
           16.784,
           207.711,
           27.798,
           990.98,
           8.749,
           27.756,
           587.988,
           440.086,
           341.501,
           377.169,
           192.322,
           82.212,
           904.371,
           8.814,
           91.638,
           1128.513,
           1383.259,
           11.065,
           425.657,
           48.007,
           865.915,
           0.294,
           40.344,
           4.823,
           71.155,
           7.695,
           9.213,
           13.289,
           75.963,
           3.854,
           5.706,
           23.603,
           656.968,
           77.471,
           89.041,
           4.821,
           325.809,
           41.624,
           851.975,
           78.462,
           0.887,
           682.613,
           501.167,
           651.844,
           317.664,
           267.806,
           352.605,
           90.534,
           768.492,
           378.528,
           5.299,
           169.629,
           32.427,
           22.349,
           5.145,
           8.831,
           204.691,
           1691.897,
           7.217,
           434.109,
           5.773,
           74.76,
           192.542,
           314.169,
           1359.063,
           883.751,
           135.643,
           588.342,
           30.237,
           131.216,
           5.868,
           7.685,
           0.837,
           9.043,
           81.644,
           358.203,
           229.947,
           0.321,
           6.307,
           384.819,
           41.779,
           1013.687,
           35.687,
           31.916,
           231.205,
           0.356,
           18.014,
           442.8,
           19.083,
           20.894
          ],
          "coloraxis": "coloraxis",
          "size": [
           49108.107,
           1260.626,
           481.862,
           19484.097,
           97766.867,
           21278.367,
           35814.028,
           56765.182,
           1652.945,
           1080.932,
           38562.278,
           20444.333,
           62.764,
           54801.323,
           240.023,
           279.795,
           2974.232,
           29104.292,
           62162.546,
           18995.632,
           33811.345,
           19394.112,
           25883.021,
           8737.365,
           12564.51,
           34594.022,
           1232.043,
           338.529,
           5280.766,
           1042.095,
           14022.895,
           49804.982,
           30524.488,
           67.554,
           784.111,
           941.337,
           170.053,
           1070.107,
           30356.366,
           789.93,
           19721.425,
           31667.09,
           984.464,
           21190.231,
           4627.339,
           21642.688,
           64328.439,
           19913.412,
           5179.101,
           25698.8,
           14778.043,
           2179.287,
           11625.686,
           1183.124,
           270.627,
           40361.737,
           23400.831,
           992.163,
           6867.669,
           49.475,
           36181.033,
           3975.308,
           34727.743,
           59183.284,
           1633.445,
           46699.513,
           986.626,
           1401.333,
           1162.15,
           3126.127,
           13451.36,
           7575.188,
           41296.287,
           7776.419,
           11373.585,
           50693.226,
           849.892,
           31709.678,
           2589.334,
           4459.744,
           7188.854,
           16956.832,
           13494.696,
           13277.089,
           15400.788,
           42237.803,
           34540.469,
           4486.129,
           25372.955,
           1753.199,
           10163.008,
           1773.967,
           1097.252,
           35008.899,
           30870.656,
           343.411,
           14334.714,
           1695.65,
           53055.52,
           1880.438,
           1117.604,
           48805.88,
           59269.519,
           19630.898,
           30990.697,
           11494.535,
           17675.591,
           43078.613,
           598.209,
           26048.209,
           11398.957,
           39069.433,
           290.967,
           23656.789,
           2249.678,
           56148.957,
           329.864,
           2460.967,
           550.872,
           2853.797,
           405.547,
           310.85,
           3061.446,
           8540.24,
           118.628,
           382.427,
           689.368,
           44021.699,
           8693.63,
           8451.764,
           345.015,
           28033.564,
           1990.808,
           51413.357,
           4058.559,
           76.903,
           31610.97,
           25305.22,
           36751.948,
           15321.03,
           28292.924,
           54033.406,
           53022.655,
           31219.877,
           21077.867,
           567.407,
           9944.457,
           526.814,
           1069.676,
           10381.191,
           296.198,
           7041.703,
           68061.739,
           266.515,
           47058.836,
           321.172,
           4459.24,
           9513.855,
           29684.475,
           54443.183,
           39635.526,
           6961.088,
           31001.086,
           494.096,
           18457.77,
           112.056,
           401.754,
           85.652,
           1361.93,
           4635.402,
           10539.72,
           24998.146,
           7.771,
           715.668,
           24888.277,
           4630.133,
           55841.006,
           3943.332,
           2968.211,
           19893.646,
           14.666,
           62.202,
           16611.229,
           982.682,
           794.275
          ],
          "sizemode": "area",
          "sizeref": 39.106746799999996,
          "symbol": "circle"
         },
         "mode": "markers",
         "name": "",
         "showlegend": false,
         "type": "scattergeo"
        }
       ],
       "layout": {
        "coloraxis": {
         "colorbar": {
          "title": {
           "text": "total_deaths_per_million"
          }
         },
         "colorscale": [
          [
           0,
           "rgb(255,245,240)"
          ],
          [
           0.125,
           "rgb(254,224,210)"
          ],
          [
           0.25,
           "rgb(252,187,161)"
          ],
          [
           0.375,
           "rgb(252,146,114)"
          ],
          [
           0.5,
           "rgb(251,106,74)"
          ],
          [
           0.625,
           "rgb(239,59,44)"
          ],
          [
           0.75,
           "rgb(203,24,29)"
          ],
          [
           0.875,
           "rgb(165,15,21)"
          ],
          [
           1,
           "rgb(103,0,13)"
          ]
         ]
        },
        "geo": {
         "center": {},
         "domain": {
          "x": [
           0,
           1
          ],
          "y": [
           0,
           1
          ]
         },
         "projection": {
          "type": "equirectangular"
         },
         "showcoastlines": false,
         "showframe": false
        },
        "height": 600,
        "legend": {
         "itemsizing": "constant",
         "tracegroupgap": 0
        },
        "template": {
         "data": {
          "bar": [
           {
            "error_x": {
             "color": "#2a3f5f"
            },
            "error_y": {
             "color": "#2a3f5f"
            },
            "marker": {
             "line": {
              "color": "#E5ECF6",
              "width": 0.5
             },
             "pattern": {
              "fillmode": "overlay",
              "size": 10,
              "solidity": 0.2
             }
            },
            "type": "bar"
           }
          ],
          "barpolar": [
           {
            "marker": {
             "line": {
              "color": "#E5ECF6",
              "width": 0.5
             },
             "pattern": {
              "fillmode": "overlay",
              "size": 10,
              "solidity": 0.2
             }
            },
            "type": "barpolar"
           }
          ],
          "carpet": [
           {
            "aaxis": {
             "endlinecolor": "#2a3f5f",
             "gridcolor": "white",
             "linecolor": "white",
             "minorgridcolor": "white",
             "startlinecolor": "#2a3f5f"
            },
            "baxis": {
             "endlinecolor": "#2a3f5f",
             "gridcolor": "white",
             "linecolor": "white",
             "minorgridcolor": "white",
             "startlinecolor": "#2a3f5f"
            },
            "type": "carpet"
           }
          ],
          "choropleth": [
           {
            "colorbar": {
             "outlinewidth": 0,
             "ticks": ""
            },
            "type": "choropleth"
           }
          ],
          "contour": [
           {
            "colorbar": {
             "outlinewidth": 0,
             "ticks": ""
            },
            "colorscale": [
             [
              0,
              "#0d0887"
             ],
             [
              0.1111111111111111,
              "#46039f"
             ],
             [
              0.2222222222222222,
              "#7201a8"
             ],
             [
              0.3333333333333333,
              "#9c179e"
             ],
             [
              0.4444444444444444,
              "#bd3786"
             ],
             [
              0.5555555555555556,
              "#d8576b"
             ],
             [
              0.6666666666666666,
              "#ed7953"
             ],
             [
              0.7777777777777778,
              "#fb9f3a"
             ],
             [
              0.8888888888888888,
              "#fdca26"
             ],
             [
              1,
              "#f0f921"
             ]
            ],
            "type": "contour"
           }
          ],
          "contourcarpet": [
           {
            "colorbar": {
             "outlinewidth": 0,
             "ticks": ""
            },
            "type": "contourcarpet"
           }
          ],
          "heatmap": [
           {
            "colorbar": {
             "outlinewidth": 0,
             "ticks": ""
            },
            "colorscale": [
             [
              0,
              "#0d0887"
             ],
             [
              0.1111111111111111,
              "#46039f"
             ],
             [
              0.2222222222222222,
              "#7201a8"
             ],
             [
              0.3333333333333333,
              "#9c179e"
             ],
             [
              0.4444444444444444,
              "#bd3786"
             ],
             [
              0.5555555555555556,
              "#d8576b"
             ],
             [
              0.6666666666666666,
              "#ed7953"
             ],
             [
              0.7777777777777778,
              "#fb9f3a"
             ],
             [
              0.8888888888888888,
              "#fdca26"
             ],
             [
              1,
              "#f0f921"
             ]
            ],
            "type": "heatmap"
           }
          ],
          "heatmapgl": [
           {
            "colorbar": {
             "outlinewidth": 0,
             "ticks": ""
            },
            "colorscale": [
             [
              0,
              "#0d0887"
             ],
             [
              0.1111111111111111,
              "#46039f"
             ],
             [
              0.2222222222222222,
              "#7201a8"
             ],
             [
              0.3333333333333333,
              "#9c179e"
             ],
             [
              0.4444444444444444,
              "#bd3786"
             ],
             [
              0.5555555555555556,
              "#d8576b"
             ],
             [
              0.6666666666666666,
              "#ed7953"
             ],
             [
              0.7777777777777778,
              "#fb9f3a"
             ],
             [
              0.8888888888888888,
              "#fdca26"
             ],
             [
              1,
              "#f0f921"
             ]
            ],
            "type": "heatmapgl"
           }
          ],
          "histogram": [
           {
            "marker": {
             "pattern": {
              "fillmode": "overlay",
              "size": 10,
              "solidity": 0.2
             }
            },
            "type": "histogram"
           }
          ],
          "histogram2d": [
           {
            "colorbar": {
             "outlinewidth": 0,
             "ticks": ""
            },
            "colorscale": [
             [
              0,
              "#0d0887"
             ],
             [
              0.1111111111111111,
              "#46039f"
             ],
             [
              0.2222222222222222,
              "#7201a8"
             ],
             [
              0.3333333333333333,
              "#9c179e"
             ],
             [
              0.4444444444444444,
              "#bd3786"
             ],
             [
              0.5555555555555556,
              "#d8576b"
             ],
             [
              0.6666666666666666,
              "#ed7953"
             ],
             [
              0.7777777777777778,
              "#fb9f3a"
             ],
             [
              0.8888888888888888,
              "#fdca26"
             ],
             [
              1,
              "#f0f921"
             ]
            ],
            "type": "histogram2d"
           }
          ],
          "histogram2dcontour": [
           {
            "colorbar": {
             "outlinewidth": 0,
             "ticks": ""
            },
            "colorscale": [
             [
              0,
              "#0d0887"
             ],
             [
              0.1111111111111111,
              "#46039f"
             ],
             [
              0.2222222222222222,
              "#7201a8"
             ],
             [
              0.3333333333333333,
              "#9c179e"
             ],
             [
              0.4444444444444444,
              "#bd3786"
             ],
             [
              0.5555555555555556,
              "#d8576b"
             ],
             [
              0.6666666666666666,
              "#ed7953"
             ],
             [
              0.7777777777777778,
              "#fb9f3a"
             ],
             [
              0.8888888888888888,
              "#fdca26"
             ],
             [
              1,
              "#f0f921"
             ]
            ],
            "type": "histogram2dcontour"
           }
          ],
          "mesh3d": [
           {
            "colorbar": {
             "outlinewidth": 0,
             "ticks": ""
            },
            "type": "mesh3d"
           }
          ],
          "parcoords": [
           {
            "line": {
             "colorbar": {
              "outlinewidth": 0,
              "ticks": ""
             }
            },
            "type": "parcoords"
           }
          ],
          "pie": [
           {
            "automargin": true,
            "type": "pie"
           }
          ],
          "scatter": [
           {
            "fillpattern": {
             "fillmode": "overlay",
             "size": 10,
             "solidity": 0.2
            },
            "type": "scatter"
           }
          ],
          "scatter3d": [
           {
            "line": {
             "colorbar": {
              "outlinewidth": 0,
              "ticks": ""
             }
            },
            "marker": {
             "colorbar": {
              "outlinewidth": 0,
              "ticks": ""
             }
            },
            "type": "scatter3d"
           }
          ],
          "scattercarpet": [
           {
            "marker": {
             "colorbar": {
              "outlinewidth": 0,
              "ticks": ""
             }
            },
            "type": "scattercarpet"
           }
          ],
          "scattergeo": [
           {
            "marker": {
             "colorbar": {
              "outlinewidth": 0,
              "ticks": ""
             }
            },
            "type": "scattergeo"
           }
          ],
          "scattergl": [
           {
            "marker": {
             "colorbar": {
              "outlinewidth": 0,
              "ticks": ""
             }
            },
            "type": "scattergl"
           }
          ],
          "scattermapbox": [
           {
            "marker": {
             "colorbar": {
              "outlinewidth": 0,
              "ticks": ""
             }
            },
            "type": "scattermapbox"
           }
          ],
          "scatterpolar": [
           {
            "marker": {
             "colorbar": {
              "outlinewidth": 0,
              "ticks": ""
             }
            },
            "type": "scatterpolar"
           }
          ],
          "scatterpolargl": [
           {
            "marker": {
             "colorbar": {
              "outlinewidth": 0,
              "ticks": ""
             }
            },
            "type": "scatterpolargl"
           }
          ],
          "scatterternary": [
           {
            "marker": {
             "colorbar": {
              "outlinewidth": 0,
              "ticks": ""
             }
            },
            "type": "scatterternary"
           }
          ],
          "surface": [
           {
            "colorbar": {
             "outlinewidth": 0,
             "ticks": ""
            },
            "colorscale": [
             [
              0,
              "#0d0887"
             ],
             [
              0.1111111111111111,
              "#46039f"
             ],
             [
              0.2222222222222222,
              "#7201a8"
             ],
             [
              0.3333333333333333,
              "#9c179e"
             ],
             [
              0.4444444444444444,
              "#bd3786"
             ],
             [
              0.5555555555555556,
              "#d8576b"
             ],
             [
              0.6666666666666666,
              "#ed7953"
             ],
             [
              0.7777777777777778,
              "#fb9f3a"
             ],
             [
              0.8888888888888888,
              "#fdca26"
             ],
             [
              1,
              "#f0f921"
             ]
            ],
            "type": "surface"
           }
          ],
          "table": [
           {
            "cells": {
             "fill": {
              "color": "#EBF0F8"
             },
             "line": {
              "color": "white"
             }
            },
            "header": {
             "fill": {
              "color": "#C8D4E3"
             },
             "line": {
              "color": "white"
             }
            },
            "type": "table"
           }
          ]
         },
         "layout": {
          "annotationdefaults": {
           "arrowcolor": "#2a3f5f",
           "arrowhead": 0,
           "arrowwidth": 1
          },
          "autotypenumbers": "strict",
          "coloraxis": {
           "colorbar": {
            "outlinewidth": 0,
            "ticks": ""
           }
          },
          "colorscale": {
           "diverging": [
            [
             0,
             "#8e0152"
            ],
            [
             0.1,
             "#c51b7d"
            ],
            [
             0.2,
             "#de77ae"
            ],
            [
             0.3,
             "#f1b6da"
            ],
            [
             0.4,
             "#fde0ef"
            ],
            [
             0.5,
             "#f7f7f7"
            ],
            [
             0.6,
             "#e6f5d0"
            ],
            [
             0.7,
             "#b8e186"
            ],
            [
             0.8,
             "#7fbc41"
            ],
            [
             0.9,
             "#4d9221"
            ],
            [
             1,
             "#276419"
            ]
           ],
           "sequential": [
            [
             0,
             "#0d0887"
            ],
            [
             0.1111111111111111,
             "#46039f"
            ],
            [
             0.2222222222222222,
             "#7201a8"
            ],
            [
             0.3333333333333333,
             "#9c179e"
            ],
            [
             0.4444444444444444,
             "#bd3786"
            ],
            [
             0.5555555555555556,
             "#d8576b"
            ],
            [
             0.6666666666666666,
             "#ed7953"
            ],
            [
             0.7777777777777778,
             "#fb9f3a"
            ],
            [
             0.8888888888888888,
             "#fdca26"
            ],
            [
             1,
             "#f0f921"
            ]
           ],
           "sequentialminus": [
            [
             0,
             "#0d0887"
            ],
            [
             0.1111111111111111,
             "#46039f"
            ],
            [
             0.2222222222222222,
             "#7201a8"
            ],
            [
             0.3333333333333333,
             "#9c179e"
            ],
            [
             0.4444444444444444,
             "#bd3786"
            ],
            [
             0.5555555555555556,
             "#d8576b"
            ],
            [
             0.6666666666666666,
             "#ed7953"
            ],
            [
             0.7777777777777778,
             "#fb9f3a"
            ],
            [
             0.8888888888888888,
             "#fdca26"
            ],
            [
             1,
             "#f0f921"
            ]
           ]
          },
          "colorway": [
           "#636efa",
           "#EF553B",
           "#00cc96",
           "#ab63fa",
           "#FFA15A",
           "#19d3f3",
           "#FF6692",
           "#B6E880",
           "#FF97FF",
           "#FECB52"
          ],
          "font": {
           "color": "#2a3f5f"
          },
          "geo": {
           "bgcolor": "white",
           "lakecolor": "white",
           "landcolor": "#E5ECF6",
           "showlakes": true,
           "showland": true,
           "subunitcolor": "white"
          },
          "hoverlabel": {
           "align": "left"
          },
          "hovermode": "closest",
          "mapbox": {
           "style": "light"
          },
          "paper_bgcolor": "white",
          "plot_bgcolor": "#E5ECF6",
          "polar": {
           "angularaxis": {
            "gridcolor": "white",
            "linecolor": "white",
            "ticks": ""
           },
           "bgcolor": "#E5ECF6",
           "radialaxis": {
            "gridcolor": "white",
            "linecolor": "white",
            "ticks": ""
           }
          },
          "scene": {
           "xaxis": {
            "backgroundcolor": "#E5ECF6",
            "gridcolor": "white",
            "gridwidth": 2,
            "linecolor": "white",
            "showbackground": true,
            "ticks": "",
            "zerolinecolor": "white"
           },
           "yaxis": {
            "backgroundcolor": "#E5ECF6",
            "gridcolor": "white",
            "gridwidth": 2,
            "linecolor": "white",
            "showbackground": true,
            "ticks": "",
            "zerolinecolor": "white"
           },
           "zaxis": {
            "backgroundcolor": "#E5ECF6",
            "gridcolor": "white",
            "gridwidth": 2,
            "linecolor": "white",
            "showbackground": true,
            "ticks": "",
            "zerolinecolor": "white"
           }
          },
          "shapedefaults": {
           "line": {
            "color": "#2a3f5f"
           }
          },
          "ternary": {
           "aaxis": {
            "gridcolor": "white",
            "linecolor": "white",
            "ticks": ""
           },
           "baxis": {
            "gridcolor": "white",
            "linecolor": "white",
            "ticks": ""
           },
           "bgcolor": "#E5ECF6",
           "caxis": {
            "gridcolor": "white",
            "linecolor": "white",
            "ticks": ""
           }
          },
          "title": {
           "x": 0.05
          },
          "xaxis": {
           "automargin": true,
           "gridcolor": "white",
           "linecolor": "white",
           "ticks": "",
           "title": {
            "standoff": 15
           },
           "zerolinecolor": "white",
           "zerolinewidth": 2
          },
          "yaxis": {
           "automargin": true,
           "gridcolor": "white",
           "linecolor": "white",
           "ticks": "",
           "title": {
            "standoff": 15
           },
           "zerolinecolor": "white",
           "zerolinewidth": 2
          }
         }
        },
        "title": {
         "text": "total cases and deaths per million by Country"
        }
       }
      }
     },
     "metadata": {},
     "output_type": "display_data"
    }
   ],
   "source": [
    "import plotly.express as px\n",
    "import pandas as pd\n",
    "import plotly.graph_objects as go\n",
    "import numpy as np\n",
    "import seaborn as sns\n",
    "\n",
    "\n",
    "GDPdata = GDPdata.rename(columns={'Country Code': 'iso_code'})\n",
    "\n",
    "\n",
    "CovidData['date'] = pd.to_datetime(CovidData['date'])\n",
    "CovidData = CovidData[CovidData['date'] == '2020-12-31']\n",
    "\n",
    "df = pd.merge(GDPdata, CovidData, on='iso_code', how='inner')\n",
    "df = df.dropna(subset=['total_cases_per_million', 'total_deaths_per_million'])\n",
    "\n",
    "df = df[df['iso_code'] !=  'PER']\n",
    "\n",
    "fig = px.scatter(\n",
    "    df,\n",
    "    x=\"total_cases_per_million\",\n",
    "    y=\"total_deaths_per_million\",\n",
    "    hover_name=\"Country Name\",\n",
    "    trendline=\"ols\",\n",
    "    title=\"Comparison of Total Cases and Deaths per Million by Country\",\n",
    "    labels={\n",
    "        \"total_cases_per_million\": \"Total Cases per Million\",\n",
    "        \"total_deaths_per_million\": \"Total Deaths per Million\"\n",
    "    }\n",
    ")\n",
    "\n",
    "correlation = df['total_cases_per_million'].corr(df['total_deaths_per_million'])\n",
    "print(correlation)\n",
    "\n",
    "fig.update_traces(textposition='top center')\n",
    "fig.update_layout(\n",
    "    height=600\n",
    ")\n",
    "\n",
    "fig.show()\n",
    "\n",
    "fig = px.scatter_geo(\n",
    "    df, \n",
    "    locations=\"iso_code\",\n",
    "    size=\"total_cases_per_million\",\n",
    "    color=\"total_deaths_per_million\",\n",
    "    hover_name=\"Country Name\",\n",
    "    size_max=50,\n",
    "    color_continuous_scale=px.colors.sequential.Reds,\n",
    "    title=\"total cases and deaths per million by Country\"\n",
    ")\n",
    "\n",
    "fig.update_layout(\n",
    "    geo=dict(\n",
    "        showframe=False,\n",
    "        showcoastlines=False,\n",
    "        projection_type='equirectangular'\n",
    "    ),\n",
    "    height=600\n",
    ")\n",
    "\n",
    "fig.show()"
   ]
  },
  {
   "cell_type": "code",
   "execution_count": 3,
   "metadata": {},
   "outputs": [
    {
     "data": {
      "application/vnd.plotly.v1+json": {
       "config": {
        "plotlyServerURL": "https://plot.ly"
       },
       "data": [
        {
         "hovertemplate": "<b>%{hovertext}</b><br><br>Total vaccinations per hundred inhabitants=%{x}<br>Excess mortality cumulative per million inhabitants=%{y}<extra></extra>",
         "hovertext": [
          "Afghanistan",
          "Africa",
          "Albania",
          "Algeria",
          "American Samoa",
          "Andorra",
          "Angola",
          "Anguilla",
          "Antigua and Barbuda",
          "Argentina",
          "Armenia",
          "Aruba",
          "Asia",
          "Australia",
          "Austria",
          "Azerbaijan",
          "Bahamas",
          "Bahrain",
          "Bangladesh",
          "Barbados",
          "Belarus",
          "Belgium",
          "Belize",
          "Benin",
          "Bermuda",
          "Bhutan",
          "Bolivia",
          "Bonaire Sint Eustatius and Saba",
          "Bosnia and Herzegovina",
          "Botswana",
          "Brazil",
          "British Virgin Islands",
          "Brunei",
          "Bulgaria",
          "Burkina Faso",
          "Burundi",
          "Cambodia",
          "Cameroon",
          "Canada",
          "Cape Verde",
          "Cayman Islands",
          "Central African Republic",
          "Chad",
          "Chile",
          "China",
          "Colombia",
          "Comoros",
          "Congo",
          "Cook Islands",
          "Costa Rica",
          "Cote d'Ivoire",
          "Croatia",
          "Cuba",
          "Curacao",
          "Cyprus",
          "Czechia",
          "Democratic Republic of Congo",
          "Denmark",
          "Djibouti",
          "Dominica",
          "Dominican Republic",
          "Ecuador",
          "Egypt",
          "El Salvador",
          "England",
          "Equatorial Guinea",
          "Eritrea",
          "Estonia",
          "Eswatini",
          "Ethiopia",
          "Europe",
          "European Union",
          "Faeroe Islands",
          "Falkland Islands",
          "Fiji",
          "Finland",
          "France",
          "French Guiana",
          "French Polynesia",
          "Gabon",
          "Gambia",
          "Georgia",
          "Germany",
          "Ghana",
          "Gibraltar",
          "Greece",
          "Greenland",
          "Grenada",
          "Guadeloupe",
          "Guam",
          "Guatemala",
          "Guernsey",
          "Guinea",
          "Guinea-Bissau",
          "Guyana",
          "Haiti",
          "High income",
          "Honduras",
          "Hong Kong",
          "Hungary",
          "Iceland",
          "India",
          "Indonesia",
          "Iran",
          "Iraq",
          "Ireland",
          "Isle of Man",
          "Israel",
          "Italy",
          "Jamaica",
          "Japan",
          "Jersey",
          "Jordan",
          "Kazakhstan",
          "Kenya",
          "Kiribati",
          "Kosovo",
          "Kuwait",
          "Kyrgyzstan",
          "Laos",
          "Latvia",
          "Lebanon",
          "Lesotho",
          "Liberia",
          "Libya",
          "Liechtenstein",
          "Lithuania",
          "Low income",
          "Lower middle income",
          "Luxembourg",
          "Macao",
          "Madagascar",
          "Malawi",
          "Malaysia",
          "Maldives",
          "Mali",
          "Malta",
          "Marshall Islands",
          "Martinique",
          "Mauritania",
          "Mauritius",
          "Mayotte",
          "Mexico",
          "Micronesia (country)",
          "Moldova",
          "Monaco",
          "Mongolia",
          "Montenegro",
          "Montserrat",
          "Morocco",
          "Mozambique",
          "Myanmar",
          "Namibia",
          "Nauru",
          "Nepal",
          "Netherlands",
          "New Caledonia",
          "New Zealand",
          "Nicaragua",
          "Niger",
          "Nigeria",
          "Niue",
          "North America",
          "North Korea",
          "North Macedonia",
          "Northern Cyprus",
          "Northern Ireland",
          "Northern Mariana Islands",
          "Norway",
          "Oceania",
          "Oman",
          "Pakistan",
          "Palau",
          "Palestine",
          "Panama",
          "Papua New Guinea",
          "Paraguay",
          "Peru",
          "Philippines",
          "Pitcairn",
          "Poland",
          "Portugal",
          "Puerto Rico",
          "Qatar",
          "Reunion",
          "Romania",
          "Russia",
          "Rwanda",
          "Saint Barthelemy",
          "Saint Helena",
          "Saint Kitts and Nevis",
          "Saint Lucia",
          "Saint Martin (French part)",
          "Saint Pierre and Miquelon",
          "Saint Vincent and the Grenadines",
          "Samoa",
          "San Marino",
          "Sao Tome and Principe",
          "Saudi Arabia",
          "Scotland",
          "Senegal",
          "Serbia",
          "Seychelles",
          "Sierra Leone",
          "Singapore",
          "Sint Maarten (Dutch part)",
          "Slovakia",
          "Slovenia",
          "Solomon Islands",
          "Somalia",
          "South Africa",
          "South America",
          "South Korea",
          "South Sudan",
          "Spain",
          "Sri Lanka",
          "Sudan",
          "Suriname",
          "Sweden",
          "Switzerland",
          "Syria",
          "Taiwan",
          "Tajikistan",
          "Tanzania",
          "Thailand",
          "Timor",
          "Togo",
          "Tokelau",
          "Tonga",
          "Trinidad and Tobago",
          "Tunisia",
          "Turkey",
          "Turkmenistan",
          "Turks and Caicos Islands",
          "Tuvalu",
          "Uganda",
          "Ukraine",
          "United Arab Emirates",
          "United Kingdom",
          "United States",
          "United States Virgin Islands",
          "Upper middle income",
          "Uruguay",
          "Uzbekistan",
          "Vanuatu",
          "Vatican",
          "Venezuela",
          "Vietnam",
          "Wales",
          "Wallis and Futuna",
          "World",
          "Yemen",
          "Zambia",
          "Zimbabwe"
         ],
         "legendgroup": "",
         "line": {
          "color": "darkblue",
          "width": 2
         },
         "marker": {
          "color": "cornflowerblue",
          "opacity": 0.7,
          "symbol": "circle"
         },
         "mode": "markers",
         "name": "",
         "orientation": "v",
         "showlegend": false,
         "type": "scatter",
         "x": [
          11.37,
          21.27,
          81.5,
          27.94,
          null,
          146.85,
          32.64,
          127.76,
          129.19,
          172.06,
          58.51,
          153.82,
          131.73,
          162.66,
          186.56,
          109.54,
          73.22,
          219.14,
          62.26,
          106.38,
          80.84,
          186.43,
          104.77,
          13.28,
          175.52,
          147.59,
          80.11,
          132.5,
          48.06,
          42.89,
          153.86,
          114.26,
          200.09,
          54.57,
          4.65,
          0.06,
          181.64,
          3.65,
          179.01,
          96.29,
          190.05,
          7.83,
          1.61,
          226.05,
          198.85,
          124.71,
          69.5,
          12.71,
          148.77,
          149.71,
          25.26,
          117.35,
          275.36,
          113.56,
          172,
          147.7,
          0.34,
          202.01,
          5.77,
          78.4,
          125.45,
          153.14,
          47.59,
          151.83,
          197.91,
          27.03,
          null,
          136.41,
          33.25,
          8.85,
          148.62,
          166.13,
          181.18,
          115.94,
          136.28,
          173.57,
          183.22,
          null,
          107.44,
          16.45,
          10.89,
          67.11,
          184.68,
          23.17,
          331.5,
          168.22,
          138.95,
          62.55,
          null,
          null,
          63.39,
          167.55,
          21.3,
          19.66,
          88.5,
          1.7,
          166.51,
          91.91,
          132.54,
          151.24,
          192.26,
          102.24,
          99.73,
          131.24,
          31.78,
          196.29,
          210.35,
          177.65,
          188.69,
          42.75,
          162.94,
          189.48,
          73.24,
          90.22,
          18.51,
          62.61,
          93.91,
          162.63,
          34.01,
          77.43,
          138.09,
          79.78,
          37.21,
          16.6,
          39.34,
          160.12,
          150.25,
          10.34,
          82.03,
          166.23,
          139.91,
          2.51,
          8.83,
          170.45,
          150.85,
          4.68,
          201.07,
          null,
          null,
          40.9,
          156.75,
          null,
          116.71,
          null,
          54.28,
          178.51,
          157.15,
          101.19,
          68.43,
          134.19,
          44.64,
          58.8,
          24.55,
          117.11,
          71.98,
          159.45,
          122.68,
          157.86,
          112.04,
          3.71,
          6.79,
          134.63,
          140.24,
          null,
          83.83,
          161.27,
          185.67,
          null,
          180.14,
          120.24,
          133.69,
          66.41,
          null,
          64.44,
          140.49,
          4.97,
          100.78,
          150.06,
          93.92,
          200,
          117.89,
          195.15,
          null,
          193.15,
          null,
          80.5,
          101.14,
          91.38,
          null,
          146.12,
          115.07,
          58.37,
          null,
          null,
          58.87,
          118.35,
          160.11,
          60.52,
          139.79,
          208.43,
          10.99,
          119.91,
          171.25,
          10.09,
          209.25,
          118.36,
          88.61,
          130.29,
          32.57,
          8.55,
          46.59,
          149.29,
          200.63,
          2.46,
          175.64,
          155.01,
          6.99,
          79.25,
          167,
          158.42,
          7.93,
          145.95,
          66.37,
          3.71,
          146.67,
          89.17,
          27.28,
          102.27,
          121.87,
          91.99,
          98.39,
          154.26,
          0.8,
          123.22,
          106.87,
          20.66,
          71.68,
          237.33,
          197.47,
          157.16,
          null,
          166.45,
          204.17,
          112.73,
          46.74,
          null,
          106.18,
          153.72,
          204.51,
          102.96,
          115.09,
          1.62,
          8.64,
          44.51
         ],
         "xaxis": "x",
         "y": [
          null,
          null,
          5133.621,
          null,
          null,
          1773.4042,
          null,
          null,
          -654.30286,
          2887.6165,
          7123.4707,
          3305.7078,
          null,
          25.361595,
          1624.463,
          3567.9844,
          2630.418,
          null,
          null,
          -345.65652,
          3259.745,
          1740.7869,
          1351.3751,
          null,
          2743.993,
          -184.9518,
          4841.585,
          null,
          5846.379,
          null,
          3109.5383,
          null,
          89.361496,
          8238.763,
          null,
          null,
          null,
          null,
          647.67896,
          969.1532,
          null,
          null,
          null,
          1948.0808,
          null,
          3181.784,
          null,
          null,
          null,
          1156.1598,
          null,
          4073.8508,
          4765.7983,
          null,
          973.48236,
          3913.8223,
          null,
          136.87498,
          null,
          null,
          709.27246,
          3903.8044,
          2615.2344,
          null,
          null,
          null,
          null,
          2224.8745,
          null,
          null,
          null,
          null,
          null,
          null,
          2112.3389,
          513.8926,
          1214.0934,
          723.45374,
          1796.4862,
          null,
          null,
          5456.1704,
          1059.7295,
          null,
          599.4251,
          2277.9568,
          -1030.8179,
          null,
          2892.008,
          null,
          2470.815,
          null,
          null,
          null,
          null,
          null,
          null,
          null,
          427.77582,
          3645.2202,
          131.77153,
          null,
          null,
          2862.206,
          null,
          887.37134,
          null,
          808.1858,
          2820.8127,
          1801.8877,
          -105.506226,
          null,
          1349.3013,
          4203.1904,
          null,
          null,
          3848.5652,
          1548.0538,
          2226.1907,
          null,
          3835.3708,
          2354.636,
          null,
          null,
          null,
          1269.9062,
          5940.0317,
          null,
          null,
          57.091022,
          -6.9908032,
          null,
          null,
          782.71576,
          1109.1741,
          null,
          981.67834,
          null,
          2570.7769,
          null,
          845.0085,
          1294.8468,
          5099.9043,
          null,
          5128.843,
          4385.368,
          216.20276,
          4750.929,
          null,
          null,
          null,
          null,
          1225.8562,
          null,
          null,
          1624.4943,
          713.6677,
          -534.6675,
          2620.1414,
          null,
          null,
          null,
          null,
          null,
          6749.3965,
          null,
          null,
          null,
          217.26732,
          null,
          990.4271,
          null,
          null,
          922.9374,
          1724.4183,
          null,
          3308.9583,
          5476.6445,
          2023.2168,
          null,
          4015.026,
          2022.1362,
          1430.0541,
          342.45465,
          292.40308,
          5501.802,
          7421.1763,
          null,
          null,
          null,
          2204.4468,
          null,
          null,
          null,
          1232.5092,
          null,
          3961.862,
          null,
          null,
          null,
          null,
          6954.501,
          -1034.8779,
          null,
          309.37225,
          null,
          4486.1597,
          2374.3423,
          null,
          null,
          4027.1887,
          null,
          146.87982,
          null,
          2034.0842,
          null,
          null,
          2585.3645,
          935.4553,
          1327.0807,
          null,
          -143.52113,
          1681.3813,
          null,
          881.55066,
          null,
          null,
          null,
          null,
          null,
          2436.4612,
          2144.7422,
          null,
          null,
          null,
          null,
          4109.5923,
          386.49686,
          2028.0187,
          2833.2693,
          null,
          null,
          1048.4886,
          1048.3533,
          null,
          null,
          null,
          null,
          null,
          null,
          null,
          null,
          null,
          null
         ],
         "yaxis": "y"
        },
        {
         "hovertemplate": "<b>OLS trendline</b><br>excess_mortality_cumulative_per_million = -15.7125 * total_vaccinations_per_hundred + 4410.78<br>R<sup>2</sup>=0.174551<br><br>Total vaccinations per hundred inhabitants=%{x}<br>Excess mortality cumulative per million inhabitants=%{y} <b>(trend)</b><extra></extra>",
         "legendgroup": "",
         "line": {
          "color": "darkblue",
          "width": 2
         },
         "marker": {
          "color": "cornflowerblue",
          "symbol": "circle"
         },
         "mode": "lines",
         "name": "",
         "showlegend": false,
         "type": "scatter",
         "x": [
          24.55,
          34.01,
          42.75,
          46.59,
          47.59,
          48.06,
          54.28,
          54.57,
          58.51,
          58.87,
          63.39,
          64.44,
          66.37,
          67.11,
          71.68,
          73.22,
          73.24,
          79.25,
          79.78,
          80.11,
          80.5,
          80.84,
          81.5,
          83.83,
          88.61,
          90.22,
          93.91,
          93.92,
          96.29,
          98.39,
          100.78,
          101.14,
          101.19,
          104.77,
          106.38,
          107.44,
          109.54,
          112.04,
          112.73,
          115.07,
          116.71,
          117.35,
          117.89,
          119.91,
          122.68,
          124.71,
          125.45,
          129.19,
          130.29,
          131.24,
          132.54,
          133.69,
          136.28,
          136.41,
          138.09,
          138.95,
          139.91,
          140.49,
          145.95,
          146.67,
          146.85,
          147.59,
          147.7,
          149.71,
          150.06,
          150.25,
          150.85,
          151.24,
          153.14,
          153.82,
          153.86,
          154.26,
          156.75,
          157.15,
          157.16,
          157.86,
          158.42,
          159.45,
          160.11,
          160.12,
          162.63,
          162.66,
          162.94,
          166.23,
          167,
          168.22,
          170.45,
          171.25,
          172,
          172.06,
          173.57,
          175.52,
          175.64,
          177.65,
          178.51,
          179.01,
          180.14,
          183.22,
          184.68,
          186.43,
          186.56,
          188.69,
          192.26,
          193.15,
          195.15,
          196.29,
          197.47,
          200.09,
          200.63,
          201.07,
          202.01,
          204.17,
          209.25,
          226.05,
          237.33,
          275.36,
          331.5
         ],
         "xaxis": "x",
         "y": [
          4025.040874839181,
          3876.4007808373963,
          3739.0736749625967,
          3678.737738285339,
          3663.0252547756368,
          3655.6403875260767,
          3557.908740095728,
          3553.352119877914,
          3491.4449348496864,
          3485.7884407861934,
          3414.768015322338,
          3398.269907637151,
          3367.9448144634252,
          3356.3175766662453,
          3284.5115270269052,
          3260.3143024219635,
          3260.0000527517695,
          3165.5680268584574,
          3157.240410598315,
          3152.055291040114,
          3145.92742247133,
          3140.585178078031,
          3130.214938961627,
          3093.6048523840204,
          3018.499181207643,
          2993.2020827570223,
          2935.2230186062197,
          2935.065893771123,
          2897.8273078531283,
          2864.831092482753,
          2827.278256894564,
          2821.6217628310715,
          2820.836138655586,
          2764.5854476908517,
          2739.2883492402307,
          2722.633116719946,
          2689.6369013495705,
          2650.3556925753146,
          2639.51407895362,
          2602.7468675409164,
          2576.978394585004,
          2566.9224051387946,
          2558.4376640435553,
          2526.6984473539565,
          2483.1748680320807,
          2451.278526507385,
          2439.651288710205,
          2380.8866003839175,
          2363.602868523245,
          2348.676009189028,
          2328.2497806264146,
          2310.1804245902567,
          2269.4850923001277,
          2267.4424694438662,
          2241.045497147566,
          2227.532761329222,
          2212.448777159908,
          2203.3355367242802,
          2117.545376761305,
          2106.2323886343192,
          2103.404141602573,
          2091.776903805393,
          2090.048530619326,
          2058.4664387648236,
          2052.967069536428,
          2049.9816976695843,
          2040.5542075637632,
          2034.4263389949788,
          2004.5726203265444,
          1993.8881315399467,
          1993.2596321995584,
          1986.974638795678,
          1947.8505548565186,
          1941.5655614526377,
          1941.4084366175407,
          1930.4096981607486,
          1921.6107073953158,
          1905.426849380322,
          1895.0566102639182,
          1894.8994854288212,
          1855.4611518194683,
          1854.989777314177,
          1850.5902819314606,
          1798.8962111845394,
          1786.7975988820685,
          1767.6283690002315,
          1732.5895307735955,
          1720.0195439658332,
          1708.2351813335563,
          1707.292432322974,
          1683.5665822233236,
          1652.9272393794035,
          1651.0417413582395,
          1619.4596495037376,
          1605.9469136853936,
          1598.0906719305422,
          1580.3355655645787,
          1531.9411163546947,
          1509.0008904305291,
          1481.5040442885502,
          1479.4614214322887,
          1445.9938315566228,
          1389.9002654269848,
          1375.9161551033494,
          1344.4911880839445,
          1326.578956882884,
          1308.0382263414353,
          1266.8715195460145,
          1258.3867784507756,
          1251.4732857065064,
          1236.7035512073862,
          1202.764586826429,
          1122.9451705971405,
          858.9754476341391,
          681.7386336446957,
          84.19288577071165,
          -797.9059384639831
         ],
         "yaxis": "y"
        }
       ],
       "layout": {
        "height": 600,
        "legend": {
         "tracegroupgap": 0
        },
        "template": {
         "data": {
          "bar": [
           {
            "error_x": {
             "color": "#2a3f5f"
            },
            "error_y": {
             "color": "#2a3f5f"
            },
            "marker": {
             "line": {
              "color": "#E5ECF6",
              "width": 0.5
             },
             "pattern": {
              "fillmode": "overlay",
              "size": 10,
              "solidity": 0.2
             }
            },
            "type": "bar"
           }
          ],
          "barpolar": [
           {
            "marker": {
             "line": {
              "color": "#E5ECF6",
              "width": 0.5
             },
             "pattern": {
              "fillmode": "overlay",
              "size": 10,
              "solidity": 0.2
             }
            },
            "type": "barpolar"
           }
          ],
          "carpet": [
           {
            "aaxis": {
             "endlinecolor": "#2a3f5f",
             "gridcolor": "white",
             "linecolor": "white",
             "minorgridcolor": "white",
             "startlinecolor": "#2a3f5f"
            },
            "baxis": {
             "endlinecolor": "#2a3f5f",
             "gridcolor": "white",
             "linecolor": "white",
             "minorgridcolor": "white",
             "startlinecolor": "#2a3f5f"
            },
            "type": "carpet"
           }
          ],
          "choropleth": [
           {
            "colorbar": {
             "outlinewidth": 0,
             "ticks": ""
            },
            "type": "choropleth"
           }
          ],
          "contour": [
           {
            "colorbar": {
             "outlinewidth": 0,
             "ticks": ""
            },
            "colorscale": [
             [
              0,
              "#0d0887"
             ],
             [
              0.1111111111111111,
              "#46039f"
             ],
             [
              0.2222222222222222,
              "#7201a8"
             ],
             [
              0.3333333333333333,
              "#9c179e"
             ],
             [
              0.4444444444444444,
              "#bd3786"
             ],
             [
              0.5555555555555556,
              "#d8576b"
             ],
             [
              0.6666666666666666,
              "#ed7953"
             ],
             [
              0.7777777777777778,
              "#fb9f3a"
             ],
             [
              0.8888888888888888,
              "#fdca26"
             ],
             [
              1,
              "#f0f921"
             ]
            ],
            "type": "contour"
           }
          ],
          "contourcarpet": [
           {
            "colorbar": {
             "outlinewidth": 0,
             "ticks": ""
            },
            "type": "contourcarpet"
           }
          ],
          "heatmap": [
           {
            "colorbar": {
             "outlinewidth": 0,
             "ticks": ""
            },
            "colorscale": [
             [
              0,
              "#0d0887"
             ],
             [
              0.1111111111111111,
              "#46039f"
             ],
             [
              0.2222222222222222,
              "#7201a8"
             ],
             [
              0.3333333333333333,
              "#9c179e"
             ],
             [
              0.4444444444444444,
              "#bd3786"
             ],
             [
              0.5555555555555556,
              "#d8576b"
             ],
             [
              0.6666666666666666,
              "#ed7953"
             ],
             [
              0.7777777777777778,
              "#fb9f3a"
             ],
             [
              0.8888888888888888,
              "#fdca26"
             ],
             [
              1,
              "#f0f921"
             ]
            ],
            "type": "heatmap"
           }
          ],
          "heatmapgl": [
           {
            "colorbar": {
             "outlinewidth": 0,
             "ticks": ""
            },
            "colorscale": [
             [
              0,
              "#0d0887"
             ],
             [
              0.1111111111111111,
              "#46039f"
             ],
             [
              0.2222222222222222,
              "#7201a8"
             ],
             [
              0.3333333333333333,
              "#9c179e"
             ],
             [
              0.4444444444444444,
              "#bd3786"
             ],
             [
              0.5555555555555556,
              "#d8576b"
             ],
             [
              0.6666666666666666,
              "#ed7953"
             ],
             [
              0.7777777777777778,
              "#fb9f3a"
             ],
             [
              0.8888888888888888,
              "#fdca26"
             ],
             [
              1,
              "#f0f921"
             ]
            ],
            "type": "heatmapgl"
           }
          ],
          "histogram": [
           {
            "marker": {
             "pattern": {
              "fillmode": "overlay",
              "size": 10,
              "solidity": 0.2
             }
            },
            "type": "histogram"
           }
          ],
          "histogram2d": [
           {
            "colorbar": {
             "outlinewidth": 0,
             "ticks": ""
            },
            "colorscale": [
             [
              0,
              "#0d0887"
             ],
             [
              0.1111111111111111,
              "#46039f"
             ],
             [
              0.2222222222222222,
              "#7201a8"
             ],
             [
              0.3333333333333333,
              "#9c179e"
             ],
             [
              0.4444444444444444,
              "#bd3786"
             ],
             [
              0.5555555555555556,
              "#d8576b"
             ],
             [
              0.6666666666666666,
              "#ed7953"
             ],
             [
              0.7777777777777778,
              "#fb9f3a"
             ],
             [
              0.8888888888888888,
              "#fdca26"
             ],
             [
              1,
              "#f0f921"
             ]
            ],
            "type": "histogram2d"
           }
          ],
          "histogram2dcontour": [
           {
            "colorbar": {
             "outlinewidth": 0,
             "ticks": ""
            },
            "colorscale": [
             [
              0,
              "#0d0887"
             ],
             [
              0.1111111111111111,
              "#46039f"
             ],
             [
              0.2222222222222222,
              "#7201a8"
             ],
             [
              0.3333333333333333,
              "#9c179e"
             ],
             [
              0.4444444444444444,
              "#bd3786"
             ],
             [
              0.5555555555555556,
              "#d8576b"
             ],
             [
              0.6666666666666666,
              "#ed7953"
             ],
             [
              0.7777777777777778,
              "#fb9f3a"
             ],
             [
              0.8888888888888888,
              "#fdca26"
             ],
             [
              1,
              "#f0f921"
             ]
            ],
            "type": "histogram2dcontour"
           }
          ],
          "mesh3d": [
           {
            "colorbar": {
             "outlinewidth": 0,
             "ticks": ""
            },
            "type": "mesh3d"
           }
          ],
          "parcoords": [
           {
            "line": {
             "colorbar": {
              "outlinewidth": 0,
              "ticks": ""
             }
            },
            "type": "parcoords"
           }
          ],
          "pie": [
           {
            "automargin": true,
            "type": "pie"
           }
          ],
          "scatter": [
           {
            "fillpattern": {
             "fillmode": "overlay",
             "size": 10,
             "solidity": 0.2
            },
            "type": "scatter"
           }
          ],
          "scatter3d": [
           {
            "line": {
             "colorbar": {
              "outlinewidth": 0,
              "ticks": ""
             }
            },
            "marker": {
             "colorbar": {
              "outlinewidth": 0,
              "ticks": ""
             }
            },
            "type": "scatter3d"
           }
          ],
          "scattercarpet": [
           {
            "marker": {
             "colorbar": {
              "outlinewidth": 0,
              "ticks": ""
             }
            },
            "type": "scattercarpet"
           }
          ],
          "scattergeo": [
           {
            "marker": {
             "colorbar": {
              "outlinewidth": 0,
              "ticks": ""
             }
            },
            "type": "scattergeo"
           }
          ],
          "scattergl": [
           {
            "marker": {
             "colorbar": {
              "outlinewidth": 0,
              "ticks": ""
             }
            },
            "type": "scattergl"
           }
          ],
          "scattermapbox": [
           {
            "marker": {
             "colorbar": {
              "outlinewidth": 0,
              "ticks": ""
             }
            },
            "type": "scattermapbox"
           }
          ],
          "scatterpolar": [
           {
            "marker": {
             "colorbar": {
              "outlinewidth": 0,
              "ticks": ""
             }
            },
            "type": "scatterpolar"
           }
          ],
          "scatterpolargl": [
           {
            "marker": {
             "colorbar": {
              "outlinewidth": 0,
              "ticks": ""
             }
            },
            "type": "scatterpolargl"
           }
          ],
          "scatterternary": [
           {
            "marker": {
             "colorbar": {
              "outlinewidth": 0,
              "ticks": ""
             }
            },
            "type": "scatterternary"
           }
          ],
          "surface": [
           {
            "colorbar": {
             "outlinewidth": 0,
             "ticks": ""
            },
            "colorscale": [
             [
              0,
              "#0d0887"
             ],
             [
              0.1111111111111111,
              "#46039f"
             ],
             [
              0.2222222222222222,
              "#7201a8"
             ],
             [
              0.3333333333333333,
              "#9c179e"
             ],
             [
              0.4444444444444444,
              "#bd3786"
             ],
             [
              0.5555555555555556,
              "#d8576b"
             ],
             [
              0.6666666666666666,
              "#ed7953"
             ],
             [
              0.7777777777777778,
              "#fb9f3a"
             ],
             [
              0.8888888888888888,
              "#fdca26"
             ],
             [
              1,
              "#f0f921"
             ]
            ],
            "type": "surface"
           }
          ],
          "table": [
           {
            "cells": {
             "fill": {
              "color": "#EBF0F8"
             },
             "line": {
              "color": "white"
             }
            },
            "header": {
             "fill": {
              "color": "#C8D4E3"
             },
             "line": {
              "color": "white"
             }
            },
            "type": "table"
           }
          ]
         },
         "layout": {
          "annotationdefaults": {
           "arrowcolor": "#2a3f5f",
           "arrowhead": 0,
           "arrowwidth": 1
          },
          "autotypenumbers": "strict",
          "coloraxis": {
           "colorbar": {
            "outlinewidth": 0,
            "ticks": ""
           }
          },
          "colorscale": {
           "diverging": [
            [
             0,
             "#8e0152"
            ],
            [
             0.1,
             "#c51b7d"
            ],
            [
             0.2,
             "#de77ae"
            ],
            [
             0.3,
             "#f1b6da"
            ],
            [
             0.4,
             "#fde0ef"
            ],
            [
             0.5,
             "#f7f7f7"
            ],
            [
             0.6,
             "#e6f5d0"
            ],
            [
             0.7,
             "#b8e186"
            ],
            [
             0.8,
             "#7fbc41"
            ],
            [
             0.9,
             "#4d9221"
            ],
            [
             1,
             "#276419"
            ]
           ],
           "sequential": [
            [
             0,
             "#0d0887"
            ],
            [
             0.1111111111111111,
             "#46039f"
            ],
            [
             0.2222222222222222,
             "#7201a8"
            ],
            [
             0.3333333333333333,
             "#9c179e"
            ],
            [
             0.4444444444444444,
             "#bd3786"
            ],
            [
             0.5555555555555556,
             "#d8576b"
            ],
            [
             0.6666666666666666,
             "#ed7953"
            ],
            [
             0.7777777777777778,
             "#fb9f3a"
            ],
            [
             0.8888888888888888,
             "#fdca26"
            ],
            [
             1,
             "#f0f921"
            ]
           ],
           "sequentialminus": [
            [
             0,
             "#0d0887"
            ],
            [
             0.1111111111111111,
             "#46039f"
            ],
            [
             0.2222222222222222,
             "#7201a8"
            ],
            [
             0.3333333333333333,
             "#9c179e"
            ],
            [
             0.4444444444444444,
             "#bd3786"
            ],
            [
             0.5555555555555556,
             "#d8576b"
            ],
            [
             0.6666666666666666,
             "#ed7953"
            ],
            [
             0.7777777777777778,
             "#fb9f3a"
            ],
            [
             0.8888888888888888,
             "#fdca26"
            ],
            [
             1,
             "#f0f921"
            ]
           ]
          },
          "colorway": [
           "#636efa",
           "#EF553B",
           "#00cc96",
           "#ab63fa",
           "#FFA15A",
           "#19d3f3",
           "#FF6692",
           "#B6E880",
           "#FF97FF",
           "#FECB52"
          ],
          "font": {
           "color": "#2a3f5f"
          },
          "geo": {
           "bgcolor": "white",
           "lakecolor": "white",
           "landcolor": "#E5ECF6",
           "showlakes": true,
           "showland": true,
           "subunitcolor": "white"
          },
          "hoverlabel": {
           "align": "left"
          },
          "hovermode": "closest",
          "mapbox": {
           "style": "light"
          },
          "paper_bgcolor": "white",
          "plot_bgcolor": "#E5ECF6",
          "polar": {
           "angularaxis": {
            "gridcolor": "white",
            "linecolor": "white",
            "ticks": ""
           },
           "bgcolor": "#E5ECF6",
           "radialaxis": {
            "gridcolor": "white",
            "linecolor": "white",
            "ticks": ""
           }
          },
          "scene": {
           "xaxis": {
            "backgroundcolor": "#E5ECF6",
            "gridcolor": "white",
            "gridwidth": 2,
            "linecolor": "white",
            "showbackground": true,
            "ticks": "",
            "zerolinecolor": "white"
           },
           "yaxis": {
            "backgroundcolor": "#E5ECF6",
            "gridcolor": "white",
            "gridwidth": 2,
            "linecolor": "white",
            "showbackground": true,
            "ticks": "",
            "zerolinecolor": "white"
           },
           "zaxis": {
            "backgroundcolor": "#E5ECF6",
            "gridcolor": "white",
            "gridwidth": 2,
            "linecolor": "white",
            "showbackground": true,
            "ticks": "",
            "zerolinecolor": "white"
           }
          },
          "shapedefaults": {
           "line": {
            "color": "#2a3f5f"
           }
          },
          "ternary": {
           "aaxis": {
            "gridcolor": "white",
            "linecolor": "white",
            "ticks": ""
           },
           "baxis": {
            "gridcolor": "white",
            "linecolor": "white",
            "ticks": ""
           },
           "bgcolor": "#E5ECF6",
           "caxis": {
            "gridcolor": "white",
            "linecolor": "white",
            "ticks": ""
           }
          },
          "title": {
           "x": 0.05
          },
          "xaxis": {
           "automargin": true,
           "gridcolor": "white",
           "linecolor": "white",
           "ticks": "",
           "title": {
            "standoff": 15
           },
           "zerolinecolor": "white",
           "zerolinewidth": 2
          },
          "yaxis": {
           "automargin": true,
           "gridcolor": "white",
           "linecolor": "white",
           "ticks": "",
           "title": {
            "standoff": 15
           },
           "zerolinecolor": "white",
           "zerolinewidth": 2
          }
         }
        },
        "title": {
         "text": "Excess mortality per million inhabitants vs. Total vaccinations per hundred inhabitants, per country for 2021"
        },
        "width": 1000,
        "xaxis": {
         "anchor": "y",
         "domain": [
          0,
          1
         ],
         "range": [
          20,
          340
         ],
         "title": {
          "text": "Total vaccinations per hundred inhabitants"
         }
        },
        "yaxis": {
         "anchor": "x",
         "domain": [
          0,
          1
         ],
         "title": {
          "text": "Excess mortality cumulative per million inhabitants"
         }
        }
       }
      }
     },
     "metadata": {},
     "output_type": "display_data"
    }
   ],
   "source": [
    "import pandas as pd\n",
    "import plotly.express as px\n",
    "\n",
    "df = pd.read_csv('owid-covid-data.csv')\n",
    "\n",
    "df['date'] = pd.to_datetime(df['date'])\n",
    "\n",
    "\n",
    "df_2021 = df[df['date'].dt.year == 2021].copy()  \n",
    "def fill_last_available(df, col):\n",
    "    return df[col].groupby(df['location']).ffill()\n",
    "\n",
    "df_2021['excess_mortality_cumulative_per_million'] = fill_last_available(df_2021, 'excess_mortality_cumulative_per_million')\n",
    "df_2021['total_vaccinations_per_hundred'] = fill_last_available(df_2021, 'total_vaccinations_per_hundred')\n",
    "\n",
    "df_last_2021 = df_2021.groupby('location').last().reset_index()\n",
    "\n",
    "fig = px.scatter(df_last_2021, x='total_vaccinations_per_hundred', y='excess_mortality_cumulative_per_million', \n",
    "                 trendline='ols', trendline_color_override='darkblue',\n",
    "                 title='Excess mortality per million inhabitants vs. Total vaccinations per hundred inhabitants, per country for 2021',\n",
    "                 labels={'total_vaccinations_per_hundred': 'Total vaccinations per hundred inhabitants',\n",
    "                         'excess_mortality_cumulative_per_million': 'Excess mortality cumulative per million inhabitants'},\n",
    "                 hover_name='location', opacity=0.7,\n",
    "                 color_discrete_sequence=['cornflowerblue'])\n",
    "\n",
    "fig.update_layout(xaxis=dict(range=[20, 340]))\n",
    "\n",
    "\n",
    "fig.update_traces(\n",
    "    line=dict(width=2, color='darkblue')\n",
    ")\n",
    "\n",
    "fig.update_layout(width=1000,\n",
    "                  height=600)\n",
    "\n",
    "fig.show()"
   ]
  },
  {
   "cell_type": "code",
   "execution_count": 4,
   "metadata": {},
   "outputs": [
    {
     "name": "stdout",
     "output_type": "stream",
     "text": [
      "0.21265691224205055\n"
     ]
    },
    {
     "data": {
      "application/vnd.plotly.v1+json": {
       "config": {
        "plotlyServerURL": "https://plot.ly"
       },
       "data": [
        {
         "hovertemplate": "<b>%{hovertext}</b><br><br>GDP=%{x}<br>total_deaths_per_million=%{y}<extra></extra>",
         "hovertext": [
          "Aruba",
          "Afghanistan",
          "Angola",
          "Albania",
          "Andorra",
          "United Arab Emirates",
          "Argentina",
          "Armenia",
          "American Samoa",
          "Antigua and Barbuda",
          "Australia",
          "Austria",
          "Azerbaijan",
          "Burundi",
          "Belgium",
          "Benin",
          "Burkina Faso",
          "Bangladesh",
          "Bulgaria",
          "Bahrain",
          "Bosnia and Herzegovina",
          "Belarus",
          "Belize",
          "Bermuda",
          "Bolivia",
          "Brazil",
          "Barbados",
          "Bhutan",
          "Botswana",
          "Central African Republic",
          "Canada",
          "Switzerland",
          "Chile",
          "China",
          "Cote d'Ivoire",
          "Cameroon",
          "Colombia",
          "Comoros",
          "Costa Rica",
          "Cuba",
          "Curacao",
          "Cayman Islands",
          "Cyprus",
          "Czechia",
          "Germany",
          "Djibouti",
          "Dominica",
          "Denmark",
          "Dominican Republic",
          "Algeria",
          "Ecuador",
          "Eritrea",
          "Spain",
          "Estonia",
          "Ethiopia",
          "Finland",
          "Fiji",
          "France",
          "Gabon",
          "United Kingdom",
          "Georgia",
          "Ghana",
          "Gibraltar",
          "Guinea",
          "Guinea-Bissau",
          "Equatorial Guinea",
          "Greece",
          "Grenada",
          "Greenland",
          "Guatemala",
          "Guam",
          "Guyana",
          "Honduras",
          "Croatia",
          "Haiti",
          "Hungary",
          "Indonesia",
          "Isle of Man",
          "India",
          "Ireland",
          "Iraq",
          "Iceland",
          "Israel",
          "Italy",
          "Jamaica",
          "Jordan",
          "Japan",
          "Kazakhstan",
          "Kenya",
          "Cambodia",
          "Kiribati",
          "Kuwait",
          "Lebanon",
          "Liberia",
          "Libya",
          "Liechtenstein",
          "Sri Lanka",
          "Lesotho",
          "Lithuania",
          "Luxembourg",
          "Latvia",
          "Morocco",
          "Monaco",
          "Moldova",
          "Madagascar",
          "Maldives",
          "Mexico",
          "Marshall Islands",
          "North Macedonia",
          "Mali",
          "Malta",
          "Myanmar",
          "Montenegro",
          "Mongolia",
          "Northern Mariana Islands",
          "Mozambique",
          "Mauritania",
          "Mauritius",
          "Malawi",
          "Malaysia",
          "Namibia",
          "New Caledonia",
          "Niger",
          "Nigeria",
          "Nicaragua",
          "Netherlands",
          "Norway",
          "Nepal",
          "Nauru",
          "New Zealand",
          "Oman",
          "Pakistan",
          "Panama",
          "Peru",
          "Philippines",
          "Palau",
          "Papua New Guinea",
          "Poland",
          "Puerto Rico",
          "Portugal",
          "Paraguay",
          "French Polynesia",
          "Qatar",
          "Romania",
          "Rwanda",
          "Saudi Arabia",
          "Sudan",
          "Senegal",
          "Singapore",
          "Solomon Islands",
          "Sierra Leone",
          "El Salvador",
          "San Marino",
          "Somalia",
          "Serbia",
          "South Sudan",
          "Sao Tome and Principe",
          "Suriname",
          "Slovenia",
          "Sweden",
          "Eswatini",
          "Sint Maarten (Dutch part)",
          "Seychelles",
          "Turks and Caicos Islands",
          "Chad",
          "Togo",
          "Thailand",
          "Tajikistan",
          "Turkmenistan",
          "Tonga",
          "Trinidad and Tobago",
          "Tunisia",
          "Tuvalu",
          "Tanzania",
          "Uganda",
          "Ukraine",
          "Uruguay",
          "United States",
          "Uzbekistan",
          "British Virgin Islands",
          "Vanuatu",
          "Samoa",
          "Kosovo",
          "South Africa",
          "Zambia",
          "Zimbabwe"
         ],
         "legendgroup": "",
         "marker": {
          "color": "#636efa",
          "symbol": "circle"
         },
         "mode": "markers",
         "name": "",
         "orientation": "v",
         "showlegend": false,
         "type": "scatter",
         "x": [
          38226.146156979,
          2138.87024713086,
          7414.27895783202,
          16262.6634527606,
          58829.8500720505,
          68912.5455473732,
          26086.8023552274,
          16899.0709181678,
          null,
          25493.1295548691,
          57406.1787604549,
          63421.2035870778,
          20111.3756952109,
          864.280732753101,
          62107.0699329664,
          3575.31148668734,
          2467.67804044213,
          7366.48997079065,
          29406.5795920851,
          54351.8360757233,
          18379.5525047191,
          27611.1801135156,
          11559.8905984688,
          91508.8303752301,
          9342.97184473106,
          17450.5086501913,
          14686.2199296539,
          13423.4288723593,
          16651.5337042653,
          1057.19439503026,
          55634.8275796301,
          81603.2073073193,
          29148.2424509188,
          20406.7296584605,
          6432.62666292098,
          4741.76177028658,
          17586.5239590949,
          3426.75773437156,
          23700.2961314063,
          null,
          25163.8669323866,
          75898.4231569682,
          48469.4140625,
          48418.1157871868,
          61939.6515850137,
          6032.27795593735,
          14472.2858615339,
          69878.9348117258,
          21923.3019358073,
          12893.2100025293,
          13293.0871517821,
          null,
          43620.6040614123,
          45047.315035037,
          2628.34346412648,
          57848.6141705053,
          10593.9126867971,
          53834.7992971017,
          19552.3625335025,
          52841.6345850474,
          18691.1612210787,
          6544.2381999688,
          null,
          3735.0898272933,
          2164.37287781941,
          17936.6113034777,
          33018.2544152866,
          14325.5548482263,
          68086.4601238175,
          12106.4225430833,
          null,
          23176.1332006217,
          6285.9287396567,
          36954.4345867034,
          3114.96354203089,
          38643.762589993,
          12897.0571071313,
          null,
          8044.67480751057,
          114120.544516392,
          12476.3625169213,
          61481.3794980574,
          46126.6423137421,
          49912.83903304,
          9610.98933709822,
          9115.01951145213,
          44291.9852770528,
          34233.4732249708,
          5360.36190289931,
          4668.23777959985,
          2215.72978938238,
          48129.9882968208,
          11860.0586252712,
          1556.94547466638,
          15133.8474122324,
          null,
          14306.2352220864,
          2456.31221508897,
          46410.0676392912,
          137947.34385169,
          36777.8928459839,
          8581.330078125,
          null,
          15682.0703284653,
          1642.30416221094,
          18865.7192956579,
          21123.6718346798,
          6594.29953549562,
          19902.8198301911,
          2399.46153474407,
          53387.2378429299,
          5138.88724952007,
          24511.2620665873,
          14951.1365679904,
          null,
          1440.45976271877,
          5988.20355101133,
          22737.5729410543,
          1731.76777467309,
          30456.0928951741,
          10823.175558195,
          null,
          1538.47074692859,
          5623.66407810605,
          6874.61550569295,
          67693.3264311302,
          86891.9964886406,
          4461.46878467812,
          12126.5887460305,
          48555.5523439365,
          38930.9938379577,
          5554.58570149625,
          30895.8322499594,
          14853.5805797423,
          8797.16871175312,
          15572.7392991737,
          4014.2854655247,
          40462.6887122126,
          40537.7088223526,
          38783.0115625218,
          15361.0847494949,
          null,
          108865.13777489,
          37971.0545519053,
          2705.84426715937,
          47754.4377844143,
          3420.45190429688,
          4266.26875168597,
          128731.011187586,
          2645.34556016287,
          1623.97562392431,
          10860.247882807,
          65717.8915454458,
          1461.96879165973,
          22575.4210980499,
          null,
          5703.24824295017,
          18447.3399360527,
          46502.0978938704,
          63375.0446462412,
          10202.5096730796,
          39465.6250774608,
          25938.2456464216,
          21232.6835191491,
          1764.34807562549,
          2678.83160754709,
          20253.3547905679,
          4074.56022293416,
          null,
          6778.50356937661,
          27631.6778146419,
          12126.587729035,
          5080.76524350095,
          3451.4482421875,
          2688.26683541397,
          18040.345703125,
          29500.3726206454,
          70219.472454115,
          8162.19581678153,
          null,
          3090.22795764862,
          6107.16207916622,
          12362.7048078624,
          14172.5442513912,
          3526.50741832512,
          3276.26775280153
         ],
         "xaxis": "x",
         "y": [
          1700.185,
          178.756,
          49.06,
          1121.268,
          1740.917,
          228.362,
          2589.083,
          2856.709,
          null,
          1258.371,
          90.803,
          1855.449,
          799.762,
          1.086,
          2418.684,
          12.057,
          13.981,
          163.915,
          4501.357,
          946.858,
          4107.894,
          575.147,
          1460.7,
          1650.91,
          1597.662,
          2872.054,
          923.145,
          3.834,
          927.271,
          18.103,
          776.272,
          1353.245,
          1990.08,
          3.997,
          25.106,
          66.31,
          2500.018,
          182.843,
          1418.497,
          742.049,
          972.941,
          160.065,
          710.932,
          3429.391,
          1411.686,
          168.622,
          618.489,
          543.499,
          377.333,
          138.721,
          1869.174,
          19.544,
          1919.21,
          1378.516,
          55.876,
          331.363,
          749.649,
          1921.267,
          120.134,
          2609.418,
          3608.603,
          38.446,
          3060.256,
          28.068,
          70.764,
          104.483,
          1974.488,
          1594.146,
          17.701,
          901.988,
          1571.75,
          1288.445,
          999.63,
          3046.625,
          66.12,
          3843.266,
          522.883,
          792.581,
          338.478,
          1205.23,
          542.115,
          99.222,
          873.214,
          2312.599,
          870.77,
          1102.617,
          148.34,
          937.468,
          99.19,
          179.391,
          null,
          578.137,
          1644.339,
          54.123,
          828.056,
          1753.272,
          681.747,
          288.4,
          2655.217,
          980.542,
          2601.783,
          395.83,
          1041.353,
          3111.525,
          34.682,
          498.284,
          2378.394,
          null,
          3989.289,
          28.902,
          924.445,
          355.375,
          3629.509,
          582.926,
          221.891,
          59.449,
          182.005,
          586.389,
          114.088,
          923.266,
          1406.687,
          965.654,
          10.455,
          13.791,
          31.086,
          1193.349,
          245.661,
          379.244,
          null,
          9.643,
          978.957,
          122.57,
          1680.586,
          5945.858,
          443.064,
          null,
          58.17,
          2366.702,
          1014.939,
          1838.99,
          2447.814,
          2076.45,
          227.818,
          2977.527,
          97.701,
          243.622,
          70.359,
          109.145,
          145.822,
          null,
          14.293,
          602.551,
          2908.875,
          75.749,
          1828.991,
          12.37,
          250.667,
          1918.951,
          2872.383,
          1450.516,
          1058.518,
          1697.14,
          1176.086,
          568.604,
          10.213,
          27.801,
          300.989,
          12.559,
          null,
          null,
          1775.26,
          2065.617,
          null,
          11.252,
          69.419,
          2330.704,
          1800.283,
          2402.044,
          24.836,
          1244.734,
          null,
          null,
          1671.609,
          1515.564,
          184.687,
          299.316
         ],
         "yaxis": "y"
        },
        {
         "hovertemplate": "<b>OLS trendline</b><br>total_deaths_per_million = 0.00907569 * 2021 + 828.026<br>R<sup>2</sup>=0.045223<br><br>GDP=%{x}<br>total_deaths_per_million=%{y} <b>(trend)</b><extra></extra>",
         "legendgroup": "",
         "marker": {
          "color": "#636efa",
          "symbol": "circle"
         },
         "mode": "lines",
         "name": "",
         "showlegend": false,
         "type": "scatter",
         "x": [
          864.280732753101,
          1057.19439503026,
          1440.45976271877,
          1461.96879165973,
          1538.47074692859,
          1556.94547466638,
          1623.97562392431,
          1642.30416221094,
          1731.76777467309,
          1764.34807562549,
          2138.87024713086,
          2164.37287781941,
          2399.46153474407,
          2456.31221508897,
          2467.67804044213,
          2628.34346412648,
          2678.83160754709,
          2688.26683541397,
          2705.84426715937,
          3114.96354203089,
          3276.26775280153,
          3420.45190429688,
          3426.75773437156,
          3451.4482421875,
          3526.50741832512,
          3575.31148668734,
          3735.0898272933,
          4014.2854655247,
          4074.56022293416,
          4266.26875168597,
          4461.46878467812,
          4668.23777959985,
          4741.76177028658,
          5138.88724952007,
          5360.36190289931,
          5554.58570149625,
          5623.66407810605,
          5703.24824295017,
          5988.20355101133,
          6032.27795593735,
          6285.9287396567,
          6432.62666292098,
          6544.2381999688,
          6874.61550569295,
          7366.48997079065,
          7414.27895783202,
          8044.67480751057,
          8162.19581678153,
          8581.330078125,
          8797.16871175312,
          9115.01951145213,
          9342.97184473106,
          9610.98933709822,
          10202.5096730796,
          10593.9126867971,
          10823.175558195,
          10860.247882807,
          11559.8905984688,
          11860.0586252712,
          12106.4225430833,
          12126.587729035,
          12362.7048078624,
          12476.3625169213,
          12893.2100025293,
          12897.0571071313,
          13293.0871517821,
          13423.4288723593,
          14172.5442513912,
          14306.2352220864,
          14325.5548482263,
          14472.2858615339,
          14686.2199296539,
          14853.5805797423,
          14951.1365679904,
          15133.8474122324,
          15361.0847494949,
          15682.0703284653,
          16262.6634527606,
          16651.5337042653,
          16899.0709181678,
          17450.5086501913,
          17586.5239590949,
          17936.6113034777,
          18040.345703125,
          18379.5525047191,
          18447.3399360527,
          18691.1612210787,
          18865.7192956579,
          19552.3625335025,
          19902.8198301911,
          20111.3756952109,
          20253.3547905679,
          20406.7296584605,
          21123.6718346798,
          21232.6835191491,
          21923.3019358073,
          22575.4210980499,
          22737.5729410543,
          23176.1332006217,
          23700.2961314063,
          24511.2620665873,
          25163.8669323866,
          25493.1295548691,
          25938.2456464216,
          26086.8023552274,
          27611.1801135156,
          27631.6778146419,
          29148.2424509188,
          29406.5795920851,
          29500.3726206454,
          30456.0928951741,
          30895.8322499594,
          33018.2544152866,
          34233.4732249708,
          36777.8928459839,
          36954.4345867034,
          37971.0545519053,
          38226.146156979,
          38643.762589993,
          38783.0115625218,
          38930.9938379577,
          39465.6250774608,
          40462.6887122126,
          40537.7088223526,
          43620.6040614123,
          44291.9852770528,
          45047.315035037,
          46126.6423137421,
          46410.0676392912,
          46502.0978938704,
          47754.4377844143,
          48129.9882968208,
          48418.1157871868,
          48469.4140625,
          48555.5523439365,
          49912.83903304,
          52841.6345850474,
          53387.2378429299,
          53834.7992971017,
          54351.8360757233,
          55634.8275796301,
          57406.1787604549,
          57848.6141705053,
          58829.8500720505,
          61481.3794980574,
          61939.6515850137,
          62107.0699329664,
          63375.0446462412,
          63421.2035870778,
          65717.8915454458,
          67693.3264311302,
          68086.4601238175,
          68912.5455473732,
          69878.9348117258,
          70219.472454115,
          75898.4231569682,
          81603.2073073193,
          86891.9964886406,
          91508.8303752301,
          108865.13777489,
          114120.544516392,
          128731.011187586,
          137947.34385169
         ],
         "xaxis": "x",
         "y": [
          835.8700102980916,
          837.6208347540064,
          841.0992321413835,
          841.2944414046792,
          841.9887493797027,
          842.1564202681088,
          842.764765074895,
          842.9311091932669,
          843.7430531414782,
          844.0387418294393,
          847.4377886849795,
          847.6692426368282,
          849.802834239379,
          850.3187933493161,
          850.4219460485863,
          851.8800955113358,
          852.3383102131412,
          852.4239414095089,
          852.5834687182995,
          856.296508133839,
          857.7604550296971,
          859.0690255871867,
          859.1262553415714,
          859.3503387185746,
          860.0315524785091,
          860.4744830383672,
          861.9245816107352,
          864.4584744705264,
          865.0055094399585,
          866.7453964784612,
          868.5169713245548,
          870.3935424743668,
          871.060823368168,
          874.6650108212574,
          876.675045957828,
          878.4377608038903,
          879.0646946856886,
          879.7869758371005,
          882.3731416705987,
          882.77314727473,
          885.0752029723703,
          886.4065877413453,
          887.4195393712035,
          890.4179411417844,
          894.8820409497896,
          895.3157589469898,
          901.0370357995264,
          902.1036199630668,
          905.9075522839286,
          907.8664366564849,
          910.7511517506682,
          912.8199762972375,
          915.2524197784836,
          920.6208745482613,
          924.1731266824353,
          926.2538452657567,
          926.5903021646727,
          932.9400420562072,
          935.6642737980435,
          937.900196164914,
          938.0832091268035,
          940.226134366988,
          941.257656418224,
          945.0408346730669,
          945.0757497990468,
          948.6699954282416,
          949.8529363838941,
          956.6516747958298,
          957.8650125048607,
          958.040351428634,
          959.3720365125605,
          961.3136356403594,
          962.8325488975842,
          963.717936733933,
          965.3761635836215,
          967.4384990485123,
          970.3516644253114,
          975.6209472171736,
          979.1502127884943,
          981.3967836261099,
          986.4014611369946,
          987.6358938173773,
          990.8131777744412,
          991.7546389528682,
          994.8331744844281,
          995.4483921480272,
          997.6612383697882,
          999.2454732152787,
          1005.4772338853945,
          1008.6578754146328,
          1010.5506636422314,
          1011.8392217953732,
          1013.2312044391076,
          1019.7379488593037,
          1020.727305034996,
          1026.9951431928405,
          1032.913574080253,
          1034.385213822885,
          1038.3654504675026,
          1043.1225903572795,
          1050.4826651983697,
          1056.4055041803429,
          1059.3937894321814,
          1063.4335247708411,
          1064.7817792998217,
          1078.616558173228,
          1078.8025889395217,
          1092.5664583452785,
          1094.9110459669432,
          1095.7622823504078,
          1104.4361025967644,
          1108.4270403432063,
          1127.6894844281237,
          1138.7184327471182,
          1161.810794615086,
          1163.413032598093,
          1172.6395595140016,
          1174.954691658556,
          1178.7448486411254,
          1180.0086290477934,
          1181.3516701979988,
          1186.2038172049497,
          1195.2528569423152,
          1195.933716151394,
          1223.9131154114327,
          1230.0063627103013,
          1236.8615008946513,
          1246.657139903245,
          1249.2294200908661,
          1250.0646580854143,
          1261.430505799879,
          1264.8388855579076,
          1267.453841132331,
          1267.9194083394664,
          1268.7011726165492,
          1281.0194848652475,
          1307.600323248077,
          1312.5520488845693,
          1316.613977574529,
          1321.3064427215413,
          1332.9504749546945,
          1349.0267078704633,
          1353.042114176762,
          1361.9475063256018,
          1386.011963502102,
          1390.1710985671623,
          1391.6905354722753,
          1403.1982799797306,
          1403.617204184071,
          1424.461230458055,
          1442.389663665416,
          1445.9576229041563,
          1453.4549175237466,
          1462.2255662066332,
          1465.3161800357252,
          1516.856572028309,
          1568.6314203633103,
          1616.6308276190352,
          1658.531777412439,
          1816.0522303497773,
          1863.7486689544287,
          1996.3487246389384,
          2079.993296162216
         ],
         "yaxis": "y"
        }
       ],
       "layout": {
        "legend": {
         "tracegroupgap": 0
        },
        "template": {
         "data": {
          "bar": [
           {
            "error_x": {
             "color": "#2a3f5f"
            },
            "error_y": {
             "color": "#2a3f5f"
            },
            "marker": {
             "line": {
              "color": "#E5ECF6",
              "width": 0.5
             },
             "pattern": {
              "fillmode": "overlay",
              "size": 10,
              "solidity": 0.2
             }
            },
            "type": "bar"
           }
          ],
          "barpolar": [
           {
            "marker": {
             "line": {
              "color": "#E5ECF6",
              "width": 0.5
             },
             "pattern": {
              "fillmode": "overlay",
              "size": 10,
              "solidity": 0.2
             }
            },
            "type": "barpolar"
           }
          ],
          "carpet": [
           {
            "aaxis": {
             "endlinecolor": "#2a3f5f",
             "gridcolor": "white",
             "linecolor": "white",
             "minorgridcolor": "white",
             "startlinecolor": "#2a3f5f"
            },
            "baxis": {
             "endlinecolor": "#2a3f5f",
             "gridcolor": "white",
             "linecolor": "white",
             "minorgridcolor": "white",
             "startlinecolor": "#2a3f5f"
            },
            "type": "carpet"
           }
          ],
          "choropleth": [
           {
            "colorbar": {
             "outlinewidth": 0,
             "ticks": ""
            },
            "type": "choropleth"
           }
          ],
          "contour": [
           {
            "colorbar": {
             "outlinewidth": 0,
             "ticks": ""
            },
            "colorscale": [
             [
              0,
              "#0d0887"
             ],
             [
              0.1111111111111111,
              "#46039f"
             ],
             [
              0.2222222222222222,
              "#7201a8"
             ],
             [
              0.3333333333333333,
              "#9c179e"
             ],
             [
              0.4444444444444444,
              "#bd3786"
             ],
             [
              0.5555555555555556,
              "#d8576b"
             ],
             [
              0.6666666666666666,
              "#ed7953"
             ],
             [
              0.7777777777777778,
              "#fb9f3a"
             ],
             [
              0.8888888888888888,
              "#fdca26"
             ],
             [
              1,
              "#f0f921"
             ]
            ],
            "type": "contour"
           }
          ],
          "contourcarpet": [
           {
            "colorbar": {
             "outlinewidth": 0,
             "ticks": ""
            },
            "type": "contourcarpet"
           }
          ],
          "heatmap": [
           {
            "colorbar": {
             "outlinewidth": 0,
             "ticks": ""
            },
            "colorscale": [
             [
              0,
              "#0d0887"
             ],
             [
              0.1111111111111111,
              "#46039f"
             ],
             [
              0.2222222222222222,
              "#7201a8"
             ],
             [
              0.3333333333333333,
              "#9c179e"
             ],
             [
              0.4444444444444444,
              "#bd3786"
             ],
             [
              0.5555555555555556,
              "#d8576b"
             ],
             [
              0.6666666666666666,
              "#ed7953"
             ],
             [
              0.7777777777777778,
              "#fb9f3a"
             ],
             [
              0.8888888888888888,
              "#fdca26"
             ],
             [
              1,
              "#f0f921"
             ]
            ],
            "type": "heatmap"
           }
          ],
          "heatmapgl": [
           {
            "colorbar": {
             "outlinewidth": 0,
             "ticks": ""
            },
            "colorscale": [
             [
              0,
              "#0d0887"
             ],
             [
              0.1111111111111111,
              "#46039f"
             ],
             [
              0.2222222222222222,
              "#7201a8"
             ],
             [
              0.3333333333333333,
              "#9c179e"
             ],
             [
              0.4444444444444444,
              "#bd3786"
             ],
             [
              0.5555555555555556,
              "#d8576b"
             ],
             [
              0.6666666666666666,
              "#ed7953"
             ],
             [
              0.7777777777777778,
              "#fb9f3a"
             ],
             [
              0.8888888888888888,
              "#fdca26"
             ],
             [
              1,
              "#f0f921"
             ]
            ],
            "type": "heatmapgl"
           }
          ],
          "histogram": [
           {
            "marker": {
             "pattern": {
              "fillmode": "overlay",
              "size": 10,
              "solidity": 0.2
             }
            },
            "type": "histogram"
           }
          ],
          "histogram2d": [
           {
            "colorbar": {
             "outlinewidth": 0,
             "ticks": ""
            },
            "colorscale": [
             [
              0,
              "#0d0887"
             ],
             [
              0.1111111111111111,
              "#46039f"
             ],
             [
              0.2222222222222222,
              "#7201a8"
             ],
             [
              0.3333333333333333,
              "#9c179e"
             ],
             [
              0.4444444444444444,
              "#bd3786"
             ],
             [
              0.5555555555555556,
              "#d8576b"
             ],
             [
              0.6666666666666666,
              "#ed7953"
             ],
             [
              0.7777777777777778,
              "#fb9f3a"
             ],
             [
              0.8888888888888888,
              "#fdca26"
             ],
             [
              1,
              "#f0f921"
             ]
            ],
            "type": "histogram2d"
           }
          ],
          "histogram2dcontour": [
           {
            "colorbar": {
             "outlinewidth": 0,
             "ticks": ""
            },
            "colorscale": [
             [
              0,
              "#0d0887"
             ],
             [
              0.1111111111111111,
              "#46039f"
             ],
             [
              0.2222222222222222,
              "#7201a8"
             ],
             [
              0.3333333333333333,
              "#9c179e"
             ],
             [
              0.4444444444444444,
              "#bd3786"
             ],
             [
              0.5555555555555556,
              "#d8576b"
             ],
             [
              0.6666666666666666,
              "#ed7953"
             ],
             [
              0.7777777777777778,
              "#fb9f3a"
             ],
             [
              0.8888888888888888,
              "#fdca26"
             ],
             [
              1,
              "#f0f921"
             ]
            ],
            "type": "histogram2dcontour"
           }
          ],
          "mesh3d": [
           {
            "colorbar": {
             "outlinewidth": 0,
             "ticks": ""
            },
            "type": "mesh3d"
           }
          ],
          "parcoords": [
           {
            "line": {
             "colorbar": {
              "outlinewidth": 0,
              "ticks": ""
             }
            },
            "type": "parcoords"
           }
          ],
          "pie": [
           {
            "automargin": true,
            "type": "pie"
           }
          ],
          "scatter": [
           {
            "fillpattern": {
             "fillmode": "overlay",
             "size": 10,
             "solidity": 0.2
            },
            "type": "scatter"
           }
          ],
          "scatter3d": [
           {
            "line": {
             "colorbar": {
              "outlinewidth": 0,
              "ticks": ""
             }
            },
            "marker": {
             "colorbar": {
              "outlinewidth": 0,
              "ticks": ""
             }
            },
            "type": "scatter3d"
           }
          ],
          "scattercarpet": [
           {
            "marker": {
             "colorbar": {
              "outlinewidth": 0,
              "ticks": ""
             }
            },
            "type": "scattercarpet"
           }
          ],
          "scattergeo": [
           {
            "marker": {
             "colorbar": {
              "outlinewidth": 0,
              "ticks": ""
             }
            },
            "type": "scattergeo"
           }
          ],
          "scattergl": [
           {
            "marker": {
             "colorbar": {
              "outlinewidth": 0,
              "ticks": ""
             }
            },
            "type": "scattergl"
           }
          ],
          "scattermapbox": [
           {
            "marker": {
             "colorbar": {
              "outlinewidth": 0,
              "ticks": ""
             }
            },
            "type": "scattermapbox"
           }
          ],
          "scatterpolar": [
           {
            "marker": {
             "colorbar": {
              "outlinewidth": 0,
              "ticks": ""
             }
            },
            "type": "scatterpolar"
           }
          ],
          "scatterpolargl": [
           {
            "marker": {
             "colorbar": {
              "outlinewidth": 0,
              "ticks": ""
             }
            },
            "type": "scatterpolargl"
           }
          ],
          "scatterternary": [
           {
            "marker": {
             "colorbar": {
              "outlinewidth": 0,
              "ticks": ""
             }
            },
            "type": "scatterternary"
           }
          ],
          "surface": [
           {
            "colorbar": {
             "outlinewidth": 0,
             "ticks": ""
            },
            "colorscale": [
             [
              0,
              "#0d0887"
             ],
             [
              0.1111111111111111,
              "#46039f"
             ],
             [
              0.2222222222222222,
              "#7201a8"
             ],
             [
              0.3333333333333333,
              "#9c179e"
             ],
             [
              0.4444444444444444,
              "#bd3786"
             ],
             [
              0.5555555555555556,
              "#d8576b"
             ],
             [
              0.6666666666666666,
              "#ed7953"
             ],
             [
              0.7777777777777778,
              "#fb9f3a"
             ],
             [
              0.8888888888888888,
              "#fdca26"
             ],
             [
              1,
              "#f0f921"
             ]
            ],
            "type": "surface"
           }
          ],
          "table": [
           {
            "cells": {
             "fill": {
              "color": "#EBF0F8"
             },
             "line": {
              "color": "white"
             }
            },
            "header": {
             "fill": {
              "color": "#C8D4E3"
             },
             "line": {
              "color": "white"
             }
            },
            "type": "table"
           }
          ]
         },
         "layout": {
          "annotationdefaults": {
           "arrowcolor": "#2a3f5f",
           "arrowhead": 0,
           "arrowwidth": 1
          },
          "autotypenumbers": "strict",
          "coloraxis": {
           "colorbar": {
            "outlinewidth": 0,
            "ticks": ""
           }
          },
          "colorscale": {
           "diverging": [
            [
             0,
             "#8e0152"
            ],
            [
             0.1,
             "#c51b7d"
            ],
            [
             0.2,
             "#de77ae"
            ],
            [
             0.3,
             "#f1b6da"
            ],
            [
             0.4,
             "#fde0ef"
            ],
            [
             0.5,
             "#f7f7f7"
            ],
            [
             0.6,
             "#e6f5d0"
            ],
            [
             0.7,
             "#b8e186"
            ],
            [
             0.8,
             "#7fbc41"
            ],
            [
             0.9,
             "#4d9221"
            ],
            [
             1,
             "#276419"
            ]
           ],
           "sequential": [
            [
             0,
             "#0d0887"
            ],
            [
             0.1111111111111111,
             "#46039f"
            ],
            [
             0.2222222222222222,
             "#7201a8"
            ],
            [
             0.3333333333333333,
             "#9c179e"
            ],
            [
             0.4444444444444444,
             "#bd3786"
            ],
            [
             0.5555555555555556,
             "#d8576b"
            ],
            [
             0.6666666666666666,
             "#ed7953"
            ],
            [
             0.7777777777777778,
             "#fb9f3a"
            ],
            [
             0.8888888888888888,
             "#fdca26"
            ],
            [
             1,
             "#f0f921"
            ]
           ],
           "sequentialminus": [
            [
             0,
             "#0d0887"
            ],
            [
             0.1111111111111111,
             "#46039f"
            ],
            [
             0.2222222222222222,
             "#7201a8"
            ],
            [
             0.3333333333333333,
             "#9c179e"
            ],
            [
             0.4444444444444444,
             "#bd3786"
            ],
            [
             0.5555555555555556,
             "#d8576b"
            ],
            [
             0.6666666666666666,
             "#ed7953"
            ],
            [
             0.7777777777777778,
             "#fb9f3a"
            ],
            [
             0.8888888888888888,
             "#fdca26"
            ],
            [
             1,
             "#f0f921"
            ]
           ]
          },
          "colorway": [
           "#636efa",
           "#EF553B",
           "#00cc96",
           "#ab63fa",
           "#FFA15A",
           "#19d3f3",
           "#FF6692",
           "#B6E880",
           "#FF97FF",
           "#FECB52"
          ],
          "font": {
           "color": "#2a3f5f"
          },
          "geo": {
           "bgcolor": "white",
           "lakecolor": "white",
           "landcolor": "#E5ECF6",
           "showlakes": true,
           "showland": true,
           "subunitcolor": "white"
          },
          "hoverlabel": {
           "align": "left"
          },
          "hovermode": "closest",
          "mapbox": {
           "style": "light"
          },
          "paper_bgcolor": "white",
          "plot_bgcolor": "#E5ECF6",
          "polar": {
           "angularaxis": {
            "gridcolor": "white",
            "linecolor": "white",
            "ticks": ""
           },
           "bgcolor": "#E5ECF6",
           "radialaxis": {
            "gridcolor": "white",
            "linecolor": "white",
            "ticks": ""
           }
          },
          "scene": {
           "xaxis": {
            "backgroundcolor": "#E5ECF6",
            "gridcolor": "white",
            "gridwidth": 2,
            "linecolor": "white",
            "showbackground": true,
            "ticks": "",
            "zerolinecolor": "white"
           },
           "yaxis": {
            "backgroundcolor": "#E5ECF6",
            "gridcolor": "white",
            "gridwidth": 2,
            "linecolor": "white",
            "showbackground": true,
            "ticks": "",
            "zerolinecolor": "white"
           },
           "zaxis": {
            "backgroundcolor": "#E5ECF6",
            "gridcolor": "white",
            "gridwidth": 2,
            "linecolor": "white",
            "showbackground": true,
            "ticks": "",
            "zerolinecolor": "white"
           }
          },
          "shapedefaults": {
           "line": {
            "color": "#2a3f5f"
           }
          },
          "ternary": {
           "aaxis": {
            "gridcolor": "white",
            "linecolor": "white",
            "ticks": ""
           },
           "baxis": {
            "gridcolor": "white",
            "linecolor": "white",
            "ticks": ""
           },
           "bgcolor": "#E5ECF6",
           "caxis": {
            "gridcolor": "white",
            "linecolor": "white",
            "ticks": ""
           }
          },
          "title": {
           "x": 0.05
          },
          "xaxis": {
           "automargin": true,
           "gridcolor": "white",
           "linecolor": "white",
           "ticks": "",
           "title": {
            "standoff": 15
           },
           "zerolinecolor": "white",
           "zerolinewidth": 2
          },
          "yaxis": {
           "automargin": true,
           "gridcolor": "white",
           "linecolor": "white",
           "ticks": "",
           "title": {
            "standoff": 15
           },
           "zerolinecolor": "white",
           "zerolinewidth": 2
          }
         }
        },
        "title": {
         "text": "Comparison of GDP and Deaths per Million by Country"
        },
        "xaxis": {
         "anchor": "y",
         "domain": [
          0,
          1
         ],
         "title": {
          "text": "GDP"
         }
        },
        "yaxis": {
         "anchor": "x",
         "domain": [
          0,
          1
         ],
         "title": {
          "text": "total_deaths_per_million"
         }
        }
       }
      }
     },
     "metadata": {},
     "output_type": "display_data"
    }
   ],
   "source": [
    "CovidData = pd.read_csv('owid-covid-data.csv')\n",
    "GDPdata = pd.read_csv('GDP-data.csv', skiprows=4)\n",
    "\n",
    "Covid_2021 = CovidData[CovidData['date'].str.startswith('2021')]\n",
    "Covid_deaths_2021 = Covid_2021.groupby('location').last()['total_deaths_per_million'].reset_index()\n",
    "\n",
    "GDPdata = GDPdata.rename(columns={'Country Name': 'location'})\n",
    "\n",
    "df = pd.merge(GDPdata, Covid_deaths_2021, on='location', how='inner')\n",
    "\n",
    "\n",
    "df = df[df['location'] != 'World']\n",
    "df = df[df['location'] != 'Upper middle income']\n",
    "df = df[df['location'] != 'Lower middle income']\n",
    "df = df[df['location'] !=  'High income']\n",
    "df = df[df['location'] !=  'Low income']\n",
    "df = df[df['location'] !=  'European Union']\n",
    "df = df[df['location'] !=  'North America']\n",
    "df = df[df['location'] !=  'South America']\n",
    "df = df[df['location'] !=  'Asia']\n",
    "df = df[df['location'] !=  'Oceania']\n",
    "df = df[df['location'] !=  'Africa']\n",
    "\n",
    "\n",
    "correlation = df['total_deaths_per_million'].corr(df['2021'])\n",
    "print(correlation)\n",
    "\n",
    "fig = px.scatter(\n",
    "    df,\n",
    "    x=\"2021\",\n",
    "    y=\"total_deaths_per_million\",\n",
    "    hover_name=\"location\",\n",
    "    trendline=\"ols\",\n",
    "    title=\"Comparison of GDP and Deaths per Million by Country\",\n",
    "    labels={\n",
    "        \"2021\": \"GDP\",\n",
    "        \"total_deaths\": \"Total Deaths per million\"\n",
    "    }\n",
    ")\n",
    "fig\n",
    "\n"
   ]
  },
  {
   "cell_type": "code",
   "execution_count": 5,
   "metadata": {},
   "outputs": [
    {
     "data": {
      "application/vnd.plotly.v1+json": {
       "config": {
        "plotlyServerURL": "https://plot.ly"
       },
       "data": [
        {
         "coloraxis": "coloraxis",
         "geo": "geo",
         "hovertemplate": "<b>%{hovertext}</b><br><br>Country Code=%{location}<br>total_deaths_per_million=%{z}<extra></extra>",
         "hovertext": [
          "Aruba",
          "Afghanistan",
          "Angola",
          "Albania",
          "Andorra",
          "United Arab Emirates",
          "Argentina",
          "Armenia",
          "American Samoa",
          "Antigua and Barbuda",
          "Australia",
          "Austria",
          "Azerbaijan",
          "Burundi",
          "Belgium",
          "Benin",
          "Burkina Faso",
          "Bangladesh",
          "Bulgaria",
          "Bahrain",
          "Bosnia and Herzegovina",
          "Belarus",
          "Belize",
          "Bermuda",
          "Bolivia",
          "Brazil",
          "Barbados",
          "Bhutan",
          "Botswana",
          "Central African Republic",
          "Canada",
          "Switzerland",
          "Chile",
          "China",
          "Cote d'Ivoire",
          "Cameroon",
          "Colombia",
          "Comoros",
          "Costa Rica",
          "Cuba",
          "Curacao",
          "Cayman Islands",
          "Cyprus",
          "Czechia",
          "Germany",
          "Djibouti",
          "Dominica",
          "Denmark",
          "Dominican Republic",
          "Algeria",
          "Ecuador",
          "Eritrea",
          "Spain",
          "Estonia",
          "Ethiopia",
          "Finland",
          "Fiji",
          "France",
          "Gabon",
          "United Kingdom",
          "Georgia",
          "Ghana",
          "Gibraltar",
          "Guinea",
          "Guinea-Bissau",
          "Equatorial Guinea",
          "Greece",
          "Grenada",
          "Greenland",
          "Guatemala",
          "Guam",
          "Guyana",
          "Honduras",
          "Croatia",
          "Haiti",
          "Hungary",
          "Indonesia",
          "Isle of Man",
          "India",
          "Ireland",
          "Iraq",
          "Iceland",
          "Israel",
          "Italy",
          "Jamaica",
          "Jordan",
          "Japan",
          "Kazakhstan",
          "Kenya",
          "Cambodia",
          "Kiribati",
          "Kuwait",
          "Lebanon",
          "Liberia",
          "Libya",
          "Liechtenstein",
          "Sri Lanka",
          "Lesotho",
          "Lithuania",
          "Luxembourg",
          "Latvia",
          "Morocco",
          "Monaco",
          "Moldova",
          "Madagascar",
          "Maldives",
          "Mexico",
          "Marshall Islands",
          "North Macedonia",
          "Mali",
          "Malta",
          "Myanmar",
          "Montenegro",
          "Mongolia",
          "Northern Mariana Islands",
          "Mozambique",
          "Mauritania",
          "Mauritius",
          "Malawi",
          "Malaysia",
          "Namibia",
          "New Caledonia",
          "Niger",
          "Nigeria",
          "Nicaragua",
          "Netherlands",
          "Norway",
          "Nepal",
          "Nauru",
          "New Zealand",
          "Oman",
          "Pakistan",
          "Panama",
          "Peru",
          "Philippines",
          "Palau",
          "Papua New Guinea",
          "Poland",
          "Puerto Rico",
          "Portugal",
          "Paraguay",
          "French Polynesia",
          "Qatar",
          "Romania",
          "Rwanda",
          "Saudi Arabia",
          "Sudan",
          "Senegal",
          "Singapore",
          "Solomon Islands",
          "Sierra Leone",
          "El Salvador",
          "San Marino",
          "Somalia",
          "Serbia",
          "South Sudan",
          "Sao Tome and Principe",
          "Suriname",
          "Slovenia",
          "Sweden",
          "Eswatini",
          "Sint Maarten (Dutch part)",
          "Seychelles",
          "Turks and Caicos Islands",
          "Chad",
          "Togo",
          "Thailand",
          "Tajikistan",
          "Turkmenistan",
          "Tonga",
          "Trinidad and Tobago",
          "Tunisia",
          "Tuvalu",
          "Tanzania",
          "Uganda",
          "Ukraine",
          "Uruguay",
          "United States",
          "Uzbekistan",
          "British Virgin Islands",
          "Vanuatu",
          "Samoa",
          "Kosovo",
          "South Africa",
          "Zambia",
          "Zimbabwe"
         ],
         "locations": [
          "ABW",
          "AFG",
          "AGO",
          "ALB",
          "AND",
          "ARE",
          "ARG",
          "ARM",
          "ASM",
          "ATG",
          "AUS",
          "AUT",
          "AZE",
          "BDI",
          "BEL",
          "BEN",
          "BFA",
          "BGD",
          "BGR",
          "BHR",
          "BIH",
          "BLR",
          "BLZ",
          "BMU",
          "BOL",
          "BRA",
          "BRB",
          "BTN",
          "BWA",
          "CAF",
          "CAN",
          "CHE",
          "CHL",
          "CHN",
          "CIV",
          "CMR",
          "COL",
          "COM",
          "CRI",
          "CUB",
          "CUW",
          "CYM",
          "CYP",
          "CZE",
          "DEU",
          "DJI",
          "DMA",
          "DNK",
          "DOM",
          "DZA",
          "ECU",
          "ERI",
          "ESP",
          "EST",
          "ETH",
          "FIN",
          "FJI",
          "FRA",
          "GAB",
          "GBR",
          "GEO",
          "GHA",
          "GIB",
          "GIN",
          "GNB",
          "GNQ",
          "GRC",
          "GRD",
          "GRL",
          "GTM",
          "GUM",
          "GUY",
          "HND",
          "HRV",
          "HTI",
          "HUN",
          "IDN",
          "IMN",
          "IND",
          "IRL",
          "IRQ",
          "ISL",
          "ISR",
          "ITA",
          "JAM",
          "JOR",
          "JPN",
          "KAZ",
          "KEN",
          "KHM",
          "KIR",
          "KWT",
          "LBN",
          "LBR",
          "LBY",
          "LIE",
          "LKA",
          "LSO",
          "LTU",
          "LUX",
          "LVA",
          "MAR",
          "MCO",
          "MDA",
          "MDG",
          "MDV",
          "MEX",
          "MHL",
          "MKD",
          "MLI",
          "MLT",
          "MMR",
          "MNE",
          "MNG",
          "MNP",
          "MOZ",
          "MRT",
          "MUS",
          "MWI",
          "MYS",
          "NAM",
          "NCL",
          "NER",
          "NGA",
          "NIC",
          "NLD",
          "NOR",
          "NPL",
          "NRU",
          "NZL",
          "OMN",
          "PAK",
          "PAN",
          "PER",
          "PHL",
          "PLW",
          "PNG",
          "POL",
          "PRI",
          "PRT",
          "PRY",
          "PYF",
          "QAT",
          "ROU",
          "RWA",
          "SAU",
          "SDN",
          "SEN",
          "SGP",
          "SLB",
          "SLE",
          "SLV",
          "SMR",
          "SOM",
          "SRB",
          "SSD",
          "STP",
          "SUR",
          "SVN",
          "SWE",
          "SWZ",
          "SXM",
          "SYC",
          "TCA",
          "TCD",
          "TGO",
          "THA",
          "TJK",
          "TKM",
          "TON",
          "TTO",
          "TUN",
          "TUV",
          "TZA",
          "UGA",
          "UKR",
          "URY",
          "USA",
          "UZB",
          "VGB",
          "VUT",
          "WSM",
          "XKX",
          "ZAF",
          "ZMB",
          "ZWE"
         ],
         "name": "",
         "type": "choropleth",
         "z": [
          1700.185,
          178.756,
          49.06,
          1121.268,
          1740.917,
          228.362,
          2589.083,
          2856.709,
          null,
          1258.371,
          90.803,
          1855.449,
          799.762,
          1.086,
          2418.684,
          12.057,
          13.981,
          163.915,
          4501.357,
          946.858,
          4107.894,
          575.147,
          1460.7,
          1650.91,
          1597.662,
          2872.054,
          923.145,
          3.834,
          927.271,
          18.103,
          776.272,
          1353.245,
          1990.08,
          3.997,
          25.106,
          66.31,
          2500.018,
          182.843,
          1418.497,
          742.049,
          972.941,
          160.065,
          710.932,
          3429.391,
          1411.686,
          168.622,
          618.489,
          543.499,
          377.333,
          138.721,
          1869.174,
          19.544,
          1919.21,
          1378.516,
          55.876,
          331.363,
          749.649,
          1921.267,
          120.134,
          2609.418,
          3608.603,
          38.446,
          3060.256,
          28.068,
          70.764,
          104.483,
          1974.488,
          1594.146,
          17.701,
          901.988,
          1571.75,
          1288.445,
          999.63,
          3046.625,
          66.12,
          3843.266,
          522.883,
          792.581,
          338.478,
          1205.23,
          542.115,
          99.222,
          873.214,
          2312.599,
          870.77,
          1102.617,
          148.34,
          937.468,
          99.19,
          179.391,
          null,
          578.137,
          1644.339,
          54.123,
          828.056,
          1753.272,
          681.747,
          288.4,
          2655.217,
          980.542,
          2601.783,
          395.83,
          1041.353,
          3111.525,
          34.682,
          498.284,
          2378.394,
          null,
          3989.289,
          28.902,
          924.445,
          355.375,
          3629.509,
          582.926,
          221.891,
          59.449,
          182.005,
          586.389,
          114.088,
          923.266,
          1406.687,
          965.654,
          10.455,
          13.791,
          31.086,
          1193.349,
          245.661,
          379.244,
          null,
          9.643,
          978.957,
          122.57,
          1680.586,
          5945.858,
          443.064,
          null,
          58.17,
          2366.702,
          1014.939,
          1838.99,
          2447.814,
          2076.45,
          227.818,
          2977.527,
          97.701,
          243.622,
          70.359,
          109.145,
          145.822,
          null,
          14.293,
          602.551,
          2908.875,
          75.749,
          1828.991,
          12.37,
          250.667,
          1918.951,
          2872.383,
          1450.516,
          1058.518,
          1697.14,
          1176.086,
          568.604,
          10.213,
          27.801,
          300.989,
          12.559,
          null,
          null,
          1775.26,
          2065.617,
          null,
          11.252,
          69.419,
          2330.704,
          1800.283,
          2402.044,
          24.836,
          1244.734,
          null,
          null,
          1671.609,
          1515.564,
          184.687,
          299.316
         ]
        }
       ],
       "layout": {
        "coloraxis": {
         "colorbar": {
          "title": {
           "text": "total_deaths_per_million"
          }
         },
         "colorscale": [
          [
           0,
           "rgb(160,200,255)"
          ],
          [
           0.25,
           "rgb(255,255,255)"
          ],
          [
           0.5,
           "rgb(230,210,0)"
          ],
          [
           0.75,
           "rgb(230,0,0)"
          ],
          [
           1,
           "rgb(0,0,0)"
          ]
         ]
        },
        "geo": {
         "center": {},
         "domain": {
          "x": [
           0,
           1
          ],
          "y": [
           0,
           1
          ]
         },
         "projection": {
          "type": "equirectangular"
         },
         "showcoastlines": false,
         "showframe": false
        },
        "height": 600,
        "legend": {
         "tracegroupgap": 0
        },
        "template": {
         "data": {
          "bar": [
           {
            "error_x": {
             "color": "#2a3f5f"
            },
            "error_y": {
             "color": "#2a3f5f"
            },
            "marker": {
             "line": {
              "color": "#E5ECF6",
              "width": 0.5
             },
             "pattern": {
              "fillmode": "overlay",
              "size": 10,
              "solidity": 0.2
             }
            },
            "type": "bar"
           }
          ],
          "barpolar": [
           {
            "marker": {
             "line": {
              "color": "#E5ECF6",
              "width": 0.5
             },
             "pattern": {
              "fillmode": "overlay",
              "size": 10,
              "solidity": 0.2
             }
            },
            "type": "barpolar"
           }
          ],
          "carpet": [
           {
            "aaxis": {
             "endlinecolor": "#2a3f5f",
             "gridcolor": "white",
             "linecolor": "white",
             "minorgridcolor": "white",
             "startlinecolor": "#2a3f5f"
            },
            "baxis": {
             "endlinecolor": "#2a3f5f",
             "gridcolor": "white",
             "linecolor": "white",
             "minorgridcolor": "white",
             "startlinecolor": "#2a3f5f"
            },
            "type": "carpet"
           }
          ],
          "choropleth": [
           {
            "colorbar": {
             "outlinewidth": 0,
             "ticks": ""
            },
            "type": "choropleth"
           }
          ],
          "contour": [
           {
            "colorbar": {
             "outlinewidth": 0,
             "ticks": ""
            },
            "colorscale": [
             [
              0,
              "#0d0887"
             ],
             [
              0.1111111111111111,
              "#46039f"
             ],
             [
              0.2222222222222222,
              "#7201a8"
             ],
             [
              0.3333333333333333,
              "#9c179e"
             ],
             [
              0.4444444444444444,
              "#bd3786"
             ],
             [
              0.5555555555555556,
              "#d8576b"
             ],
             [
              0.6666666666666666,
              "#ed7953"
             ],
             [
              0.7777777777777778,
              "#fb9f3a"
             ],
             [
              0.8888888888888888,
              "#fdca26"
             ],
             [
              1,
              "#f0f921"
             ]
            ],
            "type": "contour"
           }
          ],
          "contourcarpet": [
           {
            "colorbar": {
             "outlinewidth": 0,
             "ticks": ""
            },
            "type": "contourcarpet"
           }
          ],
          "heatmap": [
           {
            "colorbar": {
             "outlinewidth": 0,
             "ticks": ""
            },
            "colorscale": [
             [
              0,
              "#0d0887"
             ],
             [
              0.1111111111111111,
              "#46039f"
             ],
             [
              0.2222222222222222,
              "#7201a8"
             ],
             [
              0.3333333333333333,
              "#9c179e"
             ],
             [
              0.4444444444444444,
              "#bd3786"
             ],
             [
              0.5555555555555556,
              "#d8576b"
             ],
             [
              0.6666666666666666,
              "#ed7953"
             ],
             [
              0.7777777777777778,
              "#fb9f3a"
             ],
             [
              0.8888888888888888,
              "#fdca26"
             ],
             [
              1,
              "#f0f921"
             ]
            ],
            "type": "heatmap"
           }
          ],
          "heatmapgl": [
           {
            "colorbar": {
             "outlinewidth": 0,
             "ticks": ""
            },
            "colorscale": [
             [
              0,
              "#0d0887"
             ],
             [
              0.1111111111111111,
              "#46039f"
             ],
             [
              0.2222222222222222,
              "#7201a8"
             ],
             [
              0.3333333333333333,
              "#9c179e"
             ],
             [
              0.4444444444444444,
              "#bd3786"
             ],
             [
              0.5555555555555556,
              "#d8576b"
             ],
             [
              0.6666666666666666,
              "#ed7953"
             ],
             [
              0.7777777777777778,
              "#fb9f3a"
             ],
             [
              0.8888888888888888,
              "#fdca26"
             ],
             [
              1,
              "#f0f921"
             ]
            ],
            "type": "heatmapgl"
           }
          ],
          "histogram": [
           {
            "marker": {
             "pattern": {
              "fillmode": "overlay",
              "size": 10,
              "solidity": 0.2
             }
            },
            "type": "histogram"
           }
          ],
          "histogram2d": [
           {
            "colorbar": {
             "outlinewidth": 0,
             "ticks": ""
            },
            "colorscale": [
             [
              0,
              "#0d0887"
             ],
             [
              0.1111111111111111,
              "#46039f"
             ],
             [
              0.2222222222222222,
              "#7201a8"
             ],
             [
              0.3333333333333333,
              "#9c179e"
             ],
             [
              0.4444444444444444,
              "#bd3786"
             ],
             [
              0.5555555555555556,
              "#d8576b"
             ],
             [
              0.6666666666666666,
              "#ed7953"
             ],
             [
              0.7777777777777778,
              "#fb9f3a"
             ],
             [
              0.8888888888888888,
              "#fdca26"
             ],
             [
              1,
              "#f0f921"
             ]
            ],
            "type": "histogram2d"
           }
          ],
          "histogram2dcontour": [
           {
            "colorbar": {
             "outlinewidth": 0,
             "ticks": ""
            },
            "colorscale": [
             [
              0,
              "#0d0887"
             ],
             [
              0.1111111111111111,
              "#46039f"
             ],
             [
              0.2222222222222222,
              "#7201a8"
             ],
             [
              0.3333333333333333,
              "#9c179e"
             ],
             [
              0.4444444444444444,
              "#bd3786"
             ],
             [
              0.5555555555555556,
              "#d8576b"
             ],
             [
              0.6666666666666666,
              "#ed7953"
             ],
             [
              0.7777777777777778,
              "#fb9f3a"
             ],
             [
              0.8888888888888888,
              "#fdca26"
             ],
             [
              1,
              "#f0f921"
             ]
            ],
            "type": "histogram2dcontour"
           }
          ],
          "mesh3d": [
           {
            "colorbar": {
             "outlinewidth": 0,
             "ticks": ""
            },
            "type": "mesh3d"
           }
          ],
          "parcoords": [
           {
            "line": {
             "colorbar": {
              "outlinewidth": 0,
              "ticks": ""
             }
            },
            "type": "parcoords"
           }
          ],
          "pie": [
           {
            "automargin": true,
            "type": "pie"
           }
          ],
          "scatter": [
           {
            "fillpattern": {
             "fillmode": "overlay",
             "size": 10,
             "solidity": 0.2
            },
            "type": "scatter"
           }
          ],
          "scatter3d": [
           {
            "line": {
             "colorbar": {
              "outlinewidth": 0,
              "ticks": ""
             }
            },
            "marker": {
             "colorbar": {
              "outlinewidth": 0,
              "ticks": ""
             }
            },
            "type": "scatter3d"
           }
          ],
          "scattercarpet": [
           {
            "marker": {
             "colorbar": {
              "outlinewidth": 0,
              "ticks": ""
             }
            },
            "type": "scattercarpet"
           }
          ],
          "scattergeo": [
           {
            "marker": {
             "colorbar": {
              "outlinewidth": 0,
              "ticks": ""
             }
            },
            "type": "scattergeo"
           }
          ],
          "scattergl": [
           {
            "marker": {
             "colorbar": {
              "outlinewidth": 0,
              "ticks": ""
             }
            },
            "type": "scattergl"
           }
          ],
          "scattermapbox": [
           {
            "marker": {
             "colorbar": {
              "outlinewidth": 0,
              "ticks": ""
             }
            },
            "type": "scattermapbox"
           }
          ],
          "scatterpolar": [
           {
            "marker": {
             "colorbar": {
              "outlinewidth": 0,
              "ticks": ""
             }
            },
            "type": "scatterpolar"
           }
          ],
          "scatterpolargl": [
           {
            "marker": {
             "colorbar": {
              "outlinewidth": 0,
              "ticks": ""
             }
            },
            "type": "scatterpolargl"
           }
          ],
          "scatterternary": [
           {
            "marker": {
             "colorbar": {
              "outlinewidth": 0,
              "ticks": ""
             }
            },
            "type": "scatterternary"
           }
          ],
          "surface": [
           {
            "colorbar": {
             "outlinewidth": 0,
             "ticks": ""
            },
            "colorscale": [
             [
              0,
              "#0d0887"
             ],
             [
              0.1111111111111111,
              "#46039f"
             ],
             [
              0.2222222222222222,
              "#7201a8"
             ],
             [
              0.3333333333333333,
              "#9c179e"
             ],
             [
              0.4444444444444444,
              "#bd3786"
             ],
             [
              0.5555555555555556,
              "#d8576b"
             ],
             [
              0.6666666666666666,
              "#ed7953"
             ],
             [
              0.7777777777777778,
              "#fb9f3a"
             ],
             [
              0.8888888888888888,
              "#fdca26"
             ],
             [
              1,
              "#f0f921"
             ]
            ],
            "type": "surface"
           }
          ],
          "table": [
           {
            "cells": {
             "fill": {
              "color": "#EBF0F8"
             },
             "line": {
              "color": "white"
             }
            },
            "header": {
             "fill": {
              "color": "#C8D4E3"
             },
             "line": {
              "color": "white"
             }
            },
            "type": "table"
           }
          ]
         },
         "layout": {
          "annotationdefaults": {
           "arrowcolor": "#2a3f5f",
           "arrowhead": 0,
           "arrowwidth": 1
          },
          "autotypenumbers": "strict",
          "coloraxis": {
           "colorbar": {
            "outlinewidth": 0,
            "ticks": ""
           }
          },
          "colorscale": {
           "diverging": [
            [
             0,
             "#8e0152"
            ],
            [
             0.1,
             "#c51b7d"
            ],
            [
             0.2,
             "#de77ae"
            ],
            [
             0.3,
             "#f1b6da"
            ],
            [
             0.4,
             "#fde0ef"
            ],
            [
             0.5,
             "#f7f7f7"
            ],
            [
             0.6,
             "#e6f5d0"
            ],
            [
             0.7,
             "#b8e186"
            ],
            [
             0.8,
             "#7fbc41"
            ],
            [
             0.9,
             "#4d9221"
            ],
            [
             1,
             "#276419"
            ]
           ],
           "sequential": [
            [
             0,
             "#0d0887"
            ],
            [
             0.1111111111111111,
             "#46039f"
            ],
            [
             0.2222222222222222,
             "#7201a8"
            ],
            [
             0.3333333333333333,
             "#9c179e"
            ],
            [
             0.4444444444444444,
             "#bd3786"
            ],
            [
             0.5555555555555556,
             "#d8576b"
            ],
            [
             0.6666666666666666,
             "#ed7953"
            ],
            [
             0.7777777777777778,
             "#fb9f3a"
            ],
            [
             0.8888888888888888,
             "#fdca26"
            ],
            [
             1,
             "#f0f921"
            ]
           ],
           "sequentialminus": [
            [
             0,
             "#0d0887"
            ],
            [
             0.1111111111111111,
             "#46039f"
            ],
            [
             0.2222222222222222,
             "#7201a8"
            ],
            [
             0.3333333333333333,
             "#9c179e"
            ],
            [
             0.4444444444444444,
             "#bd3786"
            ],
            [
             0.5555555555555556,
             "#d8576b"
            ],
            [
             0.6666666666666666,
             "#ed7953"
            ],
            [
             0.7777777777777778,
             "#fb9f3a"
            ],
            [
             0.8888888888888888,
             "#fdca26"
            ],
            [
             1,
             "#f0f921"
            ]
           ]
          },
          "colorway": [
           "#636efa",
           "#EF553B",
           "#00cc96",
           "#ab63fa",
           "#FFA15A",
           "#19d3f3",
           "#FF6692",
           "#B6E880",
           "#FF97FF",
           "#FECB52"
          ],
          "font": {
           "color": "#2a3f5f"
          },
          "geo": {
           "bgcolor": "white",
           "lakecolor": "white",
           "landcolor": "#E5ECF6",
           "showlakes": true,
           "showland": true,
           "subunitcolor": "white"
          },
          "hoverlabel": {
           "align": "left"
          },
          "hovermode": "closest",
          "mapbox": {
           "style": "light"
          },
          "paper_bgcolor": "white",
          "plot_bgcolor": "#E5ECF6",
          "polar": {
           "angularaxis": {
            "gridcolor": "white",
            "linecolor": "white",
            "ticks": ""
           },
           "bgcolor": "#E5ECF6",
           "radialaxis": {
            "gridcolor": "white",
            "linecolor": "white",
            "ticks": ""
           }
          },
          "scene": {
           "xaxis": {
            "backgroundcolor": "#E5ECF6",
            "gridcolor": "white",
            "gridwidth": 2,
            "linecolor": "white",
            "showbackground": true,
            "ticks": "",
            "zerolinecolor": "white"
           },
           "yaxis": {
            "backgroundcolor": "#E5ECF6",
            "gridcolor": "white",
            "gridwidth": 2,
            "linecolor": "white",
            "showbackground": true,
            "ticks": "",
            "zerolinecolor": "white"
           },
           "zaxis": {
            "backgroundcolor": "#E5ECF6",
            "gridcolor": "white",
            "gridwidth": 2,
            "linecolor": "white",
            "showbackground": true,
            "ticks": "",
            "zerolinecolor": "white"
           }
          },
          "shapedefaults": {
           "line": {
            "color": "#2a3f5f"
           }
          },
          "ternary": {
           "aaxis": {
            "gridcolor": "white",
            "linecolor": "white",
            "ticks": ""
           },
           "baxis": {
            "gridcolor": "white",
            "linecolor": "white",
            "ticks": ""
           },
           "bgcolor": "#E5ECF6",
           "caxis": {
            "gridcolor": "white",
            "linecolor": "white",
            "ticks": ""
           }
          },
          "title": {
           "x": 0.05
          },
          "xaxis": {
           "automargin": true,
           "gridcolor": "white",
           "linecolor": "white",
           "ticks": "",
           "title": {
            "standoff": 15
           },
           "zerolinecolor": "white",
           "zerolinewidth": 2
          },
          "yaxis": {
           "automargin": true,
           "gridcolor": "white",
           "linecolor": "white",
           "ticks": "",
           "title": {
            "standoff": 15
           },
           "zerolinecolor": "white",
           "zerolinewidth": 2
          }
         }
        },
        "title": {
         "text": "Deaths per million by Country"
        }
       }
      }
     },
     "metadata": {},
     "output_type": "display_data"
    }
   ],
   "source": [
    "CovidData = pd.read_csv('owid-covid-data.csv')\n",
    "GDPdata = pd.read_csv('GDP-data.csv', skiprows=4)\n",
    "\n",
    "Covid_2021 = CovidData[CovidData['date'].str.startswith('2021')]\n",
    "Covid_deaths_2021 = Covid_2021.groupby('location').last()['total_deaths_per_million'].reset_index()\n",
    "\n",
    "GDPdata = GDPdata.rename(columns={'Country Name': 'location'})\n",
    "\n",
    "df = pd.merge(GDPdata, Covid_deaths_2021, on='location', how='inner')\n",
    "\n",
    "\n",
    "df = df[df['location'] != 'World']\n",
    "df = df[df['location'] != 'Upper middle income']\n",
    "df = df[df['location'] != 'Lower middle income']\n",
    "df = df[df['location'] !=  'High income']\n",
    "df = df[df['location'] !=  'Low income']\n",
    "df = df[df['location'] !=  'European Union']\n",
    "df = df[df['location'] !=  'North America']\n",
    "df = df[df['location'] !=  'South America']\n",
    "df = df[df['location'] !=  'Asia']\n",
    "df = df[df['location'] !=  'Oceania']\n",
    "df = df[df['location'] !=  'Africa']\n",
    "\n",
    "\n",
    "fig2 = px.choropleth(\n",
    "    df, \n",
    "    locations=\"Country Code\",\n",
    "    color=\"total_deaths_per_million\",\n",
    "    hover_name=\"location\",\n",
    "    color_continuous_scale=px.colors.sequential.Blackbody_r,\n",
    "    title=\"Deaths per million by Country\"\n",
    ")\n",
    "\n",
    "fig2.update_layout(\n",
    "    geo=dict(\n",
    "        showframe=False,\n",
    "        showcoastlines=False,\n",
    "        projection_type='equirectangular'\n",
    "    ),\n",
    "    height=600\n",
    ")\n",
    "\n",
    "fig2.show()"
   ]
  },
  {
   "cell_type": "code",
   "execution_count": 6,
   "metadata": {},
   "outputs": [
    {
     "data": {
      "application/vnd.plotly.v1+json": {
       "config": {
        "plotlyServerURL": "https://plot.ly"
       },
       "data": [
        {
         "coloraxis": "coloraxis",
         "geo": "geo",
         "hovertemplate": "<b>%{hovertext}</b><br><br>Country Code=%{location}<br>total_deaths_per_million=%{z}<extra></extra>",
         "hovertext": [
          "Aruba",
          "Afghanistan",
          "Angola",
          "Albania",
          "Andorra",
          "United Arab Emirates",
          "Argentina",
          "Armenia",
          "American Samoa",
          "Antigua and Barbuda",
          "Australia",
          "Austria",
          "Azerbaijan",
          "Burundi",
          "Belgium",
          "Benin",
          "Burkina Faso",
          "Bangladesh",
          "Bulgaria",
          "Bahrain",
          "Bosnia and Herzegovina",
          "Belarus",
          "Belize",
          "Bermuda",
          "Bolivia",
          "Brazil",
          "Barbados",
          "Bhutan",
          "Botswana",
          "Central African Republic",
          "Canada",
          "Switzerland",
          "Chile",
          "China",
          "Cote d'Ivoire",
          "Cameroon",
          "Colombia",
          "Comoros",
          "Costa Rica",
          "Cuba",
          "Curacao",
          "Cayman Islands",
          "Cyprus",
          "Czechia",
          "Germany",
          "Djibouti",
          "Dominica",
          "Denmark",
          "Dominican Republic",
          "Algeria",
          "Ecuador",
          "Eritrea",
          "Spain",
          "Estonia",
          "Ethiopia",
          "Finland",
          "Fiji",
          "France",
          "Gabon",
          "United Kingdom",
          "Georgia",
          "Ghana",
          "Gibraltar",
          "Guinea",
          "Guinea-Bissau",
          "Equatorial Guinea",
          "Greece",
          "Grenada",
          "Greenland",
          "Guatemala",
          "Guam",
          "Guyana",
          "Honduras",
          "Croatia",
          "Haiti",
          "Hungary",
          "Indonesia",
          "Isle of Man",
          "India",
          "Ireland",
          "Iraq",
          "Iceland",
          "Israel",
          "Italy",
          "Jamaica",
          "Jordan",
          "Japan",
          "Kazakhstan",
          "Kenya",
          "Cambodia",
          "Kiribati",
          "Kuwait",
          "Lebanon",
          "Liberia",
          "Libya",
          "Liechtenstein",
          "Sri Lanka",
          "Lesotho",
          "Lithuania",
          "Luxembourg",
          "Latvia",
          "Morocco",
          "Monaco",
          "Moldova",
          "Madagascar",
          "Maldives",
          "Mexico",
          "Marshall Islands",
          "North Macedonia",
          "Mali",
          "Malta",
          "Myanmar",
          "Montenegro",
          "Mongolia",
          "Northern Mariana Islands",
          "Mozambique",
          "Mauritania",
          "Mauritius",
          "Malawi",
          "Malaysia",
          "Namibia",
          "New Caledonia",
          "Niger",
          "Nigeria",
          "Nicaragua",
          "Netherlands",
          "Norway",
          "Nepal",
          "Nauru",
          "New Zealand",
          "Oman",
          "Pakistan",
          "Panama",
          "Philippines",
          "Palau",
          "Papua New Guinea",
          "Poland",
          "Puerto Rico",
          "Portugal",
          "Paraguay",
          "French Polynesia",
          "Qatar",
          "Romania",
          "Rwanda",
          "Saudi Arabia",
          "Sudan",
          "Senegal",
          "Singapore",
          "Solomon Islands",
          "Sierra Leone",
          "El Salvador",
          "San Marino",
          "Somalia",
          "Serbia",
          "South Sudan",
          "Sao Tome and Principe",
          "Suriname",
          "Slovenia",
          "Sweden",
          "Eswatini",
          "Sint Maarten (Dutch part)",
          "Seychelles",
          "Turks and Caicos Islands",
          "Chad",
          "Togo",
          "Thailand",
          "Tajikistan",
          "Turkmenistan",
          "Tonga",
          "Trinidad and Tobago",
          "Tunisia",
          "Tuvalu",
          "Tanzania",
          "Uganda",
          "Ukraine",
          "Uruguay",
          "United States",
          "Uzbekistan",
          "British Virgin Islands",
          "Vanuatu",
          "Samoa",
          "Kosovo",
          "South Africa",
          "Zambia",
          "Zimbabwe"
         ],
         "locations": [
          "ABW",
          "AFG",
          "AGO",
          "ALB",
          "AND",
          "ARE",
          "ARG",
          "ARM",
          "ASM",
          "ATG",
          "AUS",
          "AUT",
          "AZE",
          "BDI",
          "BEL",
          "BEN",
          "BFA",
          "BGD",
          "BGR",
          "BHR",
          "BIH",
          "BLR",
          "BLZ",
          "BMU",
          "BOL",
          "BRA",
          "BRB",
          "BTN",
          "BWA",
          "CAF",
          "CAN",
          "CHE",
          "CHL",
          "CHN",
          "CIV",
          "CMR",
          "COL",
          "COM",
          "CRI",
          "CUB",
          "CUW",
          "CYM",
          "CYP",
          "CZE",
          "DEU",
          "DJI",
          "DMA",
          "DNK",
          "DOM",
          "DZA",
          "ECU",
          "ERI",
          "ESP",
          "EST",
          "ETH",
          "FIN",
          "FJI",
          "FRA",
          "GAB",
          "GBR",
          "GEO",
          "GHA",
          "GIB",
          "GIN",
          "GNB",
          "GNQ",
          "GRC",
          "GRD",
          "GRL",
          "GTM",
          "GUM",
          "GUY",
          "HND",
          "HRV",
          "HTI",
          "HUN",
          "IDN",
          "IMN",
          "IND",
          "IRL",
          "IRQ",
          "ISL",
          "ISR",
          "ITA",
          "JAM",
          "JOR",
          "JPN",
          "KAZ",
          "KEN",
          "KHM",
          "KIR",
          "KWT",
          "LBN",
          "LBR",
          "LBY",
          "LIE",
          "LKA",
          "LSO",
          "LTU",
          "LUX",
          "LVA",
          "MAR",
          "MCO",
          "MDA",
          "MDG",
          "MDV",
          "MEX",
          "MHL",
          "MKD",
          "MLI",
          "MLT",
          "MMR",
          "MNE",
          "MNG",
          "MNP",
          "MOZ",
          "MRT",
          "MUS",
          "MWI",
          "MYS",
          "NAM",
          "NCL",
          "NER",
          "NGA",
          "NIC",
          "NLD",
          "NOR",
          "NPL",
          "NRU",
          "NZL",
          "OMN",
          "PAK",
          "PAN",
          "PHL",
          "PLW",
          "PNG",
          "POL",
          "PRI",
          "PRT",
          "PRY",
          "PYF",
          "QAT",
          "ROU",
          "RWA",
          "SAU",
          "SDN",
          "SEN",
          "SGP",
          "SLB",
          "SLE",
          "SLV",
          "SMR",
          "SOM",
          "SRB",
          "SSD",
          "STP",
          "SUR",
          "SVN",
          "SWE",
          "SWZ",
          "SXM",
          "SYC",
          "TCA",
          "TCD",
          "TGO",
          "THA",
          "TJK",
          "TKM",
          "TON",
          "TTO",
          "TUN",
          "TUV",
          "TZA",
          "UGA",
          "UKR",
          "URY",
          "USA",
          "UZB",
          "VGB",
          "VUT",
          "WSM",
          "XKX",
          "ZAF",
          "ZMB",
          "ZWE"
         ],
         "name": "",
         "type": "choropleth",
         "z": [
          441.485,
          52.469,
          11.239,
          398.97,
          1039.54,
          69.377,
          1043.873,
          995.514,
          null,
          53.321,
          35.145,
          788.513,
          233.248,
          0.155,
          1662.159,
          3.295,
          3.44,
          43.532,
          1050.287,
          238.413,
          1213.225,
          144.311,
          562.567,
          140.172,
          743.04,
          884.701,
          24.854,
          null,
          14.827,
          11.292,
          383.156,
          821.695,
          836.779,
          3.35,
          4.758,
          16.049,
          803.678,
          8.365,
          405.919,
          12.576,
          62.77,
          29.103,
          127.231,
          1083.191,
          563.861,
          54.423,
          null,
          197.033,
          214.092,
          60.619,
          777.179,
          0.271,
          1134.684,
          214.168,
          15.408,
          111.537,
          2.151,
          983.093,
          26.789,
          1340.193,
          634.817,
          10.007,
          183.615,
          5.772,
          21.372,
          51.346,
          450.844,
          null,
          null,
          266.926,
          704.377,
          200.315,
          293.4,
          896.446,
          20.285,
          907.668,
          77.085,
          414.035,
          104.167,
          443.948,
          286.924,
          75.087,
          343.105,
          1213.246,
          103.983,
          330.413,
          25.921,
          137.592,
          30.633,
          null,
          null,
          217.621,
          251.196,
          16.784,
          207.711,
          990.98,
          8.749,
          27.756,
          587.988,
          440.086,
          341.501,
          192.322,
          82.212,
          904.371,
          8.814,
          91.638,
          1128.513,
          null,
          1383.259,
          11.065,
          425.657,
          48.007,
          865.915,
          0.294,
          40.344,
          4.823,
          71.155,
          7.695,
          9.213,
          13.289,
          75.963,
          null,
          3.854,
          5.706,
          23.603,
          656.968,
          77.471,
          89.041,
          null,
          4.821,
          325.809,
          41.624,
          851.975,
          78.462,
          null,
          0.887,
          682.613,
          501.167,
          651.844,
          317.664,
          352.605,
          90.534,
          768.492,
          5.299,
          169.629,
          32.427,
          22.349,
          5.145,
          null,
          8.831,
          204.691,
          1691.897,
          7.217,
          434.109,
          5.773,
          74.76,
          192.542,
          1359.063,
          883.751,
          135.643,
          588.342,
          null,
          131.216,
          5.868,
          7.685,
          0.837,
          9.043,
          null,
          null,
          81.644,
          358.203,
          null,
          0.321,
          6.307,
          384.819,
          41.779,
          1013.687,
          null,
          31.916,
          null,
          null,
          726.665,
          442.8,
          19.083,
          20.894
         ]
        },
        {
         "coloraxis": "coloraxis",
         "geo": "geo",
         "hovertemplate": "<b>%{hovertext}</b><br><br>Country Code=%{location}<br>total_deaths_per_million=%{z}<extra></extra>",
         "hovertext": [
          "Aruba",
          "Afghanistan",
          "Angola",
          "Albania",
          "Andorra",
          "United Arab Emirates",
          "Argentina",
          "Armenia",
          "American Samoa",
          "Antigua and Barbuda",
          "Australia",
          "Austria",
          "Azerbaijan",
          "Burundi",
          "Belgium",
          "Benin",
          "Burkina Faso",
          "Bangladesh",
          "Bulgaria",
          "Bahrain",
          "Bosnia and Herzegovina",
          "Belarus",
          "Belize",
          "Bermuda",
          "Bolivia",
          "Brazil",
          "Barbados",
          "Bhutan",
          "Botswana",
          "Central African Republic",
          "Canada",
          "Switzerland",
          "Chile",
          "China",
          "Cote d'Ivoire",
          "Cameroon",
          "Colombia",
          "Comoros",
          "Costa Rica",
          "Cuba",
          "Curacao",
          "Cayman Islands",
          "Cyprus",
          "Czechia",
          "Germany",
          "Djibouti",
          "Dominica",
          "Denmark",
          "Dominican Republic",
          "Algeria",
          "Ecuador",
          "Eritrea",
          "Spain",
          "Estonia",
          "Ethiopia",
          "Finland",
          "Fiji",
          "France",
          "Gabon",
          "United Kingdom",
          "Georgia",
          "Ghana",
          "Gibraltar",
          "Guinea",
          "Guinea-Bissau",
          "Equatorial Guinea",
          "Greece",
          "Grenada",
          "Greenland",
          "Guatemala",
          "Guam",
          "Guyana",
          "Honduras",
          "Croatia",
          "Haiti",
          "Hungary",
          "Indonesia",
          "Isle of Man",
          "India",
          "Ireland",
          "Iraq",
          "Iceland",
          "Israel",
          "Italy",
          "Jamaica",
          "Jordan",
          "Japan",
          "Kazakhstan",
          "Kenya",
          "Cambodia",
          "Kiribati",
          "Kuwait",
          "Lebanon",
          "Liberia",
          "Libya",
          "Liechtenstein",
          "Sri Lanka",
          "Lesotho",
          "Lithuania",
          "Luxembourg",
          "Latvia",
          "Morocco",
          "Monaco",
          "Moldova",
          "Madagascar",
          "Maldives",
          "Mexico",
          "Marshall Islands",
          "North Macedonia",
          "Mali",
          "Malta",
          "Myanmar",
          "Montenegro",
          "Mongolia",
          "Northern Mariana Islands",
          "Mozambique",
          "Mauritania",
          "Mauritius",
          "Malawi",
          "Malaysia",
          "Namibia",
          "New Caledonia",
          "Niger",
          "Nigeria",
          "Nicaragua",
          "Netherlands",
          "Norway",
          "Nepal",
          "Nauru",
          "New Zealand",
          "Oman",
          "Pakistan",
          "Panama",
          "Philippines",
          "Palau",
          "Papua New Guinea",
          "Poland",
          "Puerto Rico",
          "Portugal",
          "Paraguay",
          "French Polynesia",
          "Qatar",
          "Romania",
          "Rwanda",
          "Saudi Arabia",
          "Sudan",
          "Senegal",
          "Singapore",
          "Solomon Islands",
          "Sierra Leone",
          "El Salvador",
          "San Marino",
          "Somalia",
          "Serbia",
          "South Sudan",
          "Sao Tome and Principe",
          "Suriname",
          "Slovenia",
          "Sweden",
          "Eswatini",
          "Sint Maarten (Dutch part)",
          "Seychelles",
          "Turks and Caicos Islands",
          "Chad",
          "Togo",
          "Thailand",
          "Tajikistan",
          "Turkmenistan",
          "Tonga",
          "Trinidad and Tobago",
          "Tunisia",
          "Tuvalu",
          "Tanzania",
          "Uganda",
          "Ukraine",
          "Uruguay",
          "United States",
          "Uzbekistan",
          "British Virgin Islands",
          "Vanuatu",
          "Samoa",
          "Kosovo",
          "South Africa",
          "Zambia",
          "Zimbabwe"
         ],
         "locations": [
          "ABW",
          "AFG",
          "AGO",
          "ALB",
          "AND",
          "ARE",
          "ARG",
          "ARM",
          "ASM",
          "ATG",
          "AUS",
          "AUT",
          "AZE",
          "BDI",
          "BEL",
          "BEN",
          "BFA",
          "BGD",
          "BGR",
          "BHR",
          "BIH",
          "BLR",
          "BLZ",
          "BMU",
          "BOL",
          "BRA",
          "BRB",
          "BTN",
          "BWA",
          "CAF",
          "CAN",
          "CHE",
          "CHL",
          "CHN",
          "CIV",
          "CMR",
          "COL",
          "COM",
          "CRI",
          "CUB",
          "CUW",
          "CYM",
          "CYP",
          "CZE",
          "DEU",
          "DJI",
          "DMA",
          "DNK",
          "DOM",
          "DZA",
          "ECU",
          "ERI",
          "ESP",
          "EST",
          "ETH",
          "FIN",
          "FJI",
          "FRA",
          "GAB",
          "GBR",
          "GEO",
          "GHA",
          "GIB",
          "GIN",
          "GNB",
          "GNQ",
          "GRC",
          "GRD",
          "GRL",
          "GTM",
          "GUM",
          "GUY",
          "HND",
          "HRV",
          "HTI",
          "HUN",
          "IDN",
          "IMN",
          "IND",
          "IRL",
          "IRQ",
          "ISL",
          "ISR",
          "ITA",
          "JAM",
          "JOR",
          "JPN",
          "KAZ",
          "KEN",
          "KHM",
          "KIR",
          "KWT",
          "LBN",
          "LBR",
          "LBY",
          "LIE",
          "LKA",
          "LSO",
          "LTU",
          "LUX",
          "LVA",
          "MAR",
          "MCO",
          "MDA",
          "MDG",
          "MDV",
          "MEX",
          "MHL",
          "MKD",
          "MLI",
          "MLT",
          "MMR",
          "MNE",
          "MNG",
          "MNP",
          "MOZ",
          "MRT",
          "MUS",
          "MWI",
          "MYS",
          "NAM",
          "NCL",
          "NER",
          "NGA",
          "NIC",
          "NLD",
          "NOR",
          "NPL",
          "NRU",
          "NZL",
          "OMN",
          "PAK",
          "PAN",
          "PHL",
          "PLW",
          "PNG",
          "POL",
          "PRI",
          "PRT",
          "PRY",
          "PYF",
          "QAT",
          "ROU",
          "RWA",
          "SAU",
          "SDN",
          "SEN",
          "SGP",
          "SLB",
          "SLE",
          "SLV",
          "SMR",
          "SOM",
          "SRB",
          "SSD",
          "STP",
          "SUR",
          "SVN",
          "SWE",
          "SWZ",
          "SXM",
          "SYC",
          "TCA",
          "TCD",
          "TGO",
          "THA",
          "TJK",
          "TKM",
          "TON",
          "TTO",
          "TUN",
          "TUV",
          "TZA",
          "UGA",
          "UKR",
          "URY",
          "USA",
          "UZB",
          "VGB",
          "VUT",
          "WSM",
          "XKX",
          "ZAF",
          "ZMB",
          "ZWE"
         ],
         "name": "",
         "type": "choropleth",
         "z": [
          1700.185,
          178.756,
          49.06,
          1121.268,
          1740.917,
          228.362,
          2589.083,
          2856.709,
          null,
          1258.371,
          90.803,
          1855.449,
          799.762,
          1.086,
          2418.684,
          12.057,
          13.981,
          163.915,
          4501.357,
          946.858,
          4107.894,
          575.147,
          1460.7,
          1650.91,
          1597.662,
          2872.054,
          923.145,
          3.834,
          927.271,
          18.103,
          776.272,
          1353.245,
          1990.08,
          3.997,
          25.106,
          66.31,
          2500.018,
          182.843,
          1418.497,
          742.049,
          972.941,
          160.065,
          710.932,
          3429.391,
          1411.686,
          168.622,
          618.489,
          543.499,
          377.333,
          138.721,
          1869.174,
          19.544,
          1919.21,
          1378.516,
          55.876,
          331.363,
          749.649,
          1921.267,
          120.134,
          2609.418,
          3608.603,
          38.446,
          3060.256,
          28.068,
          70.764,
          104.483,
          1974.488,
          1594.146,
          17.701,
          901.988,
          1571.75,
          1288.445,
          999.63,
          3046.625,
          66.12,
          3843.266,
          522.883,
          792.581,
          338.478,
          1205.23,
          542.115,
          99.222,
          873.214,
          2312.599,
          870.77,
          1102.617,
          148.34,
          937.468,
          99.19,
          179.391,
          null,
          578.137,
          1644.339,
          54.123,
          828.056,
          1753.272,
          681.747,
          288.4,
          2655.217,
          980.542,
          2601.783,
          395.83,
          1041.353,
          3111.525,
          34.682,
          498.284,
          2378.394,
          null,
          3989.289,
          28.902,
          924.445,
          355.375,
          3629.509,
          582.926,
          221.891,
          59.449,
          182.005,
          586.389,
          114.088,
          923.266,
          1406.687,
          965.654,
          10.455,
          13.791,
          31.086,
          1193.349,
          245.661,
          379.244,
          null,
          9.643,
          978.957,
          122.57,
          1680.586,
          443.064,
          null,
          58.17,
          2366.702,
          1014.939,
          1838.99,
          2447.814,
          2076.45,
          227.818,
          2977.527,
          97.701,
          243.622,
          70.359,
          109.145,
          145.822,
          null,
          14.293,
          602.551,
          2908.875,
          75.749,
          1828.991,
          12.37,
          250.667,
          1918.951,
          2872.383,
          1450.516,
          1058.518,
          1697.14,
          1176.086,
          568.604,
          10.213,
          27.801,
          300.989,
          12.559,
          null,
          null,
          1775.26,
          2065.617,
          null,
          11.252,
          69.419,
          2330.704,
          1800.283,
          2402.044,
          24.836,
          1244.734,
          null,
          null,
          1671.609,
          1515.564,
          184.687,
          299.316
         ]
        },
        {
         "coloraxis": "coloraxis",
         "geo": "geo",
         "hovertemplate": "<b>%{hovertext}</b><br><br>Country Code=%{location}<br>total_deaths_per_million=%{z}<extra></extra>",
         "hovertext": [
          "Aruba",
          "Afghanistan",
          "Angola",
          "Albania",
          "Andorra",
          "United Arab Emirates",
          "Argentina",
          "Armenia",
          "American Samoa",
          "Antigua and Barbuda",
          "Australia",
          "Austria",
          "Azerbaijan",
          "Burundi",
          "Belgium",
          "Benin",
          "Burkina Faso",
          "Bangladesh",
          "Bulgaria",
          "Bahrain",
          "Bosnia and Herzegovina",
          "Belarus",
          "Belize",
          "Bermuda",
          "Bolivia",
          "Brazil",
          "Barbados",
          "Bhutan",
          "Botswana",
          "Central African Republic",
          "Canada",
          "Switzerland",
          "Chile",
          "China",
          "Cote d'Ivoire",
          "Cameroon",
          "Colombia",
          "Comoros",
          "Costa Rica",
          "Cuba",
          "Curacao",
          "Cayman Islands",
          "Cyprus",
          "Czechia",
          "Germany",
          "Djibouti",
          "Dominica",
          "Denmark",
          "Dominican Republic",
          "Algeria",
          "Ecuador",
          "Eritrea",
          "Spain",
          "Estonia",
          "Ethiopia",
          "Finland",
          "Fiji",
          "France",
          "Gabon",
          "United Kingdom",
          "Georgia",
          "Ghana",
          "Gibraltar",
          "Guinea",
          "Guinea-Bissau",
          "Equatorial Guinea",
          "Greece",
          "Grenada",
          "Greenland",
          "Guatemala",
          "Guam",
          "Guyana",
          "Honduras",
          "Croatia",
          "Haiti",
          "Hungary",
          "Indonesia",
          "Isle of Man",
          "India",
          "Ireland",
          "Iraq",
          "Iceland",
          "Israel",
          "Italy",
          "Jamaica",
          "Jordan",
          "Japan",
          "Kazakhstan",
          "Kenya",
          "Cambodia",
          "Kiribati",
          "Kuwait",
          "Lebanon",
          "Liberia",
          "Libya",
          "Liechtenstein",
          "Sri Lanka",
          "Lesotho",
          "Lithuania",
          "Luxembourg",
          "Latvia",
          "Morocco",
          "Monaco",
          "Moldova",
          "Madagascar",
          "Maldives",
          "Mexico",
          "Marshall Islands",
          "North Macedonia",
          "Mali",
          "Malta",
          "Myanmar",
          "Montenegro",
          "Mongolia",
          "Northern Mariana Islands",
          "Mozambique",
          "Mauritania",
          "Mauritius",
          "Malawi",
          "Malaysia",
          "Namibia",
          "New Caledonia",
          "Niger",
          "Nigeria",
          "Nicaragua",
          "Netherlands",
          "Norway",
          "Nepal",
          "Nauru",
          "New Zealand",
          "Oman",
          "Pakistan",
          "Panama",
          "Philippines",
          "Palau",
          "Papua New Guinea",
          "Poland",
          "Puerto Rico",
          "Portugal",
          "Paraguay",
          "French Polynesia",
          "Qatar",
          "Romania",
          "Rwanda",
          "Saudi Arabia",
          "Sudan",
          "Senegal",
          "Singapore",
          "Solomon Islands",
          "Sierra Leone",
          "El Salvador",
          "San Marino",
          "Somalia",
          "Serbia",
          "South Sudan",
          "Sao Tome and Principe",
          "Suriname",
          "Slovenia",
          "Sweden",
          "Eswatini",
          "Sint Maarten (Dutch part)",
          "Seychelles",
          "Turks and Caicos Islands",
          "Chad",
          "Togo",
          "Thailand",
          "Tajikistan",
          "Turkmenistan",
          "Tonga",
          "Trinidad and Tobago",
          "Tunisia",
          "Tuvalu",
          "Tanzania",
          "Uganda",
          "Ukraine",
          "Uruguay",
          "United States",
          "Uzbekistan",
          "British Virgin Islands",
          "Vanuatu",
          "Samoa",
          "Kosovo",
          "South Africa",
          "Zambia",
          "Zimbabwe"
         ],
         "locations": [
          "ABW",
          "AFG",
          "AGO",
          "ALB",
          "AND",
          "ARE",
          "ARG",
          "ARM",
          "ASM",
          "ATG",
          "AUS",
          "AUT",
          "AZE",
          "BDI",
          "BEL",
          "BEN",
          "BFA",
          "BGD",
          "BGR",
          "BHR",
          "BIH",
          "BLR",
          "BLZ",
          "BMU",
          "BOL",
          "BRA",
          "BRB",
          "BTN",
          "BWA",
          "CAF",
          "CAN",
          "CHE",
          "CHL",
          "CHN",
          "CIV",
          "CMR",
          "COL",
          "COM",
          "CRI",
          "CUB",
          "CUW",
          "CYM",
          "CYP",
          "CZE",
          "DEU",
          "DJI",
          "DMA",
          "DNK",
          "DOM",
          "DZA",
          "ECU",
          "ERI",
          "ESP",
          "EST",
          "ETH",
          "FIN",
          "FJI",
          "FRA",
          "GAB",
          "GBR",
          "GEO",
          "GHA",
          "GIB",
          "GIN",
          "GNB",
          "GNQ",
          "GRC",
          "GRD",
          "GRL",
          "GTM",
          "GUM",
          "GUY",
          "HND",
          "HRV",
          "HTI",
          "HUN",
          "IDN",
          "IMN",
          "IND",
          "IRL",
          "IRQ",
          "ISL",
          "ISR",
          "ITA",
          "JAM",
          "JOR",
          "JPN",
          "KAZ",
          "KEN",
          "KHM",
          "KIR",
          "KWT",
          "LBN",
          "LBR",
          "LBY",
          "LIE",
          "LKA",
          "LSO",
          "LTU",
          "LUX",
          "LVA",
          "MAR",
          "MCO",
          "MDA",
          "MDG",
          "MDV",
          "MEX",
          "MHL",
          "MKD",
          "MLI",
          "MLT",
          "MMR",
          "MNE",
          "MNG",
          "MNP",
          "MOZ",
          "MRT",
          "MUS",
          "MWI",
          "MYS",
          "NAM",
          "NCL",
          "NER",
          "NGA",
          "NIC",
          "NLD",
          "NOR",
          "NPL",
          "NRU",
          "NZL",
          "OMN",
          "PAK",
          "PAN",
          "PHL",
          "PLW",
          "PNG",
          "POL",
          "PRI",
          "PRT",
          "PRY",
          "PYF",
          "QAT",
          "ROU",
          "RWA",
          "SAU",
          "SDN",
          "SEN",
          "SGP",
          "SLB",
          "SLE",
          "SLV",
          "SMR",
          "SOM",
          "SRB",
          "SSD",
          "STP",
          "SUR",
          "SVN",
          "SWE",
          "SWZ",
          "SXM",
          "SYC",
          "TCA",
          "TCD",
          "TGO",
          "THA",
          "TJK",
          "TKM",
          "TON",
          "TTO",
          "TUN",
          "TUV",
          "TZA",
          "UGA",
          "UKR",
          "URY",
          "USA",
          "UZB",
          "VGB",
          "VUT",
          "WSM",
          "XKX",
          "ZAF",
          "ZMB",
          "ZWE"
         ],
         "name": "",
         "type": "choropleth",
         "z": [
          2630.121,
          190.742,
          54.202,
          1265.165,
          1978.884,
          248.699,
          2859.219,
          3131.842,
          767.581,
          1556.968,
          680.587,
          2412.967,
          966.009,
          1.164,
          2851.769,
          12.207,
          17.421,
          171.97,
          5608.412,
          1043.31,
          5016.808,
          746.516,
          1697.571,
          2367.343,
          1822.627,
          3217.369,
          2016.716,
          26.839,
          1059.195,
          20.254,
          1259.182,
          1586.299,
          3214.285,
          27.348,
          29.474,
          70.393,
          2738.866,
          191.208,
          1751.069,
          760.779,
          1564.028,
          538.401,
          1400.659,
          4011.725,
          1987.985,
          168.622,
          1017.07,
          1311.061,
          390.424,
          153.241,
          1996.222,
          27.958,
          2500.976,
          2056.462,
          61.371,
          1569.825,
          947.547,
          2501.554,
          128.087,
          3189.874,
          4512.891,
          43.643,
          3366.282,
          33.624,
          83.587,
          109.259,
          3367.944,
          1897.034,
          371.721,
          1120.27,
          2392.553,
          1590.153,
          1060.4,
          4345.765,
          74.234,
          4859.79,
          582.709,
          1372.229,
          374.473,
          1679.637,
          570.252,
          498.789,
          1272.727,
          3119.51,
          1224.808,
          1251.299,
          450.28,
          982.421,
          105.28,
          182.254,
          99.057,
          602.031,
          1957.104,
          55.444,
          944.902,
          2210.647,
          770.194,
          306.181,
          3443.2,
          1474.673,
          3788.39,
          434.994,
          1781.261,
          3644.676,
          47.819,
          593.74,
          2598.52,
          408.723,
          4717.22,
          32.885,
          1563.868,
          359.731,
          4171.703,
          628.536,
          827.046,
          67.638,
          210.509,
          799.552,
          131.583,
          1085.355,
          1590.168,
          1082.912,
          11.981,
          14.437,
          35.26,
          1308.129,
          873.154,
          393.452,
          78.796,
          441.248,
          1011.297,
          129.906,
          1943.255,
          564.75,
          497.678,
          65.959,
          2972.491,
          1703.659,
          2509.333,
          2900.271,
          2118.893,
          254.162,
          3425.407,
          106.484,
          261.145,
          106.54,
          113.649,
          303.529,
          211.247,
          14.525,
          667.572,
          3591.57,
          77.34,
          2546.006,
          12.645,
          338.621,
          2253.878,
          4151.723,
          2085.721,
          1183.343,
          2013.939,
          1605.451,
          787.298,
          10.946,
          32.773,
          468.555,
          12.559,
          null,
          112.289,
          2793.52,
          2369.596,
          null,
          12.901,
          76.826,
          2726.555,
          2209.305,
          3192.458,
          29.341,
          2042.64,
          42.847,
          130.402,
          1791.13,
          1712.495,
          200.922,
          345.27
         ]
        }
       ],
       "layout": {
        "geo": {
         "projection": {
          "type": "equirectangular"
         },
         "showcoastlines": false,
         "showframe": false
        },
        "height": 600,
        "template": {
         "data": {
          "bar": [
           {
            "error_x": {
             "color": "#2a3f5f"
            },
            "error_y": {
             "color": "#2a3f5f"
            },
            "marker": {
             "line": {
              "color": "#E5ECF6",
              "width": 0.5
             },
             "pattern": {
              "fillmode": "overlay",
              "size": 10,
              "solidity": 0.2
             }
            },
            "type": "bar"
           }
          ],
          "barpolar": [
           {
            "marker": {
             "line": {
              "color": "#E5ECF6",
              "width": 0.5
             },
             "pattern": {
              "fillmode": "overlay",
              "size": 10,
              "solidity": 0.2
             }
            },
            "type": "barpolar"
           }
          ],
          "carpet": [
           {
            "aaxis": {
             "endlinecolor": "#2a3f5f",
             "gridcolor": "white",
             "linecolor": "white",
             "minorgridcolor": "white",
             "startlinecolor": "#2a3f5f"
            },
            "baxis": {
             "endlinecolor": "#2a3f5f",
             "gridcolor": "white",
             "linecolor": "white",
             "minorgridcolor": "white",
             "startlinecolor": "#2a3f5f"
            },
            "type": "carpet"
           }
          ],
          "choropleth": [
           {
            "colorbar": {
             "outlinewidth": 0,
             "ticks": ""
            },
            "type": "choropleth"
           }
          ],
          "contour": [
           {
            "colorbar": {
             "outlinewidth": 0,
             "ticks": ""
            },
            "colorscale": [
             [
              0,
              "#0d0887"
             ],
             [
              0.1111111111111111,
              "#46039f"
             ],
             [
              0.2222222222222222,
              "#7201a8"
             ],
             [
              0.3333333333333333,
              "#9c179e"
             ],
             [
              0.4444444444444444,
              "#bd3786"
             ],
             [
              0.5555555555555556,
              "#d8576b"
             ],
             [
              0.6666666666666666,
              "#ed7953"
             ],
             [
              0.7777777777777778,
              "#fb9f3a"
             ],
             [
              0.8888888888888888,
              "#fdca26"
             ],
             [
              1,
              "#f0f921"
             ]
            ],
            "type": "contour"
           }
          ],
          "contourcarpet": [
           {
            "colorbar": {
             "outlinewidth": 0,
             "ticks": ""
            },
            "type": "contourcarpet"
           }
          ],
          "heatmap": [
           {
            "colorbar": {
             "outlinewidth": 0,
             "ticks": ""
            },
            "colorscale": [
             [
              0,
              "#0d0887"
             ],
             [
              0.1111111111111111,
              "#46039f"
             ],
             [
              0.2222222222222222,
              "#7201a8"
             ],
             [
              0.3333333333333333,
              "#9c179e"
             ],
             [
              0.4444444444444444,
              "#bd3786"
             ],
             [
              0.5555555555555556,
              "#d8576b"
             ],
             [
              0.6666666666666666,
              "#ed7953"
             ],
             [
              0.7777777777777778,
              "#fb9f3a"
             ],
             [
              0.8888888888888888,
              "#fdca26"
             ],
             [
              1,
              "#f0f921"
             ]
            ],
            "type": "heatmap"
           }
          ],
          "heatmapgl": [
           {
            "colorbar": {
             "outlinewidth": 0,
             "ticks": ""
            },
            "colorscale": [
             [
              0,
              "#0d0887"
             ],
             [
              0.1111111111111111,
              "#46039f"
             ],
             [
              0.2222222222222222,
              "#7201a8"
             ],
             [
              0.3333333333333333,
              "#9c179e"
             ],
             [
              0.4444444444444444,
              "#bd3786"
             ],
             [
              0.5555555555555556,
              "#d8576b"
             ],
             [
              0.6666666666666666,
              "#ed7953"
             ],
             [
              0.7777777777777778,
              "#fb9f3a"
             ],
             [
              0.8888888888888888,
              "#fdca26"
             ],
             [
              1,
              "#f0f921"
             ]
            ],
            "type": "heatmapgl"
           }
          ],
          "histogram": [
           {
            "marker": {
             "pattern": {
              "fillmode": "overlay",
              "size": 10,
              "solidity": 0.2
             }
            },
            "type": "histogram"
           }
          ],
          "histogram2d": [
           {
            "colorbar": {
             "outlinewidth": 0,
             "ticks": ""
            },
            "colorscale": [
             [
              0,
              "#0d0887"
             ],
             [
              0.1111111111111111,
              "#46039f"
             ],
             [
              0.2222222222222222,
              "#7201a8"
             ],
             [
              0.3333333333333333,
              "#9c179e"
             ],
             [
              0.4444444444444444,
              "#bd3786"
             ],
             [
              0.5555555555555556,
              "#d8576b"
             ],
             [
              0.6666666666666666,
              "#ed7953"
             ],
             [
              0.7777777777777778,
              "#fb9f3a"
             ],
             [
              0.8888888888888888,
              "#fdca26"
             ],
             [
              1,
              "#f0f921"
             ]
            ],
            "type": "histogram2d"
           }
          ],
          "histogram2dcontour": [
           {
            "colorbar": {
             "outlinewidth": 0,
             "ticks": ""
            },
            "colorscale": [
             [
              0,
              "#0d0887"
             ],
             [
              0.1111111111111111,
              "#46039f"
             ],
             [
              0.2222222222222222,
              "#7201a8"
             ],
             [
              0.3333333333333333,
              "#9c179e"
             ],
             [
              0.4444444444444444,
              "#bd3786"
             ],
             [
              0.5555555555555556,
              "#d8576b"
             ],
             [
              0.6666666666666666,
              "#ed7953"
             ],
             [
              0.7777777777777778,
              "#fb9f3a"
             ],
             [
              0.8888888888888888,
              "#fdca26"
             ],
             [
              1,
              "#f0f921"
             ]
            ],
            "type": "histogram2dcontour"
           }
          ],
          "mesh3d": [
           {
            "colorbar": {
             "outlinewidth": 0,
             "ticks": ""
            },
            "type": "mesh3d"
           }
          ],
          "parcoords": [
           {
            "line": {
             "colorbar": {
              "outlinewidth": 0,
              "ticks": ""
             }
            },
            "type": "parcoords"
           }
          ],
          "pie": [
           {
            "automargin": true,
            "type": "pie"
           }
          ],
          "scatter": [
           {
            "fillpattern": {
             "fillmode": "overlay",
             "size": 10,
             "solidity": 0.2
            },
            "type": "scatter"
           }
          ],
          "scatter3d": [
           {
            "line": {
             "colorbar": {
              "outlinewidth": 0,
              "ticks": ""
             }
            },
            "marker": {
             "colorbar": {
              "outlinewidth": 0,
              "ticks": ""
             }
            },
            "type": "scatter3d"
           }
          ],
          "scattercarpet": [
           {
            "marker": {
             "colorbar": {
              "outlinewidth": 0,
              "ticks": ""
             }
            },
            "type": "scattercarpet"
           }
          ],
          "scattergeo": [
           {
            "marker": {
             "colorbar": {
              "outlinewidth": 0,
              "ticks": ""
             }
            },
            "type": "scattergeo"
           }
          ],
          "scattergl": [
           {
            "marker": {
             "colorbar": {
              "outlinewidth": 0,
              "ticks": ""
             }
            },
            "type": "scattergl"
           }
          ],
          "scattermapbox": [
           {
            "marker": {
             "colorbar": {
              "outlinewidth": 0,
              "ticks": ""
             }
            },
            "type": "scattermapbox"
           }
          ],
          "scatterpolar": [
           {
            "marker": {
             "colorbar": {
              "outlinewidth": 0,
              "ticks": ""
             }
            },
            "type": "scatterpolar"
           }
          ],
          "scatterpolargl": [
           {
            "marker": {
             "colorbar": {
              "outlinewidth": 0,
              "ticks": ""
             }
            },
            "type": "scatterpolargl"
           }
          ],
          "scatterternary": [
           {
            "marker": {
             "colorbar": {
              "outlinewidth": 0,
              "ticks": ""
             }
            },
            "type": "scatterternary"
           }
          ],
          "surface": [
           {
            "colorbar": {
             "outlinewidth": 0,
             "ticks": ""
            },
            "colorscale": [
             [
              0,
              "#0d0887"
             ],
             [
              0.1111111111111111,
              "#46039f"
             ],
             [
              0.2222222222222222,
              "#7201a8"
             ],
             [
              0.3333333333333333,
              "#9c179e"
             ],
             [
              0.4444444444444444,
              "#bd3786"
             ],
             [
              0.5555555555555556,
              "#d8576b"
             ],
             [
              0.6666666666666666,
              "#ed7953"
             ],
             [
              0.7777777777777778,
              "#fb9f3a"
             ],
             [
              0.8888888888888888,
              "#fdca26"
             ],
             [
              1,
              "#f0f921"
             ]
            ],
            "type": "surface"
           }
          ],
          "table": [
           {
            "cells": {
             "fill": {
              "color": "#EBF0F8"
             },
             "line": {
              "color": "white"
             }
            },
            "header": {
             "fill": {
              "color": "#C8D4E3"
             },
             "line": {
              "color": "white"
             }
            },
            "type": "table"
           }
          ]
         },
         "layout": {
          "annotationdefaults": {
           "arrowcolor": "#2a3f5f",
           "arrowhead": 0,
           "arrowwidth": 1
          },
          "autotypenumbers": "strict",
          "coloraxis": {
           "colorbar": {
            "outlinewidth": 0,
            "ticks": ""
           }
          },
          "colorscale": {
           "diverging": [
            [
             0,
             "#8e0152"
            ],
            [
             0.1,
             "#c51b7d"
            ],
            [
             0.2,
             "#de77ae"
            ],
            [
             0.3,
             "#f1b6da"
            ],
            [
             0.4,
             "#fde0ef"
            ],
            [
             0.5,
             "#f7f7f7"
            ],
            [
             0.6,
             "#e6f5d0"
            ],
            [
             0.7,
             "#b8e186"
            ],
            [
             0.8,
             "#7fbc41"
            ],
            [
             0.9,
             "#4d9221"
            ],
            [
             1,
             "#276419"
            ]
           ],
           "sequential": [
            [
             0,
             "#0d0887"
            ],
            [
             0.1111111111111111,
             "#46039f"
            ],
            [
             0.2222222222222222,
             "#7201a8"
            ],
            [
             0.3333333333333333,
             "#9c179e"
            ],
            [
             0.4444444444444444,
             "#bd3786"
            ],
            [
             0.5555555555555556,
             "#d8576b"
            ],
            [
             0.6666666666666666,
             "#ed7953"
            ],
            [
             0.7777777777777778,
             "#fb9f3a"
            ],
            [
             0.8888888888888888,
             "#fdca26"
            ],
            [
             1,
             "#f0f921"
            ]
           ],
           "sequentialminus": [
            [
             0,
             "#0d0887"
            ],
            [
             0.1111111111111111,
             "#46039f"
            ],
            [
             0.2222222222222222,
             "#7201a8"
            ],
            [
             0.3333333333333333,
             "#9c179e"
            ],
            [
             0.4444444444444444,
             "#bd3786"
            ],
            [
             0.5555555555555556,
             "#d8576b"
            ],
            [
             0.6666666666666666,
             "#ed7953"
            ],
            [
             0.7777777777777778,
             "#fb9f3a"
            ],
            [
             0.8888888888888888,
             "#fdca26"
            ],
            [
             1,
             "#f0f921"
            ]
           ]
          },
          "colorway": [
           "#636efa",
           "#EF553B",
           "#00cc96",
           "#ab63fa",
           "#FFA15A",
           "#19d3f3",
           "#FF6692",
           "#B6E880",
           "#FF97FF",
           "#FECB52"
          ],
          "font": {
           "color": "#2a3f5f"
          },
          "geo": {
           "bgcolor": "white",
           "lakecolor": "white",
           "landcolor": "#E5ECF6",
           "showlakes": true,
           "showland": true,
           "subunitcolor": "white"
          },
          "hoverlabel": {
           "align": "left"
          },
          "hovermode": "closest",
          "mapbox": {
           "style": "light"
          },
          "paper_bgcolor": "white",
          "plot_bgcolor": "#E5ECF6",
          "polar": {
           "angularaxis": {
            "gridcolor": "white",
            "linecolor": "white",
            "ticks": ""
           },
           "bgcolor": "#E5ECF6",
           "radialaxis": {
            "gridcolor": "white",
            "linecolor": "white",
            "ticks": ""
           }
          },
          "scene": {
           "xaxis": {
            "backgroundcolor": "#E5ECF6",
            "gridcolor": "white",
            "gridwidth": 2,
            "linecolor": "white",
            "showbackground": true,
            "ticks": "",
            "zerolinecolor": "white"
           },
           "yaxis": {
            "backgroundcolor": "#E5ECF6",
            "gridcolor": "white",
            "gridwidth": 2,
            "linecolor": "white",
            "showbackground": true,
            "ticks": "",
            "zerolinecolor": "white"
           },
           "zaxis": {
            "backgroundcolor": "#E5ECF6",
            "gridcolor": "white",
            "gridwidth": 2,
            "linecolor": "white",
            "showbackground": true,
            "ticks": "",
            "zerolinecolor": "white"
           }
          },
          "shapedefaults": {
           "line": {
            "color": "#2a3f5f"
           }
          },
          "ternary": {
           "aaxis": {
            "gridcolor": "white",
            "linecolor": "white",
            "ticks": ""
           },
           "baxis": {
            "gridcolor": "white",
            "linecolor": "white",
            "ticks": ""
           },
           "bgcolor": "#E5ECF6",
           "caxis": {
            "gridcolor": "white",
            "linecolor": "white",
            "ticks": ""
           }
          },
          "title": {
           "x": 0.05
          },
          "xaxis": {
           "automargin": true,
           "gridcolor": "white",
           "linecolor": "white",
           "ticks": "",
           "title": {
            "standoff": 15
           },
           "zerolinecolor": "white",
           "zerolinewidth": 2
          },
          "yaxis": {
           "automargin": true,
           "gridcolor": "white",
           "linecolor": "white",
           "ticks": "",
           "title": {
            "standoff": 15
           },
           "zerolinecolor": "white",
           "zerolinewidth": 2
          }
         }
        },
        "updatemenus": [
         {
          "buttons": [
           {
            "args": [
             {
              "visible": [
               true,
               false,
               false
              ]
             }
            ],
            "label": "2020",
            "method": "update"
           },
           {
            "args": [
             {
              "visible": [
               false,
               true,
               false
              ]
             }
            ],
            "label": "2021",
            "method": "update"
           },
           {
            "args": [
             {
              "visible": [
               false,
               false,
               true
              ]
             }
            ],
            "label": "2022",
            "method": "update"
           }
          ],
          "direction": "down",
          "showactive": true
         }
        ]
       }
      }
     },
     "metadata": {},
     "output_type": "display_data"
    }
   ],
   "source": [
    "import plotly.express as px\n",
    "import plotly.graph_objects as go\n",
    "\n",
    "# Load data\n",
    "CovidData = pd.read_csv('owid-covid-data.csv')\n",
    "GDPdata = pd.read_csv('GDP-data.csv', skiprows=4)\n",
    "\n",
    "# Filter the data for the years 2020, 2021, and 2022\n",
    "years = ['2020', '2021', '2022']\n",
    "CovidData['year'] = CovidData['date'].str[:4]\n",
    "CovidData = CovidData[CovidData['year'].isin(years)]\n",
    "\n",
    "# Preprocess GDP data\n",
    "GDPdata = GDPdata.rename(columns={'Country Name': 'location'})\n",
    "\n",
    "# Preprocess Covid data for each year\n",
    "def preprocess_covid_data(year):\n",
    "    Covid_year = CovidData[CovidData['year'] == year]\n",
    "    Covid_deaths_year = Covid_year.groupby('location').last()['total_deaths_per_million'].reset_index()\n",
    "    df_year = pd.merge(GDPdata, Covid_deaths_year, on='location', how='inner')\n",
    "    df_year = df_year[~df_year['location'].isin([\n",
    "        'World', 'Upper middle income', 'Lower middle income', 'High income', \n",
    "        'Low income', 'European Union', 'North America', 'South America', \n",
    "        'Asia', 'Oceania', 'Africa', 'Peru'\n",
    "    ])]\n",
    "    return df_year\n",
    "\n",
    "df_2020 = preprocess_covid_data('2020')\n",
    "df_2021 = preprocess_covid_data('2021')\n",
    "df_2022 = preprocess_covid_data('2022')\n",
    "\n",
    "# Create a function to generate the choropleth map for a specific year\n",
    "def create_choropleth(df, year):\n",
    "    fig = px.choropleth(\n",
    "        df, \n",
    "        locations=\"Country Code\",\n",
    "        color=\"total_deaths_per_million\",\n",
    "        hover_name=\"location\",\n",
    "        color_continuous_scale=px.colors.sequential.Blues_r,\n",
    "        title=f\"Deaths per million by Country ({year})\"\n",
    "    )\n",
    "    fig.update_layout(\n",
    "        geo=dict(\n",
    "            showframe=False,\n",
    "            showcoastlines=False,\n",
    "            projection_type='equirectangular'\n",
    "        ),\n",
    "        height=600\n",
    "    )\n",
    "    return fig\n",
    "\n",
    "# Generate choropleth maps for each year\n",
    "fig_2020 = create_choropleth(df_2020, '2020')\n",
    "fig_2021 = create_choropleth(df_2021, '2021')\n",
    "fig_2022 = create_choropleth(df_2022, '2022')\n",
    "\n",
    "# Create a figure with all traces\n",
    "fig = go.Figure(data=fig_2020.data + fig_2021.data + fig_2022.data)\n",
    "\n",
    "# Update the layout to include dropdown buttons\n",
    "fig.update_layout(\n",
    "    updatemenus=[\n",
    "        {\n",
    "            'buttons': [\n",
    "                {\n",
    "                    'label': '2020',\n",
    "                    'method': 'update',\n",
    "                    'args': [{'visible': [True, False, False]}]\n",
    "                },\n",
    "                {\n",
    "                    'label': '2021',\n",
    "                    'method': 'update',\n",
    "                    'args': [{'visible': [False, True, False]}]\n",
    "                },\n",
    "                {\n",
    "                    'label': '2022',\n",
    "                    'method': 'update',\n",
    "                    'args': [{'visible': [False, False, True]}]\n",
    "                }\n",
    "            ],\n",
    "            'direction': 'down',\n",
    "            'showactive': True,\n",
    "        }\n",
    "    ],\n",
    "    geo=dict(\n",
    "        showframe=False,\n",
    "        showcoastlines=False,\n",
    "        projection_type='equirectangular',\n",
    "    ),\n",
    "    height=600\n",
    ")\n",
    "\n",
    "# Show the figure\n",
    "fig.show()"
   ]
  },
  {
   "cell_type": "code",
   "execution_count": 7,
   "metadata": {},
   "outputs": [
    {
     "name": "stderr",
     "output_type": "stream",
     "text": [
      "/tmp/ipykernel_76724/2866940247.py:11: SettingWithCopyWarning:\n",
      "\n",
      "\n",
      "A value is trying to be set on a copy of a slice from a DataFrame.\n",
      "Try using .loc[row_indexer,col_indexer] = value instead\n",
      "\n",
      "See the caveats in the documentation: https://pandas.pydata.org/pandas-docs/stable/user_guide/indexing.html#returning-a-view-versus-a-copy\n",
      "\n"
     ]
    },
    {
     "data": {
      "application/vnd.plotly.v1+json": {
       "config": {
        "plotlyServerURL": "https://plot.ly"
       },
       "data": [
        {
         "hovertemplate": "<b>%{hovertext}</b><br><br>continent=North America<br>Total Cases per Million=%{x}<br>Total Deaths per Million=%{y}<br>GDP per capita=%{z}<extra></extra>",
         "hovertext": [
          "Aruba",
          "Antigua and Barbuda",
          "Belize",
          "Bermuda",
          "Barbados",
          "Canada",
          "Costa Rica",
          "Cuba",
          "Curacao",
          "Cayman Islands",
          "Dominica",
          "Dominican Republic",
          "Grenada",
          "Greenland",
          "Guatemala",
          "Honduras",
          "Haiti",
          "Jamaica",
          "Mexico",
          "Nicaragua",
          "Panama",
          "Puerto Rico",
          "El Salvador",
          "Sint Maarten (Dutch part)",
          "Turks and Caicos Islands",
          "Trinidad and Tobago",
          "United States",
          "British Virgin Islands"
         ],
         "legendgroup": "North America",
         "marker": {
          "color": "#636efa",
          "symbol": "circle"
         },
         "mode": "markers",
         "name": "North America",
         "scene": "scene",
         "showlegend": true,
         "type": "scatter3d",
         "x": [
          161235.781,
          45098.75,
          77730.486,
          94444.531,
          98098.322,
          51014.362,
          109928.784,
          86031.927,
          95719.584,
          122027.88,
          90148.162,
          36859.346,
          47473.677,
          37897.83,
          35027.573,
          36334.531,
          2242.037,
          32664.493,
          31387.056,
          1947.356,
          110325.043,
          77583.652,
          19212.981,
          107440.261,
          70747.496,
          58093.731,
          153356.239,
          98014.809
         ],
         "y": [
          1700.185,
          1258.371,
          1460.7,
          1650.91,
          923.145,
          776.272,
          1418.497,
          742.049,
          972.941,
          160.065,
          618.489,
          377.333,
          1594.146,
          17.701,
          901.988,
          999.63,
          66.12,
          870.77,
          2378.394,
          31.086,
          1680.586,
          1014.939,
          602.551,
          1697.14,
          568.604,
          1775.26,
          2402.044,
          1244.734
         ],
         "z": [
          38226.146156979,
          25493.1295548691,
          11559.8905984688,
          91508.8303752301,
          14686.2199296539,
          55634.8275796301,
          23700.2961314063,
          null,
          25163.8669323866,
          75898.4231569682,
          14472.2858615339,
          21923.3019358073,
          14325.5548482263,
          68086.4601238175,
          12106.4225430833,
          6285.9287396567,
          3114.96354203089,
          9610.98933709822,
          21123.6718346798,
          6874.61550569295,
          30895.8322499594,
          40537.7088223526,
          10860.247882807,
          39465.6250774608,
          21232.6835191491,
          27631.6778146419,
          70219.472454115,
          null
         ]
        },
        {
         "hovertemplate": "<b>%{hovertext}</b><br><br>continent=Asia<br>Total Cases per Million=%{x}<br>Total Deaths per Million=%{y}<br>GDP per capita=%{z}<extra></extra>",
         "hovertext": [
          "Afghanistan",
          "United Arab Emirates",
          "Armenia",
          "Azerbaijan",
          "Bangladesh",
          "Bahrain",
          "Bhutan",
          "China",
          "Georgia",
          "Indonesia",
          "India",
          "Iraq",
          "Israel",
          "Jordan",
          "Japan",
          "Kazakhstan",
          "Cambodia",
          "Kuwait",
          "Lebanon",
          "Sri Lanka",
          "Maldives",
          "Myanmar",
          "Mongolia",
          "Malaysia",
          "Nepal",
          "Oman",
          "Pakistan",
          "Philippines",
          "Qatar",
          "Saudi Arabia",
          "Singapore",
          "Thailand",
          "Tajikistan",
          "Turkmenistan",
          "Uzbekistan"
         ],
         "legendgroup": "Asia",
         "marker": {
          "color": "#EF553B",
          "symbol": "circle"
         },
         "mode": "markers",
         "name": "Asia",
         "scene": "scene",
         "showlegend": true,
         "type": "scatter3d",
         "x": [
          3839.21,
          79389.794,
          123892.994,
          59288.895,
          9248.71,
          189859.377,
          3399.548,
          91.773,
          246867.777,
          15469.104,
          24546.614,
          47022.343,
          144435.178,
          93162.559,
          13971.483,
          55153.32,
          7183.33,
          97194.209,
          129561.415,
          26733.464,
          181107.984,
          9775.189,
          203317.882,
          80769.685,
          27081.387,
          66660.403,
          5483.226,
          24562.983,
          91942.099,
          15172.311,
          49274.954,
          30823.734,
          1757.598,
          null,
          3372.594
         ],
         "y": [
          178.756,
          228.362,
          2856.709,
          799.762,
          163.915,
          946.858,
          3.834,
          3.997,
          3608.603,
          522.883,
          338.478,
          542.115,
          873.214,
          1102.617,
          148.34,
          937.468,
          179.391,
          578.137,
          1644.339,
          681.747,
          498.284,
          355.375,
          582.926,
          923.266,
          379.244,
          978.957,
          122.57,
          443.064,
          227.818,
          243.622,
          145.822,
          300.989,
          12.559,
          null,
          24.836
         ],
         "z": [
          2138.87024713086,
          68912.5455473732,
          16899.0709181678,
          20111.3756952109,
          7366.48997079065,
          54351.8360757233,
          13423.4288723593,
          20406.7296584605,
          18691.1612210787,
          12897.0571071313,
          8044.67480751057,
          12476.3625169213,
          46126.6423137421,
          9115.01951145213,
          44291.9852770528,
          34233.4732249708,
          4668.23777959985,
          48129.9882968208,
          11860.0586252712,
          14306.2352220864,
          18865.7192956579,
          5138.88724952007,
          14951.1365679904,
          30456.0928951741,
          4461.46878467812,
          38930.9938379577,
          5554.58570149625,
          8797.16871175312,
          108865.13777489,
          47754.4377844143,
          128731.011187586,
          20253.3547905679,
          4074.56022293416,
          null,
          8162.19581678153
         ]
        },
        {
         "hovertemplate": "<b>%{hovertext}</b><br><br>continent=Africa<br>Total Cases per Million=%{x}<br>Total Deaths per Million=%{y}<br>GDP per capita=%{z}<extra></extra>",
         "hovertext": [
          "Angola",
          "Burundi",
          "Benin",
          "Burkina Faso",
          "Botswana",
          "Central African Republic",
          "Cote d'Ivoire",
          "Cameroon",
          "Comoros",
          "Djibouti",
          "Algeria",
          "Eritrea",
          "Ethiopia",
          "Gabon",
          "Ghana",
          "Guinea",
          "Guinea-Bissau",
          "Equatorial Guinea",
          "Kenya",
          "Liberia",
          "Libya",
          "Lesotho",
          "Morocco",
          "Madagascar",
          "Mali",
          "Mozambique",
          "Mauritania",
          "Mauritius",
          "Malawi",
          "Namibia",
          "Niger",
          "Nigeria",
          "Rwanda",
          "Sudan",
          "Senegal",
          "Sierra Leone",
          "Somalia",
          "South Sudan",
          "Sao Tome and Principe",
          "Eswatini",
          "Seychelles",
          "Chad",
          "Togo",
          "Tunisia",
          "Tanzania",
          "Uganda",
          "South Africa",
          "Zambia",
          "Zimbabwe"
         ],
         "legendgroup": "Africa",
         "marker": {
          "color": "#00cc96",
          "symbol": "circle"
         },
         "mode": "markers",
         "name": "Africa",
         "scene": "scene",
         "showlegend": true,
         "type": "scatter3d",
         "x": [
          1998.989,
          2094.637,
          1867.39,
          751.529,
          80782.42,
          2198.902,
          2267.25,
          3893.168,
          6695.882,
          12105.088,
          4818.718,
          2137.055,
          3207.572,
          16270.426,
          4220.801,
          2246.137,
          3070.888,
          8137.722,
          5207.683,
          1174.498,
          56465.587,
          12222.084,
          25510.909,
          1697.943,
          885.693,
          5000.437,
          8541.333,
          69327.838,
          3463.901,
          56912.986,
          277.32,
          1079.952,
          7586.141,
          987.43,
          4293.778,
          773.787,
          1337.235,
          1357.076,
          16464.887,
          53575.827,
          227572.689,
          321.667,
          3163.403,
          58496.942,
          447.435,
          2859.094,
          56899.583,
          11568.829,
          12484.024
         ],
         "y": [
          49.06,
          1.086,
          12.057,
          13.981,
          927.271,
          18.103,
          25.106,
          66.31,
          182.843,
          168.622,
          138.721,
          19.544,
          55.876,
          120.134,
          38.446,
          28.068,
          70.764,
          104.483,
          99.19,
          54.123,
          828.056,
          288.4,
          395.83,
          34.682,
          28.902,
          59.449,
          182.005,
          586.389,
          114.088,
          1406.687,
          10.455,
          13.791,
          97.701,
          70.359,
          109.145,
          14.293,
          75.749,
          12.37,
          250.667,
          1058.518,
          1176.086,
          10.213,
          27.801,
          2065.617,
          11.252,
          69.419,
          1515.564,
          184.687,
          299.316
         ],
         "z": [
          7414.27895783202,
          864.280732753101,
          3575.31148668734,
          2467.67804044213,
          16651.5337042653,
          1057.19439503026,
          6432.62666292098,
          4741.76177028658,
          3426.75773437156,
          6032.27795593735,
          12893.2100025293,
          null,
          2628.34346412648,
          19552.3625335025,
          6544.2381999688,
          3735.0898272933,
          2164.37287781941,
          17936.6113034777,
          5360.36190289931,
          1556.94547466638,
          15133.8474122324,
          2456.31221508897,
          8581.330078125,
          1642.30416221094,
          2399.46153474407,
          1440.45976271877,
          5988.20355101133,
          22737.5729410543,
          1731.76777467309,
          10823.175558195,
          1538.47074692859,
          5623.66407810605,
          2705.84426715937,
          3420.45190429688,
          4266.26875168597,
          1623.97562392431,
          1461.96879165973,
          null,
          5703.24824295017,
          10202.5096730796,
          25938.2456464216,
          1764.34807562549,
          2678.83160754709,
          12126.587729035,
          3451.4482421875,
          2688.26683541397,
          14172.5442513912,
          3526.50741832512,
          3276.26775280153
         ]
        },
        {
         "hovertemplate": "<b>%{hovertext}</b><br><br>continent=Europe<br>Total Cases per Million=%{x}<br>Total Deaths per Million=%{y}<br>GDP per capita=%{z}<extra></extra>",
         "hovertext": [
          "Albania",
          "Andorra",
          "Austria",
          "Belgium",
          "Bulgaria",
          "Bosnia and Herzegovina",
          "Belarus",
          "Switzerland",
          "Cyprus",
          "Czechia",
          "Germany",
          "Denmark",
          "Spain",
          "Estonia",
          "Finland",
          "France",
          "United Kingdom",
          "Gibraltar",
          "Greece",
          "Croatia",
          "Hungary",
          "Isle of Man",
          "Ireland",
          "Iceland",
          "Italy",
          "Liechtenstein",
          "Lithuania",
          "Luxembourg",
          "Latvia",
          "Monaco",
          "Moldova",
          "North Macedonia",
          "Malta",
          "Montenegro",
          "Netherlands",
          "Norway",
          "Poland",
          "Portugal",
          "Romania",
          "San Marino",
          "Serbia",
          "Slovenia",
          "Sweden",
          "Ukraine",
          "Kosovo"
         ],
         "legendgroup": "Europe",
         "marker": {
          "color": "#ab63fa",
          "symbol": "circle"
         },
         "mode": "markers",
         "name": "Europe",
         "scene": "scene",
         "showlegend": true,
         "type": "scatter3d",
         "x": [
          72905.635,
          272159.112,
          140060.586,
          175714.098,
          108210.98,
          88978.918,
          72638.091,
          143428.197,
          167239.765,
          236940.477,
          84131.66,
          118587.604,
          128265.632,
          171039.256,
          58265.63,
          134773.031,
          186268.363,
          249166.08,
          104486.271,
          171970.203,
          124138.884,
          164584.664,
          138578.147,
          64912.323,
          95234.955,
          153957.566,
          187634.588,
          148066.479,
          146666.53,
          126195.5,
          114375.13,
          106662.381,
          88949.227,
          251976.615,
          175671.743,
          69059.187,
          101633.775,
          124882.276,
          91681.736,
          226803.206,
          187656.87,
          215507.469,
          121960.891,
          90829.36,
          90501.455
         ],
         "y": [
          1121.268,
          1740.917,
          1855.449,
          2418.684,
          4501.357,
          4107.894,
          575.147,
          1353.245,
          710.932,
          3429.391,
          1411.686,
          543.499,
          1919.21,
          1378.516,
          331.363,
          1921.267,
          2609.418,
          3060.256,
          1974.488,
          3046.625,
          3843.266,
          792.581,
          1205.23,
          99.222,
          2312.599,
          1753.272,
          2655.217,
          980.542,
          2601.783,
          1041.353,
          3111.525,
          3989.289,
          924.445,
          3629.509,
          1193.349,
          245.661,
          2366.702,
          1838.99,
          2977.527,
          2908.875,
          1828.991,
          2872.383,
          1450.516,
          2330.704,
          1671.609
         ],
         "z": [
          16262.6634527606,
          58829.8500720505,
          63421.2035870778,
          62107.0699329664,
          29406.5795920851,
          18379.5525047191,
          27611.1801135156,
          81603.2073073193,
          48469.4140625,
          48418.1157871868,
          61939.6515850137,
          69878.9348117258,
          43620.6040614123,
          45047.315035037,
          57848.6141705053,
          53834.7992971017,
          52841.6345850474,
          null,
          33018.2544152866,
          36954.4345867034,
          38643.762589993,
          null,
          114120.544516392,
          61481.3794980574,
          49912.83903304,
          null,
          46410.0676392912,
          137947.34385169,
          36777.8928459839,
          null,
          15682.0703284653,
          19902.8198301911,
          53387.2378429299,
          24511.2620665873,
          67693.3264311302,
          86891.9964886406,
          40462.6887122126,
          38783.0115625218,
          37971.0545519053,
          65717.8915454458,
          22575.4210980499,
          46502.0978938704,
          63375.0446462412,
          18040.345703125,
          12362.7048078624
         ]
        },
        {
         "hovertemplate": "<b>%{hovertext}</b><br><br>continent=South America<br>Total Cases per Million=%{x}<br>Total Deaths per Million=%{y}<br>GDP per capita=%{z}<extra></extra>",
         "hovertext": [
          "Argentina",
          "Bolivia",
          "Brazil",
          "Chile",
          "Colombia",
          "Ecuador",
          "Guyana",
          "Peru",
          "Paraguay",
          "Suriname",
          "Uruguay"
         ],
         "legendgroup": "South America",
         "marker": {
          "color": "#FFA15A",
          "symbol": "circle"
         },
         "mode": "markers",
         "name": "South America",
         "scene": "scene",
         "showlegend": true,
         "type": "scatter3d",
         "x": [
          122168.236,
          47058.38,
          103248.225,
          91774.598,
          98666.986,
          30074.326,
          48275.871,
          66752.203,
          68595.707,
          83429.065,
          118832.381
         ],
         "y": [
          2589.083,
          1597.662,
          2872.054,
          1990.08,
          2500.018,
          1869.174,
          1288.445,
          5945.858,
          2447.814,
          1918.951,
          1800.283
         ],
         "z": [
          26086.8023552274,
          9342.97184473106,
          17450.5086501913,
          29148.2424509188,
          17586.5239590949,
          13293.0871517821,
          23176.1332006217,
          14853.5805797423,
          15361.0847494949,
          18447.3399360527,
          29500.3726206454
         ]
        },
        {
         "hovertemplate": "<b>%{hovertext}</b><br><br>continent=Oceania<br>Total Cases per Million=%{x}<br>Total Deaths per Million=%{y}<br>GDP per capita=%{z}<extra></extra>",
         "hovertext": [
          "American Samoa",
          "Australia",
          "Fiji",
          "Guam",
          "Kiribati",
          "Marshall Islands",
          "Northern Mariana Islands",
          "New Caledonia",
          "Nauru",
          "New Zealand",
          "Palau",
          "Papua New Guinea",
          "French Polynesia",
          "Solomon Islands",
          "Tonga",
          "Tuvalu",
          "Vanuatu",
          "Samoa"
         ],
         "legendgroup": "Oceania",
         "marker": {
          "color": "#19d3f3",
          "symbol": "circle"
         },
         "mode": "markers",
         "name": "Oceania",
         "scene": "scene",
         "showlegend": true,
         "type": "scatter3d",
         "x": [
          248.335,
          14004.709,
          56943.176,
          88833.004,
          null,
          96.17,
          58357.203,
          43857.925,
          null,
          2609.112,
          442.38,
          3562.194,
          151430.661,
          30.375,
          9.357,
          null,
          21.423,
          8.993
         ],
         "y": [
          null,
          90.803,
          749.649,
          1571.75,
          null,
          null,
          221.891,
          965.654,
          null,
          9.643,
          null,
          58.17,
          2076.45,
          null,
          null,
          null,
          null,
          null
         ],
         "z": [
          null,
          57406.1787604549,
          10593.9126867971,
          null,
          2215.72978938238,
          6594.29953549562,
          null,
          null,
          12126.5887460305,
          48555.5523439365,
          15572.7392991737,
          4014.2854655247,
          null,
          2645.34556016287,
          6778.50356937661,
          5080.76524350095,
          3090.22795764862,
          6107.16207916622
         ]
        }
       ],
       "layout": {
        "legend": {
         "title": {
          "text": "continent"
         },
         "tracegroupgap": 0
        },
        "scene": {
         "domain": {
          "x": [
           0,
           1
          ],
          "y": [
           0,
           1
          ]
         },
         "xaxis": {
          "title": {
           "text": "Total Cases per Million"
          }
         },
         "yaxis": {
          "title": {
           "text": "Total Deaths per Million"
          }
         },
         "zaxis": {
          "title": {
           "text": "GDP per capita"
          }
         }
        },
        "template": {
         "data": {
          "bar": [
           {
            "error_x": {
             "color": "#2a3f5f"
            },
            "error_y": {
             "color": "#2a3f5f"
            },
            "marker": {
             "line": {
              "color": "#E5ECF6",
              "width": 0.5
             },
             "pattern": {
              "fillmode": "overlay",
              "size": 10,
              "solidity": 0.2
             }
            },
            "type": "bar"
           }
          ],
          "barpolar": [
           {
            "marker": {
             "line": {
              "color": "#E5ECF6",
              "width": 0.5
             },
             "pattern": {
              "fillmode": "overlay",
              "size": 10,
              "solidity": 0.2
             }
            },
            "type": "barpolar"
           }
          ],
          "carpet": [
           {
            "aaxis": {
             "endlinecolor": "#2a3f5f",
             "gridcolor": "white",
             "linecolor": "white",
             "minorgridcolor": "white",
             "startlinecolor": "#2a3f5f"
            },
            "baxis": {
             "endlinecolor": "#2a3f5f",
             "gridcolor": "white",
             "linecolor": "white",
             "minorgridcolor": "white",
             "startlinecolor": "#2a3f5f"
            },
            "type": "carpet"
           }
          ],
          "choropleth": [
           {
            "colorbar": {
             "outlinewidth": 0,
             "ticks": ""
            },
            "type": "choropleth"
           }
          ],
          "contour": [
           {
            "colorbar": {
             "outlinewidth": 0,
             "ticks": ""
            },
            "colorscale": [
             [
              0,
              "#0d0887"
             ],
             [
              0.1111111111111111,
              "#46039f"
             ],
             [
              0.2222222222222222,
              "#7201a8"
             ],
             [
              0.3333333333333333,
              "#9c179e"
             ],
             [
              0.4444444444444444,
              "#bd3786"
             ],
             [
              0.5555555555555556,
              "#d8576b"
             ],
             [
              0.6666666666666666,
              "#ed7953"
             ],
             [
              0.7777777777777778,
              "#fb9f3a"
             ],
             [
              0.8888888888888888,
              "#fdca26"
             ],
             [
              1,
              "#f0f921"
             ]
            ],
            "type": "contour"
           }
          ],
          "contourcarpet": [
           {
            "colorbar": {
             "outlinewidth": 0,
             "ticks": ""
            },
            "type": "contourcarpet"
           }
          ],
          "heatmap": [
           {
            "colorbar": {
             "outlinewidth": 0,
             "ticks": ""
            },
            "colorscale": [
             [
              0,
              "#0d0887"
             ],
             [
              0.1111111111111111,
              "#46039f"
             ],
             [
              0.2222222222222222,
              "#7201a8"
             ],
             [
              0.3333333333333333,
              "#9c179e"
             ],
             [
              0.4444444444444444,
              "#bd3786"
             ],
             [
              0.5555555555555556,
              "#d8576b"
             ],
             [
              0.6666666666666666,
              "#ed7953"
             ],
             [
              0.7777777777777778,
              "#fb9f3a"
             ],
             [
              0.8888888888888888,
              "#fdca26"
             ],
             [
              1,
              "#f0f921"
             ]
            ],
            "type": "heatmap"
           }
          ],
          "heatmapgl": [
           {
            "colorbar": {
             "outlinewidth": 0,
             "ticks": ""
            },
            "colorscale": [
             [
              0,
              "#0d0887"
             ],
             [
              0.1111111111111111,
              "#46039f"
             ],
             [
              0.2222222222222222,
              "#7201a8"
             ],
             [
              0.3333333333333333,
              "#9c179e"
             ],
             [
              0.4444444444444444,
              "#bd3786"
             ],
             [
              0.5555555555555556,
              "#d8576b"
             ],
             [
              0.6666666666666666,
              "#ed7953"
             ],
             [
              0.7777777777777778,
              "#fb9f3a"
             ],
             [
              0.8888888888888888,
              "#fdca26"
             ],
             [
              1,
              "#f0f921"
             ]
            ],
            "type": "heatmapgl"
           }
          ],
          "histogram": [
           {
            "marker": {
             "pattern": {
              "fillmode": "overlay",
              "size": 10,
              "solidity": 0.2
             }
            },
            "type": "histogram"
           }
          ],
          "histogram2d": [
           {
            "colorbar": {
             "outlinewidth": 0,
             "ticks": ""
            },
            "colorscale": [
             [
              0,
              "#0d0887"
             ],
             [
              0.1111111111111111,
              "#46039f"
             ],
             [
              0.2222222222222222,
              "#7201a8"
             ],
             [
              0.3333333333333333,
              "#9c179e"
             ],
             [
              0.4444444444444444,
              "#bd3786"
             ],
             [
              0.5555555555555556,
              "#d8576b"
             ],
             [
              0.6666666666666666,
              "#ed7953"
             ],
             [
              0.7777777777777778,
              "#fb9f3a"
             ],
             [
              0.8888888888888888,
              "#fdca26"
             ],
             [
              1,
              "#f0f921"
             ]
            ],
            "type": "histogram2d"
           }
          ],
          "histogram2dcontour": [
           {
            "colorbar": {
             "outlinewidth": 0,
             "ticks": ""
            },
            "colorscale": [
             [
              0,
              "#0d0887"
             ],
             [
              0.1111111111111111,
              "#46039f"
             ],
             [
              0.2222222222222222,
              "#7201a8"
             ],
             [
              0.3333333333333333,
              "#9c179e"
             ],
             [
              0.4444444444444444,
              "#bd3786"
             ],
             [
              0.5555555555555556,
              "#d8576b"
             ],
             [
              0.6666666666666666,
              "#ed7953"
             ],
             [
              0.7777777777777778,
              "#fb9f3a"
             ],
             [
              0.8888888888888888,
              "#fdca26"
             ],
             [
              1,
              "#f0f921"
             ]
            ],
            "type": "histogram2dcontour"
           }
          ],
          "mesh3d": [
           {
            "colorbar": {
             "outlinewidth": 0,
             "ticks": ""
            },
            "type": "mesh3d"
           }
          ],
          "parcoords": [
           {
            "line": {
             "colorbar": {
              "outlinewidth": 0,
              "ticks": ""
             }
            },
            "type": "parcoords"
           }
          ],
          "pie": [
           {
            "automargin": true,
            "type": "pie"
           }
          ],
          "scatter": [
           {
            "fillpattern": {
             "fillmode": "overlay",
             "size": 10,
             "solidity": 0.2
            },
            "type": "scatter"
           }
          ],
          "scatter3d": [
           {
            "line": {
             "colorbar": {
              "outlinewidth": 0,
              "ticks": ""
             }
            },
            "marker": {
             "colorbar": {
              "outlinewidth": 0,
              "ticks": ""
             }
            },
            "type": "scatter3d"
           }
          ],
          "scattercarpet": [
           {
            "marker": {
             "colorbar": {
              "outlinewidth": 0,
              "ticks": ""
             }
            },
            "type": "scattercarpet"
           }
          ],
          "scattergeo": [
           {
            "marker": {
             "colorbar": {
              "outlinewidth": 0,
              "ticks": ""
             }
            },
            "type": "scattergeo"
           }
          ],
          "scattergl": [
           {
            "marker": {
             "colorbar": {
              "outlinewidth": 0,
              "ticks": ""
             }
            },
            "type": "scattergl"
           }
          ],
          "scattermapbox": [
           {
            "marker": {
             "colorbar": {
              "outlinewidth": 0,
              "ticks": ""
             }
            },
            "type": "scattermapbox"
           }
          ],
          "scatterpolar": [
           {
            "marker": {
             "colorbar": {
              "outlinewidth": 0,
              "ticks": ""
             }
            },
            "type": "scatterpolar"
           }
          ],
          "scatterpolargl": [
           {
            "marker": {
             "colorbar": {
              "outlinewidth": 0,
              "ticks": ""
             }
            },
            "type": "scatterpolargl"
           }
          ],
          "scatterternary": [
           {
            "marker": {
             "colorbar": {
              "outlinewidth": 0,
              "ticks": ""
             }
            },
            "type": "scatterternary"
           }
          ],
          "surface": [
           {
            "colorbar": {
             "outlinewidth": 0,
             "ticks": ""
            },
            "colorscale": [
             [
              0,
              "#0d0887"
             ],
             [
              0.1111111111111111,
              "#46039f"
             ],
             [
              0.2222222222222222,
              "#7201a8"
             ],
             [
              0.3333333333333333,
              "#9c179e"
             ],
             [
              0.4444444444444444,
              "#bd3786"
             ],
             [
              0.5555555555555556,
              "#d8576b"
             ],
             [
              0.6666666666666666,
              "#ed7953"
             ],
             [
              0.7777777777777778,
              "#fb9f3a"
             ],
             [
              0.8888888888888888,
              "#fdca26"
             ],
             [
              1,
              "#f0f921"
             ]
            ],
            "type": "surface"
           }
          ],
          "table": [
           {
            "cells": {
             "fill": {
              "color": "#EBF0F8"
             },
             "line": {
              "color": "white"
             }
            },
            "header": {
             "fill": {
              "color": "#C8D4E3"
             },
             "line": {
              "color": "white"
             }
            },
            "type": "table"
           }
          ]
         },
         "layout": {
          "annotationdefaults": {
           "arrowcolor": "#2a3f5f",
           "arrowhead": 0,
           "arrowwidth": 1
          },
          "autotypenumbers": "strict",
          "coloraxis": {
           "colorbar": {
            "outlinewidth": 0,
            "ticks": ""
           }
          },
          "colorscale": {
           "diverging": [
            [
             0,
             "#8e0152"
            ],
            [
             0.1,
             "#c51b7d"
            ],
            [
             0.2,
             "#de77ae"
            ],
            [
             0.3,
             "#f1b6da"
            ],
            [
             0.4,
             "#fde0ef"
            ],
            [
             0.5,
             "#f7f7f7"
            ],
            [
             0.6,
             "#e6f5d0"
            ],
            [
             0.7,
             "#b8e186"
            ],
            [
             0.8,
             "#7fbc41"
            ],
            [
             0.9,
             "#4d9221"
            ],
            [
             1,
             "#276419"
            ]
           ],
           "sequential": [
            [
             0,
             "#0d0887"
            ],
            [
             0.1111111111111111,
             "#46039f"
            ],
            [
             0.2222222222222222,
             "#7201a8"
            ],
            [
             0.3333333333333333,
             "#9c179e"
            ],
            [
             0.4444444444444444,
             "#bd3786"
            ],
            [
             0.5555555555555556,
             "#d8576b"
            ],
            [
             0.6666666666666666,
             "#ed7953"
            ],
            [
             0.7777777777777778,
             "#fb9f3a"
            ],
            [
             0.8888888888888888,
             "#fdca26"
            ],
            [
             1,
             "#f0f921"
            ]
           ],
           "sequentialminus": [
            [
             0,
             "#0d0887"
            ],
            [
             0.1111111111111111,
             "#46039f"
            ],
            [
             0.2222222222222222,
             "#7201a8"
            ],
            [
             0.3333333333333333,
             "#9c179e"
            ],
            [
             0.4444444444444444,
             "#bd3786"
            ],
            [
             0.5555555555555556,
             "#d8576b"
            ],
            [
             0.6666666666666666,
             "#ed7953"
            ],
            [
             0.7777777777777778,
             "#fb9f3a"
            ],
            [
             0.8888888888888888,
             "#fdca26"
            ],
            [
             1,
             "#f0f921"
            ]
           ]
          },
          "colorway": [
           "#636efa",
           "#EF553B",
           "#00cc96",
           "#ab63fa",
           "#FFA15A",
           "#19d3f3",
           "#FF6692",
           "#B6E880",
           "#FF97FF",
           "#FECB52"
          ],
          "font": {
           "color": "#2a3f5f"
          },
          "geo": {
           "bgcolor": "white",
           "lakecolor": "white",
           "landcolor": "#E5ECF6",
           "showlakes": true,
           "showland": true,
           "subunitcolor": "white"
          },
          "hoverlabel": {
           "align": "left"
          },
          "hovermode": "closest",
          "mapbox": {
           "style": "light"
          },
          "paper_bgcolor": "white",
          "plot_bgcolor": "#E5ECF6",
          "polar": {
           "angularaxis": {
            "gridcolor": "white",
            "linecolor": "white",
            "ticks": ""
           },
           "bgcolor": "#E5ECF6",
           "radialaxis": {
            "gridcolor": "white",
            "linecolor": "white",
            "ticks": ""
           }
          },
          "scene": {
           "xaxis": {
            "backgroundcolor": "#E5ECF6",
            "gridcolor": "white",
            "gridwidth": 2,
            "linecolor": "white",
            "showbackground": true,
            "ticks": "",
            "zerolinecolor": "white"
           },
           "yaxis": {
            "backgroundcolor": "#E5ECF6",
            "gridcolor": "white",
            "gridwidth": 2,
            "linecolor": "white",
            "showbackground": true,
            "ticks": "",
            "zerolinecolor": "white"
           },
           "zaxis": {
            "backgroundcolor": "#E5ECF6",
            "gridcolor": "white",
            "gridwidth": 2,
            "linecolor": "white",
            "showbackground": true,
            "ticks": "",
            "zerolinecolor": "white"
           }
          },
          "shapedefaults": {
           "line": {
            "color": "#2a3f5f"
           }
          },
          "ternary": {
           "aaxis": {
            "gridcolor": "white",
            "linecolor": "white",
            "ticks": ""
           },
           "baxis": {
            "gridcolor": "white",
            "linecolor": "white",
            "ticks": ""
           },
           "bgcolor": "#E5ECF6",
           "caxis": {
            "gridcolor": "white",
            "linecolor": "white",
            "ticks": ""
           }
          },
          "title": {
           "x": 0.05
          },
          "xaxis": {
           "automargin": true,
           "gridcolor": "white",
           "linecolor": "white",
           "ticks": "",
           "title": {
            "standoff": 15
           },
           "zerolinecolor": "white",
           "zerolinewidth": 2
          },
          "yaxis": {
           "automargin": true,
           "gridcolor": "white",
           "linecolor": "white",
           "ticks": "",
           "title": {
            "standoff": 15
           },
           "zerolinecolor": "white",
           "zerolinewidth": 2
          }
         }
        },
        "title": {
         "text": "Comparison of Total Cases and Deaths per Million by Country"
        }
       }
      }
     },
     "metadata": {},
     "output_type": "display_data"
    },
    {
     "data": {
      "application/vnd.plotly.v1+json": {
       "config": {
        "plotlyServerURL": "https://plot.ly"
       },
       "data": [
        {
         "hovertemplate": "<b>%{hovertext}</b><br><br>continent=North America<br>Total Cases per Million=%{x}<br>Total Deaths per Million=%{y}<br>vaccinated per hundred=%{z}<extra></extra>",
         "hovertext": [
          "Aruba",
          "Antigua and Barbuda",
          "Belize",
          "Bermuda",
          "Barbados",
          "Canada",
          "Costa Rica",
          "Cuba",
          "Curacao",
          "Cayman Islands",
          "Dominica",
          "Dominican Republic",
          "Grenada",
          "Greenland",
          "Guatemala",
          "Honduras",
          "Haiti",
          "Jamaica",
          "Mexico",
          "Nicaragua",
          "Panama",
          "Puerto Rico",
          "El Salvador",
          "Sint Maarten (Dutch part)",
          "Turks and Caicos Islands",
          "Trinidad and Tobago",
          "United States",
          "British Virgin Islands"
         ],
         "legendgroup": "North America",
         "marker": {
          "color": "#636efa",
          "symbol": "circle"
         },
         "mode": "markers",
         "name": "North America",
         "scene": "scene",
         "showlegend": true,
         "type": "scatter3d",
         "x": [
          161235.781,
          45098.75,
          77730.486,
          94444.531,
          98098.322,
          51014.362,
          109928.784,
          86031.927,
          95719.584,
          122027.88,
          90148.162,
          36859.346,
          47473.677,
          37897.83,
          35027.573,
          36334.531,
          2242.037,
          32664.493,
          31387.056,
          1947.356,
          110325.043,
          77583.652,
          19212.981,
          107440.261,
          70747.496,
          58093.731,
          153356.239,
          98014.809
         ],
         "y": [
          1700.185,
          1258.371,
          1460.7,
          1650.91,
          923.145,
          776.272,
          1418.497,
          742.049,
          972.941,
          160.065,
          618.489,
          377.333,
          1594.146,
          17.701,
          901.988,
          999.63,
          66.12,
          870.77,
          2378.394,
          31.086,
          1680.586,
          1014.939,
          602.551,
          1697.14,
          568.604,
          1775.26,
          2402.044,
          1244.734
         ],
         "z": [
          null,
          null,
          null,
          null,
          55.37,
          82.56,
          null,
          93.19,
          54.6,
          null,
          null,
          61.79,
          null,
          null,
          36.62,
          null,
          null,
          null,
          null,
          null,
          null,
          null,
          null,
          null,
          null,
          46.52,
          73.52,
          null
         ]
        },
        {
         "hovertemplate": "<b>%{hovertext}</b><br><br>continent=Asia<br>Total Cases per Million=%{x}<br>Total Deaths per Million=%{y}<br>vaccinated per hundred=%{z}<extra></extra>",
         "hovertext": [
          "Afghanistan",
          "United Arab Emirates",
          "Armenia",
          "Azerbaijan",
          "Bangladesh",
          "Bahrain",
          "Bhutan",
          "China",
          "Georgia",
          "Indonesia",
          "India",
          "Iraq",
          "Israel",
          "Jordan",
          "Japan",
          "Kazakhstan",
          "Cambodia",
          "Kuwait",
          "Lebanon",
          "Sri Lanka",
          "Maldives",
          "Myanmar",
          "Mongolia",
          "Malaysia",
          "Nepal",
          "Oman",
          "Pakistan",
          "Philippines",
          "Qatar",
          "Saudi Arabia",
          "Singapore",
          "Thailand",
          "Tajikistan",
          "Turkmenistan",
          "Uzbekistan"
         ],
         "legendgroup": "Asia",
         "marker": {
          "color": "#EF553B",
          "symbol": "circle"
         },
         "mode": "markers",
         "name": "Asia",
         "scene": "scene",
         "showlegend": true,
         "type": "scatter3d",
         "x": [
          3839.21,
          79389.794,
          123892.994,
          59288.895,
          9248.71,
          189859.377,
          3399.548,
          91.773,
          246867.777,
          15469.104,
          24546.614,
          47022.343,
          144435.178,
          93162.559,
          13971.483,
          55153.32,
          7183.33,
          97194.209,
          129561.415,
          26733.464,
          181107.984,
          9775.189,
          203317.882,
          80769.685,
          27081.387,
          66660.403,
          5483.226,
          24562.983,
          91942.099,
          15172.311,
          49274.954,
          30823.734,
          1757.598,
          null,
          3372.594
         ],
         "y": [
          178.756,
          228.362,
          2856.709,
          799.762,
          163.915,
          946.858,
          3.834,
          3.997,
          3608.603,
          522.883,
          338.478,
          542.115,
          873.214,
          1102.617,
          148.34,
          937.468,
          179.391,
          578.137,
          1644.339,
          681.747,
          498.284,
          355.375,
          582.926,
          923.266,
          379.244,
          978.957,
          122.57,
          443.064,
          227.818,
          243.622,
          145.822,
          300.989,
          12.559,
          null,
          24.836
         ],
         "z": [
          null,
          null,
          null,
          49.91,
          null,
          81.72,
          null,
          null,
          null,
          58.47,
          59.67,
          null,
          69.65,
          null,
          81.66,
          46.33,
          85.06,
          null,
          41.04,
          73.25,
          null,
          null,
          66.68,
          76.72,
          null,
          null,
          null,
          null,
          null,
          68.71,
          86.21,
          71.71,
          null,
          null,
          null
         ]
        },
        {
         "hovertemplate": "<b>%{hovertext}</b><br><br>continent=Africa<br>Total Cases per Million=%{x}<br>Total Deaths per Million=%{y}<br>vaccinated per hundred=%{z}<extra></extra>",
         "hovertext": [
          "Angola",
          "Burundi",
          "Benin",
          "Burkina Faso",
          "Botswana",
          "Central African Republic",
          "Cote d'Ivoire",
          "Cameroon",
          "Comoros",
          "Djibouti",
          "Algeria",
          "Eritrea",
          "Ethiopia",
          "Gabon",
          "Ghana",
          "Guinea",
          "Guinea-Bissau",
          "Equatorial Guinea",
          "Kenya",
          "Liberia",
          "Libya",
          "Lesotho",
          "Morocco",
          "Madagascar",
          "Mali",
          "Mozambique",
          "Mauritania",
          "Mauritius",
          "Malawi",
          "Namibia",
          "Niger",
          "Nigeria",
          "Rwanda",
          "Sudan",
          "Senegal",
          "Sierra Leone",
          "Somalia",
          "South Sudan",
          "Sao Tome and Principe",
          "Eswatini",
          "Seychelles",
          "Chad",
          "Togo",
          "Tunisia",
          "Tanzania",
          "Uganda",
          "South Africa",
          "Zambia",
          "Zimbabwe"
         ],
         "legendgroup": "Africa",
         "marker": {
          "color": "#00cc96",
          "symbol": "circle"
         },
         "mode": "markers",
         "name": "Africa",
         "scene": "scene",
         "showlegend": true,
         "type": "scatter3d",
         "x": [
          1998.989,
          2094.637,
          1867.39,
          751.529,
          80782.42,
          2198.902,
          2267.25,
          3893.168,
          6695.882,
          12105.088,
          4818.718,
          2137.055,
          3207.572,
          16270.426,
          4220.801,
          2246.137,
          3070.888,
          8137.722,
          5207.683,
          1174.498,
          56465.587,
          12222.084,
          25510.909,
          1697.943,
          885.693,
          5000.437,
          8541.333,
          69327.838,
          3463.901,
          56912.986,
          277.32,
          1079.952,
          7586.141,
          987.43,
          4293.778,
          773.787,
          1337.235,
          1357.076,
          16464.887,
          53575.827,
          227572.689,
          321.667,
          3163.403,
          58496.942,
          447.435,
          2859.094,
          56899.583,
          11568.829,
          12484.024
         ],
         "y": [
          49.06,
          1.086,
          12.057,
          13.981,
          927.271,
          18.103,
          25.106,
          66.31,
          182.843,
          168.622,
          138.721,
          19.544,
          55.876,
          120.134,
          38.446,
          28.068,
          70.764,
          104.483,
          99.19,
          54.123,
          828.056,
          288.4,
          395.83,
          34.682,
          28.902,
          59.449,
          182.005,
          586.389,
          114.088,
          1406.687,
          10.455,
          13.791,
          97.701,
          70.359,
          109.145,
          14.293,
          75.749,
          12.37,
          250.667,
          1058.518,
          1176.086,
          10.213,
          27.801,
          2065.617,
          11.252,
          69.419,
          1515.564,
          184.687,
          299.316
         ],
         "z": [
          null,
          null,
          null,
          null,
          44.45,
          null,
          17.58,
          null,
          40.08,
          null,
          null,
          null,
          7.57,
          null,
          null,
          14.62,
          null,
          null,
          null,
          null,
          null,
          33.92,
          null,
          null,
          null,
          null,
          null,
          null,
          7.32,
          null,
          null,
          4.72,
          null,
          null,
          null,
          null,
          null,
          null,
          null,
          null,
          null,
          null,
          15.73,
          55.76,
          null,
          null,
          null,
          null,
          25.27
         ]
        },
        {
         "hovertemplate": "<b>%{hovertext}</b><br><br>continent=Europe<br>Total Cases per Million=%{x}<br>Total Deaths per Million=%{y}<br>vaccinated per hundred=%{z}<extra></extra>",
         "hovertext": [
          "Albania",
          "Andorra",
          "Austria",
          "Belgium",
          "Bulgaria",
          "Bosnia and Herzegovina",
          "Belarus",
          "Switzerland",
          "Cyprus",
          "Czechia",
          "Germany",
          "Denmark",
          "Spain",
          "Estonia",
          "Finland",
          "France",
          "United Kingdom",
          "Gibraltar",
          "Greece",
          "Croatia",
          "Hungary",
          "Isle of Man",
          "Ireland",
          "Iceland",
          "Italy",
          "Liechtenstein",
          "Lithuania",
          "Luxembourg",
          "Latvia",
          "Monaco",
          "Moldova",
          "North Macedonia",
          "Malta",
          "Montenegro",
          "Netherlands",
          "Norway",
          "Poland",
          "Portugal",
          "Romania",
          "San Marino",
          "Serbia",
          "Slovenia",
          "Sweden",
          "Ukraine",
          "Kosovo"
         ],
         "legendgroup": "Europe",
         "marker": {
          "color": "#ab63fa",
          "symbol": "circle"
         },
         "mode": "markers",
         "name": "Europe",
         "scene": "scene",
         "showlegend": true,
         "type": "scatter3d",
         "x": [
          72905.635,
          272159.112,
          140060.586,
          175714.098,
          108210.98,
          88978.918,
          72638.091,
          143428.197,
          167239.765,
          236940.477,
          84131.66,
          118587.604,
          128265.632,
          171039.256,
          58265.63,
          134773.031,
          186268.363,
          249166.08,
          104486.271,
          171970.203,
          124138.884,
          164584.664,
          138578.147,
          64912.323,
          95234.955,
          153957.566,
          187634.588,
          148066.479,
          146666.53,
          126195.5,
          114375.13,
          106662.381,
          88949.227,
          251976.615,
          175671.743,
          69059.187,
          101633.775,
          124882.276,
          91681.736,
          226803.206,
          187656.87,
          215507.469,
          121960.891,
          90829.36,
          90501.455
         ],
         "y": [
          1121.268,
          1740.917,
          1855.449,
          2418.684,
          4501.357,
          4107.894,
          575.147,
          1353.245,
          710.932,
          3429.391,
          1411.686,
          543.499,
          1919.21,
          1378.516,
          331.363,
          1921.267,
          2609.418,
          3060.256,
          1974.488,
          3046.625,
          3843.266,
          792.581,
          1205.23,
          99.222,
          2312.599,
          1753.272,
          2655.217,
          980.542,
          2601.783,
          1041.353,
          3111.525,
          3989.289,
          924.445,
          3629.509,
          1193.349,
          245.661,
          2366.702,
          1838.99,
          2977.527,
          2908.875,
          1828.991,
          2872.383,
          1450.516,
          2330.704,
          1671.609
         ],
         "z": [
          null,
          null,
          75.03,
          76.7,
          null,
          null,
          null,
          68.26,
          null,
          65.09,
          75.27,
          79.79,
          null,
          63.5,
          null,
          78.5,
          76.71,
          null,
          71.92,
          56.06,
          null,
          81.38,
          78.37,
          null,
          82.13,
          null,
          69.74,
          71.71,
          71.01,
          null,
          null,
          null,
          83.37,
          45.27,
          70.68,
          78.99,
          54.38,
          91.5,
          null,
          null,
          null,
          58.99,
          null,
          37.06,
          null
         ]
        },
        {
         "hovertemplate": "<b>%{hovertext}</b><br><br>continent=South America<br>Total Cases per Million=%{x}<br>Total Deaths per Million=%{y}<br>vaccinated per hundred=%{z}<extra></extra>",
         "hovertext": [
          "Argentina",
          "Bolivia",
          "Brazil",
          "Chile",
          "Colombia",
          "Ecuador",
          "Guyana",
          "Peru",
          "Paraguay",
          "Suriname",
          "Uruguay"
         ],
         "legendgroup": "South America",
         "marker": {
          "color": "#FFA15A",
          "symbol": "circle"
         },
         "mode": "markers",
         "name": "South America",
         "scene": "scene",
         "showlegend": true,
         "type": "scatter3d",
         "x": [
          122168.236,
          47058.38,
          103248.225,
          91774.598,
          98666.986,
          30074.326,
          48275.871,
          66752.203,
          68595.707,
          83429.065,
          118832.381
         ],
         "y": [
          2589.083,
          1597.662,
          2872.054,
          1990.08,
          2500.018,
          1869.174,
          1288.445,
          5945.858,
          2447.814,
          1918.951,
          1800.283
         ],
         "z": [
          85.31,
          46.1,
          77.19,
          88.29,
          73.94,
          79.02,
          null,
          72.95,
          null,
          null,
          80.77
         ]
        },
        {
         "hovertemplate": "<b>%{hovertext}</b><br><br>continent=Oceania<br>Total Cases per Million=%{x}<br>Total Deaths per Million=%{y}<br>vaccinated per hundred=%{z}<extra></extra>",
         "hovertext": [
          "American Samoa",
          "Australia",
          "Fiji",
          "Guam",
          "Kiribati",
          "Marshall Islands",
          "Northern Mariana Islands",
          "New Caledonia",
          "Nauru",
          "New Zealand",
          "Palau",
          "Papua New Guinea",
          "French Polynesia",
          "Solomon Islands",
          "Tonga",
          "Tuvalu",
          "Vanuatu",
          "Samoa"
         ],
         "legendgroup": "Oceania",
         "marker": {
          "color": "#19d3f3",
          "symbol": "circle"
         },
         "mode": "markers",
         "name": "Oceania",
         "scene": "scene",
         "showlegend": true,
         "type": "scatter3d",
         "x": [
          248.335,
          14004.709,
          56943.176,
          88833.004,
          null,
          96.17,
          58357.203,
          43857.925,
          null,
          2609.112,
          442.38,
          3562.194,
          151430.661,
          30.375,
          9.357,
          null,
          21.423,
          8.993
         ],
         "y": [
          null,
          90.803,
          749.649,
          1571.75,
          null,
          null,
          221.891,
          965.654,
          null,
          9.643,
          null,
          58.17,
          2076.45,
          null,
          null,
          null,
          null,
          null
         ],
         "z": [
          null,
          null,
          null,
          null,
          null,
          null,
          null,
          null,
          null,
          76.59,
          null,
          null,
          null,
          null,
          null,
          null,
          null,
          null
         ]
        }
       ],
       "layout": {
        "legend": {
         "title": {
          "text": "continent"
         },
         "tracegroupgap": 0
        },
        "scene": {
         "domain": {
          "x": [
           0,
           1
          ],
          "y": [
           0,
           1
          ]
         },
         "xaxis": {
          "title": {
           "text": "Total Cases per Million"
          }
         },
         "yaxis": {
          "title": {
           "text": "Total Deaths per Million"
          }
         },
         "zaxis": {
          "title": {
           "text": "vaccinated per hundred"
          }
         }
        },
        "template": {
         "data": {
          "bar": [
           {
            "error_x": {
             "color": "#2a3f5f"
            },
            "error_y": {
             "color": "#2a3f5f"
            },
            "marker": {
             "line": {
              "color": "#E5ECF6",
              "width": 0.5
             },
             "pattern": {
              "fillmode": "overlay",
              "size": 10,
              "solidity": 0.2
             }
            },
            "type": "bar"
           }
          ],
          "barpolar": [
           {
            "marker": {
             "line": {
              "color": "#E5ECF6",
              "width": 0.5
             },
             "pattern": {
              "fillmode": "overlay",
              "size": 10,
              "solidity": 0.2
             }
            },
            "type": "barpolar"
           }
          ],
          "carpet": [
           {
            "aaxis": {
             "endlinecolor": "#2a3f5f",
             "gridcolor": "white",
             "linecolor": "white",
             "minorgridcolor": "white",
             "startlinecolor": "#2a3f5f"
            },
            "baxis": {
             "endlinecolor": "#2a3f5f",
             "gridcolor": "white",
             "linecolor": "white",
             "minorgridcolor": "white",
             "startlinecolor": "#2a3f5f"
            },
            "type": "carpet"
           }
          ],
          "choropleth": [
           {
            "colorbar": {
             "outlinewidth": 0,
             "ticks": ""
            },
            "type": "choropleth"
           }
          ],
          "contour": [
           {
            "colorbar": {
             "outlinewidth": 0,
             "ticks": ""
            },
            "colorscale": [
             [
              0,
              "#0d0887"
             ],
             [
              0.1111111111111111,
              "#46039f"
             ],
             [
              0.2222222222222222,
              "#7201a8"
             ],
             [
              0.3333333333333333,
              "#9c179e"
             ],
             [
              0.4444444444444444,
              "#bd3786"
             ],
             [
              0.5555555555555556,
              "#d8576b"
             ],
             [
              0.6666666666666666,
              "#ed7953"
             ],
             [
              0.7777777777777778,
              "#fb9f3a"
             ],
             [
              0.8888888888888888,
              "#fdca26"
             ],
             [
              1,
              "#f0f921"
             ]
            ],
            "type": "contour"
           }
          ],
          "contourcarpet": [
           {
            "colorbar": {
             "outlinewidth": 0,
             "ticks": ""
            },
            "type": "contourcarpet"
           }
          ],
          "heatmap": [
           {
            "colorbar": {
             "outlinewidth": 0,
             "ticks": ""
            },
            "colorscale": [
             [
              0,
              "#0d0887"
             ],
             [
              0.1111111111111111,
              "#46039f"
             ],
             [
              0.2222222222222222,
              "#7201a8"
             ],
             [
              0.3333333333333333,
              "#9c179e"
             ],
             [
              0.4444444444444444,
              "#bd3786"
             ],
             [
              0.5555555555555556,
              "#d8576b"
             ],
             [
              0.6666666666666666,
              "#ed7953"
             ],
             [
              0.7777777777777778,
              "#fb9f3a"
             ],
             [
              0.8888888888888888,
              "#fdca26"
             ],
             [
              1,
              "#f0f921"
             ]
            ],
            "type": "heatmap"
           }
          ],
          "heatmapgl": [
           {
            "colorbar": {
             "outlinewidth": 0,
             "ticks": ""
            },
            "colorscale": [
             [
              0,
              "#0d0887"
             ],
             [
              0.1111111111111111,
              "#46039f"
             ],
             [
              0.2222222222222222,
              "#7201a8"
             ],
             [
              0.3333333333333333,
              "#9c179e"
             ],
             [
              0.4444444444444444,
              "#bd3786"
             ],
             [
              0.5555555555555556,
              "#d8576b"
             ],
             [
              0.6666666666666666,
              "#ed7953"
             ],
             [
              0.7777777777777778,
              "#fb9f3a"
             ],
             [
              0.8888888888888888,
              "#fdca26"
             ],
             [
              1,
              "#f0f921"
             ]
            ],
            "type": "heatmapgl"
           }
          ],
          "histogram": [
           {
            "marker": {
             "pattern": {
              "fillmode": "overlay",
              "size": 10,
              "solidity": 0.2
             }
            },
            "type": "histogram"
           }
          ],
          "histogram2d": [
           {
            "colorbar": {
             "outlinewidth": 0,
             "ticks": ""
            },
            "colorscale": [
             [
              0,
              "#0d0887"
             ],
             [
              0.1111111111111111,
              "#46039f"
             ],
             [
              0.2222222222222222,
              "#7201a8"
             ],
             [
              0.3333333333333333,
              "#9c179e"
             ],
             [
              0.4444444444444444,
              "#bd3786"
             ],
             [
              0.5555555555555556,
              "#d8576b"
             ],
             [
              0.6666666666666666,
              "#ed7953"
             ],
             [
              0.7777777777777778,
              "#fb9f3a"
             ],
             [
              0.8888888888888888,
              "#fdca26"
             ],
             [
              1,
              "#f0f921"
             ]
            ],
            "type": "histogram2d"
           }
          ],
          "histogram2dcontour": [
           {
            "colorbar": {
             "outlinewidth": 0,
             "ticks": ""
            },
            "colorscale": [
             [
              0,
              "#0d0887"
             ],
             [
              0.1111111111111111,
              "#46039f"
             ],
             [
              0.2222222222222222,
              "#7201a8"
             ],
             [
              0.3333333333333333,
              "#9c179e"
             ],
             [
              0.4444444444444444,
              "#bd3786"
             ],
             [
              0.5555555555555556,
              "#d8576b"
             ],
             [
              0.6666666666666666,
              "#ed7953"
             ],
             [
              0.7777777777777778,
              "#fb9f3a"
             ],
             [
              0.8888888888888888,
              "#fdca26"
             ],
             [
              1,
              "#f0f921"
             ]
            ],
            "type": "histogram2dcontour"
           }
          ],
          "mesh3d": [
           {
            "colorbar": {
             "outlinewidth": 0,
             "ticks": ""
            },
            "type": "mesh3d"
           }
          ],
          "parcoords": [
           {
            "line": {
             "colorbar": {
              "outlinewidth": 0,
              "ticks": ""
             }
            },
            "type": "parcoords"
           }
          ],
          "pie": [
           {
            "automargin": true,
            "type": "pie"
           }
          ],
          "scatter": [
           {
            "fillpattern": {
             "fillmode": "overlay",
             "size": 10,
             "solidity": 0.2
            },
            "type": "scatter"
           }
          ],
          "scatter3d": [
           {
            "line": {
             "colorbar": {
              "outlinewidth": 0,
              "ticks": ""
             }
            },
            "marker": {
             "colorbar": {
              "outlinewidth": 0,
              "ticks": ""
             }
            },
            "type": "scatter3d"
           }
          ],
          "scattercarpet": [
           {
            "marker": {
             "colorbar": {
              "outlinewidth": 0,
              "ticks": ""
             }
            },
            "type": "scattercarpet"
           }
          ],
          "scattergeo": [
           {
            "marker": {
             "colorbar": {
              "outlinewidth": 0,
              "ticks": ""
             }
            },
            "type": "scattergeo"
           }
          ],
          "scattergl": [
           {
            "marker": {
             "colorbar": {
              "outlinewidth": 0,
              "ticks": ""
             }
            },
            "type": "scattergl"
           }
          ],
          "scattermapbox": [
           {
            "marker": {
             "colorbar": {
              "outlinewidth": 0,
              "ticks": ""
             }
            },
            "type": "scattermapbox"
           }
          ],
          "scatterpolar": [
           {
            "marker": {
             "colorbar": {
              "outlinewidth": 0,
              "ticks": ""
             }
            },
            "type": "scatterpolar"
           }
          ],
          "scatterpolargl": [
           {
            "marker": {
             "colorbar": {
              "outlinewidth": 0,
              "ticks": ""
             }
            },
            "type": "scatterpolargl"
           }
          ],
          "scatterternary": [
           {
            "marker": {
             "colorbar": {
              "outlinewidth": 0,
              "ticks": ""
             }
            },
            "type": "scatterternary"
           }
          ],
          "surface": [
           {
            "colorbar": {
             "outlinewidth": 0,
             "ticks": ""
            },
            "colorscale": [
             [
              0,
              "#0d0887"
             ],
             [
              0.1111111111111111,
              "#46039f"
             ],
             [
              0.2222222222222222,
              "#7201a8"
             ],
             [
              0.3333333333333333,
              "#9c179e"
             ],
             [
              0.4444444444444444,
              "#bd3786"
             ],
             [
              0.5555555555555556,
              "#d8576b"
             ],
             [
              0.6666666666666666,
              "#ed7953"
             ],
             [
              0.7777777777777778,
              "#fb9f3a"
             ],
             [
              0.8888888888888888,
              "#fdca26"
             ],
             [
              1,
              "#f0f921"
             ]
            ],
            "type": "surface"
           }
          ],
          "table": [
           {
            "cells": {
             "fill": {
              "color": "#EBF0F8"
             },
             "line": {
              "color": "white"
             }
            },
            "header": {
             "fill": {
              "color": "#C8D4E3"
             },
             "line": {
              "color": "white"
             }
            },
            "type": "table"
           }
          ]
         },
         "layout": {
          "annotationdefaults": {
           "arrowcolor": "#2a3f5f",
           "arrowhead": 0,
           "arrowwidth": 1
          },
          "autotypenumbers": "strict",
          "coloraxis": {
           "colorbar": {
            "outlinewidth": 0,
            "ticks": ""
           }
          },
          "colorscale": {
           "diverging": [
            [
             0,
             "#8e0152"
            ],
            [
             0.1,
             "#c51b7d"
            ],
            [
             0.2,
             "#de77ae"
            ],
            [
             0.3,
             "#f1b6da"
            ],
            [
             0.4,
             "#fde0ef"
            ],
            [
             0.5,
             "#f7f7f7"
            ],
            [
             0.6,
             "#e6f5d0"
            ],
            [
             0.7,
             "#b8e186"
            ],
            [
             0.8,
             "#7fbc41"
            ],
            [
             0.9,
             "#4d9221"
            ],
            [
             1,
             "#276419"
            ]
           ],
           "sequential": [
            [
             0,
             "#0d0887"
            ],
            [
             0.1111111111111111,
             "#46039f"
            ],
            [
             0.2222222222222222,
             "#7201a8"
            ],
            [
             0.3333333333333333,
             "#9c179e"
            ],
            [
             0.4444444444444444,
             "#bd3786"
            ],
            [
             0.5555555555555556,
             "#d8576b"
            ],
            [
             0.6666666666666666,
             "#ed7953"
            ],
            [
             0.7777777777777778,
             "#fb9f3a"
            ],
            [
             0.8888888888888888,
             "#fdca26"
            ],
            [
             1,
             "#f0f921"
            ]
           ],
           "sequentialminus": [
            [
             0,
             "#0d0887"
            ],
            [
             0.1111111111111111,
             "#46039f"
            ],
            [
             0.2222222222222222,
             "#7201a8"
            ],
            [
             0.3333333333333333,
             "#9c179e"
            ],
            [
             0.4444444444444444,
             "#bd3786"
            ],
            [
             0.5555555555555556,
             "#d8576b"
            ],
            [
             0.6666666666666666,
             "#ed7953"
            ],
            [
             0.7777777777777778,
             "#fb9f3a"
            ],
            [
             0.8888888888888888,
             "#fdca26"
            ],
            [
             1,
             "#f0f921"
            ]
           ]
          },
          "colorway": [
           "#636efa",
           "#EF553B",
           "#00cc96",
           "#ab63fa",
           "#FFA15A",
           "#19d3f3",
           "#FF6692",
           "#B6E880",
           "#FF97FF",
           "#FECB52"
          ],
          "font": {
           "color": "#2a3f5f"
          },
          "geo": {
           "bgcolor": "white",
           "lakecolor": "white",
           "landcolor": "#E5ECF6",
           "showlakes": true,
           "showland": true,
           "subunitcolor": "white"
          },
          "hoverlabel": {
           "align": "left"
          },
          "hovermode": "closest",
          "mapbox": {
           "style": "light"
          },
          "paper_bgcolor": "white",
          "plot_bgcolor": "#E5ECF6",
          "polar": {
           "angularaxis": {
            "gridcolor": "white",
            "linecolor": "white",
            "ticks": ""
           },
           "bgcolor": "#E5ECF6",
           "radialaxis": {
            "gridcolor": "white",
            "linecolor": "white",
            "ticks": ""
           }
          },
          "scene": {
           "xaxis": {
            "backgroundcolor": "#E5ECF6",
            "gridcolor": "white",
            "gridwidth": 2,
            "linecolor": "white",
            "showbackground": true,
            "ticks": "",
            "zerolinecolor": "white"
           },
           "yaxis": {
            "backgroundcolor": "#E5ECF6",
            "gridcolor": "white",
            "gridwidth": 2,
            "linecolor": "white",
            "showbackground": true,
            "ticks": "",
            "zerolinecolor": "white"
           },
           "zaxis": {
            "backgroundcolor": "#E5ECF6",
            "gridcolor": "white",
            "gridwidth": 2,
            "linecolor": "white",
            "showbackground": true,
            "ticks": "",
            "zerolinecolor": "white"
           }
          },
          "shapedefaults": {
           "line": {
            "color": "#2a3f5f"
           }
          },
          "ternary": {
           "aaxis": {
            "gridcolor": "white",
            "linecolor": "white",
            "ticks": ""
           },
           "baxis": {
            "gridcolor": "white",
            "linecolor": "white",
            "ticks": ""
           },
           "bgcolor": "#E5ECF6",
           "caxis": {
            "gridcolor": "white",
            "linecolor": "white",
            "ticks": ""
           }
          },
          "title": {
           "x": 0.05
          },
          "xaxis": {
           "automargin": true,
           "gridcolor": "white",
           "linecolor": "white",
           "ticks": "",
           "title": {
            "standoff": 15
           },
           "zerolinecolor": "white",
           "zerolinewidth": 2
          },
          "yaxis": {
           "automargin": true,
           "gridcolor": "white",
           "linecolor": "white",
           "ticks": "",
           "title": {
            "standoff": 15
           },
           "zerolinecolor": "white",
           "zerolinewidth": 2
          }
         }
        },
        "title": {
         "text": "Comparison of Total Cases and Deaths per Million by Country"
        }
       }
      }
     },
     "metadata": {},
     "output_type": "display_data"
    },
    {
     "data": {
      "application/vnd.plotly.v1+json": {
       "config": {
        "plotlyServerURL": "https://plot.ly"
       },
       "data": [
        {
         "hovertemplate": "<b>%{hovertext}</b><br><br>continent=North America<br>vaccinated per hundred=%{x}<br>Total tests per thousand=%{y}<br>Gdp per capita 2021=%{z}<extra></extra>",
         "hovertext": [
          "Aruba",
          "Antigua and Barbuda",
          "Belize",
          "Bermuda",
          "Barbados",
          "Canada",
          "Costa Rica",
          "Cuba",
          "Curacao",
          "Cayman Islands",
          "Dominica",
          "Dominican Republic",
          "Grenada",
          "Greenland",
          "Guatemala",
          "Honduras",
          "Haiti",
          "Jamaica",
          "Mexico",
          "Nicaragua",
          "Panama",
          "Puerto Rico",
          "El Salvador",
          "Sint Maarten (Dutch part)",
          "Turks and Caicos Islands",
          "Trinidad and Tobago",
          "United States",
          "British Virgin Islands"
         ],
         "legendgroup": "North America",
         "marker": {
          "color": "#636efa",
          "symbol": "circle"
         },
         "mode": "markers",
         "name": "North America",
         "scene": "scene",
         "showlegend": true,
         "type": "scatter3d",
         "x": [
          null,
          null,
          null,
          null,
          55.37,
          82.56,
          null,
          93.19,
          54.6,
          null,
          null,
          61.79,
          null,
          null,
          36.62,
          null,
          null,
          null,
          null,
          null,
          null,
          null,
          null,
          null,
          null,
          46.52,
          73.52,
          null
         ],
         "y": [
          null,
          null,
          null,
          null,
          null,
          1380.218,
          439.713,
          null,
          null,
          null,
          null,
          null,
          null,
          null,
          186.331,
          null,
          null,
          250.767,
          95.052,
          null,
          1035.622,
          689.477,
          184.045,
          null,
          null,
          335.105,
          2155.384,
          null
         ],
         "z": [
          38226.146156979,
          25493.1295548691,
          11559.8905984688,
          91508.8303752301,
          14686.2199296539,
          55634.8275796301,
          23700.2961314063,
          null,
          25163.8669323866,
          75898.4231569682,
          14472.2858615339,
          21923.3019358073,
          14325.5548482263,
          68086.4601238175,
          12106.4225430833,
          6285.9287396567,
          3114.96354203089,
          9610.98933709822,
          21123.6718346798,
          6874.61550569295,
          30895.8322499594,
          40537.7088223526,
          10860.247882807,
          39465.6250774608,
          21232.6835191491,
          27631.6778146419,
          70219.472454115,
          null
         ]
        },
        {
         "hovertemplate": "<b>%{hovertext}</b><br><br>continent=Asia<br>vaccinated per hundred=%{x}<br>Total tests per thousand=%{y}<br>Gdp per capita 2021=%{z}<extra></extra>",
         "hovertext": [
          "Afghanistan",
          "United Arab Emirates",
          "Armenia",
          "Azerbaijan",
          "Bangladesh",
          "Bahrain",
          "Bhutan",
          "China",
          "Georgia",
          "Indonesia",
          "India",
          "Iraq",
          "Israel",
          "Jordan",
          "Japan",
          "Kazakhstan",
          "Cambodia",
          "Kuwait",
          "Lebanon",
          "Sri Lanka",
          "Maldives",
          "Myanmar",
          "Mongolia",
          "Malaysia",
          "Nepal",
          "Oman",
          "Pakistan",
          "Philippines",
          "Qatar",
          "Saudi Arabia",
          "Singapore",
          "Thailand",
          "Tajikistan",
          "Turkmenistan",
          "Uzbekistan"
         ],
         "legendgroup": "Asia",
         "marker": {
          "color": "#EF553B",
          "symbol": "circle"
         },
         "mode": "markers",
         "name": "Asia",
         "scene": "scene",
         "showlegend": true,
         "type": "scatter3d",
         "x": [
          null,
          null,
          null,
          49.91,
          null,
          81.72,
          null,
          null,
          null,
          58.47,
          59.67,
          null,
          69.65,
          null,
          81.66,
          46.33,
          85.06,
          null,
          41.04,
          73.25,
          null,
          null,
          66.68,
          76.72,
          null,
          null,
          null,
          null,
          null,
          68.71,
          86.21,
          71.71,
          null,
          null,
          null
         ],
         "y": [
          null,
          11923.695,
          922.236,
          null,
          67.862,
          5471.079,
          1657.748,
          null,
          2965.619,
          155.199,
          481.597,
          null,
          3637.259,
          null,
          224.641,
          null,
          null,
          1403.9,
          null,
          307.31,
          3586.73,
          null,
          1909.542,
          1246.378,
          188.891,
          null,
          101.003,
          208.8,
          1548.961,
          926.569,
          null,
          247.62,
          null,
          null,
          null
         ],
         "z": [
          2138.87024713086,
          68912.5455473732,
          16899.0709181678,
          20111.3756952109,
          7366.48997079065,
          54351.8360757233,
          13423.4288723593,
          20406.7296584605,
          18691.1612210787,
          12897.0571071313,
          8044.67480751057,
          12476.3625169213,
          46126.6423137421,
          9115.01951145213,
          44291.9852770528,
          34233.4732249708,
          4668.23777959985,
          48129.9882968208,
          11860.0586252712,
          14306.2352220864,
          18865.7192956579,
          5138.88724952007,
          14951.1365679904,
          30456.0928951741,
          4461.46878467812,
          38930.9938379577,
          5554.58570149625,
          8797.16871175312,
          108865.13777489,
          47754.4377844143,
          128731.011187586,
          20253.3547905679,
          4074.56022293416,
          null,
          8162.19581678153
         ]
        },
        {
         "hovertemplate": "<b>%{hovertext}</b><br><br>continent=Africa<br>vaccinated per hundred=%{x}<br>Total tests per thousand=%{y}<br>Gdp per capita 2021=%{z}<extra></extra>",
         "hovertext": [
          "Angola",
          "Burundi",
          "Benin",
          "Burkina Faso",
          "Botswana",
          "Central African Republic",
          "Cote d'Ivoire",
          "Cameroon",
          "Comoros",
          "Djibouti",
          "Algeria",
          "Eritrea",
          "Ethiopia",
          "Gabon",
          "Ghana",
          "Guinea",
          "Guinea-Bissau",
          "Equatorial Guinea",
          "Kenya",
          "Liberia",
          "Libya",
          "Lesotho",
          "Morocco",
          "Madagascar",
          "Mali",
          "Mozambique",
          "Mauritania",
          "Mauritius",
          "Malawi",
          "Namibia",
          "Niger",
          "Nigeria",
          "Rwanda",
          "Sudan",
          "Senegal",
          "Sierra Leone",
          "Somalia",
          "South Sudan",
          "Sao Tome and Principe",
          "Eswatini",
          "Seychelles",
          "Chad",
          "Togo",
          "Tunisia",
          "Tanzania",
          "Uganda",
          "South Africa",
          "Zambia",
          "Zimbabwe"
         ],
         "legendgroup": "Africa",
         "marker": {
          "color": "#00cc96",
          "symbol": "circle"
         },
         "mode": "markers",
         "name": "Africa",
         "scene": "scene",
         "showlegend": true,
         "type": "scatter3d",
         "x": [
          null,
          null,
          null,
          null,
          44.45,
          null,
          17.58,
          null,
          40.08,
          null,
          null,
          null,
          7.57,
          null,
          null,
          14.62,
          null,
          null,
          null,
          null,
          null,
          33.92,
          null,
          null,
          null,
          null,
          null,
          null,
          7.32,
          null,
          null,
          4.72,
          null,
          null,
          null,
          null,
          null,
          null,
          null,
          null,
          null,
          null,
          15.73,
          55.76,
          null,
          null,
          null,
          null,
          25.27
         ],
         "y": [
          null,
          null,
          null,
          null,
          null,
          null,
          44.885,
          null,
          null,
          null,
          null,
          null,
          34.188,
          null,
          null,
          null,
          null,
          null,
          null,
          null,
          null,
          null,
          266.504,
          11.451,
          null,
          null,
          null,
          null,
          null,
          344.666,
          null,
          null,
          296.371,
          null,
          55.366,
          null,
          null,
          null,
          null,
          null,
          null,
          null,
          71.376,
          null,
          null,
          47.11,
          357.471,
          151.959,
          106.745
         ],
         "z": [
          7414.27895783202,
          864.280732753101,
          3575.31148668734,
          2467.67804044213,
          16651.5337042653,
          1057.19439503026,
          6432.62666292098,
          4741.76177028658,
          3426.75773437156,
          6032.27795593735,
          12893.2100025293,
          null,
          2628.34346412648,
          19552.3625335025,
          6544.2381999688,
          3735.0898272933,
          2164.37287781941,
          17936.6113034777,
          5360.36190289931,
          1556.94547466638,
          15133.8474122324,
          2456.31221508897,
          8581.330078125,
          1642.30416221094,
          2399.46153474407,
          1440.45976271877,
          5988.20355101133,
          22737.5729410543,
          1731.76777467309,
          10823.175558195,
          1538.47074692859,
          5623.66407810605,
          2705.84426715937,
          3420.45190429688,
          4266.26875168597,
          1623.97562392431,
          1461.96879165973,
          null,
          5703.24824295017,
          10202.5096730796,
          25938.2456464216,
          1764.34807562549,
          2678.83160754709,
          12126.587729035,
          3451.4482421875,
          2688.26683541397,
          14172.5442513912,
          3526.50741832512,
          3276.26775280153
         ]
        },
        {
         "hovertemplate": "<b>%{hovertext}</b><br><br>continent=Europe<br>vaccinated per hundred=%{x}<br>Total tests per thousand=%{y}<br>Gdp per capita 2021=%{z}<extra></extra>",
         "hovertext": [
          "Albania",
          "Andorra",
          "Austria",
          "Belgium",
          "Bulgaria",
          "Bosnia and Herzegovina",
          "Belarus",
          "Switzerland",
          "Cyprus",
          "Czechia",
          "Germany",
          "Denmark",
          "Spain",
          "Estonia",
          "Finland",
          "France",
          "United Kingdom",
          "Gibraltar",
          "Greece",
          "Croatia",
          "Hungary",
          "Isle of Man",
          "Ireland",
          "Iceland",
          "Italy",
          "Liechtenstein",
          "Lithuania",
          "Luxembourg",
          "Latvia",
          "Monaco",
          "Moldova",
          "North Macedonia",
          "Malta",
          "Montenegro",
          "Netherlands",
          "Norway",
          "Poland",
          "Portugal",
          "Romania",
          "San Marino",
          "Serbia",
          "Slovenia",
          "Sweden",
          "Ukraine",
          "Kosovo"
         ],
         "legendgroup": "Europe",
         "marker": {
          "color": "#ab63fa",
          "symbol": "circle"
         },
         "mode": "markers",
         "name": "Europe",
         "scene": "scene",
         "showlegend": true,
         "type": "scatter3d",
         "x": [
          null,
          null,
          75.03,
          76.7,
          null,
          null,
          null,
          68.26,
          null,
          65.09,
          75.27,
          79.79,
          null,
          63.5,
          null,
          78.5,
          76.71,
          null,
          71.92,
          56.06,
          null,
          81.38,
          78.37,
          null,
          82.13,
          null,
          69.74,
          71.71,
          71.01,
          null,
          null,
          null,
          83.37,
          45.27,
          70.68,
          78.99,
          54.38,
          91.5,
          null,
          null,
          null,
          58.99,
          null,
          37.06,
          null
         ],
         "y": [
          498.603,
          null,
          13850.938,
          2356.417,
          null,
          453.458,
          null,
          1654.347,
          21654.041,
          4486.964,
          null,
          9150.599,
          1546.842,
          1909.253,
          1578.919,
          2908.831,
          5845.841,
          null,
          4523.436,
          925.441,
          897.911,
          null,
          2010.595,
          2286.959,
          2365.578,
          2268.552,
          2478.237,
          5980.257,
          2965.17,
          null,
          null,
          null,
          2940.423,
          null,
          1263.22,
          1713.248,
          null,
          2604.913,
          null,
          null,
          1053.599,
          982.109,
          1448.181,
          385.625,
          775.911
         ],
         "z": [
          16262.6634527606,
          58829.8500720505,
          63421.2035870778,
          62107.0699329664,
          29406.5795920851,
          18379.5525047191,
          27611.1801135156,
          81603.2073073193,
          48469.4140625,
          48418.1157871868,
          61939.6515850137,
          69878.9348117258,
          43620.6040614123,
          45047.315035037,
          57848.6141705053,
          53834.7992971017,
          52841.6345850474,
          null,
          33018.2544152866,
          36954.4345867034,
          38643.762589993,
          null,
          114120.544516392,
          61481.3794980574,
          49912.83903304,
          null,
          46410.0676392912,
          137947.34385169,
          36777.8928459839,
          null,
          15682.0703284653,
          19902.8198301911,
          53387.2378429299,
          24511.2620665873,
          67693.3264311302,
          86891.9964886406,
          40462.6887122126,
          38783.0115625218,
          37971.0545519053,
          65717.8915454458,
          22575.4210980499,
          46502.0978938704,
          63375.0446462412,
          18040.345703125,
          12362.7048078624
         ]
        },
        {
         "hovertemplate": "<b>%{hovertext}</b><br><br>continent=South America<br>vaccinated per hundred=%{x}<br>Total tests per thousand=%{y}<br>Gdp per capita 2021=%{z}<extra></extra>",
         "hovertext": [
          "Argentina",
          "Bolivia",
          "Brazil",
          "Chile",
          "Colombia",
          "Ecuador",
          "Guyana",
          "Peru",
          "Paraguay",
          "Suriname",
          "Uruguay"
         ],
         "legendgroup": "South America",
         "marker": {
          "color": "#FFA15A",
          "symbol": "circle"
         },
         "mode": "markers",
         "name": "South America",
         "scene": "scene",
         "showlegend": true,
         "type": "scatter3d",
         "x": [
          85.31,
          46.1,
          77.19,
          88.29,
          73.94,
          79.02,
          null,
          72.95,
          null,
          null,
          80.77
         ],
         "y": [
          632.426,
          254.656,
          308.411,
          1391.317,
          573.877,
          115.012,
          null,
          646.299,
          305.621,
          91.257,
          1287.328
         ],
         "z": [
          26086.8023552274,
          9342.97184473106,
          17450.5086501913,
          29148.2424509188,
          17586.5239590949,
          13293.0871517821,
          23176.1332006217,
          14853.5805797423,
          15361.0847494949,
          18447.3399360527,
          29500.3726206454
         ]
        },
        {
         "hovertemplate": "<b>%{hovertext}</b><br><br>continent=Oceania<br>vaccinated per hundred=%{x}<br>Total tests per thousand=%{y}<br>Gdp per capita 2021=%{z}<extra></extra>",
         "hovertext": [
          "American Samoa",
          "Australia",
          "Fiji",
          "Guam",
          "Kiribati",
          "Marshall Islands",
          "Northern Mariana Islands",
          "New Caledonia",
          "Nauru",
          "New Zealand",
          "Palau",
          "Papua New Guinea",
          "French Polynesia",
          "Solomon Islands",
          "Tonga",
          "Tuvalu",
          "Vanuatu",
          "Samoa"
         ],
         "legendgroup": "Oceania",
         "marker": {
          "color": "#19d3f3",
          "symbol": "circle"
         },
         "mode": "markers",
         "name": "Oceania",
         "scene": "scene",
         "showlegend": true,
         "type": "scatter3d",
         "x": [
          null,
          null,
          null,
          null,
          null,
          null,
          null,
          null,
          null,
          76.59,
          null,
          null,
          null,
          null,
          null,
          null,
          null,
          null
         ],
         "y": [
          null,
          2120.241,
          null,
          1255.621,
          null,
          null,
          null,
          null,
          null,
          1087.221,
          null,
          null,
          null,
          null,
          null,
          null,
          null,
          null
         ],
         "z": [
          null,
          57406.1787604549,
          10593.9126867971,
          null,
          2215.72978938238,
          6594.29953549562,
          null,
          null,
          12126.5887460305,
          48555.5523439365,
          15572.7392991737,
          4014.2854655247,
          null,
          2645.34556016287,
          6778.50356937661,
          5080.76524350095,
          3090.22795764862,
          6107.16207916622
         ]
        }
       ],
       "layout": {
        "legend": {
         "title": {
          "text": "continent"
         },
         "tracegroupgap": 0
        },
        "scene": {
         "domain": {
          "x": [
           0,
           1
          ],
          "y": [
           0,
           1
          ]
         },
         "xaxis": {
          "title": {
           "text": "vaccinated per hundred"
          }
         },
         "yaxis": {
          "title": {
           "text": "Total tests per thousand"
          }
         },
         "zaxis": {
          "title": {
           "text": "Gdp per capita 2021"
          }
         }
        },
        "template": {
         "data": {
          "bar": [
           {
            "error_x": {
             "color": "#2a3f5f"
            },
            "error_y": {
             "color": "#2a3f5f"
            },
            "marker": {
             "line": {
              "color": "#E5ECF6",
              "width": 0.5
             },
             "pattern": {
              "fillmode": "overlay",
              "size": 10,
              "solidity": 0.2
             }
            },
            "type": "bar"
           }
          ],
          "barpolar": [
           {
            "marker": {
             "line": {
              "color": "#E5ECF6",
              "width": 0.5
             },
             "pattern": {
              "fillmode": "overlay",
              "size": 10,
              "solidity": 0.2
             }
            },
            "type": "barpolar"
           }
          ],
          "carpet": [
           {
            "aaxis": {
             "endlinecolor": "#2a3f5f",
             "gridcolor": "white",
             "linecolor": "white",
             "minorgridcolor": "white",
             "startlinecolor": "#2a3f5f"
            },
            "baxis": {
             "endlinecolor": "#2a3f5f",
             "gridcolor": "white",
             "linecolor": "white",
             "minorgridcolor": "white",
             "startlinecolor": "#2a3f5f"
            },
            "type": "carpet"
           }
          ],
          "choropleth": [
           {
            "colorbar": {
             "outlinewidth": 0,
             "ticks": ""
            },
            "type": "choropleth"
           }
          ],
          "contour": [
           {
            "colorbar": {
             "outlinewidth": 0,
             "ticks": ""
            },
            "colorscale": [
             [
              0,
              "#0d0887"
             ],
             [
              0.1111111111111111,
              "#46039f"
             ],
             [
              0.2222222222222222,
              "#7201a8"
             ],
             [
              0.3333333333333333,
              "#9c179e"
             ],
             [
              0.4444444444444444,
              "#bd3786"
             ],
             [
              0.5555555555555556,
              "#d8576b"
             ],
             [
              0.6666666666666666,
              "#ed7953"
             ],
             [
              0.7777777777777778,
              "#fb9f3a"
             ],
             [
              0.8888888888888888,
              "#fdca26"
             ],
             [
              1,
              "#f0f921"
             ]
            ],
            "type": "contour"
           }
          ],
          "contourcarpet": [
           {
            "colorbar": {
             "outlinewidth": 0,
             "ticks": ""
            },
            "type": "contourcarpet"
           }
          ],
          "heatmap": [
           {
            "colorbar": {
             "outlinewidth": 0,
             "ticks": ""
            },
            "colorscale": [
             [
              0,
              "#0d0887"
             ],
             [
              0.1111111111111111,
              "#46039f"
             ],
             [
              0.2222222222222222,
              "#7201a8"
             ],
             [
              0.3333333333333333,
              "#9c179e"
             ],
             [
              0.4444444444444444,
              "#bd3786"
             ],
             [
              0.5555555555555556,
              "#d8576b"
             ],
             [
              0.6666666666666666,
              "#ed7953"
             ],
             [
              0.7777777777777778,
              "#fb9f3a"
             ],
             [
              0.8888888888888888,
              "#fdca26"
             ],
             [
              1,
              "#f0f921"
             ]
            ],
            "type": "heatmap"
           }
          ],
          "heatmapgl": [
           {
            "colorbar": {
             "outlinewidth": 0,
             "ticks": ""
            },
            "colorscale": [
             [
              0,
              "#0d0887"
             ],
             [
              0.1111111111111111,
              "#46039f"
             ],
             [
              0.2222222222222222,
              "#7201a8"
             ],
             [
              0.3333333333333333,
              "#9c179e"
             ],
             [
              0.4444444444444444,
              "#bd3786"
             ],
             [
              0.5555555555555556,
              "#d8576b"
             ],
             [
              0.6666666666666666,
              "#ed7953"
             ],
             [
              0.7777777777777778,
              "#fb9f3a"
             ],
             [
              0.8888888888888888,
              "#fdca26"
             ],
             [
              1,
              "#f0f921"
             ]
            ],
            "type": "heatmapgl"
           }
          ],
          "histogram": [
           {
            "marker": {
             "pattern": {
              "fillmode": "overlay",
              "size": 10,
              "solidity": 0.2
             }
            },
            "type": "histogram"
           }
          ],
          "histogram2d": [
           {
            "colorbar": {
             "outlinewidth": 0,
             "ticks": ""
            },
            "colorscale": [
             [
              0,
              "#0d0887"
             ],
             [
              0.1111111111111111,
              "#46039f"
             ],
             [
              0.2222222222222222,
              "#7201a8"
             ],
             [
              0.3333333333333333,
              "#9c179e"
             ],
             [
              0.4444444444444444,
              "#bd3786"
             ],
             [
              0.5555555555555556,
              "#d8576b"
             ],
             [
              0.6666666666666666,
              "#ed7953"
             ],
             [
              0.7777777777777778,
              "#fb9f3a"
             ],
             [
              0.8888888888888888,
              "#fdca26"
             ],
             [
              1,
              "#f0f921"
             ]
            ],
            "type": "histogram2d"
           }
          ],
          "histogram2dcontour": [
           {
            "colorbar": {
             "outlinewidth": 0,
             "ticks": ""
            },
            "colorscale": [
             [
              0,
              "#0d0887"
             ],
             [
              0.1111111111111111,
              "#46039f"
             ],
             [
              0.2222222222222222,
              "#7201a8"
             ],
             [
              0.3333333333333333,
              "#9c179e"
             ],
             [
              0.4444444444444444,
              "#bd3786"
             ],
             [
              0.5555555555555556,
              "#d8576b"
             ],
             [
              0.6666666666666666,
              "#ed7953"
             ],
             [
              0.7777777777777778,
              "#fb9f3a"
             ],
             [
              0.8888888888888888,
              "#fdca26"
             ],
             [
              1,
              "#f0f921"
             ]
            ],
            "type": "histogram2dcontour"
           }
          ],
          "mesh3d": [
           {
            "colorbar": {
             "outlinewidth": 0,
             "ticks": ""
            },
            "type": "mesh3d"
           }
          ],
          "parcoords": [
           {
            "line": {
             "colorbar": {
              "outlinewidth": 0,
              "ticks": ""
             }
            },
            "type": "parcoords"
           }
          ],
          "pie": [
           {
            "automargin": true,
            "type": "pie"
           }
          ],
          "scatter": [
           {
            "fillpattern": {
             "fillmode": "overlay",
             "size": 10,
             "solidity": 0.2
            },
            "type": "scatter"
           }
          ],
          "scatter3d": [
           {
            "line": {
             "colorbar": {
              "outlinewidth": 0,
              "ticks": ""
             }
            },
            "marker": {
             "colorbar": {
              "outlinewidth": 0,
              "ticks": ""
             }
            },
            "type": "scatter3d"
           }
          ],
          "scattercarpet": [
           {
            "marker": {
             "colorbar": {
              "outlinewidth": 0,
              "ticks": ""
             }
            },
            "type": "scattercarpet"
           }
          ],
          "scattergeo": [
           {
            "marker": {
             "colorbar": {
              "outlinewidth": 0,
              "ticks": ""
             }
            },
            "type": "scattergeo"
           }
          ],
          "scattergl": [
           {
            "marker": {
             "colorbar": {
              "outlinewidth": 0,
              "ticks": ""
             }
            },
            "type": "scattergl"
           }
          ],
          "scattermapbox": [
           {
            "marker": {
             "colorbar": {
              "outlinewidth": 0,
              "ticks": ""
             }
            },
            "type": "scattermapbox"
           }
          ],
          "scatterpolar": [
           {
            "marker": {
             "colorbar": {
              "outlinewidth": 0,
              "ticks": ""
             }
            },
            "type": "scatterpolar"
           }
          ],
          "scatterpolargl": [
           {
            "marker": {
             "colorbar": {
              "outlinewidth": 0,
              "ticks": ""
             }
            },
            "type": "scatterpolargl"
           }
          ],
          "scatterternary": [
           {
            "marker": {
             "colorbar": {
              "outlinewidth": 0,
              "ticks": ""
             }
            },
            "type": "scatterternary"
           }
          ],
          "surface": [
           {
            "colorbar": {
             "outlinewidth": 0,
             "ticks": ""
            },
            "colorscale": [
             [
              0,
              "#0d0887"
             ],
             [
              0.1111111111111111,
              "#46039f"
             ],
             [
              0.2222222222222222,
              "#7201a8"
             ],
             [
              0.3333333333333333,
              "#9c179e"
             ],
             [
              0.4444444444444444,
              "#bd3786"
             ],
             [
              0.5555555555555556,
              "#d8576b"
             ],
             [
              0.6666666666666666,
              "#ed7953"
             ],
             [
              0.7777777777777778,
              "#fb9f3a"
             ],
             [
              0.8888888888888888,
              "#fdca26"
             ],
             [
              1,
              "#f0f921"
             ]
            ],
            "type": "surface"
           }
          ],
          "table": [
           {
            "cells": {
             "fill": {
              "color": "#EBF0F8"
             },
             "line": {
              "color": "white"
             }
            },
            "header": {
             "fill": {
              "color": "#C8D4E3"
             },
             "line": {
              "color": "white"
             }
            },
            "type": "table"
           }
          ]
         },
         "layout": {
          "annotationdefaults": {
           "arrowcolor": "#2a3f5f",
           "arrowhead": 0,
           "arrowwidth": 1
          },
          "autotypenumbers": "strict",
          "coloraxis": {
           "colorbar": {
            "outlinewidth": 0,
            "ticks": ""
           }
          },
          "colorscale": {
           "diverging": [
            [
             0,
             "#8e0152"
            ],
            [
             0.1,
             "#c51b7d"
            ],
            [
             0.2,
             "#de77ae"
            ],
            [
             0.3,
             "#f1b6da"
            ],
            [
             0.4,
             "#fde0ef"
            ],
            [
             0.5,
             "#f7f7f7"
            ],
            [
             0.6,
             "#e6f5d0"
            ],
            [
             0.7,
             "#b8e186"
            ],
            [
             0.8,
             "#7fbc41"
            ],
            [
             0.9,
             "#4d9221"
            ],
            [
             1,
             "#276419"
            ]
           ],
           "sequential": [
            [
             0,
             "#0d0887"
            ],
            [
             0.1111111111111111,
             "#46039f"
            ],
            [
             0.2222222222222222,
             "#7201a8"
            ],
            [
             0.3333333333333333,
             "#9c179e"
            ],
            [
             0.4444444444444444,
             "#bd3786"
            ],
            [
             0.5555555555555556,
             "#d8576b"
            ],
            [
             0.6666666666666666,
             "#ed7953"
            ],
            [
             0.7777777777777778,
             "#fb9f3a"
            ],
            [
             0.8888888888888888,
             "#fdca26"
            ],
            [
             1,
             "#f0f921"
            ]
           ],
           "sequentialminus": [
            [
             0,
             "#0d0887"
            ],
            [
             0.1111111111111111,
             "#46039f"
            ],
            [
             0.2222222222222222,
             "#7201a8"
            ],
            [
             0.3333333333333333,
             "#9c179e"
            ],
            [
             0.4444444444444444,
             "#bd3786"
            ],
            [
             0.5555555555555556,
             "#d8576b"
            ],
            [
             0.6666666666666666,
             "#ed7953"
            ],
            [
             0.7777777777777778,
             "#fb9f3a"
            ],
            [
             0.8888888888888888,
             "#fdca26"
            ],
            [
             1,
             "#f0f921"
            ]
           ]
          },
          "colorway": [
           "#636efa",
           "#EF553B",
           "#00cc96",
           "#ab63fa",
           "#FFA15A",
           "#19d3f3",
           "#FF6692",
           "#B6E880",
           "#FF97FF",
           "#FECB52"
          ],
          "font": {
           "color": "#2a3f5f"
          },
          "geo": {
           "bgcolor": "white",
           "lakecolor": "white",
           "landcolor": "#E5ECF6",
           "showlakes": true,
           "showland": true,
           "subunitcolor": "white"
          },
          "hoverlabel": {
           "align": "left"
          },
          "hovermode": "closest",
          "mapbox": {
           "style": "light"
          },
          "paper_bgcolor": "white",
          "plot_bgcolor": "#E5ECF6",
          "polar": {
           "angularaxis": {
            "gridcolor": "white",
            "linecolor": "white",
            "ticks": ""
           },
           "bgcolor": "#E5ECF6",
           "radialaxis": {
            "gridcolor": "white",
            "linecolor": "white",
            "ticks": ""
           }
          },
          "scene": {
           "xaxis": {
            "backgroundcolor": "#E5ECF6",
            "gridcolor": "white",
            "gridwidth": 2,
            "linecolor": "white",
            "showbackground": true,
            "ticks": "",
            "zerolinecolor": "white"
           },
           "yaxis": {
            "backgroundcolor": "#E5ECF6",
            "gridcolor": "white",
            "gridwidth": 2,
            "linecolor": "white",
            "showbackground": true,
            "ticks": "",
            "zerolinecolor": "white"
           },
           "zaxis": {
            "backgroundcolor": "#E5ECF6",
            "gridcolor": "white",
            "gridwidth": 2,
            "linecolor": "white",
            "showbackground": true,
            "ticks": "",
            "zerolinecolor": "white"
           }
          },
          "shapedefaults": {
           "line": {
            "color": "#2a3f5f"
           }
          },
          "ternary": {
           "aaxis": {
            "gridcolor": "white",
            "linecolor": "white",
            "ticks": ""
           },
           "baxis": {
            "gridcolor": "white",
            "linecolor": "white",
            "ticks": ""
           },
           "bgcolor": "#E5ECF6",
           "caxis": {
            "gridcolor": "white",
            "linecolor": "white",
            "ticks": ""
           }
          },
          "title": {
           "x": 0.05
          },
          "xaxis": {
           "automargin": true,
           "gridcolor": "white",
           "linecolor": "white",
           "ticks": "",
           "title": {
            "standoff": 15
           },
           "zerolinecolor": "white",
           "zerolinewidth": 2
          },
          "yaxis": {
           "automargin": true,
           "gridcolor": "white",
           "linecolor": "white",
           "ticks": "",
           "title": {
            "standoff": 15
           },
           "zerolinecolor": "white",
           "zerolinewidth": 2
          }
         }
        },
        "title": {
         "text": "Comparison of Total Cases and Deaths per Million by Country"
        }
       }
      }
     },
     "metadata": {},
     "output_type": "display_data"
    },
    {
     "data": {
      "application/vnd.plotly.v1+json": {
       "config": {
        "plotlyServerURL": "https://plot.ly"
       },
       "data": [
        {
         "hovertemplate": "<b>%{hovertext}</b><br><br>gdp per capita 2021=%{x}<br>Total Deaths per million=%{y}<extra></extra>",
         "hovertext": [
          "Aruba",
          "Afghanistan",
          "Albania",
          "Andorra",
          "United Arab Emirates",
          "Argentina",
          "Armenia",
          "American Samoa",
          "Antigua and Barbuda",
          "Australia",
          "Austria",
          "Azerbaijan",
          "Belgium",
          "Bangladesh",
          "Bulgaria",
          "Bahrain",
          "Bosnia and Herzegovina",
          "Belarus",
          "Belize",
          "Bermuda",
          "Bolivia",
          "Brazil",
          "Barbados",
          "Bhutan",
          "Canada",
          "Switzerland",
          "Chile",
          "China",
          "Colombia",
          "Costa Rica",
          "Cuba",
          "Curacao",
          "Cayman Islands",
          "Cyprus",
          "Czechia",
          "Germany",
          "Dominica",
          "Denmark",
          "Dominican Republic",
          "Ecuador",
          "Spain",
          "Estonia",
          "European Union",
          "Finland",
          "Fiji",
          "France",
          "United Kingdom",
          "Georgia",
          "Gibraltar",
          "Greece",
          "Grenada",
          "Greenland",
          "Guatemala",
          "Guam",
          "Guyana",
          "High income",
          "Honduras",
          "Croatia",
          "Haiti",
          "Hungary",
          "Indonesia",
          "Isle of Man",
          "India",
          "Ireland",
          "Iraq",
          "Iceland",
          "Israel",
          "Italy",
          "Jamaica",
          "Jordan",
          "Japan",
          "Kazakhstan",
          "Cambodia",
          "Kiribati",
          "Kuwait",
          "Lebanon",
          "Low income",
          "Liechtenstein",
          "Sri Lanka",
          "Lower middle income",
          "Lithuania",
          "Luxembourg",
          "Latvia",
          "Monaco",
          "Moldova",
          "Maldives",
          "Mexico",
          "Marshall Islands",
          "North Macedonia",
          "Malta",
          "Myanmar",
          "Montenegro",
          "Mongolia",
          "Northern Mariana Islands",
          "Malaysia",
          "North America",
          "New Caledonia",
          "Nicaragua",
          "Netherlands",
          "Norway",
          "Nepal",
          "Nauru",
          "New Zealand",
          "Oman",
          "Pakistan",
          "Panama",
          "Peru",
          "Philippines",
          "Palau",
          "Papua New Guinea",
          "Poland",
          "Puerto Rico",
          "Portugal",
          "Paraguay",
          "French Polynesia",
          "Qatar",
          "Romania",
          "Saudi Arabia",
          "Singapore",
          "Solomon Islands",
          "El Salvador",
          "San Marino",
          "Serbia",
          "Suriname",
          "Slovenia",
          "Sweden",
          "Sint Maarten (Dutch part)",
          "Turks and Caicos Islands",
          "Thailand",
          "Tajikistan",
          "Turkmenistan",
          "Tonga",
          "Trinidad and Tobago",
          "Tuvalu",
          "Ukraine",
          "Upper middle income",
          "Uruguay",
          "United States",
          "Uzbekistan",
          "British Virgin Islands",
          "Vanuatu",
          "World",
          "Samoa",
          "Kosovo"
         ],
         "legendgroup": "",
         "marker": {
          "color": "#636efa",
          "symbol": "circle"
         },
         "mode": "markers",
         "name": "",
         "orientation": "v",
         "showlegend": false,
         "type": "scatter",
         "x": [
          38226.146156979,
          2138.87024713086,
          16262.6634527606,
          58829.8500720505,
          68912.5455473732,
          26086.8023552274,
          16899.0709181678,
          null,
          25493.1295548691,
          57406.1787604549,
          63421.2035870778,
          20111.3756952109,
          62107.0699329664,
          7366.48997079065,
          29406.5795920851,
          54351.8360757233,
          18379.5525047191,
          27611.1801135156,
          11559.8905984688,
          91508.8303752301,
          9342.97184473106,
          17450.5086501913,
          14686.2199296539,
          13423.4288723593,
          55634.8275796301,
          81603.2073073193,
          29148.2424509188,
          20406.7296584605,
          17586.5239590949,
          23700.2961314063,
          null,
          25163.8669323866,
          75898.4231569682,
          48469.4140625,
          48418.1157871868,
          61939.6515850137,
          14472.2858615339,
          69878.9348117258,
          21923.3019358073,
          13293.0871517821,
          43620.6040614123,
          45047.315035037,
          51917.3510593707,
          57848.6141705053,
          10593.9126867971,
          53834.7992971017,
          52841.6345850474,
          18691.1612210787,
          null,
          33018.2544152866,
          14325.5548482263,
          68086.4601238175,
          12106.4225430833,
          null,
          23176.1332006217,
          56775.3863840879,
          6285.9287396567,
          36954.4345867034,
          3114.96354203089,
          38643.762589993,
          12897.0571071313,
          null,
          8044.67480751057,
          114120.544516392,
          12476.3625169213,
          61481.3794980574,
          46126.6423137421,
          49912.83903304,
          9610.98933709822,
          9115.01951145213,
          44291.9852770528,
          34233.4732249708,
          4668.23777959985,
          2215.72978938238,
          48129.9882968208,
          11860.0586252712,
          2127.32074037264,
          null,
          14306.2352220864,
          8082.53806034203,
          46410.0676392912,
          137947.34385169,
          36777.8928459839,
          null,
          15682.0703284653,
          18865.7192956579,
          21123.6718346798,
          6594.29953549562,
          19902.8198301911,
          53387.2378429299,
          5138.88724952007,
          24511.2620665873,
          14951.1365679904,
          null,
          30456.0928951741,
          68717.637078835,
          null,
          6874.61550569295,
          67693.3264311302,
          86891.9964886406,
          4461.46878467812,
          12126.5887460305,
          48555.5523439365,
          38930.9938379577,
          5554.58570149625,
          30895.8322499594,
          14853.5805797423,
          8797.16871175312,
          15572.7392991737,
          4014.2854655247,
          40462.6887122126,
          40537.7088223526,
          38783.0115625218,
          15361.0847494949,
          null,
          108865.13777489,
          37971.0545519053,
          47754.4377844143,
          128731.011187586,
          2645.34556016287,
          10860.247882807,
          65717.8915454458,
          22575.4210980499,
          18447.3399360527,
          46502.0978938704,
          63375.0446462412,
          39465.6250774608,
          21232.6835191491,
          20253.3547905679,
          4074.56022293416,
          null,
          6778.50356937661,
          27631.6778146419,
          5080.76524350095,
          18040.345703125,
          20572.1469687869,
          29500.3726206454,
          70219.472454115,
          8162.19581678153,
          null,
          3090.22795764862,
          19645.4913851903,
          6107.16207916622,
          12362.7048078624
         ],
         "xaxis": "x",
         "y": [
          1700.185,
          178.756,
          1121.268,
          1740.917,
          228.362,
          2589.083,
          2856.709,
          null,
          1258.371,
          90.803,
          1855.449,
          799.762,
          2418.684,
          163.915,
          4501.357,
          946.858,
          4107.894,
          575.147,
          1460.7,
          1650.91,
          1597.662,
          2872.054,
          923.145,
          3.834,
          776.272,
          1353.245,
          1990.08,
          3.997,
          2500.018,
          1418.497,
          742.049,
          972.941,
          160.065,
          710.932,
          3429.391,
          1411.686,
          618.489,
          543.499,
          377.333,
          1869.174,
          1919.21,
          1378.516,
          2020.114,
          331.363,
          749.649,
          1921.267,
          2609.418,
          3608.603,
          3060.256,
          1974.488,
          1594.146,
          17.701,
          901.988,
          1571.75,
          1288.445,
          1621.867,
          999.63,
          3046.625,
          66.12,
          3843.266,
          522.883,
          792.581,
          338.478,
          1205.23,
          542.115,
          99.222,
          873.214,
          2312.599,
          870.77,
          1102.617,
          148.34,
          937.468,
          179.391,
          null,
          578.137,
          1644.339,
          56.747,
          1753.272,
          681.747,
          344.683,
          2655.217,
          980.542,
          2601.783,
          1041.353,
          3111.525,
          498.284,
          2378.394,
          null,
          3989.289,
          924.445,
          355.375,
          3629.509,
          582.926,
          221.891,
          923.266,
          2028.124,
          965.654,
          31.086,
          1193.349,
          245.661,
          379.244,
          null,
          9.643,
          978.957,
          122.57,
          1680.586,
          5945.858,
          443.064,
          null,
          58.17,
          2366.702,
          1014.939,
          1838.99,
          2447.814,
          2076.45,
          227.818,
          2977.527,
          243.622,
          145.822,
          null,
          602.551,
          2908.875,
          1828.991,
          1918.951,
          2872.383,
          1450.516,
          1697.14,
          568.604,
          300.989,
          12.559,
          null,
          null,
          1775.26,
          null,
          2330.704,
          867.481,
          1800.283,
          2402.044,
          24.836,
          1244.734,
          null,
          682.987,
          null,
          1671.609
         ],
         "yaxis": "y"
        },
        {
         "hovertemplate": "<b>OLS trendline</b><br>total_deaths_per_million = 0.000236632 * 2021 + 1364.43<br>R<sup>2</sup>=0.000031<br><br>gdp per capita 2021=%{x}<br>Total Deaths per million=%{y} <b>(trend)</b><extra></extra>",
         "legendgroup": "",
         "marker": {
          "color": "#636efa",
          "symbol": "circle"
         },
         "mode": "lines",
         "name": "",
         "showlegend": false,
         "type": "scatter",
         "x": [
          2127.32074037264,
          2138.87024713086,
          3114.96354203089,
          4014.2854655247,
          4074.56022293416,
          4461.46878467812,
          4668.23777959985,
          5138.88724952007,
          5554.58570149625,
          6285.9287396567,
          6874.61550569295,
          7366.48997079065,
          8044.67480751057,
          8082.53806034203,
          8162.19581678153,
          8797.16871175312,
          9115.01951145213,
          9342.97184473106,
          9610.98933709822,
          10593.9126867971,
          10860.247882807,
          11559.8905984688,
          11860.0586252712,
          12106.4225430833,
          12362.7048078624,
          12476.3625169213,
          12897.0571071313,
          13293.0871517821,
          13423.4288723593,
          14306.2352220864,
          14325.5548482263,
          14472.2858615339,
          14686.2199296539,
          14853.5805797423,
          14951.1365679904,
          15361.0847494949,
          15682.0703284653,
          16262.6634527606,
          16899.0709181678,
          17450.5086501913,
          17586.5239590949,
          18040.345703125,
          18379.5525047191,
          18447.3399360527,
          18691.1612210787,
          18865.7192956579,
          19645.4913851903,
          19902.8198301911,
          20111.3756952109,
          20253.3547905679,
          20406.7296584605,
          20572.1469687869,
          21123.6718346798,
          21232.6835191491,
          21923.3019358073,
          22575.4210980499,
          23176.1332006217,
          23700.2961314063,
          24511.2620665873,
          25163.8669323866,
          25493.1295548691,
          26086.8023552274,
          27611.1801135156,
          27631.6778146419,
          29148.2424509188,
          29406.5795920851,
          29500.3726206454,
          30456.0928951741,
          30895.8322499594,
          33018.2544152866,
          34233.4732249708,
          36777.8928459839,
          36954.4345867034,
          37971.0545519053,
          38226.146156979,
          38643.762589993,
          38783.0115625218,
          38930.9938379577,
          39465.6250774608,
          40462.6887122126,
          40537.7088223526,
          43620.6040614123,
          44291.9852770528,
          45047.315035037,
          46126.6423137421,
          46410.0676392912,
          46502.0978938704,
          47754.4377844143,
          48129.9882968208,
          48418.1157871868,
          48469.4140625,
          48555.5523439365,
          49912.83903304,
          51917.3510593707,
          52841.6345850474,
          53387.2378429299,
          53834.7992971017,
          54351.8360757233,
          55634.8275796301,
          56775.3863840879,
          57406.1787604549,
          57848.6141705053,
          58829.8500720505,
          61481.3794980574,
          61939.6515850137,
          62107.0699329664,
          63375.0446462412,
          63421.2035870778,
          65717.8915454458,
          67693.3264311302,
          68086.4601238175,
          68717.637078835,
          68912.5455473732,
          69878.9348117258,
          70219.472454115,
          75898.4231569682,
          81603.2073073193,
          86891.9964886406,
          91508.8303752301,
          108865.13777489,
          114120.544516392,
          128731.011187586,
          137947.34385169
         ],
         "xaxis": "x",
         "y": [
          1364.9373598789102,
          1364.9400928583902,
          1365.17106747933,
          1365.3838755597333,
          1365.3981384783679,
          1365.4896933111427,
          1365.5386214110217,
          1365.6499919977048,
          1365.7483594313019,
          1365.921418381608,
          1366.0607203349643,
          1366.177113428452,
          1366.3375934628984,
          1366.3465531089857,
          1366.3654026597353,
          1366.5156573787149,
          1366.5908709554903,
          1366.6448117048496,
          1366.7082331411286,
          1366.9408239695833,
          1367.0038473212062,
          1367.1694049701398,
          1367.2404342422096,
          1367.298731756215,
          1367.359376265577,
          1367.3862712830964,
          1367.4858209614038,
          1367.579534226234,
          1367.6103772098509,
          1367.819277181869,
          1367.8238488179488,
          1367.8585700278536,
          1367.9091936112225,
          1367.9487964472592,
          1367.9718812871242,
          1368.0688880244134,
          1368.1448433893536,
          1368.2822301304623,
          1368.4328243142907,
          1368.5633119652066,
          1368.5954974997042,
          1368.702886112913,
          1368.783153196836,
          1368.799193852313,
          1368.856889698786,
          1368.898195673654,
          1369.082714472974,
          1369.1436065417463,
          1369.192957471744,
          1369.2265542272005,
          1369.2628475837457,
          1369.3019905639803,
          1369.4324988335322,
          1369.45829445433,
          1369.6217166680008,
          1369.776028737445,
          1369.918176266693,
          1370.0422098348788,
          1370.2341100870908,
          1370.3885370893959,
          1370.4664510652576,
          1370.6069328724184,
          1370.9676489809397,
          1370.9724993869127,
          1371.3313666630484,
          1371.3924974213144,
          1371.4146918256113,
          1371.640845543998,
          1371.7449018174245,
          1372.2471341938503,
          1372.5346934931433,
          1373.136783847156,
          1373.1785592203257,
          1373.4191237363707,
          1373.4794864978965,
          1373.5783077866172,
          1373.6112585084531,
          1373.646275806649,
          1373.772786508579,
          1374.0087233767997,
          1374.0264755133967,
          1374.75598627119,
          1374.914856353178,
          1375.0935913219014,
          1375.348994376478,
          1375.4160617945984,
          1375.437839070682,
          1375.7341823946426,
          1375.8230495528335,
          1375.8912296522333,
          1375.9033684506014,
          1375.9237514990325,
          1376.244928562906,
          1376.7192596620646,
          1376.9379744489602,
          1377.0670814783102,
          1377.1729887084539,
          1377.295336003101,
          1377.5989324706031,
          1377.868824845539,
          1378.018090321272,
          1378.1227845668536,
          1378.354976091574,
          1378.9824120214007,
          1379.0908537268454,
          1379.130470216026,
          1379.4305132347522,
          1379.4414359036389,
          1379.984905091854,
          1380.4523556176352,
          1380.5453835137612,
          1380.6947399929961,
          1380.740861516291,
          1380.9695398559338,
          1381.0501218589839,
          1382.3939416483236,
          1383.7438744503993,
          1384.9953696535422,
          1386.0878589293825,
          1390.1949115477132,
          1391.4385074071934,
          1394.8958070513643,
          1397.0766835666223
         ],
         "yaxis": "y"
        }
       ],
       "layout": {
        "legend": {
         "tracegroupgap": 0
        },
        "template": {
         "data": {
          "bar": [
           {
            "error_x": {
             "color": "#2a3f5f"
            },
            "error_y": {
             "color": "#2a3f5f"
            },
            "marker": {
             "line": {
              "color": "#E5ECF6",
              "width": 0.5
             },
             "pattern": {
              "fillmode": "overlay",
              "size": 10,
              "solidity": 0.2
             }
            },
            "type": "bar"
           }
          ],
          "barpolar": [
           {
            "marker": {
             "line": {
              "color": "#E5ECF6",
              "width": 0.5
             },
             "pattern": {
              "fillmode": "overlay",
              "size": 10,
              "solidity": 0.2
             }
            },
            "type": "barpolar"
           }
          ],
          "carpet": [
           {
            "aaxis": {
             "endlinecolor": "#2a3f5f",
             "gridcolor": "white",
             "linecolor": "white",
             "minorgridcolor": "white",
             "startlinecolor": "#2a3f5f"
            },
            "baxis": {
             "endlinecolor": "#2a3f5f",
             "gridcolor": "white",
             "linecolor": "white",
             "minorgridcolor": "white",
             "startlinecolor": "#2a3f5f"
            },
            "type": "carpet"
           }
          ],
          "choropleth": [
           {
            "colorbar": {
             "outlinewidth": 0,
             "ticks": ""
            },
            "type": "choropleth"
           }
          ],
          "contour": [
           {
            "colorbar": {
             "outlinewidth": 0,
             "ticks": ""
            },
            "colorscale": [
             [
              0,
              "#0d0887"
             ],
             [
              0.1111111111111111,
              "#46039f"
             ],
             [
              0.2222222222222222,
              "#7201a8"
             ],
             [
              0.3333333333333333,
              "#9c179e"
             ],
             [
              0.4444444444444444,
              "#bd3786"
             ],
             [
              0.5555555555555556,
              "#d8576b"
             ],
             [
              0.6666666666666666,
              "#ed7953"
             ],
             [
              0.7777777777777778,
              "#fb9f3a"
             ],
             [
              0.8888888888888888,
              "#fdca26"
             ],
             [
              1,
              "#f0f921"
             ]
            ],
            "type": "contour"
           }
          ],
          "contourcarpet": [
           {
            "colorbar": {
             "outlinewidth": 0,
             "ticks": ""
            },
            "type": "contourcarpet"
           }
          ],
          "heatmap": [
           {
            "colorbar": {
             "outlinewidth": 0,
             "ticks": ""
            },
            "colorscale": [
             [
              0,
              "#0d0887"
             ],
             [
              0.1111111111111111,
              "#46039f"
             ],
             [
              0.2222222222222222,
              "#7201a8"
             ],
             [
              0.3333333333333333,
              "#9c179e"
             ],
             [
              0.4444444444444444,
              "#bd3786"
             ],
             [
              0.5555555555555556,
              "#d8576b"
             ],
             [
              0.6666666666666666,
              "#ed7953"
             ],
             [
              0.7777777777777778,
              "#fb9f3a"
             ],
             [
              0.8888888888888888,
              "#fdca26"
             ],
             [
              1,
              "#f0f921"
             ]
            ],
            "type": "heatmap"
           }
          ],
          "heatmapgl": [
           {
            "colorbar": {
             "outlinewidth": 0,
             "ticks": ""
            },
            "colorscale": [
             [
              0,
              "#0d0887"
             ],
             [
              0.1111111111111111,
              "#46039f"
             ],
             [
              0.2222222222222222,
              "#7201a8"
             ],
             [
              0.3333333333333333,
              "#9c179e"
             ],
             [
              0.4444444444444444,
              "#bd3786"
             ],
             [
              0.5555555555555556,
              "#d8576b"
             ],
             [
              0.6666666666666666,
              "#ed7953"
             ],
             [
              0.7777777777777778,
              "#fb9f3a"
             ],
             [
              0.8888888888888888,
              "#fdca26"
             ],
             [
              1,
              "#f0f921"
             ]
            ],
            "type": "heatmapgl"
           }
          ],
          "histogram": [
           {
            "marker": {
             "pattern": {
              "fillmode": "overlay",
              "size": 10,
              "solidity": 0.2
             }
            },
            "type": "histogram"
           }
          ],
          "histogram2d": [
           {
            "colorbar": {
             "outlinewidth": 0,
             "ticks": ""
            },
            "colorscale": [
             [
              0,
              "#0d0887"
             ],
             [
              0.1111111111111111,
              "#46039f"
             ],
             [
              0.2222222222222222,
              "#7201a8"
             ],
             [
              0.3333333333333333,
              "#9c179e"
             ],
             [
              0.4444444444444444,
              "#bd3786"
             ],
             [
              0.5555555555555556,
              "#d8576b"
             ],
             [
              0.6666666666666666,
              "#ed7953"
             ],
             [
              0.7777777777777778,
              "#fb9f3a"
             ],
             [
              0.8888888888888888,
              "#fdca26"
             ],
             [
              1,
              "#f0f921"
             ]
            ],
            "type": "histogram2d"
           }
          ],
          "histogram2dcontour": [
           {
            "colorbar": {
             "outlinewidth": 0,
             "ticks": ""
            },
            "colorscale": [
             [
              0,
              "#0d0887"
             ],
             [
              0.1111111111111111,
              "#46039f"
             ],
             [
              0.2222222222222222,
              "#7201a8"
             ],
             [
              0.3333333333333333,
              "#9c179e"
             ],
             [
              0.4444444444444444,
              "#bd3786"
             ],
             [
              0.5555555555555556,
              "#d8576b"
             ],
             [
              0.6666666666666666,
              "#ed7953"
             ],
             [
              0.7777777777777778,
              "#fb9f3a"
             ],
             [
              0.8888888888888888,
              "#fdca26"
             ],
             [
              1,
              "#f0f921"
             ]
            ],
            "type": "histogram2dcontour"
           }
          ],
          "mesh3d": [
           {
            "colorbar": {
             "outlinewidth": 0,
             "ticks": ""
            },
            "type": "mesh3d"
           }
          ],
          "parcoords": [
           {
            "line": {
             "colorbar": {
              "outlinewidth": 0,
              "ticks": ""
             }
            },
            "type": "parcoords"
           }
          ],
          "pie": [
           {
            "automargin": true,
            "type": "pie"
           }
          ],
          "scatter": [
           {
            "fillpattern": {
             "fillmode": "overlay",
             "size": 10,
             "solidity": 0.2
            },
            "type": "scatter"
           }
          ],
          "scatter3d": [
           {
            "line": {
             "colorbar": {
              "outlinewidth": 0,
              "ticks": ""
             }
            },
            "marker": {
             "colorbar": {
              "outlinewidth": 0,
              "ticks": ""
             }
            },
            "type": "scatter3d"
           }
          ],
          "scattercarpet": [
           {
            "marker": {
             "colorbar": {
              "outlinewidth": 0,
              "ticks": ""
             }
            },
            "type": "scattercarpet"
           }
          ],
          "scattergeo": [
           {
            "marker": {
             "colorbar": {
              "outlinewidth": 0,
              "ticks": ""
             }
            },
            "type": "scattergeo"
           }
          ],
          "scattergl": [
           {
            "marker": {
             "colorbar": {
              "outlinewidth": 0,
              "ticks": ""
             }
            },
            "type": "scattergl"
           }
          ],
          "scattermapbox": [
           {
            "marker": {
             "colorbar": {
              "outlinewidth": 0,
              "ticks": ""
             }
            },
            "type": "scattermapbox"
           }
          ],
          "scatterpolar": [
           {
            "marker": {
             "colorbar": {
              "outlinewidth": 0,
              "ticks": ""
             }
            },
            "type": "scatterpolar"
           }
          ],
          "scatterpolargl": [
           {
            "marker": {
             "colorbar": {
              "outlinewidth": 0,
              "ticks": ""
             }
            },
            "type": "scatterpolargl"
           }
          ],
          "scatterternary": [
           {
            "marker": {
             "colorbar": {
              "outlinewidth": 0,
              "ticks": ""
             }
            },
            "type": "scatterternary"
           }
          ],
          "surface": [
           {
            "colorbar": {
             "outlinewidth": 0,
             "ticks": ""
            },
            "colorscale": [
             [
              0,
              "#0d0887"
             ],
             [
              0.1111111111111111,
              "#46039f"
             ],
             [
              0.2222222222222222,
              "#7201a8"
             ],
             [
              0.3333333333333333,
              "#9c179e"
             ],
             [
              0.4444444444444444,
              "#bd3786"
             ],
             [
              0.5555555555555556,
              "#d8576b"
             ],
             [
              0.6666666666666666,
              "#ed7953"
             ],
             [
              0.7777777777777778,
              "#fb9f3a"
             ],
             [
              0.8888888888888888,
              "#fdca26"
             ],
             [
              1,
              "#f0f921"
             ]
            ],
            "type": "surface"
           }
          ],
          "table": [
           {
            "cells": {
             "fill": {
              "color": "#EBF0F8"
             },
             "line": {
              "color": "white"
             }
            },
            "header": {
             "fill": {
              "color": "#C8D4E3"
             },
             "line": {
              "color": "white"
             }
            },
            "type": "table"
           }
          ]
         },
         "layout": {
          "annotationdefaults": {
           "arrowcolor": "#2a3f5f",
           "arrowhead": 0,
           "arrowwidth": 1
          },
          "autotypenumbers": "strict",
          "coloraxis": {
           "colorbar": {
            "outlinewidth": 0,
            "ticks": ""
           }
          },
          "colorscale": {
           "diverging": [
            [
             0,
             "#8e0152"
            ],
            [
             0.1,
             "#c51b7d"
            ],
            [
             0.2,
             "#de77ae"
            ],
            [
             0.3,
             "#f1b6da"
            ],
            [
             0.4,
             "#fde0ef"
            ],
            [
             0.5,
             "#f7f7f7"
            ],
            [
             0.6,
             "#e6f5d0"
            ],
            [
             0.7,
             "#b8e186"
            ],
            [
             0.8,
             "#7fbc41"
            ],
            [
             0.9,
             "#4d9221"
            ],
            [
             1,
             "#276419"
            ]
           ],
           "sequential": [
            [
             0,
             "#0d0887"
            ],
            [
             0.1111111111111111,
             "#46039f"
            ],
            [
             0.2222222222222222,
             "#7201a8"
            ],
            [
             0.3333333333333333,
             "#9c179e"
            ],
            [
             0.4444444444444444,
             "#bd3786"
            ],
            [
             0.5555555555555556,
             "#d8576b"
            ],
            [
             0.6666666666666666,
             "#ed7953"
            ],
            [
             0.7777777777777778,
             "#fb9f3a"
            ],
            [
             0.8888888888888888,
             "#fdca26"
            ],
            [
             1,
             "#f0f921"
            ]
           ],
           "sequentialminus": [
            [
             0,
             "#0d0887"
            ],
            [
             0.1111111111111111,
             "#46039f"
            ],
            [
             0.2222222222222222,
             "#7201a8"
            ],
            [
             0.3333333333333333,
             "#9c179e"
            ],
            [
             0.4444444444444444,
             "#bd3786"
            ],
            [
             0.5555555555555556,
             "#d8576b"
            ],
            [
             0.6666666666666666,
             "#ed7953"
            ],
            [
             0.7777777777777778,
             "#fb9f3a"
            ],
            [
             0.8888888888888888,
             "#fdca26"
            ],
            [
             1,
             "#f0f921"
            ]
           ]
          },
          "colorway": [
           "#636efa",
           "#EF553B",
           "#00cc96",
           "#ab63fa",
           "#FFA15A",
           "#19d3f3",
           "#FF6692",
           "#B6E880",
           "#FF97FF",
           "#FECB52"
          ],
          "font": {
           "color": "#2a3f5f"
          },
          "geo": {
           "bgcolor": "white",
           "lakecolor": "white",
           "landcolor": "#E5ECF6",
           "showlakes": true,
           "showland": true,
           "subunitcolor": "white"
          },
          "hoverlabel": {
           "align": "left"
          },
          "hovermode": "closest",
          "mapbox": {
           "style": "light"
          },
          "paper_bgcolor": "white",
          "plot_bgcolor": "#E5ECF6",
          "polar": {
           "angularaxis": {
            "gridcolor": "white",
            "linecolor": "white",
            "ticks": ""
           },
           "bgcolor": "#E5ECF6",
           "radialaxis": {
            "gridcolor": "white",
            "linecolor": "white",
            "ticks": ""
           }
          },
          "scene": {
           "xaxis": {
            "backgroundcolor": "#E5ECF6",
            "gridcolor": "white",
            "gridwidth": 2,
            "linecolor": "white",
            "showbackground": true,
            "ticks": "",
            "zerolinecolor": "white"
           },
           "yaxis": {
            "backgroundcolor": "#E5ECF6",
            "gridcolor": "white",
            "gridwidth": 2,
            "linecolor": "white",
            "showbackground": true,
            "ticks": "",
            "zerolinecolor": "white"
           },
           "zaxis": {
            "backgroundcolor": "#E5ECF6",
            "gridcolor": "white",
            "gridwidth": 2,
            "linecolor": "white",
            "showbackground": true,
            "ticks": "",
            "zerolinecolor": "white"
           }
          },
          "shapedefaults": {
           "line": {
            "color": "#2a3f5f"
           }
          },
          "ternary": {
           "aaxis": {
            "gridcolor": "white",
            "linecolor": "white",
            "ticks": ""
           },
           "baxis": {
            "gridcolor": "white",
            "linecolor": "white",
            "ticks": ""
           },
           "bgcolor": "#E5ECF6",
           "caxis": {
            "gridcolor": "white",
            "linecolor": "white",
            "ticks": ""
           }
          },
          "title": {
           "x": 0.05
          },
          "xaxis": {
           "automargin": true,
           "gridcolor": "white",
           "linecolor": "white",
           "ticks": "",
           "title": {
            "standoff": 15
           },
           "zerolinecolor": "white",
           "zerolinewidth": 2
          },
          "yaxis": {
           "automargin": true,
           "gridcolor": "white",
           "linecolor": "white",
           "ticks": "",
           "title": {
            "standoff": 15
           },
           "zerolinecolor": "white",
           "zerolinewidth": 2
          }
         }
        },
        "title": {
         "text": "Comparison gdp per capita and Deaths per Million by Country in 2021"
        },
        "xaxis": {
         "anchor": "y",
         "domain": [
          0,
          1
         ],
         "title": {
          "text": "gdp per capita 2021"
         }
        },
        "yaxis": {
         "anchor": "x",
         "domain": [
          0,
          1
         ],
         "title": {
          "text": "Total Deaths per million"
         }
        }
       }
      }
     },
     "metadata": {},
     "output_type": "display_data"
    }
   ],
   "source": [
    "import pandas as pd\n",
    "\n",
    "# Read the datasets\n",
    "covid_df = pd.read_csv('owid-covid-data.csv')\n",
    "gdp_df = pd.read_csv('GDP-data.csv', skiprows=4)\n",
    "\n",
    "# Filter data for 2021\n",
    "covid_2021_df = covid_df[covid_df['date'].str.startswith('2021')]\n",
    "\n",
    "# Convert 'date' column to datetime for proper sorting and comparison\n",
    "covid_2021_df['date'] = pd.to_datetime(covid_2021_df['date'])\n",
    "\n",
    "# Find the last available date for each location in 2021\n",
    "last_dates_2021 = covid_2021_df.groupby('location')['date'].idxmax()\n",
    "\n",
    "# Filter the dataframe to only include rows with the last available date for each location\n",
    "covid_last_2021 = covid_2021_df.loc[last_dates_2021]\n",
    "\n",
    "# Group by location and take the last value for the required columns\n",
    "covid_deaths_cases_2021 = covid_last_2021[['location', 'continent', 'total_deaths_per_million', 'total_cases_per_million', 'people_vaccinated_per_hundred', 'total_tests_per_thousand']].reset_index(drop=True)\n",
    "\n",
    "GDPdata = GDPdata.rename(columns={'Country Name': 'location'})\n",
    "\n",
    "df = pd.merge(GDPdata, covid_deaths_cases_2021, on='location', how='inner')\n",
    "\n",
    "\n",
    "\n",
    "fig2 = px.scatter_3d(\n",
    "    df,\n",
    "    x=\"total_cases_per_million\",\n",
    "    y=\"total_deaths_per_million\",\n",
    "    z=\"2021\",\n",
    "    hover_name=\"location\",\n",
    "    size_max=10,\n",
    "    color='continent',\n",
    "    title=\"Comparison of Total Cases and Deaths per Million by Country\",\n",
    "    labels={\n",
    "        \"total_cases_per_million\": \"Total Cases per Million\",\n",
    "        \"total_deaths_per_million\": \"Total Deaths per Million\",\n",
    "        \"2021\": \"GDP per capita\"\n",
    "    }\n",
    ")\n",
    "fig2.show()\n",
    "\n",
    "fig2 = px.scatter_3d(\n",
    "    df,\n",
    "    x=\"total_cases_per_million\",\n",
    "    y=\"total_deaths_per_million\",\n",
    "    z=\"people_vaccinated_per_hundred\",\n",
    "    hover_name=\"location\",\n",
    "    size_max=10,\n",
    "    color='continent',\n",
    "    title=\"Comparison of Total Cases and Deaths per Million by Country\",\n",
    "    labels={\n",
    "        \"total_cases_per_million\": \"Total Cases per Million\",\n",
    "        \"total_deaths_per_million\": \"Total Deaths per Million\",\n",
    "        \"people_vaccinated_per_hundred\": \"vaccinated per hundred\"\n",
    "    }\n",
    ")\n",
    "fig2.show()\n",
    "\n",
    "fig2 = px.scatter_3d(\n",
    "    df,\n",
    "    x=\"people_vaccinated_per_hundred\",\n",
    "    y=\"total_tests_per_thousand\",\n",
    "    z=\"2021\",\n",
    "    hover_name=\"location\",\n",
    "    size_max=10,\n",
    "    color='continent',\n",
    "    title=\"Comparison of Total Cases and Deaths per Million by Country\",\n",
    "    labels={\n",
    "        \"2021\": \"Gdp per capita 2021\",\n",
    "        \"total_tests_per_thousand\": \"Total tests per thousand\",\n",
    "        \"people_vaccinated_per_hundred\": \"vaccinated per hundred\"\n",
    "    }\n",
    ")\n",
    "fig2.show()\n",
    "\n",
    "df = df[df['continent'] !=  'Africa']\n",
    "\n",
    "fig = px.scatter(\n",
    "    df,\n",
    "    x=\"2021\",\n",
    "    y=\"total_deaths_per_million\",\n",
    "    hover_name=\"location\",\n",
    "    trendline=\"ols\",\n",
    "    title=\"Comparison gdp per capita and Deaths per Million by Country in 2021\",\n",
    "    labels={\n",
    "        \"2021\": \"gdp per capita 2021\",\n",
    "        \"total_deaths_per_million\": \"Total Deaths per million\"\n",
    "    }\n",
    ")\n",
    "fig\n",
    "\n"
   ]
  },
  {
   "cell_type": "code",
   "execution_count": 8,
   "metadata": {},
   "outputs": [
    {
     "data": {
      "application/vnd.plotly.v1+json": {
       "config": {
        "plotlyServerURL": "https://plot.ly"
       },
       "data": [
        {
         "type": "bar",
         "x": [
          "High income",
          "Low income",
          "Lower middle income",
          "Upper middle income"
         ],
         "y": [
          104275.71,
          2326.805,
          19039.165,
          32811.574
         ]
        }
       ],
       "layout": {
        "template": {
         "data": {
          "bar": [
           {
            "error_x": {
             "color": "#2a3f5f"
            },
            "error_y": {
             "color": "#2a3f5f"
            },
            "marker": {
             "line": {
              "color": "#E5ECF6",
              "width": 0.5
             },
             "pattern": {
              "fillmode": "overlay",
              "size": 10,
              "solidity": 0.2
             }
            },
            "type": "bar"
           }
          ],
          "barpolar": [
           {
            "marker": {
             "line": {
              "color": "#E5ECF6",
              "width": 0.5
             },
             "pattern": {
              "fillmode": "overlay",
              "size": 10,
              "solidity": 0.2
             }
            },
            "type": "barpolar"
           }
          ],
          "carpet": [
           {
            "aaxis": {
             "endlinecolor": "#2a3f5f",
             "gridcolor": "white",
             "linecolor": "white",
             "minorgridcolor": "white",
             "startlinecolor": "#2a3f5f"
            },
            "baxis": {
             "endlinecolor": "#2a3f5f",
             "gridcolor": "white",
             "linecolor": "white",
             "minorgridcolor": "white",
             "startlinecolor": "#2a3f5f"
            },
            "type": "carpet"
           }
          ],
          "choropleth": [
           {
            "colorbar": {
             "outlinewidth": 0,
             "ticks": ""
            },
            "type": "choropleth"
           }
          ],
          "contour": [
           {
            "colorbar": {
             "outlinewidth": 0,
             "ticks": ""
            },
            "colorscale": [
             [
              0,
              "#0d0887"
             ],
             [
              0.1111111111111111,
              "#46039f"
             ],
             [
              0.2222222222222222,
              "#7201a8"
             ],
             [
              0.3333333333333333,
              "#9c179e"
             ],
             [
              0.4444444444444444,
              "#bd3786"
             ],
             [
              0.5555555555555556,
              "#d8576b"
             ],
             [
              0.6666666666666666,
              "#ed7953"
             ],
             [
              0.7777777777777778,
              "#fb9f3a"
             ],
             [
              0.8888888888888888,
              "#fdca26"
             ],
             [
              1,
              "#f0f921"
             ]
            ],
            "type": "contour"
           }
          ],
          "contourcarpet": [
           {
            "colorbar": {
             "outlinewidth": 0,
             "ticks": ""
            },
            "type": "contourcarpet"
           }
          ],
          "heatmap": [
           {
            "colorbar": {
             "outlinewidth": 0,
             "ticks": ""
            },
            "colorscale": [
             [
              0,
              "#0d0887"
             ],
             [
              0.1111111111111111,
              "#46039f"
             ],
             [
              0.2222222222222222,
              "#7201a8"
             ],
             [
              0.3333333333333333,
              "#9c179e"
             ],
             [
              0.4444444444444444,
              "#bd3786"
             ],
             [
              0.5555555555555556,
              "#d8576b"
             ],
             [
              0.6666666666666666,
              "#ed7953"
             ],
             [
              0.7777777777777778,
              "#fb9f3a"
             ],
             [
              0.8888888888888888,
              "#fdca26"
             ],
             [
              1,
              "#f0f921"
             ]
            ],
            "type": "heatmap"
           }
          ],
          "heatmapgl": [
           {
            "colorbar": {
             "outlinewidth": 0,
             "ticks": ""
            },
            "colorscale": [
             [
              0,
              "#0d0887"
             ],
             [
              0.1111111111111111,
              "#46039f"
             ],
             [
              0.2222222222222222,
              "#7201a8"
             ],
             [
              0.3333333333333333,
              "#9c179e"
             ],
             [
              0.4444444444444444,
              "#bd3786"
             ],
             [
              0.5555555555555556,
              "#d8576b"
             ],
             [
              0.6666666666666666,
              "#ed7953"
             ],
             [
              0.7777777777777778,
              "#fb9f3a"
             ],
             [
              0.8888888888888888,
              "#fdca26"
             ],
             [
              1,
              "#f0f921"
             ]
            ],
            "type": "heatmapgl"
           }
          ],
          "histogram": [
           {
            "marker": {
             "pattern": {
              "fillmode": "overlay",
              "size": 10,
              "solidity": 0.2
             }
            },
            "type": "histogram"
           }
          ],
          "histogram2d": [
           {
            "colorbar": {
             "outlinewidth": 0,
             "ticks": ""
            },
            "colorscale": [
             [
              0,
              "#0d0887"
             ],
             [
              0.1111111111111111,
              "#46039f"
             ],
             [
              0.2222222222222222,
              "#7201a8"
             ],
             [
              0.3333333333333333,
              "#9c179e"
             ],
             [
              0.4444444444444444,
              "#bd3786"
             ],
             [
              0.5555555555555556,
              "#d8576b"
             ],
             [
              0.6666666666666666,
              "#ed7953"
             ],
             [
              0.7777777777777778,
              "#fb9f3a"
             ],
             [
              0.8888888888888888,
              "#fdca26"
             ],
             [
              1,
              "#f0f921"
             ]
            ],
            "type": "histogram2d"
           }
          ],
          "histogram2dcontour": [
           {
            "colorbar": {
             "outlinewidth": 0,
             "ticks": ""
            },
            "colorscale": [
             [
              0,
              "#0d0887"
             ],
             [
              0.1111111111111111,
              "#46039f"
             ],
             [
              0.2222222222222222,
              "#7201a8"
             ],
             [
              0.3333333333333333,
              "#9c179e"
             ],
             [
              0.4444444444444444,
              "#bd3786"
             ],
             [
              0.5555555555555556,
              "#d8576b"
             ],
             [
              0.6666666666666666,
              "#ed7953"
             ],
             [
              0.7777777777777778,
              "#fb9f3a"
             ],
             [
              0.8888888888888888,
              "#fdca26"
             ],
             [
              1,
              "#f0f921"
             ]
            ],
            "type": "histogram2dcontour"
           }
          ],
          "mesh3d": [
           {
            "colorbar": {
             "outlinewidth": 0,
             "ticks": ""
            },
            "type": "mesh3d"
           }
          ],
          "parcoords": [
           {
            "line": {
             "colorbar": {
              "outlinewidth": 0,
              "ticks": ""
             }
            },
            "type": "parcoords"
           }
          ],
          "pie": [
           {
            "automargin": true,
            "type": "pie"
           }
          ],
          "scatter": [
           {
            "fillpattern": {
             "fillmode": "overlay",
             "size": 10,
             "solidity": 0.2
            },
            "type": "scatter"
           }
          ],
          "scatter3d": [
           {
            "line": {
             "colorbar": {
              "outlinewidth": 0,
              "ticks": ""
             }
            },
            "marker": {
             "colorbar": {
              "outlinewidth": 0,
              "ticks": ""
             }
            },
            "type": "scatter3d"
           }
          ],
          "scattercarpet": [
           {
            "marker": {
             "colorbar": {
              "outlinewidth": 0,
              "ticks": ""
             }
            },
            "type": "scattercarpet"
           }
          ],
          "scattergeo": [
           {
            "marker": {
             "colorbar": {
              "outlinewidth": 0,
              "ticks": ""
             }
            },
            "type": "scattergeo"
           }
          ],
          "scattergl": [
           {
            "marker": {
             "colorbar": {
              "outlinewidth": 0,
              "ticks": ""
             }
            },
            "type": "scattergl"
           }
          ],
          "scattermapbox": [
           {
            "marker": {
             "colorbar": {
              "outlinewidth": 0,
              "ticks": ""
             }
            },
            "type": "scattermapbox"
           }
          ],
          "scatterpolar": [
           {
            "marker": {
             "colorbar": {
              "outlinewidth": 0,
              "ticks": ""
             }
            },
            "type": "scatterpolar"
           }
          ],
          "scatterpolargl": [
           {
            "marker": {
             "colorbar": {
              "outlinewidth": 0,
              "ticks": ""
             }
            },
            "type": "scatterpolargl"
           }
          ],
          "scatterternary": [
           {
            "marker": {
             "colorbar": {
              "outlinewidth": 0,
              "ticks": ""
             }
            },
            "type": "scatterternary"
           }
          ],
          "surface": [
           {
            "colorbar": {
             "outlinewidth": 0,
             "ticks": ""
            },
            "colorscale": [
             [
              0,
              "#0d0887"
             ],
             [
              0.1111111111111111,
              "#46039f"
             ],
             [
              0.2222222222222222,
              "#7201a8"
             ],
             [
              0.3333333333333333,
              "#9c179e"
             ],
             [
              0.4444444444444444,
              "#bd3786"
             ],
             [
              0.5555555555555556,
              "#d8576b"
             ],
             [
              0.6666666666666666,
              "#ed7953"
             ],
             [
              0.7777777777777778,
              "#fb9f3a"
             ],
             [
              0.8888888888888888,
              "#fdca26"
             ],
             [
              1,
              "#f0f921"
             ]
            ],
            "type": "surface"
           }
          ],
          "table": [
           {
            "cells": {
             "fill": {
              "color": "#EBF0F8"
             },
             "line": {
              "color": "white"
             }
            },
            "header": {
             "fill": {
              "color": "#C8D4E3"
             },
             "line": {
              "color": "white"
             }
            },
            "type": "table"
           }
          ]
         },
         "layout": {
          "annotationdefaults": {
           "arrowcolor": "#2a3f5f",
           "arrowhead": 0,
           "arrowwidth": 1
          },
          "autotypenumbers": "strict",
          "coloraxis": {
           "colorbar": {
            "outlinewidth": 0,
            "ticks": ""
           }
          },
          "colorscale": {
           "diverging": [
            [
             0,
             "#8e0152"
            ],
            [
             0.1,
             "#c51b7d"
            ],
            [
             0.2,
             "#de77ae"
            ],
            [
             0.3,
             "#f1b6da"
            ],
            [
             0.4,
             "#fde0ef"
            ],
            [
             0.5,
             "#f7f7f7"
            ],
            [
             0.6,
             "#e6f5d0"
            ],
            [
             0.7,
             "#b8e186"
            ],
            [
             0.8,
             "#7fbc41"
            ],
            [
             0.9,
             "#4d9221"
            ],
            [
             1,
             "#276419"
            ]
           ],
           "sequential": [
            [
             0,
             "#0d0887"
            ],
            [
             0.1111111111111111,
             "#46039f"
            ],
            [
             0.2222222222222222,
             "#7201a8"
            ],
            [
             0.3333333333333333,
             "#9c179e"
            ],
            [
             0.4444444444444444,
             "#bd3786"
            ],
            [
             0.5555555555555556,
             "#d8576b"
            ],
            [
             0.6666666666666666,
             "#ed7953"
            ],
            [
             0.7777777777777778,
             "#fb9f3a"
            ],
            [
             0.8888888888888888,
             "#fdca26"
            ],
            [
             1,
             "#f0f921"
            ]
           ],
           "sequentialminus": [
            [
             0,
             "#0d0887"
            ],
            [
             0.1111111111111111,
             "#46039f"
            ],
            [
             0.2222222222222222,
             "#7201a8"
            ],
            [
             0.3333333333333333,
             "#9c179e"
            ],
            [
             0.4444444444444444,
             "#bd3786"
            ],
            [
             0.5555555555555556,
             "#d8576b"
            ],
            [
             0.6666666666666666,
             "#ed7953"
            ],
            [
             0.7777777777777778,
             "#fb9f3a"
            ],
            [
             0.8888888888888888,
             "#fdca26"
            ],
            [
             1,
             "#f0f921"
            ]
           ]
          },
          "colorway": [
           "#636efa",
           "#EF553B",
           "#00cc96",
           "#ab63fa",
           "#FFA15A",
           "#19d3f3",
           "#FF6692",
           "#B6E880",
           "#FF97FF",
           "#FECB52"
          ],
          "font": {
           "color": "#2a3f5f"
          },
          "geo": {
           "bgcolor": "white",
           "lakecolor": "white",
           "landcolor": "#E5ECF6",
           "showlakes": true,
           "showland": true,
           "subunitcolor": "white"
          },
          "hoverlabel": {
           "align": "left"
          },
          "hovermode": "closest",
          "mapbox": {
           "style": "light"
          },
          "paper_bgcolor": "white",
          "plot_bgcolor": "#E5ECF6",
          "polar": {
           "angularaxis": {
            "gridcolor": "white",
            "linecolor": "white",
            "ticks": ""
           },
           "bgcolor": "#E5ECF6",
           "radialaxis": {
            "gridcolor": "white",
            "linecolor": "white",
            "ticks": ""
           }
          },
          "scene": {
           "xaxis": {
            "backgroundcolor": "#E5ECF6",
            "gridcolor": "white",
            "gridwidth": 2,
            "linecolor": "white",
            "showbackground": true,
            "ticks": "",
            "zerolinecolor": "white"
           },
           "yaxis": {
            "backgroundcolor": "#E5ECF6",
            "gridcolor": "white",
            "gridwidth": 2,
            "linecolor": "white",
            "showbackground": true,
            "ticks": "",
            "zerolinecolor": "white"
           },
           "zaxis": {
            "backgroundcolor": "#E5ECF6",
            "gridcolor": "white",
            "gridwidth": 2,
            "linecolor": "white",
            "showbackground": true,
            "ticks": "",
            "zerolinecolor": "white"
           }
          },
          "shapedefaults": {
           "line": {
            "color": "#2a3f5f"
           }
          },
          "ternary": {
           "aaxis": {
            "gridcolor": "white",
            "linecolor": "white",
            "ticks": ""
           },
           "baxis": {
            "gridcolor": "white",
            "linecolor": "white",
            "ticks": ""
           },
           "bgcolor": "#E5ECF6",
           "caxis": {
            "gridcolor": "white",
            "linecolor": "white",
            "ticks": ""
           }
          },
          "title": {
           "x": 0.05
          },
          "xaxis": {
           "automargin": true,
           "gridcolor": "white",
           "linecolor": "white",
           "ticks": "",
           "title": {
            "standoff": 15
           },
           "zerolinecolor": "white",
           "zerolinewidth": 2
          },
          "yaxis": {
           "automargin": true,
           "gridcolor": "white",
           "linecolor": "white",
           "ticks": "",
           "title": {
            "standoff": 15
           },
           "zerolinecolor": "white",
           "zerolinewidth": 2
          }
         }
        },
        "title": {
         "text": "Total Cases per Million by Income Category"
        },
        "xaxis": {
         "title": {
          "text": "Income Category"
         }
        },
        "yaxis": {
         "title": {
          "text": "Total Cases per Million"
         }
        }
       }
      }
     },
     "metadata": {},
     "output_type": "display_data"
    }
   ],
   "source": [
    "import pandas as pd\n",
    "import plotly.graph_objs as go\n",
    "\n",
    "covid_df = pd.read_csv('owid-covid-data.csv')\n",
    "covid_2021_df = covid_df[covid_df['date'].str.startswith('2021')]\n",
    "\n",
    "income_categories = ['High income', 'Upper middle income', 'Lower middle income', 'Low income']\n",
    "\n",
    "filtered_df = covid_2021_df[covid_2021_df['location'].isin(income_categories)]\n",
    "\n",
    "aggregated_df = filtered_df.groupby('location').last()['total_cases_per_million'].reset_index()\n",
    "\n",
    "trace = go.Bar(\n",
    "    x=aggregated_df['location'],\n",
    "    y=aggregated_df['total_cases_per_million']\n",
    ")\n",
    "\n",
    "layout = go.Layout(\n",
    "    title='Total Cases per Million by Income Category',\n",
    "    xaxis=dict(title='Income Category'),\n",
    "    yaxis=dict(title='Total Cases per Million')\n",
    ")\n",
    "\n",
    "fig = go.Figure(data=[trace], layout=layout)\n",
    "\n",
    "fig.show()"
   ]
  },
  {
   "cell_type": "code",
   "execution_count": 9,
   "metadata": {},
   "outputs": [
    {
     "name": "stderr",
     "output_type": "stream",
     "text": [
      "/tmp/ipykernel_76724/111027177.py:13: DeprecationWarning:\n",
      "\n",
      "DataFrameGroupBy.apply operated on the grouping columns. This behavior is deprecated, and in a future version of pandas the grouping columns will be excluded from the operation. Either pass `include_groups=False` to exclude the groupings or explicitly select the grouping columns after groupby to silence this warning.\n",
      "\n"
     ]
    },
    {
     "data": {
      "application/vnd.plotly.v1+json": {
       "config": {
        "plotlyServerURL": "https://plot.ly"
       },
       "data": [
        {
         "hovertemplate": "Total Tests per Thousand=%{x}<br>GDP per Capita=%{y}<extra></extra>",
         "legendgroup": "",
         "marker": {
          "color": "#636efa",
          "symbol": "circle"
         },
         "mode": "markers",
         "name": "",
         "orientation": "v",
         "showlegend": false,
         "type": "scatter",
         "x": [
          498.603,
          632.426,
          922.236,
          2120.241,
          67.862,
          2356.417,
          1657.748,
          254.656,
          453.458,
          308.411,
          1380.218,
          1391.317,
          573.877,
          439.713,
          44.885,
          925.441,
          4486.964,
          115.012,
          184.045,
          1909.253,
          34.188,
          1578.919,
          2908.831,
          2965.619,
          4523.436,
          186.331,
          897.911,
          2286.959,
          481.597,
          155.199,
          3637.259,
          2365.578,
          250.767,
          224.641,
          775.911,
          1403.9,
          2965.17,
          2478.237,
          11.451,
          1246.378,
          3586.73,
          2940.423,
          95.052,
          1909.542,
          266.504,
          344.666,
          188.891,
          1263.22,
          1087.221,
          1713.248,
          101.003,
          1035.622,
          305.621,
          646.299,
          208.8,
          2604.913,
          689.477,
          296.371,
          926.569,
          55.366,
          1053.599,
          982.109,
          357.471,
          1546.842,
          307.31,
          91.257,
          1448.181,
          1654.347,
          247.62,
          71.376,
          335.105,
          47.11,
          385.625,
          2155.384,
          1287.328,
          151.959,
          106.745
         ],
         "xaxis": "x",
         "y": [
          16262.6634527606,
          26086.8023552274,
          16899.0709181678,
          57406.1787604549,
          7366.48997079065,
          62107.0699329664,
          13423.4288723593,
          9342.97184473106,
          18379.5525047191,
          17450.5086501913,
          55634.8275796301,
          29148.2424509188,
          17586.5239590949,
          23700.2961314063,
          6432.62666292098,
          36954.4345867034,
          48418.1157871868,
          13293.0871517821,
          10860.247882807,
          45047.315035037,
          2628.34346412648,
          57848.6141705053,
          53834.7992971017,
          18691.1612210787,
          33018.2544152866,
          12106.4225430833,
          38643.762589993,
          61481.3794980574,
          8044.67480751057,
          12897.0571071313,
          46126.6423137421,
          49912.83903304,
          9610.98933709822,
          44291.9852770528,
          12362.7048078624,
          48129.9882968208,
          36777.8928459839,
          46410.0676392912,
          1642.30416221094,
          30456.0928951741,
          18865.7192956579,
          53387.2378429299,
          21123.6718346798,
          14951.1365679904,
          8581.330078125,
          10823.175558195,
          4461.46878467812,
          67693.3264311302,
          48555.5523439365,
          86891.9964886406,
          5554.58570149625,
          30895.8322499594,
          15361.0847494949,
          14853.5805797423,
          8797.16871175312,
          38783.0115625218,
          40537.7088223526,
          2705.84426715937,
          47754.4377844143,
          4266.26875168597,
          22575.4210980499,
          46502.0978938704,
          14172.5442513912,
          43620.6040614123,
          14306.2352220864,
          18447.3399360527,
          63375.0446462412,
          81603.2073073193,
          20253.3547905679,
          2678.83160754709,
          27631.6778146419,
          2688.26683541397,
          18040.345703125,
          70219.472454115,
          29500.3726206454,
          3526.50741832512,
          3276.26775280153
         ],
         "yaxis": "y"
        },
        {
         "hovertemplate": "<b>OLS trendline</b><br>gdp_per_capita = 11.4564 * total_tests_per_thousand + 15776.8<br>R<sup>2</sup>=0.355896<br><br>Total Tests per Thousand=%{x}<br>GDP per Capita=%{y} <b>(trend)</b><extra></extra>",
         "legendgroup": "",
         "marker": {
          "color": "#636efa",
          "symbol": "circle"
         },
         "mode": "lines",
         "name": "",
         "showlegend": false,
         "type": "scatter",
         "x": [
          11.451,
          34.188,
          44.885,
          47.11,
          55.366,
          67.862,
          71.376,
          91.257,
          95.052,
          101.003,
          106.745,
          115.012,
          151.959,
          155.199,
          184.045,
          186.331,
          188.891,
          208.8,
          224.641,
          247.62,
          250.767,
          254.656,
          266.504,
          296.371,
          305.621,
          307.31,
          308.411,
          335.105,
          344.666,
          357.471,
          385.625,
          439.713,
          453.458,
          481.597,
          498.603,
          573.877,
          632.426,
          646.299,
          689.477,
          775.911,
          897.911,
          922.236,
          925.441,
          926.569,
          982.109,
          1035.622,
          1053.599,
          1087.221,
          1246.378,
          1263.22,
          1287.328,
          1380.218,
          1391.317,
          1403.9,
          1448.181,
          1546.842,
          1578.919,
          1654.347,
          1657.748,
          1713.248,
          1909.253,
          1909.542,
          2120.241,
          2155.384,
          2286.959,
          2356.417,
          2365.578,
          2478.237,
          2604.913,
          2908.831,
          2940.423,
          2965.17,
          2965.619,
          3586.73,
          3637.259,
          4486.964,
          4523.436
         ],
         "xaxis": "x",
         "y": [
          15907.966277869347,
          16168.450686850425,
          16290.999911588542,
          16316.490425287926,
          16411.074551625956,
          16554.233859125958,
          16594.491686155005,
          16822.25658631566,
          16865.733664737756,
          16933.910764524288,
          16999.693474484677,
          17094.403621339872,
          17517.683625677462,
          17554.802396188028,
          17885.274017838557,
          17911.463372587677,
          17940.791783855286,
          18168.877463514178,
          18350.35846464314,
          18613.615325001858,
          18649.66864932184,
          18694.222630345168,
          18829.95818374306,
          19172.126800668677,
          19278.098599194207,
          19297.448476784437,
          19310.061984911637,
          19615.879410840338,
          19725.414153078455,
          19872.11349146974,
          20194.657276949496,
          20814.311616262887,
          20971.779980666495,
          21294.15191998648,
          21488.979639524336,
          22351.349494898466,
          23022.110882127785,
          23181.045667094775,
          23675.710566201295,
          24665.933964445143,
          26063.61606391699,
          26342.293253012504,
          26379.011049150267,
          26391.933880365053,
          27028.22292794429,
          27641.289831133116,
          27847.241725413485,
          28232.429164335146,
          30055.797114381377,
          30248.745982572404,
          30524.937130556562,
          31589.123115965904,
          31716.277817785885,
          31860.43383301256,
          32367.735153067588,
          33498.036084346204,
          33865.52336881144,
          34729.65751142588,
          34768.620764051324,
          35404.4515552045,
          37649.96532493384,
          37653.27622761209,
          40067.13049545323,
          40469.74313497568,
          41977.12036643476,
          42772.8597374603,
          42877.81191543785,
          44168.47968301489,
          45619.731958692726,
          49101.54137104751,
          49463.47229634681,
          49746.98409073722,
          49752.12801911971,
          56867.83069522673,
          57446.711669031756,
          67181.28108158687,
          67599.11929086506
         ],
         "yaxis": "y"
        }
       ],
       "layout": {
        "legend": {
         "tracegroupgap": 0
        },
        "template": {
         "data": {
          "bar": [
           {
            "error_x": {
             "color": "#2a3f5f"
            },
            "error_y": {
             "color": "#2a3f5f"
            },
            "marker": {
             "line": {
              "color": "#E5ECF6",
              "width": 0.5
             },
             "pattern": {
              "fillmode": "overlay",
              "size": 10,
              "solidity": 0.2
             }
            },
            "type": "bar"
           }
          ],
          "barpolar": [
           {
            "marker": {
             "line": {
              "color": "#E5ECF6",
              "width": 0.5
             },
             "pattern": {
              "fillmode": "overlay",
              "size": 10,
              "solidity": 0.2
             }
            },
            "type": "barpolar"
           }
          ],
          "carpet": [
           {
            "aaxis": {
             "endlinecolor": "#2a3f5f",
             "gridcolor": "white",
             "linecolor": "white",
             "minorgridcolor": "white",
             "startlinecolor": "#2a3f5f"
            },
            "baxis": {
             "endlinecolor": "#2a3f5f",
             "gridcolor": "white",
             "linecolor": "white",
             "minorgridcolor": "white",
             "startlinecolor": "#2a3f5f"
            },
            "type": "carpet"
           }
          ],
          "choropleth": [
           {
            "colorbar": {
             "outlinewidth": 0,
             "ticks": ""
            },
            "type": "choropleth"
           }
          ],
          "contour": [
           {
            "colorbar": {
             "outlinewidth": 0,
             "ticks": ""
            },
            "colorscale": [
             [
              0,
              "#0d0887"
             ],
             [
              0.1111111111111111,
              "#46039f"
             ],
             [
              0.2222222222222222,
              "#7201a8"
             ],
             [
              0.3333333333333333,
              "#9c179e"
             ],
             [
              0.4444444444444444,
              "#bd3786"
             ],
             [
              0.5555555555555556,
              "#d8576b"
             ],
             [
              0.6666666666666666,
              "#ed7953"
             ],
             [
              0.7777777777777778,
              "#fb9f3a"
             ],
             [
              0.8888888888888888,
              "#fdca26"
             ],
             [
              1,
              "#f0f921"
             ]
            ],
            "type": "contour"
           }
          ],
          "contourcarpet": [
           {
            "colorbar": {
             "outlinewidth": 0,
             "ticks": ""
            },
            "type": "contourcarpet"
           }
          ],
          "heatmap": [
           {
            "colorbar": {
             "outlinewidth": 0,
             "ticks": ""
            },
            "colorscale": [
             [
              0,
              "#0d0887"
             ],
             [
              0.1111111111111111,
              "#46039f"
             ],
             [
              0.2222222222222222,
              "#7201a8"
             ],
             [
              0.3333333333333333,
              "#9c179e"
             ],
             [
              0.4444444444444444,
              "#bd3786"
             ],
             [
              0.5555555555555556,
              "#d8576b"
             ],
             [
              0.6666666666666666,
              "#ed7953"
             ],
             [
              0.7777777777777778,
              "#fb9f3a"
             ],
             [
              0.8888888888888888,
              "#fdca26"
             ],
             [
              1,
              "#f0f921"
             ]
            ],
            "type": "heatmap"
           }
          ],
          "heatmapgl": [
           {
            "colorbar": {
             "outlinewidth": 0,
             "ticks": ""
            },
            "colorscale": [
             [
              0,
              "#0d0887"
             ],
             [
              0.1111111111111111,
              "#46039f"
             ],
             [
              0.2222222222222222,
              "#7201a8"
             ],
             [
              0.3333333333333333,
              "#9c179e"
             ],
             [
              0.4444444444444444,
              "#bd3786"
             ],
             [
              0.5555555555555556,
              "#d8576b"
             ],
             [
              0.6666666666666666,
              "#ed7953"
             ],
             [
              0.7777777777777778,
              "#fb9f3a"
             ],
             [
              0.8888888888888888,
              "#fdca26"
             ],
             [
              1,
              "#f0f921"
             ]
            ],
            "type": "heatmapgl"
           }
          ],
          "histogram": [
           {
            "marker": {
             "pattern": {
              "fillmode": "overlay",
              "size": 10,
              "solidity": 0.2
             }
            },
            "type": "histogram"
           }
          ],
          "histogram2d": [
           {
            "colorbar": {
             "outlinewidth": 0,
             "ticks": ""
            },
            "colorscale": [
             [
              0,
              "#0d0887"
             ],
             [
              0.1111111111111111,
              "#46039f"
             ],
             [
              0.2222222222222222,
              "#7201a8"
             ],
             [
              0.3333333333333333,
              "#9c179e"
             ],
             [
              0.4444444444444444,
              "#bd3786"
             ],
             [
              0.5555555555555556,
              "#d8576b"
             ],
             [
              0.6666666666666666,
              "#ed7953"
             ],
             [
              0.7777777777777778,
              "#fb9f3a"
             ],
             [
              0.8888888888888888,
              "#fdca26"
             ],
             [
              1,
              "#f0f921"
             ]
            ],
            "type": "histogram2d"
           }
          ],
          "histogram2dcontour": [
           {
            "colorbar": {
             "outlinewidth": 0,
             "ticks": ""
            },
            "colorscale": [
             [
              0,
              "#0d0887"
             ],
             [
              0.1111111111111111,
              "#46039f"
             ],
             [
              0.2222222222222222,
              "#7201a8"
             ],
             [
              0.3333333333333333,
              "#9c179e"
             ],
             [
              0.4444444444444444,
              "#bd3786"
             ],
             [
              0.5555555555555556,
              "#d8576b"
             ],
             [
              0.6666666666666666,
              "#ed7953"
             ],
             [
              0.7777777777777778,
              "#fb9f3a"
             ],
             [
              0.8888888888888888,
              "#fdca26"
             ],
             [
              1,
              "#f0f921"
             ]
            ],
            "type": "histogram2dcontour"
           }
          ],
          "mesh3d": [
           {
            "colorbar": {
             "outlinewidth": 0,
             "ticks": ""
            },
            "type": "mesh3d"
           }
          ],
          "parcoords": [
           {
            "line": {
             "colorbar": {
              "outlinewidth": 0,
              "ticks": ""
             }
            },
            "type": "parcoords"
           }
          ],
          "pie": [
           {
            "automargin": true,
            "type": "pie"
           }
          ],
          "scatter": [
           {
            "fillpattern": {
             "fillmode": "overlay",
             "size": 10,
             "solidity": 0.2
            },
            "type": "scatter"
           }
          ],
          "scatter3d": [
           {
            "line": {
             "colorbar": {
              "outlinewidth": 0,
              "ticks": ""
             }
            },
            "marker": {
             "colorbar": {
              "outlinewidth": 0,
              "ticks": ""
             }
            },
            "type": "scatter3d"
           }
          ],
          "scattercarpet": [
           {
            "marker": {
             "colorbar": {
              "outlinewidth": 0,
              "ticks": ""
             }
            },
            "type": "scattercarpet"
           }
          ],
          "scattergeo": [
           {
            "marker": {
             "colorbar": {
              "outlinewidth": 0,
              "ticks": ""
             }
            },
            "type": "scattergeo"
           }
          ],
          "scattergl": [
           {
            "marker": {
             "colorbar": {
              "outlinewidth": 0,
              "ticks": ""
             }
            },
            "type": "scattergl"
           }
          ],
          "scattermapbox": [
           {
            "marker": {
             "colorbar": {
              "outlinewidth": 0,
              "ticks": ""
             }
            },
            "type": "scattermapbox"
           }
          ],
          "scatterpolar": [
           {
            "marker": {
             "colorbar": {
              "outlinewidth": 0,
              "ticks": ""
             }
            },
            "type": "scatterpolar"
           }
          ],
          "scatterpolargl": [
           {
            "marker": {
             "colorbar": {
              "outlinewidth": 0,
              "ticks": ""
             }
            },
            "type": "scatterpolargl"
           }
          ],
          "scatterternary": [
           {
            "marker": {
             "colorbar": {
              "outlinewidth": 0,
              "ticks": ""
             }
            },
            "type": "scatterternary"
           }
          ],
          "surface": [
           {
            "colorbar": {
             "outlinewidth": 0,
             "ticks": ""
            },
            "colorscale": [
             [
              0,
              "#0d0887"
             ],
             [
              0.1111111111111111,
              "#46039f"
             ],
             [
              0.2222222222222222,
              "#7201a8"
             ],
             [
              0.3333333333333333,
              "#9c179e"
             ],
             [
              0.4444444444444444,
              "#bd3786"
             ],
             [
              0.5555555555555556,
              "#d8576b"
             ],
             [
              0.6666666666666666,
              "#ed7953"
             ],
             [
              0.7777777777777778,
              "#fb9f3a"
             ],
             [
              0.8888888888888888,
              "#fdca26"
             ],
             [
              1,
              "#f0f921"
             ]
            ],
            "type": "surface"
           }
          ],
          "table": [
           {
            "cells": {
             "fill": {
              "color": "#EBF0F8"
             },
             "line": {
              "color": "white"
             }
            },
            "header": {
             "fill": {
              "color": "#C8D4E3"
             },
             "line": {
              "color": "white"
             }
            },
            "type": "table"
           }
          ]
         },
         "layout": {
          "annotationdefaults": {
           "arrowcolor": "#2a3f5f",
           "arrowhead": 0,
           "arrowwidth": 1
          },
          "autotypenumbers": "strict",
          "coloraxis": {
           "colorbar": {
            "outlinewidth": 0,
            "ticks": ""
           }
          },
          "colorscale": {
           "diverging": [
            [
             0,
             "#8e0152"
            ],
            [
             0.1,
             "#c51b7d"
            ],
            [
             0.2,
             "#de77ae"
            ],
            [
             0.3,
             "#f1b6da"
            ],
            [
             0.4,
             "#fde0ef"
            ],
            [
             0.5,
             "#f7f7f7"
            ],
            [
             0.6,
             "#e6f5d0"
            ],
            [
             0.7,
             "#b8e186"
            ],
            [
             0.8,
             "#7fbc41"
            ],
            [
             0.9,
             "#4d9221"
            ],
            [
             1,
             "#276419"
            ]
           ],
           "sequential": [
            [
             0,
             "#0d0887"
            ],
            [
             0.1111111111111111,
             "#46039f"
            ],
            [
             0.2222222222222222,
             "#7201a8"
            ],
            [
             0.3333333333333333,
             "#9c179e"
            ],
            [
             0.4444444444444444,
             "#bd3786"
            ],
            [
             0.5555555555555556,
             "#d8576b"
            ],
            [
             0.6666666666666666,
             "#ed7953"
            ],
            [
             0.7777777777777778,
             "#fb9f3a"
            ],
            [
             0.8888888888888888,
             "#fdca26"
            ],
            [
             1,
             "#f0f921"
            ]
           ],
           "sequentialminus": [
            [
             0,
             "#0d0887"
            ],
            [
             0.1111111111111111,
             "#46039f"
            ],
            [
             0.2222222222222222,
             "#7201a8"
            ],
            [
             0.3333333333333333,
             "#9c179e"
            ],
            [
             0.4444444444444444,
             "#bd3786"
            ],
            [
             0.5555555555555556,
             "#d8576b"
            ],
            [
             0.6666666666666666,
             "#ed7953"
            ],
            [
             0.7777777777777778,
             "#fb9f3a"
            ],
            [
             0.8888888888888888,
             "#fdca26"
            ],
            [
             1,
             "#f0f921"
            ]
           ]
          },
          "colorway": [
           "#636efa",
           "#EF553B",
           "#00cc96",
           "#ab63fa",
           "#FFA15A",
           "#19d3f3",
           "#FF6692",
           "#B6E880",
           "#FF97FF",
           "#FECB52"
          ],
          "font": {
           "color": "#2a3f5f"
          },
          "geo": {
           "bgcolor": "white",
           "lakecolor": "white",
           "landcolor": "#E5ECF6",
           "showlakes": true,
           "showland": true,
           "subunitcolor": "white"
          },
          "hoverlabel": {
           "align": "left"
          },
          "hovermode": "closest",
          "mapbox": {
           "style": "light"
          },
          "paper_bgcolor": "white",
          "plot_bgcolor": "#E5ECF6",
          "polar": {
           "angularaxis": {
            "gridcolor": "white",
            "linecolor": "white",
            "ticks": ""
           },
           "bgcolor": "#E5ECF6",
           "radialaxis": {
            "gridcolor": "white",
            "linecolor": "white",
            "ticks": ""
           }
          },
          "scene": {
           "xaxis": {
            "backgroundcolor": "#E5ECF6",
            "gridcolor": "white",
            "gridwidth": 2,
            "linecolor": "white",
            "showbackground": true,
            "ticks": "",
            "zerolinecolor": "white"
           },
           "yaxis": {
            "backgroundcolor": "#E5ECF6",
            "gridcolor": "white",
            "gridwidth": 2,
            "linecolor": "white",
            "showbackground": true,
            "ticks": "",
            "zerolinecolor": "white"
           },
           "zaxis": {
            "backgroundcolor": "#E5ECF6",
            "gridcolor": "white",
            "gridwidth": 2,
            "linecolor": "white",
            "showbackground": true,
            "ticks": "",
            "zerolinecolor": "white"
           }
          },
          "shapedefaults": {
           "line": {
            "color": "#2a3f5f"
           }
          },
          "ternary": {
           "aaxis": {
            "gridcolor": "white",
            "linecolor": "white",
            "ticks": ""
           },
           "baxis": {
            "gridcolor": "white",
            "linecolor": "white",
            "ticks": ""
           },
           "bgcolor": "#E5ECF6",
           "caxis": {
            "gridcolor": "white",
            "linecolor": "white",
            "ticks": ""
           }
          },
          "title": {
           "x": 0.05
          },
          "xaxis": {
           "automargin": true,
           "gridcolor": "white",
           "linecolor": "white",
           "ticks": "",
           "title": {
            "standoff": 15
           },
           "zerolinecolor": "white",
           "zerolinewidth": 2
          },
          "yaxis": {
           "automargin": true,
           "gridcolor": "white",
           "linecolor": "white",
           "ticks": "",
           "title": {
            "standoff": 15
           },
           "zerolinecolor": "white",
           "zerolinewidth": 2
          }
         }
        },
        "title": {
         "text": "Tests per Thousand vs GDP per Capita (2021)"
        },
        "xaxis": {
         "anchor": "y",
         "domain": [
          0,
          1
         ],
         "title": {
          "text": "Total Tests per Thousand"
         }
        },
        "yaxis": {
         "anchor": "x",
         "domain": [
          0,
          1
         ],
         "title": {
          "text": "GDP per Capita"
         }
        }
       }
      }
     },
     "metadata": {},
     "output_type": "display_data"
    }
   ],
   "source": [
    "import pandas as pd\n",
    "import plotly.express as px\n",
    "\n",
    "\n",
    "covid_file_path = 'owid-covid-data.csv'\n",
    "df_covid = pd.read_csv(covid_file_path)\n",
    "\n",
    "\n",
    "df_covid['date'] = pd.to_datetime(df_covid['date'])\n",
    "df_covid_2021 = df_covid[df_covid['date'].dt.year == 2021]\n",
    "\n",
    "\n",
    "last_values_covid = df_covid_2021.groupby('location').apply(lambda x: x.loc[x['date'].idxmax()]).reset_index(drop=True)\n",
    "\n",
    "\n",
    "filtered_data_covid = last_values_covid[['location', 'total_tests_per_thousand']].dropna()\n",
    "\n",
    "\n",
    "gdp_file_path = 'GDP-data.csv'\n",
    "df_gdp = pd.read_csv(gdp_file_path, skiprows=4)\n",
    "\n",
    "\n",
    "df_gdp_2021 = df_gdp[['Country Name', '2021']].rename(columns={'Country Name': 'location', '2021': 'gdp_per_capita'}).dropna()\n",
    "\n",
    "\n",
    "merged_data = pd.merge(filtered_data_covid, df_gdp_2021, on='location')\n",
    "\n",
    "\n",
    "merged_data = merged_data[(merged_data['total_tests_per_thousand'] != 0) & (merged_data['gdp_per_capita'] != 0)]\n",
    "\n",
    "\n",
    "Q1_tests = merged_data['total_tests_per_thousand'].quantile(0.25)\n",
    "Q3_tests = merged_data['total_tests_per_thousand'].quantile(0.75)\n",
    "IQR_tests = Q3_tests - Q1_tests\n",
    "\n",
    "Q1_gdp = merged_data['gdp_per_capita'].quantile(0.25)\n",
    "Q3_gdp = merged_data['gdp_per_capita'].quantile(0.75)\n",
    "IQR_gdp = Q3_gdp - Q1_gdp\n",
    "\n",
    "\n",
    "lower_bound_tests = Q1_tests - 1.5 * IQR_tests\n",
    "upper_bound_tests = Q3_tests + 1.5 * IQR_tests\n",
    "lower_bound_gdp = Q1_gdp - 1.5 * IQR_gdp\n",
    "upper_bound_gdp = Q3_gdp + 1.5 * IQR_gdp\n",
    "\n",
    "\n",
    "filtered_data_no_outliers = merged_data[\n",
    "    (merged_data['total_tests_per_thousand'] >= lower_bound_tests) &\n",
    "    (merged_data['total_tests_per_thousand'] <= upper_bound_tests) &\n",
    "    (merged_data['gdp_per_capita'] >= lower_bound_gdp) &\n",
    "    (merged_data['gdp_per_capita'] <= upper_bound_gdp)\n",
    "]\n",
    "\n",
    "\n",
    "fig = px.scatter(filtered_data_no_outliers, x='total_tests_per_thousand', y='gdp_per_capita',\n",
    "                 title='Tests per Thousand vs GDP per Capita (2021)',\n",
    "                 labels={'total_tests_per_thousand': 'Total Tests per Thousand', 'gdp_per_capita': 'GDP per Capita'},\n",
    "                 trendline='ols')\n",
    "\n",
    "fig.show()"
   ]
  },
  {
   "cell_type": "code",
   "execution_count": 10,
   "metadata": {},
   "outputs": [
    {
     "name": "stderr",
     "output_type": "stream",
     "text": [
      "/tmp/ipykernel_76724/3012838731.py:13: DeprecationWarning:\n",
      "\n",
      "DataFrameGroupBy.apply operated on the grouping columns. This behavior is deprecated, and in a future version of pandas the grouping columns will be excluded from the operation. Either pass `include_groups=False` to exclude the groupings or explicitly select the grouping columns after groupby to silence this warning.\n",
      "\n"
     ]
    },
    {
     "data": {
      "application/vnd.plotly.v1+json": {
       "config": {
        "plotlyServerURL": "https://plot.ly"
       },
       "data": [
        {
         "hovertemplate": "Total Tests per Thousand=%{x}<br>Total Cases=%{y}<extra></extra>",
         "legendgroup": "",
         "marker": {
          "color": "#636efa",
          "symbol": "circle"
         },
         "mode": "markers",
         "name": "",
         "orientation": "v",
         "showlegend": false,
         "type": "scatter",
         "x": [
          498.603,
          922.236,
          2120.241,
          454.622,
          67.862,
          2356.417,
          1657.748,
          254.656,
          453.458,
          1380.218,
          1391.317,
          439.713,
          44.885,
          925.441,
          4486.964,
          115.012,
          184.045,
          1909.253,
          34.188,
          1578.919,
          2965.619,
          4523.436,
          1255.621,
          186.331,
          897.911,
          2286.959,
          2010.595,
          3637.259,
          250.767,
          224.641,
          775.911,
          1403.9,
          114.368,
          2965.17,
          2268.552,
          2478.237,
          11.451,
          1246.378,
          3586.73,
          2940.423,
          95.052,
          1909.542,
          266.504,
          344.666,
          188.891,
          1263.22,
          1087.221,
          1713.248,
          101.003,
          1035.622,
          305.621,
          646.299,
          208.8,
          2604.913,
          689.477,
          1548.961,
          296.371,
          1237.932,
          926.569,
          55.366,
          1053.599,
          982.109,
          357.471,
          874.47,
          307.31,
          91.257,
          1448.181,
          1654.347,
          247.62,
          71.376,
          335.105,
          47.11,
          385.625,
          994.455,
          1287.328,
          151.959,
          106.745
         ],
         "xaxis": "x",
         "y": [
          207221,
          344481,
          366607,
          23630,
          1583253,
          2048110,
          2660,
          575247,
          287716,
          1961723,
          1799125,
          569523,
          63847,
          693102,
          2486451,
          541368,
          121741,
          226809,
          395750,
          322835,
          924368,
          1085087,
          15260,
          625029,
          1237330,
          24206,
          696093,
          1364768,
          92355,
          1731789,
          161284,
          414911,
          106231,
          271429,
          6059,
          516006,
          50279,
          2741179,
          94864,
          47436,
          4001979,
          690950,
          955587,
          146097,
          827271,
          3085502,
          13529,
          375290,
          1293081,
          486377,
          465130,
          2272885,
          2838474,
          1282648,
          252334,
          247796,
          104512,
          2836,
          552406,
          74353,
          1289493,
          456842,
          3407937,
          611667,
          583649,
          51563,
          1286608,
          1253630,
          2209970,
          27992,
          88944,
          135091,
          3606084,
          8007,
          406739,
          231581,
          203746
         ],
         "yaxis": "y"
        },
        {
         "hovertemplate": "<b>OLS trendline</b><br>total_cases = 32.8368 * total_tests_per_thousand + 777792<br>R<sup>2</sup>=0.001365<br><br>Total Tests per Thousand=%{x}<br>Total Cases=%{y} <b>(trend)</b><extra></extra>",
         "legendgroup": "",
         "marker": {
          "color": "#636efa",
          "symbol": "circle"
         },
         "mode": "lines",
         "name": "",
         "showlegend": false,
         "type": "scatter",
         "x": [
          11.451,
          34.188,
          44.885,
          47.11,
          55.366,
          67.862,
          71.376,
          91.257,
          95.052,
          101.003,
          106.745,
          114.368,
          115.012,
          151.959,
          184.045,
          186.331,
          188.891,
          208.8,
          224.641,
          247.62,
          250.767,
          254.656,
          266.504,
          296.371,
          305.621,
          307.31,
          335.105,
          344.666,
          357.471,
          385.625,
          439.713,
          453.458,
          454.622,
          498.603,
          646.299,
          689.477,
          775.911,
          874.47,
          897.911,
          922.236,
          925.441,
          926.569,
          982.109,
          994.455,
          1035.622,
          1053.599,
          1087.221,
          1237.932,
          1246.378,
          1255.621,
          1263.22,
          1287.328,
          1380.218,
          1391.317,
          1403.9,
          1448.181,
          1548.961,
          1578.919,
          1654.347,
          1657.748,
          1713.248,
          1909.253,
          1909.542,
          2010.595,
          2120.241,
          2268.552,
          2286.959,
          2356.417,
          2478.237,
          2604.913,
          2940.423,
          2965.17,
          2965.619,
          3586.73,
          3637.259,
          4486.964,
          4523.436
         ],
         "xaxis": "x",
         "y": [
          778168.0245468538,
          778914.6345544711,
          779265.8896563527,
          779338.951505627,
          779610.0520124172,
          780020.3804926558,
          780135.7689593298,
          780788.5971055866,
          780913.2127091802,
          781108.6244238009,
          781297.1732501077,
          781547.4880712392,
          781568.634961546,
          782781.8557009328,
          783835.4568226467,
          783910.5217158785,
          783994.5838885267,
          784648.3314647967,
          785168.4989948431,
          785923.0555047186,
          786026.3928708606,
          786154.0951323562,
          786543.1453751433,
          787523.8816683,
          787827.6219405638,
          787883.0832724398,
          788795.7817446096,
          789109.7342573785,
          789530.2093045501,
          790454.6961829623,
          792230.7722744433,
          792682.1139006341,
          792720.33591976,
          794164.530613212,
          799014.3925864295,
          800432.2193405703,
          803270.4341181748,
          806506.7949283413,
          807276.5220334368,
          808075.2768575249,
          808180.518757266,
          808217.5586520891,
          810041.313757119,
          810446.716719429,
          811798.5086965405,
          812388.8156018901,
          813492.8540271929,
          818441.7189107753,
          818719.0584069417,
          819022.568821702,
          819272.095559965,
          820063.7248014497,
          823113.9338707012,
          823478.3893606315,
          823891.5746412687,
          825345.6203705778,
          828654.9116828737,
          829638.6361235739,
          832115.4492323638,
          832227.1271421984,
          834049.5687757806,
          840485.7430530833,
          840495.2328842924,
          843813.4886392184,
          847413.9108978808,
          852283.9674946056,
          852888.3942180172,
          855169.171713249,
          859169.3490069966,
          863328.9817344861,
          874346.0518693185,
          875158.663817179,
          875173.4075341786,
          895568.6966418531,
          897227.9066112814,
          925129.4880214264,
          926327.1112873725
         ],
         "yaxis": "y"
        }
       ],
       "layout": {
        "legend": {
         "tracegroupgap": 0
        },
        "template": {
         "data": {
          "bar": [
           {
            "error_x": {
             "color": "#2a3f5f"
            },
            "error_y": {
             "color": "#2a3f5f"
            },
            "marker": {
             "line": {
              "color": "#E5ECF6",
              "width": 0.5
             },
             "pattern": {
              "fillmode": "overlay",
              "size": 10,
              "solidity": 0.2
             }
            },
            "type": "bar"
           }
          ],
          "barpolar": [
           {
            "marker": {
             "line": {
              "color": "#E5ECF6",
              "width": 0.5
             },
             "pattern": {
              "fillmode": "overlay",
              "size": 10,
              "solidity": 0.2
             }
            },
            "type": "barpolar"
           }
          ],
          "carpet": [
           {
            "aaxis": {
             "endlinecolor": "#2a3f5f",
             "gridcolor": "white",
             "linecolor": "white",
             "minorgridcolor": "white",
             "startlinecolor": "#2a3f5f"
            },
            "baxis": {
             "endlinecolor": "#2a3f5f",
             "gridcolor": "white",
             "linecolor": "white",
             "minorgridcolor": "white",
             "startlinecolor": "#2a3f5f"
            },
            "type": "carpet"
           }
          ],
          "choropleth": [
           {
            "colorbar": {
             "outlinewidth": 0,
             "ticks": ""
            },
            "type": "choropleth"
           }
          ],
          "contour": [
           {
            "colorbar": {
             "outlinewidth": 0,
             "ticks": ""
            },
            "colorscale": [
             [
              0,
              "#0d0887"
             ],
             [
              0.1111111111111111,
              "#46039f"
             ],
             [
              0.2222222222222222,
              "#7201a8"
             ],
             [
              0.3333333333333333,
              "#9c179e"
             ],
             [
              0.4444444444444444,
              "#bd3786"
             ],
             [
              0.5555555555555556,
              "#d8576b"
             ],
             [
              0.6666666666666666,
              "#ed7953"
             ],
             [
              0.7777777777777778,
              "#fb9f3a"
             ],
             [
              0.8888888888888888,
              "#fdca26"
             ],
             [
              1,
              "#f0f921"
             ]
            ],
            "type": "contour"
           }
          ],
          "contourcarpet": [
           {
            "colorbar": {
             "outlinewidth": 0,
             "ticks": ""
            },
            "type": "contourcarpet"
           }
          ],
          "heatmap": [
           {
            "colorbar": {
             "outlinewidth": 0,
             "ticks": ""
            },
            "colorscale": [
             [
              0,
              "#0d0887"
             ],
             [
              0.1111111111111111,
              "#46039f"
             ],
             [
              0.2222222222222222,
              "#7201a8"
             ],
             [
              0.3333333333333333,
              "#9c179e"
             ],
             [
              0.4444444444444444,
              "#bd3786"
             ],
             [
              0.5555555555555556,
              "#d8576b"
             ],
             [
              0.6666666666666666,
              "#ed7953"
             ],
             [
              0.7777777777777778,
              "#fb9f3a"
             ],
             [
              0.8888888888888888,
              "#fdca26"
             ],
             [
              1,
              "#f0f921"
             ]
            ],
            "type": "heatmap"
           }
          ],
          "heatmapgl": [
           {
            "colorbar": {
             "outlinewidth": 0,
             "ticks": ""
            },
            "colorscale": [
             [
              0,
              "#0d0887"
             ],
             [
              0.1111111111111111,
              "#46039f"
             ],
             [
              0.2222222222222222,
              "#7201a8"
             ],
             [
              0.3333333333333333,
              "#9c179e"
             ],
             [
              0.4444444444444444,
              "#bd3786"
             ],
             [
              0.5555555555555556,
              "#d8576b"
             ],
             [
              0.6666666666666666,
              "#ed7953"
             ],
             [
              0.7777777777777778,
              "#fb9f3a"
             ],
             [
              0.8888888888888888,
              "#fdca26"
             ],
             [
              1,
              "#f0f921"
             ]
            ],
            "type": "heatmapgl"
           }
          ],
          "histogram": [
           {
            "marker": {
             "pattern": {
              "fillmode": "overlay",
              "size": 10,
              "solidity": 0.2
             }
            },
            "type": "histogram"
           }
          ],
          "histogram2d": [
           {
            "colorbar": {
             "outlinewidth": 0,
             "ticks": ""
            },
            "colorscale": [
             [
              0,
              "#0d0887"
             ],
             [
              0.1111111111111111,
              "#46039f"
             ],
             [
              0.2222222222222222,
              "#7201a8"
             ],
             [
              0.3333333333333333,
              "#9c179e"
             ],
             [
              0.4444444444444444,
              "#bd3786"
             ],
             [
              0.5555555555555556,
              "#d8576b"
             ],
             [
              0.6666666666666666,
              "#ed7953"
             ],
             [
              0.7777777777777778,
              "#fb9f3a"
             ],
             [
              0.8888888888888888,
              "#fdca26"
             ],
             [
              1,
              "#f0f921"
             ]
            ],
            "type": "histogram2d"
           }
          ],
          "histogram2dcontour": [
           {
            "colorbar": {
             "outlinewidth": 0,
             "ticks": ""
            },
            "colorscale": [
             [
              0,
              "#0d0887"
             ],
             [
              0.1111111111111111,
              "#46039f"
             ],
             [
              0.2222222222222222,
              "#7201a8"
             ],
             [
              0.3333333333333333,
              "#9c179e"
             ],
             [
              0.4444444444444444,
              "#bd3786"
             ],
             [
              0.5555555555555556,
              "#d8576b"
             ],
             [
              0.6666666666666666,
              "#ed7953"
             ],
             [
              0.7777777777777778,
              "#fb9f3a"
             ],
             [
              0.8888888888888888,
              "#fdca26"
             ],
             [
              1,
              "#f0f921"
             ]
            ],
            "type": "histogram2dcontour"
           }
          ],
          "mesh3d": [
           {
            "colorbar": {
             "outlinewidth": 0,
             "ticks": ""
            },
            "type": "mesh3d"
           }
          ],
          "parcoords": [
           {
            "line": {
             "colorbar": {
              "outlinewidth": 0,
              "ticks": ""
             }
            },
            "type": "parcoords"
           }
          ],
          "pie": [
           {
            "automargin": true,
            "type": "pie"
           }
          ],
          "scatter": [
           {
            "fillpattern": {
             "fillmode": "overlay",
             "size": 10,
             "solidity": 0.2
            },
            "type": "scatter"
           }
          ],
          "scatter3d": [
           {
            "line": {
             "colorbar": {
              "outlinewidth": 0,
              "ticks": ""
             }
            },
            "marker": {
             "colorbar": {
              "outlinewidth": 0,
              "ticks": ""
             }
            },
            "type": "scatter3d"
           }
          ],
          "scattercarpet": [
           {
            "marker": {
             "colorbar": {
              "outlinewidth": 0,
              "ticks": ""
             }
            },
            "type": "scattercarpet"
           }
          ],
          "scattergeo": [
           {
            "marker": {
             "colorbar": {
              "outlinewidth": 0,
              "ticks": ""
             }
            },
            "type": "scattergeo"
           }
          ],
          "scattergl": [
           {
            "marker": {
             "colorbar": {
              "outlinewidth": 0,
              "ticks": ""
             }
            },
            "type": "scattergl"
           }
          ],
          "scattermapbox": [
           {
            "marker": {
             "colorbar": {
              "outlinewidth": 0,
              "ticks": ""
             }
            },
            "type": "scattermapbox"
           }
          ],
          "scatterpolar": [
           {
            "marker": {
             "colorbar": {
              "outlinewidth": 0,
              "ticks": ""
             }
            },
            "type": "scatterpolar"
           }
          ],
          "scatterpolargl": [
           {
            "marker": {
             "colorbar": {
              "outlinewidth": 0,
              "ticks": ""
             }
            },
            "type": "scatterpolargl"
           }
          ],
          "scatterternary": [
           {
            "marker": {
             "colorbar": {
              "outlinewidth": 0,
              "ticks": ""
             }
            },
            "type": "scatterternary"
           }
          ],
          "surface": [
           {
            "colorbar": {
             "outlinewidth": 0,
             "ticks": ""
            },
            "colorscale": [
             [
              0,
              "#0d0887"
             ],
             [
              0.1111111111111111,
              "#46039f"
             ],
             [
              0.2222222222222222,
              "#7201a8"
             ],
             [
              0.3333333333333333,
              "#9c179e"
             ],
             [
              0.4444444444444444,
              "#bd3786"
             ],
             [
              0.5555555555555556,
              "#d8576b"
             ],
             [
              0.6666666666666666,
              "#ed7953"
             ],
             [
              0.7777777777777778,
              "#fb9f3a"
             ],
             [
              0.8888888888888888,
              "#fdca26"
             ],
             [
              1,
              "#f0f921"
             ]
            ],
            "type": "surface"
           }
          ],
          "table": [
           {
            "cells": {
             "fill": {
              "color": "#EBF0F8"
             },
             "line": {
              "color": "white"
             }
            },
            "header": {
             "fill": {
              "color": "#C8D4E3"
             },
             "line": {
              "color": "white"
             }
            },
            "type": "table"
           }
          ]
         },
         "layout": {
          "annotationdefaults": {
           "arrowcolor": "#2a3f5f",
           "arrowhead": 0,
           "arrowwidth": 1
          },
          "autotypenumbers": "strict",
          "coloraxis": {
           "colorbar": {
            "outlinewidth": 0,
            "ticks": ""
           }
          },
          "colorscale": {
           "diverging": [
            [
             0,
             "#8e0152"
            ],
            [
             0.1,
             "#c51b7d"
            ],
            [
             0.2,
             "#de77ae"
            ],
            [
             0.3,
             "#f1b6da"
            ],
            [
             0.4,
             "#fde0ef"
            ],
            [
             0.5,
             "#f7f7f7"
            ],
            [
             0.6,
             "#e6f5d0"
            ],
            [
             0.7,
             "#b8e186"
            ],
            [
             0.8,
             "#7fbc41"
            ],
            [
             0.9,
             "#4d9221"
            ],
            [
             1,
             "#276419"
            ]
           ],
           "sequential": [
            [
             0,
             "#0d0887"
            ],
            [
             0.1111111111111111,
             "#46039f"
            ],
            [
             0.2222222222222222,
             "#7201a8"
            ],
            [
             0.3333333333333333,
             "#9c179e"
            ],
            [
             0.4444444444444444,
             "#bd3786"
            ],
            [
             0.5555555555555556,
             "#d8576b"
            ],
            [
             0.6666666666666666,
             "#ed7953"
            ],
            [
             0.7777777777777778,
             "#fb9f3a"
            ],
            [
             0.8888888888888888,
             "#fdca26"
            ],
            [
             1,
             "#f0f921"
            ]
           ],
           "sequentialminus": [
            [
             0,
             "#0d0887"
            ],
            [
             0.1111111111111111,
             "#46039f"
            ],
            [
             0.2222222222222222,
             "#7201a8"
            ],
            [
             0.3333333333333333,
             "#9c179e"
            ],
            [
             0.4444444444444444,
             "#bd3786"
            ],
            [
             0.5555555555555556,
             "#d8576b"
            ],
            [
             0.6666666666666666,
             "#ed7953"
            ],
            [
             0.7777777777777778,
             "#fb9f3a"
            ],
            [
             0.8888888888888888,
             "#fdca26"
            ],
            [
             1,
             "#f0f921"
            ]
           ]
          },
          "colorway": [
           "#636efa",
           "#EF553B",
           "#00cc96",
           "#ab63fa",
           "#FFA15A",
           "#19d3f3",
           "#FF6692",
           "#B6E880",
           "#FF97FF",
           "#FECB52"
          ],
          "font": {
           "color": "#2a3f5f"
          },
          "geo": {
           "bgcolor": "white",
           "lakecolor": "white",
           "landcolor": "#E5ECF6",
           "showlakes": true,
           "showland": true,
           "subunitcolor": "white"
          },
          "hoverlabel": {
           "align": "left"
          },
          "hovermode": "closest",
          "mapbox": {
           "style": "light"
          },
          "paper_bgcolor": "white",
          "plot_bgcolor": "#E5ECF6",
          "polar": {
           "angularaxis": {
            "gridcolor": "white",
            "linecolor": "white",
            "ticks": ""
           },
           "bgcolor": "#E5ECF6",
           "radialaxis": {
            "gridcolor": "white",
            "linecolor": "white",
            "ticks": ""
           }
          },
          "scene": {
           "xaxis": {
            "backgroundcolor": "#E5ECF6",
            "gridcolor": "white",
            "gridwidth": 2,
            "linecolor": "white",
            "showbackground": true,
            "ticks": "",
            "zerolinecolor": "white"
           },
           "yaxis": {
            "backgroundcolor": "#E5ECF6",
            "gridcolor": "white",
            "gridwidth": 2,
            "linecolor": "white",
            "showbackground": true,
            "ticks": "",
            "zerolinecolor": "white"
           },
           "zaxis": {
            "backgroundcolor": "#E5ECF6",
            "gridcolor": "white",
            "gridwidth": 2,
            "linecolor": "white",
            "showbackground": true,
            "ticks": "",
            "zerolinecolor": "white"
           }
          },
          "shapedefaults": {
           "line": {
            "color": "#2a3f5f"
           }
          },
          "ternary": {
           "aaxis": {
            "gridcolor": "white",
            "linecolor": "white",
            "ticks": ""
           },
           "baxis": {
            "gridcolor": "white",
            "linecolor": "white",
            "ticks": ""
           },
           "bgcolor": "#E5ECF6",
           "caxis": {
            "gridcolor": "white",
            "linecolor": "white",
            "ticks": ""
           }
          },
          "title": {
           "x": 0.05
          },
          "xaxis": {
           "automargin": true,
           "gridcolor": "white",
           "linecolor": "white",
           "ticks": "",
           "title": {
            "standoff": 15
           },
           "zerolinecolor": "white",
           "zerolinewidth": 2
          },
          "yaxis": {
           "automargin": true,
           "gridcolor": "white",
           "linecolor": "white",
           "ticks": "",
           "title": {
            "standoff": 15
           },
           "zerolinecolor": "white",
           "zerolinewidth": 2
          }
         }
        },
        "title": {
         "text": "Tests per Thousand vs Total Cases (2021)"
        },
        "xaxis": {
         "anchor": "y",
         "domain": [
          0,
          1
         ],
         "title": {
          "text": "Total Tests per Thousand"
         }
        },
        "yaxis": {
         "anchor": "x",
         "domain": [
          0,
          1
         ],
         "title": {
          "text": "Total Cases"
         }
        }
       }
      }
     },
     "metadata": {},
     "output_type": "display_data"
    }
   ],
   "source": [
    "import pandas as pd\n",
    "import plotly.express as px\n",
    "\n",
    "\n",
    "file_path = 'owid-covid-data.csv'\n",
    "df = pd.read_csv(file_path)\n",
    "\n",
    "\n",
    "df['date'] = pd.to_datetime(df['date'])\n",
    "df_2021 = df[df['date'].dt.year == 2021]\n",
    "\n",
    "\n",
    "last_values = df_2021.groupby('location').apply(lambda x: x.loc[x['date'].idxmax()]).reset_index(drop=True)\n",
    "filtered_data = last_values[['location', 'total_tests_per_thousand', 'total_cases']].dropna()\n",
    "\n",
    "\n",
    "zeros_in_tests = filtered_data[filtered_data['total_tests_per_thousand'] == 0]\n",
    "zeros_in_cases = filtered_data[filtered_data['total_cases'] == 0]\n",
    "\n",
    "\n",
    "filtered_data = filtered_data[(filtered_data['total_tests_per_thousand'] != 0) & (filtered_data['total_cases'] != 0)]\n",
    "\n",
    "\n",
    "Q1_tests = filtered_data['total_tests_per_thousand'].quantile(0.25)\n",
    "Q3_tests = filtered_data['total_tests_per_thousand'].quantile(0.75)\n",
    "IQR_tests = Q3_tests - Q1_tests\n",
    "\n",
    "Q1_cases = filtered_data['total_cases'].quantile(0.25)\n",
    "Q3_cases = filtered_data['total_cases'].quantile(0.75)\n",
    "IQR_cases = Q3_cases - Q1_cases\n",
    "\n",
    "\n",
    "lower_bound_tests = Q1_tests - 1.5 * IQR_tests\n",
    "upper_bound_tests = Q3_tests + 1.5 * IQR_tests\n",
    "lower_bound_cases = Q1_cases - 1.5 * IQR_cases\n",
    "upper_bound_cases = Q3_cases + 1.5 * IQR_cases\n",
    "\n",
    "\n",
    "filtered_data_no_outliers = filtered_data[\n",
    "    (filtered_data['total_tests_per_thousand'] >= lower_bound_tests) &\n",
    "    (filtered_data['total_tests_per_thousand'] <= upper_bound_tests) &\n",
    "    (filtered_data['total_cases'] >= lower_bound_cases) &\n",
    "    (filtered_data['total_cases'] <= upper_bound_cases)\n",
    "]\n",
    "\n",
    "\n",
    "fig = px.scatter(filtered_data_no_outliers, x='total_tests_per_thousand', y='total_cases',\n",
    "                 title='Tests per Thousand vs Total Cases (2021)',\n",
    "                 labels={'total_tests_per_thousand': 'Total Tests per Thousand', 'total_cases': 'Total Cases'},\n",
    "                 trendline='ols')\n",
    "\n",
    "fig.show()"
   ]
  }
 ],
 "metadata": {
  "kernelspec": {
   "display_name": "base",
   "language": "python",
   "name": "python3"
  },
  "language_info": {
   "codemirror_mode": {
    "name": "ipython",
    "version": 3
   },
   "file_extension": ".py",
   "mimetype": "text/x-python",
   "name": "python",
   "nbconvert_exporter": "python",
   "pygments_lexer": "ipython3",
   "version": "3.11.7"
  }
 },
 "nbformat": 4,
 "nbformat_minor": 2
}
