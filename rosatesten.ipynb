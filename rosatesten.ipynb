{
 "cells": [
  {
   "cell_type": "code",
   "execution_count": null,
   "metadata": {},
   "outputs": [],
   "source": [
    "import pandas as pd\n",
    "import matplotlib.pyplot as plt\n",
    "import seaborn as sns\n",
    "\n",
    "# Load the CSV files\n",
    "df_owid = pd.read_csv('owid-covid-data.csv')\n",
    "df_excess_deaths = pd.read_csv('cumulative-excess-deaths-covid.csv')\n",
    "\n",
    "# Convert 'date' and 'Day' columns to datetime\n",
    "df_owid['date'] = pd.to_datetime(df_owid['date'])\n",
    "df_excess_deaths['Day'] = pd.to_datetime(df_excess_deaths['Day'])\n",
    "\n",
    "# Filter data for the year 2022\n",
    "df_owid_2022 = df_owid[df_owid['date'].dt.year == 2022]\n",
    "df_excess_deaths_2022 = df_excess_deaths[df_excess_deaths['Day'].dt.year == 2022]\n",
    "\n",
    "# Get the last available non-NaN value for each country in 2022\n",
    "df_owid_last_2022 = df_owid_2022.groupby('location').apply(lambda x: x.ffill().iloc[-1]).reset_index(drop=True)\n",
    "df_excess_deaths_last_2022 = df_excess_deaths_2022.groupby('Entity').apply(lambda x: x.ffill().iloc[-1]).reset_index(drop=True)\n",
    "\n",
    "# Merge the datasets based on the country\n",
    "df_merged = pd.merge(df_owid_last_2022, df_excess_deaths_last_2022, left_on='location', right_on='Entity', how='inner')\n",
    "\n",
    "# Create the scatter plot with regression line\n",
    "plt.figure(figsize=(10, 6))\n",
    "sns.regplot(x='total_vaccinations', y='cum_excess_proj_all_ages', data=df_merged, scatter_kws={'alpha':0.7})\n",
    "plt.title('Total Vaccinations vs. Cumulative Excess Deaths in 2022')\n",
    "plt.xlabel('Total Vaccinations')\n",
    "plt.ylabel('Cumulative Excess Deaths')\n",
    "plt.grid(True)\n",
    "plt.show()\n"
   ]
  }
 ],
 "metadata": {
  "language_info": {
   "name": "python"
  }
 },
 "nbformat": 4,
 "nbformat_minor": 2
}
