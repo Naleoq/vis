{
 "cells": [
  {
   "cell_type": "code",
   "execution_count": null,
   "metadata": {},
   "outputs": [],
   "source": [
    "import pandas as pd\n",
    "import plotly.express as px\n",
    "\n",
    "# Load your CSV file\n",
    "df = pd.read_csv('owid-covid-data.csv')\n",
    "\n",
    "# Select relevant columns\n",
    "country_code_column = 'iso_code'\n",
    "gdp_per_capita_column = 'gdp_per_capita'\n",
    "\n",
    "# Extract relevant data\n",
    "data = df[[country_code_column, gdp_per_capita_column]].copy()\n",
    "\n",
    "# Ensure country codes are in uppercase (Plotly expects uppercase ISO codes)\n",
    "data['country_code'] = data[country_code_column].str.upper()\n",
    "\n",
    "# Drop rows where GDP per capita is NaN (if any)\n",
    "data.dropna(subset=[gdp_per_capita_column], inplace=True)\n",
    "\n",
    "# Print the first few rows to verify\n",
    "print(data.head())\n",
    "\n",
    "# Define a custom color scale from light blue to deep blue\n",
    "custom_color_scale = [\n",
    "    [0, 'rgb(173, 216, 230)'],  # light blue\n",
    "    [1, 'rgb(0, 0, 139)']       # deep blue\n",
    "]\n",
    "\n",
    "# Create chloropleth map with custom color scale and adjusted range\n",
    "fig = px.choropleth(data, \n",
    "                    locations='country_code', \n",
    "                    color='gdp_per_capita',\n",
    "                    hover_name='country_code',  # You can modify this to display country names if available\n",
    "                    hover_data=['gdp_per_capita'],\n",
    "                    title='GDP per Capita for 2021',\n",
    "                    labels={'gdp_per_capita': 'GDP per Capita'},\n",
    "                    color_continuous_scale=custom_color_scale,  # Using custom color scale\n",
    "                    range_color=(0, 60000))  # Adjusted range for color scale\n",
    "\n",
    "# Show the plot\n",
    "fig.show()\n"
   ]
  }
 ],
 "metadata": {
  "language_info": {
   "name": "python"
  }
 },
 "nbformat": 4,
 "nbformat_minor": 2
}
