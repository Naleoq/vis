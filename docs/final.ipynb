{
 "cells": [
  {
   "cell_type": "markdown",
   "metadata": {
    "tags": [
     "remove_input"
    ]
   },
   "source": [
    "\n",
    "## Influence of socio-economic factors on the mortality rate of the COVID-19 pandemic"
   ]
  },
  {
   "cell_type": "code",
   "execution_count": 53,
   "metadata": {
    "tags": [
     "remove_input"
    ]
   },
   "outputs": [
    {
     "data": {
      "text/html": [
       "<img src=\"https://www.nen.nl/media/db875ff6-3769-4f64-b75e-b2747a00bfa2_corona_covid19_GettyImages-1213090148_2.jpg\"/>"
      ],
      "text/plain": [
       "<IPython.core.display.Image object>"
      ]
     },
     "metadata": {},
     "output_type": "display_data"
    }
   ],
   "source": [
    "# Load image from link\n",
    "url = 'https://www.nen.nl/media/db875ff6-3769-4f64-b75e-b2747a00bfa2_corona_covid19_GettyImages-1213090148_2.jpg'\n",
    "\n",
    "# Display image from URL with smaller size and subtitle\n",
    "from IPython.display import Image, display\n",
    "\n",
    "\n",
    "# Create an Image instance with the URL\n",
    "image = Image(url=url)\n",
    "\n",
    "# Display the image and subtitle\n",
    "display(image)\n"
   ]
  },
  {
   "cell_type": "markdown",
   "metadata": {
    "tags": [
     "remove_input"
    ]
   },
   "source": [
    "### Introduction\n",
    "\n",
    "The COVID-19 pandemic was the most significant global health crisis of the 21st century, impacting countries worldwide. The virus not only strained healthcare systems but also disrupted economies and daily lives on a big scale. Governments were forced to implement drastic measures such as lockdowns, travel restrictions, and widespread testing to control the spread of the virus. Despite these efforts, the severity and duration of the pandemic's effects varied significantly between countries. Some countries managed to control the outbreak and recover relatively quickly, while others faced prolonged challenges and higher casualty rates. Understanding why some countries suffered less or recovered more quickly is crucial for developing effective countermeasures for future pandemics.\n",
    "\n",
    "This project aims to analyze the global impact of COVID-19 on health outcomes and how these outcomes were influenced by socioeconomic status. By examining datasets of COVID-19 case numbers, deaths, vaccination rates, and socioeconomic indicators such as GDP, we will explore how the pandemic has affected populations worldwide. Our analysis will focus on identifying patterns and correlations that can explain the diversity of casualty rates across different regions. \n",
    "\n",
    "By understanding the key factors that led to better outcomes in certain countries, strategies can be developed to ensure better preparation for future pandemics. This will be useful for building a more resilient global health system that is capable of protecting populations against future health crises. \n"
   ]
  },
  {
   "cell_type": "markdown",
   "metadata": {
    "tags": [
     "remove_input"
    ]
   },
   "source": [
    "### Dataset and Preprocessing\n",
    "\n",
    "The datasets that we use are the OWID Covid-19 dataset and the GDP per capita, PPP in US dollars dataset. The COVID-19 dataset contains statistics on COVID-19 for every country, through the years 2020-2024. It has variables such as “Total_deaths” and “Total_cases”. The second dataset contains the GDP per capita in PPP in US dollars per country per year. This means it contains the economic output in US dollars per inhabitant. PPP stands for purchasing power parity and it means the differences between countries have been normalized for differences in purchasing power, to make the comparisons more fair.\n",
    "The idea of the dataset is to give a reliable overview of the economic power of the countries per year."
   ]
  },
  {
   "cell_type": "markdown",
   "metadata": {
    "tags": [
     "remove_input"
    ]
   },
   "source": [
    "### Perspective 1:\n",
    "**Countries with higher GDP and higher vaccination rates have managed the COVID-19 pandemic more effectively, resulting in lower mortality rates and better health outcomes despite high case numbers**\n",
    "\n",
    "#### Argument 1:\n",
    "**Higher GDP per capita allows for better health care systems and therefore better access to vaccines, resulting in a lower mortality rate**\n",
    "\n",
    "To see whether vaccines have had an influence on a lower mortality rate, we plotted GDP per capita against the amount of people vaccinated per hundred. We also plotted excess mortality per million inhabitants against people vaccinated per hundred. Comparing these two graphs should give us insights on the effect of the vaccines and whether countries with a higher GDP per capita truly had better access to these vaccines. \n",
    "\n",
    "We have taken the vaccination rates for 2021 because the widespread distribution of COVID-19 vaccines started in 2021 (Rijksoverheid, 2020).\n",
    "\n",
    "To measure the impact of the pandemic in terms of deaths, we have taken the excess mortality. This data compares the number of deaths during the COVID-19 pandemic compared to the deaths we would have expected, had the pandemic not occurred. This is estimated using a regression model that uses mortality rate data from 2015-2019. The model accounts for seasonal variation and year-to-year trends in mortality.\n",
    "\n",
    "The advantage of using excess mortality instead of the registered COVID-19 deaths is that in addition to confirmed COVID-19 deaths it also captures the deaths that were not correctly diagnosed and reported. This means it accounts for countries with weak health systems and less robust data collection."
   ]
  },
  {
   "cell_type": "code",
   "execution_count": 84,
   "metadata": {
    "tags": [
     "remove_input"
    ]
   },
   "outputs": [
    {
     "data": {
      "application/vnd.plotly.v1+json": {
       "config": {
        "plotlyServerURL": "https://plot.ly"
       },
       "data": [
        {
         "hovertemplate": "<b>%{hovertext}</b><br><br>People fully vaccinated per hundred=%{x}<br>GDP per capita=%{y}<extra></extra>",
         "hovertext": [
          "Afghanistan",
          "Africa",
          "Albania",
          "Algeria",
          "American Samoa",
          "Andorra",
          "Angola",
          "Anguilla",
          "Antigua and Barbuda",
          "Argentina",
          "Armenia",
          "Aruba",
          "Asia",
          "Australia",
          "Austria",
          "Azerbaijan",
          "Bahamas",
          "Bahrain",
          "Bangladesh",
          "Barbados",
          "Belarus",
          "Belgium",
          "Belize",
          "Benin",
          "Bermuda",
          "Bhutan",
          "Bolivia",
          "Bonaire Sint Eustatius and Saba",
          "Bosnia and Herzegovina",
          "Botswana",
          "Brazil",
          "British Virgin Islands",
          "Brunei",
          "Bulgaria",
          "Burkina Faso",
          "Burundi",
          "Cambodia",
          "Cameroon",
          "Canada",
          "Cape Verde",
          "Cayman Islands",
          "Central African Republic",
          "Chad",
          "Chile",
          "China",
          "Colombia",
          "Comoros",
          "Congo",
          "Cook Islands",
          "Costa Rica",
          "Cote d'Ivoire",
          "Croatia",
          "Cuba",
          "Curacao",
          "Cyprus",
          "Czechia",
          "Democratic Republic of Congo",
          "Denmark",
          "Djibouti",
          "Dominica",
          "Dominican Republic",
          "Ecuador",
          "Egypt",
          "El Salvador",
          "England",
          "Equatorial Guinea",
          "Eritrea",
          "Estonia",
          "Eswatini",
          "Ethiopia",
          "Europe",
          "European Union",
          "Faeroe Islands",
          "Falkland Islands",
          "Fiji",
          "Finland",
          "France",
          "French Guiana",
          "French Polynesia",
          "Gabon",
          "Gambia",
          "Georgia",
          "Germany",
          "Ghana",
          "Gibraltar",
          "Greece",
          "Greenland",
          "Grenada",
          "Guadeloupe",
          "Guam",
          "Guatemala",
          "Guernsey",
          "Guinea",
          "Guinea-Bissau",
          "Guyana",
          "Haiti",
          "High income",
          "Honduras",
          "Hong Kong",
          "Hungary",
          "Iceland",
          "India",
          "Indonesia",
          "Iran",
          "Iraq",
          "Ireland",
          "Isle of Man",
          "Israel",
          "Italy",
          "Jamaica",
          "Japan",
          "Jersey",
          "Jordan",
          "Kazakhstan",
          "Kenya",
          "Kiribati",
          "Kosovo",
          "Kuwait",
          "Kyrgyzstan",
          "Laos",
          "Latvia",
          "Lebanon",
          "Lesotho",
          "Liberia",
          "Libya",
          "Liechtenstein",
          "Lithuania",
          "Low income",
          "Lower middle income",
          "Luxembourg",
          "Macao",
          "Madagascar",
          "Malawi",
          "Malaysia",
          "Maldives",
          "Mali",
          "Malta",
          "Marshall Islands",
          "Martinique",
          "Mauritania",
          "Mauritius",
          "Mayotte",
          "Mexico",
          "Micronesia (country)",
          "Moldova",
          "Monaco",
          "Mongolia",
          "Montenegro",
          "Montserrat",
          "Morocco",
          "Mozambique",
          "Myanmar",
          "Namibia",
          "Nauru",
          "Nepal",
          "Netherlands",
          "New Caledonia",
          "New Zealand",
          "Nicaragua",
          "Niger",
          "Nigeria",
          "Niue",
          "North America",
          "North Korea",
          "North Macedonia",
          "Northern Cyprus",
          "Northern Ireland",
          "Northern Mariana Islands",
          "Norway",
          "Oceania",
          "Oman",
          "Pakistan",
          "Palau",
          "Palestine",
          "Panama",
          "Papua New Guinea",
          "Paraguay",
          "Peru",
          "Philippines",
          "Pitcairn",
          "Poland",
          "Portugal",
          "Puerto Rico",
          "Qatar",
          "Reunion",
          "Romania",
          "Russia",
          "Rwanda",
          "Saint Barthelemy",
          "Saint Helena",
          "Saint Kitts and Nevis",
          "Saint Lucia",
          "Saint Martin (French part)",
          "Saint Pierre and Miquelon",
          "Saint Vincent and the Grenadines",
          "Samoa",
          "San Marino",
          "Sao Tome and Principe",
          "Saudi Arabia",
          "Scotland",
          "Senegal",
          "Serbia",
          "Seychelles",
          "Sierra Leone",
          "Singapore",
          "Sint Maarten (Dutch part)",
          "Slovakia",
          "Slovenia",
          "Solomon Islands",
          "Somalia",
          "South Africa",
          "South America",
          "South Korea",
          "South Sudan",
          "Spain",
          "Sri Lanka",
          "Sudan",
          "Suriname",
          "Sweden",
          "Switzerland",
          "Syria",
          "Taiwan",
          "Tajikistan",
          "Tanzania",
          "Thailand",
          "Timor",
          "Togo",
          "Tokelau",
          "Tonga",
          "Trinidad and Tobago",
          "Tunisia",
          "Turkey",
          "Turkmenistan",
          "Turks and Caicos Islands",
          "Tuvalu",
          "Uganda",
          "Ukraine",
          "United Arab Emirates",
          "United Kingdom",
          "United States",
          "United States Virgin Islands",
          "Upper middle income",
          "Uruguay",
          "Uzbekistan",
          "Vanuatu",
          "Vatican",
          "Venezuela",
          "Vietnam",
          "Wales",
          "Wallis and Futuna",
          "World",
          "Yemen",
          "Zambia",
          "Zimbabwe"
         ],
         "legendgroup": "",
         "marker": {
          "color": "#636efa",
          "symbol": "circle"
         },
         "mode": "markers",
         "name": "",
         "orientation": "v",
         "showlegend": false,
         "type": "scatter",
         "visible": true,
         "x": [
          9.13,
          8.74,
          36.28,
          12.49,
          null,
          64.37,
          11.04,
          58.09,
          62.77,
          67.63,
          24.89,
          74.21,
          56.12,
          75.47,
          70.64,
          45.15,
          35.94,
          80.01,
          23.8,
          51.01,
          33.86,
          75.75,
          49.13,
          9.88,
          70.42,
          72.22,
          37.58,
          61.87,
          22.29,
          39.31,
          66.62,
          54.27,
          89.24,
          28.24,
          2.86,
          0.03,
          81.46,
          2.36,
          76.55,
          43.15,
          82.78,
          6,
          0.46,
          84.41,
          84.68,
          54.6,
          29.41,
          2.28,
          73.38,
          67.66,
          7.68,
          48.47,
          86.27,
          50.54,
          67.84,
          63.48,
          0.12,
          76.63,
          2.33,
          37.96,
          50.76,
          70.5,
          18.58,
          65.6,
          70.41,
          12.14,
          null,
          62.42,
          25.07,
          null,
          60.55,
          68.3,
          76.3,
          46.7,
          65.13,
          73.73,
          73.21,
          null,
          51.94,
          7.25,
          9.22,
          30.68,
          70.96,
          6.97,
          122.61,
          67.8,
          67.36,
          28.26,
          null,
          null,
          26.27,
          21.5,
          6.68,
          1.1,
          36.37,
          0.64,
          68.87,
          41.18,
          62.25,
          60.01,
          76.14,
          42.57,
          41.26,
          57.81,
          12.67,
          77.33,
          77.43,
          62.89,
          75.73,
          20.05,
          80.44,
          69.49,
          34.86,
          43.9,
          7.69,
          17.28,
          43.92,
          75.35,
          14.95,
          41.16,
          68.22,
          33.36,
          31.55,
          14.24,
          12.12,
          null,
          66.62,
          3.76,
          34.53,
          5.85,
          66.4,
          1.83,
          3.46,
          75.62,
          70.15,
          1.74,
          81.73,
          null,
          null,
          16.2,
          70.02,
          null,
          57.08,
          null,
          30.01,
          70.34,
          63.66,
          43.51,
          33.36,
          61.39,
          18.46,
          24.05,
          11.05,
          57.13,
          31.88,
          65.97,
          59.74,
          74.37,
          41.82,
          1.77,
          2.05,
          58.91,
          58.76,
          null,
          39.01,
          72.09,
          68.38,
          null,
          72.31,
          55.75,
          63.42,
          29.93,
          null,
          28.87,
          63.61,
          2.17,
          43.48,
          64.86,
          42.94,
          100,
          52.8,
          83.15,
          null,
          82.31,
          null,
          39.76,
          46.14,
          39.45,
          null,
          65.38,
          53.73,
          27.42,
          null,
          null,
          25.24,
          54.75,
          64.19,
          22.52,
          63.67,
          73.49,
          5.3,
          46.68,
          73.05,
          4.2,
          83.1,
          56.94,
          43.44,
          56.09,
          7.72,
          4.6,
          26.44,
          63.24,
          81.67,
          1.66,
          79.63,
          63.41,
          2.63,
          36.93,
          68.78,
          null,
          3.53,
          67.63,
          29.09,
          2.51,
          64.6,
          39.74,
          11.54,
          51.14,
          52.99,
          43.68,
          47.93,
          60.47,
          0.3,
          59.34,
          51.91,
          2.98,
          34.65,
          95.96,
          70.26,
          63.36,
          null,
          71.47,
          78.43,
          32.06,
          15.43,
          null,
          41.02,
          69.7,
          72.66,
          51.08,
          48.64,
          0.64,
          6.08,
          19.21
         ],
         "xaxis": "x",
         "y": [
          1803.987,
          null,
          11803.431,
          13913.839,
          null,
          null,
          5819.495,
          null,
          21490.943,
          18933.907,
          8787.58,
          35973.781,
          null,
          44648.71,
          45436.686,
          15847.419,
          27717.847,
          43290.705,
          3523.984,
          16978.068,
          17167.967,
          42658.576,
          7824.362,
          2064.236,
          50669.315,
          8708.597,
          6885.829,
          null,
          11713.895,
          15807.374,
          14103.452,
          null,
          71809.251,
          18563.307,
          1703.102,
          702.225,
          3645.07,
          3364.926,
          44017.591,
          6222.554,
          49903.029,
          661.24,
          1768.153,
          22767.037,
          15308.712,
          13254.949,
          1413.89,
          4881.406,
          null,
          15524.995,
          3601.006,
          22669.797,
          null,
          null,
          32415.132,
          32605.906,
          808.133,
          46682.515,
          2705.406,
          9673.367,
          14600.861,
          10581.936,
          10550.206,
          7292.458,
          null,
          22604.873,
          1510.459,
          29481.252,
          7738.975,
          1729.927,
          null,
          null,
          null,
          null,
          8702.975,
          40585.721,
          38605.671,
          null,
          null,
          16562.413,
          1561.767,
          9745.079,
          45229.245,
          4227.63,
          null,
          24574.382,
          null,
          13593.877,
          null,
          null,
          7423.808,
          null,
          1998.926,
          1548.675,
          7435.047,
          1653.173,
          null,
          4541.795,
          56054.92,
          26777.561,
          46482.958,
          6426.674,
          11188.744,
          19082.62,
          15663.986,
          67335.293,
          null,
          33132.32,
          35220.084,
          8193.571,
          39002.223,
          null,
          8337.49,
          24055.588,
          2993.028,
          1981.132,
          9795.834,
          65530.537,
          3393.474,
          6397.36,
          25063.846,
          13367.565,
          2851.153,
          752.788,
          17881.509,
          null,
          29524.265,
          null,
          null,
          94277.965,
          104861.851,
          1416.44,
          1095.042,
          26808.164,
          15183.616,
          2014.306,
          36513.323,
          3819.202,
          null,
          3597.633,
          20292.745,
          null,
          17336.469,
          3299.464,
          5189.972,
          null,
          11840.846,
          16409.288,
          null,
          7485.013,
          1136.103,
          5591.597,
          9541.808,
          12895.635,
          2442.804,
          48472.545,
          null,
          36085.843,
          5321.444,
          926,
          5338.454,
          null,
          null,
          null,
          13111.214,
          null,
          null,
          null,
          64800.057,
          null,
          37960.709,
          5034.708,
          13240.405,
          4449.898,
          22267.037,
          3823.194,
          8827.01,
          12236.706,
          7599.188,
          null,
          27216.445,
          27936.896,
          35044.67,
          116935.6,
          null,
          23313.199,
          24765.954,
          1854.211,
          null,
          null,
          24654.385,
          12951.839,
          null,
          null,
          10727.146,
          6021.557,
          56861.47,
          3052.714,
          49045.411,
          null,
          2470.58,
          14048.881,
          26382.287,
          1390.3,
          85535.383,
          36327.232,
          30155.152,
          31400.84,
          2205.923,
          null,
          12294.876,
          null,
          35938.374,
          1569.888,
          34272.36,
          11669.077,
          4466.507,
          13767.119,
          46949.283,
          57410.166,
          null,
          null,
          2896.913,
          2683.304,
          16277.671,
          6570.102,
          1429.813,
          null,
          5425.621,
          28763.071,
          10849.297,
          25129.341,
          16389.023,
          null,
          3575.104,
          1697.707,
          7894.393,
          67293.483,
          39753.244,
          54225.446,
          null,
          null,
          20551.409,
          6253.104,
          2921.909,
          null,
          16745.022,
          6171.884,
          null,
          null,
          15469.207,
          1479.147,
          3689.251,
          1899.775
         ],
         "yaxis": "y"
        },
        {
         "hovertemplate": "<b>OLS trendline</b><br>gdp_per_capita = 480.998 * people_fully_vaccinated_per_hundred + -1158.38<br>R<sup>2</sup>=0.400222<br><br>People fully vaccinated per hundred=%{x}<br>GDP per capita=%{y} <b>(trend)</b><extra></extra>",
         "legendgroup": "",
         "line": {
          "color": "darkblue"
         },
         "marker": {
          "color": "#636efa",
          "symbol": "circle"
         },
         "mode": "lines",
         "name": "",
         "showlegend": false,
         "type": "scatter",
         "visible": true,
         "x": [
          0.03,
          0.12,
          0.3,
          0.46,
          0.64,
          0.64,
          1.1,
          1.66,
          1.74,
          1.77,
          1.83,
          2.05,
          2.17,
          2.28,
          2.33,
          2.36,
          2.51,
          2.63,
          2.86,
          2.98,
          3.46,
          4.2,
          5.3,
          5.85,
          6,
          6.08,
          6.68,
          6.97,
          7.25,
          7.68,
          7.69,
          7.72,
          9.13,
          9.22,
          9.88,
          11.04,
          11.05,
          11.54,
          12.12,
          12.14,
          12.49,
          12.67,
          14.24,
          14.95,
          15.43,
          16.2,
          17.28,
          18.46,
          18.58,
          19.21,
          20.05,
          22.29,
          22.52,
          23.8,
          24.05,
          24.89,
          25.07,
          25.24,
          26.27,
          26.44,
          27.42,
          28.24,
          28.26,
          28.87,
          29.09,
          29.41,
          29.93,
          30.01,
          30.68,
          31.55,
          31.88,
          32.06,
          33.36,
          33.86,
          34.65,
          34.86,
          35.94,
          36.28,
          36.37,
          36.93,
          37.58,
          37.96,
          39.01,
          39.31,
          39.45,
          39.74,
          39.76,
          41.02,
          41.16,
          41.18,
          41.26,
          41.82,
          42.57,
          42.94,
          43.15,
          43.44,
          43.48,
          43.51,
          43.68,
          43.9,
          43.92,
          45.15,
          46.14,
          46.68,
          47.93,
          48.47,
          48.64,
          49.13,
          50.76,
          51.01,
          51.91,
          52.8,
          52.99,
          53.73,
          54.6,
          54.75,
          56.09,
          56.94,
          57.08,
          57.13,
          57.81,
          60.01,
          60.47,
          61.39,
          62.25,
          62.42,
          62.77,
          62.89,
          63.36,
          63.41,
          63.42,
          63.48,
          63.61,
          63.66,
          63.67,
          64.19,
          64.6,
          64.86,
          65.13,
          65.6,
          65.97,
          66.4,
          66.62,
          66.62,
          67.63,
          67.66,
          67.8,
          67.84,
          68.22,
          68.78,
          69.7,
          70.02,
          70.15,
          70.26,
          70.42,
          70.5,
          70.64,
          70.96,
          72.22,
          72.31,
          73.05,
          73.21,
          73.73,
          74.21,
          74.37,
          75.35,
          75.47,
          75.62,
          75.73,
          75.75,
          76.14,
          76.55,
          76.63,
          77.33,
          78.43,
          79.63,
          80.01,
          80.44,
          81.46,
          81.67,
          81.73,
          82.31,
          82.78,
          83.1,
          83.15,
          84.41,
          84.68,
          89.24,
          95.96
         ],
         "xaxis": "x",
         "y": [
          -1143.9531152476902,
          -1100.663298723933,
          -1014.083665676418,
          -937.1239918564047,
          -850.5443588088899,
          -850.5443588088899,
          -629.2852965763518,
          -359.92643820630553,
          -321.4466012962989,
          -307.01666245504646,
          -278.1567847725414,
          -172.33723327002338,
          -114.6174779050134,
          -61.707702153754326,
          -37.65780408500018,
          -23.2278652437476,
          48.92182896251461,
          106.6415843275247,
          217.27111544379363,
          274.9908708088037,
          505.8698922688434,
          861.8083836864046,
          1390.9061411989953,
          1655.4550199552907,
          1727.6047141615534,
          1766.08455107156,
          2054.6833278966096,
          2194.1727366953837,
          2328.8521658804066,
          2535.6812892716925,
          2540.491268885443,
          2554.9212077266957,
          3233.128333265562,
          3276.4181497893196,
          3593.876804296874,
          4151.8344394919695,
          4156.644419105721,
          4392.3334201795105,
          4671.312237777059,
          4680.932197004561,
          4849.28148348584,
          4935.861116533355,
          5691.027915892235,
          6032.536468468543,
          6263.415489928583,
          6633.783920187397,
          7153.261718472486,
          7720.839312895085,
          7778.559068260092,
          8081.587783926396,
          8485.626071481465,
          9563.06150496165,
          9673.691036077918,
          10289.368426638026,
          10409.617916981797,
          10813.656204536866,
          10900.23583758438,
          10982.005491018144,
          11477.43339123448,
          11559.203044668244,
          12030.581046815825,
          12424.999375143392,
          12434.619334370895,
          12728.028090809696,
          12833.847642312212,
          12987.766989952239,
          13237.885929867281,
          13276.36576677729,
          13598.634400898594,
          14017.102627294917,
          14175.831954548692,
          14262.411587596209,
          14887.708937383815,
          15128.207918071357,
          15508.196307557671,
          15609.20587944644,
          16128.68367773153,
          16292.222984599059,
          16335.512801122812,
          16604.87165949286,
          16917.520334386663,
          17100.299559709198,
          17605.347419153033,
          17749.646807565558,
          17816.98652215807,
          17956.475930956844,
          17966.095890184344,
          18572.15332151695,
          18639.49303610946,
          18649.112995336964,
          18687.592832246966,
          18956.951690617014,
          19317.70016164833,
          19495.669407357105,
          19596.678979245873,
          19736.168388044647,
          19755.408306499652,
          19769.838245340903,
          19851.60789877467,
          19957.427450277188,
          19967.04740950469,
          20558.67490199604,
          21034.862883757374,
          21294.601782899917,
          21895.84923461877,
          22155.588133761314,
          22237.35778719508,
          22473.04678826887,
          23257.073465310255,
          23377.322955654025,
          23810.221120891598,
          24238.30930651542,
          24329.69891917669,
          24685.63741059425,
          25104.105636990575,
          25176.255331196833,
          25820.792599439446,
          26229.640866608264,
          26296.980581200776,
          26321.03047926953,
          26648.10909300459,
          27706.304608029768,
          27927.56367026231,
          28370.081794727383,
          28783.740041509955,
          28865.50969494372,
          29033.858981425,
          29091.57873679001,
          29317.647778636296,
          29341.697676705047,
          29346.5076563188,
          29375.367534001303,
          29437.89726898007,
          29461.94716704882,
          29466.757146662574,
          29716.876086577613,
          29914.085250741395,
          30039.14472069892,
          30169.01417027019,
          30395.08321211648,
          30573.052457825263,
          30779.881581216552,
          30885.701132719067,
          30885.701132719067,
          31371.509073707897,
          31385.93901254915,
          31453.278727141664,
          31472.51864559667,
          31655.2978709192,
          31924.656729289247,
          32367.17485375432,
          32521.094201394346,
          32583.62393637311,
          32636.53371212437,
          32713.49338594438,
          32751.973222854383,
          32819.3129374469,
          32973.232285086924,
          33579.28971641953,
          33622.579532943295,
          33978.51802436085,
          34055.47769818086,
          34305.59663809591,
          34536.475659555945,
          34613.435333375965,
          35084.81333552354,
          35142.53309088855,
          35214.68278509482,
          35267.592560846075,
          35277.212520073575,
          35464.80172500986,
          35662.01088917364,
          35700.49072608365,
          36037.18929904621,
          36566.2870565588,
          37143.48461020889,
          37326.26383553143,
          37533.09295892271,
          38023.71087952529,
          38124.72045141407,
          38153.58032909657,
          38432.55914669412,
          38658.62818854041,
          38812.54753618043,
          38836.59743424919,
          39442.65486558179,
          39572.52431515307,
          41765.875019023435,
          44998.18131946399
         ],
         "yaxis": "y"
        },
        {
         "hovertemplate": "<b>%{hovertext}</b><br><br>People fully vaccinated per hundred=%{x}<br>Excess mortality per million=%{y}<extra></extra>",
         "hovertext": [
          "Afghanistan",
          "Africa",
          "Albania",
          "Algeria",
          "American Samoa",
          "Andorra",
          "Angola",
          "Anguilla",
          "Antigua and Barbuda",
          "Argentina",
          "Armenia",
          "Aruba",
          "Asia",
          "Australia",
          "Austria",
          "Azerbaijan",
          "Bahamas",
          "Bahrain",
          "Bangladesh",
          "Barbados",
          "Belarus",
          "Belgium",
          "Belize",
          "Benin",
          "Bermuda",
          "Bhutan",
          "Bolivia",
          "Bonaire Sint Eustatius and Saba",
          "Bosnia and Herzegovina",
          "Botswana",
          "Brazil",
          "British Virgin Islands",
          "Brunei",
          "Bulgaria",
          "Burkina Faso",
          "Burundi",
          "Cambodia",
          "Cameroon",
          "Canada",
          "Cape Verde",
          "Cayman Islands",
          "Central African Republic",
          "Chad",
          "Chile",
          "China",
          "Colombia",
          "Comoros",
          "Congo",
          "Cook Islands",
          "Costa Rica",
          "Cote d'Ivoire",
          "Croatia",
          "Cuba",
          "Curacao",
          "Cyprus",
          "Czechia",
          "Democratic Republic of Congo",
          "Denmark",
          "Djibouti",
          "Dominica",
          "Dominican Republic",
          "Ecuador",
          "Egypt",
          "El Salvador",
          "England",
          "Equatorial Guinea",
          "Eritrea",
          "Estonia",
          "Eswatini",
          "Ethiopia",
          "Europe",
          "European Union",
          "Faeroe Islands",
          "Falkland Islands",
          "Fiji",
          "Finland",
          "France",
          "French Guiana",
          "French Polynesia",
          "Gabon",
          "Gambia",
          "Georgia",
          "Germany",
          "Ghana",
          "Gibraltar",
          "Greece",
          "Greenland",
          "Grenada",
          "Guadeloupe",
          "Guam",
          "Guatemala",
          "Guernsey",
          "Guinea",
          "Guinea-Bissau",
          "Guyana",
          "Haiti",
          "High income",
          "Honduras",
          "Hong Kong",
          "Hungary",
          "Iceland",
          "India",
          "Indonesia",
          "Iran",
          "Iraq",
          "Ireland",
          "Isle of Man",
          "Israel",
          "Italy",
          "Jamaica",
          "Japan",
          "Jersey",
          "Jordan",
          "Kazakhstan",
          "Kenya",
          "Kiribati",
          "Kosovo",
          "Kuwait",
          "Kyrgyzstan",
          "Laos",
          "Latvia",
          "Lebanon",
          "Lesotho",
          "Liberia",
          "Libya",
          "Liechtenstein",
          "Lithuania",
          "Low income",
          "Lower middle income",
          "Luxembourg",
          "Macao",
          "Madagascar",
          "Malawi",
          "Malaysia",
          "Maldives",
          "Mali",
          "Malta",
          "Marshall Islands",
          "Martinique",
          "Mauritania",
          "Mauritius",
          "Mayotte",
          "Mexico",
          "Micronesia (country)",
          "Moldova",
          "Monaco",
          "Mongolia",
          "Montenegro",
          "Montserrat",
          "Morocco",
          "Mozambique",
          "Myanmar",
          "Namibia",
          "Nauru",
          "Nepal",
          "Netherlands",
          "New Caledonia",
          "New Zealand",
          "Nicaragua",
          "Niger",
          "Nigeria",
          "Niue",
          "North America",
          "North Korea",
          "North Macedonia",
          "Northern Cyprus",
          "Northern Ireland",
          "Northern Mariana Islands",
          "Norway",
          "Oceania",
          "Oman",
          "Pakistan",
          "Palau",
          "Palestine",
          "Panama",
          "Papua New Guinea",
          "Paraguay",
          "Peru",
          "Philippines",
          "Pitcairn",
          "Poland",
          "Portugal",
          "Puerto Rico",
          "Qatar",
          "Reunion",
          "Romania",
          "Russia",
          "Rwanda",
          "Saint Barthelemy",
          "Saint Helena",
          "Saint Kitts and Nevis",
          "Saint Lucia",
          "Saint Martin (French part)",
          "Saint Pierre and Miquelon",
          "Saint Vincent and the Grenadines",
          "Samoa",
          "San Marino",
          "Sao Tome and Principe",
          "Saudi Arabia",
          "Scotland",
          "Senegal",
          "Serbia",
          "Seychelles",
          "Sierra Leone",
          "Singapore",
          "Sint Maarten (Dutch part)",
          "Slovakia",
          "Slovenia",
          "Solomon Islands",
          "Somalia",
          "South Africa",
          "South America",
          "South Korea",
          "South Sudan",
          "Spain",
          "Sri Lanka",
          "Sudan",
          "Suriname",
          "Sweden",
          "Switzerland",
          "Syria",
          "Taiwan",
          "Tajikistan",
          "Tanzania",
          "Thailand",
          "Timor",
          "Togo",
          "Tokelau",
          "Tonga",
          "Trinidad and Tobago",
          "Tunisia",
          "Turkey",
          "Turkmenistan",
          "Turks and Caicos Islands",
          "Tuvalu",
          "Uganda",
          "Ukraine",
          "United Arab Emirates",
          "United Kingdom",
          "United States",
          "United States Virgin Islands",
          "Upper middle income",
          "Uruguay",
          "Uzbekistan",
          "Vanuatu",
          "Vatican",
          "Venezuela",
          "Vietnam",
          "Wales",
          "Wallis and Futuna",
          "World",
          "Yemen",
          "Zambia",
          "Zimbabwe"
         ],
         "legendgroup": "",
         "marker": {
          "color": "#636efa",
          "symbol": "circle"
         },
         "mode": "markers",
         "name": "",
         "orientation": "v",
         "showlegend": false,
         "type": "scatter",
         "visible": false,
         "x": [
          9.13,
          8.74,
          36.28,
          12.49,
          null,
          64.37,
          11.04,
          58.09,
          62.77,
          67.63,
          24.89,
          74.21,
          56.12,
          75.47,
          70.64,
          45.15,
          35.94,
          80.01,
          23.8,
          51.01,
          33.86,
          75.75,
          49.13,
          9.88,
          70.42,
          72.22,
          37.58,
          61.87,
          22.29,
          39.31,
          66.62,
          54.27,
          89.24,
          28.24,
          2.86,
          0.03,
          81.46,
          2.36,
          76.55,
          43.15,
          82.78,
          6,
          0.46,
          84.41,
          84.68,
          54.6,
          29.41,
          2.28,
          73.38,
          67.66,
          7.68,
          48.47,
          86.27,
          50.54,
          67.84,
          63.48,
          0.12,
          76.63,
          2.33,
          37.96,
          50.76,
          70.5,
          18.58,
          65.6,
          70.41,
          12.14,
          null,
          62.42,
          25.07,
          null,
          60.55,
          68.3,
          76.3,
          46.7,
          65.13,
          73.73,
          73.21,
          null,
          51.94,
          7.25,
          9.22,
          30.68,
          70.96,
          6.97,
          122.61,
          67.8,
          67.36,
          28.26,
          null,
          null,
          26.27,
          21.5,
          6.68,
          1.1,
          36.37,
          0.64,
          68.87,
          41.18,
          62.25,
          60.01,
          76.14,
          42.57,
          41.26,
          57.81,
          12.67,
          77.33,
          77.43,
          62.89,
          75.73,
          20.05,
          80.44,
          69.49,
          34.86,
          43.9,
          7.69,
          17.28,
          43.92,
          75.35,
          14.95,
          41.16,
          68.22,
          33.36,
          31.55,
          14.24,
          12.12,
          null,
          66.62,
          3.76,
          34.53,
          5.85,
          66.4,
          1.83,
          3.46,
          75.62,
          70.15,
          1.74,
          81.73,
          null,
          null,
          16.2,
          70.02,
          null,
          57.08,
          null,
          30.01,
          70.34,
          63.66,
          43.51,
          33.36,
          61.39,
          18.46,
          24.05,
          11.05,
          57.13,
          31.88,
          65.97,
          59.74,
          74.37,
          41.82,
          1.77,
          2.05,
          58.91,
          58.76,
          null,
          39.01,
          72.09,
          68.38,
          null,
          72.31,
          55.75,
          63.42,
          29.93,
          null,
          28.87,
          63.61,
          2.17,
          43.48,
          64.86,
          42.94,
          100,
          52.8,
          83.15,
          null,
          82.31,
          null,
          39.76,
          46.14,
          39.45,
          null,
          65.38,
          53.73,
          27.42,
          null,
          null,
          25.24,
          54.75,
          64.19,
          22.52,
          63.67,
          73.49,
          5.3,
          46.68,
          73.05,
          4.2,
          83.1,
          56.94,
          43.44,
          56.09,
          7.72,
          4.6,
          26.44,
          63.24,
          81.67,
          1.66,
          79.63,
          63.41,
          2.63,
          36.93,
          68.78,
          null,
          3.53,
          67.63,
          29.09,
          2.51,
          64.6,
          39.74,
          11.54,
          51.14,
          52.99,
          43.68,
          47.93,
          60.47,
          0.3,
          59.34,
          51.91,
          2.98,
          34.65,
          95.96,
          70.26,
          63.36,
          null,
          71.47,
          78.43,
          32.06,
          15.43,
          null,
          41.02,
          69.7,
          72.66,
          51.08,
          48.64,
          0.64,
          6.08,
          19.21
         ],
         "xaxis": "x",
         "y": [
          null,
          null,
          5133.621,
          null,
          null,
          1773.4042,
          null,
          null,
          -654.30286,
          2887.6165,
          7123.4707,
          3305.7078,
          null,
          25.361595,
          1624.463,
          3567.9844,
          2630.418,
          null,
          null,
          -345.65652,
          3259.745,
          1740.7869,
          1351.3751,
          null,
          2743.993,
          -184.9518,
          4841.585,
          null,
          5846.379,
          null,
          3109.5383,
          null,
          89.361496,
          8238.763,
          null,
          null,
          null,
          null,
          647.67896,
          969.1532,
          null,
          null,
          null,
          1948.0808,
          null,
          3181.784,
          null,
          null,
          null,
          1156.1598,
          null,
          4073.8508,
          4765.7983,
          null,
          973.48236,
          3913.8223,
          null,
          136.87498,
          null,
          null,
          709.27246,
          3903.8044,
          2615.2344,
          null,
          null,
          null,
          null,
          2224.8745,
          null,
          null,
          null,
          null,
          null,
          null,
          2112.3389,
          513.8926,
          1214.0934,
          723.45374,
          1796.4862,
          null,
          null,
          5456.1704,
          1059.7295,
          null,
          599.4251,
          2277.9568,
          -1030.8179,
          null,
          2892.008,
          null,
          2470.815,
          null,
          null,
          null,
          null,
          null,
          null,
          null,
          427.77582,
          3645.2202,
          131.77153,
          null,
          null,
          2862.206,
          null,
          887.37134,
          null,
          808.1858,
          2820.8127,
          1801.8877,
          -105.506226,
          null,
          1349.3013,
          4203.1904,
          null,
          null,
          3848.5652,
          1548.0538,
          2226.1907,
          null,
          3835.3708,
          2354.636,
          null,
          null,
          null,
          1269.9062,
          5940.0317,
          null,
          null,
          57.091022,
          -6.9908032,
          null,
          null,
          782.71576,
          1109.1741,
          null,
          981.67834,
          null,
          2570.7769,
          null,
          845.0085,
          1294.8468,
          5099.9043,
          null,
          5128.843,
          4385.368,
          216.20276,
          4750.929,
          null,
          null,
          null,
          null,
          1225.8562,
          null,
          null,
          1624.4943,
          713.6677,
          -534.6675,
          2620.1414,
          null,
          null,
          null,
          null,
          null,
          6749.3965,
          null,
          null,
          null,
          217.26732,
          null,
          990.4271,
          null,
          null,
          922.9374,
          1724.4183,
          null,
          3308.9583,
          5476.6445,
          2023.2168,
          null,
          4015.026,
          2022.1362,
          1430.0541,
          342.45465,
          292.40308,
          5501.802,
          7421.1763,
          null,
          null,
          null,
          2204.4468,
          null,
          null,
          null,
          1232.5092,
          null,
          3961.862,
          null,
          null,
          null,
          null,
          6954.501,
          -1034.8779,
          null,
          309.37225,
          null,
          4486.1597,
          2374.3423,
          null,
          null,
          4027.1887,
          null,
          146.87982,
          null,
          2034.0842,
          null,
          null,
          2585.3645,
          935.4553,
          1327.0807,
          null,
          -143.52113,
          1681.3813,
          null,
          881.55066,
          null,
          null,
          null,
          null,
          null,
          2436.4612,
          2144.7422,
          null,
          null,
          null,
          null,
          4109.5923,
          386.49686,
          2028.0187,
          2833.2693,
          null,
          null,
          1048.4886,
          1048.3533,
          null,
          null,
          null,
          null,
          null,
          null,
          null,
          null,
          null,
          null
         ],
         "yaxis": "y"
        },
        {
         "hovertemplate": "<b>OLS trendline</b><br>excess_mortality_cumulative_per_million = -40.1445 * people_fully_vaccinated_per_hundred + 4596.57<br>R<sup>2</sup>=0.170592<br><br>People fully vaccinated per hundred=%{x}<br>Excess mortality per million=%{y} <b>(trend)</b><extra></extra>",
         "legendgroup": "",
         "line": {
          "color": "darkblue"
         },
         "marker": {
          "color": "#636efa",
          "symbol": "circle"
         },
         "mode": "lines",
         "name": "",
         "showlegend": false,
         "type": "scatter",
         "visible": false,
         "x": [
          5.85,
          11.05,
          14.95,
          18.58,
          20.05,
          22.29,
          24.89,
          25.24,
          26.27,
          26.44,
          28.24,
          28.87,
          29.09,
          30.01,
          30.68,
          32.06,
          33.36,
          33.86,
          34.65,
          34.86,
          35.94,
          36.28,
          36.93,
          37.58,
          39.01,
          39.76,
          41.82,
          42.94,
          43.15,
          43.44,
          43.48,
          43.51,
          43.9,
          43.92,
          45.15,
          46.14,
          46.68,
          47.93,
          48.47,
          49.13,
          50.76,
          51.01,
          51.94,
          52.8,
          53.73,
          54.6,
          56.09,
          57.08,
          57.81,
          59.74,
          60.01,
          60.47,
          62.25,
          62.42,
          62.77,
          62.89,
          63.36,
          63.42,
          63.48,
          63.61,
          63.66,
          64.19,
          64.37,
          64.6,
          64.86,
          65.13,
          65.97,
          66.4,
          66.62,
          66.62,
          67.36,
          67.63,
          67.63,
          67.66,
          67.8,
          67.84,
          68.22,
          68.78,
          70.02,
          70.15,
          70.26,
          70.34,
          70.42,
          70.5,
          70.64,
          70.96,
          72.22,
          72.31,
          73.05,
          73.21,
          73.73,
          74.21,
          74.37,
          75.35,
          75.47,
          75.62,
          75.73,
          75.75,
          76.14,
          76.55,
          76.63,
          77.33,
          78.43,
          79.63,
          80.44,
          81.67,
          81.73,
          82.31,
          83.1,
          83.15,
          84.41,
          86.27,
          89.24,
          95.96,
          122.61
         ],
         "xaxis": "x",
         "y": [
          4361.7241910167595,
          4152.972846460566,
          3996.4093380434206,
          3850.684841747462,
          3791.6724424209997,
          3701.7487863044853,
          3597.373114026388,
          3583.322542758183,
          3541.9737187403216,
          3535.1491555529074,
          3462.889074744994,
          3437.5980464622244,
          3428.766258807924,
          3391.833328617213,
          3364.936520760934,
          3309.537125474867,
          3257.3492893358184,
          3237.2770446669538,
          3205.5628980901474,
          3197.132555329224,
          3153.776506844476,
          3140.127380469648,
          3114.033462400124,
          3087.9395443305993,
          3030.5329245776466,
          3000.424557574349,
          2917.7269095386264,
          2872.765081480369,
          2864.334738719446,
          2852.692836811504,
          2851.087057237995,
          2849.8827225578634,
          2834.2263717161486,
          2833.423481929394,
          2784.045760043987,
          2744.302715599634,
          2722.6246913572604,
          2672.444079685098,
          2650.7660554427243,
          2624.2706924798226,
          2558.835174859323,
          2548.799052524891,
          2511.4646774408025,
          2476.940416610355,
          2439.606041526267,
          2404.6803358024417,
          2344.8650466892245,
          2305.1220022448724,
          2275.8165250283296,
          2198.3376606065117,
          2187.498648485325,
          2169.032183389969,
          2097.5749923688104,
          2090.750429181396,
          2076.699857913191,
          2071.8825191926635,
          2053.0146092039304,
          2050.6059398436664,
          2048.197270483403,
          2042.9784868694978,
          2040.9712624026115,
          2019.6946830536149,
          2012.4686749728235,
          2003.2354424251457,
          1992.797875197336,
          1981.958863076149,
          1948.237492032456,
          1930.975361617232,
          1922.143573962932,
          1922.143573962932,
          1892.4366518530119,
          1881.597639731825,
          1881.597639731825,
          1880.3933050516935,
          1874.7730765444112,
          1873.1672969709016,
          1857.9123910225644,
          1835.4314769934358,
          1785.6523102146516,
          1780.433526600746,
          1776.0176327735958,
          1772.8060736265775,
          1769.5945144795592,
          1766.3829553325409,
          1760.762726825259,
          1747.9164902371858,
          1697.3344336716464,
          1693.7214296312504,
          1664.0145075213309,
          1657.5913892272943,
          1636.7162547716744,
          1617.4468998895645,
          1611.0237815955275,
          1571.6821820445525,
          1566.864843324025,
          1560.8431699233652,
          1556.4272760962149,
          1555.6243863094605,
          1539.9680354677462,
          1523.508794839277,
          1520.2972356922587,
          1492.1960931558478,
          1448.037154884345,
          1399.86376767907,
          1367.3467313155088,
          1317.9690094301013,
          1315.5603400698374,
          1292.2765362539544,
          1260.562389677148,
          1258.5551652102613,
          1207.9731086447223,
          1133.3043584765455,
          1014.0752251434883,
          744.3042567939456,
          -325.54638405654896
         ],
         "yaxis": "y"
        }
       ],
       "layout": {
        "annotations": [
         {
          "align": "center",
          "font": {
           "size": 14
          },
          "showarrow": false,
          "text": "Figure 1.1",
          "x": 1,
          "xref": "paper",
          "y": -0.2,
          "yref": "paper"
         }
        ],
        "template": {
         "data": {
          "bar": [
           {
            "error_x": {
             "color": "#2a3f5f"
            },
            "error_y": {
             "color": "#2a3f5f"
            },
            "marker": {
             "line": {
              "color": "#E5ECF6",
              "width": 0.5
             },
             "pattern": {
              "fillmode": "overlay",
              "size": 10,
              "solidity": 0.2
             }
            },
            "type": "bar"
           }
          ],
          "barpolar": [
           {
            "marker": {
             "line": {
              "color": "#E5ECF6",
              "width": 0.5
             },
             "pattern": {
              "fillmode": "overlay",
              "size": 10,
              "solidity": 0.2
             }
            },
            "type": "barpolar"
           }
          ],
          "carpet": [
           {
            "aaxis": {
             "endlinecolor": "#2a3f5f",
             "gridcolor": "white",
             "linecolor": "white",
             "minorgridcolor": "white",
             "startlinecolor": "#2a3f5f"
            },
            "baxis": {
             "endlinecolor": "#2a3f5f",
             "gridcolor": "white",
             "linecolor": "white",
             "minorgridcolor": "white",
             "startlinecolor": "#2a3f5f"
            },
            "type": "carpet"
           }
          ],
          "choropleth": [
           {
            "colorbar": {
             "outlinewidth": 0,
             "ticks": ""
            },
            "type": "choropleth"
           }
          ],
          "contour": [
           {
            "colorbar": {
             "outlinewidth": 0,
             "ticks": ""
            },
            "colorscale": [
             [
              0,
              "#0d0887"
             ],
             [
              0.1111111111111111,
              "#46039f"
             ],
             [
              0.2222222222222222,
              "#7201a8"
             ],
             [
              0.3333333333333333,
              "#9c179e"
             ],
             [
              0.4444444444444444,
              "#bd3786"
             ],
             [
              0.5555555555555556,
              "#d8576b"
             ],
             [
              0.6666666666666666,
              "#ed7953"
             ],
             [
              0.7777777777777778,
              "#fb9f3a"
             ],
             [
              0.8888888888888888,
              "#fdca26"
             ],
             [
              1,
              "#f0f921"
             ]
            ],
            "type": "contour"
           }
          ],
          "contourcarpet": [
           {
            "colorbar": {
             "outlinewidth": 0,
             "ticks": ""
            },
            "type": "contourcarpet"
           }
          ],
          "heatmap": [
           {
            "colorbar": {
             "outlinewidth": 0,
             "ticks": ""
            },
            "colorscale": [
             [
              0,
              "#0d0887"
             ],
             [
              0.1111111111111111,
              "#46039f"
             ],
             [
              0.2222222222222222,
              "#7201a8"
             ],
             [
              0.3333333333333333,
              "#9c179e"
             ],
             [
              0.4444444444444444,
              "#bd3786"
             ],
             [
              0.5555555555555556,
              "#d8576b"
             ],
             [
              0.6666666666666666,
              "#ed7953"
             ],
             [
              0.7777777777777778,
              "#fb9f3a"
             ],
             [
              0.8888888888888888,
              "#fdca26"
             ],
             [
              1,
              "#f0f921"
             ]
            ],
            "type": "heatmap"
           }
          ],
          "heatmapgl": [
           {
            "colorbar": {
             "outlinewidth": 0,
             "ticks": ""
            },
            "colorscale": [
             [
              0,
              "#0d0887"
             ],
             [
              0.1111111111111111,
              "#46039f"
             ],
             [
              0.2222222222222222,
              "#7201a8"
             ],
             [
              0.3333333333333333,
              "#9c179e"
             ],
             [
              0.4444444444444444,
              "#bd3786"
             ],
             [
              0.5555555555555556,
              "#d8576b"
             ],
             [
              0.6666666666666666,
              "#ed7953"
             ],
             [
              0.7777777777777778,
              "#fb9f3a"
             ],
             [
              0.8888888888888888,
              "#fdca26"
             ],
             [
              1,
              "#f0f921"
             ]
            ],
            "type": "heatmapgl"
           }
          ],
          "histogram": [
           {
            "marker": {
             "pattern": {
              "fillmode": "overlay",
              "size": 10,
              "solidity": 0.2
             }
            },
            "type": "histogram"
           }
          ],
          "histogram2d": [
           {
            "colorbar": {
             "outlinewidth": 0,
             "ticks": ""
            },
            "colorscale": [
             [
              0,
              "#0d0887"
             ],
             [
              0.1111111111111111,
              "#46039f"
             ],
             [
              0.2222222222222222,
              "#7201a8"
             ],
             [
              0.3333333333333333,
              "#9c179e"
             ],
             [
              0.4444444444444444,
              "#bd3786"
             ],
             [
              0.5555555555555556,
              "#d8576b"
             ],
             [
              0.6666666666666666,
              "#ed7953"
             ],
             [
              0.7777777777777778,
              "#fb9f3a"
             ],
             [
              0.8888888888888888,
              "#fdca26"
             ],
             [
              1,
              "#f0f921"
             ]
            ],
            "type": "histogram2d"
           }
          ],
          "histogram2dcontour": [
           {
            "colorbar": {
             "outlinewidth": 0,
             "ticks": ""
            },
            "colorscale": [
             [
              0,
              "#0d0887"
             ],
             [
              0.1111111111111111,
              "#46039f"
             ],
             [
              0.2222222222222222,
              "#7201a8"
             ],
             [
              0.3333333333333333,
              "#9c179e"
             ],
             [
              0.4444444444444444,
              "#bd3786"
             ],
             [
              0.5555555555555556,
              "#d8576b"
             ],
             [
              0.6666666666666666,
              "#ed7953"
             ],
             [
              0.7777777777777778,
              "#fb9f3a"
             ],
             [
              0.8888888888888888,
              "#fdca26"
             ],
             [
              1,
              "#f0f921"
             ]
            ],
            "type": "histogram2dcontour"
           }
          ],
          "mesh3d": [
           {
            "colorbar": {
             "outlinewidth": 0,
             "ticks": ""
            },
            "type": "mesh3d"
           }
          ],
          "parcoords": [
           {
            "line": {
             "colorbar": {
              "outlinewidth": 0,
              "ticks": ""
             }
            },
            "type": "parcoords"
           }
          ],
          "pie": [
           {
            "automargin": true,
            "type": "pie"
           }
          ],
          "scatter": [
           {
            "fillpattern": {
             "fillmode": "overlay",
             "size": 10,
             "solidity": 0.2
            },
            "type": "scatter"
           }
          ],
          "scatter3d": [
           {
            "line": {
             "colorbar": {
              "outlinewidth": 0,
              "ticks": ""
             }
            },
            "marker": {
             "colorbar": {
              "outlinewidth": 0,
              "ticks": ""
             }
            },
            "type": "scatter3d"
           }
          ],
          "scattercarpet": [
           {
            "marker": {
             "colorbar": {
              "outlinewidth": 0,
              "ticks": ""
             }
            },
            "type": "scattercarpet"
           }
          ],
          "scattergeo": [
           {
            "marker": {
             "colorbar": {
              "outlinewidth": 0,
              "ticks": ""
             }
            },
            "type": "scattergeo"
           }
          ],
          "scattergl": [
           {
            "marker": {
             "colorbar": {
              "outlinewidth": 0,
              "ticks": ""
             }
            },
            "type": "scattergl"
           }
          ],
          "scattermapbox": [
           {
            "marker": {
             "colorbar": {
              "outlinewidth": 0,
              "ticks": ""
             }
            },
            "type": "scattermapbox"
           }
          ],
          "scatterpolar": [
           {
            "marker": {
             "colorbar": {
              "outlinewidth": 0,
              "ticks": ""
             }
            },
            "type": "scatterpolar"
           }
          ],
          "scatterpolargl": [
           {
            "marker": {
             "colorbar": {
              "outlinewidth": 0,
              "ticks": ""
             }
            },
            "type": "scatterpolargl"
           }
          ],
          "scatterternary": [
           {
            "marker": {
             "colorbar": {
              "outlinewidth": 0,
              "ticks": ""
             }
            },
            "type": "scatterternary"
           }
          ],
          "surface": [
           {
            "colorbar": {
             "outlinewidth": 0,
             "ticks": ""
            },
            "colorscale": [
             [
              0,
              "#0d0887"
             ],
             [
              0.1111111111111111,
              "#46039f"
             ],
             [
              0.2222222222222222,
              "#7201a8"
             ],
             [
              0.3333333333333333,
              "#9c179e"
             ],
             [
              0.4444444444444444,
              "#bd3786"
             ],
             [
              0.5555555555555556,
              "#d8576b"
             ],
             [
              0.6666666666666666,
              "#ed7953"
             ],
             [
              0.7777777777777778,
              "#fb9f3a"
             ],
             [
              0.8888888888888888,
              "#fdca26"
             ],
             [
              1,
              "#f0f921"
             ]
            ],
            "type": "surface"
           }
          ],
          "table": [
           {
            "cells": {
             "fill": {
              "color": "#EBF0F8"
             },
             "line": {
              "color": "white"
             }
            },
            "header": {
             "fill": {
              "color": "#C8D4E3"
             },
             "line": {
              "color": "white"
             }
            },
            "type": "table"
           }
          ]
         },
         "layout": {
          "annotationdefaults": {
           "arrowcolor": "#2a3f5f",
           "arrowhead": 0,
           "arrowwidth": 1
          },
          "autotypenumbers": "strict",
          "coloraxis": {
           "colorbar": {
            "outlinewidth": 0,
            "ticks": ""
           }
          },
          "colorscale": {
           "diverging": [
            [
             0,
             "#8e0152"
            ],
            [
             0.1,
             "#c51b7d"
            ],
            [
             0.2,
             "#de77ae"
            ],
            [
             0.3,
             "#f1b6da"
            ],
            [
             0.4,
             "#fde0ef"
            ],
            [
             0.5,
             "#f7f7f7"
            ],
            [
             0.6,
             "#e6f5d0"
            ],
            [
             0.7,
             "#b8e186"
            ],
            [
             0.8,
             "#7fbc41"
            ],
            [
             0.9,
             "#4d9221"
            ],
            [
             1,
             "#276419"
            ]
           ],
           "sequential": [
            [
             0,
             "#0d0887"
            ],
            [
             0.1111111111111111,
             "#46039f"
            ],
            [
             0.2222222222222222,
             "#7201a8"
            ],
            [
             0.3333333333333333,
             "#9c179e"
            ],
            [
             0.4444444444444444,
             "#bd3786"
            ],
            [
             0.5555555555555556,
             "#d8576b"
            ],
            [
             0.6666666666666666,
             "#ed7953"
            ],
            [
             0.7777777777777778,
             "#fb9f3a"
            ],
            [
             0.8888888888888888,
             "#fdca26"
            ],
            [
             1,
             "#f0f921"
            ]
           ],
           "sequentialminus": [
            [
             0,
             "#0d0887"
            ],
            [
             0.1111111111111111,
             "#46039f"
            ],
            [
             0.2222222222222222,
             "#7201a8"
            ],
            [
             0.3333333333333333,
             "#9c179e"
            ],
            [
             0.4444444444444444,
             "#bd3786"
            ],
            [
             0.5555555555555556,
             "#d8576b"
            ],
            [
             0.6666666666666666,
             "#ed7953"
            ],
            [
             0.7777777777777778,
             "#fb9f3a"
            ],
            [
             0.8888888888888888,
             "#fdca26"
            ],
            [
             1,
             "#f0f921"
            ]
           ]
          },
          "colorway": [
           "#636efa",
           "#EF553B",
           "#00cc96",
           "#ab63fa",
           "#FFA15A",
           "#19d3f3",
           "#FF6692",
           "#B6E880",
           "#FF97FF",
           "#FECB52"
          ],
          "font": {
           "color": "#2a3f5f"
          },
          "geo": {
           "bgcolor": "white",
           "lakecolor": "white",
           "landcolor": "#E5ECF6",
           "showlakes": true,
           "showland": true,
           "subunitcolor": "white"
          },
          "hoverlabel": {
           "align": "left"
          },
          "hovermode": "closest",
          "mapbox": {
           "style": "light"
          },
          "paper_bgcolor": "white",
          "plot_bgcolor": "#E5ECF6",
          "polar": {
           "angularaxis": {
            "gridcolor": "white",
            "linecolor": "white",
            "ticks": ""
           },
           "bgcolor": "#E5ECF6",
           "radialaxis": {
            "gridcolor": "white",
            "linecolor": "white",
            "ticks": ""
           }
          },
          "scene": {
           "xaxis": {
            "backgroundcolor": "#E5ECF6",
            "gridcolor": "white",
            "gridwidth": 2,
            "linecolor": "white",
            "showbackground": true,
            "ticks": "",
            "zerolinecolor": "white"
           },
           "yaxis": {
            "backgroundcolor": "#E5ECF6",
            "gridcolor": "white",
            "gridwidth": 2,
            "linecolor": "white",
            "showbackground": true,
            "ticks": "",
            "zerolinecolor": "white"
           },
           "zaxis": {
            "backgroundcolor": "#E5ECF6",
            "gridcolor": "white",
            "gridwidth": 2,
            "linecolor": "white",
            "showbackground": true,
            "ticks": "",
            "zerolinecolor": "white"
           }
          },
          "shapedefaults": {
           "line": {
            "color": "#2a3f5f"
           }
          },
          "ternary": {
           "aaxis": {
            "gridcolor": "white",
            "linecolor": "white",
            "ticks": ""
           },
           "baxis": {
            "gridcolor": "white",
            "linecolor": "white",
            "ticks": ""
           },
           "bgcolor": "#E5ECF6",
           "caxis": {
            "gridcolor": "white",
            "linecolor": "white",
            "ticks": ""
           }
          },
          "title": {
           "x": 0.05
          },
          "xaxis": {
           "automargin": true,
           "gridcolor": "white",
           "linecolor": "white",
           "ticks": "",
           "title": {
            "standoff": 15
           },
           "zerolinecolor": "white",
           "zerolinewidth": 2
          },
          "yaxis": {
           "automargin": true,
           "gridcolor": "white",
           "linecolor": "white",
           "ticks": "",
           "title": {
            "standoff": 15
           },
           "zerolinecolor": "white",
           "zerolinewidth": 2
          }
         }
        },
        "title": {
         "text": "Comparison of GDP per capita and people fully vaccinated per hundred by Country"
        },
        "updatemenus": [
         {
          "buttons": [
           {
            "args": [
             {
              "visible": [
               true,
               true,
               false,
               false
              ]
             },
             {
              "title.text": "Comparison of GDP per capita and people fully vaccinated per hundred by Country",
              "xaxis.title.text": "People fully vaccinated per hundred",
              "yaxis.title.text": "GDP per capita"
             }
            ],
            "label": "GDP per capita",
            "method": "update"
           },
           {
            "args": [
             {
              "visible": [
               false,
               false,
               true,
               true
              ]
             },
             {
              "title.text": "Comparison of excess mortality per million and people vaccinated per hundred by country",
              "xaxis.title.text": "People fully vaccinated per hundred",
              "yaxis.title.text": "Excess mortality per million"
             }
            ],
            "label": "Excess mortality",
            "method": "update"
           }
          ],
          "direction": "down",
          "showactive": true
         }
        ],
        "xaxis": {
         "title": {
          "text": "People fully vaccinated per hundred"
         }
        },
        "yaxis": {
         "title": {
          "text": "GDP per capita"
         }
        }
       }
      }
     },
     "metadata": {},
     "output_type": "display_data"
    }
   ],
   "source": [
    "import pandas as pd\n",
    "import plotly.express as px\n",
    "import plotly.graph_objects as go\n",
    "\n",
    "# Load the data\n",
    "df = pd.read_csv('owid-covid-data.csv')\n",
    "\n",
    "# Convert the date column to datetime\n",
    "df['date'] = pd.to_datetime(df['date'])\n",
    "\n",
    "# Filter the data for the year 2021\n",
    "df_2021 = df[df['date'].dt.year == 2021].copy()\n",
    "\n",
    "# Function to fill NaN values with the last available non-NaN value per country\n",
    "def fill_last_available(df, col):\n",
    "    df[col] = df.groupby('location')[col].ffill()\n",
    "    return df\n",
    "\n",
    "# Fill NaN values for the relevant columns\n",
    "df_2021 = fill_last_available(df_2021, 'excess_mortality_cumulative_per_million')\n",
    "df_2021 = fill_last_available(df_2021, 'people_fully_vaccinated_per_hundred')\n",
    "\n",
    "# Extract the last available data for each country in 2021\n",
    "df_last_2021 = df_2021.groupby('location').last().reset_index()\n",
    "\n",
    "# Ensure 'gdp_per_capita' and 'people_fully_vaccinated_per_hundred' are filled for merging\n",
    "df_last_2021 = fill_last_available(df_last_2021, 'gdp_per_capita')\n",
    "\n",
    "# Create the scatter plot for GDP vs vaccination\n",
    "fig_gdp = px.scatter(\n",
    "    df_last_2021,\n",
    "    x=\"people_fully_vaccinated_per_hundred\",\n",
    "    y=\"gdp_per_capita\",\n",
    "    hover_name=\"location\",\n",
    "    trendline=\"ols\",\n",
    "    trendline_color_override='darkblue',\n",
    "    title=\"Comparison of GDP per capita and people fully vaccinated per hundred by Country\",\n",
    "    labels={\n",
    "        \"gdp_per_capita\": \"GDP per capita\",\n",
    "        \"people_fully_vaccinated_per_hundred\": \"People fully vaccinated per hundred\"\n",
    "    }\n",
    ")\n",
    "\n",
    "# Create the scatter plot for excess mortality vs vaccination\n",
    "fig_mortality = px.scatter(\n",
    "    df_last_2021,\n",
    "    x=\"people_fully_vaccinated_per_hundred\",\n",
    "    y=\"excess_mortality_cumulative_per_million\",\n",
    "    hover_name=\"location\",\n",
    "    trendline=\"ols\",\n",
    "    trendline_color_override='darkblue',\n",
    "    title=\"Comparison of excess mortality per million and people vaccinated per hundred by country\",\n",
    "    labels={\n",
    "        \"excess_mortality_cumulative_per_million\": \"Excess mortality per million\",\n",
    "        \"people_fully_vaccinated_per_hundred\": \"People fully vaccinated per hundred\"\n",
    "    },\n",
    ")\n",
    "\n",
    "# Create a figure with subplots\n",
    "fig = go.Figure()\n",
    "\n",
    "# Add GDP traces, initially visible\n",
    "for trace in fig_gdp.data:\n",
    "    fig.add_trace(trace)\n",
    "    fig.data[-1].visible = True\n",
    "\n",
    "# Add mortality traces, initially invisible\n",
    "for trace in fig_mortality.data:\n",
    "    fig.add_trace(trace)\n",
    "    fig.data[-1].visible = False\n",
    "\n",
    "# Set initial title and axis labels\n",
    "fig.update_layout(\n",
    "    title=\"Comparison of GDP per capita and people fully vaccinated per hundred by Country\",\n",
    "    xaxis_title=\"People fully vaccinated per hundred\",\n",
    "    yaxis_title=\"GDP per capita\"\n",
    ")\n",
    "\n",
    "# Update layout to add dropdown menu\n",
    "fig.update_layout(\n",
    "    updatemenus=[\n",
    "        dict(\n",
    "            buttons=list([\n",
    "                dict(\n",
    "                    args=[\n",
    "                        {\"visible\": [True] * len(fig_gdp.data) + [False] * len(fig_mortality.data)},\n",
    "                        {\"title.text\": \"Comparison of GDP per capita and people fully vaccinated per hundred by Country\",\n",
    "                         \"xaxis.title.text\": \"People fully vaccinated per hundred\",\n",
    "                         \"yaxis.title.text\": \"GDP per capita\"}\n",
    "                    ],\n",
    "                    label=\"GDP per capita\",\n",
    "                    method=\"update\"\n",
    "                ),\n",
    "                dict(\n",
    "                    args=[\n",
    "                        {\"visible\": [False] * len(fig_gdp.data) + [True] * len(fig_mortality.data)},\n",
    "                        {\"title.text\": \"Comparison of excess mortality per million and people vaccinated per hundred by country\",\n",
    "                         \"xaxis.title.text\": \"People fully vaccinated per hundred\",\n",
    "                         \"yaxis.title.text\": \"Excess mortality per million\"}\n",
    "                    ],\n",
    "                    label=\"Excess mortality\",\n",
    "                    method=\"update\"\n",
    "                )\n",
    "            ]),\n",
    "            direction=\"down\",\n",
    "            showactive=True\n",
    "        )\n",
    "    ]\n",
    ")\n",
    "\n",
    "# Add annotation\n",
    "fig.add_annotation(text=\"Figure 1.1\", xref=\"paper\", yref=\"paper\", x=1, y=-0.2, showarrow=False, align=\"center\", font=dict(size=14))\n",
    "\n",
    "# Show the figure\n",
    "fig.show()\n"
   ]
  },
  {
   "cell_type": "code",
   "execution_count": 86,
   "metadata": {
    "tags": [
     "remove_input"
    ]
   },
   "outputs": [
    {
     "data": {
      "text/html": [
       "<style type=\"text/css\">\n",
       "</style>\n",
       "<table id=\"T_fd645\">\n",
       "  <caption><span style=\"font-size: 16px;\">Correlation between People fully vaccinated per hundred and Excess mortality cumulative per million</span></caption>\n",
       "  <thead>\n",
       "    <tr>\n",
       "      <th class=\"blank level0\" >&nbsp;</th>\n",
       "      <th id=\"T_fd645_level0_col0\" class=\"col_heading level0 col0\" >People fully vaccinated per hundred</th>\n",
       "      <th id=\"T_fd645_level0_col1\" class=\"col_heading level0 col1\" >Excess mortality cumulative per million</th>\n",
       "    </tr>\n",
       "  </thead>\n",
       "  <tbody>\n",
       "    <tr>\n",
       "      <th id=\"T_fd645_level0_row0\" class=\"row_heading level0 row0\" >People fully vaccinated per hundred</th>\n",
       "      <td id=\"T_fd645_row0_col0\" class=\"data row0 col0\" >1.000000</td>\n",
       "      <td id=\"T_fd645_row0_col1\" class=\"data row0 col1\" >-0.413027</td>\n",
       "    </tr>\n",
       "    <tr>\n",
       "      <th id=\"T_fd645_level0_row1\" class=\"row_heading level0 row1\" >Excess mortality cumulative per million</th>\n",
       "      <td id=\"T_fd645_row1_col0\" class=\"data row1 col0\" >-0.413027</td>\n",
       "      <td id=\"T_fd645_row1_col1\" class=\"data row1 col1\" >1.000000</td>\n",
       "    </tr>\n",
       "  </tbody>\n",
       "</table>\n"
      ],
      "text/plain": [
       "<pandas.io.formats.style.Styler at 0x70779fa93df0>"
      ]
     },
     "metadata": {},
     "output_type": "display_data"
    },
    {
     "name": "stdout",
     "output_type": "stream",
     "text": [
      "Figure 1.2\n"
     ]
    },
    {
     "data": {
      "text/html": [
       "<style type=\"text/css\">\n",
       "</style>\n",
       "<table id=\"T_0e0f4\">\n",
       "  <caption><span style=\"font-size: 16px;\">Correlation between People fully vaccinated per hundred and GDP per capita</span></caption>\n",
       "  <thead>\n",
       "    <tr>\n",
       "      <th class=\"blank level0\" >&nbsp;</th>\n",
       "      <th id=\"T_0e0f4_level0_col0\" class=\"col_heading level0 col0\" >People fully vaccinated per hundred</th>\n",
       "      <th id=\"T_0e0f4_level0_col1\" class=\"col_heading level0 col1\" >GDP per capita</th>\n",
       "    </tr>\n",
       "  </thead>\n",
       "  <tbody>\n",
       "    <tr>\n",
       "      <th id=\"T_0e0f4_level0_row0\" class=\"row_heading level0 row0\" >People fully vaccinated per hundred</th>\n",
       "      <td id=\"T_0e0f4_row0_col0\" class=\"data row0 col0\" >1.000000</td>\n",
       "      <td id=\"T_0e0f4_row0_col1\" class=\"data row0 col1\" >0.632631</td>\n",
       "    </tr>\n",
       "    <tr>\n",
       "      <th id=\"T_0e0f4_level0_row1\" class=\"row_heading level0 row1\" >GDP per capita</th>\n",
       "      <td id=\"T_0e0f4_row1_col0\" class=\"data row1 col0\" >0.632631</td>\n",
       "      <td id=\"T_0e0f4_row1_col1\" class=\"data row1 col1\" >1.000000</td>\n",
       "    </tr>\n",
       "  </tbody>\n",
       "</table>\n"
      ],
      "text/plain": [
       "<pandas.io.formats.style.Styler at 0x70779fa93df0>"
      ]
     },
     "metadata": {},
     "output_type": "display_data"
    },
    {
     "name": "stdout",
     "output_type": "stream",
     "text": [
      "Figure 1.3\n"
     ]
    }
   ],
   "source": [
    "\n",
    "\n",
    "from IPython.display import display, HTML\n",
    "\n",
    "df_renamed = df_last_2021.rename(columns={\n",
    "    'gdp_per_capita': 'GDP per capita',\n",
    "    'people_fully_vaccinated_per_hundred': 'People fully vaccinated per hundred',\n",
    "    'excess_mortality_cumulative_per_million': 'Excess mortality cumulative per million'\n",
    "})\n",
    "\n",
    "# Calculate the first correlation matrix with corrected column names\n",
    "corr1 = df_renamed[['People fully vaccinated per hundred', 'Excess mortality cumulative per million']].corr()\n",
    "\n",
    "# Calculate the second correlation matrix with corrected column names\n",
    "corr2 = df_renamed[['People fully vaccinated per hundred', 'GDP per capita']].corr()\n",
    "\n",
    "# Display the first correlation matrix with a larger title\n",
    "display(corr1.style.set_caption('<span style=\"font-size: 16px;\">Correlation between People fully vaccinated per hundred and Excess mortality cumulative per million</span>'))\n",
    "print(\"Figure 1.2\")\n",
    "# Display the second correlation matrix with a larger title\n",
    "display(corr2.style.set_caption('<span style=\"font-size: 16px;\">Correlation between People fully vaccinated per hundred and GDP per capita</span>'))# Corrected code to rename columns and calculate correlation matrices\n",
    "print(\"Figure 1.3\")"
   ]
  },
  {
   "cell_type": "markdown",
   "metadata": {},
   "source": [
    "As you can see in figure 1.1, the relationship between the amount of fully vaccinated people per 100 inhabitants and excess deaths per million inhabitants has a correlation coefficient of approximately -0,4 (figure 1.2). In the graph you can see that the trendline goes down for excess mortality, the more people are vaccinated. \n",
    "\n",
    "In the second plot of figure 1.1 you can see the relationship between the GDP per capita and again the amount of people fully vaccinated. With a correlation coefficient of approximately 0,6 (figure 1.3), this is a significant correlation between the income of a country per inhabitant and the amount of people vaccinated per 100. In this graph you can see the trendline is slightly rising, meaning that regions with a higher GDP tend to have more vaccinated people.\n",
    "\n",
    "\n",
    "\n"
   ]
  },
  {
   "cell_type": "markdown",
   "metadata": {
    "tags": [
     "remove_input"
    ]
   },
   "source": [
    "#### Argument 2: \n",
    "**Countries with a lower GDP per capita have less resources to spend on testing and recording data which makes it seem like they are performing better at handling the pandemic**\n",
    "\n",
    "To visualize how GDP per capita impacts various factors, we can use a parallel categories plot to visualize the correlations between these categories. This type of plot will help us understand how countries with lower GDP per capita might appear to manage the pandemic more effectively due to limited resources for testing and data recording. We have chosen to use data from the year 2021 because this is the year when the majority of people began to receive vaccinations(Rijksoverheid, 2020).\n"
   ]
  },
  {
   "cell_type": "code",
   "execution_count": 56,
   "metadata": {
    "tags": [
     "remove_input"
    ]
   },
   "outputs": [
    {
     "data": {
      "application/vnd.plotly.v1+json": {
       "config": {
        "plotlyServerURL": "https://plot.ly"
       },
       "data": [
        {
         "arrangement": "freeform",
         "dimensions": [
          {
           "categoryarray": [
            "low",
            "medium",
            "high"
           ],
           "categoryorder": "array",
           "label": "GDP 2021",
           "values": [
            "low",
            "medium",
            "medium",
            "nan",
            "high",
            "low",
            "medium",
            "medium",
            "medium",
            "high",
            "high",
            "high",
            "medium",
            "high",
            "low",
            "medium",
            "high",
            "high",
            "medium",
            "low",
            "high",
            "medium",
            "medium",
            "medium",
            "medium",
            "medium",
            "nan",
            "high",
            "low",
            "low",
            "low",
            "low",
            "high",
            "high",
            "low",
            "low",
            "high",
            "medium",
            "medium",
            "low",
            "medium",
            "low",
            "high",
            "nan",
            "medium",
            "high",
            "high",
            "high",
            "low",
            "medium",
            "medium",
            "medium",
            "medium",
            "medium",
            "nan",
            "high",
            "medium",
            "low",
            "medium",
            "high",
            "high",
            "nan",
            "medium",
            "medium",
            "high",
            "low",
            "nan",
            "high",
            "high",
            "medium",
            "nan",
            "medium",
            "low",
            "low",
            "medium",
            "low",
            "low",
            "high",
            "high",
            "low",
            "medium",
            "medium",
            "high",
            "nan",
            "high",
            "high",
            "medium",
            "high",
            "medium",
            "high",
            "low",
            "low",
            "medium",
            "high",
            "high",
            "medium",
            "low",
            "low",
            "medium",
            "nan",
            "high",
            "high",
            "low",
            "low",
            "high",
            "medium",
            "low",
            "high",
            "low",
            "low",
            "medium",
            "medium",
            "medium",
            "nan",
            "medium",
            "medium",
            "low",
            "low",
            "low",
            "medium",
            "medium",
            "low",
            "high",
            "nan",
            "high",
            "low",
            "low",
            "low",
            "medium",
            "nan",
            "high",
            "high",
            "low",
            "medium",
            "high",
            "low",
            "medium",
            "medium",
            "low",
            "high",
            "high",
            "high",
            "high",
            "high",
            "low",
            "low",
            "high",
            "low",
            "high",
            "low",
            "medium",
            "medium",
            "low",
            "high",
            "high",
            "high",
            "low",
            "low",
            "medium",
            "nan",
            "high",
            "medium",
            "low",
            "medium",
            "high",
            "high",
            "low",
            "low",
            "medium",
            "low",
            "low",
            "high",
            "medium",
            "nan",
            "medium",
            "low",
            "low",
            "medium",
            "high",
            "high",
            "high",
            "high",
            "low",
            "low",
            "low",
            "low"
           ]
          },
          {
           "categoryarray": [
            "low",
            "medium",
            "high"
           ],
           "categoryorder": "array",
           "label": "Total Deaths",
           "values": [
            "low",
            "medium",
            "low",
            "nan",
            "medium",
            "low",
            "high",
            "high",
            "high",
            "high",
            "low",
            "high",
            "medium",
            "medium",
            "low",
            "medium",
            "medium",
            "medium",
            "medium",
            "low",
            "high",
            "nan",
            "medium",
            "high",
            "high",
            "high",
            "high",
            "high",
            "low",
            "low",
            "nan",
            "low",
            "medium",
            "low",
            "low",
            "low",
            "high",
            "low",
            "high",
            "low",
            "high",
            "low",
            "high",
            "medium",
            "high",
            "medium",
            "high",
            "medium",
            "low",
            "nan",
            "low",
            "high",
            "medium",
            "low",
            "low",
            "high",
            "high",
            "low",
            "medium",
            "medium",
            "high",
            "high",
            "low",
            "high",
            "medium",
            "low",
            "high",
            "high",
            "nan",
            "nan",
            "medium",
            "medium",
            "low",
            "low",
            "high",
            "low",
            "medium",
            "high",
            "low",
            "medium",
            "medium",
            "medium",
            "medium",
            "medium",
            "medium",
            "high",
            "medium",
            "low",
            "medium",
            "medium",
            "low",
            "nan",
            "high",
            "medium",
            "high",
            "high",
            "medium",
            "low",
            "medium",
            "medium",
            "high",
            "medium",
            "low",
            "low",
            "high",
            "medium",
            "low",
            "medium",
            "nan",
            "low",
            "medium",
            "high",
            "high",
            "high",
            "medium",
            "high",
            "medium",
            "low",
            "medium",
            "high",
            "nan",
            "medium",
            "medium",
            "nan",
            "low",
            "low",
            "low",
            "low",
            "high",
            "medium",
            "low",
            "medium",
            "low",
            "nan",
            "medium",
            "low",
            "high",
            "high",
            "medium",
            "high",
            "high",
            "medium",
            "low",
            "high",
            "low",
            "nan",
            "high",
            "medium",
            "low",
            "low",
            "high",
            "nan",
            "low",
            "low",
            "high",
            "high",
            "nan",
            "low",
            "high",
            "low",
            "medium",
            "medium",
            "low",
            "high",
            "medium",
            "medium",
            "low",
            "low",
            "medium",
            "low",
            "nan",
            "high",
            "high",
            "nan",
            "medium",
            "nan",
            "low",
            "high",
            "low",
            "high",
            "high",
            "high",
            "nan",
            "nan",
            "low",
            "medium"
           ]
          },
          {
           "categoryarray": [
            "low",
            "medium",
            "high"
           ],
           "categoryorder": "array",
           "label": "Total Cases",
           "values": [
            "low",
            "medium",
            "low",
            "nan",
            "high",
            "low",
            "medium",
            "high",
            "medium",
            "high",
            "medium",
            "high",
            "medium",
            "high",
            "low",
            "high",
            "medium",
            "high",
            "medium",
            "low",
            "high",
            "low",
            "medium",
            "medium",
            "high",
            "high",
            "high",
            "high",
            "low",
            "low",
            "low",
            "low",
            "medium",
            "high",
            "low",
            "low",
            "medium",
            "low",
            "high",
            "low",
            "high",
            "low",
            "high",
            "high",
            "high",
            "high",
            "high",
            "high",
            "low",
            "high",
            "medium",
            "medium",
            "low",
            "low",
            "low",
            "high",
            "medium",
            "low",
            "medium",
            "medium",
            "high",
            "high",
            "low",
            "high",
            "medium",
            "low",
            "high",
            "high",
            "medium",
            "medium",
            "medium",
            "medium",
            "low",
            "low",
            "medium",
            "low",
            "medium",
            "high",
            "medium",
            "medium",
            "medium",
            "medium",
            "high",
            "high",
            "high",
            "medium",
            "medium",
            "low",
            "high",
            "medium",
            "low",
            "nan",
            "medium",
            "medium",
            "high",
            "high",
            "low",
            "low",
            "medium",
            "high",
            "high",
            "high",
            "low",
            "low",
            "high",
            "high",
            "low",
            "medium",
            "low",
            "low",
            "high",
            "medium",
            "high",
            "high",
            "high",
            "high",
            "medium",
            "low",
            "low",
            "medium",
            "nan",
            "medium",
            "high",
            "medium",
            "low",
            "low",
            "low",
            "low",
            "medium",
            "medium",
            "medium",
            "medium",
            "low",
            "nan",
            "medium",
            "low",
            "medium",
            "medium",
            "medium",
            "high",
            "high",
            "medium",
            "medium",
            "medium",
            "low",
            "low",
            "high",
            "low",
            "low",
            "low",
            "high",
            "high",
            "low",
            "medium",
            "high",
            "high",
            "low",
            "low",
            "medium",
            "low",
            "high",
            "medium",
            "low",
            "high",
            "high",
            "high",
            "low",
            "low",
            "medium",
            "low",
            "nan",
            "medium",
            "medium",
            "nan",
            "medium",
            "nan",
            "low",
            "medium",
            "medium",
            "high",
            "high",
            "high",
            "low",
            "low",
            "low",
            "low"
           ]
          },
          {
           "categoryarray": [
            "low",
            "medium",
            "high"
           ],
           "categoryorder": "array",
           "label": "People Vaccinated",
           "values": [
            "low",
            "medium",
            "low",
            "nan",
            "high",
            "low",
            "medium",
            "high",
            "low",
            "high",
            "high",
            "high",
            "medium",
            "high",
            "medium",
            "medium",
            "medium",
            "high",
            "medium",
            "low",
            "high",
            "high",
            "medium",
            "low",
            "medium",
            "high",
            "medium",
            "low",
            "low",
            "low",
            "high",
            "low",
            "high",
            "high",
            "low",
            "low",
            "high",
            "high",
            "high",
            "medium",
            "high",
            "low",
            "medium",
            "high",
            "medium",
            "high",
            "medium",
            "high",
            "low",
            "medium",
            "medium",
            "high",
            "high",
            "low",
            "nan",
            "medium",
            "low",
            "low",
            "high",
            "high",
            "high",
            "medium",
            "low",
            "low",
            "high",
            "low",
            "high",
            "high",
            "high",
            "low",
            "nan",
            "low",
            "low",
            "low",
            "medium",
            "low",
            "medium",
            "medium",
            "high",
            "medium",
            "medium",
            "low",
            "high",
            "high",
            "medium",
            "high",
            "low",
            "high",
            "medium",
            "medium",
            "low",
            "medium",
            "medium",
            "high",
            "high",
            "medium",
            "low",
            "low",
            "low",
            "medium",
            "medium",
            "high",
            "low",
            "low",
            "high",
            "high",
            "low",
            "high",
            "nan",
            "low",
            "high",
            "medium",
            "low",
            "high",
            "medium",
            "medium",
            "medium",
            "low",
            "low",
            "low",
            "medium",
            "medium",
            "high",
            "medium",
            "high",
            "medium",
            "low",
            "low",
            "medium",
            "nan",
            "high",
            "medium",
            "medium",
            "nan",
            "high",
            "low",
            "medium",
            "high",
            "medium",
            "medium",
            "high",
            "nan",
            "high",
            "low",
            "medium",
            "medium",
            "high",
            "low",
            "medium",
            "low",
            "medium",
            "high",
            "low",
            "high",
            "medium",
            "medium",
            "low",
            "low",
            "low",
            "low",
            "high",
            "high",
            "low",
            "medium",
            "high",
            "medium",
            "low",
            "low",
            "high",
            "low",
            "medium",
            "medium",
            "medium",
            "low",
            "medium",
            "medium",
            "low",
            "low",
            "high",
            "high",
            "high",
            "high",
            "medium",
            "low",
            "low",
            "low"
           ]
          },
          {
           "categoryarray": [
            "low",
            "medium",
            "high"
           ],
           "categoryorder": "array",
           "label": "Total Tests",
           "values": [
            "nan",
            "medium",
            "nan",
            "nan",
            "high",
            "nan",
            "low",
            "medium",
            "medium",
            "nan",
            "high",
            "high",
            "nan",
            "high",
            "low",
            "nan",
            "medium",
            "high",
            "nan",
            "nan",
            "nan",
            "high",
            "low",
            "medium",
            "medium",
            "low",
            "nan",
            "medium",
            "nan",
            "nan",
            "nan",
            "nan",
            "medium",
            "nan",
            "nan",
            "nan",
            "high",
            "nan",
            "medium",
            "nan",
            "medium",
            "low",
            "medium",
            "medium",
            "nan",
            "high",
            "high",
            "high",
            "nan",
            "nan",
            "low",
            "low",
            "low",
            "nan",
            "nan",
            "high",
            "nan",
            "low",
            "medium",
            "high",
            "high",
            "nan",
            "nan",
            "high",
            "medium",
            "low",
            "nan",
            "high",
            "nan",
            "nan",
            "medium",
            "low",
            "nan",
            "nan",
            "nan",
            "nan",
            "nan",
            "medium",
            "high",
            "medium",
            "nan",
            "medium",
            "high",
            "nan",
            "high",
            "high",
            "low",
            "low",
            "medium",
            "medium",
            "low",
            "nan",
            "nan",
            "high",
            "high",
            "nan",
            "nan",
            "nan",
            "nan",
            "high",
            "high",
            "high",
            "low",
            "low",
            "high",
            "high",
            "nan",
            "high",
            "low",
            "low",
            "nan",
            "low",
            "nan",
            "nan",
            "high",
            "nan",
            "low",
            "low",
            "low",
            "medium",
            "nan",
            "low",
            "medium",
            "nan",
            "medium",
            "nan",
            "nan",
            "low",
            "medium",
            "medium",
            "high",
            "nan",
            "low",
            "nan",
            "medium",
            "nan",
            "low",
            "medium",
            "low",
            "medium",
            "high",
            "medium",
            "nan",
            "medium",
            "low",
            "nan",
            "nan",
            "nan",
            "medium",
            "low",
            "medium",
            "nan",
            "nan",
            "nan",
            "nan",
            "medium",
            "nan",
            "nan",
            "low",
            "low",
            "high",
            "medium",
            "nan",
            "low",
            "high",
            "high",
            "nan",
            "nan",
            "low",
            "low",
            "nan",
            "medium",
            "nan",
            "nan",
            "nan",
            "nan",
            "low",
            "medium",
            "high",
            "high",
            "high",
            "high",
            "nan",
            "nan",
            "low",
            "low"
           ]
          },
          {
           "categoryarray": [
            "low",
            "medium",
            "high"
           ],
           "categoryorder": "array",
           "label": "Excess Mortality",
           "values": [
            "nan",
            "high",
            "nan",
            "nan",
            "low",
            "nan",
            "low",
            "high",
            "high",
            "high",
            "low",
            "medium",
            "medium",
            "nan",
            "nan",
            "low",
            "medium",
            "low",
            "medium",
            "nan",
            "high",
            "low",
            "high",
            "high",
            "nan",
            "high",
            "nan",
            "high",
            "nan",
            "nan",
            "nan",
            "nan",
            "low",
            "nan",
            "nan",
            "nan",
            "medium",
            "nan",
            "high",
            "nan",
            "medium",
            "nan",
            "high",
            "high",
            "nan",
            "low",
            "high",
            "low",
            "nan",
            "nan",
            "low",
            "medium",
            "nan",
            "nan",
            "nan",
            "high",
            "nan",
            "nan",
            "medium",
            "low",
            "low",
            "medium",
            "nan",
            "high",
            "low",
            "nan",
            "medium",
            "medium",
            "low",
            "nan",
            "nan",
            "medium",
            "nan",
            "nan",
            "nan",
            "nan",
            "nan",
            "high",
            "low",
            "nan",
            "nan",
            "nan",
            "low",
            "nan",
            "low",
            "medium",
            "medium",
            "low",
            "medium",
            "high",
            "nan",
            "nan",
            "medium",
            "medium",
            "high",
            "medium",
            "nan",
            "nan",
            "nan",
            "low",
            "high",
            "low",
            "nan",
            "nan",
            "medium",
            "medium",
            "nan",
            "low",
            "nan",
            "nan",
            "medium",
            "high",
            "high",
            "high",
            "low",
            "high",
            "nan",
            "nan",
            "nan",
            "medium",
            "nan",
            "nan",
            "medium",
            "medium",
            "low",
            "medium",
            "nan",
            "nan",
            "high",
            "nan",
            "low",
            "low",
            "nan",
            "nan",
            "medium",
            "nan",
            "high",
            "high",
            "high",
            "high",
            "medium",
            "medium",
            "low",
            "high",
            "nan",
            "nan",
            "medium",
            "nan",
            "nan",
            "nan",
            "high",
            "low",
            "nan",
            "low",
            "nan",
            "medium",
            "nan",
            "nan",
            "high",
            "nan",
            "low",
            "nan",
            "nan",
            "high",
            "low",
            "low",
            "low",
            "nan",
            "medium",
            "nan",
            "nan",
            "nan",
            "high",
            "nan",
            "nan",
            "nan",
            "nan",
            "high",
            "low",
            "medium",
            "medium",
            "medium",
            "low",
            "nan",
            "nan",
            "nan"
           ]
          }
         ],
         "hoverinfo": "count+probability",
         "line": {
          "color": [
           0,
           1,
           1,
           3,
           2,
           0,
           1,
           1,
           1,
           2,
           2,
           2,
           1,
           2,
           0,
           1,
           2,
           2,
           1,
           0,
           2,
           1,
           1,
           1,
           1,
           1,
           3,
           2,
           0,
           0,
           0,
           0,
           2,
           2,
           0,
           0,
           2,
           1,
           1,
           0,
           1,
           0,
           2,
           3,
           1,
           2,
           2,
           2,
           0,
           1,
           1,
           1,
           1,
           1,
           3,
           2,
           1,
           0,
           1,
           2,
           2,
           3,
           1,
           1,
           2,
           0,
           3,
           2,
           2,
           1,
           3,
           1,
           0,
           0,
           1,
           0,
           0,
           2,
           2,
           0,
           1,
           1,
           2,
           3,
           2,
           2,
           1,
           2,
           1,
           2,
           0,
           0,
           1,
           2,
           2,
           1,
           0,
           0,
           1,
           3,
           2,
           2,
           0,
           0,
           2,
           1,
           0,
           2,
           0,
           0,
           1,
           1,
           1,
           3,
           1,
           1,
           0,
           0,
           0,
           1,
           1,
           0,
           2,
           3,
           2,
           0,
           0,
           0,
           1,
           3,
           2,
           2,
           0,
           1,
           2,
           0,
           1,
           1,
           0,
           2,
           2,
           2,
           2,
           2,
           0,
           0,
           2,
           0,
           2,
           0,
           1,
           1,
           0,
           2,
           2,
           2,
           0,
           0,
           1,
           3,
           2,
           1,
           0,
           1,
           2,
           2,
           0,
           0,
           1,
           0,
           0,
           2,
           1,
           3,
           1,
           0,
           0,
           1,
           2,
           2,
           2,
           2,
           0,
           0,
           0,
           0
          ],
          "colorscale": [
           [
            0,
            "#440154"
           ],
           [
            0.1111111111111111,
            "#482878"
           ],
           [
            0.2222222222222222,
            "#3e4989"
           ],
           [
            0.3333333333333333,
            "#31688e"
           ],
           [
            0.4444444444444444,
            "#26828e"
           ],
           [
            0.5555555555555556,
            "#1f9e89"
           ],
           [
            0.6666666666666666,
            "#35b779"
           ],
           [
            0.7777777777777778,
            "#6ece58"
           ],
           [
            0.8888888888888888,
            "#b5de2b"
           ],
           [
            1,
            "#fde725"
           ]
          ],
          "showscale": false
         },
         "type": "parcats"
        }
       ],
       "layout": {
        "annotations": [
         {
          "align": "center",
          "font": {
           "size": 14
          },
          "showarrow": false,
          "text": "Figure 1.4",
          "x": 1,
          "xref": "paper",
          "y": -0.2,
          "yref": "paper"
         }
        ],
        "height": 600,
        "template": {
         "data": {
          "bar": [
           {
            "error_x": {
             "color": "#2a3f5f"
            },
            "error_y": {
             "color": "#2a3f5f"
            },
            "marker": {
             "line": {
              "color": "#E5ECF6",
              "width": 0.5
             },
             "pattern": {
              "fillmode": "overlay",
              "size": 10,
              "solidity": 0.2
             }
            },
            "type": "bar"
           }
          ],
          "barpolar": [
           {
            "marker": {
             "line": {
              "color": "#E5ECF6",
              "width": 0.5
             },
             "pattern": {
              "fillmode": "overlay",
              "size": 10,
              "solidity": 0.2
             }
            },
            "type": "barpolar"
           }
          ],
          "carpet": [
           {
            "aaxis": {
             "endlinecolor": "#2a3f5f",
             "gridcolor": "white",
             "linecolor": "white",
             "minorgridcolor": "white",
             "startlinecolor": "#2a3f5f"
            },
            "baxis": {
             "endlinecolor": "#2a3f5f",
             "gridcolor": "white",
             "linecolor": "white",
             "minorgridcolor": "white",
             "startlinecolor": "#2a3f5f"
            },
            "type": "carpet"
           }
          ],
          "choropleth": [
           {
            "colorbar": {
             "outlinewidth": 0,
             "ticks": ""
            },
            "type": "choropleth"
           }
          ],
          "contour": [
           {
            "colorbar": {
             "outlinewidth": 0,
             "ticks": ""
            },
            "colorscale": [
             [
              0,
              "#0d0887"
             ],
             [
              0.1111111111111111,
              "#46039f"
             ],
             [
              0.2222222222222222,
              "#7201a8"
             ],
             [
              0.3333333333333333,
              "#9c179e"
             ],
             [
              0.4444444444444444,
              "#bd3786"
             ],
             [
              0.5555555555555556,
              "#d8576b"
             ],
             [
              0.6666666666666666,
              "#ed7953"
             ],
             [
              0.7777777777777778,
              "#fb9f3a"
             ],
             [
              0.8888888888888888,
              "#fdca26"
             ],
             [
              1,
              "#f0f921"
             ]
            ],
            "type": "contour"
           }
          ],
          "contourcarpet": [
           {
            "colorbar": {
             "outlinewidth": 0,
             "ticks": ""
            },
            "type": "contourcarpet"
           }
          ],
          "heatmap": [
           {
            "colorbar": {
             "outlinewidth": 0,
             "ticks": ""
            },
            "colorscale": [
             [
              0,
              "#0d0887"
             ],
             [
              0.1111111111111111,
              "#46039f"
             ],
             [
              0.2222222222222222,
              "#7201a8"
             ],
             [
              0.3333333333333333,
              "#9c179e"
             ],
             [
              0.4444444444444444,
              "#bd3786"
             ],
             [
              0.5555555555555556,
              "#d8576b"
             ],
             [
              0.6666666666666666,
              "#ed7953"
             ],
             [
              0.7777777777777778,
              "#fb9f3a"
             ],
             [
              0.8888888888888888,
              "#fdca26"
             ],
             [
              1,
              "#f0f921"
             ]
            ],
            "type": "heatmap"
           }
          ],
          "heatmapgl": [
           {
            "colorbar": {
             "outlinewidth": 0,
             "ticks": ""
            },
            "colorscale": [
             [
              0,
              "#0d0887"
             ],
             [
              0.1111111111111111,
              "#46039f"
             ],
             [
              0.2222222222222222,
              "#7201a8"
             ],
             [
              0.3333333333333333,
              "#9c179e"
             ],
             [
              0.4444444444444444,
              "#bd3786"
             ],
             [
              0.5555555555555556,
              "#d8576b"
             ],
             [
              0.6666666666666666,
              "#ed7953"
             ],
             [
              0.7777777777777778,
              "#fb9f3a"
             ],
             [
              0.8888888888888888,
              "#fdca26"
             ],
             [
              1,
              "#f0f921"
             ]
            ],
            "type": "heatmapgl"
           }
          ],
          "histogram": [
           {
            "marker": {
             "pattern": {
              "fillmode": "overlay",
              "size": 10,
              "solidity": 0.2
             }
            },
            "type": "histogram"
           }
          ],
          "histogram2d": [
           {
            "colorbar": {
             "outlinewidth": 0,
             "ticks": ""
            },
            "colorscale": [
             [
              0,
              "#0d0887"
             ],
             [
              0.1111111111111111,
              "#46039f"
             ],
             [
              0.2222222222222222,
              "#7201a8"
             ],
             [
              0.3333333333333333,
              "#9c179e"
             ],
             [
              0.4444444444444444,
              "#bd3786"
             ],
             [
              0.5555555555555556,
              "#d8576b"
             ],
             [
              0.6666666666666666,
              "#ed7953"
             ],
             [
              0.7777777777777778,
              "#fb9f3a"
             ],
             [
              0.8888888888888888,
              "#fdca26"
             ],
             [
              1,
              "#f0f921"
             ]
            ],
            "type": "histogram2d"
           }
          ],
          "histogram2dcontour": [
           {
            "colorbar": {
             "outlinewidth": 0,
             "ticks": ""
            },
            "colorscale": [
             [
              0,
              "#0d0887"
             ],
             [
              0.1111111111111111,
              "#46039f"
             ],
             [
              0.2222222222222222,
              "#7201a8"
             ],
             [
              0.3333333333333333,
              "#9c179e"
             ],
             [
              0.4444444444444444,
              "#bd3786"
             ],
             [
              0.5555555555555556,
              "#d8576b"
             ],
             [
              0.6666666666666666,
              "#ed7953"
             ],
             [
              0.7777777777777778,
              "#fb9f3a"
             ],
             [
              0.8888888888888888,
              "#fdca26"
             ],
             [
              1,
              "#f0f921"
             ]
            ],
            "type": "histogram2dcontour"
           }
          ],
          "mesh3d": [
           {
            "colorbar": {
             "outlinewidth": 0,
             "ticks": ""
            },
            "type": "mesh3d"
           }
          ],
          "parcoords": [
           {
            "line": {
             "colorbar": {
              "outlinewidth": 0,
              "ticks": ""
             }
            },
            "type": "parcoords"
           }
          ],
          "pie": [
           {
            "automargin": true,
            "type": "pie"
           }
          ],
          "scatter": [
           {
            "fillpattern": {
             "fillmode": "overlay",
             "size": 10,
             "solidity": 0.2
            },
            "type": "scatter"
           }
          ],
          "scatter3d": [
           {
            "line": {
             "colorbar": {
              "outlinewidth": 0,
              "ticks": ""
             }
            },
            "marker": {
             "colorbar": {
              "outlinewidth": 0,
              "ticks": ""
             }
            },
            "type": "scatter3d"
           }
          ],
          "scattercarpet": [
           {
            "marker": {
             "colorbar": {
              "outlinewidth": 0,
              "ticks": ""
             }
            },
            "type": "scattercarpet"
           }
          ],
          "scattergeo": [
           {
            "marker": {
             "colorbar": {
              "outlinewidth": 0,
              "ticks": ""
             }
            },
            "type": "scattergeo"
           }
          ],
          "scattergl": [
           {
            "marker": {
             "colorbar": {
              "outlinewidth": 0,
              "ticks": ""
             }
            },
            "type": "scattergl"
           }
          ],
          "scattermapbox": [
           {
            "marker": {
             "colorbar": {
              "outlinewidth": 0,
              "ticks": ""
             }
            },
            "type": "scattermapbox"
           }
          ],
          "scatterpolar": [
           {
            "marker": {
             "colorbar": {
              "outlinewidth": 0,
              "ticks": ""
             }
            },
            "type": "scatterpolar"
           }
          ],
          "scatterpolargl": [
           {
            "marker": {
             "colorbar": {
              "outlinewidth": 0,
              "ticks": ""
             }
            },
            "type": "scatterpolargl"
           }
          ],
          "scatterternary": [
           {
            "marker": {
             "colorbar": {
              "outlinewidth": 0,
              "ticks": ""
             }
            },
            "type": "scatterternary"
           }
          ],
          "surface": [
           {
            "colorbar": {
             "outlinewidth": 0,
             "ticks": ""
            },
            "colorscale": [
             [
              0,
              "#0d0887"
             ],
             [
              0.1111111111111111,
              "#46039f"
             ],
             [
              0.2222222222222222,
              "#7201a8"
             ],
             [
              0.3333333333333333,
              "#9c179e"
             ],
             [
              0.4444444444444444,
              "#bd3786"
             ],
             [
              0.5555555555555556,
              "#d8576b"
             ],
             [
              0.6666666666666666,
              "#ed7953"
             ],
             [
              0.7777777777777778,
              "#fb9f3a"
             ],
             [
              0.8888888888888888,
              "#fdca26"
             ],
             [
              1,
              "#f0f921"
             ]
            ],
            "type": "surface"
           }
          ],
          "table": [
           {
            "cells": {
             "fill": {
              "color": "#EBF0F8"
             },
             "line": {
              "color": "white"
             }
            },
            "header": {
             "fill": {
              "color": "#C8D4E3"
             },
             "line": {
              "color": "white"
             }
            },
            "type": "table"
           }
          ]
         },
         "layout": {
          "annotationdefaults": {
           "arrowcolor": "#2a3f5f",
           "arrowhead": 0,
           "arrowwidth": 1
          },
          "autotypenumbers": "strict",
          "coloraxis": {
           "colorbar": {
            "outlinewidth": 0,
            "ticks": ""
           }
          },
          "colorscale": {
           "diverging": [
            [
             0,
             "#8e0152"
            ],
            [
             0.1,
             "#c51b7d"
            ],
            [
             0.2,
             "#de77ae"
            ],
            [
             0.3,
             "#f1b6da"
            ],
            [
             0.4,
             "#fde0ef"
            ],
            [
             0.5,
             "#f7f7f7"
            ],
            [
             0.6,
             "#e6f5d0"
            ],
            [
             0.7,
             "#b8e186"
            ],
            [
             0.8,
             "#7fbc41"
            ],
            [
             0.9,
             "#4d9221"
            ],
            [
             1,
             "#276419"
            ]
           ],
           "sequential": [
            [
             0,
             "#0d0887"
            ],
            [
             0.1111111111111111,
             "#46039f"
            ],
            [
             0.2222222222222222,
             "#7201a8"
            ],
            [
             0.3333333333333333,
             "#9c179e"
            ],
            [
             0.4444444444444444,
             "#bd3786"
            ],
            [
             0.5555555555555556,
             "#d8576b"
            ],
            [
             0.6666666666666666,
             "#ed7953"
            ],
            [
             0.7777777777777778,
             "#fb9f3a"
            ],
            [
             0.8888888888888888,
             "#fdca26"
            ],
            [
             1,
             "#f0f921"
            ]
           ],
           "sequentialminus": [
            [
             0,
             "#0d0887"
            ],
            [
             0.1111111111111111,
             "#46039f"
            ],
            [
             0.2222222222222222,
             "#7201a8"
            ],
            [
             0.3333333333333333,
             "#9c179e"
            ],
            [
             0.4444444444444444,
             "#bd3786"
            ],
            [
             0.5555555555555556,
             "#d8576b"
            ],
            [
             0.6666666666666666,
             "#ed7953"
            ],
            [
             0.7777777777777778,
             "#fb9f3a"
            ],
            [
             0.8888888888888888,
             "#fdca26"
            ],
            [
             1,
             "#f0f921"
            ]
           ]
          },
          "colorway": [
           "#636efa",
           "#EF553B",
           "#00cc96",
           "#ab63fa",
           "#FFA15A",
           "#19d3f3",
           "#FF6692",
           "#B6E880",
           "#FF97FF",
           "#FECB52"
          ],
          "font": {
           "color": "#2a3f5f"
          },
          "geo": {
           "bgcolor": "white",
           "lakecolor": "white",
           "landcolor": "#E5ECF6",
           "showlakes": true,
           "showland": true,
           "subunitcolor": "white"
          },
          "hoverlabel": {
           "align": "left"
          },
          "hovermode": "closest",
          "mapbox": {
           "style": "light"
          },
          "paper_bgcolor": "white",
          "plot_bgcolor": "#E5ECF6",
          "polar": {
           "angularaxis": {
            "gridcolor": "white",
            "linecolor": "white",
            "ticks": ""
           },
           "bgcolor": "#E5ECF6",
           "radialaxis": {
            "gridcolor": "white",
            "linecolor": "white",
            "ticks": ""
           }
          },
          "scene": {
           "xaxis": {
            "backgroundcolor": "#E5ECF6",
            "gridcolor": "white",
            "gridwidth": 2,
            "linecolor": "white",
            "showbackground": true,
            "ticks": "",
            "zerolinecolor": "white"
           },
           "yaxis": {
            "backgroundcolor": "#E5ECF6",
            "gridcolor": "white",
            "gridwidth": 2,
            "linecolor": "white",
            "showbackground": true,
            "ticks": "",
            "zerolinecolor": "white"
           },
           "zaxis": {
            "backgroundcolor": "#E5ECF6",
            "gridcolor": "white",
            "gridwidth": 2,
            "linecolor": "white",
            "showbackground": true,
            "ticks": "",
            "zerolinecolor": "white"
           }
          },
          "shapedefaults": {
           "line": {
            "color": "#2a3f5f"
           }
          },
          "ternary": {
           "aaxis": {
            "gridcolor": "white",
            "linecolor": "white",
            "ticks": ""
           },
           "baxis": {
            "gridcolor": "white",
            "linecolor": "white",
            "ticks": ""
           },
           "bgcolor": "#E5ECF6",
           "caxis": {
            "gridcolor": "white",
            "linecolor": "white",
            "ticks": ""
           }
          },
          "title": {
           "x": 0.05
          },
          "xaxis": {
           "automargin": true,
           "gridcolor": "white",
           "linecolor": "white",
           "ticks": "",
           "title": {
            "standoff": 15
           },
           "zerolinecolor": "white",
           "zerolinewidth": 2
          },
          "yaxis": {
           "automargin": true,
           "gridcolor": "white",
           "linecolor": "white",
           "ticks": "",
           "title": {
            "standoff": 15
           },
           "zerolinecolor": "white",
           "zerolinewidth": 2
          }
         }
        },
        "title": {
         "text": "Parallel Categories Plot of COVID-19 and GDP Data"
        }
       }
      }
     },
     "metadata": {},
     "output_type": "display_data"
    }
   ],
   "source": [
    "import pandas as pd\n",
    "import plotly.graph_objs as go\n",
    "\n",
    "# Load COVID-19 and GDP data\n",
    "covid_df = pd.read_csv('owid-covid-data.csv')\n",
    "gdp_df = pd.read_csv('GDP-data.csv', skiprows=4)\n",
    "\n",
    "# Filter COVID-19 data for 2021 and 2020 and exclude certain locations\n",
    "covid_2021_df = covid_df[covid_df['date'].str.startswith('2021')]\n",
    "covid_2020_df = covid_df[covid_df['date'].str.startswith('2020')]\n",
    "exclude_locations = ['World', 'Upper middle income', 'Lower middle income', 'High income', 'Low income',\n",
    "                     'European Union', 'North America', 'South America', 'Asia', 'Oceania', 'Africa']\n",
    "covid_2021_df = covid_2021_df[~covid_2021_df['location'].isin(exclude_locations)]\n",
    "covid_2020_df = covid_2020_df[~covid_2020_df['location'].isin(exclude_locations)]\n",
    "\n",
    "# Define variables of interest\n",
    "variables = ['total_deaths_per_million', 'total_cases_per_million', 'people_vaccinated_per_hundred', \n",
    "             'total_tests_per_thousand', 'excess_mortality_cumulative_per_million']\n",
    "\n",
    "# Compute last values for each variable by location for 2021 and 2020\n",
    "last_values_2021_dfs = {}\n",
    "last_values_2020_dfs = {}\n",
    "for var in variables:\n",
    "    last_values_2021_dfs[var] = covid_2021_df.groupby('location').last()[var].reset_index()\n",
    "    last_values_2020_dfs[var] = covid_2020_df.groupby('location').last()[var].reset_index()\n",
    "\n",
    "# Merge COVID-19 variables for 2021 with GDP data\n",
    "merged_df = last_values_2021_dfs[variables[0]]\n",
    "for var in variables[1:]:\n",
    "    merged_df = pd.merge(merged_df, last_values_2021_dfs[var], on='location', how='left')\n",
    "\n",
    "# Rename columns for clarity\n",
    "for var in variables:\n",
    "    merged_df = merged_df.rename(columns={var: f'{var}_2021'})\n",
    "\n",
    "# Merge last values of 2020\n",
    "for var in variables:\n",
    "    if var != 'people_vaccinated_per_hundred':  # Skip 'people_vaccinated_per_hundred'\n",
    "        merged_df = pd.merge(merged_df, last_values_2020_dfs[var].rename(columns={var: f'{var}_2020'}), on='location', how='left')\n",
    "\n",
    "# Adjust variables by subtracting 2020 values from 2021 values, except for 'people_vaccinated_per_hundred'\n",
    "for var in variables:\n",
    "    if var != 'people_vaccinated_per_hundred':\n",
    "        merged_df[var] = merged_df[f'{var}_2021'] - merged_df[f'{var}_2020']\n",
    "    else:\n",
    "        merged_df[var] = merged_df[f'{var}_2021']\n",
    "\n",
    "# Drop unnecessary columns\n",
    "columns_to_drop = [f'{var}_2021' for var in variables if var != 'people_vaccinated_per_hundred'] + [f'{var}_2020' for var in variables if var != 'people_vaccinated_per_hundred']\n",
    "merged_df = merged_df.drop(columns=columns_to_drop)\n",
    "\n",
    "# Merge with GDP data\n",
    "gdp_df = gdp_df.rename(columns={\"Country Name\": 'location'})\n",
    "gdp_df = gdp_df[['location', \"2021\"]]\n",
    "final_merged_df = pd.merge(merged_df, gdp_df, on='location', how='inner')\n",
    "final_merged_df = final_merged_df.rename(columns={\"2021\": \"GDP_2021\"})\n",
    "\n",
    "# Categorical binning for each variable\n",
    "for var in variables + ['GDP_2021']:\n",
    "    final_merged_df[f'{var}_category'] = pd.qcut(final_merged_df[var], q=3, labels=['low', 'medium', 'high'])\n",
    "\n",
    "# Define category orders for each variable\n",
    "category_orders = {\n",
    "    'GDP_2021_category': ['low', 'medium', 'high'],\n",
    "    'total_deaths_per_million_category': ['low', 'medium', 'high'],\n",
    "    'total_cases_per_million_category': ['low', 'medium', 'high'],\n",
    "    'people_vaccinated_per_hundred_category': ['low', 'medium', 'high'],\n",
    "    'total_tests_per_thousand_category': ['low', 'medium', 'high'],\n",
    "    'excess_mortality_cumulative_per_million_category': ['low', 'medium', 'high'] \n",
    "}\n",
    "\n",
    "# Ensure all variables are treated as categorical\n",
    "for var in variables + ['GDP_2021']:\n",
    "    final_merged_df[f'{var}_category'] = final_merged_df[f'{var}_category'].astype('category').cat.add_categories('nan').fillna('nan')\n",
    "\n",
    "# Define dimensions for Plotly Parcats\n",
    "dimensions = [\n",
    "    {'label': 'GDP 2021', 'values': final_merged_df['GDP_2021_category'], 'categoryorder': 'array', 'categoryarray': category_orders['GDP_2021_category']},\n",
    "    {'label': 'Total Deaths', 'values': final_merged_df['total_deaths_per_million_category'], 'categoryorder': 'array', 'categoryarray': category_orders['total_deaths_per_million_category']},\n",
    "    {'label': 'Total Cases', 'values': final_merged_df['total_cases_per_million_category'], 'categoryorder': 'array', 'categoryarray': category_orders['total_cases_per_million_category']},\n",
    "    {'label': 'People Vaccinated', 'values': final_merged_df['people_vaccinated_per_hundred_category'], 'categoryorder': 'array', 'categoryarray': category_orders['people_vaccinated_per_hundred_category']},\n",
    "    {'label': 'Total Tests', 'values': final_merged_df['total_tests_per_thousand_category'], 'categoryorder': 'array', 'categoryarray': category_orders['total_tests_per_thousand_category']},\n",
    "    {'label': 'Excess Mortality', 'values': final_merged_df['excess_mortality_cumulative_per_million_category'], 'categoryorder': 'array', 'categoryarray': category_orders['excess_mortality_cumulative_per_million_category']}\n",
    "]\n",
    "\n",
    "# Create the Parcats figure\n",
    "fig = go.Figure(data=[\n",
    "    go.Parcats(\n",
    "        dimensions=dimensions,\n",
    "        line={'color': final_merged_df['GDP_2021_category'].cat.codes, 'colorscale': 'Viridis', 'showscale': False},\n",
    "        hoverinfo='count+probability',\n",
    "        arrangement='freeform'\n",
    "    )\n",
    "])\n",
    "\n",
    "# Update layout and display the plot\n",
    "fig.update_layout(\n",
    "    title='Parallel Categories Plot of COVID-19 and GDP Data',\n",
    "    height=600\n",
    ")\n",
    "\n",
    "\n",
    "\n",
    "fig.add_annotation(text=\"Figure 1.4\", xref=\"paper\", yref=\"paper\", x=1, y=-0.2, showarrow=False, align=\"center\", font=dict(size=14))\n",
    "\n"
   ]
  },
  {
   "cell_type": "markdown",
   "metadata": {
    "tags": [
     "remove_input"
    ]
   },
   "source": [
    "In this parallel categories plot, we excluded outliers in our location data such as continents, income groups, and global aggregates. Additionally, we categorized the values into high, medium, and low by dividing them into three bins. For the total deaths, total cases and excess mortality we used the variables per million, for people vaccinated per hundred and for total tests per thousand.\n",
    "\n",
    "The plot above shows that countries with low GDP tend to have lower values for total deaths per million and total cases per million, which creates the impression that they managed the pandemic more effectively than high GDP regions. However, these countries also tend to have lower vaccination rates compared to regions with medium and high GDP. Furthermore the plot also shows that lower GDP regions have either a low test rate or the data is unavailable. Additionally, the data on excess mortality rates per million is also often unavailable for lower GDP regions. Based on the plot, we can conclude that the lower reported total deaths and cases per million in low GDP countries may not accurately reflect their handling of the pandemic. Instead, these figures might be influenced by limited resources for testing and data recording. Additionally, the lower vaccination rates and lack of data on excess mortality rates in low GDP regions suggest that the pandemic's true impact may be underreported in these areas.\n",
    "\n",
    "For this reason, it is important to take a look at countries with a relatively higher GDP per capita in order to know whether the same trend we see globally also occurs when countries with a higher GDP per capita get compared. Therefore, we made two maps, one for the global trend between deaths per million and GDP per capita and one for the European trend. Europe generally speaking has a higher GDP compared to the rest of the world which is why we compared them to the rest of the world."
   ]
  },
  {
   "cell_type": "code",
   "execution_count": 87,
   "metadata": {
    "tags": [
     "remove_input"
    ]
   },
   "outputs": [
    {
     "data": {
      "application/vnd.plotly.v1+json": {
       "config": {
        "plotlyServerURL": "https://plot.ly"
       },
       "data": [
        {
         "hovertemplate": "<b>%{hovertext}</b><br><br>Total Deaths per Million=%{x}<br>GDP=%{y}<extra></extra>",
         "hovertext": [
          "Aruba",
          "Afghanistan",
          "Angola",
          "United Arab Emirates",
          "Argentina",
          "Armenia",
          "American Samoa",
          "Antigua and Barbuda",
          "Australia",
          "Azerbaijan",
          "Burundi",
          "Benin",
          "Burkina Faso",
          "Bangladesh",
          "Bahrain",
          "Belize",
          "Bermuda",
          "Bolivia",
          "Brazil",
          "Barbados",
          "Bhutan",
          "Botswana",
          "Central African Republic",
          "Canada",
          "Chile",
          "China",
          "Cote d'Ivoire",
          "Cameroon",
          "Colombia",
          "Comoros",
          "Costa Rica",
          "Cuba",
          "Curacao",
          "Cayman Islands",
          "Djibouti",
          "Dominica",
          "Dominican Republic",
          "Algeria",
          "Ecuador",
          "Eritrea",
          "Ethiopia",
          "Fiji",
          "Gabon",
          "Georgia",
          "Ghana",
          "Guinea",
          "Guinea-Bissau",
          "Equatorial Guinea",
          "Grenada",
          "Greenland",
          "Guatemala",
          "Guam",
          "Guyana",
          "Honduras",
          "Haiti",
          "Indonesia",
          "India",
          "Iraq",
          "Israel",
          "Jamaica",
          "Jordan",
          "Japan",
          "Kazakhstan",
          "Kenya",
          "Cambodia",
          "Kiribati",
          "Kuwait",
          "Lebanon",
          "Liberia",
          "Libya",
          "Sri Lanka",
          "Lesotho",
          "Morocco",
          "Madagascar",
          "Maldives",
          "Mexico",
          "Marshall Islands",
          "Mali",
          "Myanmar",
          "Mongolia",
          "Northern Mariana Islands",
          "Mozambique",
          "Mauritania",
          "Mauritius",
          "Malawi",
          "Malaysia",
          "Namibia",
          "New Caledonia",
          "Niger",
          "Nigeria",
          "Nicaragua",
          "Nepal",
          "Nauru",
          "New Zealand",
          "Oman",
          "Pakistan",
          "Panama",
          "Peru",
          "Philippines",
          "Palau",
          "Papua New Guinea",
          "Puerto Rico",
          "Paraguay",
          "French Polynesia",
          "Qatar",
          "Rwanda",
          "Saudi Arabia",
          "Sudan",
          "Senegal",
          "Singapore",
          "Solomon Islands",
          "Sierra Leone",
          "El Salvador",
          "Somalia",
          "South Sudan",
          "Sao Tome and Principe",
          "Suriname",
          "Eswatini",
          "Sint Maarten (Dutch part)",
          "Seychelles",
          "Turks and Caicos Islands",
          "Chad",
          "Togo",
          "Thailand",
          "Tajikistan",
          "Turkmenistan",
          "Tonga",
          "Trinidad and Tobago",
          "Tunisia",
          "Tuvalu",
          "Tanzania",
          "Uganda",
          "Uruguay",
          "United States",
          "Uzbekistan",
          "British Virgin Islands",
          "Vanuatu",
          "Samoa",
          "South Africa",
          "Zambia",
          "Zimbabwe"
         ],
         "legendgroup": "",
         "marker": {
          "color": "#636efa",
          "symbol": "circle"
         },
         "mode": "markers",
         "name": "",
         "orientation": "v",
         "showlegend": false,
         "type": "scatter",
         "visible": true,
         "x": [
          1700.185,
          178.756,
          49.06,
          228.362,
          2589.083,
          2856.709,
          null,
          1258.371,
          90.803,
          799.762,
          1.086,
          12.057,
          13.981,
          163.915,
          946.858,
          1460.7,
          1650.91,
          1597.662,
          2872.054,
          923.145,
          3.834,
          927.271,
          18.103,
          776.272,
          1990.08,
          3.997,
          25.106,
          66.31,
          2500.018,
          182.843,
          1418.497,
          742.049,
          972.941,
          160.065,
          168.622,
          618.489,
          377.333,
          138.721,
          1869.174,
          19.544,
          55.876,
          749.649,
          120.134,
          3608.603,
          38.446,
          28.068,
          70.764,
          104.483,
          1594.146,
          17.701,
          901.988,
          1571.75,
          1288.445,
          999.63,
          66.12,
          522.883,
          338.478,
          542.115,
          873.214,
          870.77,
          1102.617,
          148.34,
          937.468,
          99.19,
          179.391,
          null,
          578.137,
          1644.339,
          54.123,
          828.056,
          681.747,
          288.4,
          395.83,
          34.682,
          498.284,
          2378.394,
          null,
          28.902,
          355.375,
          582.926,
          221.891,
          59.449,
          182.005,
          586.389,
          114.088,
          923.266,
          1406.687,
          965.654,
          10.455,
          13.791,
          31.086,
          379.244,
          null,
          9.643,
          978.957,
          122.57,
          1680.586,
          5945.858,
          443.064,
          null,
          58.17,
          1014.939,
          2447.814,
          2076.45,
          227.818,
          97.701,
          243.622,
          70.359,
          109.145,
          145.822,
          null,
          14.293,
          602.551,
          75.749,
          12.37,
          250.667,
          1918.951,
          1058.518,
          1697.14,
          1176.086,
          568.604,
          10.213,
          27.801,
          300.989,
          12.559,
          null,
          null,
          1775.26,
          2065.617,
          null,
          11.252,
          69.419,
          1800.283,
          2402.044,
          24.836,
          1244.734,
          null,
          null,
          1515.564,
          184.687,
          299.316
         ],
         "xaxis": "x",
         "y": [
          38226.146156979,
          2138.87024713086,
          7414.27895783202,
          68912.5455473732,
          26086.8023552274,
          16899.0709181678,
          null,
          25493.1295548691,
          57406.1787604549,
          20111.3756952109,
          864.280732753101,
          3575.31148668734,
          2467.67804044213,
          7366.48997079065,
          54351.8360757233,
          11559.8905984688,
          91508.8303752301,
          9342.97184473106,
          17450.5086501913,
          14686.2199296539,
          13423.4288723593,
          16651.5337042653,
          1057.19439503026,
          55634.8275796301,
          29148.2424509188,
          20406.7296584605,
          6432.62666292098,
          4741.76177028658,
          17586.5239590949,
          3426.75773437156,
          23700.2961314063,
          null,
          25163.8669323866,
          75898.4231569682,
          6032.27795593735,
          14472.2858615339,
          21923.3019358073,
          12893.2100025293,
          13293.0871517821,
          null,
          2628.34346412648,
          10593.9126867971,
          19552.3625335025,
          18691.1612210787,
          6544.2381999688,
          3735.0898272933,
          2164.37287781941,
          17936.6113034777,
          14325.5548482263,
          68086.4601238175,
          12106.4225430833,
          null,
          23176.1332006217,
          6285.9287396567,
          3114.96354203089,
          12897.0571071313,
          8044.67480751057,
          12476.3625169213,
          46126.6423137421,
          9610.98933709822,
          9115.01951145213,
          44291.9852770528,
          34233.4732249708,
          5360.36190289931,
          4668.23777959985,
          2215.72978938238,
          48129.9882968208,
          11860.0586252712,
          1556.94547466638,
          15133.8474122324,
          14306.2352220864,
          2456.31221508897,
          8581.330078125,
          1642.30416221094,
          18865.7192956579,
          21123.6718346798,
          6594.29953549562,
          2399.46153474407,
          5138.88724952007,
          14951.1365679904,
          null,
          1440.45976271877,
          5988.20355101133,
          22737.5729410543,
          1731.76777467309,
          30456.0928951741,
          10823.175558195,
          null,
          1538.47074692859,
          5623.66407810605,
          6874.61550569295,
          4461.46878467812,
          12126.5887460305,
          48555.5523439365,
          38930.9938379577,
          5554.58570149625,
          30895.8322499594,
          14853.5805797423,
          8797.16871175312,
          15572.7392991737,
          4014.2854655247,
          40537.7088223526,
          15361.0847494949,
          null,
          108865.13777489,
          2705.84426715937,
          47754.4377844143,
          3420.45190429688,
          4266.26875168597,
          128731.011187586,
          2645.34556016287,
          1623.97562392431,
          10860.247882807,
          1461.96879165973,
          null,
          5703.24824295017,
          18447.3399360527,
          10202.5096730796,
          39465.6250774608,
          25938.2456464216,
          21232.6835191491,
          1764.34807562549,
          2678.83160754709,
          20253.3547905679,
          4074.56022293416,
          null,
          6778.50356937661,
          27631.6778146419,
          12126.587729035,
          5080.76524350095,
          3451.4482421875,
          2688.26683541397,
          29500.3726206454,
          70219.472454115,
          8162.19581678153,
          null,
          3090.22795764862,
          6107.16207916622,
          14172.5442513912,
          3526.50741832512,
          3276.26775280153
         ],
         "yaxis": "y"
        },
        {
         "hovertemplate": "<b>OLS trendline</b><br>2021 = 3.67086 * total_deaths_per_million + 16403.7<br>R<sup>2</sup>=0.023359<br><br>Total Deaths per Million=%{x}<br>GDP=%{y} <b>(trend)</b><extra></extra>",
         "legendgroup": "",
         "marker": {
          "color": "#636efa",
          "symbol": "circle"
         },
         "mode": "lines",
         "name": "",
         "showlegend": false,
         "type": "scatter",
         "visible": true,
         "x": [
          1.086,
          3.834,
          3.997,
          9.643,
          10.213,
          10.455,
          11.252,
          12.057,
          12.559,
          13.791,
          13.981,
          14.293,
          17.701,
          18.103,
          24.836,
          25.106,
          27.801,
          28.068,
          28.902,
          31.086,
          34.682,
          38.446,
          49.06,
          54.123,
          55.876,
          58.17,
          59.449,
          66.12,
          66.31,
          69.419,
          70.359,
          70.764,
          75.749,
          90.803,
          97.701,
          99.19,
          104.483,
          109.145,
          114.088,
          120.134,
          122.57,
          138.721,
          145.822,
          148.34,
          160.065,
          163.915,
          168.622,
          178.756,
          179.391,
          182.005,
          182.843,
          184.687,
          227.818,
          228.362,
          243.622,
          250.667,
          288.4,
          299.316,
          300.989,
          338.478,
          355.375,
          377.333,
          379.244,
          395.83,
          443.064,
          498.284,
          522.883,
          542.115,
          568.604,
          578.137,
          582.926,
          586.389,
          602.551,
          618.489,
          681.747,
          749.649,
          776.272,
          799.762,
          828.056,
          870.77,
          873.214,
          901.988,
          923.145,
          923.266,
          927.271,
          937.468,
          946.858,
          972.941,
          978.957,
          999.63,
          1014.939,
          1058.518,
          1102.617,
          1176.086,
          1258.371,
          1288.445,
          1406.687,
          1418.497,
          1460.7,
          1515.564,
          1594.146,
          1597.662,
          1644.339,
          1650.91,
          1680.586,
          1697.14,
          1700.185,
          1775.26,
          1800.283,
          1869.174,
          1918.951,
          1990.08,
          2065.617,
          2378.394,
          2402.044,
          2447.814,
          2500.018,
          2589.083,
          2856.709,
          2872.054,
          3608.603,
          5945.858
         ],
         "xaxis": "x",
         "y": [
          16407.726304821343,
          16417.81383805356,
          16418.412188823888,
          16439.13788483157,
          16441.230277095896,
          16442.118626092328,
          16445.04430439876,
          16447.99934961417,
          16449.842123152222,
          16454.364627134062,
          16455.06209122217,
          16456.20740067212,
          16468.71770389461,
          16470.1933910705,
          16494.90931583489,
          16495.90044901273,
          16505.793426473003,
          16506.773547059976,
          16509.83504732041,
          16517.852213470036,
          16531.052639053392,
          16544.86976972518,
          16583.832316205087,
          16602.417898721367,
          16608.852922650072,
          16617.273883798076,
          16621.96891837013,
          16646.457249589977,
          16647.154713678086,
          16658.567428677714,
          16662.01804048204,
          16663.504740248798,
          16681.803995402588,
          16737.065176362503,
          16762.386793624457,
          16767.852709557053,
          16787.282590706305,
          16804.396156910312,
          16822.541235791996,
          16844.73527724833,
          16853.677501030605,
          16912.965619383438,
          16939.032421960583,
          16948.275656559832,
          16991.31653252336,
          17005.449357466612,
          17022.72811253359,
          17059.92864447512,
          17062.25964287485,
          17071.855280381773,
          17074.93146409669,
          17081.700536614964,
          17240.02855547919,
          17242.025505289355,
          17298.042884155322,
          17323.904118369657,
          17462.416815404362,
          17502.487962698,
          17508.629317536976,
          17646.246323848005,
          17708.27290646257,
          17788.87772986617,
          17795.892750247094,
          17856.777694275333,
          18030.16726657908,
          18232.872355765106,
          18323.171929993416,
          18393.76997916447,
          18491.007485637645,
          18526.001828542576,
          18543.58159442653,
          18556.29379514821,
          18615.622293000884,
          18674.128517402314,
          18906.340008378946,
          19155.598990014398,
          19253.328392212872,
          19339.5569786848,
          19443.420393995002,
          19600.21766272901,
          19609.18925342026,
          19714.814683268844,
          19792.479144911522,
          19792.92331940974,
          19807.62512821434,
          19845.05692456403,
          19879.526333971073,
          19975.273469813867,
          19997.357385361553,
          20073.245149011367,
          20129.442400194792,
          20289.414965961507,
          20451.296380811465,
          20720.991060228494,
          21023.04807333375,
          21133.445625890443,
          21567.495882238403,
          21610.848781609773,
          21765.770239033132,
          21967.16850076986,
          22255.63230588425,
          22268.539062377877,
          22439.883963644377,
          22464.005208502065,
          22572.94175733735,
          22633.7092337297,
          22644.88701345754,
          22920.477099850898,
          23012.33312025477,
          23265.22258601201,
          23447.947164505542,
          23709.052023047974,
          23986.338048434518,
          25134.499759414924,
          25221.315684066314,
          25389.331112028005,
          25580.964876531216,
          25907.910344991076,
          26890.328892591584,
          26946.65829486539,
          29650.42922450827,
          38230.173578464986
         ],
         "yaxis": "y"
        },
        {
         "hovertemplate": "<b>%{hovertext}</b><br><br>Total Deaths per Million=%{x}<br>GDP=%{y}<extra></extra>",
         "hovertext": [
          "Albania",
          "Andorra",
          "Austria",
          "Belgium",
          "Bulgaria",
          "Bosnia and Herzegovina",
          "Belarus",
          "Switzerland",
          "Cyprus",
          "Czechia",
          "Germany",
          "Denmark",
          "Spain",
          "Estonia",
          "Finland",
          "France",
          "United Kingdom",
          "Gibraltar",
          "Greece",
          "Croatia",
          "Hungary",
          "Isle of Man",
          "Ireland",
          "Iceland",
          "Italy",
          "Liechtenstein",
          "Lithuania",
          "Luxembourg",
          "Latvia",
          "Monaco",
          "Moldova",
          "North Macedonia",
          "Malta",
          "Montenegro",
          "Netherlands",
          "Norway",
          "Poland",
          "Portugal",
          "Romania",
          "San Marino",
          "Serbia",
          "Slovenia",
          "Sweden",
          "Ukraine",
          "Kosovo"
         ],
         "legendgroup": "",
         "marker": {
          "color": "#636efa",
          "symbol": "circle"
         },
         "mode": "markers",
         "name": "",
         "orientation": "v",
         "showlegend": false,
         "type": "scatter",
         "visible": false,
         "x": [
          1121.268,
          1740.917,
          1855.449,
          2418.684,
          4501.357,
          4107.894,
          575.147,
          1353.245,
          710.932,
          3429.391,
          1411.686,
          543.499,
          1919.21,
          1378.516,
          331.363,
          1921.267,
          2609.418,
          3060.256,
          1974.488,
          3046.625,
          3843.266,
          792.581,
          1205.23,
          99.222,
          2312.599,
          1753.272,
          2655.217,
          980.542,
          2601.783,
          1041.353,
          3111.525,
          3989.289,
          924.445,
          3629.509,
          1193.349,
          245.661,
          2366.702,
          1838.99,
          2977.527,
          2908.875,
          1828.991,
          2872.383,
          1450.516,
          2330.704,
          1671.609
         ],
         "xaxis": "x",
         "y": [
          16262.6634527606,
          58829.8500720505,
          63421.2035870778,
          62107.0699329664,
          29406.5795920851,
          18379.5525047191,
          27611.1801135156,
          81603.2073073193,
          48469.4140625,
          48418.1157871868,
          61939.6515850137,
          69878.9348117258,
          43620.6040614123,
          45047.315035037,
          57848.6141705053,
          53834.7992971017,
          52841.6345850474,
          null,
          33018.2544152866,
          36954.4345867034,
          38643.762589993,
          null,
          114120.544516392,
          61481.3794980574,
          49912.83903304,
          null,
          46410.0676392912,
          137947.34385169,
          36777.8928459839,
          null,
          15682.0703284653,
          19902.8198301911,
          53387.2378429299,
          24511.2620665873,
          67693.3264311302,
          86891.9964886406,
          40462.6887122126,
          38783.0115625218,
          37971.0545519053,
          65717.8915454458,
          22575.4210980499,
          46502.0978938704,
          63375.0446462412,
          18040.345703125,
          12362.7048078624
         ],
         "yaxis": "y"
        },
        {
         "hovertemplate": "<b>OLS trendline</b><br>2021 = -10.9134 * total_deaths_per_million + 71347.3<br>R<sup>2</sup>=0.228721<br><br>Total Deaths per Million=%{x}<br>GDP=%{y} <b>(trend)</b><extra></extra>",
         "legendgroup": "",
         "marker": {
          "color": "#636efa",
          "symbol": "circle"
         },
         "mode": "lines",
         "name": "",
         "showlegend": false,
         "type": "scatter",
         "visible": false,
         "x": [
          99.222,
          245.661,
          331.363,
          543.499,
          575.147,
          710.932,
          924.445,
          980.542,
          1121.268,
          1193.349,
          1205.23,
          1353.245,
          1378.516,
          1411.686,
          1450.516,
          1671.609,
          1740.917,
          1828.991,
          1838.99,
          1855.449,
          1919.21,
          1921.267,
          1974.488,
          2312.599,
          2330.704,
          2366.702,
          2418.684,
          2601.783,
          2609.418,
          2655.217,
          2872.383,
          2908.875,
          2977.527,
          3046.625,
          3111.525,
          3429.391,
          3629.509,
          3843.266,
          3989.289,
          4107.894,
          4501.357
         ],
         "xaxis": "x",
         "y": [
          70264.46343711794,
          68666.32312952972,
          67731.02706331153,
          65415.9122899893,
          65070.52653582168,
          63588.65707709916,
          61258.51461850491,
          60646.308328959254,
          59110.515999554795,
          58323.870696655526,
          58194.209165270746,
          56578.86941542494,
          56303.078104960776,
          55941.082229526626,
          55517.31678354809,
          53104.45111917178,
          52348.068540498585,
          51386.88600408052,
          51277.76340056934,
          51098.14054516473,
          50402.29432829537,
          50379.845563876675,
          49799.026073780784,
          46109.10182177852,
          45911.51558949829,
          45518.656755495314,
          44951.35890813873,
          42953.13512773122,
          42869.811687606416,
          42369.991093726145,
          39999.982161421896,
          39601.7321316859,
          38852.50871171891,
          38098.41793689983,
          37390.14141245979,
          33921.1579653464,
          31737.19985258997,
          29404.394536184263,
          27810.794182897538,
          26516.416106145443,
          22222.416011603804
         ],
         "yaxis": "y"
        }
       ],
       "layout": {
        "annotations": [
         {
          "align": "center",
          "font": {
           "size": 14
          },
          "showarrow": false,
          "text": "Figure 1.5",
          "x": 1,
          "xref": "paper",
          "y": -0.2,
          "yref": "paper"
         }
        ],
        "template": {
         "data": {
          "bar": [
           {
            "error_x": {
             "color": "#2a3f5f"
            },
            "error_y": {
             "color": "#2a3f5f"
            },
            "marker": {
             "line": {
              "color": "#E5ECF6",
              "width": 0.5
             },
             "pattern": {
              "fillmode": "overlay",
              "size": 10,
              "solidity": 0.2
             }
            },
            "type": "bar"
           }
          ],
          "barpolar": [
           {
            "marker": {
             "line": {
              "color": "#E5ECF6",
              "width": 0.5
             },
             "pattern": {
              "fillmode": "overlay",
              "size": 10,
              "solidity": 0.2
             }
            },
            "type": "barpolar"
           }
          ],
          "carpet": [
           {
            "aaxis": {
             "endlinecolor": "#2a3f5f",
             "gridcolor": "white",
             "linecolor": "white",
             "minorgridcolor": "white",
             "startlinecolor": "#2a3f5f"
            },
            "baxis": {
             "endlinecolor": "#2a3f5f",
             "gridcolor": "white",
             "linecolor": "white",
             "minorgridcolor": "white",
             "startlinecolor": "#2a3f5f"
            },
            "type": "carpet"
           }
          ],
          "choropleth": [
           {
            "colorbar": {
             "outlinewidth": 0,
             "ticks": ""
            },
            "type": "choropleth"
           }
          ],
          "contour": [
           {
            "colorbar": {
             "outlinewidth": 0,
             "ticks": ""
            },
            "colorscale": [
             [
              0,
              "#0d0887"
             ],
             [
              0.1111111111111111,
              "#46039f"
             ],
             [
              0.2222222222222222,
              "#7201a8"
             ],
             [
              0.3333333333333333,
              "#9c179e"
             ],
             [
              0.4444444444444444,
              "#bd3786"
             ],
             [
              0.5555555555555556,
              "#d8576b"
             ],
             [
              0.6666666666666666,
              "#ed7953"
             ],
             [
              0.7777777777777778,
              "#fb9f3a"
             ],
             [
              0.8888888888888888,
              "#fdca26"
             ],
             [
              1,
              "#f0f921"
             ]
            ],
            "type": "contour"
           }
          ],
          "contourcarpet": [
           {
            "colorbar": {
             "outlinewidth": 0,
             "ticks": ""
            },
            "type": "contourcarpet"
           }
          ],
          "heatmap": [
           {
            "colorbar": {
             "outlinewidth": 0,
             "ticks": ""
            },
            "colorscale": [
             [
              0,
              "#0d0887"
             ],
             [
              0.1111111111111111,
              "#46039f"
             ],
             [
              0.2222222222222222,
              "#7201a8"
             ],
             [
              0.3333333333333333,
              "#9c179e"
             ],
             [
              0.4444444444444444,
              "#bd3786"
             ],
             [
              0.5555555555555556,
              "#d8576b"
             ],
             [
              0.6666666666666666,
              "#ed7953"
             ],
             [
              0.7777777777777778,
              "#fb9f3a"
             ],
             [
              0.8888888888888888,
              "#fdca26"
             ],
             [
              1,
              "#f0f921"
             ]
            ],
            "type": "heatmap"
           }
          ],
          "heatmapgl": [
           {
            "colorbar": {
             "outlinewidth": 0,
             "ticks": ""
            },
            "colorscale": [
             [
              0,
              "#0d0887"
             ],
             [
              0.1111111111111111,
              "#46039f"
             ],
             [
              0.2222222222222222,
              "#7201a8"
             ],
             [
              0.3333333333333333,
              "#9c179e"
             ],
             [
              0.4444444444444444,
              "#bd3786"
             ],
             [
              0.5555555555555556,
              "#d8576b"
             ],
             [
              0.6666666666666666,
              "#ed7953"
             ],
             [
              0.7777777777777778,
              "#fb9f3a"
             ],
             [
              0.8888888888888888,
              "#fdca26"
             ],
             [
              1,
              "#f0f921"
             ]
            ],
            "type": "heatmapgl"
           }
          ],
          "histogram": [
           {
            "marker": {
             "pattern": {
              "fillmode": "overlay",
              "size": 10,
              "solidity": 0.2
             }
            },
            "type": "histogram"
           }
          ],
          "histogram2d": [
           {
            "colorbar": {
             "outlinewidth": 0,
             "ticks": ""
            },
            "colorscale": [
             [
              0,
              "#0d0887"
             ],
             [
              0.1111111111111111,
              "#46039f"
             ],
             [
              0.2222222222222222,
              "#7201a8"
             ],
             [
              0.3333333333333333,
              "#9c179e"
             ],
             [
              0.4444444444444444,
              "#bd3786"
             ],
             [
              0.5555555555555556,
              "#d8576b"
             ],
             [
              0.6666666666666666,
              "#ed7953"
             ],
             [
              0.7777777777777778,
              "#fb9f3a"
             ],
             [
              0.8888888888888888,
              "#fdca26"
             ],
             [
              1,
              "#f0f921"
             ]
            ],
            "type": "histogram2d"
           }
          ],
          "histogram2dcontour": [
           {
            "colorbar": {
             "outlinewidth": 0,
             "ticks": ""
            },
            "colorscale": [
             [
              0,
              "#0d0887"
             ],
             [
              0.1111111111111111,
              "#46039f"
             ],
             [
              0.2222222222222222,
              "#7201a8"
             ],
             [
              0.3333333333333333,
              "#9c179e"
             ],
             [
              0.4444444444444444,
              "#bd3786"
             ],
             [
              0.5555555555555556,
              "#d8576b"
             ],
             [
              0.6666666666666666,
              "#ed7953"
             ],
             [
              0.7777777777777778,
              "#fb9f3a"
             ],
             [
              0.8888888888888888,
              "#fdca26"
             ],
             [
              1,
              "#f0f921"
             ]
            ],
            "type": "histogram2dcontour"
           }
          ],
          "mesh3d": [
           {
            "colorbar": {
             "outlinewidth": 0,
             "ticks": ""
            },
            "type": "mesh3d"
           }
          ],
          "parcoords": [
           {
            "line": {
             "colorbar": {
              "outlinewidth": 0,
              "ticks": ""
             }
            },
            "type": "parcoords"
           }
          ],
          "pie": [
           {
            "automargin": true,
            "type": "pie"
           }
          ],
          "scatter": [
           {
            "fillpattern": {
             "fillmode": "overlay",
             "size": 10,
             "solidity": 0.2
            },
            "type": "scatter"
           }
          ],
          "scatter3d": [
           {
            "line": {
             "colorbar": {
              "outlinewidth": 0,
              "ticks": ""
             }
            },
            "marker": {
             "colorbar": {
              "outlinewidth": 0,
              "ticks": ""
             }
            },
            "type": "scatter3d"
           }
          ],
          "scattercarpet": [
           {
            "marker": {
             "colorbar": {
              "outlinewidth": 0,
              "ticks": ""
             }
            },
            "type": "scattercarpet"
           }
          ],
          "scattergeo": [
           {
            "marker": {
             "colorbar": {
              "outlinewidth": 0,
              "ticks": ""
             }
            },
            "type": "scattergeo"
           }
          ],
          "scattergl": [
           {
            "marker": {
             "colorbar": {
              "outlinewidth": 0,
              "ticks": ""
             }
            },
            "type": "scattergl"
           }
          ],
          "scattermapbox": [
           {
            "marker": {
             "colorbar": {
              "outlinewidth": 0,
              "ticks": ""
             }
            },
            "type": "scattermapbox"
           }
          ],
          "scatterpolar": [
           {
            "marker": {
             "colorbar": {
              "outlinewidth": 0,
              "ticks": ""
             }
            },
            "type": "scatterpolar"
           }
          ],
          "scatterpolargl": [
           {
            "marker": {
             "colorbar": {
              "outlinewidth": 0,
              "ticks": ""
             }
            },
            "type": "scatterpolargl"
           }
          ],
          "scatterternary": [
           {
            "marker": {
             "colorbar": {
              "outlinewidth": 0,
              "ticks": ""
             }
            },
            "type": "scatterternary"
           }
          ],
          "surface": [
           {
            "colorbar": {
             "outlinewidth": 0,
             "ticks": ""
            },
            "colorscale": [
             [
              0,
              "#0d0887"
             ],
             [
              0.1111111111111111,
              "#46039f"
             ],
             [
              0.2222222222222222,
              "#7201a8"
             ],
             [
              0.3333333333333333,
              "#9c179e"
             ],
             [
              0.4444444444444444,
              "#bd3786"
             ],
             [
              0.5555555555555556,
              "#d8576b"
             ],
             [
              0.6666666666666666,
              "#ed7953"
             ],
             [
              0.7777777777777778,
              "#fb9f3a"
             ],
             [
              0.8888888888888888,
              "#fdca26"
             ],
             [
              1,
              "#f0f921"
             ]
            ],
            "type": "surface"
           }
          ],
          "table": [
           {
            "cells": {
             "fill": {
              "color": "#EBF0F8"
             },
             "line": {
              "color": "white"
             }
            },
            "header": {
             "fill": {
              "color": "#C8D4E3"
             },
             "line": {
              "color": "white"
             }
            },
            "type": "table"
           }
          ]
         },
         "layout": {
          "annotationdefaults": {
           "arrowcolor": "#2a3f5f",
           "arrowhead": 0,
           "arrowwidth": 1
          },
          "autotypenumbers": "strict",
          "coloraxis": {
           "colorbar": {
            "outlinewidth": 0,
            "ticks": ""
           }
          },
          "colorscale": {
           "diverging": [
            [
             0,
             "#8e0152"
            ],
            [
             0.1,
             "#c51b7d"
            ],
            [
             0.2,
             "#de77ae"
            ],
            [
             0.3,
             "#f1b6da"
            ],
            [
             0.4,
             "#fde0ef"
            ],
            [
             0.5,
             "#f7f7f7"
            ],
            [
             0.6,
             "#e6f5d0"
            ],
            [
             0.7,
             "#b8e186"
            ],
            [
             0.8,
             "#7fbc41"
            ],
            [
             0.9,
             "#4d9221"
            ],
            [
             1,
             "#276419"
            ]
           ],
           "sequential": [
            [
             0,
             "#0d0887"
            ],
            [
             0.1111111111111111,
             "#46039f"
            ],
            [
             0.2222222222222222,
             "#7201a8"
            ],
            [
             0.3333333333333333,
             "#9c179e"
            ],
            [
             0.4444444444444444,
             "#bd3786"
            ],
            [
             0.5555555555555556,
             "#d8576b"
            ],
            [
             0.6666666666666666,
             "#ed7953"
            ],
            [
             0.7777777777777778,
             "#fb9f3a"
            ],
            [
             0.8888888888888888,
             "#fdca26"
            ],
            [
             1,
             "#f0f921"
            ]
           ],
           "sequentialminus": [
            [
             0,
             "#0d0887"
            ],
            [
             0.1111111111111111,
             "#46039f"
            ],
            [
             0.2222222222222222,
             "#7201a8"
            ],
            [
             0.3333333333333333,
             "#9c179e"
            ],
            [
             0.4444444444444444,
             "#bd3786"
            ],
            [
             0.5555555555555556,
             "#d8576b"
            ],
            [
             0.6666666666666666,
             "#ed7953"
            ],
            [
             0.7777777777777778,
             "#fb9f3a"
            ],
            [
             0.8888888888888888,
             "#fdca26"
            ],
            [
             1,
             "#f0f921"
            ]
           ]
          },
          "colorway": [
           "#636efa",
           "#EF553B",
           "#00cc96",
           "#ab63fa",
           "#FFA15A",
           "#19d3f3",
           "#FF6692",
           "#B6E880",
           "#FF97FF",
           "#FECB52"
          ],
          "font": {
           "color": "#2a3f5f"
          },
          "geo": {
           "bgcolor": "white",
           "lakecolor": "white",
           "landcolor": "#E5ECF6",
           "showlakes": true,
           "showland": true,
           "subunitcolor": "white"
          },
          "hoverlabel": {
           "align": "left"
          },
          "hovermode": "closest",
          "mapbox": {
           "style": "light"
          },
          "paper_bgcolor": "white",
          "plot_bgcolor": "#E5ECF6",
          "polar": {
           "angularaxis": {
            "gridcolor": "white",
            "linecolor": "white",
            "ticks": ""
           },
           "bgcolor": "#E5ECF6",
           "radialaxis": {
            "gridcolor": "white",
            "linecolor": "white",
            "ticks": ""
           }
          },
          "scene": {
           "xaxis": {
            "backgroundcolor": "#E5ECF6",
            "gridcolor": "white",
            "gridwidth": 2,
            "linecolor": "white",
            "showbackground": true,
            "ticks": "",
            "zerolinecolor": "white"
           },
           "yaxis": {
            "backgroundcolor": "#E5ECF6",
            "gridcolor": "white",
            "gridwidth": 2,
            "linecolor": "white",
            "showbackground": true,
            "ticks": "",
            "zerolinecolor": "white"
           },
           "zaxis": {
            "backgroundcolor": "#E5ECF6",
            "gridcolor": "white",
            "gridwidth": 2,
            "linecolor": "white",
            "showbackground": true,
            "ticks": "",
            "zerolinecolor": "white"
           }
          },
          "shapedefaults": {
           "line": {
            "color": "#2a3f5f"
           }
          },
          "ternary": {
           "aaxis": {
            "gridcolor": "white",
            "linecolor": "white",
            "ticks": ""
           },
           "baxis": {
            "gridcolor": "white",
            "linecolor": "white",
            "ticks": ""
           },
           "bgcolor": "#E5ECF6",
           "caxis": {
            "gridcolor": "white",
            "linecolor": "white",
            "ticks": ""
           }
          },
          "title": {
           "x": 0.05
          },
          "xaxis": {
           "automargin": true,
           "gridcolor": "white",
           "linecolor": "white",
           "ticks": "",
           "title": {
            "standoff": 15
           },
           "zerolinecolor": "white",
           "zerolinewidth": 2
          },
          "yaxis": {
           "automargin": true,
           "gridcolor": "white",
           "linecolor": "white",
           "ticks": "",
           "title": {
            "standoff": 15
           },
           "zerolinecolor": "white",
           "zerolinewidth": 2
          }
         }
        },
        "title": {
         "text": "Comparison of GDP per capita and deaths per million by country"
        },
        "updatemenus": [
         {
          "buttons": [
           {
            "args": [
             {
              "visible": [
               true,
               true,
               false,
               false
              ]
             }
            ],
            "label": "Global",
            "method": "update"
           },
           {
            "args": [
             {
              "visible": [
               false,
               false,
               true,
               true
              ]
             }
            ],
            "label": "Europe",
            "method": "update"
           }
          ],
          "direction": "down",
          "showactive": true
         }
        ],
        "xaxis": {
         "title": {
          "text": "Total Deaths per Million"
         }
        },
        "yaxis": {
         "title": {
          "text": "GDP per Capita"
         }
        }
       }
      }
     },
     "metadata": {},
     "output_type": "display_data"
    }
   ],
   "source": [
    "import pandas as pd\n",
    "import plotly.express as px\n",
    "import plotly.graph_objects as go\n",
    "\n",
    "# Read the datasets\n",
    "CovidData = pd.read_csv('owid-covid-data.csv')\n",
    "GDPdata = pd.read_csv('GDP-data.csv', skiprows=4)\n",
    "\n",
    "# Filter COVID data for 2021 and get the last available data for each location\n",
    "Covid_2021 = CovidData[CovidData['date'].str.startswith('2021')]\n",
    "Covid_deaths_2021 = Covid_2021.groupby('location').last().reset_index()\n",
    "\n",
    "# Preprocess GDP data\n",
    "GDPdata = GDPdata.rename(columns={'Country Name': 'location'})\n",
    "\n",
    "# Merge GDP data with COVID data\n",
    "df = pd.merge(GDPdata, Covid_deaths_2021, on='location', how='inner')\n",
    "\n",
    "# Filter out non-country entries\n",
    "non_countries = ['World', 'Upper middle income', 'Lower middle income', 'High income', 'Low income', \n",
    "                 'European Union', 'North America', 'South America', 'Asia', 'Oceania', 'Africa']\n",
    "df = df[~df['location'].isin(non_countries)]\n",
    "\n",
    "# Create a column to mark European countries\n",
    "df['is_europe'] = df['continent'] == 'Europe'\n",
    "\n",
    "# Create the scatter plot for global countries\n",
    "fig_global = px.scatter(\n",
    "    df[~df['is_europe']],\n",
    "    x=\"total_deaths_per_million\",\n",
    "    y=\"2021\",\n",
    "    hover_name=\"location\",\n",
    "    trendline=\"ols\",\n",
    "    title=\"Comparison of GDP and Deaths per Million by Country\",\n",
    "    labels={\n",
    "        \"2021\": \"GDP\",\n",
    "        \"total_deaths_per_million\": \"Total Deaths per Million\"\n",
    "    }\n",
    ")\n",
    "\n",
    "# Create the scatter plot for European countries\n",
    "fig_europe = px.scatter(\n",
    "    df[df['is_europe']],\n",
    "    x=\"total_deaths_per_million\",\n",
    "    y=\"2021\",\n",
    "    hover_name=\"location\",\n",
    "    trendline=\"ols\",\n",
    "    title=\"Comparison of GDP and Deaths per Million by Country (Europe)\",\n",
    "    labels={\n",
    "        \"2021\": \"GDP\",\n",
    "        \"total_deaths_per_million\": \"Total Deaths per Million\"\n",
    "    }\n",
    ")\n",
    "\n",
    "# Create a figure with subplots\n",
    "fig = go.Figure()\n",
    "\n",
    "# Add GDP traces, initially visible\n",
    "for trace in fig_global.data:\n",
    "    fig.add_trace(trace)\n",
    "    fig.data[-1].visible = True\n",
    "\n",
    "# Add mortality traces, initially invisible\n",
    "for trace in fig_europe.data:\n",
    "    fig.add_trace(trace)\n",
    "    fig.data[-1].visible = False\n",
    "\n",
    "# Update layout to add dropdown menu and axis titles\n",
    "fig.update_layout(\n",
    "    updatemenus=[\n",
    "        dict(\n",
    "            buttons=list([\n",
    "                dict(\n",
    "                    args=[{\"visible\": [True] * len(fig_global.data) + [False] * len(fig_europe.data)}],\n",
    "                    label=\"Global\",\n",
    "                    method=\"update\"\n",
    "                ),\n",
    "                dict(\n",
    "                    args=[{\"visible\": [False] * len(fig_global.data) + [True] * len(fig_europe.data)}],\n",
    "                    label=\"Europe\",\n",
    "                    method=\"update\"\n",
    "                )\n",
    "            ]),\n",
    "            direction=\"down\",\n",
    "            showactive=True\n",
    "        )\n",
    "    ],\n",
    "    title=\"Comparison of GDP per capita and deaths per million by country\",\n",
    "    xaxis_title=\"Total Deaths per Million\",\n",
    "    yaxis_title=\"GDP per Capita\",\n",
    ")\n",
    "\n",
    "# Show the figure\n",
    "fig.add_annotation(text=\"Figure 1.5\", xref=\"paper\", yref=\"paper\", x=1, y=-0.2, showarrow=False, align=\"center\", font=dict(size=14))\n",
    "\n",
    "fig.show()\n"
   ]
  },
  {
   "cell_type": "markdown",
   "metadata": {
    "tags": [
     "remove_input"
    ]
   },
   "source": [
    "The global graph shows that there is no global correlation between total deaths per million and GDP per capita. But as you can see in the European graph, the general trend is clearly going down. There is a negative correlation between the total deaths per million and the GDP per capita. This shows us that the global correlation might be influenced by other factors in countries with a lower GDP per capita."
   ]
  },
  {
   "cell_type": "markdown",
   "metadata": {
    "tags": [
     "remove_input"
    ]
   },
   "source": [
    "### Perspective 2: \n",
    "**Countries with a lower GDP per capita have not necessarily managed the covid pandemic worse.**\n",
    "\n",
    "Although there might be some truth to the statement that money and resources helped lighten the burden of the COVID-19 pandemic, there also might be some other factors at play. For this reason it is important that we explore other possible explainations for having a lower mortality rate. \n",
    "\n",
    "#### Argument 1: \n",
    "**Countries with a lower GDP per capita do not have more cases and deaths than Countries with a high GDP per capita**\n",
    "\n",
    "Different regions of the world generally have wildly different socio-economic circumstances. Mapping the countries against their respective mortality rate should provide us an insight into the possible causations for higher and lower mortality rates. We have chosen to try to map the mortality rate across different years because we were interested to see whether the general contrast between high and low mortality rate stayed the same across all years or whether there were changes throughout the years."
   ]
  },
  {
   "cell_type": "code",
   "execution_count": 88,
   "metadata": {
    "tags": [
     "remove_input"
    ]
   },
   "outputs": [
    {
     "data": {
      "application/vnd.plotly.v1+json": {
       "config": {
        "plotlyServerURL": "https://plot.ly"
       },
       "data": [
        {
         "coloraxis": "coloraxis",
         "geo": "geo",
         "hovertemplate": "<b>%{hovertext}</b><br><br>Country Code=%{location}<br>total_deaths_per_million=%{z}<extra></extra>",
         "hovertext": [
          "Aruba",
          "Afghanistan",
          "Angola",
          "Albania",
          "Andorra",
          "United Arab Emirates",
          "Argentina",
          "Armenia",
          "American Samoa",
          "Antigua and Barbuda",
          "Australia",
          "Austria",
          "Azerbaijan",
          "Burundi",
          "Belgium",
          "Benin",
          "Burkina Faso",
          "Bangladesh",
          "Bulgaria",
          "Bahrain",
          "Bosnia and Herzegovina",
          "Belarus",
          "Belize",
          "Bermuda",
          "Bolivia",
          "Brazil",
          "Barbados",
          "Bhutan",
          "Botswana",
          "Central African Republic",
          "Canada",
          "Switzerland",
          "Chile",
          "China",
          "Cote d'Ivoire",
          "Cameroon",
          "Colombia",
          "Comoros",
          "Costa Rica",
          "Cuba",
          "Curacao",
          "Cayman Islands",
          "Cyprus",
          "Czechia",
          "Germany",
          "Djibouti",
          "Dominica",
          "Denmark",
          "Dominican Republic",
          "Algeria",
          "Ecuador",
          "Eritrea",
          "Spain",
          "Estonia",
          "Ethiopia",
          "Finland",
          "Fiji",
          "France",
          "Gabon",
          "United Kingdom",
          "Georgia",
          "Ghana",
          "Gibraltar",
          "Guinea",
          "Guinea-Bissau",
          "Equatorial Guinea",
          "Greece",
          "Grenada",
          "Greenland",
          "Guatemala",
          "Guam",
          "Guyana",
          "Honduras",
          "Croatia",
          "Haiti",
          "Hungary",
          "Indonesia",
          "Isle of Man",
          "India",
          "Ireland",
          "Iraq",
          "Iceland",
          "Israel",
          "Italy",
          "Jamaica",
          "Jordan",
          "Japan",
          "Kazakhstan",
          "Kenya",
          "Cambodia",
          "Kiribati",
          "Kuwait",
          "Lebanon",
          "Liberia",
          "Libya",
          "Liechtenstein",
          "Sri Lanka",
          "Lesotho",
          "Lithuania",
          "Luxembourg",
          "Latvia",
          "Morocco",
          "Monaco",
          "Moldova",
          "Madagascar",
          "Maldives",
          "Mexico",
          "Marshall Islands",
          "North Macedonia",
          "Mali",
          "Malta",
          "Myanmar",
          "Montenegro",
          "Mongolia",
          "Northern Mariana Islands",
          "Mozambique",
          "Mauritania",
          "Mauritius",
          "Malawi",
          "Malaysia",
          "Namibia",
          "New Caledonia",
          "Niger",
          "Nigeria",
          "Nicaragua",
          "Netherlands",
          "Norway",
          "Nepal",
          "Nauru",
          "New Zealand",
          "Oman",
          "Pakistan",
          "Panama",
          "Philippines",
          "Palau",
          "Papua New Guinea",
          "Poland",
          "Puerto Rico",
          "Portugal",
          "Paraguay",
          "French Polynesia",
          "Qatar",
          "Romania",
          "Rwanda",
          "Saudi Arabia",
          "Sudan",
          "Senegal",
          "Singapore",
          "Solomon Islands",
          "Sierra Leone",
          "El Salvador",
          "San Marino",
          "Somalia",
          "Serbia",
          "South Sudan",
          "Sao Tome and Principe",
          "Suriname",
          "Slovenia",
          "Sweden",
          "Eswatini",
          "Sint Maarten (Dutch part)",
          "Seychelles",
          "Turks and Caicos Islands",
          "Chad",
          "Togo",
          "Thailand",
          "Tajikistan",
          "Turkmenistan",
          "Tonga",
          "Trinidad and Tobago",
          "Tunisia",
          "Tuvalu",
          "Tanzania",
          "Uganda",
          "Ukraine",
          "Uruguay",
          "United States",
          "Uzbekistan",
          "British Virgin Islands",
          "Vanuatu",
          "Samoa",
          "Kosovo",
          "South Africa",
          "Zambia",
          "Zimbabwe"
         ],
         "locations": [
          "ABW",
          "AFG",
          "AGO",
          "ALB",
          "AND",
          "ARE",
          "ARG",
          "ARM",
          "ASM",
          "ATG",
          "AUS",
          "AUT",
          "AZE",
          "BDI",
          "BEL",
          "BEN",
          "BFA",
          "BGD",
          "BGR",
          "BHR",
          "BIH",
          "BLR",
          "BLZ",
          "BMU",
          "BOL",
          "BRA",
          "BRB",
          "BTN",
          "BWA",
          "CAF",
          "CAN",
          "CHE",
          "CHL",
          "CHN",
          "CIV",
          "CMR",
          "COL",
          "COM",
          "CRI",
          "CUB",
          "CUW",
          "CYM",
          "CYP",
          "CZE",
          "DEU",
          "DJI",
          "DMA",
          "DNK",
          "DOM",
          "DZA",
          "ECU",
          "ERI",
          "ESP",
          "EST",
          "ETH",
          "FIN",
          "FJI",
          "FRA",
          "GAB",
          "GBR",
          "GEO",
          "GHA",
          "GIB",
          "GIN",
          "GNB",
          "GNQ",
          "GRC",
          "GRD",
          "GRL",
          "GTM",
          "GUM",
          "GUY",
          "HND",
          "HRV",
          "HTI",
          "HUN",
          "IDN",
          "IMN",
          "IND",
          "IRL",
          "IRQ",
          "ISL",
          "ISR",
          "ITA",
          "JAM",
          "JOR",
          "JPN",
          "KAZ",
          "KEN",
          "KHM",
          "KIR",
          "KWT",
          "LBN",
          "LBR",
          "LBY",
          "LIE",
          "LKA",
          "LSO",
          "LTU",
          "LUX",
          "LVA",
          "MAR",
          "MCO",
          "MDA",
          "MDG",
          "MDV",
          "MEX",
          "MHL",
          "MKD",
          "MLI",
          "MLT",
          "MMR",
          "MNE",
          "MNG",
          "MNP",
          "MOZ",
          "MRT",
          "MUS",
          "MWI",
          "MYS",
          "NAM",
          "NCL",
          "NER",
          "NGA",
          "NIC",
          "NLD",
          "NOR",
          "NPL",
          "NRU",
          "NZL",
          "OMN",
          "PAK",
          "PAN",
          "PHL",
          "PLW",
          "PNG",
          "POL",
          "PRI",
          "PRT",
          "PRY",
          "PYF",
          "QAT",
          "ROU",
          "RWA",
          "SAU",
          "SDN",
          "SEN",
          "SGP",
          "SLB",
          "SLE",
          "SLV",
          "SMR",
          "SOM",
          "SRB",
          "SSD",
          "STP",
          "SUR",
          "SVN",
          "SWE",
          "SWZ",
          "SXM",
          "SYC",
          "TCA",
          "TCD",
          "TGO",
          "THA",
          "TJK",
          "TKM",
          "TON",
          "TTO",
          "TUN",
          "TUV",
          "TZA",
          "UGA",
          "UKR",
          "URY",
          "USA",
          "UZB",
          "VGB",
          "VUT",
          "WSM",
          "XKX",
          "ZAF",
          "ZMB",
          "ZWE"
         ],
         "name": "",
         "type": "choropleth",
         "z": [
          441.485,
          52.469,
          11.239,
          398.97,
          1039.54,
          69.377,
          1043.873,
          995.514,
          null,
          53.321,
          35.145,
          788.513,
          233.248,
          0.155,
          1662.159,
          3.295,
          3.44,
          43.532,
          1050.287,
          238.413,
          1213.225,
          144.311,
          562.567,
          140.172,
          743.04,
          884.701,
          24.854,
          null,
          14.827,
          11.292,
          383.156,
          821.695,
          836.779,
          3.35,
          4.758,
          16.049,
          803.678,
          8.365,
          405.919,
          12.576,
          62.77,
          29.103,
          127.231,
          1083.191,
          563.861,
          54.423,
          null,
          197.033,
          214.092,
          60.619,
          777.179,
          0.271,
          1134.684,
          214.168,
          15.408,
          111.537,
          2.151,
          983.093,
          26.789,
          1340.193,
          634.817,
          10.007,
          183.615,
          5.772,
          21.372,
          51.346,
          450.844,
          null,
          null,
          266.926,
          704.377,
          200.315,
          293.4,
          896.446,
          20.285,
          907.668,
          77.085,
          414.035,
          104.167,
          443.948,
          286.924,
          75.087,
          343.105,
          1213.246,
          103.983,
          330.413,
          25.921,
          137.592,
          30.633,
          null,
          null,
          217.621,
          251.196,
          16.784,
          207.711,
          990.98,
          8.749,
          27.756,
          587.988,
          440.086,
          341.501,
          192.322,
          82.212,
          904.371,
          8.814,
          91.638,
          1128.513,
          null,
          1383.259,
          11.065,
          425.657,
          48.007,
          865.915,
          0.294,
          40.344,
          4.823,
          71.155,
          7.695,
          9.213,
          13.289,
          75.963,
          null,
          3.854,
          5.706,
          23.603,
          656.968,
          77.471,
          89.041,
          null,
          4.821,
          325.809,
          41.624,
          851.975,
          78.462,
          null,
          0.887,
          682.613,
          501.167,
          651.844,
          317.664,
          352.605,
          90.534,
          768.492,
          5.299,
          169.629,
          32.427,
          22.349,
          5.145,
          null,
          8.831,
          204.691,
          1691.897,
          7.217,
          434.109,
          5.773,
          74.76,
          192.542,
          1359.063,
          883.751,
          135.643,
          588.342,
          null,
          131.216,
          5.868,
          7.685,
          0.837,
          9.043,
          null,
          null,
          81.644,
          358.203,
          null,
          0.321,
          6.307,
          384.819,
          41.779,
          1013.687,
          null,
          31.916,
          null,
          null,
          726.665,
          442.8,
          19.083,
          20.894
         ]
        },
        {
         "coloraxis": "coloraxis",
         "geo": "geo",
         "hovertemplate": "<b>%{hovertext}</b><br><br>Country Code=%{location}<br>total_deaths_per_million=%{z}<extra></extra>",
         "hovertext": [
          "Aruba",
          "Afghanistan",
          "Angola",
          "Albania",
          "Andorra",
          "United Arab Emirates",
          "Argentina",
          "Armenia",
          "American Samoa",
          "Antigua and Barbuda",
          "Australia",
          "Austria",
          "Azerbaijan",
          "Burundi",
          "Belgium",
          "Benin",
          "Burkina Faso",
          "Bangladesh",
          "Bulgaria",
          "Bahrain",
          "Bosnia and Herzegovina",
          "Belarus",
          "Belize",
          "Bermuda",
          "Bolivia",
          "Brazil",
          "Barbados",
          "Bhutan",
          "Botswana",
          "Central African Republic",
          "Canada",
          "Switzerland",
          "Chile",
          "China",
          "Cote d'Ivoire",
          "Cameroon",
          "Colombia",
          "Comoros",
          "Costa Rica",
          "Cuba",
          "Curacao",
          "Cayman Islands",
          "Cyprus",
          "Czechia",
          "Germany",
          "Djibouti",
          "Dominica",
          "Denmark",
          "Dominican Republic",
          "Algeria",
          "Ecuador",
          "Eritrea",
          "Spain",
          "Estonia",
          "Ethiopia",
          "Finland",
          "Fiji",
          "France",
          "Gabon",
          "United Kingdom",
          "Georgia",
          "Ghana",
          "Gibraltar",
          "Guinea",
          "Guinea-Bissau",
          "Equatorial Guinea",
          "Greece",
          "Grenada",
          "Greenland",
          "Guatemala",
          "Guam",
          "Guyana",
          "Honduras",
          "Croatia",
          "Haiti",
          "Hungary",
          "Indonesia",
          "Isle of Man",
          "India",
          "Ireland",
          "Iraq",
          "Iceland",
          "Israel",
          "Italy",
          "Jamaica",
          "Jordan",
          "Japan",
          "Kazakhstan",
          "Kenya",
          "Cambodia",
          "Kiribati",
          "Kuwait",
          "Lebanon",
          "Liberia",
          "Libya",
          "Liechtenstein",
          "Sri Lanka",
          "Lesotho",
          "Lithuania",
          "Luxembourg",
          "Latvia",
          "Morocco",
          "Monaco",
          "Moldova",
          "Madagascar",
          "Maldives",
          "Mexico",
          "Marshall Islands",
          "North Macedonia",
          "Mali",
          "Malta",
          "Myanmar",
          "Montenegro",
          "Mongolia",
          "Northern Mariana Islands",
          "Mozambique",
          "Mauritania",
          "Mauritius",
          "Malawi",
          "Malaysia",
          "Namibia",
          "New Caledonia",
          "Niger",
          "Nigeria",
          "Nicaragua",
          "Netherlands",
          "Norway",
          "Nepal",
          "Nauru",
          "New Zealand",
          "Oman",
          "Pakistan",
          "Panama",
          "Philippines",
          "Palau",
          "Papua New Guinea",
          "Poland",
          "Puerto Rico",
          "Portugal",
          "Paraguay",
          "French Polynesia",
          "Qatar",
          "Romania",
          "Rwanda",
          "Saudi Arabia",
          "Sudan",
          "Senegal",
          "Singapore",
          "Solomon Islands",
          "Sierra Leone",
          "El Salvador",
          "San Marino",
          "Somalia",
          "Serbia",
          "South Sudan",
          "Sao Tome and Principe",
          "Suriname",
          "Slovenia",
          "Sweden",
          "Eswatini",
          "Sint Maarten (Dutch part)",
          "Seychelles",
          "Turks and Caicos Islands",
          "Chad",
          "Togo",
          "Thailand",
          "Tajikistan",
          "Turkmenistan",
          "Tonga",
          "Trinidad and Tobago",
          "Tunisia",
          "Tuvalu",
          "Tanzania",
          "Uganda",
          "Ukraine",
          "Uruguay",
          "United States",
          "Uzbekistan",
          "British Virgin Islands",
          "Vanuatu",
          "Samoa",
          "Kosovo",
          "South Africa",
          "Zambia",
          "Zimbabwe"
         ],
         "locations": [
          "ABW",
          "AFG",
          "AGO",
          "ALB",
          "AND",
          "ARE",
          "ARG",
          "ARM",
          "ASM",
          "ATG",
          "AUS",
          "AUT",
          "AZE",
          "BDI",
          "BEL",
          "BEN",
          "BFA",
          "BGD",
          "BGR",
          "BHR",
          "BIH",
          "BLR",
          "BLZ",
          "BMU",
          "BOL",
          "BRA",
          "BRB",
          "BTN",
          "BWA",
          "CAF",
          "CAN",
          "CHE",
          "CHL",
          "CHN",
          "CIV",
          "CMR",
          "COL",
          "COM",
          "CRI",
          "CUB",
          "CUW",
          "CYM",
          "CYP",
          "CZE",
          "DEU",
          "DJI",
          "DMA",
          "DNK",
          "DOM",
          "DZA",
          "ECU",
          "ERI",
          "ESP",
          "EST",
          "ETH",
          "FIN",
          "FJI",
          "FRA",
          "GAB",
          "GBR",
          "GEO",
          "GHA",
          "GIB",
          "GIN",
          "GNB",
          "GNQ",
          "GRC",
          "GRD",
          "GRL",
          "GTM",
          "GUM",
          "GUY",
          "HND",
          "HRV",
          "HTI",
          "HUN",
          "IDN",
          "IMN",
          "IND",
          "IRL",
          "IRQ",
          "ISL",
          "ISR",
          "ITA",
          "JAM",
          "JOR",
          "JPN",
          "KAZ",
          "KEN",
          "KHM",
          "KIR",
          "KWT",
          "LBN",
          "LBR",
          "LBY",
          "LIE",
          "LKA",
          "LSO",
          "LTU",
          "LUX",
          "LVA",
          "MAR",
          "MCO",
          "MDA",
          "MDG",
          "MDV",
          "MEX",
          "MHL",
          "MKD",
          "MLI",
          "MLT",
          "MMR",
          "MNE",
          "MNG",
          "MNP",
          "MOZ",
          "MRT",
          "MUS",
          "MWI",
          "MYS",
          "NAM",
          "NCL",
          "NER",
          "NGA",
          "NIC",
          "NLD",
          "NOR",
          "NPL",
          "NRU",
          "NZL",
          "OMN",
          "PAK",
          "PAN",
          "PHL",
          "PLW",
          "PNG",
          "POL",
          "PRI",
          "PRT",
          "PRY",
          "PYF",
          "QAT",
          "ROU",
          "RWA",
          "SAU",
          "SDN",
          "SEN",
          "SGP",
          "SLB",
          "SLE",
          "SLV",
          "SMR",
          "SOM",
          "SRB",
          "SSD",
          "STP",
          "SUR",
          "SVN",
          "SWE",
          "SWZ",
          "SXM",
          "SYC",
          "TCA",
          "TCD",
          "TGO",
          "THA",
          "TJK",
          "TKM",
          "TON",
          "TTO",
          "TUN",
          "TUV",
          "TZA",
          "UGA",
          "UKR",
          "URY",
          "USA",
          "UZB",
          "VGB",
          "VUT",
          "WSM",
          "XKX",
          "ZAF",
          "ZMB",
          "ZWE"
         ],
         "name": "",
         "type": "choropleth",
         "z": [
          1258.6999999999998,
          126.287,
          37.821,
          722.298,
          701.377,
          158.985,
          1545.21,
          1861.1949999999997,
          null,
          1205.0500000000002,
          55.657999999999994,
          1066.9360000000001,
          566.5139999999999,
          0.931,
          756.5250000000001,
          8.762,
          10.541,
          120.383,
          3451.0699999999997,
          708.4449999999999,
          2894.6690000000003,
          430.836,
          898.133,
          1510.738,
          854.6220000000001,
          1987.353,
          898.2909999999999,
          null,
          912.444,
          6.811000000000002,
          393.11600000000004,
          531.5499999999998,
          1153.301,
          0.6469999999999998,
          20.348000000000003,
          50.261,
          1696.3400000000001,
          174.47799999999998,
          1012.5780000000001,
          729.473,
          910.171,
          130.962,
          583.701,
          2346.2,
          847.8249999999999,
          114.19900000000001,
          null,
          346.466,
          163.241,
          78.102,
          1091.995,
          19.273,
          784.5260000000001,
          1164.348,
          40.467999999999996,
          219.826,
          747.498,
          938.1740000000001,
          93.345,
          1269.2250000000001,
          2973.786,
          28.439,
          2876.6409999999996,
          22.296,
          49.391999999999996,
          53.13700000000001,
          1523.644,
          null,
          null,
          635.0620000000001,
          867.373,
          1088.1299999999999,
          706.23,
          2150.179,
          45.83500000000001,
          2935.598,
          445.79800000000006,
          378.546,
          234.311,
          761.282,
          255.19100000000003,
          24.13499999999999,
          530.109,
          1099.353,
          766.787,
          772.204,
          122.41900000000001,
          799.876,
          68.557,
          null,
          null,
          360.51599999999996,
          1393.143,
          37.339,
          620.345,
          762.2919999999999,
          672.9979999999999,
          260.644,
          2067.2290000000003,
          540.456,
          2260.282,
          203.50799999999998,
          959.1410000000001,
          2207.154,
          25.868000000000002,
          406.64599999999996,
          1249.8809999999999,
          null,
          2606.03,
          17.837000000000003,
          498.78800000000007,
          307.368,
          2763.594,
          582.6320000000001,
          181.547,
          54.626,
          110.85,
          578.694,
          104.875,
          909.977,
          1330.724,
          null,
          6.601,
          8.085,
          7.482999999999997,
          536.381,
          168.19,
          290.20300000000003,
          null,
          4.822000000000001,
          653.1479999999999,
          80.946,
          828.611,
          364.60200000000003,
          null,
          57.283,
          1684.0890000000002,
          513.7719999999999,
          1187.146,
          2130.1499999999996,
          1723.8449999999998,
          137.284,
          2209.035,
          92.40199999999999,
          73.99300000000002,
          37.931999999999995,
          86.79599999999999,
          140.677,
          null,
          5.462,
          397.86,
          1216.978,
          68.532,
          1394.882,
          6.5969999999999995,
          175.90699999999998,
          1726.409,
          1513.3199999999997,
          566.7650000000001,
          922.875,
          1108.7980000000002,
          null,
          437.38800000000003,
          4.344999999999999,
          20.116,
          300.152,
          3.516,
          null,
          null,
          1693.616,
          1707.4140000000002,
          null,
          10.931000000000001,
          63.111999999999995,
          1945.8850000000002,
          1758.504,
          1388.357,
          null,
          1212.818,
          null,
          null,
          944.944,
          1072.7640000000001,
          165.604,
          278.42199999999997
         ]
        },
        {
         "coloraxis": "coloraxis",
         "geo": "geo",
         "hovertemplate": "<b>%{hovertext}</b><br><br>Country Code=%{location}<br>total_deaths_per_million=%{z}<extra></extra>",
         "hovertext": [
          "Aruba",
          "Afghanistan",
          "Angola",
          "Albania",
          "Andorra",
          "United Arab Emirates",
          "Argentina",
          "Armenia",
          "American Samoa",
          "Antigua and Barbuda",
          "Australia",
          "Austria",
          "Azerbaijan",
          "Burundi",
          "Belgium",
          "Benin",
          "Burkina Faso",
          "Bangladesh",
          "Bulgaria",
          "Bahrain",
          "Bosnia and Herzegovina",
          "Belarus",
          "Belize",
          "Bermuda",
          "Bolivia",
          "Brazil",
          "Barbados",
          "Bhutan",
          "Botswana",
          "Central African Republic",
          "Canada",
          "Switzerland",
          "Chile",
          "China",
          "Cote d'Ivoire",
          "Cameroon",
          "Colombia",
          "Comoros",
          "Costa Rica",
          "Cuba",
          "Curacao",
          "Cayman Islands",
          "Cyprus",
          "Czechia",
          "Germany",
          "Djibouti",
          "Dominica",
          "Denmark",
          "Dominican Republic",
          "Algeria",
          "Ecuador",
          "Eritrea",
          "Spain",
          "Estonia",
          "Ethiopia",
          "Finland",
          "Fiji",
          "France",
          "Gabon",
          "United Kingdom",
          "Georgia",
          "Ghana",
          "Gibraltar",
          "Guinea",
          "Guinea-Bissau",
          "Equatorial Guinea",
          "Greece",
          "Grenada",
          "Greenland",
          "Guatemala",
          "Guam",
          "Guyana",
          "Honduras",
          "Croatia",
          "Haiti",
          "Hungary",
          "Indonesia",
          "Isle of Man",
          "India",
          "Ireland",
          "Iraq",
          "Iceland",
          "Israel",
          "Italy",
          "Jamaica",
          "Jordan",
          "Japan",
          "Kazakhstan",
          "Kenya",
          "Cambodia",
          "Kiribati",
          "Kuwait",
          "Lebanon",
          "Liberia",
          "Libya",
          "Liechtenstein",
          "Sri Lanka",
          "Lesotho",
          "Lithuania",
          "Luxembourg",
          "Latvia",
          "Morocco",
          "Monaco",
          "Moldova",
          "Madagascar",
          "Maldives",
          "Mexico",
          "Marshall Islands",
          "North Macedonia",
          "Mali",
          "Malta",
          "Myanmar",
          "Montenegro",
          "Mongolia",
          "Northern Mariana Islands",
          "Mozambique",
          "Mauritania",
          "Mauritius",
          "Malawi",
          "Malaysia",
          "Namibia",
          "New Caledonia",
          "Niger",
          "Nigeria",
          "Nicaragua",
          "Netherlands",
          "Norway",
          "Nepal",
          "Nauru",
          "New Zealand",
          "Oman",
          "Pakistan",
          "Panama",
          "Philippines",
          "Palau",
          "Papua New Guinea",
          "Poland",
          "Puerto Rico",
          "Portugal",
          "Paraguay",
          "French Polynesia",
          "Qatar",
          "Romania",
          "Rwanda",
          "Saudi Arabia",
          "Sudan",
          "Senegal",
          "Singapore",
          "Solomon Islands",
          "Sierra Leone",
          "El Salvador",
          "San Marino",
          "Somalia",
          "Serbia",
          "South Sudan",
          "Sao Tome and Principe",
          "Suriname",
          "Slovenia",
          "Sweden",
          "Eswatini",
          "Sint Maarten (Dutch part)",
          "Seychelles",
          "Turks and Caicos Islands",
          "Chad",
          "Togo",
          "Thailand",
          "Tajikistan",
          "Turkmenistan",
          "Tonga",
          "Trinidad and Tobago",
          "Tunisia",
          "Tuvalu",
          "Tanzania",
          "Uganda",
          "Ukraine",
          "Uruguay",
          "United States",
          "Uzbekistan",
          "British Virgin Islands",
          "Vanuatu",
          "Samoa",
          "Kosovo",
          "South Africa",
          "Zambia",
          "Zimbabwe"
         ],
         "locations": [
          "ABW",
          "AFG",
          "AGO",
          "ALB",
          "AND",
          "ARE",
          "ARG",
          "ARM",
          "ASM",
          "ATG",
          "AUS",
          "AUT",
          "AZE",
          "BDI",
          "BEL",
          "BEN",
          "BFA",
          "BGD",
          "BGR",
          "BHR",
          "BIH",
          "BLR",
          "BLZ",
          "BMU",
          "BOL",
          "BRA",
          "BRB",
          "BTN",
          "BWA",
          "CAF",
          "CAN",
          "CHE",
          "CHL",
          "CHN",
          "CIV",
          "CMR",
          "COL",
          "COM",
          "CRI",
          "CUB",
          "CUW",
          "CYM",
          "CYP",
          "CZE",
          "DEU",
          "DJI",
          "DMA",
          "DNK",
          "DOM",
          "DZA",
          "ECU",
          "ERI",
          "ESP",
          "EST",
          "ETH",
          "FIN",
          "FJI",
          "FRA",
          "GAB",
          "GBR",
          "GEO",
          "GHA",
          "GIB",
          "GIN",
          "GNB",
          "GNQ",
          "GRC",
          "GRD",
          "GRL",
          "GTM",
          "GUM",
          "GUY",
          "HND",
          "HRV",
          "HTI",
          "HUN",
          "IDN",
          "IMN",
          "IND",
          "IRL",
          "IRQ",
          "ISL",
          "ISR",
          "ITA",
          "JAM",
          "JOR",
          "JPN",
          "KAZ",
          "KEN",
          "KHM",
          "KIR",
          "KWT",
          "LBN",
          "LBR",
          "LBY",
          "LIE",
          "LKA",
          "LSO",
          "LTU",
          "LUX",
          "LVA",
          "MAR",
          "MCO",
          "MDA",
          "MDG",
          "MDV",
          "MEX",
          "MHL",
          "MKD",
          "MLI",
          "MLT",
          "MMR",
          "MNE",
          "MNG",
          "MNP",
          "MOZ",
          "MRT",
          "MUS",
          "MWI",
          "MYS",
          "NAM",
          "NCL",
          "NER",
          "NGA",
          "NIC",
          "NLD",
          "NOR",
          "NPL",
          "NRU",
          "NZL",
          "OMN",
          "PAK",
          "PAN",
          "PHL",
          "PLW",
          "PNG",
          "POL",
          "PRI",
          "PRT",
          "PRY",
          "PYF",
          "QAT",
          "ROU",
          "RWA",
          "SAU",
          "SDN",
          "SEN",
          "SGP",
          "SLB",
          "SLE",
          "SLV",
          "SMR",
          "SOM",
          "SRB",
          "SSD",
          "STP",
          "SUR",
          "SVN",
          "SWE",
          "SWZ",
          "SXM",
          "SYC",
          "TCA",
          "TCD",
          "TGO",
          "THA",
          "TJK",
          "TKM",
          "TON",
          "TTO",
          "TUN",
          "TUV",
          "TZA",
          "UGA",
          "UKR",
          "URY",
          "USA",
          "UZB",
          "VGB",
          "VUT",
          "WSM",
          "XKX",
          "ZAF",
          "ZMB",
          "ZWE"
         ],
         "name": "",
         "type": "choropleth",
         "z": [
          1371.4210000000003,
          64.45499999999998,
          16.381,
          542.867,
          1277.507,
          89.714,
          1314.009,
          1270.6470000000004,
          null,
          351.9179999999999,
          624.929,
          1346.031,
          399.4950000000001,
          0.23299999999999987,
          2095.2439999999997,
          3.4450000000000003,
          6.879999999999999,
          51.587,
          2157.3420000000006,
          334.865,
          2122.1389999999997,
          315.67999999999995,
          799.4379999999999,
          856.6049999999998,
          968.0049999999999,
          1230.016,
          1118.425,
          null,
          146.75099999999998,
          13.443,
          866.066,
          1054.7490000000003,
          2060.984,
          26.701,
          9.125999999999998,
          20.131999999999998,
          1042.5259999999998,
          16.730000000000018,
          738.4909999999999,
          31.30600000000004,
          653.857,
          407.43899999999996,
          816.9580000000001,
          1665.525,
          1140.1599999999999,
          54.423,
          null,
          964.5949999999999,
          227.18299999999996,
          75.13900000000001,
          904.2270000000001,
          8.684999999999999,
          1716.45,
          892.114,
          20.903000000000006,
          1349.999,
          200.04899999999998,
          1563.38,
          34.74199999999999,
          1920.6489999999997,
          1539.1049999999996,
          15.204,
          489.64100000000053,
          11.328000000000003,
          34.19500000000001,
          56.12199999999999,
          1844.3,
          null,
          null,
          485.20799999999986,
          1525.1799999999998,
          502.02300000000014,
          354.1700000000001,
          2195.5860000000002,
          28.398999999999987,
          1924.192,
          136.9109999999999,
          993.683,
          140.162,
          918.3549999999999,
          315.0609999999999,
          474.654,
          742.618,
          2020.1570000000002,
          458.02099999999996,
          479.095,
          327.861,
          182.54500000000007,
          36.723,
          null,
          null,
          241.515,
          563.961,
          18.105000000000004,
          324.557,
          1448.355,
          97.19600000000003,
          45.53699999999998,
          1375.9709999999995,
          934.217,
          1528.1079999999997,
          231.48600000000005,
          822.1199999999999,
          1437.522,
          21.951,
          187.09400000000005,
          1348.6390000000001,
          null,
          2111.19,
          15.047999999999995,
          1065.08,
          52.363,
          1408.1090000000004,
          45.90399999999988,
          645.499,
          13.012000000000008,
          99.65899999999999,
          220.85800000000006,
          26.708,
          175.37800000000004,
          259.44399999999996,
          null,
          5.38,
          6.3519999999999985,
          27.777,
          771.7479999999999,
          704.9639999999999,
          103.24899999999997,
          null,
          436.426,
          358.1490000000001,
          48.96000000000001,
          1114.6440000000002,
          200.14799999999997,
          null,
          8.676000000000002,
          1288.4019999999998,
          1189.8870000000002,
          1322.1870000000001,
          770.1210000000005,
          395.04800000000023,
          116.87800000000001,
          1216.3720000000003,
          14.082000000000008,
          187.15199999999996,
          68.608,
          26.85300000000001,
          162.852,
          null,
          9.063,
          269.712,
          2374.592,
          8.808000000000007,
          1151.1239999999998,
          6.048,
          162.714,
          527.469,
          2638.4030000000002,
          1518.956,
          260.4680000000001,
          905.1409999999998,
          null,
          349.90999999999997,
          6.601000000000001,
          12.657000000000004,
          168.40300000000002,
          9.043,
          null,
          null,
          1099.904,
          662.1819999999998,
          null,
          1.9699999999999989,
          13.713999999999999,
          780.6699999999996,
          450.80099999999993,
          1804.101,
          null,
          829.8220000000001,
          null,
          null,
          846.1860000000001,
          639.7309999999998,
          35.317999999999984,
          66.84800000000001
         ]
        }
       ],
       "layout": {
        "geo": {
         "projection": {
          "type": "equirectangular"
         },
         "showcoastlines": false,
         "showframe": false
        },
        "height": 600,
        "template": {
         "data": {
          "bar": [
           {
            "error_x": {
             "color": "#2a3f5f"
            },
            "error_y": {
             "color": "#2a3f5f"
            },
            "marker": {
             "line": {
              "color": "#E5ECF6",
              "width": 0.5
             },
             "pattern": {
              "fillmode": "overlay",
              "size": 10,
              "solidity": 0.2
             }
            },
            "type": "bar"
           }
          ],
          "barpolar": [
           {
            "marker": {
             "line": {
              "color": "#E5ECF6",
              "width": 0.5
             },
             "pattern": {
              "fillmode": "overlay",
              "size": 10,
              "solidity": 0.2
             }
            },
            "type": "barpolar"
           }
          ],
          "carpet": [
           {
            "aaxis": {
             "endlinecolor": "#2a3f5f",
             "gridcolor": "white",
             "linecolor": "white",
             "minorgridcolor": "white",
             "startlinecolor": "#2a3f5f"
            },
            "baxis": {
             "endlinecolor": "#2a3f5f",
             "gridcolor": "white",
             "linecolor": "white",
             "minorgridcolor": "white",
             "startlinecolor": "#2a3f5f"
            },
            "type": "carpet"
           }
          ],
          "choropleth": [
           {
            "colorbar": {
             "outlinewidth": 0,
             "ticks": ""
            },
            "type": "choropleth"
           }
          ],
          "contour": [
           {
            "colorbar": {
             "outlinewidth": 0,
             "ticks": ""
            },
            "colorscale": [
             [
              0,
              "#0d0887"
             ],
             [
              0.1111111111111111,
              "#46039f"
             ],
             [
              0.2222222222222222,
              "#7201a8"
             ],
             [
              0.3333333333333333,
              "#9c179e"
             ],
             [
              0.4444444444444444,
              "#bd3786"
             ],
             [
              0.5555555555555556,
              "#d8576b"
             ],
             [
              0.6666666666666666,
              "#ed7953"
             ],
             [
              0.7777777777777778,
              "#fb9f3a"
             ],
             [
              0.8888888888888888,
              "#fdca26"
             ],
             [
              1,
              "#f0f921"
             ]
            ],
            "type": "contour"
           }
          ],
          "contourcarpet": [
           {
            "colorbar": {
             "outlinewidth": 0,
             "ticks": ""
            },
            "type": "contourcarpet"
           }
          ],
          "heatmap": [
           {
            "colorbar": {
             "outlinewidth": 0,
             "ticks": ""
            },
            "colorscale": [
             [
              0,
              "#0d0887"
             ],
             [
              0.1111111111111111,
              "#46039f"
             ],
             [
              0.2222222222222222,
              "#7201a8"
             ],
             [
              0.3333333333333333,
              "#9c179e"
             ],
             [
              0.4444444444444444,
              "#bd3786"
             ],
             [
              0.5555555555555556,
              "#d8576b"
             ],
             [
              0.6666666666666666,
              "#ed7953"
             ],
             [
              0.7777777777777778,
              "#fb9f3a"
             ],
             [
              0.8888888888888888,
              "#fdca26"
             ],
             [
              1,
              "#f0f921"
             ]
            ],
            "type": "heatmap"
           }
          ],
          "heatmapgl": [
           {
            "colorbar": {
             "outlinewidth": 0,
             "ticks": ""
            },
            "colorscale": [
             [
              0,
              "#0d0887"
             ],
             [
              0.1111111111111111,
              "#46039f"
             ],
             [
              0.2222222222222222,
              "#7201a8"
             ],
             [
              0.3333333333333333,
              "#9c179e"
             ],
             [
              0.4444444444444444,
              "#bd3786"
             ],
             [
              0.5555555555555556,
              "#d8576b"
             ],
             [
              0.6666666666666666,
              "#ed7953"
             ],
             [
              0.7777777777777778,
              "#fb9f3a"
             ],
             [
              0.8888888888888888,
              "#fdca26"
             ],
             [
              1,
              "#f0f921"
             ]
            ],
            "type": "heatmapgl"
           }
          ],
          "histogram": [
           {
            "marker": {
             "pattern": {
              "fillmode": "overlay",
              "size": 10,
              "solidity": 0.2
             }
            },
            "type": "histogram"
           }
          ],
          "histogram2d": [
           {
            "colorbar": {
             "outlinewidth": 0,
             "ticks": ""
            },
            "colorscale": [
             [
              0,
              "#0d0887"
             ],
             [
              0.1111111111111111,
              "#46039f"
             ],
             [
              0.2222222222222222,
              "#7201a8"
             ],
             [
              0.3333333333333333,
              "#9c179e"
             ],
             [
              0.4444444444444444,
              "#bd3786"
             ],
             [
              0.5555555555555556,
              "#d8576b"
             ],
             [
              0.6666666666666666,
              "#ed7953"
             ],
             [
              0.7777777777777778,
              "#fb9f3a"
             ],
             [
              0.8888888888888888,
              "#fdca26"
             ],
             [
              1,
              "#f0f921"
             ]
            ],
            "type": "histogram2d"
           }
          ],
          "histogram2dcontour": [
           {
            "colorbar": {
             "outlinewidth": 0,
             "ticks": ""
            },
            "colorscale": [
             [
              0,
              "#0d0887"
             ],
             [
              0.1111111111111111,
              "#46039f"
             ],
             [
              0.2222222222222222,
              "#7201a8"
             ],
             [
              0.3333333333333333,
              "#9c179e"
             ],
             [
              0.4444444444444444,
              "#bd3786"
             ],
             [
              0.5555555555555556,
              "#d8576b"
             ],
             [
              0.6666666666666666,
              "#ed7953"
             ],
             [
              0.7777777777777778,
              "#fb9f3a"
             ],
             [
              0.8888888888888888,
              "#fdca26"
             ],
             [
              1,
              "#f0f921"
             ]
            ],
            "type": "histogram2dcontour"
           }
          ],
          "mesh3d": [
           {
            "colorbar": {
             "outlinewidth": 0,
             "ticks": ""
            },
            "type": "mesh3d"
           }
          ],
          "parcoords": [
           {
            "line": {
             "colorbar": {
              "outlinewidth": 0,
              "ticks": ""
             }
            },
            "type": "parcoords"
           }
          ],
          "pie": [
           {
            "automargin": true,
            "type": "pie"
           }
          ],
          "scatter": [
           {
            "fillpattern": {
             "fillmode": "overlay",
             "size": 10,
             "solidity": 0.2
            },
            "type": "scatter"
           }
          ],
          "scatter3d": [
           {
            "line": {
             "colorbar": {
              "outlinewidth": 0,
              "ticks": ""
             }
            },
            "marker": {
             "colorbar": {
              "outlinewidth": 0,
              "ticks": ""
             }
            },
            "type": "scatter3d"
           }
          ],
          "scattercarpet": [
           {
            "marker": {
             "colorbar": {
              "outlinewidth": 0,
              "ticks": ""
             }
            },
            "type": "scattercarpet"
           }
          ],
          "scattergeo": [
           {
            "marker": {
             "colorbar": {
              "outlinewidth": 0,
              "ticks": ""
             }
            },
            "type": "scattergeo"
           }
          ],
          "scattergl": [
           {
            "marker": {
             "colorbar": {
              "outlinewidth": 0,
              "ticks": ""
             }
            },
            "type": "scattergl"
           }
          ],
          "scattermapbox": [
           {
            "marker": {
             "colorbar": {
              "outlinewidth": 0,
              "ticks": ""
             }
            },
            "type": "scattermapbox"
           }
          ],
          "scatterpolar": [
           {
            "marker": {
             "colorbar": {
              "outlinewidth": 0,
              "ticks": ""
             }
            },
            "type": "scatterpolar"
           }
          ],
          "scatterpolargl": [
           {
            "marker": {
             "colorbar": {
              "outlinewidth": 0,
              "ticks": ""
             }
            },
            "type": "scatterpolargl"
           }
          ],
          "scatterternary": [
           {
            "marker": {
             "colorbar": {
              "outlinewidth": 0,
              "ticks": ""
             }
            },
            "type": "scatterternary"
           }
          ],
          "surface": [
           {
            "colorbar": {
             "outlinewidth": 0,
             "ticks": ""
            },
            "colorscale": [
             [
              0,
              "#0d0887"
             ],
             [
              0.1111111111111111,
              "#46039f"
             ],
             [
              0.2222222222222222,
              "#7201a8"
             ],
             [
              0.3333333333333333,
              "#9c179e"
             ],
             [
              0.4444444444444444,
              "#bd3786"
             ],
             [
              0.5555555555555556,
              "#d8576b"
             ],
             [
              0.6666666666666666,
              "#ed7953"
             ],
             [
              0.7777777777777778,
              "#fb9f3a"
             ],
             [
              0.8888888888888888,
              "#fdca26"
             ],
             [
              1,
              "#f0f921"
             ]
            ],
            "type": "surface"
           }
          ],
          "table": [
           {
            "cells": {
             "fill": {
              "color": "#EBF0F8"
             },
             "line": {
              "color": "white"
             }
            },
            "header": {
             "fill": {
              "color": "#C8D4E3"
             },
             "line": {
              "color": "white"
             }
            },
            "type": "table"
           }
          ]
         },
         "layout": {
          "annotationdefaults": {
           "arrowcolor": "#2a3f5f",
           "arrowhead": 0,
           "arrowwidth": 1
          },
          "autotypenumbers": "strict",
          "coloraxis": {
           "colorbar": {
            "outlinewidth": 0,
            "ticks": ""
           }
          },
          "colorscale": {
           "diverging": [
            [
             0,
             "#8e0152"
            ],
            [
             0.1,
             "#c51b7d"
            ],
            [
             0.2,
             "#de77ae"
            ],
            [
             0.3,
             "#f1b6da"
            ],
            [
             0.4,
             "#fde0ef"
            ],
            [
             0.5,
             "#f7f7f7"
            ],
            [
             0.6,
             "#e6f5d0"
            ],
            [
             0.7,
             "#b8e186"
            ],
            [
             0.8,
             "#7fbc41"
            ],
            [
             0.9,
             "#4d9221"
            ],
            [
             1,
             "#276419"
            ]
           ],
           "sequential": [
            [
             0,
             "#0d0887"
            ],
            [
             0.1111111111111111,
             "#46039f"
            ],
            [
             0.2222222222222222,
             "#7201a8"
            ],
            [
             0.3333333333333333,
             "#9c179e"
            ],
            [
             0.4444444444444444,
             "#bd3786"
            ],
            [
             0.5555555555555556,
             "#d8576b"
            ],
            [
             0.6666666666666666,
             "#ed7953"
            ],
            [
             0.7777777777777778,
             "#fb9f3a"
            ],
            [
             0.8888888888888888,
             "#fdca26"
            ],
            [
             1,
             "#f0f921"
            ]
           ],
           "sequentialminus": [
            [
             0,
             "#0d0887"
            ],
            [
             0.1111111111111111,
             "#46039f"
            ],
            [
             0.2222222222222222,
             "#7201a8"
            ],
            [
             0.3333333333333333,
             "#9c179e"
            ],
            [
             0.4444444444444444,
             "#bd3786"
            ],
            [
             0.5555555555555556,
             "#d8576b"
            ],
            [
             0.6666666666666666,
             "#ed7953"
            ],
            [
             0.7777777777777778,
             "#fb9f3a"
            ],
            [
             0.8888888888888888,
             "#fdca26"
            ],
            [
             1,
             "#f0f921"
            ]
           ]
          },
          "colorway": [
           "#636efa",
           "#EF553B",
           "#00cc96",
           "#ab63fa",
           "#FFA15A",
           "#19d3f3",
           "#FF6692",
           "#B6E880",
           "#FF97FF",
           "#FECB52"
          ],
          "font": {
           "color": "#2a3f5f"
          },
          "geo": {
           "bgcolor": "white",
           "lakecolor": "white",
           "landcolor": "#E5ECF6",
           "showlakes": true,
           "showland": true,
           "subunitcolor": "white"
          },
          "hoverlabel": {
           "align": "left"
          },
          "hovermode": "closest",
          "mapbox": {
           "style": "light"
          },
          "paper_bgcolor": "white",
          "plot_bgcolor": "#E5ECF6",
          "polar": {
           "angularaxis": {
            "gridcolor": "white",
            "linecolor": "white",
            "ticks": ""
           },
           "bgcolor": "#E5ECF6",
           "radialaxis": {
            "gridcolor": "white",
            "linecolor": "white",
            "ticks": ""
           }
          },
          "scene": {
           "xaxis": {
            "backgroundcolor": "#E5ECF6",
            "gridcolor": "white",
            "gridwidth": 2,
            "linecolor": "white",
            "showbackground": true,
            "ticks": "",
            "zerolinecolor": "white"
           },
           "yaxis": {
            "backgroundcolor": "#E5ECF6",
            "gridcolor": "white",
            "gridwidth": 2,
            "linecolor": "white",
            "showbackground": true,
            "ticks": "",
            "zerolinecolor": "white"
           },
           "zaxis": {
            "backgroundcolor": "#E5ECF6",
            "gridcolor": "white",
            "gridwidth": 2,
            "linecolor": "white",
            "showbackground": true,
            "ticks": "",
            "zerolinecolor": "white"
           }
          },
          "shapedefaults": {
           "line": {
            "color": "#2a3f5f"
           }
          },
          "ternary": {
           "aaxis": {
            "gridcolor": "white",
            "linecolor": "white",
            "ticks": ""
           },
           "baxis": {
            "gridcolor": "white",
            "linecolor": "white",
            "ticks": ""
           },
           "bgcolor": "#E5ECF6",
           "caxis": {
            "gridcolor": "white",
            "linecolor": "white",
            "ticks": ""
           }
          },
          "title": {
           "x": 0.05
          },
          "xaxis": {
           "automargin": true,
           "gridcolor": "white",
           "linecolor": "white",
           "ticks": "",
           "title": {
            "standoff": 15
           },
           "zerolinecolor": "white",
           "zerolinewidth": 2
          },
          "yaxis": {
           "automargin": true,
           "gridcolor": "white",
           "linecolor": "white",
           "ticks": "",
           "title": {
            "standoff": 15
           },
           "zerolinecolor": "white",
           "zerolinewidth": 2
          }
         }
        },
        "updatemenus": [
         {
          "buttons": [
           {
            "args": [
             {
              "visible": [
               true,
               false,
               false
              ]
             }
            ],
            "label": "2020",
            "method": "update"
           },
           {
            "args": [
             {
              "visible": [
               false,
               true,
               false
              ]
             }
            ],
            "label": "2021",
            "method": "update"
           },
           {
            "args": [
             {
              "visible": [
               false,
               false,
               true
              ]
             }
            ],
            "label": "2022",
            "method": "update"
           }
          ],
          "direction": "down",
          "showactive": true
         }
        ]
       }
      }
     },
     "metadata": {},
     "output_type": "display_data"
    }
   ],
   "source": [
    "import pandas as pd\n",
    "import plotly.express as px\n",
    "import plotly.graph_objects as go\n",
    "\n",
    "# Load data\n",
    "CovidData = pd.read_csv('owid-covid-data.csv')\n",
    "GDPdata = pd.read_csv('GDP-data.csv', skiprows=4)\n",
    "\n",
    "# Filter the data for the years 2020, 2021, and 2022\n",
    "years = ['2020', '2021', '2022']\n",
    "CovidData['year'] = CovidData['date'].str[:4]\n",
    "CovidData = CovidData[CovidData['year'].isin(years)]\n",
    "\n",
    "# Preprocess GDP data\n",
    "GDPdata = GDPdata.rename(columns={'Country Name': 'location'})\n",
    "\n",
    "# Preprocess Covid data for each year\n",
    "def preprocess_covid_data(year):\n",
    "    Covid_year = CovidData[CovidData['year'] == year]\n",
    "    Covid_deaths_year = Covid_year.groupby('location').last()['total_deaths_per_million'].reset_index()\n",
    "    df_year = pd.merge(GDPdata, Covid_deaths_year, on='location', how='inner')\n",
    "    df_year = df_year[~df_year['location'].isin([\n",
    "        'World', 'Upper middle income', 'Lower middle income', 'High income', \n",
    "        'Low income', 'European Union', 'North America', 'South America', \n",
    "        'Asia', 'Oceania', 'Africa', 'Peru'\n",
    "    ])]\n",
    "    return df_year\n",
    "\n",
    "# Get the cumulative deaths for each year\n",
    "df_2020 = preprocess_covid_data('2020')\n",
    "df_2021 = preprocess_covid_data('2021')\n",
    "df_2022 = preprocess_covid_data('2022')\n",
    "\n",
    "# Calculate the yearly increase in deaths per million\n",
    "df_2021['total_deaths_per_million'] = df_2021['total_deaths_per_million'] - df_2020['total_deaths_per_million']\n",
    "df_2022['total_deaths_per_million'] = df_2022['total_deaths_per_million'] - df_2021['total_deaths_per_million']\n",
    "\n",
    "# Create a function to generate the choropleth map for a specific year\n",
    "def create_choropleth(df, year):\n",
    "    fig = px.choropleth(\n",
    "        df, \n",
    "        locations=\"Country Code\",\n",
    "        color=\"total_deaths_per_million\",\n",
    "        hover_name=\"location\",\n",
    "        color_continuous_scale=px.colors.sequential.Blues,\n",
    "        range_color=(0, max_deaths_per_million),\n",
    "        title=f\"Deaths per million by Country ({year})\"\n",
    "    )\n",
    "    fig.update_layout(\n",
    "        geo=dict(\n",
    "            showframe=False,\n",
    "            showcoastlines=False,\n",
    "            projection_type='equirectangular'\n",
    "        ),\n",
    "        height=600\n",
    "    )\n",
    "    return fig\n",
    "\n",
    "# Get the maximum value of total_deaths_per_million for consistent color scaling\n",
    "max_deaths_per_million = max(\n",
    "    df_2020['total_deaths_per_million'].max(), \n",
    "    df_2021['total_deaths_per_million'].max(), \n",
    "    df_2022['total_deaths_per_million'].max()\n",
    ")\n",
    "\n",
    "# Generate choropleth maps for each year\n",
    "fig_2020 = create_choropleth(df_2020, '2020')\n",
    "fig_2021 = create_choropleth(df_2021, '2021')\n",
    "fig_2022 = create_choropleth(df_2022, '2022')\n",
    "\n",
    "# Create a figure with all traces\n",
    "fig = go.Figure(data=fig_2020.data + fig_2021.data + fig_2022.data)\n",
    "\n",
    "# Update the layout to include dropdown buttons\n",
    "fig.update_layout(\n",
    "    updatemenus=[\n",
    "        {\n",
    "            'buttons': [\n",
    "                {\n",
    "                    'label': '2020',\n",
    "                    'method': 'update',\n",
    "                    'args': [{'visible': [True, False, False]}]\n",
    "                },\n",
    "                {\n",
    "                    'label': '2021',\n",
    "                    'method': 'update',\n",
    "                    'args': [{'visible': [False, True, False]}]\n",
    "                },\n",
    "                {\n",
    "                    'label': '2022',\n",
    "                    'method': 'update',\n",
    "                    'args': [{'visible': [False, False, True]}]\n",
    "                }\n",
    "            ],\n",
    "            'direction': 'down',\n",
    "            'showactive': True,\n",
    "        }\n",
    "    ],\n",
    "    geo=dict(\n",
    "        showframe=False,\n",
    "        showcoastlines=False,\n",
    "        projection_type='equirectangular',\n",
    "    ),\n",
    "    height=600\n",
    ")\n",
    "\n",
    "# Show the figure\n",
    "fig.show()"
   ]
  },
  {
   "cell_type": "markdown",
   "metadata": {
    "tags": [
     "remove_input"
    ]
   },
   "source": [
    "In the graph above Peru has been filtered out, as its mortality rate was exceptionaly high which skewed the contrast between high and low mortality rates.\n",
    "\n",
    "The graph above shows the mortality rate per million in countries across the world. As you can see there are more casualties per million in the Americas and Europe compared to Africa and Asia. This is highlighted by the fact that Peru has been filtered out as to make the contrast clearer between the comparatively high and low mortality rates. This is true for every recorded year of the pandemic. This means that across those three years something, that did not change throughout that period of time, caused some countries to have lower and others to have higher mortality rates."
   ]
  },
  {
   "cell_type": "markdown",
   "metadata": {
    "tags": [
     "remove_input"
    ]
   },
   "source": [
    "#### Argument 2: \n",
    "**Lower income countries have a lower median age, which results in a lower mortality rate.**\n",
    "\n",
    "Demographic factors like age could play a significant role in COVID-19 mortality rates. One notable factor is the median age of the population in different countries. Lower-income countries often have a younger population compared to higher-income countries, and this difference could impact COVID-19 mortality rates."
   ]
  },
  {
   "cell_type": "code",
   "execution_count": 89,
   "metadata": {
    "tags": [
     "remove_input"
    ]
   },
   "outputs": [
    {
     "data": {
      "application/vnd.plotly.v1+json": {
       "config": {
        "plotlyServerURL": "https://plot.ly"
       },
       "data": [
        {
         "hovertemplate": "<b>%{hovertext}</b><br><br>continent=North America<br>Median Age=%{x}<br>GDP per Capita 2021=%{y}<br>Total Deaths per Million (2021)=%{marker.size}<extra></extra>",
         "hovertext": [
          "Aruba",
          "Antigua and Barbuda",
          "Belize",
          "Bermuda",
          "Barbados",
          "Canada",
          "Costa Rica",
          "Curacao",
          "Cayman Islands",
          "Dominican Republic",
          "Guatemala",
          "Honduras",
          "Haiti",
          "Jamaica",
          "Mexico",
          "Nicaragua",
          "Panama",
          "Puerto Rico",
          "El Salvador",
          "Sint Maarten (Dutch part)",
          "Turks and Caicos Islands",
          "Trinidad and Tobago",
          "United States"
         ],
         "legendgroup": "North America",
         "marker": {
          "color": "#636efa",
          "size": [
           1258.6999999999998,
           1205.0500000000002,
           898.133,
           1510.738,
           898.2909999999999,
           393.11600000000004,
           1012.5780000000001,
           910.171,
           130.962,
           163.241,
           635.0620000000001,
           706.23,
           45.83500000000001,
           766.787,
           1249.8809999999999,
           7.482999999999997,
           828.611,
           513.7719999999999,
           397.86,
           1108.7980000000002,
           437.38800000000003,
           1693.616,
           1388.357
          ],
          "sizemode": "area",
          "sizeref": 0.9586305555555554,
          "symbol": "circle"
         },
         "mode": "markers",
         "name": "North America",
         "orientation": "v",
         "showlegend": true,
         "type": "scatter",
         "x": [
          41.2,
          32.1,
          25,
          null,
          39.8,
          41.4,
          33.6,
          41.7,
          null,
          27.6,
          22.9,
          24.9,
          24.3,
          31.4,
          29.3,
          27.3,
          29.7,
          38.2,
          27.6,
          null,
          null,
          36.2,
          38.3
         ],
         "xaxis": "x",
         "y": [
          38226.146156979,
          25493.1295548691,
          11559.8905984688,
          91508.8303752301,
          14686.2199296539,
          55634.8275796301,
          23700.2961314063,
          25163.8669323866,
          75898.4231569682,
          21923.3019358073,
          12106.4225430833,
          6285.9287396567,
          3114.96354203089,
          9610.98933709822,
          21123.6718346798,
          6874.61550569295,
          30895.8322499594,
          40537.7088223526,
          10860.247882807,
          39465.6250774608,
          21232.6835191491,
          27631.6778146419,
          70219.472454115
         ],
         "yaxis": "y"
        },
        {
         "hovertemplate": "<b>%{hovertext}</b><br><br>continent=Asia<br>Median Age=%{x}<br>GDP per Capita 2021=%{y}<br>Total Deaths per Million (2021)=%{marker.size}<extra></extra>",
         "hovertext": [
          "Afghanistan",
          "United Arab Emirates",
          "Armenia",
          "Azerbaijan",
          "Bangladesh",
          "Bahrain",
          "China",
          "Georgia",
          "Indonesia",
          "India",
          "Iraq",
          "Israel",
          "Jordan",
          "Japan",
          "Kazakhstan",
          "Kuwait",
          "Lebanon",
          "Sri Lanka",
          "Maldives",
          "Myanmar",
          "Mongolia",
          "Malaysia",
          "Nepal",
          "Oman",
          "Pakistan",
          "Philippines",
          "Qatar",
          "Saudi Arabia",
          "Singapore",
          "Thailand",
          "Tajikistan"
         ],
         "legendgroup": "Asia",
         "marker": {
          "color": "#EF553B",
          "size": [
           126.287,
           158.985,
           1861.1949999999997,
           566.5139999999999,
           120.383,
           708.4449999999999,
           0.6469999999999998,
           2973.786,
           445.79800000000006,
           234.311,
           255.19100000000003,
           530.109,
           772.204,
           122.41900000000001,
           799.876,
           360.51599999999996,
           1393.143,
           672.9979999999999,
           406.64599999999996,
           307.368,
           582.6320000000001,
           909.977,
           290.20300000000003,
           653.1479999999999,
           80.946,
           364.60200000000003,
           137.284,
           73.99300000000002,
           140.677,
           300.152,
           3.516
          ],
          "sizemode": "area",
          "sizeref": 0.9586305555555554,
          "symbol": "circle"
         },
         "mode": "markers",
         "name": "Asia",
         "orientation": "v",
         "showlegend": true,
         "type": "scatter",
         "x": [
          18.6,
          34,
          35.7,
          32.4,
          27.5,
          32.4,
          38.7,
          38.7,
          29.3,
          28.2,
          20,
          30.6,
          23.2,
          48.2,
          30.6,
          33.7,
          31.1,
          34.1,
          30.6,
          29.1,
          28.6,
          29.9,
          25,
          30.7,
          23.5,
          25.2,
          31.9,
          31.9,
          42.4,
          40.1,
          23.3
         ],
         "xaxis": "x",
         "y": [
          2138.87024713086,
          68912.5455473732,
          16899.0709181678,
          20111.3756952109,
          7366.48997079065,
          54351.8360757233,
          20406.7296584605,
          18691.1612210787,
          12897.0571071313,
          8044.67480751057,
          12476.3625169213,
          46126.6423137421,
          9115.01951145213,
          44291.9852770528,
          34233.4732249708,
          48129.9882968208,
          11860.0586252712,
          14306.2352220864,
          18865.7192956579,
          5138.88724952007,
          14951.1365679904,
          30456.0928951741,
          4461.46878467812,
          38930.9938379577,
          5554.58570149625,
          8797.16871175312,
          108865.13777489,
          47754.4377844143,
          128731.011187586,
          20253.3547905679,
          4074.56022293416
         ],
         "yaxis": "y"
        },
        {
         "hovertemplate": "<b>%{hovertext}</b><br><br>continent=Africa<br>Median Age=%{x}<br>GDP per Capita 2021=%{y}<br>Total Deaths per Million (2021)=%{marker.size}<extra></extra>",
         "hovertext": [
          "Angola",
          "Burundi",
          "Benin",
          "Burkina Faso",
          "Botswana",
          "Central African Republic",
          "Cote d'Ivoire",
          "Cameroon",
          "Comoros",
          "Djibouti",
          "Algeria",
          "Ethiopia",
          "Gabon",
          "Ghana",
          "Guinea",
          "Guinea-Bissau",
          "Equatorial Guinea",
          "Kenya",
          "Liberia",
          "Libya",
          "Lesotho",
          "Morocco",
          "Madagascar",
          "Mali",
          "Mozambique",
          "Mauritania",
          "Mauritius",
          "Malawi",
          "Namibia",
          "Niger",
          "Nigeria",
          "Rwanda",
          "Sudan",
          "Senegal",
          "Sierra Leone",
          "Somalia",
          "Sao Tome and Principe",
          "Eswatini",
          "Chad",
          "Togo",
          "Tunisia",
          "Tanzania",
          "Uganda",
          "South Africa",
          "Zambia",
          "Zimbabwe"
         ],
         "legendgroup": "Africa",
         "marker": {
          "color": "#00cc96",
          "size": [
           37.821,
           0.931,
           8.762,
           10.541,
           912.444,
           6.811000000000002,
           20.348000000000003,
           50.261,
           174.47799999999998,
           114.19900000000001,
           78.102,
           40.467999999999996,
           93.345,
           28.439,
           22.296,
           49.391999999999996,
           53.13700000000001,
           68.557,
           37.339,
           620.345,
           260.644,
           203.50799999999998,
           25.868000000000002,
           17.837000000000003,
           54.626,
           110.85,
           578.694,
           104.875,
           1330.724,
           6.601,
           8.085,
           92.40199999999999,
           37.931999999999995,
           86.79599999999999,
           5.462,
           68.532,
           175.90699999999998,
           922.875,
           4.344999999999999,
           20.116,
           1707.4140000000002,
           10.931000000000001,
           63.111999999999995,
           1072.7640000000001,
           165.604,
           278.42199999999997
          ],
          "sizemode": "area",
          "sizeref": 0.9586305555555554,
          "symbol": "circle"
         },
         "mode": "markers",
         "name": "Africa",
         "orientation": "v",
         "showlegend": true,
         "type": "scatter",
         "x": [
          16.8,
          17.5,
          18.8,
          17.6,
          25.8,
          18.3,
          18.7,
          18.8,
          20.4,
          25.4,
          29.1,
          19.8,
          23.1,
          21.1,
          19,
          19.4,
          22.4,
          20,
          19.2,
          29,
          22.2,
          29.6,
          19.6,
          16.4,
          17.7,
          20.3,
          37.4,
          18.1,
          22,
          15.1,
          18.1,
          20.3,
          19.7,
          18.7,
          19.1,
          16.8,
          18.7,
          21.5,
          16.7,
          19.4,
          32.7,
          17.7,
          16.4,
          27.3,
          17.7,
          19.6
         ],
         "xaxis": "x",
         "y": [
          7414.27895783202,
          864.280732753101,
          3575.31148668734,
          2467.67804044213,
          16651.5337042653,
          1057.19439503026,
          6432.62666292098,
          4741.76177028658,
          3426.75773437156,
          6032.27795593735,
          12893.2100025293,
          2628.34346412648,
          19552.3625335025,
          6544.2381999688,
          3735.0898272933,
          2164.37287781941,
          17936.6113034777,
          5360.36190289931,
          1556.94547466638,
          15133.8474122324,
          2456.31221508897,
          8581.330078125,
          1642.30416221094,
          2399.46153474407,
          1440.45976271877,
          5988.20355101133,
          22737.5729410543,
          1731.76777467309,
          10823.175558195,
          1538.47074692859,
          5623.66407810605,
          2705.84426715937,
          3420.45190429688,
          4266.26875168597,
          1623.97562392431,
          1461.96879165973,
          5703.24824295017,
          10202.5096730796,
          1764.34807562549,
          2678.83160754709,
          12126.587729035,
          3451.4482421875,
          2688.26683541397,
          14172.5442513912,
          3526.50741832512,
          3276.26775280153
         ],
         "yaxis": "y"
        },
        {
         "hovertemplate": "<b>%{hovertext}</b><br><br>continent=Europe<br>Median Age=%{x}<br>GDP per Capita 2021=%{y}<br>Total Deaths per Million (2021)=%{marker.size}<extra></extra>",
         "hovertext": [
          "Albania",
          "Andorra",
          "Austria",
          "Belgium",
          "Bulgaria",
          "Bosnia and Herzegovina",
          "Belarus",
          "Switzerland",
          "Cyprus",
          "Czechia",
          "Germany",
          "Denmark",
          "Spain",
          "Estonia",
          "Finland",
          "France",
          "United Kingdom",
          "Greece",
          "Croatia",
          "Hungary",
          "Ireland",
          "Iceland",
          "Italy",
          "Lithuania",
          "Luxembourg",
          "Latvia",
          "Moldova",
          "North Macedonia",
          "Malta",
          "Montenegro",
          "Netherlands",
          "Norway",
          "Poland",
          "Portugal",
          "Romania",
          "San Marino",
          "Serbia",
          "Slovenia",
          "Sweden",
          "Ukraine",
          "Kosovo"
         ],
         "legendgroup": "Europe",
         "marker": {
          "color": "#ab63fa",
          "size": [
           722.298,
           701.377,
           1066.9360000000001,
           756.5250000000001,
           3451.0699999999997,
           2894.6690000000003,
           430.836,
           531.5499999999998,
           583.701,
           2346.2,
           847.8249999999999,
           346.466,
           784.5260000000001,
           1164.348,
           219.826,
           938.1740000000001,
           1269.2250000000001,
           1523.644,
           2150.179,
           2935.598,
           761.282,
           24.13499999999999,
           1099.353,
           2067.2290000000003,
           540.456,
           2260.282,
           2207.154,
           2606.03,
           498.78800000000007,
           2763.594,
           536.381,
           168.19,
           1684.0890000000002,
           1187.146,
           2209.035,
           1216.978,
           1394.882,
           1513.3199999999997,
           566.7650000000001,
           1945.8850000000002,
           944.944
          ],
          "sizemode": "area",
          "sizeref": 0.9586305555555554,
          "symbol": "circle"
         },
         "mode": "markers",
         "name": "Europe",
         "orientation": "v",
         "showlegend": true,
         "type": "scatter",
         "x": [
          38,
          null,
          44.4,
          41.8,
          44.7,
          42.5,
          40.3,
          43.1,
          37.3,
          43.3,
          46.6,
          42.3,
          45.5,
          42.7,
          42.8,
          42,
          40.8,
          45.3,
          44,
          43.4,
          38.7,
          37.3,
          47.9,
          43.5,
          39.7,
          43.9,
          37.6,
          39.1,
          42.4,
          39.1,
          43.2,
          39.7,
          41.8,
          46.2,
          43,
          null,
          41.2,
          44.5,
          41,
          41.4,
          null
         ],
         "xaxis": "x",
         "y": [
          16262.6634527606,
          58829.8500720505,
          63421.2035870778,
          62107.0699329664,
          29406.5795920851,
          18379.5525047191,
          27611.1801135156,
          81603.2073073193,
          48469.4140625,
          48418.1157871868,
          61939.6515850137,
          69878.9348117258,
          43620.6040614123,
          45047.315035037,
          57848.6141705053,
          53834.7992971017,
          52841.6345850474,
          33018.2544152866,
          36954.4345867034,
          38643.762589993,
          114120.544516392,
          61481.3794980574,
          49912.83903304,
          46410.0676392912,
          137947.34385169,
          36777.8928459839,
          15682.0703284653,
          19902.8198301911,
          53387.2378429299,
          24511.2620665873,
          67693.3264311302,
          86891.9964886406,
          40462.6887122126,
          38783.0115625218,
          37971.0545519053,
          65717.8915454458,
          22575.4210980499,
          46502.0978938704,
          63375.0446462412,
          18040.345703125,
          12362.7048078624
         ],
         "yaxis": "y"
        },
        {
         "hovertemplate": "<b>%{hovertext}</b><br><br>continent=South America<br>Median Age=%{x}<br>GDP per Capita 2021=%{y}<br>Total Deaths per Million (2021)=%{marker.size}<extra></extra>",
         "hovertext": [
          "Argentina",
          "Bolivia",
          "Brazil",
          "Chile",
          "Colombia",
          "Ecuador",
          "Guyana",
          "Peru",
          "Paraguay",
          "Suriname",
          "Uruguay"
         ],
         "legendgroup": "South America",
         "marker": {
          "color": "#FFA15A",
          "size": [
           1545.21,
           854.6220000000001,
           1987.353,
           1153.301,
           1696.3400000000001,
           1091.995,
           1088.1299999999999,
           3228.556,
           2130.1499999999996,
           1726.409,
           1758.504
          ],
          "sizemode": "area",
          "sizeref": 0.9586305555555554,
          "symbol": "circle"
         },
         "mode": "markers",
         "name": "South America",
         "orientation": "v",
         "showlegend": true,
         "type": "scatter",
         "x": [
          31.9,
          25.4,
          33.5,
          35.4,
          32.2,
          28.1,
          26.3,
          29.1,
          26.5,
          29.6,
          35.6
         ],
         "xaxis": "x",
         "y": [
          26086.8023552274,
          9342.97184473106,
          17450.5086501913,
          29148.2424509188,
          17586.5239590949,
          13293.0871517821,
          23176.1332006217,
          14853.5805797423,
          15361.0847494949,
          18447.3399360527,
          29500.3726206454
         ],
         "yaxis": "y"
        },
        {
         "hovertemplate": "<b>%{hovertext}</b><br><br>continent=Oceania<br>Median Age=%{x}<br>GDP per Capita 2021=%{y}<br>Total Deaths per Million (2021)=%{marker.size}<extra></extra>",
         "hovertext": [
          "Australia",
          "Fiji",
          "New Zealand",
          "Papua New Guinea"
         ],
         "legendgroup": "Oceania",
         "marker": {
          "color": "#19d3f3",
          "size": [
           55.657999999999994,
           747.498,
           4.822000000000001,
           57.283
          ],
          "sizemode": "area",
          "sizeref": 0.9586305555555554,
          "symbol": "circle"
         },
         "mode": "markers",
         "name": "Oceania",
         "orientation": "v",
         "showlegend": true,
         "type": "scatter",
         "x": [
          37.9,
          28.6,
          37.9,
          22.6
         ],
         "xaxis": "x",
         "y": [
          57406.1787604549,
          10593.9126867971,
          48555.5523439365,
          4014.2854655247
         ],
         "yaxis": "y"
        }
       ],
       "layout": {
        "annotations": [
         {
          "align": "center",
          "font": {
           "size": 14
          },
          "showarrow": false,
          "text": "Figure 2.2",
          "x": 1,
          "xref": "paper",
          "y": -0.1,
          "yref": "paper"
         }
        ],
        "height": 800,
        "legend": {
         "itemsizing": "constant",
         "title": {
          "text": "continent"
         },
         "tracegroupgap": 0
        },
        "template": {
         "data": {
          "bar": [
           {
            "error_x": {
             "color": "#2a3f5f"
            },
            "error_y": {
             "color": "#2a3f5f"
            },
            "marker": {
             "line": {
              "color": "#E5ECF6",
              "width": 0.5
             },
             "pattern": {
              "fillmode": "overlay",
              "size": 10,
              "solidity": 0.2
             }
            },
            "type": "bar"
           }
          ],
          "barpolar": [
           {
            "marker": {
             "line": {
              "color": "#E5ECF6",
              "width": 0.5
             },
             "pattern": {
              "fillmode": "overlay",
              "size": 10,
              "solidity": 0.2
             }
            },
            "type": "barpolar"
           }
          ],
          "carpet": [
           {
            "aaxis": {
             "endlinecolor": "#2a3f5f",
             "gridcolor": "white",
             "linecolor": "white",
             "minorgridcolor": "white",
             "startlinecolor": "#2a3f5f"
            },
            "baxis": {
             "endlinecolor": "#2a3f5f",
             "gridcolor": "white",
             "linecolor": "white",
             "minorgridcolor": "white",
             "startlinecolor": "#2a3f5f"
            },
            "type": "carpet"
           }
          ],
          "choropleth": [
           {
            "colorbar": {
             "outlinewidth": 0,
             "ticks": ""
            },
            "type": "choropleth"
           }
          ],
          "contour": [
           {
            "colorbar": {
             "outlinewidth": 0,
             "ticks": ""
            },
            "colorscale": [
             [
              0,
              "#0d0887"
             ],
             [
              0.1111111111111111,
              "#46039f"
             ],
             [
              0.2222222222222222,
              "#7201a8"
             ],
             [
              0.3333333333333333,
              "#9c179e"
             ],
             [
              0.4444444444444444,
              "#bd3786"
             ],
             [
              0.5555555555555556,
              "#d8576b"
             ],
             [
              0.6666666666666666,
              "#ed7953"
             ],
             [
              0.7777777777777778,
              "#fb9f3a"
             ],
             [
              0.8888888888888888,
              "#fdca26"
             ],
             [
              1,
              "#f0f921"
             ]
            ],
            "type": "contour"
           }
          ],
          "contourcarpet": [
           {
            "colorbar": {
             "outlinewidth": 0,
             "ticks": ""
            },
            "type": "contourcarpet"
           }
          ],
          "heatmap": [
           {
            "colorbar": {
             "outlinewidth": 0,
             "ticks": ""
            },
            "colorscale": [
             [
              0,
              "#0d0887"
             ],
             [
              0.1111111111111111,
              "#46039f"
             ],
             [
              0.2222222222222222,
              "#7201a8"
             ],
             [
              0.3333333333333333,
              "#9c179e"
             ],
             [
              0.4444444444444444,
              "#bd3786"
             ],
             [
              0.5555555555555556,
              "#d8576b"
             ],
             [
              0.6666666666666666,
              "#ed7953"
             ],
             [
              0.7777777777777778,
              "#fb9f3a"
             ],
             [
              0.8888888888888888,
              "#fdca26"
             ],
             [
              1,
              "#f0f921"
             ]
            ],
            "type": "heatmap"
           }
          ],
          "heatmapgl": [
           {
            "colorbar": {
             "outlinewidth": 0,
             "ticks": ""
            },
            "colorscale": [
             [
              0,
              "#0d0887"
             ],
             [
              0.1111111111111111,
              "#46039f"
             ],
             [
              0.2222222222222222,
              "#7201a8"
             ],
             [
              0.3333333333333333,
              "#9c179e"
             ],
             [
              0.4444444444444444,
              "#bd3786"
             ],
             [
              0.5555555555555556,
              "#d8576b"
             ],
             [
              0.6666666666666666,
              "#ed7953"
             ],
             [
              0.7777777777777778,
              "#fb9f3a"
             ],
             [
              0.8888888888888888,
              "#fdca26"
             ],
             [
              1,
              "#f0f921"
             ]
            ],
            "type": "heatmapgl"
           }
          ],
          "histogram": [
           {
            "marker": {
             "pattern": {
              "fillmode": "overlay",
              "size": 10,
              "solidity": 0.2
             }
            },
            "type": "histogram"
           }
          ],
          "histogram2d": [
           {
            "colorbar": {
             "outlinewidth": 0,
             "ticks": ""
            },
            "colorscale": [
             [
              0,
              "#0d0887"
             ],
             [
              0.1111111111111111,
              "#46039f"
             ],
             [
              0.2222222222222222,
              "#7201a8"
             ],
             [
              0.3333333333333333,
              "#9c179e"
             ],
             [
              0.4444444444444444,
              "#bd3786"
             ],
             [
              0.5555555555555556,
              "#d8576b"
             ],
             [
              0.6666666666666666,
              "#ed7953"
             ],
             [
              0.7777777777777778,
              "#fb9f3a"
             ],
             [
              0.8888888888888888,
              "#fdca26"
             ],
             [
              1,
              "#f0f921"
             ]
            ],
            "type": "histogram2d"
           }
          ],
          "histogram2dcontour": [
           {
            "colorbar": {
             "outlinewidth": 0,
             "ticks": ""
            },
            "colorscale": [
             [
              0,
              "#0d0887"
             ],
             [
              0.1111111111111111,
              "#46039f"
             ],
             [
              0.2222222222222222,
              "#7201a8"
             ],
             [
              0.3333333333333333,
              "#9c179e"
             ],
             [
              0.4444444444444444,
              "#bd3786"
             ],
             [
              0.5555555555555556,
              "#d8576b"
             ],
             [
              0.6666666666666666,
              "#ed7953"
             ],
             [
              0.7777777777777778,
              "#fb9f3a"
             ],
             [
              0.8888888888888888,
              "#fdca26"
             ],
             [
              1,
              "#f0f921"
             ]
            ],
            "type": "histogram2dcontour"
           }
          ],
          "mesh3d": [
           {
            "colorbar": {
             "outlinewidth": 0,
             "ticks": ""
            },
            "type": "mesh3d"
           }
          ],
          "parcoords": [
           {
            "line": {
             "colorbar": {
              "outlinewidth": 0,
              "ticks": ""
             }
            },
            "type": "parcoords"
           }
          ],
          "pie": [
           {
            "automargin": true,
            "type": "pie"
           }
          ],
          "scatter": [
           {
            "fillpattern": {
             "fillmode": "overlay",
             "size": 10,
             "solidity": 0.2
            },
            "type": "scatter"
           }
          ],
          "scatter3d": [
           {
            "line": {
             "colorbar": {
              "outlinewidth": 0,
              "ticks": ""
             }
            },
            "marker": {
             "colorbar": {
              "outlinewidth": 0,
              "ticks": ""
             }
            },
            "type": "scatter3d"
           }
          ],
          "scattercarpet": [
           {
            "marker": {
             "colorbar": {
              "outlinewidth": 0,
              "ticks": ""
             }
            },
            "type": "scattercarpet"
           }
          ],
          "scattergeo": [
           {
            "marker": {
             "colorbar": {
              "outlinewidth": 0,
              "ticks": ""
             }
            },
            "type": "scattergeo"
           }
          ],
          "scattergl": [
           {
            "marker": {
             "colorbar": {
              "outlinewidth": 0,
              "ticks": ""
             }
            },
            "type": "scattergl"
           }
          ],
          "scattermapbox": [
           {
            "marker": {
             "colorbar": {
              "outlinewidth": 0,
              "ticks": ""
             }
            },
            "type": "scattermapbox"
           }
          ],
          "scatterpolar": [
           {
            "marker": {
             "colorbar": {
              "outlinewidth": 0,
              "ticks": ""
             }
            },
            "type": "scatterpolar"
           }
          ],
          "scatterpolargl": [
           {
            "marker": {
             "colorbar": {
              "outlinewidth": 0,
              "ticks": ""
             }
            },
            "type": "scatterpolargl"
           }
          ],
          "scatterternary": [
           {
            "marker": {
             "colorbar": {
              "outlinewidth": 0,
              "ticks": ""
             }
            },
            "type": "scatterternary"
           }
          ],
          "surface": [
           {
            "colorbar": {
             "outlinewidth": 0,
             "ticks": ""
            },
            "colorscale": [
             [
              0,
              "#0d0887"
             ],
             [
              0.1111111111111111,
              "#46039f"
             ],
             [
              0.2222222222222222,
              "#7201a8"
             ],
             [
              0.3333333333333333,
              "#9c179e"
             ],
             [
              0.4444444444444444,
              "#bd3786"
             ],
             [
              0.5555555555555556,
              "#d8576b"
             ],
             [
              0.6666666666666666,
              "#ed7953"
             ],
             [
              0.7777777777777778,
              "#fb9f3a"
             ],
             [
              0.8888888888888888,
              "#fdca26"
             ],
             [
              1,
              "#f0f921"
             ]
            ],
            "type": "surface"
           }
          ],
          "table": [
           {
            "cells": {
             "fill": {
              "color": "#EBF0F8"
             },
             "line": {
              "color": "white"
             }
            },
            "header": {
             "fill": {
              "color": "#C8D4E3"
             },
             "line": {
              "color": "white"
             }
            },
            "type": "table"
           }
          ]
         },
         "layout": {
          "annotationdefaults": {
           "arrowcolor": "#2a3f5f",
           "arrowhead": 0,
           "arrowwidth": 1
          },
          "autotypenumbers": "strict",
          "coloraxis": {
           "colorbar": {
            "outlinewidth": 0,
            "ticks": ""
           }
          },
          "colorscale": {
           "diverging": [
            [
             0,
             "#8e0152"
            ],
            [
             0.1,
             "#c51b7d"
            ],
            [
             0.2,
             "#de77ae"
            ],
            [
             0.3,
             "#f1b6da"
            ],
            [
             0.4,
             "#fde0ef"
            ],
            [
             0.5,
             "#f7f7f7"
            ],
            [
             0.6,
             "#e6f5d0"
            ],
            [
             0.7,
             "#b8e186"
            ],
            [
             0.8,
             "#7fbc41"
            ],
            [
             0.9,
             "#4d9221"
            ],
            [
             1,
             "#276419"
            ]
           ],
           "sequential": [
            [
             0,
             "#0d0887"
            ],
            [
             0.1111111111111111,
             "#46039f"
            ],
            [
             0.2222222222222222,
             "#7201a8"
            ],
            [
             0.3333333333333333,
             "#9c179e"
            ],
            [
             0.4444444444444444,
             "#bd3786"
            ],
            [
             0.5555555555555556,
             "#d8576b"
            ],
            [
             0.6666666666666666,
             "#ed7953"
            ],
            [
             0.7777777777777778,
             "#fb9f3a"
            ],
            [
             0.8888888888888888,
             "#fdca26"
            ],
            [
             1,
             "#f0f921"
            ]
           ],
           "sequentialminus": [
            [
             0,
             "#0d0887"
            ],
            [
             0.1111111111111111,
             "#46039f"
            ],
            [
             0.2222222222222222,
             "#7201a8"
            ],
            [
             0.3333333333333333,
             "#9c179e"
            ],
            [
             0.4444444444444444,
             "#bd3786"
            ],
            [
             0.5555555555555556,
             "#d8576b"
            ],
            [
             0.6666666666666666,
             "#ed7953"
            ],
            [
             0.7777777777777778,
             "#fb9f3a"
            ],
            [
             0.8888888888888888,
             "#fdca26"
            ],
            [
             1,
             "#f0f921"
            ]
           ]
          },
          "colorway": [
           "#636efa",
           "#EF553B",
           "#00cc96",
           "#ab63fa",
           "#FFA15A",
           "#19d3f3",
           "#FF6692",
           "#B6E880",
           "#FF97FF",
           "#FECB52"
          ],
          "font": {
           "color": "#2a3f5f"
          },
          "geo": {
           "bgcolor": "white",
           "lakecolor": "white",
           "landcolor": "#E5ECF6",
           "showlakes": true,
           "showland": true,
           "subunitcolor": "white"
          },
          "hoverlabel": {
           "align": "left"
          },
          "hovermode": "closest",
          "mapbox": {
           "style": "light"
          },
          "paper_bgcolor": "white",
          "plot_bgcolor": "#E5ECF6",
          "polar": {
           "angularaxis": {
            "gridcolor": "white",
            "linecolor": "white",
            "ticks": ""
           },
           "bgcolor": "#E5ECF6",
           "radialaxis": {
            "gridcolor": "white",
            "linecolor": "white",
            "ticks": ""
           }
          },
          "scene": {
           "xaxis": {
            "backgroundcolor": "#E5ECF6",
            "gridcolor": "white",
            "gridwidth": 2,
            "linecolor": "white",
            "showbackground": true,
            "ticks": "",
            "zerolinecolor": "white"
           },
           "yaxis": {
            "backgroundcolor": "#E5ECF6",
            "gridcolor": "white",
            "gridwidth": 2,
            "linecolor": "white",
            "showbackground": true,
            "ticks": "",
            "zerolinecolor": "white"
           },
           "zaxis": {
            "backgroundcolor": "#E5ECF6",
            "gridcolor": "white",
            "gridwidth": 2,
            "linecolor": "white",
            "showbackground": true,
            "ticks": "",
            "zerolinecolor": "white"
           }
          },
          "shapedefaults": {
           "line": {
            "color": "#2a3f5f"
           }
          },
          "ternary": {
           "aaxis": {
            "gridcolor": "white",
            "linecolor": "white",
            "ticks": ""
           },
           "baxis": {
            "gridcolor": "white",
            "linecolor": "white",
            "ticks": ""
           },
           "bgcolor": "#E5ECF6",
           "caxis": {
            "gridcolor": "white",
            "linecolor": "white",
            "ticks": ""
           }
          },
          "title": {
           "x": 0.05
          },
          "xaxis": {
           "automargin": true,
           "gridcolor": "white",
           "linecolor": "white",
           "ticks": "",
           "title": {
            "standoff": 15
           },
           "zerolinecolor": "white",
           "zerolinewidth": 2
          },
          "yaxis": {
           "automargin": true,
           "gridcolor": "white",
           "linecolor": "white",
           "ticks": "",
           "title": {
            "standoff": 15
           },
           "zerolinecolor": "white",
           "zerolinewidth": 2
          }
         }
        },
        "title": {
         "text": "Comparison of Deaths per Million, Median Age, and GDP per Capita by Country"
        },
        "xaxis": {
         "anchor": "y",
         "domain": [
          0,
          1
         ],
         "title": {
          "text": "Median Age"
         }
        },
        "yaxis": {
         "anchor": "x",
         "domain": [
          0,
          1
         ],
         "title": {
          "text": "GDP per Capita 2021"
         }
        }
       }
      }
     },
     "metadata": {},
     "output_type": "display_data"
    }
   ],
   "source": [
    "import pandas as pd\n",
    "import plotly.express as px\n",
    "\n",
    "# Read the datasets\n",
    "covid_df = pd.read_csv('owid-covid-data.csv')\n",
    "gdp_df = pd.read_csv('GDP-data.csv', skiprows=4)\n",
    "\n",
    "# Convert 'date' column to datetime\n",
    "covid_df['date'] = pd.to_datetime(covid_df['date'])\n",
    "\n",
    "# Extract data for 2021 and 2020\n",
    "covid_2021_df = covid_df[covid_df['date'].dt.year == 2021]\n",
    "covid_2020_df = covid_df[covid_df['date'].dt.year == 2020]\n",
    "\n",
    "# Find the last available date for each location in 2021 and 2020\n",
    "last_dates_2021 = covid_2021_df.groupby('location')['date'].idxmax()\n",
    "last_dates_2020 = covid_2020_df.groupby('location')['date'].idxmax()\n",
    "\n",
    "# Filter the dataframe to only include rows with the last available date for each location\n",
    "covid_last_2021 = covid_2021_df.loc[last_dates_2021]\n",
    "covid_last_2020 = covid_2020_df.loc[last_dates_2020]\n",
    "\n",
    "# Select required columns\n",
    "covid_deaths_2021 = covid_last_2021[['location', 'total_deaths_per_million']]\n",
    "covid_deaths_2020 = covid_last_2020[['location', 'total_deaths_per_million']]\n",
    "\n",
    "# Merge 2020 and 2021 data on location\n",
    "covid_deaths = pd.merge(covid_deaths_2021, covid_deaths_2020, on='location', suffixes=('_2021', '_2020'))\n",
    "\n",
    "# Calculate the difference in total deaths per million between 2021 and 2020\n",
    "covid_deaths['total_deaths_per_million_2021'] = covid_deaths['total_deaths_per_million_2021'] - covid_deaths['total_deaths_per_million_2020']\n",
    "\n",
    "# Preprocess GDP data\n",
    "gdp_df = gdp_df.rename(columns={'Country Name': 'location'})\n",
    "\n",
    "# Merge GDP data with COVID data\n",
    "df = pd.merge(gdp_df, covid_deaths, on='location', how='inner')\n",
    "\n",
    "# Add other required columns from the covid_last_2021 data\n",
    "other_columns = covid_last_2021[['location', 'continent', 'median_age', 'people_vaccinated_per_hundred', 'total_tests_per_thousand']]\n",
    "df = pd.merge(df, other_columns, on='location', how='inner')\n",
    "\n",
    "# Handle NaN values in the '2021' (GDP per capita) column\n",
    "df['2021'] = df['2021'].replace('..', float('nan')).astype(float)\n",
    "df = df.dropna(subset=['2021', 'total_deaths_per_million_2021'])\n",
    "\n",
    "# Create the scatter plot\n",
    "fig = px.scatter(\n",
    "    df,\n",
    "    x=\"median_age\",\n",
    "    y=\"2021\", \n",
    "    size=\"total_deaths_per_million_2021\",\n",
    "    hover_name=\"location\",\n",
    "    color='continent',\n",
    "    title=\"Comparison of Deaths per Million, Median Age, and GDP per Capita by Country\",\n",
    "    labels={\n",
    "        \"median_age\": \"Median Age\",\n",
    "        \"total_deaths_per_million_2021\": \"Total Deaths per Million (2021)\",\n",
    "        \"2021\": \"GDP per Capita 2021\"\n",
    "    },\n",
    "    size_max=60,  # Maximum size of the bubbles\n",
    "    color_continuous_scale=px.colors.sequential.Blues,\n",
    "    height=800  # Adjust the height of the figure\n",
    ")\n",
    "\n",
    "fig.add_annotation(\n",
    "    text=\"Figure 2.2\", \n",
    "    xref=\"paper\", \n",
    "    yref=\"paper\", \n",
    "    x=1,  # Adjust x position\n",
    "    y=-0.1,  # Adjust y position\n",
    "    showarrow=False, \n",
    "    align=\"center\", \n",
    "    font=dict(size=14)\n",
    ")\n",
    "\n",
    "# Show the figure\n",
    "fig.show()"
   ]
  },
  {
   "cell_type": "markdown",
   "metadata": {
    "tags": [
     "remove_input"
    ]
   },
   "source": [
    "The bubble chart takes 3 variables, the median age, GDP per capita and deaths per million. The X axis shows the median age the Y axis GDP per capita and the size shows total deaths per million. European countries generally have high GDP per capita and median ages above 35, with varied death tolls. African nations, with a generally lower GDP per capita and median ages around 25-30, usually report low death tolls. North America shows a wide range of GDPs and median ages, with death tolls not fitting a clear pattern. South America, despite diverse GDPs and median ages, has relatively high death tolls. Oceania's countries have significant differences in GDP per capita and median age but low death tolls, which could be because of geographic isolation. Asia shows economic and median age diversity with generally low death tolls, suggesting other influences besides median age. Overall, the graph shows a slight correlation between GDP per capita and median age, and also a slight correlation between median age and deaths per million."
   ]
  },
  {
   "cell_type": "markdown",
   "metadata": {
    "tags": [
     "remove_input"
    ]
   },
   "source": [
    "#### Argument 3: \n",
    "**Countries with a lower Human development index, still managed the pandemic better than than countries with a high development index**\n",
    "\n",
    "The Human Development Index(HDI) is a measure of human development, countries with a lower GDP per capita tend to have a lower HDI. We went to show that eventough a country might be less developed than a richer country, it still could manage the pandemic more effectively despite not having the same resources. We visualise this by using a bubble scatterplot containing the HDI on the x-axis, GDP per capita on the y-axis and the size being the total mortality count. "
   ]
  },
  {
   "cell_type": "code",
   "execution_count": 94,
   "metadata": {
    "tags": [
     "remove_input"
    ]
   },
   "outputs": [
    {
     "data": {
      "application/vnd.plotly.v1+json": {
       "config": {
        "plotlyServerURL": "https://plot.ly"
       },
       "data": [
        {
         "hovertemplate": "<b>%{hovertext}</b><br><br>Human Development Index=%{x}<br>GDP per capita (2021)=%{y}<br>total_deaths_per_million_2021=%{marker.size}<extra></extra>",
         "hovertext": [
          "Aruba",
          "Afghanistan",
          "Angola",
          "Albania",
          "Andorra",
          "United Arab Emirates",
          "Argentina",
          "Armenia",
          "Antigua and Barbuda",
          "Australia",
          "Austria",
          "Azerbaijan",
          "Burundi",
          "Belgium",
          "Benin",
          "Burkina Faso",
          "Bangladesh",
          "Bulgaria",
          "Bahrain",
          "Bosnia and Herzegovina",
          "Belarus",
          "Belize",
          "Bermuda",
          "Bolivia",
          "Brazil",
          "Barbados",
          "Botswana",
          "Central African Republic",
          "Canada",
          "Switzerland",
          "Chile",
          "China",
          "Cote d'Ivoire",
          "Cameroon",
          "Colombia",
          "Comoros",
          "Costa Rica",
          "Curacao",
          "Cayman Islands",
          "Cyprus",
          "Czechia",
          "Germany",
          "Djibouti",
          "Denmark",
          "Dominican Republic",
          "Algeria",
          "Ecuador",
          "Spain",
          "Estonia",
          "Ethiopia",
          "European Union",
          "Finland",
          "Fiji",
          "France",
          "Gabon",
          "United Kingdom",
          "Georgia",
          "Ghana",
          "Guinea",
          "Guinea-Bissau",
          "Equatorial Guinea",
          "Greece",
          "Guatemala",
          "Guyana",
          "High income",
          "Honduras",
          "Croatia",
          "Haiti",
          "Hungary",
          "Indonesia",
          "India",
          "Ireland",
          "Iraq",
          "Iceland",
          "Israel",
          "Italy",
          "Jamaica",
          "Jordan",
          "Japan",
          "Kazakhstan",
          "Kenya",
          "Kuwait",
          "Lebanon",
          "Liberia",
          "Libya",
          "Low income",
          "Sri Lanka",
          "Lower middle income",
          "Lesotho",
          "Lithuania",
          "Luxembourg",
          "Latvia",
          "Morocco",
          "Moldova",
          "Madagascar",
          "Maldives",
          "Mexico",
          "North Macedonia",
          "Mali",
          "Malta",
          "Myanmar",
          "Montenegro",
          "Mongolia",
          "Mozambique",
          "Mauritania",
          "Mauritius",
          "Malawi",
          "Malaysia",
          "North America",
          "Namibia",
          "Niger",
          "Nigeria",
          "Nicaragua",
          "Netherlands",
          "Norway",
          "Nepal",
          "New Zealand",
          "Oman",
          "Pakistan",
          "Panama",
          "Peru",
          "Philippines",
          "Papua New Guinea",
          "Poland",
          "Puerto Rico",
          "Portugal",
          "Paraguay",
          "Qatar",
          "Romania",
          "Rwanda",
          "Saudi Arabia",
          "Sudan",
          "Senegal",
          "Singapore",
          "Sierra Leone",
          "El Salvador",
          "San Marino",
          "Somalia",
          "Serbia",
          "Sao Tome and Principe",
          "Suriname",
          "Slovenia",
          "Sweden",
          "Eswatini",
          "Sint Maarten (Dutch part)",
          "Turks and Caicos Islands",
          "Chad",
          "Togo",
          "Thailand",
          "Tajikistan",
          "Trinidad and Tobago",
          "Tunisia",
          "Tanzania",
          "Uganda",
          "Ukraine",
          "Upper middle income",
          "Uruguay",
          "United States",
          "World",
          "Kosovo",
          "South Africa",
          "Zambia",
          "Zimbabwe"
         ],
         "legendgroup": "",
         "marker": {
          "color": "#636efa",
          "size": [
           1258.6999999999998,
           126.287,
           37.821,
           722.298,
           701.377,
           158.985,
           1545.21,
           1861.1949999999997,
           1205.0500000000002,
           55.657999999999994,
           1066.9360000000001,
           566.5139999999999,
           0.931,
           756.5250000000001,
           8.762,
           10.541,
           120.383,
           3451.0699999999997,
           708.4449999999999,
           2894.6690000000003,
           430.836,
           898.133,
           1510.738,
           854.6220000000001,
           1987.353,
           898.2909999999999,
           912.444,
           6.811000000000002,
           393.11600000000004,
           531.5499999999998,
           1153.301,
           0.6469999999999998,
           20.348000000000003,
           50.261,
           1696.3400000000001,
           174.47799999999998,
           1012.5780000000001,
           910.171,
           130.962,
           583.701,
           2346.2,
           847.8249999999999,
           114.19900000000001,
           346.466,
           163.241,
           78.102,
           1091.995,
           784.5260000000001,
           1164.348,
           40.467999999999996,
           1175.7649999999999,
           219.826,
           747.498,
           938.1740000000001,
           93.345,
           1269.2250000000001,
           2973.786,
           28.439,
           22.296,
           49.391999999999996,
           53.13700000000001,
           1523.644,
           635.0620000000001,
           1088.1299999999999,
           926.4449999999999,
           706.23,
           2150.179,
           45.83500000000001,
           2935.598,
           445.79800000000006,
           234.311,
           761.282,
           255.19100000000003,
           24.13499999999999,
           530.109,
           1099.353,
           766.787,
           772.204,
           122.41900000000001,
           799.876,
           68.557,
           360.51599999999996,
           1393.143,
           37.339,
           620.345,
           43.101,
           672.9979999999999,
           252.933,
           260.644,
           2067.2290000000003,
           540.456,
           2260.282,
           203.50799999999998,
           2207.154,
           25.868000000000002,
           406.64599999999996,
           1249.8809999999999,
           2606.03,
           17.837000000000003,
           498.78800000000007,
           307.368,
           2763.594,
           582.6320000000001,
           54.626,
           110.85,
           578.694,
           104.875,
           909.977,
           1158.143,
           1330.724,
           6.601,
           8.085,
           7.482999999999997,
           536.381,
           168.19,
           290.20300000000003,
           4.822000000000001,
           653.1479999999999,
           80.946,
           828.611,
           3228.556,
           364.60200000000003,
           57.283,
           1684.0890000000002,
           513.7719999999999,
           1187.146,
           2130.1499999999996,
           137.284,
           2209.035,
           92.40199999999999,
           73.99300000000002,
           37.931999999999995,
           86.79599999999999,
           140.677,
           5.462,
           397.86,
           1216.978,
           68.532,
           1394.882,
           175.90699999999998,
           1726.409,
           1513.3199999999997,
           566.7650000000001,
           922.875,
           1108.7980000000002,
           437.38800000000003,
           4.344999999999999,
           20.116,
           300.152,
           3.516,
           1693.616,
           1707.4140000000002,
           10.931000000000001,
           63.111999999999995,
           1945.8850000000002,
           589.365,
           1758.504,
           1388.357,
           445.05499999999995,
           944.944,
           1072.7640000000001,
           165.604,
           278.42199999999997
          ],
          "sizemode": "area",
          "sizeref": 8.627675,
          "symbol": "circle"
         },
         "mode": "markers",
         "name": "",
         "orientation": "v",
         "showlegend": false,
         "type": "scatter",
         "x": [
          null,
          0.511,
          0.581,
          0.795,
          0.868,
          0.89,
          0.845,
          0.776,
          0.778,
          0.944,
          0.922,
          0.756,
          0.433,
          0.931,
          0.545,
          0.452,
          0.632,
          0.816,
          0.852,
          0.78,
          0.823,
          0.716,
          null,
          0.718,
          0.765,
          0.814,
          0.735,
          0.397,
          0.929,
          0.955,
          0.851,
          0.761,
          0.538,
          0.563,
          0.767,
          0.554,
          0.81,
          null,
          null,
          0.887,
          0.9,
          0.947,
          0.524,
          0.94,
          0.756,
          0.748,
          0.759,
          0.904,
          0.892,
          0.485,
          null,
          0.938,
          0.743,
          0.901,
          0.703,
          0.932,
          0.812,
          0.611,
          0.477,
          0.48,
          0.592,
          0.888,
          0.663,
          0.682,
          null,
          0.634,
          0.851,
          0.51,
          0.854,
          0.718,
          0.645,
          0.955,
          0.674,
          0.949,
          0.919,
          0.892,
          0.734,
          0.729,
          0.919,
          0.825,
          0.601,
          0.806,
          0.744,
          0.48,
          0.724,
          null,
          0.782,
          null,
          0.527,
          0.882,
          0.916,
          0.866,
          0.686,
          0.75,
          0.528,
          0.74,
          0.779,
          0.774,
          0.434,
          0.895,
          0.583,
          0.829,
          0.737,
          0.456,
          0.546,
          0.804,
          0.483,
          0.81,
          null,
          0.646,
          0.394,
          0.539,
          0.66,
          0.944,
          0.957,
          0.602,
          0.931,
          0.813,
          0.557,
          0.815,
          0.777,
          0.718,
          0.555,
          0.88,
          null,
          0.864,
          0.728,
          0.848,
          0.828,
          0.543,
          0.854,
          0.51,
          0.512,
          0.938,
          0.452,
          0.673,
          null,
          null,
          0.806,
          0.625,
          0.738,
          0.917,
          0.945,
          0.611,
          null,
          null,
          0.398,
          0.515,
          0.777,
          0.668,
          0.796,
          0.74,
          0.529,
          0.544,
          0.779,
          null,
          0.817,
          0.926,
          0.737,
          null,
          0.709,
          0.584,
          0.571
         ],
         "xaxis": "x",
         "y": [
          38226.146156979,
          2138.87024713086,
          7414.27895783202,
          16262.6634527606,
          58829.8500720505,
          68912.5455473732,
          26086.8023552274,
          16899.0709181678,
          25493.1295548691,
          57406.1787604549,
          63421.2035870778,
          20111.3756952109,
          864.280732753101,
          62107.0699329664,
          3575.31148668734,
          2467.67804044213,
          7366.48997079065,
          29406.5795920851,
          54351.8360757233,
          18379.5525047191,
          27611.1801135156,
          11559.8905984688,
          91508.8303752301,
          9342.97184473106,
          17450.5086501913,
          14686.2199296539,
          16651.5337042653,
          1057.19439503026,
          55634.8275796301,
          81603.2073073193,
          29148.2424509188,
          20406.7296584605,
          6432.62666292098,
          4741.76177028658,
          17586.5239590949,
          3426.75773437156,
          23700.2961314063,
          25163.8669323866,
          75898.4231569682,
          48469.4140625,
          48418.1157871868,
          61939.6515850137,
          6032.27795593735,
          69878.9348117258,
          21923.3019358073,
          12893.2100025293,
          13293.0871517821,
          43620.6040614123,
          45047.315035037,
          2628.34346412648,
          51917.3510593707,
          57848.6141705053,
          10593.9126867971,
          53834.7992971017,
          19552.3625335025,
          52841.6345850474,
          18691.1612210787,
          6544.2381999688,
          3735.0898272933,
          2164.37287781941,
          17936.6113034777,
          33018.2544152866,
          12106.4225430833,
          23176.1332006217,
          56775.3863840879,
          6285.9287396567,
          36954.4345867034,
          3114.96354203089,
          38643.762589993,
          12897.0571071313,
          8044.67480751057,
          114120.544516392,
          12476.3625169213,
          61481.3794980574,
          46126.6423137421,
          49912.83903304,
          9610.98933709822,
          9115.01951145213,
          44291.9852770528,
          34233.4732249708,
          5360.36190289931,
          48129.9882968208,
          11860.0586252712,
          1556.94547466638,
          15133.8474122324,
          2127.32074037264,
          14306.2352220864,
          8082.53806034203,
          2456.31221508897,
          46410.0676392912,
          137947.34385169,
          36777.8928459839,
          8581.330078125,
          15682.0703284653,
          1642.30416221094,
          18865.7192956579,
          21123.6718346798,
          19902.8198301911,
          2399.46153474407,
          53387.2378429299,
          5138.88724952007,
          24511.2620665873,
          14951.1365679904,
          1440.45976271877,
          5988.20355101133,
          22737.5729410543,
          1731.76777467309,
          30456.0928951741,
          68717.637078835,
          10823.175558195,
          1538.47074692859,
          5623.66407810605,
          6874.61550569295,
          67693.3264311302,
          86891.9964886406,
          4461.46878467812,
          48555.5523439365,
          38930.9938379577,
          5554.58570149625,
          30895.8322499594,
          14853.5805797423,
          8797.16871175312,
          4014.2854655247,
          40462.6887122126,
          40537.7088223526,
          38783.0115625218,
          15361.0847494949,
          108865.13777489,
          37971.0545519053,
          2705.84426715937,
          47754.4377844143,
          3420.45190429688,
          4266.26875168597,
          128731.011187586,
          1623.97562392431,
          10860.247882807,
          65717.8915454458,
          1461.96879165973,
          22575.4210980499,
          5703.24824295017,
          18447.3399360527,
          46502.0978938704,
          63375.0446462412,
          10202.5096730796,
          39465.6250774608,
          21232.6835191491,
          1764.34807562549,
          2678.83160754709,
          20253.3547905679,
          4074.56022293416,
          27631.6778146419,
          12126.587729035,
          3451.4482421875,
          2688.26683541397,
          18040.345703125,
          20572.1469687869,
          29500.3726206454,
          70219.472454115,
          19645.4913851903,
          12362.7048078624,
          14172.5442513912,
          3526.50741832512,
          3276.26775280153
         ],
         "yaxis": "y"
        },
        {
         "hovertemplate": "<b>OLS trendline</b><br>2021 = 133369 * human_development_index + -71410.8<br>R<sup>2</sup>=0.622125<br><br>Human Development Index=%{x}<br>GDP per capita (2021)=%{y} <b>(trend)</b><extra></extra>",
         "legendgroup": "",
         "line": {
          "color": "darkblue"
         },
         "marker": {
          "color": "#636efa",
          "symbol": "circle"
         },
         "mode": "lines",
         "name": "",
         "showlegend": false,
         "type": "scatter",
         "x": [
          0.394,
          0.397,
          0.398,
          0.433,
          0.434,
          0.452,
          0.452,
          0.456,
          0.477,
          0.48,
          0.48,
          0.483,
          0.485,
          0.51,
          0.51,
          0.511,
          0.512,
          0.515,
          0.524,
          0.527,
          0.528,
          0.529,
          0.538,
          0.539,
          0.543,
          0.544,
          0.545,
          0.546,
          0.554,
          0.555,
          0.557,
          0.563,
          0.571,
          0.581,
          0.583,
          0.584,
          0.592,
          0.601,
          0.602,
          0.611,
          0.611,
          0.625,
          0.632,
          0.634,
          0.645,
          0.646,
          0.66,
          0.663,
          0.668,
          0.673,
          0.674,
          0.682,
          0.686,
          0.703,
          0.709,
          0.716,
          0.718,
          0.718,
          0.718,
          0.724,
          0.728,
          0.729,
          0.734,
          0.735,
          0.737,
          0.737,
          0.738,
          0.74,
          0.74,
          0.743,
          0.744,
          0.748,
          0.75,
          0.756,
          0.756,
          0.759,
          0.761,
          0.765,
          0.767,
          0.774,
          0.776,
          0.777,
          0.777,
          0.778,
          0.779,
          0.779,
          0.78,
          0.782,
          0.795,
          0.796,
          0.804,
          0.806,
          0.806,
          0.81,
          0.81,
          0.812,
          0.813,
          0.814,
          0.815,
          0.816,
          0.817,
          0.823,
          0.825,
          0.828,
          0.829,
          0.845,
          0.848,
          0.851,
          0.851,
          0.852,
          0.854,
          0.854,
          0.864,
          0.866,
          0.868,
          0.88,
          0.882,
          0.887,
          0.888,
          0.89,
          0.892,
          0.892,
          0.895,
          0.9,
          0.901,
          0.904,
          0.916,
          0.917,
          0.919,
          0.919,
          0.922,
          0.926,
          0.929,
          0.931,
          0.931,
          0.932,
          0.938,
          0.938,
          0.94,
          0.944,
          0.944,
          0.945,
          0.947,
          0.949,
          0.955,
          0.955,
          0.957
         ],
         "xaxis": "x",
         "y": [
          -18863.470678094687,
          -18463.364443246966,
          -18329.99569829773,
          -13662.089625074332,
          -13528.720880125096,
          -11128.083471038772,
          -11128.083471038772,
          -10594.608491241808,
          -7793.864847307777,
          -7393.758612460057,
          -7393.758612460057,
          -6993.652377612336,
          -6726.914887713858,
          -3392.696263982856,
          -3392.696263982856,
          -3259.3275190336135,
          -3125.958774084371,
          -2725.8525392366573,
          -1525.5338346934877,
          -1125.4275998457742,
          -992.0588548965316,
          -858.6901099472889,
          341.62859459586616,
          474.99733954510884,
          1008.472319342065,
          1141.8410642913077,
          1275.2098092405504,
          1408.578554189793,
          2475.5285137837054,
          2608.897258732948,
          2875.6347486314335,
          3675.8472183268605,
          4742.797177920773,
          6076.484627413185,
          6343.222117311656,
          6476.590862260899,
          7543.5408218548255,
          8743.85952639798,
          8877.228271347223,
          10077.546975890378,
          10077.546975890378,
          11944.709405179747,
          12878.29061982443,
          13145.028109722902,
          14612.084304164542,
          14745.453049113785,
          16612.615478403153,
          17012.721713250867,
          17679.565437997066,
          18346.409162743264,
          18479.777907692507,
          19546.727867286434,
          20080.20284708339,
          22347.471511220458,
          23147.6839809159,
          24081.265195560583,
          24348.002685459054,
          24348.002685459054,
          24348.002685459054,
          25148.215155154496,
          25681.690134951452,
          25815.058879900695,
          26481.902604646893,
          26615.271349596136,
          26882.00883949462,
          26882.00883949462,
          27015.377584443864,
          27282.115074342335,
          27282.115074342335,
          27682.221309190063,
          27815.590054139306,
          28349.065033936262,
          28615.802523834733,
          29416.014993530174,
          29416.014993530174,
          29816.121228377902,
          30082.858718276388,
          30616.333698073344,
          30883.071187971815,
          31816.6524026165,
          32083.389892514984,
          32216.758637464227,
          32216.758637464227,
          32350.12738241347,
          32483.496127362698,
          32483.496127362698,
          32616.86487231194,
          32883.602362210426,
          34617.39604655054,
          34750.76479149978,
          35817.71475109371,
          36084.45224099219,
          36084.45224099219,
          36617.92722078915,
          36617.92722078915,
          36884.66471068762,
          37018.03345563685,
          37151.40220058609,
          37284.77094553533,
          37418.139690484575,
          37551.50843543382,
          38351.720905129245,
          38618.45839502773,
          39018.56462987546,
          39151.933374824686,
          41285.83329401254,
          41685.93952886025,
          42086.04576370798,
          42086.04576370798,
          42219.41450865721,
          42486.151998555695,
          42486.151998555695,
          43819.83944804809,
          44086.57693794658,
          44353.31442784505,
          45953.73936723593,
          46220.47685713442,
          46887.32058188062,
          47020.68932682986,
          47287.426816728344,
          47554.164306626815,
          47554.164306626815,
          47954.27054147454,
          48621.11426622074,
          48754.483011169985,
          49154.5892460177,
          50755.01418540858,
          50888.382930357824,
          51155.120420256295,
          51155.120420256295,
          51555.22665510402,
          52088.70163490098,
          52488.80786974871,
          52755.54535964718,
          52755.54535964718,
          52888.91410459642,
          53689.12657429185,
          53689.12657429185,
          53955.86406419033,
          54489.33904398729,
          54489.33904398729,
          54622.70778893653,
          54889.445278835,
          55156.18276873349,
          55956.39523842893,
          55956.39523842893,
          56223.132728327415
         ],
         "yaxis": "y"
        }
       ],
       "layout": {
        "annotations": [
         {
          "align": "center",
          "font": {
           "size": 14
          },
          "showarrow": false,
          "text": "Figure 2.3",
          "x": 1,
          "xref": "paper",
          "y": -0.2,
          "yref": "paper"
         }
        ],
        "height": 600,
        "legend": {
         "itemsizing": "constant",
         "tracegroupgap": 0
        },
        "template": {
         "data": {
          "bar": [
           {
            "error_x": {
             "color": "#2a3f5f"
            },
            "error_y": {
             "color": "#2a3f5f"
            },
            "marker": {
             "line": {
              "color": "#E5ECF6",
              "width": 0.5
             },
             "pattern": {
              "fillmode": "overlay",
              "size": 10,
              "solidity": 0.2
             }
            },
            "type": "bar"
           }
          ],
          "barpolar": [
           {
            "marker": {
             "line": {
              "color": "#E5ECF6",
              "width": 0.5
             },
             "pattern": {
              "fillmode": "overlay",
              "size": 10,
              "solidity": 0.2
             }
            },
            "type": "barpolar"
           }
          ],
          "carpet": [
           {
            "aaxis": {
             "endlinecolor": "#2a3f5f",
             "gridcolor": "white",
             "linecolor": "white",
             "minorgridcolor": "white",
             "startlinecolor": "#2a3f5f"
            },
            "baxis": {
             "endlinecolor": "#2a3f5f",
             "gridcolor": "white",
             "linecolor": "white",
             "minorgridcolor": "white",
             "startlinecolor": "#2a3f5f"
            },
            "type": "carpet"
           }
          ],
          "choropleth": [
           {
            "colorbar": {
             "outlinewidth": 0,
             "ticks": ""
            },
            "type": "choropleth"
           }
          ],
          "contour": [
           {
            "colorbar": {
             "outlinewidth": 0,
             "ticks": ""
            },
            "colorscale": [
             [
              0,
              "#0d0887"
             ],
             [
              0.1111111111111111,
              "#46039f"
             ],
             [
              0.2222222222222222,
              "#7201a8"
             ],
             [
              0.3333333333333333,
              "#9c179e"
             ],
             [
              0.4444444444444444,
              "#bd3786"
             ],
             [
              0.5555555555555556,
              "#d8576b"
             ],
             [
              0.6666666666666666,
              "#ed7953"
             ],
             [
              0.7777777777777778,
              "#fb9f3a"
             ],
             [
              0.8888888888888888,
              "#fdca26"
             ],
             [
              1,
              "#f0f921"
             ]
            ],
            "type": "contour"
           }
          ],
          "contourcarpet": [
           {
            "colorbar": {
             "outlinewidth": 0,
             "ticks": ""
            },
            "type": "contourcarpet"
           }
          ],
          "heatmap": [
           {
            "colorbar": {
             "outlinewidth": 0,
             "ticks": ""
            },
            "colorscale": [
             [
              0,
              "#0d0887"
             ],
             [
              0.1111111111111111,
              "#46039f"
             ],
             [
              0.2222222222222222,
              "#7201a8"
             ],
             [
              0.3333333333333333,
              "#9c179e"
             ],
             [
              0.4444444444444444,
              "#bd3786"
             ],
             [
              0.5555555555555556,
              "#d8576b"
             ],
             [
              0.6666666666666666,
              "#ed7953"
             ],
             [
              0.7777777777777778,
              "#fb9f3a"
             ],
             [
              0.8888888888888888,
              "#fdca26"
             ],
             [
              1,
              "#f0f921"
             ]
            ],
            "type": "heatmap"
           }
          ],
          "heatmapgl": [
           {
            "colorbar": {
             "outlinewidth": 0,
             "ticks": ""
            },
            "colorscale": [
             [
              0,
              "#0d0887"
             ],
             [
              0.1111111111111111,
              "#46039f"
             ],
             [
              0.2222222222222222,
              "#7201a8"
             ],
             [
              0.3333333333333333,
              "#9c179e"
             ],
             [
              0.4444444444444444,
              "#bd3786"
             ],
             [
              0.5555555555555556,
              "#d8576b"
             ],
             [
              0.6666666666666666,
              "#ed7953"
             ],
             [
              0.7777777777777778,
              "#fb9f3a"
             ],
             [
              0.8888888888888888,
              "#fdca26"
             ],
             [
              1,
              "#f0f921"
             ]
            ],
            "type": "heatmapgl"
           }
          ],
          "histogram": [
           {
            "marker": {
             "pattern": {
              "fillmode": "overlay",
              "size": 10,
              "solidity": 0.2
             }
            },
            "type": "histogram"
           }
          ],
          "histogram2d": [
           {
            "colorbar": {
             "outlinewidth": 0,
             "ticks": ""
            },
            "colorscale": [
             [
              0,
              "#0d0887"
             ],
             [
              0.1111111111111111,
              "#46039f"
             ],
             [
              0.2222222222222222,
              "#7201a8"
             ],
             [
              0.3333333333333333,
              "#9c179e"
             ],
             [
              0.4444444444444444,
              "#bd3786"
             ],
             [
              0.5555555555555556,
              "#d8576b"
             ],
             [
              0.6666666666666666,
              "#ed7953"
             ],
             [
              0.7777777777777778,
              "#fb9f3a"
             ],
             [
              0.8888888888888888,
              "#fdca26"
             ],
             [
              1,
              "#f0f921"
             ]
            ],
            "type": "histogram2d"
           }
          ],
          "histogram2dcontour": [
           {
            "colorbar": {
             "outlinewidth": 0,
             "ticks": ""
            },
            "colorscale": [
             [
              0,
              "#0d0887"
             ],
             [
              0.1111111111111111,
              "#46039f"
             ],
             [
              0.2222222222222222,
              "#7201a8"
             ],
             [
              0.3333333333333333,
              "#9c179e"
             ],
             [
              0.4444444444444444,
              "#bd3786"
             ],
             [
              0.5555555555555556,
              "#d8576b"
             ],
             [
              0.6666666666666666,
              "#ed7953"
             ],
             [
              0.7777777777777778,
              "#fb9f3a"
             ],
             [
              0.8888888888888888,
              "#fdca26"
             ],
             [
              1,
              "#f0f921"
             ]
            ],
            "type": "histogram2dcontour"
           }
          ],
          "mesh3d": [
           {
            "colorbar": {
             "outlinewidth": 0,
             "ticks": ""
            },
            "type": "mesh3d"
           }
          ],
          "parcoords": [
           {
            "line": {
             "colorbar": {
              "outlinewidth": 0,
              "ticks": ""
             }
            },
            "type": "parcoords"
           }
          ],
          "pie": [
           {
            "automargin": true,
            "type": "pie"
           }
          ],
          "scatter": [
           {
            "fillpattern": {
             "fillmode": "overlay",
             "size": 10,
             "solidity": 0.2
            },
            "type": "scatter"
           }
          ],
          "scatter3d": [
           {
            "line": {
             "colorbar": {
              "outlinewidth": 0,
              "ticks": ""
             }
            },
            "marker": {
             "colorbar": {
              "outlinewidth": 0,
              "ticks": ""
             }
            },
            "type": "scatter3d"
           }
          ],
          "scattercarpet": [
           {
            "marker": {
             "colorbar": {
              "outlinewidth": 0,
              "ticks": ""
             }
            },
            "type": "scattercarpet"
           }
          ],
          "scattergeo": [
           {
            "marker": {
             "colorbar": {
              "outlinewidth": 0,
              "ticks": ""
             }
            },
            "type": "scattergeo"
           }
          ],
          "scattergl": [
           {
            "marker": {
             "colorbar": {
              "outlinewidth": 0,
              "ticks": ""
             }
            },
            "type": "scattergl"
           }
          ],
          "scattermapbox": [
           {
            "marker": {
             "colorbar": {
              "outlinewidth": 0,
              "ticks": ""
             }
            },
            "type": "scattermapbox"
           }
          ],
          "scatterpolar": [
           {
            "marker": {
             "colorbar": {
              "outlinewidth": 0,
              "ticks": ""
             }
            },
            "type": "scatterpolar"
           }
          ],
          "scatterpolargl": [
           {
            "marker": {
             "colorbar": {
              "outlinewidth": 0,
              "ticks": ""
             }
            },
            "type": "scatterpolargl"
           }
          ],
          "scatterternary": [
           {
            "marker": {
             "colorbar": {
              "outlinewidth": 0,
              "ticks": ""
             }
            },
            "type": "scatterternary"
           }
          ],
          "surface": [
           {
            "colorbar": {
             "outlinewidth": 0,
             "ticks": ""
            },
            "colorscale": [
             [
              0,
              "#0d0887"
             ],
             [
              0.1111111111111111,
              "#46039f"
             ],
             [
              0.2222222222222222,
              "#7201a8"
             ],
             [
              0.3333333333333333,
              "#9c179e"
             ],
             [
              0.4444444444444444,
              "#bd3786"
             ],
             [
              0.5555555555555556,
              "#d8576b"
             ],
             [
              0.6666666666666666,
              "#ed7953"
             ],
             [
              0.7777777777777778,
              "#fb9f3a"
             ],
             [
              0.8888888888888888,
              "#fdca26"
             ],
             [
              1,
              "#f0f921"
             ]
            ],
            "type": "surface"
           }
          ],
          "table": [
           {
            "cells": {
             "fill": {
              "color": "#EBF0F8"
             },
             "line": {
              "color": "white"
             }
            },
            "header": {
             "fill": {
              "color": "#C8D4E3"
             },
             "line": {
              "color": "white"
             }
            },
            "type": "table"
           }
          ]
         },
         "layout": {
          "annotationdefaults": {
           "arrowcolor": "#2a3f5f",
           "arrowhead": 0,
           "arrowwidth": 1
          },
          "autotypenumbers": "strict",
          "coloraxis": {
           "colorbar": {
            "outlinewidth": 0,
            "ticks": ""
           }
          },
          "colorscale": {
           "diverging": [
            [
             0,
             "#8e0152"
            ],
            [
             0.1,
             "#c51b7d"
            ],
            [
             0.2,
             "#de77ae"
            ],
            [
             0.3,
             "#f1b6da"
            ],
            [
             0.4,
             "#fde0ef"
            ],
            [
             0.5,
             "#f7f7f7"
            ],
            [
             0.6,
             "#e6f5d0"
            ],
            [
             0.7,
             "#b8e186"
            ],
            [
             0.8,
             "#7fbc41"
            ],
            [
             0.9,
             "#4d9221"
            ],
            [
             1,
             "#276419"
            ]
           ],
           "sequential": [
            [
             0,
             "#0d0887"
            ],
            [
             0.1111111111111111,
             "#46039f"
            ],
            [
             0.2222222222222222,
             "#7201a8"
            ],
            [
             0.3333333333333333,
             "#9c179e"
            ],
            [
             0.4444444444444444,
             "#bd3786"
            ],
            [
             0.5555555555555556,
             "#d8576b"
            ],
            [
             0.6666666666666666,
             "#ed7953"
            ],
            [
             0.7777777777777778,
             "#fb9f3a"
            ],
            [
             0.8888888888888888,
             "#fdca26"
            ],
            [
             1,
             "#f0f921"
            ]
           ],
           "sequentialminus": [
            [
             0,
             "#0d0887"
            ],
            [
             0.1111111111111111,
             "#46039f"
            ],
            [
             0.2222222222222222,
             "#7201a8"
            ],
            [
             0.3333333333333333,
             "#9c179e"
            ],
            [
             0.4444444444444444,
             "#bd3786"
            ],
            [
             0.5555555555555556,
             "#d8576b"
            ],
            [
             0.6666666666666666,
             "#ed7953"
            ],
            [
             0.7777777777777778,
             "#fb9f3a"
            ],
            [
             0.8888888888888888,
             "#fdca26"
            ],
            [
             1,
             "#f0f921"
            ]
           ]
          },
          "colorway": [
           "#636efa",
           "#EF553B",
           "#00cc96",
           "#ab63fa",
           "#FFA15A",
           "#19d3f3",
           "#FF6692",
           "#B6E880",
           "#FF97FF",
           "#FECB52"
          ],
          "font": {
           "color": "#2a3f5f"
          },
          "geo": {
           "bgcolor": "white",
           "lakecolor": "white",
           "landcolor": "#E5ECF6",
           "showlakes": true,
           "showland": true,
           "subunitcolor": "white"
          },
          "hoverlabel": {
           "align": "left"
          },
          "hovermode": "closest",
          "mapbox": {
           "style": "light"
          },
          "paper_bgcolor": "white",
          "plot_bgcolor": "#E5ECF6",
          "polar": {
           "angularaxis": {
            "gridcolor": "white",
            "linecolor": "white",
            "ticks": ""
           },
           "bgcolor": "#E5ECF6",
           "radialaxis": {
            "gridcolor": "white",
            "linecolor": "white",
            "ticks": ""
           }
          },
          "scene": {
           "xaxis": {
            "backgroundcolor": "#E5ECF6",
            "gridcolor": "white",
            "gridwidth": 2,
            "linecolor": "white",
            "showbackground": true,
            "ticks": "",
            "zerolinecolor": "white"
           },
           "yaxis": {
            "backgroundcolor": "#E5ECF6",
            "gridcolor": "white",
            "gridwidth": 2,
            "linecolor": "white",
            "showbackground": true,
            "ticks": "",
            "zerolinecolor": "white"
           },
           "zaxis": {
            "backgroundcolor": "#E5ECF6",
            "gridcolor": "white",
            "gridwidth": 2,
            "linecolor": "white",
            "showbackground": true,
            "ticks": "",
            "zerolinecolor": "white"
           }
          },
          "shapedefaults": {
           "line": {
            "color": "#2a3f5f"
           }
          },
          "ternary": {
           "aaxis": {
            "gridcolor": "white",
            "linecolor": "white",
            "ticks": ""
           },
           "baxis": {
            "gridcolor": "white",
            "linecolor": "white",
            "ticks": ""
           },
           "bgcolor": "#E5ECF6",
           "caxis": {
            "gridcolor": "white",
            "linecolor": "white",
            "ticks": ""
           }
          },
          "title": {
           "x": 0.05
          },
          "xaxis": {
           "automargin": true,
           "gridcolor": "white",
           "linecolor": "white",
           "ticks": "",
           "title": {
            "standoff": 15
           },
           "zerolinecolor": "white",
           "zerolinewidth": 2
          },
          "yaxis": {
           "automargin": true,
           "gridcolor": "white",
           "linecolor": "white",
           "ticks": "",
           "title": {
            "standoff": 15
           },
           "zerolinecolor": "white",
           "zerolinewidth": 2
          }
         }
        },
        "title": {
         "text": "Human Development Index vs Total Deaths per Million (2021)"
        },
        "xaxis": {
         "anchor": "y",
         "domain": [
          0,
          1
         ],
         "title": {
          "text": "Human Development Index"
         }
        },
        "yaxis": {
         "anchor": "x",
         "domain": [
          0,
          1
         ],
         "title": {
          "text": "GDP per capita (2021)"
         }
        }
       }
      }
     },
     "metadata": {},
     "output_type": "display_data"
    }
   ],
   "source": [
    "import pandas as pd\n",
    "import plotly.express as px\n",
    "\n",
    "# Read the datasets\n",
    "covid_df = pd.read_csv('owid-covid-data.csv')\n",
    "gdp_df = pd.read_csv('GDP-data.csv', skiprows=4)\n",
    "\n",
    "# Convert 'date' column to datetime\n",
    "covid_df['date'] = pd.to_datetime(covid_df['date'])\n",
    "\n",
    "# Extract data for 2021 and 2020\n",
    "covid_2021_df = covid_df[covid_df['date'].dt.year == 2021]\n",
    "covid_2020_df = covid_df[covid_df['date'].dt.year == 2020]\n",
    "\n",
    "# Find the last available date for each location in 2021 and 2020\n",
    "last_dates_2021 = covid_2021_df.groupby('location')['date'].idxmax()\n",
    "last_dates_2020 = covid_2020_df.groupby('location')['date'].idxmax()\n",
    "\n",
    "# Filter the dataframe to only include rows with the last available date for each location\n",
    "covid_last_2021 = covid_2021_df.loc[last_dates_2021]\n",
    "covid_last_2020 = covid_2020_df.loc[last_dates_2020]\n",
    "\n",
    "# Select required columns\n",
    "covid_deaths_2021 = covid_last_2021[['location', 'total_deaths_per_million']]\n",
    "covid_deaths_2020 = covid_last_2020[['location', 'total_deaths_per_million']]\n",
    "\n",
    "# Merge 2020 and 2021 data on location\n",
    "covid_deaths = pd.merge(covid_deaths_2021, covid_deaths_2020, on='location', suffixes=('_2021', '_2020'))\n",
    "\n",
    "# Calculate the difference in total deaths per million between 2021 and 2020\n",
    "covid_deaths['total_deaths_per_million_2021'] = covid_deaths['total_deaths_per_million_2021'] - covid_deaths['total_deaths_per_million_2020']\n",
    "\n",
    "# Preprocess GDP data\n",
    "gdp_df = gdp_df.rename(columns={'Country Name': 'location'})\n",
    "\n",
    "# Merge GDP data with COVID data\n",
    "df = pd.merge(gdp_df, covid_deaths, on='location', how='inner')\n",
    "\n",
    "# Add other required columns from the covid_last_2021 data\n",
    "other_columns = covid_last_2021[['location', 'continent', 'median_age', 'people_vaccinated_per_hundred', 'total_tests_per_thousand', 'human_development_index', 'population_density', 'icu_patients_per_million']]\n",
    "df = pd.merge(df, other_columns, on='location', how='inner')\n",
    "\n",
    "# Handle NaN values in the '2021' (GDP per capita) column\n",
    "df['2021'] = df['2021'].replace('..', float('nan')).astype(float)\n",
    "df = df.dropna(subset=['2021', 'total_deaths_per_million_2021'])\n",
    "\n",
    "fig4 = px.scatter(\n",
    "    df,\n",
    "    x=\"human_development_index\",\n",
    "    y=\"2021\",\n",
    "    size=\"total_deaths_per_million_2021\",\n",
    "    hover_name=\"location\",\n",
    "    trendline='ols',\n",
    "    trendline_color_override='darkblue',\n",
    "    title=\"Human Development Index vs Total Deaths per Million (2021)\",\n",
    "    labels={\n",
    "        \"human_development_index\": \"Human Development Index\",\n",
    "        \"2021\": \"GDP per capita (2021)\"\n",
    "    },\n",
    "    height=600\n",
    ")\n",
    "fig4.add_annotation(text=\"Figure 2.3\", xref=\"paper\", yref=\"paper\", x=1, y=-0.2, showarrow=False, align=\"center\", font=dict(size=14))"
   ]
  },
  {
   "cell_type": "markdown",
   "metadata": {},
   "source": [
    "As you can see in the graph, the size of the bubbles on the left handside are almost too small to notice eventhough the bubbles on the right are getting quite big in comparison. This shows us that more developed countries generally have higher mortality rates. The correlation between GDP per capita and the HDI is quite high, this because the GDP per capita is used when calculating the HDI. So less developed countries have overall less deaths, this could be due to a better developed immunity due to their healthcare system being less developed."
   ]
  },
  {
   "cell_type": "markdown",
   "metadata": {
    "tags": [
     "remove_input"
    ]
   },
   "source": [
    "### Summary\n",
    "\n",
    "In summary, eventhough there are reasons suggesting that countries with a higher GDP per capita should have performed better at keeping excessive mortality rates low, the data does not always reflect that. Countries with a higher GDP per capita should have more access to vaccines and the vaccines have been proven to lower excessive mortality rates in countries, but for some reason countries with a higher GDP per capita do not consistently outperform countries with a lower GDP per capita. This could be due to an inconsistency in recording the data, due to a lack of resources, which occurs more often in countries with a lower GDP per capita. On the other hand, there could be legitimate reason to why sometimes countries with a lower GDP per capita have performed better. For example: countries with a lower GDP per capita have a lower median age, which leads to a lower mortality rate. \n",
    "\n"
   ]
  },
  {
   "cell_type": "markdown",
   "metadata": {
    "tags": [
     "remove_input"
    ]
   },
   "source": [
    "### Reflection\n",
    "\n",
    "The feedback from our TAs was important for improving our data story. They helped us correct our visualizations, especially by suggesting we change a 3D scatter plot that was difficult to interpret, to a clearer bubble chart. This change helped us to have a clearer graph, which was much easier to interpret and improved the readability. The TA also gave us feedback about the variation in our visualizations. According to him we initially used too many scatter plots. This advice led us to diversify our types of plots which enhanced the overall clarity of our data story.\n",
    "\n",
    "Additionally, our TA also pointed out that our second perspective was too similar to the first. This feedback made us change the second perspective, to create a more contrasting other perspective. This allowed us to present a broader range of views and a more comprehensive analysis. During the peer feedback we also received the same feedback that the TA gave us, about the overuse of scatter plots. They also adviced us to create a bigger variety of data visualizations since they saw we had too many scatter plots. \n",
    "\n",
    "By incorporating the design guidelines discussed in the lectures, we critically inspected each visualization using the given criteria. We ensured that each visualization used the most suitable chart type to convey the data effectively, we highlighted key data points and trends, provided necessary context and used scales that accurately represented the data. We also made sure to choose the right colors and shapes to create a contrast, which makes it easier to read. On top of that we repeated similar elements such as the color blue, to add consistency throughout the page. By using these design guidelines we ensured our visualizations were not only aesthetically pleasing but also functionally effective and easy to interpret \n",
    "\n",
    "Overall, all the feedback we received helped us a lot by diversifying our data visualizations and elevating our data analysis. This helped us to make a more comprehensive data story from multiple viewpoints.\n",
    "\n",
    "\n",
    "\n",
    "### Work Distribution\n",
    "We all worked together on most aspects of the project, as we met up on campus to collaborate on the assignment. We brainstormed ideas and eventually chose the different perspectives and arguments together. Each team member then took responsibility for writing out one of the arguments to explain it in the data story. We also collaborated on writing parts of the introduction together in google docs, ensuring that it reflected all of our perspectives and understanding to make sure we are on the same page. We also worked together to reflect on and incorporate the feedback we received from the TAs and our peers, ensuring that all perspectives and suggestions were integrated into our final project. This teamwork helped us with making sure we have a unified and well rounded data story."
   ]
  },
  {
   "cell_type": "markdown",
   "metadata": {
    "tags": [
     "remove_input"
    ]
   },
   "source": [
    "### References\n",
    "\n",
    "The links for these datasets are: \n",
    "OWID Covid-19: https://ourworldindata.org/coronavirus#deaths-and-cases-our-data-source\n",
    "GDP per capita: https://data.worldbank.org/indicator/NY.GDP.PCAP.PP.CD \n",
    "GDP per capita, PPP (current international $) | Data\n",
    "\n",
    "\n",
    "Rijksoverheid. (2020, December 1). Start corona-vaccinatie mogelijk begin januari. Rijksoverheid. https://www.rijksoverheid.nl/actueel/nieuws/2020/12/01/start-corona-vaccinatie-mogelijk-begin-januari"
   ]
  }
 ],
 "metadata": {
  "kernelspec": {
   "display_name": "base",
   "language": "python",
   "name": "python3"
  },
  "language_info": {
   "codemirror_mode": {
    "name": "ipython",
    "version": 3
   },
   "file_extension": ".py",
   "mimetype": "text/x-python",
   "name": "python",
   "nbconvert_exporter": "python",
   "pygments_lexer": "ipython3",
   "version": "3.11.7"
  }
 },
 "nbformat": 4,
 "nbformat_minor": 2
}
