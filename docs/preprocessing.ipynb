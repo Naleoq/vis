{
 "cells": [
  {
   "cell_type": "markdown",
   "metadata": {},
   "source": [
    "## Data Preprocessing\n",
    "\n",
    "#### Authors:\n",
    "- Matthias Meijer \n",
    "- Nevine Zaza\n",
    "- Rosa Tillema \n",
    "- Gerben Ter Wee\n",
    "\n",
    "#### Group: I7\n",
    "\n",
    "The following code is used to preprocess the datasets into files that are used for the data story."
   ]
  },
  {
   "cell_type": "code",
   "execution_count": null,
   "metadata": {
    "vscode": {
     "languageId": "plaintext"
    }
   },
   "outputs": [],
   "source": [
    "# Step 1: Import necessary libraries\n",
    "# import pandas as pd\n",
    "# import plotly.express as px\n",
    "# import plotly.graph_objects as go\n",
    "\n",
    "# Step 2: Load and filter the datasets\n",
    "# CovidData = pd.read_csv('owid-covid-data.csv')\n",
    "# GDPdata = pd.read_csv('GDP-data.csv', skiprows=4)\n",
    "# covid_2021_df = covid_df[covid_df['date'].str.startswith('2021')]\n",
    "# covid_2020_df = covid_df[covid_df['date'].str.startswith('2020')]\n",
    "# exclude_locations = ['World', 'Upper middle income', 'Lower middle income', 'High income', 'Low income',\n",
    "#                     'European Union', 'North America', 'South America', 'Asia', 'Oceania', 'Africa']\n",
    "# covid_2021_df = covid_2021_df[~covid_2021_df['location'].isin(exclude_locations)]\n",
    "# covid_2020_df = covid_2020_df[~covid_2020_df['location'].isin(exclude_locations)]\n",
    "\n",
    "# Step 3: Process the data for visualizations\n",
    "# for var in variables:\n",
    "#    last_values_2021_dfs[var] = covid_2021_df.groupby('location').last()[var].reset_index()\n",
    "#    last_values_2020_dfs[var] = covid_2020_df.groupby('location').last()[var].reset_index()\n",
    "\n",
    "\n",
    "# Step 4: Merge datasets\n",
    "# for var in variables[1:]:\n",
    "#    merged_df = pd.merge(merged_df, last_values_2021_dfs[var], on='location', how='left')\n"
   ]
  }
 ],
 "metadata": {
  "language_info": {
   "name": "python"
  }
 },
 "nbformat": 4,
 "nbformat_minor": 2
}
