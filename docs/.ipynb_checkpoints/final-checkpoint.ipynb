{
 "cells": [
  {
   "cell_type": "markdown",
   "metadata": {},
   "source": [
    "## Datastory project"
   ]
  },
  {
   "cell_type": "markdown",
   "metadata": {},
   "source": [
    "TODO choose title:\n",
    "Influence of socioeconomic factors on mortality rate of covid pandemic\n",
    "Influence covid in different regions based on gdp\n",
    "The Role of GDP in COVID-19 Impact Across Different Regions"
   ]
  },
  {
   "cell_type": "markdown",
   "metadata": {},
   "source": [
    "### Introduction\n",
    "\n",
    "The covid-19 pandemic was the biggest pandemic of the 21st century, which is no question a big deal. But why did some countries suffer less or shorter than other countries? Answering this question is important for finding counter measures that could be used during future pandemic outbreaks.\n",
    "\n",
    "This project aims to analyze the global impact of the COVID-19 pandemic on health outcomes and whether they are influenced by socioeconomic status. By examining datasets related to COVID-19 case numbers, deaths, vaccination rates, and socioeconomic indicators such as GDP, we will explore how the pandemic has affected different population groups worldwide. The goal is to identify patterns and provide insights that could explain difference in casualty rates across the world."
   ]
  },
  {
   "cell_type": "markdown",
   "metadata": {},
   "source": [
    "### Dataset and Preprocessing"
   ]
  },
  {
   "cell_type": "markdown",
   "metadata": {},
   "source": [
    "### Perspective 1: \n",
    "**Countries with higher GDP and higher vaccination rates have managed the COVID-19 pandemic more effectively, resulting in lower mortality rates and better health outcomes despite high case numbers**\n",
    "\n",
    "\n",
    "#### Argument 1: \n",
    "**Higher gdp per capita allows for better health care systems and better access to vaccines**\n",
    "\n",
    "Based on the plot below, you can see there's a correlation between the income of a country (GDP per capita in US$) and the amount of inhabitants per 100 inhabitants fully vaccinated people against COVID-19. For COVID-19, to be fully vaccinated means to have taken two vaccins. \n",
    "\n",
    "TODO: warning outputs eruit"
   ]
  },
  {
   "cell_type": "code",
   "execution_count": 8,
   "metadata": {},
   "outputs": [
    {
     "data": {
      "text/html": [
       "<script>\n",
       "code_show=true; \n",
       "function code_toggle() {\n",
       " if (code_show){\n",
       " $('div.input').hide();\n",
       " } else {\n",
       " $('div.input').show();\n",
       " }\n",
       " code_show = !code_show\n",
       "} \n",
       "$( document ).ready(code_toggle);\n",
       "</script>\n",
       "<form action=\"javascript:code_toggle()\"><input type=\"submit\" value=\"Click here to toggle on/off the raw code.\"></form>"
      ],
      "text/plain": [
       "<IPython.core.display.HTML object>"
      ]
     },
     "execution_count": 8,
     "metadata": {},
     "output_type": "execute_result"
    }
   ],
   "source": [
    "from IPython.display import HTML\n",
    "\n",
    "HTML('''<script>\n",
    "code_show=true; \n",
    "function code_toggle() {\n",
    " if (code_show){\n",
    " $('div.input').hide();\n",
    " } else {\n",
    " $('div.input').show();\n",
    " }\n",
    " code_show = !code_show\n",
    "} \n",
    "$( document ).ready(code_toggle);\n",
    "</script>\n",
    "<form action=\"javascript:code_toggle()\"><input type=\"submit\" value=\"Click here to toggle on/off the raw code.\"></form>''')"
   ]
  },
  {
   "cell_type": "code",
   "execution_count": 13,
   "metadata": {},
   "outputs": [
    {
     "name": "stderr",
     "output_type": "stream",
     "text": [
      "/tmp/ipykernel_3280/2052732352.py:32: FutureWarning:\n",
      "\n",
      "SeriesGroupBy.fillna is deprecated and will be removed in a future version. Use obj.ffill() or obj.bfill() for forward or backward filling instead. If you want to fill with a single value, use Series.fillna instead\n",
      "\n",
      "/tmp/ipykernel_3280/2052732352.py:32: FutureWarning:\n",
      "\n",
      "Series.fillna with 'method' is deprecated and will raise in a future version. Use obj.ffill() or obj.bfill() instead.\n",
      "\n",
      "/tmp/ipykernel_3280/2052732352.py:35: SettingWithCopyWarning:\n",
      "\n",
      "\n",
      "A value is trying to be set on a copy of a slice from a DataFrame.\n",
      "Try using .loc[row_indexer,col_indexer] = value instead\n",
      "\n",
      "See the caveats in the documentation: https://pandas.pydata.org/pandas-docs/stable/user_guide/indexing.html#returning-a-view-versus-a-copy\n",
      "\n",
      "/tmp/ipykernel_3280/2052732352.py:32: FutureWarning:\n",
      "\n",
      "SeriesGroupBy.fillna is deprecated and will be removed in a future version. Use obj.ffill() or obj.bfill() for forward or backward filling instead. If you want to fill with a single value, use Series.fillna instead\n",
      "\n",
      "/tmp/ipykernel_3280/2052732352.py:32: FutureWarning:\n",
      "\n",
      "Series.fillna with 'method' is deprecated and will raise in a future version. Use obj.ffill() or obj.bfill() instead.\n",
      "\n",
      "/tmp/ipykernel_3280/2052732352.py:36: SettingWithCopyWarning:\n",
      "\n",
      "\n",
      "A value is trying to be set on a copy of a slice from a DataFrame.\n",
      "Try using .loc[row_indexer,col_indexer] = value instead\n",
      "\n",
      "See the caveats in the documentation: https://pandas.pydata.org/pandas-docs/stable/user_guide/indexing.html#returning-a-view-versus-a-copy\n",
      "\n"
     ]
    },
    {
     "data": {
      "application/vnd.plotly.v1+json": {
       "config": {
        "plotlyServerURL": "https://plot.ly"
       },
       "data": [
        {
         "hovertemplate": "<b>%{hovertext}</b><br><br>People fully vaccinated per hundred inhabitants=%{x}<br>Excess mortality cumulative per million inhabitants=%{y}<extra></extra>",
         "hovertext": [
          "Afghanistan",
          "Africa",
          "Albania",
          "Algeria",
          "American Samoa",
          "Andorra",
          "Angola",
          "Anguilla",
          "Antigua and Barbuda",
          "Argentina",
          "Armenia",
          "Aruba",
          "Asia",
          "Australia",
          "Austria",
          "Azerbaijan",
          "Bahamas",
          "Bahrain",
          "Bangladesh",
          "Barbados",
          "Belarus",
          "Belgium",
          "Belize",
          "Benin",
          "Bermuda",
          "Bhutan",
          "Bolivia",
          "Bonaire Sint Eustatius and Saba",
          "Bosnia and Herzegovina",
          "Botswana",
          "Brazil",
          "British Virgin Islands",
          "Brunei",
          "Bulgaria",
          "Burkina Faso",
          "Burundi",
          "Cambodia",
          "Cameroon",
          "Canada",
          "Cape Verde",
          "Cayman Islands",
          "Central African Republic",
          "Chad",
          "Chile",
          "China",
          "Colombia",
          "Comoros",
          "Congo",
          "Cook Islands",
          "Costa Rica",
          "Cote d'Ivoire",
          "Croatia",
          "Cuba",
          "Curacao",
          "Cyprus",
          "Czechia",
          "Democratic Republic of Congo",
          "Denmark",
          "Djibouti",
          "Dominica",
          "Dominican Republic",
          "Ecuador",
          "Egypt",
          "El Salvador",
          "England",
          "Equatorial Guinea",
          "Eritrea",
          "Estonia",
          "Eswatini",
          "Ethiopia",
          "Europe",
          "European Union",
          "Faeroe Islands",
          "Falkland Islands",
          "Fiji",
          "Finland",
          "France",
          "French Guiana",
          "French Polynesia",
          "Gabon",
          "Gambia",
          "Georgia",
          "Germany",
          "Ghana",
          "Gibraltar",
          "Greece",
          "Greenland",
          "Grenada",
          "Guadeloupe",
          "Guam",
          "Guatemala",
          "Guernsey",
          "Guinea",
          "Guinea-Bissau",
          "Guyana",
          "Haiti",
          "High income",
          "Honduras",
          "Hong Kong",
          "Hungary",
          "Iceland",
          "India",
          "Indonesia",
          "Iran",
          "Iraq",
          "Ireland",
          "Isle of Man",
          "Israel",
          "Italy",
          "Jamaica",
          "Japan",
          "Jersey",
          "Jordan",
          "Kazakhstan",
          "Kenya",
          "Kiribati",
          "Kosovo",
          "Kuwait",
          "Kyrgyzstan",
          "Laos",
          "Latvia",
          "Lebanon",
          "Lesotho",
          "Liberia",
          "Libya",
          "Liechtenstein",
          "Lithuania",
          "Low income",
          "Lower middle income",
          "Luxembourg",
          "Macao",
          "Madagascar",
          "Malawi",
          "Malaysia",
          "Maldives",
          "Mali",
          "Malta",
          "Marshall Islands",
          "Martinique",
          "Mauritania",
          "Mauritius",
          "Mayotte",
          "Mexico",
          "Micronesia (country)",
          "Moldova",
          "Monaco",
          "Mongolia",
          "Montenegro",
          "Montserrat",
          "Morocco",
          "Mozambique",
          "Myanmar",
          "Namibia",
          "Nauru",
          "Nepal",
          "Netherlands",
          "New Caledonia",
          "New Zealand",
          "Nicaragua",
          "Niger",
          "Nigeria",
          "Niue",
          "North America",
          "North Korea",
          "North Macedonia",
          "Northern Cyprus",
          "Northern Ireland",
          "Northern Mariana Islands",
          "Norway",
          "Oceania",
          "Oman",
          "Pakistan",
          "Palau",
          "Palestine",
          "Panama",
          "Papua New Guinea",
          "Paraguay",
          "Peru",
          "Philippines",
          "Pitcairn",
          "Poland",
          "Portugal",
          "Puerto Rico",
          "Qatar",
          "Reunion",
          "Romania",
          "Russia",
          "Rwanda",
          "Saint Barthelemy",
          "Saint Helena",
          "Saint Kitts and Nevis",
          "Saint Lucia",
          "Saint Martin (French part)",
          "Saint Pierre and Miquelon",
          "Saint Vincent and the Grenadines",
          "Samoa",
          "San Marino",
          "Sao Tome and Principe",
          "Saudi Arabia",
          "Scotland",
          "Senegal",
          "Serbia",
          "Seychelles",
          "Sierra Leone",
          "Singapore",
          "Sint Maarten (Dutch part)",
          "Slovakia",
          "Slovenia",
          "Solomon Islands",
          "Somalia",
          "South Africa",
          "South America",
          "South Korea",
          "South Sudan",
          "Spain",
          "Sri Lanka",
          "Sudan",
          "Suriname",
          "Sweden",
          "Switzerland",
          "Syria",
          "Taiwan",
          "Tajikistan",
          "Tanzania",
          "Thailand",
          "Timor",
          "Togo",
          "Tokelau",
          "Tonga",
          "Trinidad and Tobago",
          "Tunisia",
          "Turkey",
          "Turkmenistan",
          "Turks and Caicos Islands",
          "Tuvalu",
          "Uganda",
          "Ukraine",
          "United Arab Emirates",
          "United Kingdom",
          "United States",
          "United States Virgin Islands",
          "Upper middle income",
          "Uruguay",
          "Uzbekistan",
          "Vanuatu",
          "Vatican",
          "Venezuela",
          "Vietnam",
          "Wales",
          "Wallis and Futuna",
          "World",
          "Yemen",
          "Zambia",
          "Zimbabwe"
         ],
         "legendgroup": "",
         "marker": {
          "color": "#636efa",
          "opacity": 0.7,
          "symbol": "circle"
         },
         "mode": "markers",
         "name": "",
         "orientation": "v",
         "showlegend": false,
         "type": "scatter",
         "x": [
          9.13,
          8.74,
          36.28,
          12.49,
          null,
          64.37,
          11.04,
          58.09,
          62.77,
          67.63,
          24.89,
          74.21,
          56.12,
          75.47,
          70.64,
          45.15,
          35.94,
          80.01,
          23.8,
          51.01,
          33.86,
          75.75,
          49.13,
          9.88,
          70.42,
          72.22,
          37.58,
          61.87,
          22.29,
          39.31,
          66.62,
          54.27,
          89.24,
          28.24,
          2.86,
          0.03,
          81.46,
          2.36,
          76.55,
          43.15,
          82.78,
          6,
          0.46,
          84.41,
          84.68,
          54.6,
          29.41,
          2.28,
          73.38,
          67.66,
          7.68,
          48.47,
          86.27,
          50.54,
          67.84,
          63.48,
          0.12,
          76.63,
          2.33,
          37.96,
          50.76,
          70.5,
          18.58,
          65.6,
          70.41,
          12.14,
          null,
          62.42,
          25.07,
          null,
          60.55,
          68.3,
          76.3,
          46.7,
          65.13,
          73.73,
          73.21,
          null,
          51.94,
          7.25,
          9.22,
          30.68,
          70.96,
          6.97,
          122.61,
          67.8,
          67.36,
          28.26,
          null,
          null,
          26.27,
          21.5,
          6.68,
          1.1,
          36.37,
          0.64,
          68.87,
          41.18,
          62.25,
          60.01,
          76.14,
          42.57,
          41.26,
          57.81,
          12.67,
          77.33,
          77.43,
          62.89,
          75.73,
          20.05,
          80.44,
          69.49,
          34.86,
          43.9,
          7.69,
          17.28,
          43.92,
          75.35,
          14.95,
          41.16,
          68.22,
          33.36,
          31.55,
          14.24,
          12.12,
          null,
          66.62,
          3.76,
          34.53,
          5.85,
          66.4,
          1.83,
          3.46,
          75.62,
          70.15,
          1.74,
          81.73,
          null,
          null,
          16.2,
          70.02,
          null,
          57.08,
          null,
          30.01,
          70.34,
          63.66,
          43.51,
          33.36,
          61.39,
          18.46,
          24.05,
          11.05,
          57.13,
          31.88,
          65.97,
          59.74,
          74.37,
          41.82,
          1.77,
          2.05,
          58.91,
          58.76,
          null,
          39.01,
          72.09,
          68.38,
          null,
          72.31,
          55.75,
          63.42,
          29.93,
          null,
          28.87,
          63.61,
          2.17,
          43.48,
          64.86,
          42.94,
          100,
          52.8,
          83.15,
          null,
          82.31,
          null,
          39.76,
          46.14,
          39.45,
          null,
          65.38,
          53.73,
          27.42,
          null,
          null,
          25.24,
          54.75,
          64.19,
          22.52,
          63.67,
          73.49,
          5.3,
          46.68,
          73.05,
          4.2,
          83.1,
          56.94,
          43.44,
          56.09,
          7.72,
          4.6,
          26.44,
          63.24,
          81.67,
          1.66,
          79.63,
          63.41,
          2.63,
          36.93,
          68.78,
          null,
          3.53,
          67.63,
          29.09,
          2.51,
          64.6,
          39.74,
          11.54,
          51.14,
          52.99,
          43.68,
          47.93,
          60.47,
          0.3,
          59.34,
          51.91,
          2.98,
          34.65,
          95.96,
          70.26,
          63.36,
          null,
          71.47,
          78.43,
          32.06,
          15.43,
          null,
          41.02,
          69.7,
          72.66,
          51.08,
          48.64,
          0.64,
          6.08,
          19.21
         ],
         "xaxis": "x",
         "y": [
          null,
          null,
          5133.621,
          null,
          null,
          1773.4042,
          null,
          null,
          -654.30286,
          2887.6165,
          7123.4707,
          3305.7078,
          null,
          25.361595,
          1624.463,
          3567.9844,
          2630.418,
          null,
          null,
          -345.65652,
          3259.745,
          1740.7869,
          1351.3751,
          null,
          2743.993,
          -184.9518,
          4841.585,
          null,
          5846.379,
          null,
          3109.5383,
          null,
          89.361496,
          8238.763,
          null,
          null,
          null,
          null,
          647.67896,
          969.1532,
          null,
          null,
          null,
          1948.0808,
          null,
          3181.784,
          null,
          null,
          null,
          1156.1598,
          null,
          4073.8508,
          4765.7983,
          null,
          973.48236,
          3913.8223,
          null,
          136.87498,
          null,
          null,
          709.27246,
          3903.8044,
          2615.2344,
          null,
          null,
          null,
          null,
          2224.8745,
          null,
          null,
          null,
          null,
          null,
          null,
          2112.3389,
          513.8926,
          1214.0934,
          723.45374,
          1796.4862,
          null,
          null,
          5456.1704,
          1059.7295,
          null,
          599.4251,
          2277.9568,
          -1030.8179,
          null,
          2892.008,
          null,
          2470.815,
          null,
          null,
          null,
          null,
          null,
          null,
          null,
          427.77582,
          3645.2202,
          131.77153,
          null,
          null,
          2862.206,
          null,
          887.37134,
          null,
          808.1858,
          2820.8127,
          1801.8877,
          -105.506226,
          null,
          1349.3013,
          4203.1904,
          null,
          null,
          3848.5652,
          1548.0538,
          2226.1907,
          null,
          3835.3708,
          2354.636,
          null,
          null,
          null,
          1269.9062,
          5940.0317,
          null,
          null,
          57.091022,
          -6.9908032,
          null,
          null,
          782.71576,
          1109.1741,
          null,
          981.67834,
          null,
          2570.7769,
          null,
          845.0085,
          1294.8468,
          5099.9043,
          null,
          5128.843,
          4385.368,
          216.20276,
          4750.929,
          null,
          null,
          null,
          null,
          1225.8562,
          null,
          null,
          1624.4943,
          713.6677,
          -534.6675,
          2620.1414,
          null,
          null,
          null,
          null,
          null,
          6749.3965,
          null,
          null,
          null,
          217.26732,
          null,
          990.4271,
          null,
          null,
          922.9374,
          1724.4183,
          null,
          3308.9583,
          5476.6445,
          2023.2168,
          null,
          4015.026,
          2022.1362,
          1430.0541,
          342.45465,
          292.40308,
          5501.802,
          7421.1763,
          null,
          null,
          null,
          2204.4468,
          null,
          null,
          null,
          1232.5092,
          null,
          3961.862,
          null,
          null,
          null,
          null,
          6954.501,
          -1034.8779,
          null,
          309.37225,
          null,
          4486.1597,
          2374.3423,
          null,
          null,
          4027.1887,
          null,
          146.87982,
          null,
          2034.0842,
          null,
          null,
          2585.3645,
          935.4553,
          1327.0807,
          null,
          -143.52113,
          1681.3813,
          null,
          881.55066,
          null,
          null,
          null,
          null,
          null,
          2436.4612,
          2144.7422,
          null,
          null,
          null,
          null,
          4109.5923,
          386.49686,
          2028.0187,
          2833.2693,
          null,
          null,
          1048.4886,
          1048.3533,
          null,
          null,
          null,
          null,
          null,
          null,
          null,
          null,
          null,
          null
         ],
         "yaxis": "y"
        },
        {
         "hovertemplate": "<b>OLS trendline</b><br>excess_mortality_cumulative_per_million = -40.1445 * people_fully_vaccinated_per_hundred + 4596.57<br>R<sup>2</sup>=0.170592<br><br>People fully vaccinated per hundred inhabitants=%{x}<br>Excess mortality cumulative per million inhabitants=%{y} <b>(trend)</b><extra></extra>",
         "legendgroup": "",
         "line": {
          "color": "darkblue"
         },
         "marker": {
          "color": "#636efa",
          "symbol": "circle"
         },
         "mode": "lines",
         "name": "",
         "showlegend": false,
         "type": "scatter",
         "x": [
          5.85,
          11.05,
          14.95,
          18.58,
          20.05,
          22.29,
          24.89,
          25.24,
          26.27,
          26.44,
          28.24,
          28.87,
          29.09,
          30.01,
          30.68,
          32.06,
          33.36,
          33.86,
          34.65,
          34.86,
          35.94,
          36.28,
          36.93,
          37.58,
          39.01,
          39.76,
          41.82,
          42.94,
          43.15,
          43.44,
          43.48,
          43.51,
          43.9,
          43.92,
          45.15,
          46.14,
          46.68,
          47.93,
          48.47,
          49.13,
          50.76,
          51.01,
          51.94,
          52.8,
          53.73,
          54.6,
          56.09,
          57.08,
          57.81,
          59.74,
          60.01,
          60.47,
          62.25,
          62.42,
          62.77,
          62.89,
          63.36,
          63.42,
          63.48,
          63.61,
          63.66,
          64.19,
          64.37,
          64.6,
          64.86,
          65.13,
          65.97,
          66.4,
          66.62,
          66.62,
          67.36,
          67.63,
          67.63,
          67.66,
          67.8,
          67.84,
          68.22,
          68.78,
          70.02,
          70.15,
          70.26,
          70.34,
          70.42,
          70.5,
          70.64,
          70.96,
          72.22,
          72.31,
          73.05,
          73.21,
          73.73,
          74.21,
          74.37,
          75.35,
          75.47,
          75.62,
          75.73,
          75.75,
          76.14,
          76.55,
          76.63,
          77.33,
          78.43,
          79.63,
          80.44,
          81.67,
          81.73,
          82.31,
          83.1,
          83.15,
          84.41,
          86.27,
          89.24,
          95.96,
          122.61
         ],
         "xaxis": "x",
         "y": [
          4361.7241910167595,
          4152.972846460566,
          3996.4093380434206,
          3850.684841747462,
          3791.6724424209997,
          3701.7487863044853,
          3597.373114026388,
          3583.322542758183,
          3541.9737187403216,
          3535.1491555529074,
          3462.889074744994,
          3437.5980464622244,
          3428.766258807924,
          3391.833328617213,
          3364.936520760934,
          3309.537125474867,
          3257.3492893358184,
          3237.2770446669538,
          3205.5628980901474,
          3197.132555329224,
          3153.776506844476,
          3140.127380469648,
          3114.033462400124,
          3087.9395443305993,
          3030.5329245776466,
          3000.424557574349,
          2917.7269095386264,
          2872.765081480369,
          2864.334738719446,
          2852.692836811504,
          2851.087057237995,
          2849.8827225578634,
          2834.2263717161486,
          2833.423481929394,
          2784.045760043987,
          2744.302715599634,
          2722.6246913572604,
          2672.444079685098,
          2650.7660554427243,
          2624.2706924798226,
          2558.835174859323,
          2548.799052524891,
          2511.4646774408025,
          2476.940416610355,
          2439.606041526267,
          2404.6803358024417,
          2344.8650466892245,
          2305.1220022448724,
          2275.8165250283296,
          2198.3376606065117,
          2187.498648485325,
          2169.032183389969,
          2097.5749923688104,
          2090.750429181396,
          2076.699857913191,
          2071.8825191926635,
          2053.0146092039304,
          2050.6059398436664,
          2048.197270483403,
          2042.9784868694978,
          2040.9712624026115,
          2019.6946830536149,
          2012.4686749728235,
          2003.2354424251457,
          1992.797875197336,
          1981.958863076149,
          1948.237492032456,
          1930.975361617232,
          1922.143573962932,
          1922.143573962932,
          1892.4366518530119,
          1881.597639731825,
          1881.597639731825,
          1880.3933050516935,
          1874.7730765444112,
          1873.1672969709016,
          1857.9123910225644,
          1835.4314769934358,
          1785.6523102146516,
          1780.433526600746,
          1776.0176327735958,
          1772.8060736265775,
          1769.5945144795592,
          1766.3829553325409,
          1760.762726825259,
          1747.9164902371858,
          1697.3344336716464,
          1693.7214296312504,
          1664.0145075213309,
          1657.5913892272943,
          1636.7162547716744,
          1617.4468998895645,
          1611.0237815955275,
          1571.6821820445525,
          1566.864843324025,
          1560.8431699233652,
          1556.4272760962149,
          1555.6243863094605,
          1539.9680354677462,
          1523.508794839277,
          1520.2972356922587,
          1492.1960931558478,
          1448.037154884345,
          1399.86376767907,
          1367.3467313155088,
          1317.9690094301013,
          1315.5603400698374,
          1292.2765362539544,
          1260.562389677148,
          1258.5551652102613,
          1207.9731086447223,
          1133.3043584765455,
          1014.0752251434883,
          744.3042567939456,
          -325.54638405654896
         ],
         "yaxis": "y"
        },
        {
         "hovertemplate": "<b>%{hovertext}</b><br><br>People fully vaccinated per hundred inhabitants=%{x}<br>GDP per capita=%{y}<extra></extra>",
         "hovertext": [
          "Afghanistan",
          "Africa",
          "Albania",
          "Algeria",
          "American Samoa",
          "Andorra",
          "Angola",
          "Anguilla",
          "Antigua and Barbuda",
          "Argentina",
          "Armenia",
          "Aruba",
          "Asia",
          "Australia",
          "Austria",
          "Azerbaijan",
          "Bahamas",
          "Bahrain",
          "Bangladesh",
          "Barbados",
          "Belarus",
          "Belgium",
          "Belize",
          "Benin",
          "Bermuda",
          "Bhutan",
          "Bolivia",
          "Bonaire Sint Eustatius and Saba",
          "Bosnia and Herzegovina",
          "Botswana",
          "Brazil",
          "British Virgin Islands",
          "Brunei",
          "Bulgaria",
          "Burkina Faso",
          "Burundi",
          "Cambodia",
          "Cameroon",
          "Canada",
          "Cape Verde",
          "Cayman Islands",
          "Central African Republic",
          "Chad",
          "Chile",
          "China",
          "Colombia",
          "Comoros",
          "Congo",
          "Cook Islands",
          "Costa Rica",
          "Cote d'Ivoire",
          "Croatia",
          "Cuba",
          "Curacao",
          "Cyprus",
          "Czechia",
          "Democratic Republic of Congo",
          "Denmark",
          "Djibouti",
          "Dominica",
          "Dominican Republic",
          "Ecuador",
          "Egypt",
          "El Salvador",
          "England",
          "Equatorial Guinea",
          "Eritrea",
          "Estonia",
          "Eswatini",
          "Ethiopia",
          "Europe",
          "European Union",
          "Faeroe Islands",
          "Falkland Islands",
          "Fiji",
          "Finland",
          "France",
          "French Guiana",
          "French Polynesia",
          "Gabon",
          "Gambia",
          "Georgia",
          "Germany",
          "Ghana",
          "Gibraltar",
          "Greece",
          "Greenland",
          "Grenada",
          "Guadeloupe",
          "Guam",
          "Guatemala",
          "Guernsey",
          "Guinea",
          "Guinea-Bissau",
          "Guyana",
          "Haiti",
          "High income",
          "Honduras",
          "Hong Kong",
          "Hungary",
          "Iceland",
          "India",
          "Indonesia",
          "Iran",
          "Iraq",
          "Ireland",
          "Isle of Man",
          "Israel",
          "Italy",
          "Jamaica",
          "Japan",
          "Jersey",
          "Jordan",
          "Kazakhstan",
          "Kenya",
          "Kiribati",
          "Kosovo",
          "Kuwait",
          "Kyrgyzstan",
          "Laos",
          "Latvia",
          "Lebanon",
          "Lesotho",
          "Liberia",
          "Libya",
          "Liechtenstein",
          "Lithuania",
          "Low income",
          "Lower middle income",
          "Luxembourg",
          "Macao",
          "Madagascar",
          "Malawi",
          "Malaysia",
          "Maldives",
          "Mali",
          "Malta",
          "Marshall Islands",
          "Martinique",
          "Mauritania",
          "Mauritius",
          "Mayotte",
          "Mexico",
          "Micronesia (country)",
          "Moldova",
          "Monaco",
          "Mongolia",
          "Montenegro",
          "Montserrat",
          "Morocco",
          "Mozambique",
          "Myanmar",
          "Namibia",
          "Nauru",
          "Nepal",
          "Netherlands",
          "New Caledonia",
          "New Zealand",
          "Nicaragua",
          "Niger",
          "Nigeria",
          "Niue",
          "North America",
          "North Korea",
          "North Macedonia",
          "Northern Cyprus",
          "Northern Ireland",
          "Northern Mariana Islands",
          "Norway",
          "Oceania",
          "Oman",
          "Pakistan",
          "Palau",
          "Palestine",
          "Panama",
          "Papua New Guinea",
          "Paraguay",
          "Peru",
          "Philippines",
          "Pitcairn",
          "Poland",
          "Portugal",
          "Puerto Rico",
          "Qatar",
          "Reunion",
          "Romania",
          "Russia",
          "Rwanda",
          "Saint Barthelemy",
          "Saint Helena",
          "Saint Kitts and Nevis",
          "Saint Lucia",
          "Saint Martin (French part)",
          "Saint Pierre and Miquelon",
          "Saint Vincent and the Grenadines",
          "Samoa",
          "San Marino",
          "Sao Tome and Principe",
          "Saudi Arabia",
          "Scotland",
          "Senegal",
          "Serbia",
          "Seychelles",
          "Sierra Leone",
          "Singapore",
          "Sint Maarten (Dutch part)",
          "Slovakia",
          "Slovenia",
          "Solomon Islands",
          "Somalia",
          "South Africa",
          "South America",
          "South Korea",
          "South Sudan",
          "Spain",
          "Sri Lanka",
          "Sudan",
          "Suriname",
          "Sweden",
          "Switzerland",
          "Syria",
          "Taiwan",
          "Tajikistan",
          "Tanzania",
          "Thailand",
          "Timor",
          "Togo",
          "Tokelau",
          "Tonga",
          "Trinidad and Tobago",
          "Tunisia",
          "Turkey",
          "Turkmenistan",
          "Turks and Caicos Islands",
          "Tuvalu",
          "Uganda",
          "Ukraine",
          "United Arab Emirates",
          "United Kingdom",
          "United States",
          "United States Virgin Islands",
          "Upper middle income",
          "Uruguay",
          "Uzbekistan",
          "Vanuatu",
          "Vatican",
          "Venezuela",
          "Vietnam",
          "Wales",
          "Wallis and Futuna",
          "World",
          "Yemen",
          "Zambia",
          "Zimbabwe"
         ],
         "legendgroup": "",
         "marker": {
          "color": "#636efa",
          "opacity": 0.7,
          "symbol": "circle"
         },
         "mode": "markers",
         "name": "",
         "orientation": "v",
         "showlegend": false,
         "type": "scatter",
         "visible": false,
         "x": [
          null,
          8.74,
          null,
          null,
          null,
          null,
          null,
          null,
          null,
          67.63,
          null,
          null,
          56.12,
          null,
          70.64,
          45.15,
          null,
          80.01,
          null,
          51.01,
          null,
          75.75,
          null,
          null,
          null,
          null,
          37.58,
          null,
          null,
          39.31,
          66.62,
          null,
          89.24,
          28.24,
          null,
          null,
          81.46,
          null,
          76.55,
          null,
          null,
          null,
          null,
          84.41,
          null,
          54.6,
          29.41,
          null,
          null,
          null,
          7.68,
          48.47,
          86.27,
          50.54,
          null,
          63.48,
          null,
          76.63,
          null,
          null,
          50.76,
          70.5,
          null,
          null,
          70.41,
          null,
          null,
          62.42,
          null,
          null,
          60.55,
          68.3,
          null,
          null,
          null,
          null,
          73.21,
          null,
          null,
          null,
          null,
          null,
          70.96,
          null,
          null,
          67.8,
          null,
          null,
          null,
          null,
          26.27,
          null,
          6.68,
          null,
          null,
          null,
          68.87,
          null,
          62.25,
          null,
          null,
          42.57,
          41.26,
          null,
          null,
          77.33,
          77.43,
          62.89,
          75.73,
          null,
          80.44,
          null,
          null,
          43.9,
          null,
          null,
          43.92,
          null,
          null,
          null,
          68.22,
          33.36,
          31.55,
          null,
          null,
          null,
          66.62,
          3.76,
          34.53,
          null,
          null,
          null,
          3.46,
          75.62,
          null,
          null,
          81.73,
          null,
          null,
          null,
          null,
          null,
          null,
          null,
          30.01,
          null,
          63.66,
          43.51,
          null,
          null,
          null,
          null,
          null,
          null,
          null,
          65.97,
          null,
          74.37,
          null,
          null,
          2.05,
          null,
          58.76,
          null,
          null,
          null,
          68.38,
          null,
          72.31,
          55.75,
          null,
          null,
          null,
          null,
          null,
          null,
          null,
          64.86,
          null,
          null,
          52.8,
          83.15,
          null,
          null,
          null,
          39.76,
          46.14,
          null,
          null,
          null,
          null,
          27.42,
          null,
          null,
          null,
          null,
          null,
          null,
          63.67,
          73.49,
          null,
          null,
          null,
          null,
          83.1,
          null,
          null,
          56.09,
          null,
          null,
          null,
          63.24,
          81.67,
          null,
          null,
          63.41,
          null,
          null,
          null,
          null,
          null,
          67.63,
          null,
          null,
          64.6,
          null,
          11.54,
          null,
          null,
          43.68,
          47.93,
          60.47,
          null,
          null,
          null,
          null,
          34.65,
          null,
          70.26,
          63.36,
          null,
          71.47,
          78.43,
          null,
          null,
          null,
          null,
          null,
          72.66,
          null,
          48.64,
          null,
          6.08,
          19.21
         ],
         "xaxis": "x",
         "y": [
          1803.987,
          null,
          11803.431,
          13913.839,
          null,
          null,
          5819.495,
          null,
          21490.943,
          18933.907,
          8787.58,
          35973.781,
          null,
          44648.71,
          45436.686,
          15847.419,
          27717.847,
          43290.705,
          3523.984,
          16978.068,
          17167.967,
          42658.576,
          7824.362,
          2064.236,
          50669.315,
          8708.597,
          6885.829,
          null,
          11713.895,
          15807.374,
          14103.452,
          null,
          71809.251,
          18563.307,
          1703.102,
          702.225,
          3645.07,
          3364.926,
          44017.591,
          6222.554,
          49903.029,
          661.24,
          1768.153,
          22767.037,
          15308.712,
          13254.949,
          1413.89,
          4881.406,
          null,
          15524.995,
          3601.006,
          22669.797,
          null,
          null,
          32415.132,
          32605.906,
          808.133,
          46682.515,
          2705.406,
          9673.367,
          14600.861,
          10581.936,
          10550.206,
          7292.458,
          null,
          22604.873,
          1510.459,
          29481.252,
          7738.975,
          1729.927,
          null,
          null,
          null,
          null,
          8702.975,
          40585.721,
          38605.671,
          null,
          null,
          16562.413,
          1561.767,
          9745.079,
          45229.245,
          4227.63,
          null,
          24574.382,
          null,
          13593.877,
          null,
          null,
          7423.808,
          null,
          1998.926,
          1548.675,
          7435.047,
          1653.173,
          null,
          4541.795,
          56054.92,
          26777.561,
          46482.958,
          6426.674,
          11188.744,
          19082.62,
          15663.986,
          67335.293,
          null,
          33132.32,
          35220.084,
          8193.571,
          39002.223,
          null,
          8337.49,
          24055.588,
          2993.028,
          1981.132,
          9795.834,
          65530.537,
          3393.474,
          6397.36,
          25063.846,
          13367.565,
          2851.153,
          752.788,
          17881.509,
          null,
          29524.265,
          null,
          null,
          94277.965,
          104861.851,
          1416.44,
          1095.042,
          26808.164,
          15183.616,
          2014.306,
          36513.323,
          3819.202,
          null,
          3597.633,
          20292.745,
          null,
          17336.469,
          3299.464,
          5189.972,
          null,
          11840.846,
          16409.288,
          null,
          7485.013,
          1136.103,
          5591.597,
          9541.808,
          12895.635,
          2442.804,
          48472.545,
          null,
          36085.843,
          5321.444,
          926,
          5338.454,
          null,
          null,
          null,
          13111.214,
          null,
          null,
          null,
          64800.057,
          null,
          37960.709,
          5034.708,
          13240.405,
          4449.898,
          22267.037,
          3823.194,
          8827.01,
          12236.706,
          7599.188,
          null,
          27216.445,
          27936.896,
          35044.67,
          116935.6,
          null,
          23313.199,
          24765.954,
          1854.211,
          null,
          null,
          24654.385,
          12951.839,
          null,
          null,
          10727.146,
          6021.557,
          56861.47,
          3052.714,
          49045.411,
          null,
          2470.58,
          14048.881,
          26382.287,
          1390.3,
          85535.383,
          36327.232,
          30155.152,
          31400.84,
          2205.923,
          null,
          12294.876,
          null,
          35938.374,
          1569.888,
          34272.36,
          11669.077,
          4466.507,
          13767.119,
          46949.283,
          57410.166,
          null,
          null,
          2896.913,
          2683.304,
          16277.671,
          6570.102,
          1429.813,
          null,
          5425.621,
          28763.071,
          10849.297,
          25129.341,
          16389.023,
          null,
          3575.104,
          1697.707,
          7894.393,
          67293.483,
          39753.244,
          54225.446,
          null,
          null,
          20551.409,
          6253.104,
          2921.909,
          null,
          16745.022,
          6171.884,
          null,
          null,
          15469.207,
          1479.147,
          3689.251,
          1899.775
         ],
         "yaxis": "y"
        },
        {
         "hovertemplate": "<b>OLS trendline</b><br>gdp_per_capita = 570.469 * people_fully_vaccinated_per_hundred + -6309.59<br>R<sup>2</sup>=0.474397<br><br>People fully vaccinated per hundred inhabitants=%{x}<br>GDP per capita=%{y} <b>(trend)</b><extra></extra>",
         "legendgroup": "",
         "line": {
          "color": "darkblue"
         },
         "marker": {
          "color": "#636efa",
          "symbol": "circle"
         },
         "mode": "lines",
         "name": "",
         "showlegend": false,
         "type": "scatter",
         "visible": false,
         "x": [
          2.05,
          3.46,
          6.08,
          6.68,
          7.68,
          11.54,
          19.21,
          26.27,
          27.42,
          28.24,
          29.41,
          30.01,
          31.55,
          33.36,
          34.65,
          37.58,
          39.31,
          39.76,
          41.26,
          42.57,
          43.51,
          43.68,
          43.9,
          43.92,
          45.15,
          46.14,
          47.93,
          48.47,
          48.64,
          50.76,
          51.01,
          52.8,
          54.6,
          56.09,
          60.47,
          62.25,
          62.42,
          62.89,
          63.36,
          63.41,
          63.48,
          63.66,
          63.67,
          64.6,
          64.86,
          65.97,
          66.62,
          66.62,
          67.63,
          67.8,
          68.22,
          70.26,
          70.5,
          70.64,
          70.96,
          72.31,
          73.21,
          74.37,
          75.62,
          75.73,
          75.75,
          76.55,
          76.63,
          77.33,
          78.43,
          80.01,
          80.44,
          81.46,
          81.67,
          81.73,
          83.1,
          83.15,
          84.41,
          89.24
         ],
         "xaxis": "x",
         "y": [
          -5140.128388095932,
          -4335.76658213655,
          -2841.1368434035153,
          -2498.8552238463317,
          -1928.3858579176922,
          273.6258945668551,
          4649.12593123952,
          8676.639654695713,
          9332.67942551365,
          9800.464305575133,
          10467.913463711642,
          10810.195083268825,
          11688.71790679893,
          12721.267459129767,
          13457.17294117771,
          15128.648183348623,
          16115.560186405173,
          16372.271401073058,
          17227.97544996602,
          17975.290319332533,
          18511.531523305457,
          18608.511315513322,
          18734.014576017624,
          18745.4239633362,
          19447.101283428427,
          20011.86595569778,
          21033.006120710044,
          21341.059578311506,
          21438.03937051938,
          22647.43442628809,
          22790.051767770252,
          23811.191932782516,
          24838.03679145407,
          25688.036146687744,
          28186.691969455176,
          29202.12744080816,
          29299.107233016024,
          29567.227835002486,
          29835.34843698895,
          29863.871905285378,
          29903.804760900384,
          30006.489246767538,
          30012.193940426827,
          30542.730450740455,
          30691.052485881904,
          31324.273482062694,
          31695.07856991631,
          31695.07856991631,
          32271.252629504233,
          32368.232421712106,
          32607.82955540213,
          33771.587061896564,
          33908.49970971943,
          33988.36542094944,
          34170.9156180466,
          34941.04926205027,
          35454.47169138604,
          36116.216155863265,
          36829.30286327407,
          36892.054493526215,
          36903.463880844785,
          37359.839373587696,
          37405.47692286199,
          37804.80547901204,
          38432.321781533545,
          39333.663379700796,
          39578.9652070501,
          40160.843960297316,
          40280.642527142336,
          40314.870689098054,
          41096.413720420285,
          41124.93718871672,
          41843.728589786806,
          44599.09562722213
         ],
         "yaxis": "y"
        }
       ],
       "layout": {
        "template": {
         "data": {
          "bar": [
           {
            "error_x": {
             "color": "#2a3f5f"
            },
            "error_y": {
             "color": "#2a3f5f"
            },
            "marker": {
             "line": {
              "color": "#E5ECF6",
              "width": 0.5
             },
             "pattern": {
              "fillmode": "overlay",
              "size": 10,
              "solidity": 0.2
             }
            },
            "type": "bar"
           }
          ],
          "barpolar": [
           {
            "marker": {
             "line": {
              "color": "#E5ECF6",
              "width": 0.5
             },
             "pattern": {
              "fillmode": "overlay",
              "size": 10,
              "solidity": 0.2
             }
            },
            "type": "barpolar"
           }
          ],
          "carpet": [
           {
            "aaxis": {
             "endlinecolor": "#2a3f5f",
             "gridcolor": "white",
             "linecolor": "white",
             "minorgridcolor": "white",
             "startlinecolor": "#2a3f5f"
            },
            "baxis": {
             "endlinecolor": "#2a3f5f",
             "gridcolor": "white",
             "linecolor": "white",
             "minorgridcolor": "white",
             "startlinecolor": "#2a3f5f"
            },
            "type": "carpet"
           }
          ],
          "choropleth": [
           {
            "colorbar": {
             "outlinewidth": 0,
             "ticks": ""
            },
            "type": "choropleth"
           }
          ],
          "contour": [
           {
            "colorbar": {
             "outlinewidth": 0,
             "ticks": ""
            },
            "colorscale": [
             [
              0,
              "#0d0887"
             ],
             [
              0.1111111111111111,
              "#46039f"
             ],
             [
              0.2222222222222222,
              "#7201a8"
             ],
             [
              0.3333333333333333,
              "#9c179e"
             ],
             [
              0.4444444444444444,
              "#bd3786"
             ],
             [
              0.5555555555555556,
              "#d8576b"
             ],
             [
              0.6666666666666666,
              "#ed7953"
             ],
             [
              0.7777777777777778,
              "#fb9f3a"
             ],
             [
              0.8888888888888888,
              "#fdca26"
             ],
             [
              1,
              "#f0f921"
             ]
            ],
            "type": "contour"
           }
          ],
          "contourcarpet": [
           {
            "colorbar": {
             "outlinewidth": 0,
             "ticks": ""
            },
            "type": "contourcarpet"
           }
          ],
          "heatmap": [
           {
            "colorbar": {
             "outlinewidth": 0,
             "ticks": ""
            },
            "colorscale": [
             [
              0,
              "#0d0887"
             ],
             [
              0.1111111111111111,
              "#46039f"
             ],
             [
              0.2222222222222222,
              "#7201a8"
             ],
             [
              0.3333333333333333,
              "#9c179e"
             ],
             [
              0.4444444444444444,
              "#bd3786"
             ],
             [
              0.5555555555555556,
              "#d8576b"
             ],
             [
              0.6666666666666666,
              "#ed7953"
             ],
             [
              0.7777777777777778,
              "#fb9f3a"
             ],
             [
              0.8888888888888888,
              "#fdca26"
             ],
             [
              1,
              "#f0f921"
             ]
            ],
            "type": "heatmap"
           }
          ],
          "heatmapgl": [
           {
            "colorbar": {
             "outlinewidth": 0,
             "ticks": ""
            },
            "colorscale": [
             [
              0,
              "#0d0887"
             ],
             [
              0.1111111111111111,
              "#46039f"
             ],
             [
              0.2222222222222222,
              "#7201a8"
             ],
             [
              0.3333333333333333,
              "#9c179e"
             ],
             [
              0.4444444444444444,
              "#bd3786"
             ],
             [
              0.5555555555555556,
              "#d8576b"
             ],
             [
              0.6666666666666666,
              "#ed7953"
             ],
             [
              0.7777777777777778,
              "#fb9f3a"
             ],
             [
              0.8888888888888888,
              "#fdca26"
             ],
             [
              1,
              "#f0f921"
             ]
            ],
            "type": "heatmapgl"
           }
          ],
          "histogram": [
           {
            "marker": {
             "pattern": {
              "fillmode": "overlay",
              "size": 10,
              "solidity": 0.2
             }
            },
            "type": "histogram"
           }
          ],
          "histogram2d": [
           {
            "colorbar": {
             "outlinewidth": 0,
             "ticks": ""
            },
            "colorscale": [
             [
              0,
              "#0d0887"
             ],
             [
              0.1111111111111111,
              "#46039f"
             ],
             [
              0.2222222222222222,
              "#7201a8"
             ],
             [
              0.3333333333333333,
              "#9c179e"
             ],
             [
              0.4444444444444444,
              "#bd3786"
             ],
             [
              0.5555555555555556,
              "#d8576b"
             ],
             [
              0.6666666666666666,
              "#ed7953"
             ],
             [
              0.7777777777777778,
              "#fb9f3a"
             ],
             [
              0.8888888888888888,
              "#fdca26"
             ],
             [
              1,
              "#f0f921"
             ]
            ],
            "type": "histogram2d"
           }
          ],
          "histogram2dcontour": [
           {
            "colorbar": {
             "outlinewidth": 0,
             "ticks": ""
            },
            "colorscale": [
             [
              0,
              "#0d0887"
             ],
             [
              0.1111111111111111,
              "#46039f"
             ],
             [
              0.2222222222222222,
              "#7201a8"
             ],
             [
              0.3333333333333333,
              "#9c179e"
             ],
             [
              0.4444444444444444,
              "#bd3786"
             ],
             [
              0.5555555555555556,
              "#d8576b"
             ],
             [
              0.6666666666666666,
              "#ed7953"
             ],
             [
              0.7777777777777778,
              "#fb9f3a"
             ],
             [
              0.8888888888888888,
              "#fdca26"
             ],
             [
              1,
              "#f0f921"
             ]
            ],
            "type": "histogram2dcontour"
           }
          ],
          "mesh3d": [
           {
            "colorbar": {
             "outlinewidth": 0,
             "ticks": ""
            },
            "type": "mesh3d"
           }
          ],
          "parcoords": [
           {
            "line": {
             "colorbar": {
              "outlinewidth": 0,
              "ticks": ""
             }
            },
            "type": "parcoords"
           }
          ],
          "pie": [
           {
            "automargin": true,
            "type": "pie"
           }
          ],
          "scatter": [
           {
            "fillpattern": {
             "fillmode": "overlay",
             "size": 10,
             "solidity": 0.2
            },
            "type": "scatter"
           }
          ],
          "scatter3d": [
           {
            "line": {
             "colorbar": {
              "outlinewidth": 0,
              "ticks": ""
             }
            },
            "marker": {
             "colorbar": {
              "outlinewidth": 0,
              "ticks": ""
             }
            },
            "type": "scatter3d"
           }
          ],
          "scattercarpet": [
           {
            "marker": {
             "colorbar": {
              "outlinewidth": 0,
              "ticks": ""
             }
            },
            "type": "scattercarpet"
           }
          ],
          "scattergeo": [
           {
            "marker": {
             "colorbar": {
              "outlinewidth": 0,
              "ticks": ""
             }
            },
            "type": "scattergeo"
           }
          ],
          "scattergl": [
           {
            "marker": {
             "colorbar": {
              "outlinewidth": 0,
              "ticks": ""
             }
            },
            "type": "scattergl"
           }
          ],
          "scattermapbox": [
           {
            "marker": {
             "colorbar": {
              "outlinewidth": 0,
              "ticks": ""
             }
            },
            "type": "scattermapbox"
           }
          ],
          "scatterpolar": [
           {
            "marker": {
             "colorbar": {
              "outlinewidth": 0,
              "ticks": ""
             }
            },
            "type": "scatterpolar"
           }
          ],
          "scatterpolargl": [
           {
            "marker": {
             "colorbar": {
              "outlinewidth": 0,
              "ticks": ""
             }
            },
            "type": "scatterpolargl"
           }
          ],
          "scatterternary": [
           {
            "marker": {
             "colorbar": {
              "outlinewidth": 0,
              "ticks": ""
             }
            },
            "type": "scatterternary"
           }
          ],
          "surface": [
           {
            "colorbar": {
             "outlinewidth": 0,
             "ticks": ""
            },
            "colorscale": [
             [
              0,
              "#0d0887"
             ],
             [
              0.1111111111111111,
              "#46039f"
             ],
             [
              0.2222222222222222,
              "#7201a8"
             ],
             [
              0.3333333333333333,
              "#9c179e"
             ],
             [
              0.4444444444444444,
              "#bd3786"
             ],
             [
              0.5555555555555556,
              "#d8576b"
             ],
             [
              0.6666666666666666,
              "#ed7953"
             ],
             [
              0.7777777777777778,
              "#fb9f3a"
             ],
             [
              0.8888888888888888,
              "#fdca26"
             ],
             [
              1,
              "#f0f921"
             ]
            ],
            "type": "surface"
           }
          ],
          "table": [
           {
            "cells": {
             "fill": {
              "color": "#EBF0F8"
             },
             "line": {
              "color": "white"
             }
            },
            "header": {
             "fill": {
              "color": "#C8D4E3"
             },
             "line": {
              "color": "white"
             }
            },
            "type": "table"
           }
          ]
         },
         "layout": {
          "annotationdefaults": {
           "arrowcolor": "#2a3f5f",
           "arrowhead": 0,
           "arrowwidth": 1
          },
          "autotypenumbers": "strict",
          "coloraxis": {
           "colorbar": {
            "outlinewidth": 0,
            "ticks": ""
           }
          },
          "colorscale": {
           "diverging": [
            [
             0,
             "#8e0152"
            ],
            [
             0.1,
             "#c51b7d"
            ],
            [
             0.2,
             "#de77ae"
            ],
            [
             0.3,
             "#f1b6da"
            ],
            [
             0.4,
             "#fde0ef"
            ],
            [
             0.5,
             "#f7f7f7"
            ],
            [
             0.6,
             "#e6f5d0"
            ],
            [
             0.7,
             "#b8e186"
            ],
            [
             0.8,
             "#7fbc41"
            ],
            [
             0.9,
             "#4d9221"
            ],
            [
             1,
             "#276419"
            ]
           ],
           "sequential": [
            [
             0,
             "#0d0887"
            ],
            [
             0.1111111111111111,
             "#46039f"
            ],
            [
             0.2222222222222222,
             "#7201a8"
            ],
            [
             0.3333333333333333,
             "#9c179e"
            ],
            [
             0.4444444444444444,
             "#bd3786"
            ],
            [
             0.5555555555555556,
             "#d8576b"
            ],
            [
             0.6666666666666666,
             "#ed7953"
            ],
            [
             0.7777777777777778,
             "#fb9f3a"
            ],
            [
             0.8888888888888888,
             "#fdca26"
            ],
            [
             1,
             "#f0f921"
            ]
           ],
           "sequentialminus": [
            [
             0,
             "#0d0887"
            ],
            [
             0.1111111111111111,
             "#46039f"
            ],
            [
             0.2222222222222222,
             "#7201a8"
            ],
            [
             0.3333333333333333,
             "#9c179e"
            ],
            [
             0.4444444444444444,
             "#bd3786"
            ],
            [
             0.5555555555555556,
             "#d8576b"
            ],
            [
             0.6666666666666666,
             "#ed7953"
            ],
            [
             0.7777777777777778,
             "#fb9f3a"
            ],
            [
             0.8888888888888888,
             "#fdca26"
            ],
            [
             1,
             "#f0f921"
            ]
           ]
          },
          "colorway": [
           "#636efa",
           "#EF553B",
           "#00cc96",
           "#ab63fa",
           "#FFA15A",
           "#19d3f3",
           "#FF6692",
           "#B6E880",
           "#FF97FF",
           "#FECB52"
          ],
          "font": {
           "color": "#2a3f5f"
          },
          "geo": {
           "bgcolor": "white",
           "lakecolor": "white",
           "landcolor": "#E5ECF6",
           "showlakes": true,
           "showland": true,
           "subunitcolor": "white"
          },
          "hoverlabel": {
           "align": "left"
          },
          "hovermode": "closest",
          "mapbox": {
           "style": "light"
          },
          "paper_bgcolor": "white",
          "plot_bgcolor": "#E5ECF6",
          "polar": {
           "angularaxis": {
            "gridcolor": "white",
            "linecolor": "white",
            "ticks": ""
           },
           "bgcolor": "#E5ECF6",
           "radialaxis": {
            "gridcolor": "white",
            "linecolor": "white",
            "ticks": ""
           }
          },
          "scene": {
           "xaxis": {
            "backgroundcolor": "#E5ECF6",
            "gridcolor": "white",
            "gridwidth": 2,
            "linecolor": "white",
            "showbackground": true,
            "ticks": "",
            "zerolinecolor": "white"
           },
           "yaxis": {
            "backgroundcolor": "#E5ECF6",
            "gridcolor": "white",
            "gridwidth": 2,
            "linecolor": "white",
            "showbackground": true,
            "ticks": "",
            "zerolinecolor": "white"
           },
           "zaxis": {
            "backgroundcolor": "#E5ECF6",
            "gridcolor": "white",
            "gridwidth": 2,
            "linecolor": "white",
            "showbackground": true,
            "ticks": "",
            "zerolinecolor": "white"
           }
          },
          "shapedefaults": {
           "line": {
            "color": "#2a3f5f"
           }
          },
          "ternary": {
           "aaxis": {
            "gridcolor": "white",
            "linecolor": "white",
            "ticks": ""
           },
           "baxis": {
            "gridcolor": "white",
            "linecolor": "white",
            "ticks": ""
           },
           "bgcolor": "#E5ECF6",
           "caxis": {
            "gridcolor": "white",
            "linecolor": "white",
            "ticks": ""
           }
          },
          "title": {
           "x": 0.05
          },
          "xaxis": {
           "automargin": true,
           "gridcolor": "white",
           "linecolor": "white",
           "ticks": "",
           "title": {
            "standoff": 15
           },
           "zerolinecolor": "white",
           "zerolinewidth": 2
          },
          "yaxis": {
           "automargin": true,
           "gridcolor": "white",
           "linecolor": "white",
           "ticks": "",
           "title": {
            "standoff": 15
           },
           "zerolinecolor": "white",
           "zerolinewidth": 2
          }
         }
        },
        "updatemenus": [
         {
          "buttons": [
           {
            "args": [
             {
              "visible": [
               true,
               true,
               false,
               false
              ]
             },
             {
              "title": "Excess mortality per million inhabitants vs. People fully vaccinated per hundred inhabitants, per country for 2021"
             }
            ],
            "label": "Excess Deaths vs Vaccinations",
            "method": "update"
           },
           {
            "args": [
             {
              "visible": [
               false,
               false,
               true,
               true
              ]
             },
             {
              "title": "GDP per capita vs. People fully vaccinated per hundred inhabitants, per country for 2021"
             }
            ],
            "label": "GDP vs Vaccinations",
            "method": "update"
           }
          ],
          "direction": "left",
          "pad": {
           "r": 10,
           "t": 10
          },
          "showactive": true,
          "type": "buttons",
          "x": 0.57,
          "xanchor": "center",
          "y": 1.15,
          "yanchor": "top"
         }
        ]
       }
      }
     },
     "metadata": {},
     "output_type": "display_data"
    }
   ],
   "source": [
    "import pandas as pd\n",
    "import plotly.express as px\n",
    "import plotly.graph_objects as go\n",
    "\n",
    "\n",
    "# Load the CSV file\n",
    "df = pd.read_csv('owid-covid-data.csv')\n",
    "\n",
    "# Convert the date column to datetime\n",
    "df['date'] = pd.to_datetime(df['date'])\n",
    "\n",
    "# Filter the data for the year 2021\n",
    "df_2021 = df[df['date'].dt.year == 2021]\n",
    "\n",
    "# Function to fill NaN values with the last available non-NaN value per country\n",
    "def fill_last_available(df, col):\n",
    "    return df.groupby('location')[col].fillna(method='ffill')\n",
    "\n",
    "# Fill NaN values for the relevant columns\n",
    "df_2021['excess_mortality_cumulative_per_million'] = fill_last_available(df_2021, 'excess_mortality_cumulative_per_million')\n",
    "df_2021['people_fully_vaccinated_per_hundred'] = fill_last_available(df_2021, 'people_fully_vaccinated_per_hundred')\n",
    "\n",
    "# Extract the last available data for each country\n",
    "df_last_2021 = df_2021.groupby('location').last().reset_index()\n",
    "\n",
    "# Create scatter plot for excess deaths vs people fully vaccinated\n",
    "fig1 = px.scatter(df_last_2021, x='people_fully_vaccinated_per_hundred', y='excess_mortality_cumulative_per_million', \n",
    "                 trendline='ols', trendline_color_override='darkblue',\n",
    "                 title='Excess mortality per million inhabitants vs. People fully vaccinated per hundred inhabitants, per country for 2021',\n",
    "                 labels={'people_fully_vaccinated_per_hundred': 'People fully vaccinated per hundred inhabitants',\n",
    "                         'excess_mortality_cumulative_per_million': 'Excess mortality cumulative per million inhabitants'},\n",
    "                 hover_name='location', opacity=0.7)\n",
    "\n",
    "# Grab the GDP per capita data for the last day of 2021\n",
    "df_gdp = df[df['date'] == '2021-12-31']\n",
    "\n",
    "# Create scatter plot for GDP vs people fully vaccinated\n",
    "fig2 = px.scatter(df_gdp, x='people_fully_vaccinated_per_hundred', y=df.columns[52], \n",
    "                 trendline='ols', trendline_color_override='darkblue',\n",
    "                 title='GDP per capita vs. People fully vaccinated per hundred inhabitants, per country for 2021',\n",
    "                 labels={'people_fully_vaccinated_per_hundred': 'People fully vaccinated per hundred inhabitants',\n",
    "                         df.columns[52]: 'GDP per capita'},\n",
    "                 hover_name='location', opacity=0.7)\n",
    "\n",
    "# Create a figure with subplots\n",
    "fig = go.Figure()\n",
    "\n",
    "# Add traces for the first plot\n",
    "for trace in fig1.data:\n",
    "    fig.add_trace(trace)\n",
    "\n",
    "# Add traces for the second plot\n",
    "for trace in fig2.data:\n",
    "    fig.add_trace(trace)\n",
    "\n",
    "# Update layout for buttons to toggle between plots\n",
    "fig.update_layout(\n",
    "    updatemenus=[\n",
    "        dict(\n",
    "            type=\"buttons\",\n",
    "            direction=\"left\",\n",
    "            buttons=list([\n",
    "                dict(\n",
    "                    args=[{\"visible\": [True] * len(fig1.data) + [False] * len(fig2.data)},\n",
    "                          {\"title\": \"Excess mortality per million inhabitants vs. People fully vaccinated per hundred inhabitants, per country for 2021\"}],\n",
    "                    label=\"Excess Deaths vs Vaccinations\",\n",
    "                    method=\"update\"\n",
    "                ),\n",
    "                dict(\n",
    "                    args=[{\"visible\": [False] * len(fig1.data) + [True] * len(fig2.data)},\n",
    "                          {\"title\": \"GDP per capita vs. People fully vaccinated per hundred inhabitants, per country for 2021\"}],\n",
    "                    label=\"GDP vs Vaccinations\",\n",
    "                    method=\"update\"\n",
    "                )\n",
    "            ]),\n",
    "            pad={\"r\": 10, \"t\": 10},\n",
    "            showactive=True,\n",
    "            x=0.57,\n",
    "            xanchor=\"center\",\n",
    "            y=1.15,\n",
    "            yanchor=\"top\"\n",
    "        ),\n",
    "    ]\n",
    ")\n",
    "\n",
    "# Initially set the second plot to be not visible\n",
    "for i in range(len(fig2.data)):\n",
    "    fig.data[len(fig1.data) + i].visible = False\n",
    "\n",
    "fig.show()\n"
   ]
  },
  {
   "cell_type": "markdown",
   "metadata": {},
   "source": [
    "#### Argument 2: \n",
    "**Countries with a lower gdp have less resources to spend on testing and recording data which makes it seem like they are performing better at handling the pandemic**\n",
    "\n",
    "To visualize how GDP impacts various factors, we can use a parallel categories plot to visualize the correlations between these categories. This type of plot will help us understand how countries with lower GDP might appear to manage the pandemic more effectively due to limited resources for testing and data recording. We have chosen to use data from the year 2021 because this is the year when the majority of people began to receive vaccinations.\n"
   ]
  },
  {
   "cell_type": "code",
   "execution_count": 10,
   "metadata": {},
   "outputs": [
    {
     "data": {
      "application/vnd.plotly.v1+json": {
       "config": {
        "plotlyServerURL": "https://plot.ly"
       },
       "data": [
        {
         "arrangement": "freeform",
         "dimensions": [
          {
           "categoryarray": [
            "low",
            "medium",
            "high"
           ],
           "categoryorder": "array",
           "label": "GDP 2021",
           "values": [
            "low",
            "medium",
            "medium",
            "nan",
            "high",
            "low",
            "medium",
            "medium",
            "medium",
            "high",
            "high",
            "high",
            "medium",
            "high",
            "low",
            "medium",
            "high",
            "high",
            "medium",
            "low",
            "high",
            "medium",
            "medium",
            "medium",
            "medium",
            "medium",
            "nan",
            "high",
            "low",
            "low",
            "low",
            "low",
            "high",
            "high",
            "low",
            "low",
            "high",
            "medium",
            "medium",
            "low",
            "medium",
            "low",
            "high",
            "nan",
            "medium",
            "high",
            "high",
            "high",
            "low",
            "medium",
            "medium",
            "medium",
            "medium",
            "medium",
            "nan",
            "high",
            "medium",
            "low",
            "medium",
            "high",
            "high",
            "nan",
            "medium",
            "medium",
            "high",
            "low",
            "nan",
            "high",
            "high",
            "medium",
            "nan",
            "medium",
            "low",
            "low",
            "medium",
            "low",
            "low",
            "high",
            "high",
            "low",
            "medium",
            "medium",
            "high",
            "nan",
            "high",
            "high",
            "medium",
            "high",
            "medium",
            "high",
            "low",
            "low",
            "medium",
            "high",
            "high",
            "medium",
            "low",
            "low",
            "medium",
            "nan",
            "high",
            "high",
            "low",
            "low",
            "high",
            "medium",
            "low",
            "high",
            "low",
            "low",
            "medium",
            "medium",
            "medium",
            "nan",
            "medium",
            "medium",
            "low",
            "low",
            "low",
            "medium",
            "medium",
            "low",
            "high",
            "nan",
            "high",
            "low",
            "low",
            "low",
            "medium",
            "nan",
            "high",
            "high",
            "low",
            "medium",
            "high",
            "low",
            "medium",
            "medium",
            "low",
            "high",
            "high",
            "high",
            "high",
            "high",
            "low",
            "low",
            "high",
            "low",
            "high",
            "low",
            "medium",
            "medium",
            "low",
            "high",
            "high",
            "high",
            "low",
            "low",
            "medium",
            "nan",
            "high",
            "medium",
            "low",
            "medium",
            "high",
            "high",
            "low",
            "low",
            "medium",
            "low",
            "low",
            "high",
            "medium",
            "nan",
            "medium",
            "low",
            "low",
            "medium",
            "high",
            "high",
            "high",
            "high",
            "low",
            "low",
            "low",
            "low"
           ]
          },
          {
           "categoryarray": [
            "low",
            "medium",
            "high"
           ],
           "categoryorder": "array",
           "label": "Total Deaths",
           "values": [
            "low",
            "medium",
            "low",
            "nan",
            "medium",
            "low",
            "high",
            "high",
            "high",
            "high",
            "low",
            "high",
            "medium",
            "medium",
            "low",
            "medium",
            "medium",
            "medium",
            "medium",
            "low",
            "high",
            "nan",
            "medium",
            "high",
            "high",
            "high",
            "high",
            "high",
            "low",
            "low",
            "nan",
            "low",
            "medium",
            "low",
            "low",
            "low",
            "high",
            "low",
            "high",
            "low",
            "high",
            "low",
            "high",
            "medium",
            "high",
            "medium",
            "high",
            "medium",
            "low",
            "nan",
            "low",
            "high",
            "medium",
            "low",
            "low",
            "high",
            "high",
            "low",
            "medium",
            "medium",
            "high",
            "high",
            "low",
            "high",
            "medium",
            "low",
            "high",
            "high",
            "nan",
            "nan",
            "medium",
            "medium",
            "low",
            "low",
            "high",
            "low",
            "medium",
            "high",
            "low",
            "medium",
            "medium",
            "medium",
            "medium",
            "medium",
            "medium",
            "high",
            "medium",
            "low",
            "medium",
            "medium",
            "low",
            "nan",
            "high",
            "medium",
            "high",
            "high",
            "medium",
            "low",
            "medium",
            "medium",
            "high",
            "medium",
            "low",
            "low",
            "high",
            "medium",
            "low",
            "medium",
            "nan",
            "low",
            "medium",
            "high",
            "high",
            "high",
            "medium",
            "high",
            "medium",
            "low",
            "medium",
            "high",
            "nan",
            "medium",
            "medium",
            "nan",
            "low",
            "low",
            "low",
            "low",
            "high",
            "medium",
            "low",
            "medium",
            "low",
            "nan",
            "medium",
            "low",
            "high",
            "high",
            "medium",
            "high",
            "high",
            "medium",
            "low",
            "high",
            "low",
            "nan",
            "high",
            "medium",
            "low",
            "low",
            "high",
            "nan",
            "low",
            "low",
            "high",
            "high",
            "nan",
            "low",
            "high",
            "low",
            "medium",
            "medium",
            "low",
            "high",
            "medium",
            "medium",
            "low",
            "low",
            "medium",
            "low",
            "nan",
            "high",
            "high",
            "nan",
            "medium",
            "nan",
            "low",
            "high",
            "low",
            "high",
            "high",
            "high",
            "nan",
            "nan",
            "low",
            "medium"
           ]
          },
          {
           "categoryarray": [
            "low",
            "medium",
            "high"
           ],
           "categoryorder": "array",
           "label": "Total Cases",
           "values": [
            "low",
            "medium",
            "low",
            "nan",
            "high",
            "low",
            "medium",
            "high",
            "medium",
            "high",
            "medium",
            "high",
            "medium",
            "high",
            "low",
            "high",
            "medium",
            "high",
            "medium",
            "low",
            "high",
            "low",
            "medium",
            "medium",
            "high",
            "high",
            "high",
            "high",
            "low",
            "low",
            "low",
            "low",
            "medium",
            "high",
            "low",
            "low",
            "medium",
            "low",
            "high",
            "low",
            "high",
            "low",
            "high",
            "high",
            "high",
            "high",
            "high",
            "high",
            "low",
            "high",
            "medium",
            "medium",
            "low",
            "low",
            "low",
            "high",
            "medium",
            "low",
            "medium",
            "medium",
            "high",
            "high",
            "low",
            "high",
            "medium",
            "low",
            "high",
            "high",
            "medium",
            "medium",
            "medium",
            "medium",
            "low",
            "low",
            "medium",
            "low",
            "medium",
            "high",
            "medium",
            "medium",
            "medium",
            "medium",
            "high",
            "high",
            "high",
            "medium",
            "medium",
            "low",
            "high",
            "medium",
            "low",
            "nan",
            "medium",
            "medium",
            "high",
            "high",
            "low",
            "low",
            "medium",
            "high",
            "high",
            "high",
            "low",
            "low",
            "high",
            "high",
            "low",
            "medium",
            "low",
            "low",
            "high",
            "medium",
            "high",
            "high",
            "high",
            "high",
            "medium",
            "low",
            "low",
            "medium",
            "nan",
            "medium",
            "high",
            "medium",
            "low",
            "low",
            "low",
            "low",
            "medium",
            "medium",
            "medium",
            "medium",
            "low",
            "nan",
            "medium",
            "low",
            "medium",
            "medium",
            "medium",
            "high",
            "high",
            "medium",
            "medium",
            "medium",
            "low",
            "low",
            "high",
            "low",
            "low",
            "low",
            "high",
            "high",
            "low",
            "medium",
            "high",
            "high",
            "low",
            "low",
            "medium",
            "low",
            "high",
            "medium",
            "low",
            "high",
            "high",
            "high",
            "low",
            "low",
            "medium",
            "low",
            "nan",
            "medium",
            "medium",
            "nan",
            "medium",
            "nan",
            "low",
            "medium",
            "medium",
            "high",
            "high",
            "high",
            "low",
            "low",
            "low",
            "low"
           ]
          },
          {
           "categoryarray": [
            "low",
            "medium",
            "high"
           ],
           "categoryorder": "array",
           "label": "People Vaccinated",
           "values": [
            "low",
            "medium",
            "low",
            "nan",
            "high",
            "low",
            "medium",
            "high",
            "low",
            "high",
            "high",
            "high",
            "medium",
            "high",
            "medium",
            "medium",
            "medium",
            "high",
            "medium",
            "low",
            "high",
            "high",
            "medium",
            "low",
            "medium",
            "high",
            "medium",
            "low",
            "low",
            "low",
            "high",
            "low",
            "high",
            "high",
            "low",
            "low",
            "high",
            "high",
            "high",
            "medium",
            "high",
            "low",
            "medium",
            "high",
            "medium",
            "high",
            "medium",
            "high",
            "low",
            "medium",
            "medium",
            "high",
            "high",
            "low",
            "nan",
            "medium",
            "low",
            "low",
            "high",
            "high",
            "high",
            "medium",
            "low",
            "low",
            "high",
            "low",
            "high",
            "high",
            "high",
            "low",
            "nan",
            "low",
            "low",
            "low",
            "medium",
            "low",
            "medium",
            "medium",
            "high",
            "medium",
            "medium",
            "low",
            "high",
            "high",
            "medium",
            "high",
            "low",
            "high",
            "medium",
            "medium",
            "low",
            "medium",
            "medium",
            "high",
            "high",
            "medium",
            "low",
            "low",
            "low",
            "medium",
            "medium",
            "high",
            "low",
            "low",
            "high",
            "high",
            "low",
            "high",
            "nan",
            "low",
            "high",
            "medium",
            "low",
            "high",
            "medium",
            "medium",
            "medium",
            "low",
            "low",
            "low",
            "medium",
            "medium",
            "high",
            "medium",
            "high",
            "medium",
            "low",
            "low",
            "medium",
            "nan",
            "high",
            "medium",
            "medium",
            "nan",
            "high",
            "low",
            "medium",
            "high",
            "medium",
            "medium",
            "high",
            "nan",
            "high",
            "low",
            "medium",
            "medium",
            "high",
            "low",
            "medium",
            "low",
            "medium",
            "high",
            "low",
            "high",
            "medium",
            "medium",
            "low",
            "low",
            "low",
            "low",
            "high",
            "high",
            "low",
            "medium",
            "high",
            "medium",
            "low",
            "low",
            "high",
            "low",
            "medium",
            "medium",
            "medium",
            "low",
            "medium",
            "medium",
            "low",
            "low",
            "high",
            "high",
            "high",
            "high",
            "medium",
            "low",
            "low",
            "low"
           ]
          },
          {
           "categoryarray": [
            "low",
            "medium",
            "high"
           ],
           "categoryorder": "array",
           "label": "Total Tests",
           "values": [
            "nan",
            "medium",
            "nan",
            "nan",
            "high",
            "nan",
            "low",
            "medium",
            "medium",
            "nan",
            "high",
            "high",
            "nan",
            "high",
            "low",
            "nan",
            "medium",
            "high",
            "nan",
            "nan",
            "nan",
            "high",
            "low",
            "medium",
            "medium",
            "low",
            "nan",
            "medium",
            "nan",
            "nan",
            "nan",
            "nan",
            "medium",
            "nan",
            "nan",
            "nan",
            "high",
            "nan",
            "medium",
            "nan",
            "medium",
            "low",
            "medium",
            "medium",
            "nan",
            "high",
            "high",
            "high",
            "nan",
            "nan",
            "low",
            "low",
            "low",
            "nan",
            "nan",
            "high",
            "nan",
            "low",
            "medium",
            "high",
            "high",
            "nan",
            "nan",
            "high",
            "medium",
            "low",
            "nan",
            "high",
            "nan",
            "nan",
            "medium",
            "low",
            "nan",
            "nan",
            "nan",
            "nan",
            "nan",
            "medium",
            "high",
            "medium",
            "nan",
            "medium",
            "high",
            "nan",
            "high",
            "high",
            "low",
            "low",
            "medium",
            "medium",
            "low",
            "nan",
            "nan",
            "high",
            "high",
            "nan",
            "nan",
            "nan",
            "nan",
            "high",
            "high",
            "high",
            "low",
            "low",
            "high",
            "high",
            "nan",
            "high",
            "low",
            "low",
            "nan",
            "low",
            "nan",
            "nan",
            "high",
            "nan",
            "low",
            "low",
            "low",
            "medium",
            "nan",
            "low",
            "medium",
            "nan",
            "medium",
            "nan",
            "nan",
            "low",
            "medium",
            "medium",
            "high",
            "nan",
            "low",
            "nan",
            "medium",
            "nan",
            "low",
            "medium",
            "low",
            "medium",
            "high",
            "medium",
            "nan",
            "medium",
            "low",
            "nan",
            "nan",
            "nan",
            "medium",
            "low",
            "medium",
            "nan",
            "nan",
            "nan",
            "nan",
            "medium",
            "nan",
            "nan",
            "low",
            "low",
            "high",
            "medium",
            "nan",
            "low",
            "high",
            "high",
            "nan",
            "nan",
            "low",
            "low",
            "nan",
            "medium",
            "nan",
            "nan",
            "nan",
            "nan",
            "low",
            "medium",
            "high",
            "high",
            "high",
            "high",
            "nan",
            "nan",
            "low",
            "low"
           ]
          },
          {
           "categoryarray": [
            "low",
            "medium",
            "high"
           ],
           "categoryorder": "array",
           "label": "Excess Mortality",
           "values": [
            "nan",
            "high",
            "nan",
            "nan",
            "low",
            "nan",
            "low",
            "high",
            "high",
            "high",
            "low",
            "medium",
            "medium",
            "nan",
            "nan",
            "low",
            "medium",
            "low",
            "medium",
            "nan",
            "high",
            "low",
            "high",
            "high",
            "nan",
            "high",
            "nan",
            "high",
            "nan",
            "nan",
            "nan",
            "nan",
            "low",
            "nan",
            "nan",
            "nan",
            "medium",
            "nan",
            "high",
            "nan",
            "medium",
            "nan",
            "high",
            "high",
            "nan",
            "low",
            "high",
            "low",
            "nan",
            "nan",
            "low",
            "medium",
            "nan",
            "nan",
            "nan",
            "high",
            "nan",
            "nan",
            "medium",
            "low",
            "low",
            "medium",
            "nan",
            "high",
            "low",
            "nan",
            "medium",
            "medium",
            "low",
            "nan",
            "nan",
            "medium",
            "nan",
            "nan",
            "nan",
            "nan",
            "nan",
            "high",
            "low",
            "nan",
            "nan",
            "nan",
            "low",
            "nan",
            "low",
            "medium",
            "medium",
            "low",
            "medium",
            "high",
            "nan",
            "nan",
            "medium",
            "medium",
            "high",
            "medium",
            "nan",
            "nan",
            "nan",
            "low",
            "high",
            "low",
            "nan",
            "nan",
            "medium",
            "medium",
            "nan",
            "low",
            "nan",
            "nan",
            "medium",
            "high",
            "high",
            "high",
            "low",
            "high",
            "nan",
            "nan",
            "nan",
            "medium",
            "nan",
            "nan",
            "medium",
            "medium",
            "low",
            "medium",
            "nan",
            "nan",
            "high",
            "nan",
            "low",
            "low",
            "nan",
            "nan",
            "medium",
            "nan",
            "high",
            "high",
            "high",
            "high",
            "medium",
            "medium",
            "low",
            "high",
            "nan",
            "nan",
            "medium",
            "nan",
            "nan",
            "nan",
            "high",
            "low",
            "nan",
            "low",
            "nan",
            "medium",
            "nan",
            "nan",
            "high",
            "nan",
            "low",
            "nan",
            "nan",
            "high",
            "low",
            "low",
            "low",
            "nan",
            "medium",
            "nan",
            "nan",
            "nan",
            "high",
            "nan",
            "nan",
            "nan",
            "nan",
            "high",
            "low",
            "medium",
            "medium",
            "medium",
            "low",
            "nan",
            "nan",
            "nan"
           ]
          }
         ],
         "hoverinfo": "count+probability",
         "line": {
          "color": [
           0,
           1,
           1,
           3,
           2,
           0,
           1,
           1,
           1,
           2,
           2,
           2,
           1,
           2,
           0,
           1,
           2,
           2,
           1,
           0,
           2,
           1,
           1,
           1,
           1,
           1,
           3,
           2,
           0,
           0,
           0,
           0,
           2,
           2,
           0,
           0,
           2,
           1,
           1,
           0,
           1,
           0,
           2,
           3,
           1,
           2,
           2,
           2,
           0,
           1,
           1,
           1,
           1,
           1,
           3,
           2,
           1,
           0,
           1,
           2,
           2,
           3,
           1,
           1,
           2,
           0,
           3,
           2,
           2,
           1,
           3,
           1,
           0,
           0,
           1,
           0,
           0,
           2,
           2,
           0,
           1,
           1,
           2,
           3,
           2,
           2,
           1,
           2,
           1,
           2,
           0,
           0,
           1,
           2,
           2,
           1,
           0,
           0,
           1,
           3,
           2,
           2,
           0,
           0,
           2,
           1,
           0,
           2,
           0,
           0,
           1,
           1,
           1,
           3,
           1,
           1,
           0,
           0,
           0,
           1,
           1,
           0,
           2,
           3,
           2,
           0,
           0,
           0,
           1,
           3,
           2,
           2,
           0,
           1,
           2,
           0,
           1,
           1,
           0,
           2,
           2,
           2,
           2,
           2,
           0,
           0,
           2,
           0,
           2,
           0,
           1,
           1,
           0,
           2,
           2,
           2,
           0,
           0,
           1,
           3,
           2,
           1,
           0,
           1,
           2,
           2,
           0,
           0,
           1,
           0,
           0,
           2,
           1,
           3,
           1,
           0,
           0,
           1,
           2,
           2,
           2,
           2,
           0,
           0,
           0,
           0
          ],
          "colorscale": [
           [
            0,
            "#440154"
           ],
           [
            0.1111111111111111,
            "#482878"
           ],
           [
            0.2222222222222222,
            "#3e4989"
           ],
           [
            0.3333333333333333,
            "#31688e"
           ],
           [
            0.4444444444444444,
            "#26828e"
           ],
           [
            0.5555555555555556,
            "#1f9e89"
           ],
           [
            0.6666666666666666,
            "#35b779"
           ],
           [
            0.7777777777777778,
            "#6ece58"
           ],
           [
            0.8888888888888888,
            "#b5de2b"
           ],
           [
            1,
            "#fde725"
           ]
          ],
          "showscale": false
         },
         "type": "parcats"
        }
       ],
       "layout": {
        "height": 600,
        "template": {
         "data": {
          "bar": [
           {
            "error_x": {
             "color": "#2a3f5f"
            },
            "error_y": {
             "color": "#2a3f5f"
            },
            "marker": {
             "line": {
              "color": "#E5ECF6",
              "width": 0.5
             },
             "pattern": {
              "fillmode": "overlay",
              "size": 10,
              "solidity": 0.2
             }
            },
            "type": "bar"
           }
          ],
          "barpolar": [
           {
            "marker": {
             "line": {
              "color": "#E5ECF6",
              "width": 0.5
             },
             "pattern": {
              "fillmode": "overlay",
              "size": 10,
              "solidity": 0.2
             }
            },
            "type": "barpolar"
           }
          ],
          "carpet": [
           {
            "aaxis": {
             "endlinecolor": "#2a3f5f",
             "gridcolor": "white",
             "linecolor": "white",
             "minorgridcolor": "white",
             "startlinecolor": "#2a3f5f"
            },
            "baxis": {
             "endlinecolor": "#2a3f5f",
             "gridcolor": "white",
             "linecolor": "white",
             "minorgridcolor": "white",
             "startlinecolor": "#2a3f5f"
            },
            "type": "carpet"
           }
          ],
          "choropleth": [
           {
            "colorbar": {
             "outlinewidth": 0,
             "ticks": ""
            },
            "type": "choropleth"
           }
          ],
          "contour": [
           {
            "colorbar": {
             "outlinewidth": 0,
             "ticks": ""
            },
            "colorscale": [
             [
              0,
              "#0d0887"
             ],
             [
              0.1111111111111111,
              "#46039f"
             ],
             [
              0.2222222222222222,
              "#7201a8"
             ],
             [
              0.3333333333333333,
              "#9c179e"
             ],
             [
              0.4444444444444444,
              "#bd3786"
             ],
             [
              0.5555555555555556,
              "#d8576b"
             ],
             [
              0.6666666666666666,
              "#ed7953"
             ],
             [
              0.7777777777777778,
              "#fb9f3a"
             ],
             [
              0.8888888888888888,
              "#fdca26"
             ],
             [
              1,
              "#f0f921"
             ]
            ],
            "type": "contour"
           }
          ],
          "contourcarpet": [
           {
            "colorbar": {
             "outlinewidth": 0,
             "ticks": ""
            },
            "type": "contourcarpet"
           }
          ],
          "heatmap": [
           {
            "colorbar": {
             "outlinewidth": 0,
             "ticks": ""
            },
            "colorscale": [
             [
              0,
              "#0d0887"
             ],
             [
              0.1111111111111111,
              "#46039f"
             ],
             [
              0.2222222222222222,
              "#7201a8"
             ],
             [
              0.3333333333333333,
              "#9c179e"
             ],
             [
              0.4444444444444444,
              "#bd3786"
             ],
             [
              0.5555555555555556,
              "#d8576b"
             ],
             [
              0.6666666666666666,
              "#ed7953"
             ],
             [
              0.7777777777777778,
              "#fb9f3a"
             ],
             [
              0.8888888888888888,
              "#fdca26"
             ],
             [
              1,
              "#f0f921"
             ]
            ],
            "type": "heatmap"
           }
          ],
          "heatmapgl": [
           {
            "colorbar": {
             "outlinewidth": 0,
             "ticks": ""
            },
            "colorscale": [
             [
              0,
              "#0d0887"
             ],
             [
              0.1111111111111111,
              "#46039f"
             ],
             [
              0.2222222222222222,
              "#7201a8"
             ],
             [
              0.3333333333333333,
              "#9c179e"
             ],
             [
              0.4444444444444444,
              "#bd3786"
             ],
             [
              0.5555555555555556,
              "#d8576b"
             ],
             [
              0.6666666666666666,
              "#ed7953"
             ],
             [
              0.7777777777777778,
              "#fb9f3a"
             ],
             [
              0.8888888888888888,
              "#fdca26"
             ],
             [
              1,
              "#f0f921"
             ]
            ],
            "type": "heatmapgl"
           }
          ],
          "histogram": [
           {
            "marker": {
             "pattern": {
              "fillmode": "overlay",
              "size": 10,
              "solidity": 0.2
             }
            },
            "type": "histogram"
           }
          ],
          "histogram2d": [
           {
            "colorbar": {
             "outlinewidth": 0,
             "ticks": ""
            },
            "colorscale": [
             [
              0,
              "#0d0887"
             ],
             [
              0.1111111111111111,
              "#46039f"
             ],
             [
              0.2222222222222222,
              "#7201a8"
             ],
             [
              0.3333333333333333,
              "#9c179e"
             ],
             [
              0.4444444444444444,
              "#bd3786"
             ],
             [
              0.5555555555555556,
              "#d8576b"
             ],
             [
              0.6666666666666666,
              "#ed7953"
             ],
             [
              0.7777777777777778,
              "#fb9f3a"
             ],
             [
              0.8888888888888888,
              "#fdca26"
             ],
             [
              1,
              "#f0f921"
             ]
            ],
            "type": "histogram2d"
           }
          ],
          "histogram2dcontour": [
           {
            "colorbar": {
             "outlinewidth": 0,
             "ticks": ""
            },
            "colorscale": [
             [
              0,
              "#0d0887"
             ],
             [
              0.1111111111111111,
              "#46039f"
             ],
             [
              0.2222222222222222,
              "#7201a8"
             ],
             [
              0.3333333333333333,
              "#9c179e"
             ],
             [
              0.4444444444444444,
              "#bd3786"
             ],
             [
              0.5555555555555556,
              "#d8576b"
             ],
             [
              0.6666666666666666,
              "#ed7953"
             ],
             [
              0.7777777777777778,
              "#fb9f3a"
             ],
             [
              0.8888888888888888,
              "#fdca26"
             ],
             [
              1,
              "#f0f921"
             ]
            ],
            "type": "histogram2dcontour"
           }
          ],
          "mesh3d": [
           {
            "colorbar": {
             "outlinewidth": 0,
             "ticks": ""
            },
            "type": "mesh3d"
           }
          ],
          "parcoords": [
           {
            "line": {
             "colorbar": {
              "outlinewidth": 0,
              "ticks": ""
             }
            },
            "type": "parcoords"
           }
          ],
          "pie": [
           {
            "automargin": true,
            "type": "pie"
           }
          ],
          "scatter": [
           {
            "fillpattern": {
             "fillmode": "overlay",
             "size": 10,
             "solidity": 0.2
            },
            "type": "scatter"
           }
          ],
          "scatter3d": [
           {
            "line": {
             "colorbar": {
              "outlinewidth": 0,
              "ticks": ""
             }
            },
            "marker": {
             "colorbar": {
              "outlinewidth": 0,
              "ticks": ""
             }
            },
            "type": "scatter3d"
           }
          ],
          "scattercarpet": [
           {
            "marker": {
             "colorbar": {
              "outlinewidth": 0,
              "ticks": ""
             }
            },
            "type": "scattercarpet"
           }
          ],
          "scattergeo": [
           {
            "marker": {
             "colorbar": {
              "outlinewidth": 0,
              "ticks": ""
             }
            },
            "type": "scattergeo"
           }
          ],
          "scattergl": [
           {
            "marker": {
             "colorbar": {
              "outlinewidth": 0,
              "ticks": ""
             }
            },
            "type": "scattergl"
           }
          ],
          "scattermapbox": [
           {
            "marker": {
             "colorbar": {
              "outlinewidth": 0,
              "ticks": ""
             }
            },
            "type": "scattermapbox"
           }
          ],
          "scatterpolar": [
           {
            "marker": {
             "colorbar": {
              "outlinewidth": 0,
              "ticks": ""
             }
            },
            "type": "scatterpolar"
           }
          ],
          "scatterpolargl": [
           {
            "marker": {
             "colorbar": {
              "outlinewidth": 0,
              "ticks": ""
             }
            },
            "type": "scatterpolargl"
           }
          ],
          "scatterternary": [
           {
            "marker": {
             "colorbar": {
              "outlinewidth": 0,
              "ticks": ""
             }
            },
            "type": "scatterternary"
           }
          ],
          "surface": [
           {
            "colorbar": {
             "outlinewidth": 0,
             "ticks": ""
            },
            "colorscale": [
             [
              0,
              "#0d0887"
             ],
             [
              0.1111111111111111,
              "#46039f"
             ],
             [
              0.2222222222222222,
              "#7201a8"
             ],
             [
              0.3333333333333333,
              "#9c179e"
             ],
             [
              0.4444444444444444,
              "#bd3786"
             ],
             [
              0.5555555555555556,
              "#d8576b"
             ],
             [
              0.6666666666666666,
              "#ed7953"
             ],
             [
              0.7777777777777778,
              "#fb9f3a"
             ],
             [
              0.8888888888888888,
              "#fdca26"
             ],
             [
              1,
              "#f0f921"
             ]
            ],
            "type": "surface"
           }
          ],
          "table": [
           {
            "cells": {
             "fill": {
              "color": "#EBF0F8"
             },
             "line": {
              "color": "white"
             }
            },
            "header": {
             "fill": {
              "color": "#C8D4E3"
             },
             "line": {
              "color": "white"
             }
            },
            "type": "table"
           }
          ]
         },
         "layout": {
          "annotationdefaults": {
           "arrowcolor": "#2a3f5f",
           "arrowhead": 0,
           "arrowwidth": 1
          },
          "autotypenumbers": "strict",
          "coloraxis": {
           "colorbar": {
            "outlinewidth": 0,
            "ticks": ""
           }
          },
          "colorscale": {
           "diverging": [
            [
             0,
             "#8e0152"
            ],
            [
             0.1,
             "#c51b7d"
            ],
            [
             0.2,
             "#de77ae"
            ],
            [
             0.3,
             "#f1b6da"
            ],
            [
             0.4,
             "#fde0ef"
            ],
            [
             0.5,
             "#f7f7f7"
            ],
            [
             0.6,
             "#e6f5d0"
            ],
            [
             0.7,
             "#b8e186"
            ],
            [
             0.8,
             "#7fbc41"
            ],
            [
             0.9,
             "#4d9221"
            ],
            [
             1,
             "#276419"
            ]
           ],
           "sequential": [
            [
             0,
             "#0d0887"
            ],
            [
             0.1111111111111111,
             "#46039f"
            ],
            [
             0.2222222222222222,
             "#7201a8"
            ],
            [
             0.3333333333333333,
             "#9c179e"
            ],
            [
             0.4444444444444444,
             "#bd3786"
            ],
            [
             0.5555555555555556,
             "#d8576b"
            ],
            [
             0.6666666666666666,
             "#ed7953"
            ],
            [
             0.7777777777777778,
             "#fb9f3a"
            ],
            [
             0.8888888888888888,
             "#fdca26"
            ],
            [
             1,
             "#f0f921"
            ]
           ],
           "sequentialminus": [
            [
             0,
             "#0d0887"
            ],
            [
             0.1111111111111111,
             "#46039f"
            ],
            [
             0.2222222222222222,
             "#7201a8"
            ],
            [
             0.3333333333333333,
             "#9c179e"
            ],
            [
             0.4444444444444444,
             "#bd3786"
            ],
            [
             0.5555555555555556,
             "#d8576b"
            ],
            [
             0.6666666666666666,
             "#ed7953"
            ],
            [
             0.7777777777777778,
             "#fb9f3a"
            ],
            [
             0.8888888888888888,
             "#fdca26"
            ],
            [
             1,
             "#f0f921"
            ]
           ]
          },
          "colorway": [
           "#636efa",
           "#EF553B",
           "#00cc96",
           "#ab63fa",
           "#FFA15A",
           "#19d3f3",
           "#FF6692",
           "#B6E880",
           "#FF97FF",
           "#FECB52"
          ],
          "font": {
           "color": "#2a3f5f"
          },
          "geo": {
           "bgcolor": "white",
           "lakecolor": "white",
           "landcolor": "#E5ECF6",
           "showlakes": true,
           "showland": true,
           "subunitcolor": "white"
          },
          "hoverlabel": {
           "align": "left"
          },
          "hovermode": "closest",
          "mapbox": {
           "style": "light"
          },
          "paper_bgcolor": "white",
          "plot_bgcolor": "#E5ECF6",
          "polar": {
           "angularaxis": {
            "gridcolor": "white",
            "linecolor": "white",
            "ticks": ""
           },
           "bgcolor": "#E5ECF6",
           "radialaxis": {
            "gridcolor": "white",
            "linecolor": "white",
            "ticks": ""
           }
          },
          "scene": {
           "xaxis": {
            "backgroundcolor": "#E5ECF6",
            "gridcolor": "white",
            "gridwidth": 2,
            "linecolor": "white",
            "showbackground": true,
            "ticks": "",
            "zerolinecolor": "white"
           },
           "yaxis": {
            "backgroundcolor": "#E5ECF6",
            "gridcolor": "white",
            "gridwidth": 2,
            "linecolor": "white",
            "showbackground": true,
            "ticks": "",
            "zerolinecolor": "white"
           },
           "zaxis": {
            "backgroundcolor": "#E5ECF6",
            "gridcolor": "white",
            "gridwidth": 2,
            "linecolor": "white",
            "showbackground": true,
            "ticks": "",
            "zerolinecolor": "white"
           }
          },
          "shapedefaults": {
           "line": {
            "color": "#2a3f5f"
           }
          },
          "ternary": {
           "aaxis": {
            "gridcolor": "white",
            "linecolor": "white",
            "ticks": ""
           },
           "baxis": {
            "gridcolor": "white",
            "linecolor": "white",
            "ticks": ""
           },
           "bgcolor": "#E5ECF6",
           "caxis": {
            "gridcolor": "white",
            "linecolor": "white",
            "ticks": ""
           }
          },
          "title": {
           "x": 0.05
          },
          "xaxis": {
           "automargin": true,
           "gridcolor": "white",
           "linecolor": "white",
           "ticks": "",
           "title": {
            "standoff": 15
           },
           "zerolinecolor": "white",
           "zerolinewidth": 2
          },
          "yaxis": {
           "automargin": true,
           "gridcolor": "white",
           "linecolor": "white",
           "ticks": "",
           "title": {
            "standoff": 15
           },
           "zerolinecolor": "white",
           "zerolinewidth": 2
          }
         }
        },
        "title": {
         "text": "Parallel Categories Plot of COVID-19 and GDP Data"
        }
       }
      }
     },
     "metadata": {},
     "output_type": "display_data"
    }
   ],
   "source": [
    "import pandas as pd\n",
    "import plotly.graph_objs as go\n",
    "\n",
    "# Load COVID-19 and GDP data\n",
    "covid_df = pd.read_csv('owid-covid-data.csv')\n",
    "gdp_df = pd.read_csv('GDP-data.csv', skiprows=4)\n",
    "\n",
    "# Filter COVID-19 data for 2021 and 2020 and exclude certain locations\n",
    "covid_2021_df = covid_df[covid_df['date'].str.startswith('2021')]\n",
    "covid_2020_df = covid_df[covid_df['date'].str.startswith('2020')]\n",
    "exclude_locations = ['World', 'Upper middle income', 'Lower middle income', 'High income', 'Low income',\n",
    "                     'European Union', 'North America', 'South America', 'Asia', 'Oceania', 'Africa']\n",
    "covid_2021_df = covid_2021_df[~covid_2021_df['location'].isin(exclude_locations)]\n",
    "covid_2020_df = covid_2020_df[~covid_2020_df['location'].isin(exclude_locations)]\n",
    "\n",
    "# Define variables of interest\n",
    "variables = ['total_deaths_per_million', 'total_cases_per_million', 'people_vaccinated_per_hundred', \n",
    "             'total_tests_per_thousand', 'excess_mortality_cumulative_per_million']\n",
    "\n",
    "# Compute last values for each variable by location for 2021 and 2020\n",
    "last_values_2021_dfs = {}\n",
    "last_values_2020_dfs = {}\n",
    "for var in variables:\n",
    "    last_values_2021_dfs[var] = covid_2021_df.groupby('location').last()[var].reset_index()\n",
    "    last_values_2020_dfs[var] = covid_2020_df.groupby('location').last()[var].reset_index()\n",
    "\n",
    "# Merge COVID-19 variables for 2021 with GDP data\n",
    "merged_df = last_values_2021_dfs[variables[0]]\n",
    "for var in variables[1:]:\n",
    "    merged_df = pd.merge(merged_df, last_values_2021_dfs[var], on='location', how='left')\n",
    "\n",
    "# Rename columns for clarity\n",
    "for var in variables:\n",
    "    merged_df = merged_df.rename(columns={var: f'{var}_2021'})\n",
    "\n",
    "# Merge last values of 2020\n",
    "for var in variables:\n",
    "    if var != 'people_vaccinated_per_hundred':  # Skip 'people_vaccinated_per_hundred'\n",
    "        merged_df = pd.merge(merged_df, last_values_2020_dfs[var].rename(columns={var: f'{var}_2020'}), on='location', how='left')\n",
    "\n",
    "# Adjust variables by subtracting 2020 values from 2021 values, except for 'people_vaccinated_per_hundred'\n",
    "for var in variables:\n",
    "    if var != 'people_vaccinated_per_hundred':\n",
    "        merged_df[var] = merged_df[f'{var}_2021'] - merged_df[f'{var}_2020']\n",
    "    else:\n",
    "        merged_df[var] = merged_df[f'{var}_2021']\n",
    "\n",
    "# Drop unnecessary columns\n",
    "columns_to_drop = [f'{var}_2021' for var in variables if var != 'people_vaccinated_per_hundred'] + [f'{var}_2020' for var in variables if var != 'people_vaccinated_per_hundred']\n",
    "merged_df = merged_df.drop(columns=columns_to_drop)\n",
    "\n",
    "# Merge with GDP data\n",
    "gdp_df = gdp_df.rename(columns={\"Country Name\": 'location'})\n",
    "gdp_df = gdp_df[['location', \"2021\"]]\n",
    "final_merged_df = pd.merge(merged_df, gdp_df, on='location', how='inner')\n",
    "final_merged_df = final_merged_df.rename(columns={\"2021\": \"GDP_2021\"})\n",
    "\n",
    "# Categorical binning for each variable\n",
    "for var in variables + ['GDP_2021']:\n",
    "    final_merged_df[f'{var}_category'] = pd.qcut(final_merged_df[var], q=3, labels=['low', 'medium', 'high'])\n",
    "\n",
    "# Define category orders for each variable\n",
    "category_orders = {\n",
    "    'GDP_2021_category': ['low', 'medium', 'high'],\n",
    "    'total_deaths_per_million_category': ['low', 'medium', 'high'],\n",
    "    'total_cases_per_million_category': ['low', 'medium', 'high'],\n",
    "    'people_vaccinated_per_hundred_category': ['low', 'medium', 'high'],\n",
    "    'total_tests_per_thousand_category': ['low', 'medium', 'high'],\n",
    "    'excess_mortality_cumulative_per_million_category': ['low', 'medium', 'high'] \n",
    "}\n",
    "\n",
    "# Ensure all variables are treated as categorical\n",
    "for var in variables + ['GDP_2021']:\n",
    "    final_merged_df[f'{var}_category'] = final_merged_df[f'{var}_category'].astype('category').cat.add_categories('nan').fillna('nan')\n",
    "\n",
    "# Define dimensions for Plotly Parcats\n",
    "dimensions = [\n",
    "    {'label': 'GDP 2021', 'values': final_merged_df['GDP_2021_category'], 'categoryorder': 'array', 'categoryarray': category_orders['GDP_2021_category']},\n",
    "    {'label': 'Total Deaths', 'values': final_merged_df['total_deaths_per_million_category'], 'categoryorder': 'array', 'categoryarray': category_orders['total_deaths_per_million_category']},\n",
    "    {'label': 'Total Cases', 'values': final_merged_df['total_cases_per_million_category'], 'categoryorder': 'array', 'categoryarray': category_orders['total_cases_per_million_category']},\n",
    "    {'label': 'People Vaccinated', 'values': final_merged_df['people_vaccinated_per_hundred_category'], 'categoryorder': 'array', 'categoryarray': category_orders['people_vaccinated_per_hundred_category']},\n",
    "    {'label': 'Total Tests', 'values': final_merged_df['total_tests_per_thousand_category'], 'categoryorder': 'array', 'categoryarray': category_orders['total_tests_per_thousand_category']},\n",
    "    {'label': 'Excess Mortality', 'values': final_merged_df['excess_mortality_cumulative_per_million_category'], 'categoryorder': 'array', 'categoryarray': category_orders['excess_mortality_cumulative_per_million_category']}\n",
    "]\n",
    "\n",
    "# Create the Parcats figure\n",
    "fig = go.Figure(data=[\n",
    "    go.Parcats(\n",
    "        dimensions=dimensions,\n",
    "        line={'color': final_merged_df['GDP_2021_category'].cat.codes, 'colorscale': 'Viridis', 'showscale': False},\n",
    "        hoverinfo='count+probability',\n",
    "        arrangement='freeform'\n",
    "    )\n",
    "])\n",
    "\n",
    "# Update layout and display the plot\n",
    "fig.update_layout(\n",
    "    title='Parallel Categories Plot of COVID-19 and GDP Data',\n",
    "    height=600\n",
    ")\n",
    "\n",
    "fig.show()\n"
   ]
  },
  {
   "cell_type": "markdown",
   "metadata": {},
   "source": [
    "In this parallel categories plot, we excluded outliers in our location data such as continents, income groups, and global aggregates. Additionally, we categorized the values into high, medium, and low by dividing them into three bins. For the total deaths, total cases and excess mortality we used the variables per million and for people vaccinated and total tests we used the variables per hundred.\n",
    "\n",
    "The plot above shows that countries with low GDP tend to have lower values for total deaths per million and total cases per million, which creates the impression that they managed the pandemic more effectively than high GDP regions. However, these countries also tend to have lower vaccination rates compared to regions with medium and high GDP. Furthermore the plot also shows that lower GDP regions have either a low test rate or the data is unavailable. Additionally, the data on excess mortality rates per million is also often unavailable for lower GDP regions. Based on the plot, we can conclude that the lower reported total deaths and cases per million in low GDP countries may not accurately reflect their handling of the pandemic. Instead, these figures might be influenced by limited resources for testing and data recording. Additionally, the lower vaccination rates and lack of data on excess mortality rates in low GDP regions suggest that the pandemic's true impact may be underreported in these areas.\n"
   ]
  },
  {
   "cell_type": "markdown",
   "metadata": {},
   "source": [
    "### Perspective 2: \n",
    "**Countries with a lower gdp have not necessarily managed the covid pandemic worse.**\n",
    "\n",
    "Although there might be some truth to the statement that money and resources helped lighten the burden of the covid-19 pandemic, there also might be some other factors at play. These factors may also occur in countries with a lower GDP per capita. For this reason it is important that we explore other possible explainations for having a lower mortality rate. \n",
    "\n",
    "#### Argument 1: \n",
    "**Countries with a lower gdp per capita do not have more cases and deaths than Countries with a high gdp per capita**\n",
    "\n",
    "Different regions of the world generally have wildly different socio-economic circumstances. Mapping the countries against their respective mortality rate should provide us an insight into the possible causations for higher and lower mortality rates. We have chosen to try to map the mortality rate across different years aswell because we were interested to see whether the general contrast between high and low mortality rate stayed the same across all years or whether there were changes throughout the years."
   ]
  },
  {
   "cell_type": "code",
   "execution_count": 11,
   "metadata": {},
   "outputs": [
    {
     "data": {
      "application/vnd.plotly.v1+json": {
       "config": {
        "plotlyServerURL": "https://plot.ly"
       },
       "data": [
        {
         "coloraxis": "coloraxis",
         "geo": "geo",
         "hovertemplate": "<b>%{hovertext}</b><br><br>Country Code=%{location}<br>total_deaths_per_million=%{z}<extra></extra>",
         "hovertext": [
          "Aruba",
          "Afghanistan",
          "Angola",
          "Albania",
          "Andorra",
          "United Arab Emirates",
          "Argentina",
          "Armenia",
          "American Samoa",
          "Antigua and Barbuda",
          "Australia",
          "Austria",
          "Azerbaijan",
          "Burundi",
          "Belgium",
          "Benin",
          "Burkina Faso",
          "Bangladesh",
          "Bulgaria",
          "Bahrain",
          "Bosnia and Herzegovina",
          "Belarus",
          "Belize",
          "Bermuda",
          "Bolivia",
          "Brazil",
          "Barbados",
          "Bhutan",
          "Botswana",
          "Central African Republic",
          "Canada",
          "Switzerland",
          "Chile",
          "China",
          "Cote d'Ivoire",
          "Cameroon",
          "Colombia",
          "Comoros",
          "Costa Rica",
          "Cuba",
          "Curacao",
          "Cayman Islands",
          "Cyprus",
          "Czechia",
          "Germany",
          "Djibouti",
          "Dominica",
          "Denmark",
          "Dominican Republic",
          "Algeria",
          "Ecuador",
          "Eritrea",
          "Spain",
          "Estonia",
          "Ethiopia",
          "Finland",
          "Fiji",
          "France",
          "Gabon",
          "United Kingdom",
          "Georgia",
          "Ghana",
          "Gibraltar",
          "Guinea",
          "Guinea-Bissau",
          "Equatorial Guinea",
          "Greece",
          "Grenada",
          "Greenland",
          "Guatemala",
          "Guam",
          "Guyana",
          "Honduras",
          "Croatia",
          "Haiti",
          "Hungary",
          "Indonesia",
          "Isle of Man",
          "India",
          "Ireland",
          "Iraq",
          "Iceland",
          "Israel",
          "Italy",
          "Jamaica",
          "Jordan",
          "Japan",
          "Kazakhstan",
          "Kenya",
          "Cambodia",
          "Kiribati",
          "Kuwait",
          "Lebanon",
          "Liberia",
          "Libya",
          "Liechtenstein",
          "Sri Lanka",
          "Lesotho",
          "Lithuania",
          "Luxembourg",
          "Latvia",
          "Morocco",
          "Monaco",
          "Moldova",
          "Madagascar",
          "Maldives",
          "Mexico",
          "Marshall Islands",
          "North Macedonia",
          "Mali",
          "Malta",
          "Myanmar",
          "Montenegro",
          "Mongolia",
          "Northern Mariana Islands",
          "Mozambique",
          "Mauritania",
          "Mauritius",
          "Malawi",
          "Malaysia",
          "Namibia",
          "New Caledonia",
          "Niger",
          "Nigeria",
          "Nicaragua",
          "Netherlands",
          "Norway",
          "Nepal",
          "Nauru",
          "New Zealand",
          "Oman",
          "Pakistan",
          "Panama",
          "Philippines",
          "Palau",
          "Papua New Guinea",
          "Poland",
          "Puerto Rico",
          "Portugal",
          "Paraguay",
          "French Polynesia",
          "Qatar",
          "Romania",
          "Rwanda",
          "Saudi Arabia",
          "Sudan",
          "Senegal",
          "Singapore",
          "Solomon Islands",
          "Sierra Leone",
          "El Salvador",
          "San Marino",
          "Somalia",
          "Serbia",
          "South Sudan",
          "Sao Tome and Principe",
          "Suriname",
          "Slovenia",
          "Sweden",
          "Eswatini",
          "Sint Maarten (Dutch part)",
          "Seychelles",
          "Turks and Caicos Islands",
          "Chad",
          "Togo",
          "Thailand",
          "Tajikistan",
          "Turkmenistan",
          "Tonga",
          "Trinidad and Tobago",
          "Tunisia",
          "Tuvalu",
          "Tanzania",
          "Uganda",
          "Ukraine",
          "Uruguay",
          "United States",
          "Uzbekistan",
          "British Virgin Islands",
          "Vanuatu",
          "Samoa",
          "Kosovo",
          "South Africa",
          "Zambia",
          "Zimbabwe"
         ],
         "locations": [
          "ABW",
          "AFG",
          "AGO",
          "ALB",
          "AND",
          "ARE",
          "ARG",
          "ARM",
          "ASM",
          "ATG",
          "AUS",
          "AUT",
          "AZE",
          "BDI",
          "BEL",
          "BEN",
          "BFA",
          "BGD",
          "BGR",
          "BHR",
          "BIH",
          "BLR",
          "BLZ",
          "BMU",
          "BOL",
          "BRA",
          "BRB",
          "BTN",
          "BWA",
          "CAF",
          "CAN",
          "CHE",
          "CHL",
          "CHN",
          "CIV",
          "CMR",
          "COL",
          "COM",
          "CRI",
          "CUB",
          "CUW",
          "CYM",
          "CYP",
          "CZE",
          "DEU",
          "DJI",
          "DMA",
          "DNK",
          "DOM",
          "DZA",
          "ECU",
          "ERI",
          "ESP",
          "EST",
          "ETH",
          "FIN",
          "FJI",
          "FRA",
          "GAB",
          "GBR",
          "GEO",
          "GHA",
          "GIB",
          "GIN",
          "GNB",
          "GNQ",
          "GRC",
          "GRD",
          "GRL",
          "GTM",
          "GUM",
          "GUY",
          "HND",
          "HRV",
          "HTI",
          "HUN",
          "IDN",
          "IMN",
          "IND",
          "IRL",
          "IRQ",
          "ISL",
          "ISR",
          "ITA",
          "JAM",
          "JOR",
          "JPN",
          "KAZ",
          "KEN",
          "KHM",
          "KIR",
          "KWT",
          "LBN",
          "LBR",
          "LBY",
          "LIE",
          "LKA",
          "LSO",
          "LTU",
          "LUX",
          "LVA",
          "MAR",
          "MCO",
          "MDA",
          "MDG",
          "MDV",
          "MEX",
          "MHL",
          "MKD",
          "MLI",
          "MLT",
          "MMR",
          "MNE",
          "MNG",
          "MNP",
          "MOZ",
          "MRT",
          "MUS",
          "MWI",
          "MYS",
          "NAM",
          "NCL",
          "NER",
          "NGA",
          "NIC",
          "NLD",
          "NOR",
          "NPL",
          "NRU",
          "NZL",
          "OMN",
          "PAK",
          "PAN",
          "PHL",
          "PLW",
          "PNG",
          "POL",
          "PRI",
          "PRT",
          "PRY",
          "PYF",
          "QAT",
          "ROU",
          "RWA",
          "SAU",
          "SDN",
          "SEN",
          "SGP",
          "SLB",
          "SLE",
          "SLV",
          "SMR",
          "SOM",
          "SRB",
          "SSD",
          "STP",
          "SUR",
          "SVN",
          "SWE",
          "SWZ",
          "SXM",
          "SYC",
          "TCA",
          "TCD",
          "TGO",
          "THA",
          "TJK",
          "TKM",
          "TON",
          "TTO",
          "TUN",
          "TUV",
          "TZA",
          "UGA",
          "UKR",
          "URY",
          "USA",
          "UZB",
          "VGB",
          "VUT",
          "WSM",
          "XKX",
          "ZAF",
          "ZMB",
          "ZWE"
         ],
         "name": "",
         "type": "choropleth",
         "z": [
          441.485,
          52.469,
          11.239,
          398.97,
          1039.54,
          69.377,
          1043.873,
          995.514,
          null,
          53.321,
          35.145,
          788.513,
          233.248,
          0.155,
          1662.159,
          3.295,
          3.44,
          43.532,
          1050.287,
          238.413,
          1213.225,
          144.311,
          562.567,
          140.172,
          743.04,
          884.701,
          24.854,
          null,
          14.827,
          11.292,
          383.156,
          821.695,
          836.779,
          3.35,
          4.758,
          16.049,
          803.678,
          8.365,
          405.919,
          12.576,
          62.77,
          29.103,
          127.231,
          1083.191,
          563.861,
          54.423,
          null,
          197.033,
          214.092,
          60.619,
          777.179,
          0.271,
          1134.684,
          214.168,
          15.408,
          111.537,
          2.151,
          983.093,
          26.789,
          1340.193,
          634.817,
          10.007,
          183.615,
          5.772,
          21.372,
          51.346,
          450.844,
          null,
          null,
          266.926,
          704.377,
          200.315,
          293.4,
          896.446,
          20.285,
          907.668,
          77.085,
          414.035,
          104.167,
          443.948,
          286.924,
          75.087,
          343.105,
          1213.246,
          103.983,
          330.413,
          25.921,
          137.592,
          30.633,
          null,
          null,
          217.621,
          251.196,
          16.784,
          207.711,
          990.98,
          8.749,
          27.756,
          587.988,
          440.086,
          341.501,
          192.322,
          82.212,
          904.371,
          8.814,
          91.638,
          1128.513,
          null,
          1383.259,
          11.065,
          425.657,
          48.007,
          865.915,
          0.294,
          40.344,
          4.823,
          71.155,
          7.695,
          9.213,
          13.289,
          75.963,
          null,
          3.854,
          5.706,
          23.603,
          656.968,
          77.471,
          89.041,
          null,
          4.821,
          325.809,
          41.624,
          851.975,
          78.462,
          null,
          0.887,
          682.613,
          501.167,
          651.844,
          317.664,
          352.605,
          90.534,
          768.492,
          5.299,
          169.629,
          32.427,
          22.349,
          5.145,
          null,
          8.831,
          204.691,
          1691.897,
          7.217,
          434.109,
          5.773,
          74.76,
          192.542,
          1359.063,
          883.751,
          135.643,
          588.342,
          null,
          131.216,
          5.868,
          7.685,
          0.837,
          9.043,
          null,
          null,
          81.644,
          358.203,
          null,
          0.321,
          6.307,
          384.819,
          41.779,
          1013.687,
          null,
          31.916,
          null,
          null,
          726.665,
          442.8,
          19.083,
          20.894
         ]
        },
        {
         "coloraxis": "coloraxis",
         "geo": "geo",
         "hovertemplate": "<b>%{hovertext}</b><br><br>Country Code=%{location}<br>total_deaths_per_million=%{z}<extra></extra>",
         "hovertext": [
          "Aruba",
          "Afghanistan",
          "Angola",
          "Albania",
          "Andorra",
          "United Arab Emirates",
          "Argentina",
          "Armenia",
          "American Samoa",
          "Antigua and Barbuda",
          "Australia",
          "Austria",
          "Azerbaijan",
          "Burundi",
          "Belgium",
          "Benin",
          "Burkina Faso",
          "Bangladesh",
          "Bulgaria",
          "Bahrain",
          "Bosnia and Herzegovina",
          "Belarus",
          "Belize",
          "Bermuda",
          "Bolivia",
          "Brazil",
          "Barbados",
          "Bhutan",
          "Botswana",
          "Central African Republic",
          "Canada",
          "Switzerland",
          "Chile",
          "China",
          "Cote d'Ivoire",
          "Cameroon",
          "Colombia",
          "Comoros",
          "Costa Rica",
          "Cuba",
          "Curacao",
          "Cayman Islands",
          "Cyprus",
          "Czechia",
          "Germany",
          "Djibouti",
          "Dominica",
          "Denmark",
          "Dominican Republic",
          "Algeria",
          "Ecuador",
          "Eritrea",
          "Spain",
          "Estonia",
          "Ethiopia",
          "Finland",
          "Fiji",
          "France",
          "Gabon",
          "United Kingdom",
          "Georgia",
          "Ghana",
          "Gibraltar",
          "Guinea",
          "Guinea-Bissau",
          "Equatorial Guinea",
          "Greece",
          "Grenada",
          "Greenland",
          "Guatemala",
          "Guam",
          "Guyana",
          "Honduras",
          "Croatia",
          "Haiti",
          "Hungary",
          "Indonesia",
          "Isle of Man",
          "India",
          "Ireland",
          "Iraq",
          "Iceland",
          "Israel",
          "Italy",
          "Jamaica",
          "Jordan",
          "Japan",
          "Kazakhstan",
          "Kenya",
          "Cambodia",
          "Kiribati",
          "Kuwait",
          "Lebanon",
          "Liberia",
          "Libya",
          "Liechtenstein",
          "Sri Lanka",
          "Lesotho",
          "Lithuania",
          "Luxembourg",
          "Latvia",
          "Morocco",
          "Monaco",
          "Moldova",
          "Madagascar",
          "Maldives",
          "Mexico",
          "Marshall Islands",
          "North Macedonia",
          "Mali",
          "Malta",
          "Myanmar",
          "Montenegro",
          "Mongolia",
          "Northern Mariana Islands",
          "Mozambique",
          "Mauritania",
          "Mauritius",
          "Malawi",
          "Malaysia",
          "Namibia",
          "New Caledonia",
          "Niger",
          "Nigeria",
          "Nicaragua",
          "Netherlands",
          "Norway",
          "Nepal",
          "Nauru",
          "New Zealand",
          "Oman",
          "Pakistan",
          "Panama",
          "Philippines",
          "Palau",
          "Papua New Guinea",
          "Poland",
          "Puerto Rico",
          "Portugal",
          "Paraguay",
          "French Polynesia",
          "Qatar",
          "Romania",
          "Rwanda",
          "Saudi Arabia",
          "Sudan",
          "Senegal",
          "Singapore",
          "Solomon Islands",
          "Sierra Leone",
          "El Salvador",
          "San Marino",
          "Somalia",
          "Serbia",
          "South Sudan",
          "Sao Tome and Principe",
          "Suriname",
          "Slovenia",
          "Sweden",
          "Eswatini",
          "Sint Maarten (Dutch part)",
          "Seychelles",
          "Turks and Caicos Islands",
          "Chad",
          "Togo",
          "Thailand",
          "Tajikistan",
          "Turkmenistan",
          "Tonga",
          "Trinidad and Tobago",
          "Tunisia",
          "Tuvalu",
          "Tanzania",
          "Uganda",
          "Ukraine",
          "Uruguay",
          "United States",
          "Uzbekistan",
          "British Virgin Islands",
          "Vanuatu",
          "Samoa",
          "Kosovo",
          "South Africa",
          "Zambia",
          "Zimbabwe"
         ],
         "locations": [
          "ABW",
          "AFG",
          "AGO",
          "ALB",
          "AND",
          "ARE",
          "ARG",
          "ARM",
          "ASM",
          "ATG",
          "AUS",
          "AUT",
          "AZE",
          "BDI",
          "BEL",
          "BEN",
          "BFA",
          "BGD",
          "BGR",
          "BHR",
          "BIH",
          "BLR",
          "BLZ",
          "BMU",
          "BOL",
          "BRA",
          "BRB",
          "BTN",
          "BWA",
          "CAF",
          "CAN",
          "CHE",
          "CHL",
          "CHN",
          "CIV",
          "CMR",
          "COL",
          "COM",
          "CRI",
          "CUB",
          "CUW",
          "CYM",
          "CYP",
          "CZE",
          "DEU",
          "DJI",
          "DMA",
          "DNK",
          "DOM",
          "DZA",
          "ECU",
          "ERI",
          "ESP",
          "EST",
          "ETH",
          "FIN",
          "FJI",
          "FRA",
          "GAB",
          "GBR",
          "GEO",
          "GHA",
          "GIB",
          "GIN",
          "GNB",
          "GNQ",
          "GRC",
          "GRD",
          "GRL",
          "GTM",
          "GUM",
          "GUY",
          "HND",
          "HRV",
          "HTI",
          "HUN",
          "IDN",
          "IMN",
          "IND",
          "IRL",
          "IRQ",
          "ISL",
          "ISR",
          "ITA",
          "JAM",
          "JOR",
          "JPN",
          "KAZ",
          "KEN",
          "KHM",
          "KIR",
          "KWT",
          "LBN",
          "LBR",
          "LBY",
          "LIE",
          "LKA",
          "LSO",
          "LTU",
          "LUX",
          "LVA",
          "MAR",
          "MCO",
          "MDA",
          "MDG",
          "MDV",
          "MEX",
          "MHL",
          "MKD",
          "MLI",
          "MLT",
          "MMR",
          "MNE",
          "MNG",
          "MNP",
          "MOZ",
          "MRT",
          "MUS",
          "MWI",
          "MYS",
          "NAM",
          "NCL",
          "NER",
          "NGA",
          "NIC",
          "NLD",
          "NOR",
          "NPL",
          "NRU",
          "NZL",
          "OMN",
          "PAK",
          "PAN",
          "PHL",
          "PLW",
          "PNG",
          "POL",
          "PRI",
          "PRT",
          "PRY",
          "PYF",
          "QAT",
          "ROU",
          "RWA",
          "SAU",
          "SDN",
          "SEN",
          "SGP",
          "SLB",
          "SLE",
          "SLV",
          "SMR",
          "SOM",
          "SRB",
          "SSD",
          "STP",
          "SUR",
          "SVN",
          "SWE",
          "SWZ",
          "SXM",
          "SYC",
          "TCA",
          "TCD",
          "TGO",
          "THA",
          "TJK",
          "TKM",
          "TON",
          "TTO",
          "TUN",
          "TUV",
          "TZA",
          "UGA",
          "UKR",
          "URY",
          "USA",
          "UZB",
          "VGB",
          "VUT",
          "WSM",
          "XKX",
          "ZAF",
          "ZMB",
          "ZWE"
         ],
         "name": "",
         "type": "choropleth",
         "z": [
          1700.185,
          178.756,
          49.06,
          1121.268,
          1740.917,
          228.362,
          2589.083,
          2856.709,
          null,
          1258.371,
          90.803,
          1855.449,
          799.762,
          1.086,
          2418.684,
          12.057,
          13.981,
          163.915,
          4501.357,
          946.858,
          4107.894,
          575.147,
          1460.7,
          1650.91,
          1597.662,
          2872.054,
          923.145,
          3.834,
          927.271,
          18.103,
          776.272,
          1353.245,
          1990.08,
          3.997,
          25.106,
          66.31,
          2500.018,
          182.843,
          1418.497,
          742.049,
          972.941,
          160.065,
          710.932,
          3429.391,
          1411.686,
          168.622,
          618.489,
          543.499,
          377.333,
          138.721,
          1869.174,
          19.544,
          1919.21,
          1378.516,
          55.876,
          331.363,
          749.649,
          1921.267,
          120.134,
          2609.418,
          3608.603,
          38.446,
          3060.256,
          28.068,
          70.764,
          104.483,
          1974.488,
          1594.146,
          17.701,
          901.988,
          1571.75,
          1288.445,
          999.63,
          3046.625,
          66.12,
          3843.266,
          522.883,
          792.581,
          338.478,
          1205.23,
          542.115,
          99.222,
          873.214,
          2312.599,
          870.77,
          1102.617,
          148.34,
          937.468,
          99.19,
          179.391,
          null,
          578.137,
          1644.339,
          54.123,
          828.056,
          1753.272,
          681.747,
          288.4,
          2655.217,
          980.542,
          2601.783,
          395.83,
          1041.353,
          3111.525,
          34.682,
          498.284,
          2378.394,
          null,
          3989.289,
          28.902,
          924.445,
          355.375,
          3629.509,
          582.926,
          221.891,
          59.449,
          182.005,
          586.389,
          114.088,
          923.266,
          1406.687,
          965.654,
          10.455,
          13.791,
          31.086,
          1193.349,
          245.661,
          379.244,
          null,
          9.643,
          978.957,
          122.57,
          1680.586,
          443.064,
          null,
          58.17,
          2366.702,
          1014.939,
          1838.99,
          2447.814,
          2076.45,
          227.818,
          2977.527,
          97.701,
          243.622,
          70.359,
          109.145,
          145.822,
          null,
          14.293,
          602.551,
          2908.875,
          75.749,
          1828.991,
          12.37,
          250.667,
          1918.951,
          2872.383,
          1450.516,
          1058.518,
          1697.14,
          1176.086,
          568.604,
          10.213,
          27.801,
          300.989,
          12.559,
          null,
          null,
          1775.26,
          2065.617,
          null,
          11.252,
          69.419,
          2330.704,
          1800.283,
          2402.044,
          24.836,
          1244.734,
          null,
          null,
          1671.609,
          1515.564,
          184.687,
          299.316
         ]
        },
        {
         "coloraxis": "coloraxis",
         "geo": "geo",
         "hovertemplate": "<b>%{hovertext}</b><br><br>Country Code=%{location}<br>total_deaths_per_million=%{z}<extra></extra>",
         "hovertext": [
          "Aruba",
          "Afghanistan",
          "Angola",
          "Albania",
          "Andorra",
          "United Arab Emirates",
          "Argentina",
          "Armenia",
          "American Samoa",
          "Antigua and Barbuda",
          "Australia",
          "Austria",
          "Azerbaijan",
          "Burundi",
          "Belgium",
          "Benin",
          "Burkina Faso",
          "Bangladesh",
          "Bulgaria",
          "Bahrain",
          "Bosnia and Herzegovina",
          "Belarus",
          "Belize",
          "Bermuda",
          "Bolivia",
          "Brazil",
          "Barbados",
          "Bhutan",
          "Botswana",
          "Central African Republic",
          "Canada",
          "Switzerland",
          "Chile",
          "China",
          "Cote d'Ivoire",
          "Cameroon",
          "Colombia",
          "Comoros",
          "Costa Rica",
          "Cuba",
          "Curacao",
          "Cayman Islands",
          "Cyprus",
          "Czechia",
          "Germany",
          "Djibouti",
          "Dominica",
          "Denmark",
          "Dominican Republic",
          "Algeria",
          "Ecuador",
          "Eritrea",
          "Spain",
          "Estonia",
          "Ethiopia",
          "Finland",
          "Fiji",
          "France",
          "Gabon",
          "United Kingdom",
          "Georgia",
          "Ghana",
          "Gibraltar",
          "Guinea",
          "Guinea-Bissau",
          "Equatorial Guinea",
          "Greece",
          "Grenada",
          "Greenland",
          "Guatemala",
          "Guam",
          "Guyana",
          "Honduras",
          "Croatia",
          "Haiti",
          "Hungary",
          "Indonesia",
          "Isle of Man",
          "India",
          "Ireland",
          "Iraq",
          "Iceland",
          "Israel",
          "Italy",
          "Jamaica",
          "Jordan",
          "Japan",
          "Kazakhstan",
          "Kenya",
          "Cambodia",
          "Kiribati",
          "Kuwait",
          "Lebanon",
          "Liberia",
          "Libya",
          "Liechtenstein",
          "Sri Lanka",
          "Lesotho",
          "Lithuania",
          "Luxembourg",
          "Latvia",
          "Morocco",
          "Monaco",
          "Moldova",
          "Madagascar",
          "Maldives",
          "Mexico",
          "Marshall Islands",
          "North Macedonia",
          "Mali",
          "Malta",
          "Myanmar",
          "Montenegro",
          "Mongolia",
          "Northern Mariana Islands",
          "Mozambique",
          "Mauritania",
          "Mauritius",
          "Malawi",
          "Malaysia",
          "Namibia",
          "New Caledonia",
          "Niger",
          "Nigeria",
          "Nicaragua",
          "Netherlands",
          "Norway",
          "Nepal",
          "Nauru",
          "New Zealand",
          "Oman",
          "Pakistan",
          "Panama",
          "Philippines",
          "Palau",
          "Papua New Guinea",
          "Poland",
          "Puerto Rico",
          "Portugal",
          "Paraguay",
          "French Polynesia",
          "Qatar",
          "Romania",
          "Rwanda",
          "Saudi Arabia",
          "Sudan",
          "Senegal",
          "Singapore",
          "Solomon Islands",
          "Sierra Leone",
          "El Salvador",
          "San Marino",
          "Somalia",
          "Serbia",
          "South Sudan",
          "Sao Tome and Principe",
          "Suriname",
          "Slovenia",
          "Sweden",
          "Eswatini",
          "Sint Maarten (Dutch part)",
          "Seychelles",
          "Turks and Caicos Islands",
          "Chad",
          "Togo",
          "Thailand",
          "Tajikistan",
          "Turkmenistan",
          "Tonga",
          "Trinidad and Tobago",
          "Tunisia",
          "Tuvalu",
          "Tanzania",
          "Uganda",
          "Ukraine",
          "Uruguay",
          "United States",
          "Uzbekistan",
          "British Virgin Islands",
          "Vanuatu",
          "Samoa",
          "Kosovo",
          "South Africa",
          "Zambia",
          "Zimbabwe"
         ],
         "locations": [
          "ABW",
          "AFG",
          "AGO",
          "ALB",
          "AND",
          "ARE",
          "ARG",
          "ARM",
          "ASM",
          "ATG",
          "AUS",
          "AUT",
          "AZE",
          "BDI",
          "BEL",
          "BEN",
          "BFA",
          "BGD",
          "BGR",
          "BHR",
          "BIH",
          "BLR",
          "BLZ",
          "BMU",
          "BOL",
          "BRA",
          "BRB",
          "BTN",
          "BWA",
          "CAF",
          "CAN",
          "CHE",
          "CHL",
          "CHN",
          "CIV",
          "CMR",
          "COL",
          "COM",
          "CRI",
          "CUB",
          "CUW",
          "CYM",
          "CYP",
          "CZE",
          "DEU",
          "DJI",
          "DMA",
          "DNK",
          "DOM",
          "DZA",
          "ECU",
          "ERI",
          "ESP",
          "EST",
          "ETH",
          "FIN",
          "FJI",
          "FRA",
          "GAB",
          "GBR",
          "GEO",
          "GHA",
          "GIB",
          "GIN",
          "GNB",
          "GNQ",
          "GRC",
          "GRD",
          "GRL",
          "GTM",
          "GUM",
          "GUY",
          "HND",
          "HRV",
          "HTI",
          "HUN",
          "IDN",
          "IMN",
          "IND",
          "IRL",
          "IRQ",
          "ISL",
          "ISR",
          "ITA",
          "JAM",
          "JOR",
          "JPN",
          "KAZ",
          "KEN",
          "KHM",
          "KIR",
          "KWT",
          "LBN",
          "LBR",
          "LBY",
          "LIE",
          "LKA",
          "LSO",
          "LTU",
          "LUX",
          "LVA",
          "MAR",
          "MCO",
          "MDA",
          "MDG",
          "MDV",
          "MEX",
          "MHL",
          "MKD",
          "MLI",
          "MLT",
          "MMR",
          "MNE",
          "MNG",
          "MNP",
          "MOZ",
          "MRT",
          "MUS",
          "MWI",
          "MYS",
          "NAM",
          "NCL",
          "NER",
          "NGA",
          "NIC",
          "NLD",
          "NOR",
          "NPL",
          "NRU",
          "NZL",
          "OMN",
          "PAK",
          "PAN",
          "PHL",
          "PLW",
          "PNG",
          "POL",
          "PRI",
          "PRT",
          "PRY",
          "PYF",
          "QAT",
          "ROU",
          "RWA",
          "SAU",
          "SDN",
          "SEN",
          "SGP",
          "SLB",
          "SLE",
          "SLV",
          "SMR",
          "SOM",
          "SRB",
          "SSD",
          "STP",
          "SUR",
          "SVN",
          "SWE",
          "SWZ",
          "SXM",
          "SYC",
          "TCA",
          "TCD",
          "TGO",
          "THA",
          "TJK",
          "TKM",
          "TON",
          "TTO",
          "TUN",
          "TUV",
          "TZA",
          "UGA",
          "UKR",
          "URY",
          "USA",
          "UZB",
          "VGB",
          "VUT",
          "WSM",
          "XKX",
          "ZAF",
          "ZMB",
          "ZWE"
         ],
         "name": "",
         "type": "choropleth",
         "z": [
          2630.121,
          190.742,
          54.202,
          1265.165,
          1978.884,
          248.699,
          2859.219,
          3131.842,
          767.581,
          1556.968,
          680.587,
          2412.967,
          966.009,
          1.164,
          2851.769,
          12.207,
          17.421,
          171.97,
          5608.412,
          1043.31,
          5016.808,
          746.516,
          1697.571,
          2367.343,
          1822.627,
          3217.369,
          2016.716,
          26.839,
          1059.195,
          20.254,
          1259.182,
          1586.299,
          3214.285,
          27.348,
          29.474,
          70.393,
          2738.866,
          191.208,
          1751.069,
          760.779,
          1564.028,
          538.401,
          1400.659,
          4011.725,
          1987.985,
          168.622,
          1017.07,
          1311.061,
          390.424,
          153.241,
          1996.222,
          27.958,
          2500.976,
          2056.462,
          61.371,
          1569.825,
          947.547,
          2501.554,
          128.087,
          3189.874,
          4512.891,
          43.643,
          3366.282,
          33.624,
          83.587,
          109.259,
          3367.944,
          1897.034,
          371.721,
          1120.27,
          2392.553,
          1590.153,
          1060.4,
          4345.765,
          74.234,
          4859.79,
          582.709,
          1372.229,
          374.473,
          1679.637,
          570.252,
          498.789,
          1272.727,
          3119.51,
          1224.808,
          1251.299,
          450.28,
          982.421,
          105.28,
          182.254,
          99.057,
          602.031,
          1957.104,
          55.444,
          944.902,
          2210.647,
          770.194,
          306.181,
          3443.2,
          1474.673,
          3788.39,
          434.994,
          1781.261,
          3644.676,
          47.819,
          593.74,
          2598.52,
          408.723,
          4717.22,
          32.885,
          1563.868,
          359.731,
          4171.703,
          628.536,
          827.046,
          67.638,
          210.509,
          799.552,
          131.583,
          1085.355,
          1590.168,
          1082.912,
          11.981,
          14.437,
          35.26,
          1308.129,
          873.154,
          393.452,
          78.796,
          441.248,
          1011.297,
          129.906,
          1943.255,
          564.75,
          497.678,
          65.959,
          2972.491,
          1703.659,
          2509.333,
          2900.271,
          2118.893,
          254.162,
          3425.407,
          106.484,
          261.145,
          106.54,
          113.649,
          303.529,
          211.247,
          14.525,
          667.572,
          3591.57,
          77.34,
          2546.006,
          12.645,
          338.621,
          2253.878,
          4151.723,
          2085.721,
          1183.343,
          2013.939,
          1605.451,
          787.298,
          10.946,
          32.773,
          468.555,
          12.559,
          null,
          112.289,
          2793.52,
          2369.596,
          null,
          12.901,
          76.826,
          2726.555,
          2209.305,
          3192.458,
          29.341,
          2042.64,
          42.847,
          130.402,
          1791.13,
          1712.495,
          200.922,
          345.27
         ]
        }
       ],
       "layout": {
        "geo": {
         "projection": {
          "type": "equirectangular"
         },
         "showcoastlines": false,
         "showframe": false
        },
        "height": 600,
        "template": {
         "data": {
          "bar": [
           {
            "error_x": {
             "color": "#2a3f5f"
            },
            "error_y": {
             "color": "#2a3f5f"
            },
            "marker": {
             "line": {
              "color": "#E5ECF6",
              "width": 0.5
             },
             "pattern": {
              "fillmode": "overlay",
              "size": 10,
              "solidity": 0.2
             }
            },
            "type": "bar"
           }
          ],
          "barpolar": [
           {
            "marker": {
             "line": {
              "color": "#E5ECF6",
              "width": 0.5
             },
             "pattern": {
              "fillmode": "overlay",
              "size": 10,
              "solidity": 0.2
             }
            },
            "type": "barpolar"
           }
          ],
          "carpet": [
           {
            "aaxis": {
             "endlinecolor": "#2a3f5f",
             "gridcolor": "white",
             "linecolor": "white",
             "minorgridcolor": "white",
             "startlinecolor": "#2a3f5f"
            },
            "baxis": {
             "endlinecolor": "#2a3f5f",
             "gridcolor": "white",
             "linecolor": "white",
             "minorgridcolor": "white",
             "startlinecolor": "#2a3f5f"
            },
            "type": "carpet"
           }
          ],
          "choropleth": [
           {
            "colorbar": {
             "outlinewidth": 0,
             "ticks": ""
            },
            "type": "choropleth"
           }
          ],
          "contour": [
           {
            "colorbar": {
             "outlinewidth": 0,
             "ticks": ""
            },
            "colorscale": [
             [
              0,
              "#0d0887"
             ],
             [
              0.1111111111111111,
              "#46039f"
             ],
             [
              0.2222222222222222,
              "#7201a8"
             ],
             [
              0.3333333333333333,
              "#9c179e"
             ],
             [
              0.4444444444444444,
              "#bd3786"
             ],
             [
              0.5555555555555556,
              "#d8576b"
             ],
             [
              0.6666666666666666,
              "#ed7953"
             ],
             [
              0.7777777777777778,
              "#fb9f3a"
             ],
             [
              0.8888888888888888,
              "#fdca26"
             ],
             [
              1,
              "#f0f921"
             ]
            ],
            "type": "contour"
           }
          ],
          "contourcarpet": [
           {
            "colorbar": {
             "outlinewidth": 0,
             "ticks": ""
            },
            "type": "contourcarpet"
           }
          ],
          "heatmap": [
           {
            "colorbar": {
             "outlinewidth": 0,
             "ticks": ""
            },
            "colorscale": [
             [
              0,
              "#0d0887"
             ],
             [
              0.1111111111111111,
              "#46039f"
             ],
             [
              0.2222222222222222,
              "#7201a8"
             ],
             [
              0.3333333333333333,
              "#9c179e"
             ],
             [
              0.4444444444444444,
              "#bd3786"
             ],
             [
              0.5555555555555556,
              "#d8576b"
             ],
             [
              0.6666666666666666,
              "#ed7953"
             ],
             [
              0.7777777777777778,
              "#fb9f3a"
             ],
             [
              0.8888888888888888,
              "#fdca26"
             ],
             [
              1,
              "#f0f921"
             ]
            ],
            "type": "heatmap"
           }
          ],
          "heatmapgl": [
           {
            "colorbar": {
             "outlinewidth": 0,
             "ticks": ""
            },
            "colorscale": [
             [
              0,
              "#0d0887"
             ],
             [
              0.1111111111111111,
              "#46039f"
             ],
             [
              0.2222222222222222,
              "#7201a8"
             ],
             [
              0.3333333333333333,
              "#9c179e"
             ],
             [
              0.4444444444444444,
              "#bd3786"
             ],
             [
              0.5555555555555556,
              "#d8576b"
             ],
             [
              0.6666666666666666,
              "#ed7953"
             ],
             [
              0.7777777777777778,
              "#fb9f3a"
             ],
             [
              0.8888888888888888,
              "#fdca26"
             ],
             [
              1,
              "#f0f921"
             ]
            ],
            "type": "heatmapgl"
           }
          ],
          "histogram": [
           {
            "marker": {
             "pattern": {
              "fillmode": "overlay",
              "size": 10,
              "solidity": 0.2
             }
            },
            "type": "histogram"
           }
          ],
          "histogram2d": [
           {
            "colorbar": {
             "outlinewidth": 0,
             "ticks": ""
            },
            "colorscale": [
             [
              0,
              "#0d0887"
             ],
             [
              0.1111111111111111,
              "#46039f"
             ],
             [
              0.2222222222222222,
              "#7201a8"
             ],
             [
              0.3333333333333333,
              "#9c179e"
             ],
             [
              0.4444444444444444,
              "#bd3786"
             ],
             [
              0.5555555555555556,
              "#d8576b"
             ],
             [
              0.6666666666666666,
              "#ed7953"
             ],
             [
              0.7777777777777778,
              "#fb9f3a"
             ],
             [
              0.8888888888888888,
              "#fdca26"
             ],
             [
              1,
              "#f0f921"
             ]
            ],
            "type": "histogram2d"
           }
          ],
          "histogram2dcontour": [
           {
            "colorbar": {
             "outlinewidth": 0,
             "ticks": ""
            },
            "colorscale": [
             [
              0,
              "#0d0887"
             ],
             [
              0.1111111111111111,
              "#46039f"
             ],
             [
              0.2222222222222222,
              "#7201a8"
             ],
             [
              0.3333333333333333,
              "#9c179e"
             ],
             [
              0.4444444444444444,
              "#bd3786"
             ],
             [
              0.5555555555555556,
              "#d8576b"
             ],
             [
              0.6666666666666666,
              "#ed7953"
             ],
             [
              0.7777777777777778,
              "#fb9f3a"
             ],
             [
              0.8888888888888888,
              "#fdca26"
             ],
             [
              1,
              "#f0f921"
             ]
            ],
            "type": "histogram2dcontour"
           }
          ],
          "mesh3d": [
           {
            "colorbar": {
             "outlinewidth": 0,
             "ticks": ""
            },
            "type": "mesh3d"
           }
          ],
          "parcoords": [
           {
            "line": {
             "colorbar": {
              "outlinewidth": 0,
              "ticks": ""
             }
            },
            "type": "parcoords"
           }
          ],
          "pie": [
           {
            "automargin": true,
            "type": "pie"
           }
          ],
          "scatter": [
           {
            "fillpattern": {
             "fillmode": "overlay",
             "size": 10,
             "solidity": 0.2
            },
            "type": "scatter"
           }
          ],
          "scatter3d": [
           {
            "line": {
             "colorbar": {
              "outlinewidth": 0,
              "ticks": ""
             }
            },
            "marker": {
             "colorbar": {
              "outlinewidth": 0,
              "ticks": ""
             }
            },
            "type": "scatter3d"
           }
          ],
          "scattercarpet": [
           {
            "marker": {
             "colorbar": {
              "outlinewidth": 0,
              "ticks": ""
             }
            },
            "type": "scattercarpet"
           }
          ],
          "scattergeo": [
           {
            "marker": {
             "colorbar": {
              "outlinewidth": 0,
              "ticks": ""
             }
            },
            "type": "scattergeo"
           }
          ],
          "scattergl": [
           {
            "marker": {
             "colorbar": {
              "outlinewidth": 0,
              "ticks": ""
             }
            },
            "type": "scattergl"
           }
          ],
          "scattermapbox": [
           {
            "marker": {
             "colorbar": {
              "outlinewidth": 0,
              "ticks": ""
             }
            },
            "type": "scattermapbox"
           }
          ],
          "scatterpolar": [
           {
            "marker": {
             "colorbar": {
              "outlinewidth": 0,
              "ticks": ""
             }
            },
            "type": "scatterpolar"
           }
          ],
          "scatterpolargl": [
           {
            "marker": {
             "colorbar": {
              "outlinewidth": 0,
              "ticks": ""
             }
            },
            "type": "scatterpolargl"
           }
          ],
          "scatterternary": [
           {
            "marker": {
             "colorbar": {
              "outlinewidth": 0,
              "ticks": ""
             }
            },
            "type": "scatterternary"
           }
          ],
          "surface": [
           {
            "colorbar": {
             "outlinewidth": 0,
             "ticks": ""
            },
            "colorscale": [
             [
              0,
              "#0d0887"
             ],
             [
              0.1111111111111111,
              "#46039f"
             ],
             [
              0.2222222222222222,
              "#7201a8"
             ],
             [
              0.3333333333333333,
              "#9c179e"
             ],
             [
              0.4444444444444444,
              "#bd3786"
             ],
             [
              0.5555555555555556,
              "#d8576b"
             ],
             [
              0.6666666666666666,
              "#ed7953"
             ],
             [
              0.7777777777777778,
              "#fb9f3a"
             ],
             [
              0.8888888888888888,
              "#fdca26"
             ],
             [
              1,
              "#f0f921"
             ]
            ],
            "type": "surface"
           }
          ],
          "table": [
           {
            "cells": {
             "fill": {
              "color": "#EBF0F8"
             },
             "line": {
              "color": "white"
             }
            },
            "header": {
             "fill": {
              "color": "#C8D4E3"
             },
             "line": {
              "color": "white"
             }
            },
            "type": "table"
           }
          ]
         },
         "layout": {
          "annotationdefaults": {
           "arrowcolor": "#2a3f5f",
           "arrowhead": 0,
           "arrowwidth": 1
          },
          "autotypenumbers": "strict",
          "coloraxis": {
           "colorbar": {
            "outlinewidth": 0,
            "ticks": ""
           }
          },
          "colorscale": {
           "diverging": [
            [
             0,
             "#8e0152"
            ],
            [
             0.1,
             "#c51b7d"
            ],
            [
             0.2,
             "#de77ae"
            ],
            [
             0.3,
             "#f1b6da"
            ],
            [
             0.4,
             "#fde0ef"
            ],
            [
             0.5,
             "#f7f7f7"
            ],
            [
             0.6,
             "#e6f5d0"
            ],
            [
             0.7,
             "#b8e186"
            ],
            [
             0.8,
             "#7fbc41"
            ],
            [
             0.9,
             "#4d9221"
            ],
            [
             1,
             "#276419"
            ]
           ],
           "sequential": [
            [
             0,
             "#0d0887"
            ],
            [
             0.1111111111111111,
             "#46039f"
            ],
            [
             0.2222222222222222,
             "#7201a8"
            ],
            [
             0.3333333333333333,
             "#9c179e"
            ],
            [
             0.4444444444444444,
             "#bd3786"
            ],
            [
             0.5555555555555556,
             "#d8576b"
            ],
            [
             0.6666666666666666,
             "#ed7953"
            ],
            [
             0.7777777777777778,
             "#fb9f3a"
            ],
            [
             0.8888888888888888,
             "#fdca26"
            ],
            [
             1,
             "#f0f921"
            ]
           ],
           "sequentialminus": [
            [
             0,
             "#0d0887"
            ],
            [
             0.1111111111111111,
             "#46039f"
            ],
            [
             0.2222222222222222,
             "#7201a8"
            ],
            [
             0.3333333333333333,
             "#9c179e"
            ],
            [
             0.4444444444444444,
             "#bd3786"
            ],
            [
             0.5555555555555556,
             "#d8576b"
            ],
            [
             0.6666666666666666,
             "#ed7953"
            ],
            [
             0.7777777777777778,
             "#fb9f3a"
            ],
            [
             0.8888888888888888,
             "#fdca26"
            ],
            [
             1,
             "#f0f921"
            ]
           ]
          },
          "colorway": [
           "#636efa",
           "#EF553B",
           "#00cc96",
           "#ab63fa",
           "#FFA15A",
           "#19d3f3",
           "#FF6692",
           "#B6E880",
           "#FF97FF",
           "#FECB52"
          ],
          "font": {
           "color": "#2a3f5f"
          },
          "geo": {
           "bgcolor": "white",
           "lakecolor": "white",
           "landcolor": "#E5ECF6",
           "showlakes": true,
           "showland": true,
           "subunitcolor": "white"
          },
          "hoverlabel": {
           "align": "left"
          },
          "hovermode": "closest",
          "mapbox": {
           "style": "light"
          },
          "paper_bgcolor": "white",
          "plot_bgcolor": "#E5ECF6",
          "polar": {
           "angularaxis": {
            "gridcolor": "white",
            "linecolor": "white",
            "ticks": ""
           },
           "bgcolor": "#E5ECF6",
           "radialaxis": {
            "gridcolor": "white",
            "linecolor": "white",
            "ticks": ""
           }
          },
          "scene": {
           "xaxis": {
            "backgroundcolor": "#E5ECF6",
            "gridcolor": "white",
            "gridwidth": 2,
            "linecolor": "white",
            "showbackground": true,
            "ticks": "",
            "zerolinecolor": "white"
           },
           "yaxis": {
            "backgroundcolor": "#E5ECF6",
            "gridcolor": "white",
            "gridwidth": 2,
            "linecolor": "white",
            "showbackground": true,
            "ticks": "",
            "zerolinecolor": "white"
           },
           "zaxis": {
            "backgroundcolor": "#E5ECF6",
            "gridcolor": "white",
            "gridwidth": 2,
            "linecolor": "white",
            "showbackground": true,
            "ticks": "",
            "zerolinecolor": "white"
           }
          },
          "shapedefaults": {
           "line": {
            "color": "#2a3f5f"
           }
          },
          "ternary": {
           "aaxis": {
            "gridcolor": "white",
            "linecolor": "white",
            "ticks": ""
           },
           "baxis": {
            "gridcolor": "white",
            "linecolor": "white",
            "ticks": ""
           },
           "bgcolor": "#E5ECF6",
           "caxis": {
            "gridcolor": "white",
            "linecolor": "white",
            "ticks": ""
           }
          },
          "title": {
           "x": 0.05
          },
          "xaxis": {
           "automargin": true,
           "gridcolor": "white",
           "linecolor": "white",
           "ticks": "",
           "title": {
            "standoff": 15
           },
           "zerolinecolor": "white",
           "zerolinewidth": 2
          },
          "yaxis": {
           "automargin": true,
           "gridcolor": "white",
           "linecolor": "white",
           "ticks": "",
           "title": {
            "standoff": 15
           },
           "zerolinecolor": "white",
           "zerolinewidth": 2
          }
         }
        },
        "updatemenus": [
         {
          "buttons": [
           {
            "args": [
             {
              "visible": [
               true,
               false,
               false
              ]
             }
            ],
            "label": "2020",
            "method": "update"
           },
           {
            "args": [
             {
              "visible": [
               false,
               true,
               false
              ]
             }
            ],
            "label": "2021",
            "method": "update"
           },
           {
            "args": [
             {
              "visible": [
               false,
               false,
               true
              ]
             }
            ],
            "label": "2022",
            "method": "update"
           }
          ],
          "direction": "down",
          "showactive": true
         }
        ]
       }
      }
     },
     "metadata": {},
     "output_type": "display_data"
    }
   ],
   "source": [
    "import plotly.express as px\n",
    "import plotly.graph_objects as go\n",
    "\n",
    "CovidData = pd.read_csv('owid-covid-data.csv')\n",
    "GDPdata = pd.read_csv('GDP-data.csv', skiprows=4)\n",
    "\n",
    "# Filter the data for the years 2020, 2021, and 2022\n",
    "years = ['2020', '2021', '2022']\n",
    "CovidData['year'] = CovidData['date'].str[:4]\n",
    "CovidData = CovidData[CovidData['year'].isin(years)]\n",
    "\n",
    "# Preprocess GDP data\n",
    "GDPdata = GDPdata.rename(columns={'Country Name': 'location'})\n",
    "\n",
    "# Preprocess Covid data for each year\n",
    "def preprocess_covid_data(year):\n",
    "    Covid_year = CovidData[CovidData['year'] == year]\n",
    "    Covid_deaths_year = Covid_year.groupby('location').last()['total_deaths_per_million'].reset_index()\n",
    "    df_year = pd.merge(GDPdata, Covid_deaths_year, on='location', how='inner')\n",
    "    df_year = df_year[~df_year['location'].isin([\n",
    "        'World', 'Upper middle income', 'Lower middle income', 'High income', \n",
    "        'Low income', 'European Union', 'North America', 'South America', \n",
    "        'Asia', 'Oceania', 'Africa', 'Peru'\n",
    "    ])]\n",
    "    return df_year\n",
    "\n",
    "df_2020 = preprocess_covid_data('2020')\n",
    "df_2021 = preprocess_covid_data('2021')\n",
    "df_2022 = preprocess_covid_data('2022')\n",
    "\n",
    "# Create a function to generate the choropleth map for a specific year\n",
    "def create_choropleth(df, year):\n",
    "    fig = px.choropleth(\n",
    "        df, \n",
    "        locations=\"Country Code\",\n",
    "        color=\"total_deaths_per_million\",\n",
    "        hover_name=\"location\",\n",
    "        color_continuous_scale=px.colors.sequential.Blues_r,\n",
    "        title=f\"Deaths per million by Country ({year})\"\n",
    "    )\n",
    "    fig.update_layout(\n",
    "        geo=dict(\n",
    "            showframe=False,\n",
    "            showcoastlines=False,\n",
    "            projection_type='equirectangular'\n",
    "        ),\n",
    "        height=600\n",
    "    )\n",
    "    return fig\n",
    "\n",
    "# Generate choropleth maps for each year\n",
    "fig_2020 = create_choropleth(df_2020, '2020')\n",
    "fig_2021 = create_choropleth(df_2021, '2021')\n",
    "fig_2022 = create_choropleth(df_2022, '2022')\n",
    "\n",
    "# Create a figure with all traces\n",
    "fig = go.Figure(data=fig_2020.data + fig_2021.data + fig_2022.data)\n",
    "\n",
    "# Update the layout to include dropdown buttons\n",
    "fig.update_layout(\n",
    "    updatemenus=[\n",
    "        {\n",
    "            'buttons': [\n",
    "                {\n",
    "                    'label': '2020',\n",
    "                    'method': 'update',\n",
    "                    'args': [{'visible': [True, False, False]}]\n",
    "                },\n",
    "                {\n",
    "                    'label': '2021',\n",
    "                    'method': 'update',\n",
    "                    'args': [{'visible': [False, True, False]}]\n",
    "                },\n",
    "                {\n",
    "                    'label': '2022',\n",
    "                    'method': 'update',\n",
    "                    'args': [{'visible': [False, False, True]}]\n",
    "                }\n",
    "            ],\n",
    "            'direction': 'down',\n",
    "            'showactive': True,\n",
    "        }\n",
    "    ],\n",
    "    geo=dict(\n",
    "        showframe=False,\n",
    "        showcoastlines=False,\n",
    "        projection_type='equirectangular',\n",
    "    ),\n",
    "    height=600\n",
    ")\n",
    "\n",
    "# Show the figure\n",
    "fig.show()"
   ]
  },
  {
   "cell_type": "markdown",
   "metadata": {},
   "source": [
    "In the graph above Peru has been filtered out as its mortality rate was exceptionaly high which skewed the contrast between high and low mortality rates.\n",
    "\n",
    "The graph above shows the mortality rate per million in countries across the world. As you can see there are more casualties per million in the Americas and Europe compared to Africa and Asia. This is highlighted by the fact that Peru has been filtered out as to make the contrast clearer between the comparatively high and low mortality rates. This is true for every recorded year of the pandemic. This means that across those three years something that did not change through that period of time, caused some countries to have lower and others to have higher mortality rates. Another notable statistic is that the amount of "
   ]
  },
  {
   "cell_type": "markdown",
   "metadata": {},
   "source": [
    "#### Argument 2: \n",
    "**Lower income countries have a lower median age, which results in a lower mortality rate.**\n",
    "\n",
    "TODO: warnings weghalen"
   ]
  },
  {
   "cell_type": "code",
   "execution_count": 12,
   "metadata": {},
   "outputs": [
    {
     "name": "stderr",
     "output_type": "stream",
     "text": [
      "/tmp/ipykernel_3280/3828433997.py:11: SettingWithCopyWarning:\n",
      "\n",
      "\n",
      "A value is trying to be set on a copy of a slice from a DataFrame.\n",
      "Try using .loc[row_indexer,col_indexer] = value instead\n",
      "\n",
      "See the caveats in the documentation: https://pandas.pydata.org/pandas-docs/stable/user_guide/indexing.html#returning-a-view-versus-a-copy\n",
      "\n"
     ]
    },
    {
     "data": {
      "application/vnd.plotly.v1+json": {
       "config": {
        "plotlyServerURL": "https://plot.ly"
       },
       "data": [
        {
         "hovertemplate": "<b>%{hovertext}</b><br><br>continent=North America<br>median_age=%{x}<br>total_deaths_per_million=%{y}<br>Gdp per capita 2021=%{z}<extra></extra>",
         "hovertext": [
          "Aruba",
          "Antigua and Barbuda",
          "Belize",
          "Bermuda",
          "Barbados",
          "Canada",
          "Costa Rica",
          "Cuba",
          "Curacao",
          "Cayman Islands",
          "Dominica",
          "Dominican Republic",
          "Grenada",
          "Greenland",
          "Guatemala",
          "Honduras",
          "Haiti",
          "Jamaica",
          "Mexico",
          "Nicaragua",
          "Panama",
          "Puerto Rico",
          "El Salvador",
          "Sint Maarten (Dutch part)",
          "Turks and Caicos Islands",
          "Trinidad and Tobago",
          "United States",
          "British Virgin Islands"
         ],
         "legendgroup": "North America",
         "marker": {
          "color": "#636efa",
          "symbol": "circle"
         },
         "mode": "markers",
         "name": "North America",
         "scene": "scene",
         "showlegend": true,
         "type": "scatter3d",
         "x": [
          41.2,
          32.1,
          25,
          null,
          39.8,
          41.4,
          33.6,
          43.1,
          41.7,
          null,
          null,
          27.6,
          29.4,
          null,
          22.9,
          24.9,
          24.3,
          31.4,
          29.3,
          27.3,
          29.7,
          38.2,
          27.6,
          null,
          null,
          36.2,
          38.3,
          null
         ],
         "y": [
          1700.185,
          1258.371,
          1460.7,
          1650.91,
          923.145,
          776.272,
          1418.497,
          742.049,
          972.941,
          160.065,
          618.489,
          377.333,
          1594.146,
          17.701,
          901.988,
          999.63,
          66.12,
          870.77,
          2378.394,
          31.086,
          1680.586,
          1014.939,
          602.551,
          1697.14,
          568.604,
          1775.26,
          2402.044,
          1244.734
         ],
         "z": [
          38226.146156979,
          25493.1295548691,
          11559.8905984688,
          91508.8303752301,
          14686.2199296539,
          55634.8275796301,
          23700.2961314063,
          null,
          25163.8669323866,
          75898.4231569682,
          14472.2858615339,
          21923.3019358073,
          14325.5548482263,
          68086.4601238175,
          12106.4225430833,
          6285.9287396567,
          3114.96354203089,
          9610.98933709822,
          21123.6718346798,
          6874.61550569295,
          30895.8322499594,
          40537.7088223526,
          10860.247882807,
          39465.6250774608,
          21232.6835191491,
          27631.6778146419,
          70219.472454115,
          null
         ]
        },
        {
         "hovertemplate": "<b>%{hovertext}</b><br><br>continent=Asia<br>median_age=%{x}<br>total_deaths_per_million=%{y}<br>Gdp per capita 2021=%{z}<extra></extra>",
         "hovertext": [
          "Afghanistan",
          "United Arab Emirates",
          "Armenia",
          "Azerbaijan",
          "Bangladesh",
          "Bahrain",
          "Bhutan",
          "China",
          "Georgia",
          "Indonesia",
          "India",
          "Iraq",
          "Israel",
          "Jordan",
          "Japan",
          "Kazakhstan",
          "Cambodia",
          "Kuwait",
          "Lebanon",
          "Sri Lanka",
          "Maldives",
          "Myanmar",
          "Mongolia",
          "Malaysia",
          "Nepal",
          "Oman",
          "Pakistan",
          "Philippines",
          "Qatar",
          "Saudi Arabia",
          "Singapore",
          "Thailand",
          "Tajikistan",
          "Turkmenistan",
          "Uzbekistan"
         ],
         "legendgroup": "Asia",
         "marker": {
          "color": "#EF553B",
          "symbol": "circle"
         },
         "mode": "markers",
         "name": "Asia",
         "scene": "scene",
         "showlegend": true,
         "type": "scatter3d",
         "x": [
          18.6,
          34,
          35.7,
          32.4,
          27.5,
          32.4,
          28.6,
          38.7,
          38.7,
          29.3,
          28.2,
          20,
          30.6,
          23.2,
          48.2,
          30.6,
          25.6,
          33.7,
          31.1,
          34.1,
          30.6,
          29.1,
          28.6,
          29.9,
          25,
          30.7,
          23.5,
          25.2,
          31.9,
          31.9,
          42.4,
          40.1,
          23.3,
          26.9,
          28.2
         ],
         "y": [
          178.756,
          228.362,
          2856.709,
          799.762,
          163.915,
          946.858,
          3.834,
          3.997,
          3608.603,
          522.883,
          338.478,
          542.115,
          873.214,
          1102.617,
          148.34,
          937.468,
          179.391,
          578.137,
          1644.339,
          681.747,
          498.284,
          355.375,
          582.926,
          923.266,
          379.244,
          978.957,
          122.57,
          443.064,
          227.818,
          243.622,
          145.822,
          300.989,
          12.559,
          null,
          24.836
         ],
         "z": [
          2138.87024713086,
          68912.5455473732,
          16899.0709181678,
          20111.3756952109,
          7366.48997079065,
          54351.8360757233,
          13423.4288723593,
          20406.7296584605,
          18691.1612210787,
          12897.0571071313,
          8044.67480751057,
          12476.3625169213,
          46126.6423137421,
          9115.01951145213,
          44291.9852770528,
          34233.4732249708,
          4668.23777959985,
          48129.9882968208,
          11860.0586252712,
          14306.2352220864,
          18865.7192956579,
          5138.88724952007,
          14951.1365679904,
          30456.0928951741,
          4461.46878467812,
          38930.9938379577,
          5554.58570149625,
          8797.16871175312,
          108865.13777489,
          47754.4377844143,
          128731.011187586,
          20253.3547905679,
          4074.56022293416,
          null,
          8162.19581678153
         ]
        },
        {
         "hovertemplate": "<b>%{hovertext}</b><br><br>continent=Africa<br>median_age=%{x}<br>total_deaths_per_million=%{y}<br>Gdp per capita 2021=%{z}<extra></extra>",
         "hovertext": [
          "Angola",
          "Burundi",
          "Benin",
          "Burkina Faso",
          "Botswana",
          "Central African Republic",
          "Cote d'Ivoire",
          "Cameroon",
          "Comoros",
          "Djibouti",
          "Algeria",
          "Eritrea",
          "Ethiopia",
          "Gabon",
          "Ghana",
          "Guinea",
          "Guinea-Bissau",
          "Equatorial Guinea",
          "Kenya",
          "Liberia",
          "Libya",
          "Lesotho",
          "Morocco",
          "Madagascar",
          "Mali",
          "Mozambique",
          "Mauritania",
          "Mauritius",
          "Malawi",
          "Namibia",
          "Niger",
          "Nigeria",
          "Rwanda",
          "Sudan",
          "Senegal",
          "Sierra Leone",
          "Somalia",
          "South Sudan",
          "Sao Tome and Principe",
          "Eswatini",
          "Seychelles",
          "Chad",
          "Togo",
          "Tunisia",
          "Tanzania",
          "Uganda",
          "South Africa",
          "Zambia",
          "Zimbabwe"
         ],
         "legendgroup": "Africa",
         "marker": {
          "color": "#00cc96",
          "symbol": "circle"
         },
         "mode": "markers",
         "name": "Africa",
         "scene": "scene",
         "showlegend": true,
         "type": "scatter3d",
         "x": [
          16.8,
          17.5,
          18.8,
          17.6,
          25.8,
          18.3,
          18.7,
          18.8,
          20.4,
          25.4,
          29.1,
          19.3,
          19.8,
          23.1,
          21.1,
          19,
          19.4,
          22.4,
          20,
          19.2,
          29,
          22.2,
          29.6,
          19.6,
          16.4,
          17.7,
          20.3,
          37.4,
          18.1,
          22,
          15.1,
          18.1,
          20.3,
          19.7,
          18.7,
          19.1,
          16.8,
          19.2,
          18.7,
          21.5,
          36.2,
          16.7,
          19.4,
          32.7,
          17.7,
          16.4,
          27.3,
          17.7,
          19.6
         ],
         "y": [
          49.06,
          1.086,
          12.057,
          13.981,
          927.271,
          18.103,
          25.106,
          66.31,
          182.843,
          168.622,
          138.721,
          19.544,
          55.876,
          120.134,
          38.446,
          28.068,
          70.764,
          104.483,
          99.19,
          54.123,
          828.056,
          288.4,
          395.83,
          34.682,
          28.902,
          59.449,
          182.005,
          586.389,
          114.088,
          1406.687,
          10.455,
          13.791,
          97.701,
          70.359,
          109.145,
          14.293,
          75.749,
          12.37,
          250.667,
          1058.518,
          1176.086,
          10.213,
          27.801,
          2065.617,
          11.252,
          69.419,
          1515.564,
          184.687,
          299.316
         ],
         "z": [
          7414.27895783202,
          864.280732753101,
          3575.31148668734,
          2467.67804044213,
          16651.5337042653,
          1057.19439503026,
          6432.62666292098,
          4741.76177028658,
          3426.75773437156,
          6032.27795593735,
          12893.2100025293,
          null,
          2628.34346412648,
          19552.3625335025,
          6544.2381999688,
          3735.0898272933,
          2164.37287781941,
          17936.6113034777,
          5360.36190289931,
          1556.94547466638,
          15133.8474122324,
          2456.31221508897,
          8581.330078125,
          1642.30416221094,
          2399.46153474407,
          1440.45976271877,
          5988.20355101133,
          22737.5729410543,
          1731.76777467309,
          10823.175558195,
          1538.47074692859,
          5623.66407810605,
          2705.84426715937,
          3420.45190429688,
          4266.26875168597,
          1623.97562392431,
          1461.96879165973,
          null,
          5703.24824295017,
          10202.5096730796,
          25938.2456464216,
          1764.34807562549,
          2678.83160754709,
          12126.587729035,
          3451.4482421875,
          2688.26683541397,
          14172.5442513912,
          3526.50741832512,
          3276.26775280153
         ]
        },
        {
         "hovertemplate": "<b>%{hovertext}</b><br><br>continent=Europe<br>median_age=%{x}<br>total_deaths_per_million=%{y}<br>Gdp per capita 2021=%{z}<extra></extra>",
         "hovertext": [
          "Albania",
          "Andorra",
          "Austria",
          "Belgium",
          "Bulgaria",
          "Bosnia and Herzegovina",
          "Belarus",
          "Switzerland",
          "Cyprus",
          "Czechia",
          "Germany",
          "Denmark",
          "Spain",
          "Estonia",
          "Finland",
          "France",
          "United Kingdom",
          "Gibraltar",
          "Greece",
          "Croatia",
          "Hungary",
          "Isle of Man",
          "Ireland",
          "Iceland",
          "Italy",
          "Liechtenstein",
          "Lithuania",
          "Luxembourg",
          "Latvia",
          "Monaco",
          "Moldova",
          "North Macedonia",
          "Malta",
          "Montenegro",
          "Netherlands",
          "Norway",
          "Poland",
          "Portugal",
          "Romania",
          "San Marino",
          "Serbia",
          "Slovenia",
          "Sweden",
          "Ukraine",
          "Kosovo"
         ],
         "legendgroup": "Europe",
         "marker": {
          "color": "#ab63fa",
          "symbol": "circle"
         },
         "mode": "markers",
         "name": "Europe",
         "scene": "scene",
         "showlegend": true,
         "type": "scatter3d",
         "x": [
          38,
          null,
          44.4,
          41.8,
          44.7,
          42.5,
          40.3,
          43.1,
          37.3,
          43.3,
          46.6,
          42.3,
          45.5,
          42.7,
          42.8,
          42,
          40.8,
          null,
          45.3,
          44,
          43.4,
          null,
          38.7,
          37.3,
          47.9,
          null,
          43.5,
          39.7,
          43.9,
          null,
          37.6,
          39.1,
          42.4,
          39.1,
          43.2,
          39.7,
          41.8,
          46.2,
          43,
          null,
          41.2,
          44.5,
          41,
          41.4,
          null
         ],
         "y": [
          1121.268,
          1740.917,
          1855.449,
          2418.684,
          4501.357,
          4107.894,
          575.147,
          1353.245,
          710.932,
          3429.391,
          1411.686,
          543.499,
          1919.21,
          1378.516,
          331.363,
          1921.267,
          2609.418,
          3060.256,
          1974.488,
          3046.625,
          3843.266,
          792.581,
          1205.23,
          99.222,
          2312.599,
          1753.272,
          2655.217,
          980.542,
          2601.783,
          1041.353,
          3111.525,
          3989.289,
          924.445,
          3629.509,
          1193.349,
          245.661,
          2366.702,
          1838.99,
          2977.527,
          2908.875,
          1828.991,
          2872.383,
          1450.516,
          2330.704,
          1671.609
         ],
         "z": [
          16262.6634527606,
          58829.8500720505,
          63421.2035870778,
          62107.0699329664,
          29406.5795920851,
          18379.5525047191,
          27611.1801135156,
          81603.2073073193,
          48469.4140625,
          48418.1157871868,
          61939.6515850137,
          69878.9348117258,
          43620.6040614123,
          45047.315035037,
          57848.6141705053,
          53834.7992971017,
          52841.6345850474,
          null,
          33018.2544152866,
          36954.4345867034,
          38643.762589993,
          null,
          114120.544516392,
          61481.3794980574,
          49912.83903304,
          null,
          46410.0676392912,
          137947.34385169,
          36777.8928459839,
          null,
          15682.0703284653,
          19902.8198301911,
          53387.2378429299,
          24511.2620665873,
          67693.3264311302,
          86891.9964886406,
          40462.6887122126,
          38783.0115625218,
          37971.0545519053,
          65717.8915454458,
          22575.4210980499,
          46502.0978938704,
          63375.0446462412,
          18040.345703125,
          12362.7048078624
         ]
        },
        {
         "hovertemplate": "<b>%{hovertext}</b><br><br>continent=South America<br>median_age=%{x}<br>total_deaths_per_million=%{y}<br>Gdp per capita 2021=%{z}<extra></extra>",
         "hovertext": [
          "Argentina",
          "Bolivia",
          "Brazil",
          "Chile",
          "Colombia",
          "Ecuador",
          "Guyana",
          "Peru",
          "Paraguay",
          "Suriname",
          "Uruguay"
         ],
         "legendgroup": "South America",
         "marker": {
          "color": "#FFA15A",
          "symbol": "circle"
         },
         "mode": "markers",
         "name": "South America",
         "scene": "scene",
         "showlegend": true,
         "type": "scatter3d",
         "x": [
          31.9,
          25.4,
          33.5,
          35.4,
          32.2,
          28.1,
          26.3,
          29.1,
          26.5,
          29.6,
          35.6
         ],
         "y": [
          2589.083,
          1597.662,
          2872.054,
          1990.08,
          2500.018,
          1869.174,
          1288.445,
          5945.858,
          2447.814,
          1918.951,
          1800.283
         ],
         "z": [
          26086.8023552274,
          9342.97184473106,
          17450.5086501913,
          29148.2424509188,
          17586.5239590949,
          13293.0871517821,
          23176.1332006217,
          14853.5805797423,
          15361.0847494949,
          18447.3399360527,
          29500.3726206454
         ]
        },
        {
         "hovertemplate": "<b>%{hovertext}</b><br><br>continent=Oceania<br>median_age=%{x}<br>total_deaths_per_million=%{y}<br>Gdp per capita 2021=%{z}<extra></extra>",
         "hovertext": [
          "American Samoa",
          "Australia",
          "Fiji",
          "Guam",
          "Kiribati",
          "Marshall Islands",
          "Northern Mariana Islands",
          "New Caledonia",
          "Nauru",
          "New Zealand",
          "Palau",
          "Papua New Guinea",
          "French Polynesia",
          "Solomon Islands",
          "Tonga",
          "Tuvalu",
          "Vanuatu",
          "Samoa"
         ],
         "legendgroup": "Oceania",
         "marker": {
          "color": "#19d3f3",
          "symbol": "circle"
         },
         "mode": "markers",
         "name": "Oceania",
         "scene": "scene",
         "showlegend": true,
         "type": "scatter3d",
         "x": [
          null,
          37.9,
          28.6,
          31.4,
          23.2,
          null,
          null,
          33.4,
          null,
          37.9,
          null,
          22.6,
          32.7,
          20.8,
          22.3,
          null,
          23.1,
          22
         ],
         "y": [
          null,
          90.803,
          749.649,
          1571.75,
          null,
          null,
          221.891,
          965.654,
          null,
          9.643,
          null,
          58.17,
          2076.45,
          null,
          null,
          null,
          null,
          null
         ],
         "z": [
          null,
          57406.1787604549,
          10593.9126867971,
          null,
          2215.72978938238,
          6594.29953549562,
          null,
          null,
          12126.5887460305,
          48555.5523439365,
          15572.7392991737,
          4014.2854655247,
          null,
          2645.34556016287,
          6778.50356937661,
          5080.76524350095,
          3090.22795764862,
          6107.16207916622
         ]
        }
       ],
       "layout": {
        "legend": {
         "title": {
          "text": "continent"
         },
         "tracegroupgap": 0
        },
        "scene": {
         "domain": {
          "x": [
           0,
           1
          ],
          "y": [
           0,
           1
          ]
         },
         "xaxis": {
          "title": {
           "text": "median_age"
          }
         },
         "yaxis": {
          "title": {
           "text": "total_deaths_per_million"
          }
         },
         "zaxis": {
          "title": {
           "text": "Gdp per capita 2021"
          }
         }
        },
        "template": {
         "data": {
          "bar": [
           {
            "error_x": {
             "color": "#2a3f5f"
            },
            "error_y": {
             "color": "#2a3f5f"
            },
            "marker": {
             "line": {
              "color": "#E5ECF6",
              "width": 0.5
             },
             "pattern": {
              "fillmode": "overlay",
              "size": 10,
              "solidity": 0.2
             }
            },
            "type": "bar"
           }
          ],
          "barpolar": [
           {
            "marker": {
             "line": {
              "color": "#E5ECF6",
              "width": 0.5
             },
             "pattern": {
              "fillmode": "overlay",
              "size": 10,
              "solidity": 0.2
             }
            },
            "type": "barpolar"
           }
          ],
          "carpet": [
           {
            "aaxis": {
             "endlinecolor": "#2a3f5f",
             "gridcolor": "white",
             "linecolor": "white",
             "minorgridcolor": "white",
             "startlinecolor": "#2a3f5f"
            },
            "baxis": {
             "endlinecolor": "#2a3f5f",
             "gridcolor": "white",
             "linecolor": "white",
             "minorgridcolor": "white",
             "startlinecolor": "#2a3f5f"
            },
            "type": "carpet"
           }
          ],
          "choropleth": [
           {
            "colorbar": {
             "outlinewidth": 0,
             "ticks": ""
            },
            "type": "choropleth"
           }
          ],
          "contour": [
           {
            "colorbar": {
             "outlinewidth": 0,
             "ticks": ""
            },
            "colorscale": [
             [
              0,
              "#0d0887"
             ],
             [
              0.1111111111111111,
              "#46039f"
             ],
             [
              0.2222222222222222,
              "#7201a8"
             ],
             [
              0.3333333333333333,
              "#9c179e"
             ],
             [
              0.4444444444444444,
              "#bd3786"
             ],
             [
              0.5555555555555556,
              "#d8576b"
             ],
             [
              0.6666666666666666,
              "#ed7953"
             ],
             [
              0.7777777777777778,
              "#fb9f3a"
             ],
             [
              0.8888888888888888,
              "#fdca26"
             ],
             [
              1,
              "#f0f921"
             ]
            ],
            "type": "contour"
           }
          ],
          "contourcarpet": [
           {
            "colorbar": {
             "outlinewidth": 0,
             "ticks": ""
            },
            "type": "contourcarpet"
           }
          ],
          "heatmap": [
           {
            "colorbar": {
             "outlinewidth": 0,
             "ticks": ""
            },
            "colorscale": [
             [
              0,
              "#0d0887"
             ],
             [
              0.1111111111111111,
              "#46039f"
             ],
             [
              0.2222222222222222,
              "#7201a8"
             ],
             [
              0.3333333333333333,
              "#9c179e"
             ],
             [
              0.4444444444444444,
              "#bd3786"
             ],
             [
              0.5555555555555556,
              "#d8576b"
             ],
             [
              0.6666666666666666,
              "#ed7953"
             ],
             [
              0.7777777777777778,
              "#fb9f3a"
             ],
             [
              0.8888888888888888,
              "#fdca26"
             ],
             [
              1,
              "#f0f921"
             ]
            ],
            "type": "heatmap"
           }
          ],
          "heatmapgl": [
           {
            "colorbar": {
             "outlinewidth": 0,
             "ticks": ""
            },
            "colorscale": [
             [
              0,
              "#0d0887"
             ],
             [
              0.1111111111111111,
              "#46039f"
             ],
             [
              0.2222222222222222,
              "#7201a8"
             ],
             [
              0.3333333333333333,
              "#9c179e"
             ],
             [
              0.4444444444444444,
              "#bd3786"
             ],
             [
              0.5555555555555556,
              "#d8576b"
             ],
             [
              0.6666666666666666,
              "#ed7953"
             ],
             [
              0.7777777777777778,
              "#fb9f3a"
             ],
             [
              0.8888888888888888,
              "#fdca26"
             ],
             [
              1,
              "#f0f921"
             ]
            ],
            "type": "heatmapgl"
           }
          ],
          "histogram": [
           {
            "marker": {
             "pattern": {
              "fillmode": "overlay",
              "size": 10,
              "solidity": 0.2
             }
            },
            "type": "histogram"
           }
          ],
          "histogram2d": [
           {
            "colorbar": {
             "outlinewidth": 0,
             "ticks": ""
            },
            "colorscale": [
             [
              0,
              "#0d0887"
             ],
             [
              0.1111111111111111,
              "#46039f"
             ],
             [
              0.2222222222222222,
              "#7201a8"
             ],
             [
              0.3333333333333333,
              "#9c179e"
             ],
             [
              0.4444444444444444,
              "#bd3786"
             ],
             [
              0.5555555555555556,
              "#d8576b"
             ],
             [
              0.6666666666666666,
              "#ed7953"
             ],
             [
              0.7777777777777778,
              "#fb9f3a"
             ],
             [
              0.8888888888888888,
              "#fdca26"
             ],
             [
              1,
              "#f0f921"
             ]
            ],
            "type": "histogram2d"
           }
          ],
          "histogram2dcontour": [
           {
            "colorbar": {
             "outlinewidth": 0,
             "ticks": ""
            },
            "colorscale": [
             [
              0,
              "#0d0887"
             ],
             [
              0.1111111111111111,
              "#46039f"
             ],
             [
              0.2222222222222222,
              "#7201a8"
             ],
             [
              0.3333333333333333,
              "#9c179e"
             ],
             [
              0.4444444444444444,
              "#bd3786"
             ],
             [
              0.5555555555555556,
              "#d8576b"
             ],
             [
              0.6666666666666666,
              "#ed7953"
             ],
             [
              0.7777777777777778,
              "#fb9f3a"
             ],
             [
              0.8888888888888888,
              "#fdca26"
             ],
             [
              1,
              "#f0f921"
             ]
            ],
            "type": "histogram2dcontour"
           }
          ],
          "mesh3d": [
           {
            "colorbar": {
             "outlinewidth": 0,
             "ticks": ""
            },
            "type": "mesh3d"
           }
          ],
          "parcoords": [
           {
            "line": {
             "colorbar": {
              "outlinewidth": 0,
              "ticks": ""
             }
            },
            "type": "parcoords"
           }
          ],
          "pie": [
           {
            "automargin": true,
            "type": "pie"
           }
          ],
          "scatter": [
           {
            "fillpattern": {
             "fillmode": "overlay",
             "size": 10,
             "solidity": 0.2
            },
            "type": "scatter"
           }
          ],
          "scatter3d": [
           {
            "line": {
             "colorbar": {
              "outlinewidth": 0,
              "ticks": ""
             }
            },
            "marker": {
             "colorbar": {
              "outlinewidth": 0,
              "ticks": ""
             }
            },
            "type": "scatter3d"
           }
          ],
          "scattercarpet": [
           {
            "marker": {
             "colorbar": {
              "outlinewidth": 0,
              "ticks": ""
             }
            },
            "type": "scattercarpet"
           }
          ],
          "scattergeo": [
           {
            "marker": {
             "colorbar": {
              "outlinewidth": 0,
              "ticks": ""
             }
            },
            "type": "scattergeo"
           }
          ],
          "scattergl": [
           {
            "marker": {
             "colorbar": {
              "outlinewidth": 0,
              "ticks": ""
             }
            },
            "type": "scattergl"
           }
          ],
          "scattermapbox": [
           {
            "marker": {
             "colorbar": {
              "outlinewidth": 0,
              "ticks": ""
             }
            },
            "type": "scattermapbox"
           }
          ],
          "scatterpolar": [
           {
            "marker": {
             "colorbar": {
              "outlinewidth": 0,
              "ticks": ""
             }
            },
            "type": "scatterpolar"
           }
          ],
          "scatterpolargl": [
           {
            "marker": {
             "colorbar": {
              "outlinewidth": 0,
              "ticks": ""
             }
            },
            "type": "scatterpolargl"
           }
          ],
          "scatterternary": [
           {
            "marker": {
             "colorbar": {
              "outlinewidth": 0,
              "ticks": ""
             }
            },
            "type": "scatterternary"
           }
          ],
          "surface": [
           {
            "colorbar": {
             "outlinewidth": 0,
             "ticks": ""
            },
            "colorscale": [
             [
              0,
              "#0d0887"
             ],
             [
              0.1111111111111111,
              "#46039f"
             ],
             [
              0.2222222222222222,
              "#7201a8"
             ],
             [
              0.3333333333333333,
              "#9c179e"
             ],
             [
              0.4444444444444444,
              "#bd3786"
             ],
             [
              0.5555555555555556,
              "#d8576b"
             ],
             [
              0.6666666666666666,
              "#ed7953"
             ],
             [
              0.7777777777777778,
              "#fb9f3a"
             ],
             [
              0.8888888888888888,
              "#fdca26"
             ],
             [
              1,
              "#f0f921"
             ]
            ],
            "type": "surface"
           }
          ],
          "table": [
           {
            "cells": {
             "fill": {
              "color": "#EBF0F8"
             },
             "line": {
              "color": "white"
             }
            },
            "header": {
             "fill": {
              "color": "#C8D4E3"
             },
             "line": {
              "color": "white"
             }
            },
            "type": "table"
           }
          ]
         },
         "layout": {
          "annotationdefaults": {
           "arrowcolor": "#2a3f5f",
           "arrowhead": 0,
           "arrowwidth": 1
          },
          "autotypenumbers": "strict",
          "coloraxis": {
           "colorbar": {
            "outlinewidth": 0,
            "ticks": ""
           }
          },
          "colorscale": {
           "diverging": [
            [
             0,
             "#8e0152"
            ],
            [
             0.1,
             "#c51b7d"
            ],
            [
             0.2,
             "#de77ae"
            ],
            [
             0.3,
             "#f1b6da"
            ],
            [
             0.4,
             "#fde0ef"
            ],
            [
             0.5,
             "#f7f7f7"
            ],
            [
             0.6,
             "#e6f5d0"
            ],
            [
             0.7,
             "#b8e186"
            ],
            [
             0.8,
             "#7fbc41"
            ],
            [
             0.9,
             "#4d9221"
            ],
            [
             1,
             "#276419"
            ]
           ],
           "sequential": [
            [
             0,
             "#0d0887"
            ],
            [
             0.1111111111111111,
             "#46039f"
            ],
            [
             0.2222222222222222,
             "#7201a8"
            ],
            [
             0.3333333333333333,
             "#9c179e"
            ],
            [
             0.4444444444444444,
             "#bd3786"
            ],
            [
             0.5555555555555556,
             "#d8576b"
            ],
            [
             0.6666666666666666,
             "#ed7953"
            ],
            [
             0.7777777777777778,
             "#fb9f3a"
            ],
            [
             0.8888888888888888,
             "#fdca26"
            ],
            [
             1,
             "#f0f921"
            ]
           ],
           "sequentialminus": [
            [
             0,
             "#0d0887"
            ],
            [
             0.1111111111111111,
             "#46039f"
            ],
            [
             0.2222222222222222,
             "#7201a8"
            ],
            [
             0.3333333333333333,
             "#9c179e"
            ],
            [
             0.4444444444444444,
             "#bd3786"
            ],
            [
             0.5555555555555556,
             "#d8576b"
            ],
            [
             0.6666666666666666,
             "#ed7953"
            ],
            [
             0.7777777777777778,
             "#fb9f3a"
            ],
            [
             0.8888888888888888,
             "#fdca26"
            ],
            [
             1,
             "#f0f921"
            ]
           ]
          },
          "colorway": [
           "#636efa",
           "#EF553B",
           "#00cc96",
           "#ab63fa",
           "#FFA15A",
           "#19d3f3",
           "#FF6692",
           "#B6E880",
           "#FF97FF",
           "#FECB52"
          ],
          "font": {
           "color": "#2a3f5f"
          },
          "geo": {
           "bgcolor": "white",
           "lakecolor": "white",
           "landcolor": "#E5ECF6",
           "showlakes": true,
           "showland": true,
           "subunitcolor": "white"
          },
          "hoverlabel": {
           "align": "left"
          },
          "hovermode": "closest",
          "mapbox": {
           "style": "light"
          },
          "paper_bgcolor": "white",
          "plot_bgcolor": "#E5ECF6",
          "polar": {
           "angularaxis": {
            "gridcolor": "white",
            "linecolor": "white",
            "ticks": ""
           },
           "bgcolor": "#E5ECF6",
           "radialaxis": {
            "gridcolor": "white",
            "linecolor": "white",
            "ticks": ""
           }
          },
          "scene": {
           "xaxis": {
            "backgroundcolor": "#E5ECF6",
            "gridcolor": "white",
            "gridwidth": 2,
            "linecolor": "white",
            "showbackground": true,
            "ticks": "",
            "zerolinecolor": "white"
           },
           "yaxis": {
            "backgroundcolor": "#E5ECF6",
            "gridcolor": "white",
            "gridwidth": 2,
            "linecolor": "white",
            "showbackground": true,
            "ticks": "",
            "zerolinecolor": "white"
           },
           "zaxis": {
            "backgroundcolor": "#E5ECF6",
            "gridcolor": "white",
            "gridwidth": 2,
            "linecolor": "white",
            "showbackground": true,
            "ticks": "",
            "zerolinecolor": "white"
           }
          },
          "shapedefaults": {
           "line": {
            "color": "#2a3f5f"
           }
          },
          "ternary": {
           "aaxis": {
            "gridcolor": "white",
            "linecolor": "white",
            "ticks": ""
           },
           "baxis": {
            "gridcolor": "white",
            "linecolor": "white",
            "ticks": ""
           },
           "bgcolor": "#E5ECF6",
           "caxis": {
            "gridcolor": "white",
            "linecolor": "white",
            "ticks": ""
           }
          },
          "title": {
           "x": 0.05
          },
          "xaxis": {
           "automargin": true,
           "gridcolor": "white",
           "linecolor": "white",
           "ticks": "",
           "title": {
            "standoff": 15
           },
           "zerolinecolor": "white",
           "zerolinewidth": 2
          },
          "yaxis": {
           "automargin": true,
           "gridcolor": "white",
           "linecolor": "white",
           "ticks": "",
           "title": {
            "standoff": 15
           },
           "zerolinecolor": "white",
           "zerolinewidth": 2
          }
         }
        },
        "title": {
         "text": "Comparison of Deaths per Million median age and gdp per capita by Country"
        }
       }
      }
     },
     "metadata": {},
     "output_type": "display_data"
    }
   ],
   "source": [
    "import pandas as pd\n",
    "\n",
    "# Read the datasets\n",
    "covid_df = pd.read_csv('owid-covid-data.csv')\n",
    "gdp_df = pd.read_csv('GDP-data.csv', skiprows=4)\n",
    "\n",
    "# Filter data for 2021\n",
    "covid_2021_df = covid_df[covid_df['date'].str.startswith('2021')]\n",
    "\n",
    "# Convert 'date' column to datetime for proper sorting and comparison\n",
    "covid_2021_df['date'] = pd.to_datetime(covid_2021_df['date'])\n",
    "\n",
    "# Find the last available date for each location in 2021\n",
    "last_dates_2021 = covid_2021_df.groupby('location')['date'].idxmax()\n",
    "\n",
    "# Filter the dataframe to only include rows with the last available date for each location\n",
    "covid_last_2021 = covid_2021_df.loc[last_dates_2021]\n",
    "\n",
    "# Group by location and take the last value for the required columns\n",
    "covid_deaths_cases_2021 = covid_last_2021[['location', 'continent', 'total_deaths_per_million', 'total_cases_per_million', 'median_age', 'people_vaccinated_per_hundred', 'total_tests_per_thousand']].reset_index(drop=True)\n",
    "\n",
    "GDPdata = GDPdata.rename(columns={'Country Name': 'location'})\n",
    "\n",
    "df = pd.merge(GDPdata, covid_deaths_cases_2021, on='location', how='inner')\n",
    "\n",
    "fig2 = px.scatter_3d(\n",
    "    df,\n",
    "    x=\"median_age\",\n",
    "    y=\"total_deaths_per_million\",\n",
    "    z=\"2021\",\n",
    "    hover_name=\"location\",\n",
    "    size_max=10,\n",
    "    color='continent',\n",
    "    title=\"Comparison of Deaths per Million median age and gdp per capita by Country\",\n",
    "    labels={\n",
    "        \"2021\": \"Gdp per capita 2021\",\n",
    "        \"total_tests_per_thousand\": \"Total tests per thousand\",\n",
    "        \"people_vaccinated_per_hundred\": \"vaccinated per hundred\"\n",
    "    }\n",
    ")\n",
    "fig2.show()"
   ]
  },
  {
   "cell_type": "markdown",
   "metadata": {},
   "source": [
    "### Summary\n",
    "\n",
    "In summary, eventhough there are reasons suggesting that countries with a higher GDP per capita should have performed better at keeping excessive mortality rates low, the data does not always reflect that. Countries with a higher GDP should have more access to vaccines and the vaccines have been proven to lower excessive mortality rates in countries, but for some reason countries with a higher GDP per capita do not consistently outperform countries with a lower GDP per capita. This could be due to an inconsistency in recording the data, due to a lack of resources, which occurs more often in countries with a lower GDP per capita. On the other hand, there could be legitimate reason to why sometimes countries with a lower GDP per capita have performed better. For example: countries with a lower GDP per capita have a lower median age, which leads to a lower mortality rate.\n",
    "\n"
   ]
  },
  {
   "cell_type": "markdown",
   "metadata": {},
   "source": [
    "### Reflection\n",
    "\n",
    "\n",
    "\n",
    "#### Work Distribution"
   ]
  },
  {
   "cell_type": "markdown",
   "metadata": {},
   "source": [
    "### References\n",
    "\n",
    "The links for these datasets are: \n",
    "OWID Covid-19: https://ourworldindata.org/coronavirus#deaths-and-cases-our-data-source\n",
    "GDP per capita: https://data.worldbank.org/indicator/NY.GDP.PCAP.PP.CD \n",
    "GDP per capita, PPP (current international $) | Data\n"
   ]
  }
 ],
 "metadata": {
  "kernelspec": {
   "display_name": "base",
   "language": "python",
   "name": "python3"
  },
  "language_info": {
   "codemirror_mode": {
    "name": "ipython",
    "version": 3
   },
   "file_extension": ".py",
   "mimetype": "text/x-python",
   "name": "python",
   "nbconvert_exporter": "python",
   "pygments_lexer": "ipython3",
   "version": "3.10.12"
  }
 },
 "nbformat": 4,
 "nbformat_minor": 2
}
